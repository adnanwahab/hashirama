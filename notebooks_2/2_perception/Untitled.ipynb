{
 "cells": [
  {
   "cell_type": "code",
   "execution_count": 5,
   "id": "50f80703-b085-4977-a1d7-0b9a9052497b",
   "metadata": {},
   "outputs": [
    {
     "name": "stdout",
     "output_type": "stream",
     "text": [
      "      11 views/blog/archetypes-are a-tool-for-discovery.md\n",
      "       1 views/blog/best-practices-for-data-pipelines.md\n",
      "     307 views/blog/completing-alan-kay's-ideas-will-create-a-eutopia-in 5-years.md\n",
      "      80 views/blog/constitution-of-the-future.md\n",
      "      23 views/blog/cost-effective-useful-robotics.html\n",
      "     291 views/blog/debunking-the-nonsense-of-iq.md\n",
      "      14 views/blog/every-research-paper-zoox-waymo-visualized.md\n",
      "      70 views/blog/future-of-math-education-with-llms-and-living-animation.md\n",
      "      22 views/blog/genetic-engineering-satori.md\n",
      "     152 views/blog/how-to-create-infinite-jobs-with-robotic-art.md\n",
      "       4 views/blog/mathematical-attention.md\n",
      "       8 views/blog/mini-percpetion-pipeline.md\n",
      "      91 views/blog/prototyping-a-robot-capable-of-general-medicine.md\n",
      "      48 views/blog/reconstructing-medicine-assisting-diagnosis-and-the-hospital-of-the-future.md\n",
      "       0 views/blog/safety-simulation-test.md\n",
      "       0 views/blog/stabilizing-ci-and-simulation-infrastructure.md\n",
      "       0 views/blog/the-beauty-of-the-constituion.md\n",
      "      40 views/blog/the-ultimate-truth.md\n",
      "    1162 total\n"
     ]
    }
   ],
   "source": [
    "! wc -l views/blog/*"
   ]
  },
  {
   "cell_type": "code",
   "execution_count": 7,
   "id": "e70ed22b-9f53-4a37-8e1d-dd5188f38fca",
   "metadata": {},
   "outputs": [
    {
     "name": "stdout",
     "output_type": "stream",
     "text": [
      "      18\n"
     ]
    }
   ],
   "source": [
    "! ls -l views/blog/* | wc -l "
   ]
  }
 ],
 "metadata": {
  "kernelspec": {
   "display_name": "Python 3 (ipykernel)",
   "language": "python",
   "name": "python3"
  },
  "language_info": {
   "codemirror_mode": {
    "name": "ipython",
    "version": 3
   },
   "file_extension": ".py",
   "mimetype": "text/x-python",
   "name": "python",
   "nbconvert_exporter": "python",
   "pygments_lexer": "ipython3",
   "version": "3.12.3"
  }
 },
 "nbformat": 4,
 "nbformat_minor": 5
}
