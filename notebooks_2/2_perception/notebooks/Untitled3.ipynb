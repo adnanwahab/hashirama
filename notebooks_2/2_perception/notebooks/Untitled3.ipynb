{
 "cells": [
  {
   "cell_type": "code",
   "execution_count": 2,
   "id": "7dc6726a",
   "metadata": {},
   "outputs": [],
   "source": [
    "better_continents = {\"Cape-Town--Western-Cape--South-Africa\": \"africa\", \"Bangkok--Central-Thailand--Thailand\": \"asia\", \"Beijing--Beijing--China\": \"asia\", \"Hong-Kong--Hong-Kong--China\": \"asia\", \"Istanbul--Marmara--Turkey\": \"asia\", \"Shanghai--Shanghai--China\": \"asia\", \"Singapore--Singapore--Singapore\": \"asia\", \"Taipei--Northern-Taiwan--Taiwan\": \"asia\", \"Tokyo--Japan\": \"asia\", \"Barossa-Valley--South-Australia--Australia\": \"australia-oceania\", \"Barwon-South-West--Vic--Victoria--Australia\": \"australia-oceania\", \"Melbourne--Victoria--Australia\": \"australia-oceania\", \"Mid-North-Coast--New-South-Wales--Australia\": \"australia-oceania\", \"Mornington-Peninsula--Victoria--Australia\": \"australia-oceania\", \"Northern-Rivers--New-South-Wales--Australia\": \"australia-oceania\", \"Sydney--New-South-Wales--Australia\": \"australia-oceania\", \"Tasmania--Tasmania--Australia\": \"australia-oceania\", \"Western-Australia--Western-Australia--Australia\": \"australia-oceania\", \"Belize--Belize--Belize\": \"central-america\", \"Amsterdam--North-Holland--The-Netherlands\": \"europe\", \"Twin-Cities-MSA--Minnesota--United-States\": \"north-america\", \"Vancouver--British-Columbia--Canada\": \"north-america\", \"Victoria--British-Columbia--Canada\": \"north-america\", \"Washington--D.C.--District-of-Columbia--United-States\": \"north-america\", \"Winnipeg--Manitoba--Canada\": \"north-america\", \"Buenos-Aires--Ciudad-Aut\\\\u00f3noma-de-Buenos-Aires--Argentina\": \"south-america\", \"Rio-de-Janeiro--Rio-de-Janeiro--Brazil\": \"south-america\", \"Santiago--Regi\\\\u00f3n-Metropolitana-de-Santiago--Chile\": \"south-america\"}"
   ]
  },
  {
   "cell_type": "code",
   "execution_count": 4,
   "id": "f18b711e",
   "metadata": {},
   "outputs": [
    {
     "name": "stdout",
     "output_type": "stream",
     "text": [
      "osmfilter ../osm/Amsterdam--North-Holland--The-Netherlands.osm --keep=\"amenity=*\" --ignore-dependencies -o=../osm/Amsterdam--North-Holland--The-Netherlands_amenities.osm\n",
      "osmfilter ../osm/Bangkok--Central-Thailand--Thailand.osm --keep=\"amenity=*\" --ignore-dependencies -o=../osm/Bangkok--Central-Thailand--Thailand_amenities.osm\n",
      "osmfilter ../osm/Barossa-Valley--South-Australia--Australia.osm --keep=\"amenity=*\" --ignore-dependencies -o=../osm/Barossa-Valley--South-Australia--Australia_amenities.osm\n",
      "osmfilter ../osm/Barwon-South-West--Vic--Victoria--Australia.osm --keep=\"amenity=*\" --ignore-dependencies -o=../osm/Barwon-South-West--Vic--Victoria--Australia_amenities.osm\n",
      "osmfilter ../osm/Beijing--Beijing--China.osm --keep=\"amenity=*\" --ignore-dependencies -o=../osm/Beijing--Beijing--China_amenities.osm\n",
      "osmfilter ../osm/Belize--Belize--Belize.osm --keep=\"amenity=*\" --ignore-dependencies -o=../osm/Belize--Belize--Belize_amenities.osm\n",
      "osmfilter ../osm/Cape-Town--Western-Cape--South-Africa.osm --keep=\"amenity=*\" --ignore-dependencies -o=../osm/Cape-Town--Western-Cape--South-Africa_amenities.osm\n",
      "osmfilter ../osm/Hong-Kong--Hong-Kong--China.osm --keep=\"amenity=*\" --ignore-dependencies -o=../osm/Hong-Kong--Hong-Kong--China_amenities.osm\n",
      "osmfilter ../osm/Istanbul--Marmara--Turkey.osm --keep=\"amenity=*\" --ignore-dependencies -o=../osm/Istanbul--Marmara--Turkey_amenities.osm\n",
      "osmfilter ../osm/Melbourne--Victoria--Australia.osm --keep=\"amenity=*\" --ignore-dependencies -o=../osm/Melbourne--Victoria--Australia_amenities.osm\n",
      "osmfilter ../osm/Mid-North-Coast--New-South-Wales--Australia.osm --keep=\"amenity=*\" --ignore-dependencies -o=../osm/Mid-North-Coast--New-South-Wales--Australia_amenities.osm\n",
      "osmfilter ../osm/Mornington-Peninsula--Victoria--Australia.osm --keep=\"amenity=*\" --ignore-dependencies -o=../osm/Mornington-Peninsula--Victoria--Australia_amenities.osm\n",
      "osmfilter ../osm/Northern-Rivers--New-South-Wales--Australia.osm --keep=\"amenity=*\" --ignore-dependencies -o=../osm/Northern-Rivers--New-South-Wales--Australia_amenities.osm\n",
      "osmfilter ../osm/Rio-de-Janeiro--Rio-de-Janeiro--Brazil.osm --keep=\"amenity=*\" --ignore-dependencies -o=../osm/Rio-de-Janeiro--Rio-de-Janeiro--Brazil_amenities.osm\n",
      "osmfilter ../osm/Shanghai--Shanghai--China.osm --keep=\"amenity=*\" --ignore-dependencies -o=../osm/Shanghai--Shanghai--China_amenities.osm\n",
      "osmfilter ../osm/Singapore--Singapore--Singapore.osm --keep=\"amenity=*\" --ignore-dependencies -o=../osm/Singapore--Singapore--Singapore_amenities.osm\n",
      "osmfilter ../osm/Sydney--New-South-Wales--Australia.osm --keep=\"amenity=*\" --ignore-dependencies -o=../osm/Sydney--New-South-Wales--Australia_amenities.osm\n",
      "osmfilter ../osm/Taipei--Northern-Taiwan--Taiwan.osm --keep=\"amenity=*\" --ignore-dependencies -o=../osm/Taipei--Northern-Taiwan--Taiwan_amenities.osm\n",
      "osmfilter ../osm/Tasmania--Tasmania--Australia.osm --keep=\"amenity=*\" --ignore-dependencies -o=../osm/Tasmania--Tasmania--Australia_amenities.osm\n",
      "osmfilter ../osm/Tokyo--Japan.osm --keep=\"amenity=*\" --ignore-dependencies -o=../osm/Tokyo--Japan_amenities.osm\n",
      "osmfilter ../osm/Twin-Cities-MSA--Minnesota--United-States.osm --keep=\"amenity=*\" --ignore-dependencies -o=../osm/Twin-Cities-MSA--Minnesota--United-States_amenities.osm\n",
      "osmfilter ../osm/Vancouver--British-Columbia--Canada.osm --keep=\"amenity=*\" --ignore-dependencies -o=../osm/Vancouver--British-Columbia--Canada_amenities.osm\n",
      "osmfilter ../osm/Victoria--British-Columbia--Canada.osm --keep=\"amenity=*\" --ignore-dependencies -o=../osm/Victoria--British-Columbia--Canada_amenities.osm\n",
      "osmfilter ../osm/Washington--D.C.--District-of-Columbia--United-States.osm --keep=\"amenity=*\" --ignore-dependencies -o=../osm/Washington--D.C.--District-of-Columbia--United-States_amenities.osm\n",
      "osmfilter ../osm/Western-Australia--Western-Australia--Australia.osm --keep=\"amenity=*\" --ignore-dependencies -o=../osm/Western-Australia--Western-Australia--Australia_amenities.osm\n",
      "osmfilter ../osm/Winnipeg--Manitoba--Canada.osm --keep=\"amenity=*\" --ignore-dependencies -o=../osm/Winnipeg--Manitoba--Canada_amenities.osm\n",
      "All subprocesses have completed!\n"
     ]
    }
   ],
   "source": [
    "import json\n",
    "city_locations = json.load(open('/Users/adnanwahab/cooperation.party/data/airbnb/city_locations.json'))\n",
    "\n",
    "import os\n",
    "import subprocess\n",
    "import time \n",
    "base_name = '../osm/'\n",
    "#print(os.listdir(base_name))\n",
    "processes = []\n",
    "for city in city_locations:\n",
    "    location = city_locations[city]\n",
    "    coord = (location['longitude'], location['latitude'])\n",
    "    min_lon = coord[0] - 1\n",
    "    max_lon = coord[0] + 1\n",
    "    min_lat = coord[1] - 1\n",
    "    max_lat = coord[1] + 1\n",
    "    if city not in better_continents: continue\n",
    "    continent = better_continents[city].replace(' ', '-')\n",
    "    #print(continent)\n",
    "    #req = f\"osmium extract --overwrite --bbox={min_lon},{min_lat},{max_lon},{max_lat} -o \\\"{base_name}{city}.osm\\\" \\\"{base_name}{continent}-latest.osm.pbf\\\"\"\n",
    "    req = f'osmfilter {base_name}{city}.osm --keep=\"amenity=*\" --ignore-dependencies -o={base_name}{city}_amenities.osm'\n",
    "    result = subprocess.Popen(req, shell=True, stdout=subprocess.PIPE, stderr=subprocess.PIPE)\n",
    "    processes.append(result)\n",
    "#     print(result.stdout.decode())\n",
    "#     print(result.stderr.decode())\n",
    "    print(req)\n",
    "# for continent in set(better_continents.values()):    \n",
    "\n",
    "while True:\n",
    "    # Check if all processes have finished\n",
    "    if all(proc.poll() is not None for proc in processes):\n",
    "        break\n",
    "    time.sleep(1)\n",
    "print(\"All subprocesses have completed!\")\n"
   ]
  }
 ],
 "metadata": {
  "kernelspec": {
   "display_name": "Python 3 (ipykernel)",
   "language": "python",
   "name": "python3"
  },
  "language_info": {
   "codemirror_mode": {
    "name": "ipython",
    "version": 3
   },
   "file_extension": ".py",
   "mimetype": "text/x-python",
   "name": "python",
   "nbconvert_exporter": "python",
   "pygments_lexer": "ipython3",
   "version": "3.9.13"
  }
 },
 "nbformat": 4,
 "nbformat_minor": 5
}
