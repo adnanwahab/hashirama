{
 "cells": [
  {
   "cell_type": "code",
   "execution_count": 3,
   "id": "8b3bea3b",
   "metadata": {},
   "outputs": [
    {
     "data": {
      "text/plain": [
       "['carrot']"
      ]
     },
     "execution_count": 3,
     "metadata": {},
     "output_type": "execute_result"
    }
   ],
   "source": [
    "a = {'carrot': '123'}\n",
    "\n",
    "sorted(a)"
   ]
  },
  {
   "cell_type": "code",
   "execution_count": 2,
   "id": "0aaa5bcd",
   "metadata": {},
   "outputs": [
    {
     "name": "stdout",
     "output_type": "stream",
     "text": [
      "    <member type=\"way\" ref=\"229820669\" role=\"\"/>\r\n",
      "    <member type=\"way\" ref=\"1214696509\" role=\"\"/>\r\n",
      "    <member type=\"way\" ref=\"1214696510\" role=\"\"/>\r\n",
      "    <tag k=\"name\" v=\"Tanilba Bay - Lemon Tree Passage\"/>\r\n",
      "    <tag k=\"network\" v=\"lcn\"/>\r\n",
      "    <tag k=\"ref\" v=\"TB2LTP\"/>\r\n",
      "    <tag k=\"route\" v=\"bicycle\"/>\r\n",
      "    <tag k=\"type\" v=\"route\"/>\r\n",
      "  </relation>\r\n",
      "</osm>\r\n"
     ]
    }
   ],
   "source": [
    "#Belize--Belize--Belize.osm\n",
    "! tail -n 10 ../osm/Mid-North-Coast--New-South-Wales--Australia.osm\n",
    "\n",
    "\n",
    "\n",
    "\n",
    "\n"
   ]
  },
  {
   "cell_type": "code",
   "execution_count": 1,
   "id": "24684927",
   "metadata": {},
   "outputs": [
    {
     "name": "stdout",
     "output_type": "stream",
     "text": [
      "50\n"
     ]
    }
   ],
   "source": [
    "print(50)"
   ]
  }
 ],
 "metadata": {
  "kernelspec": {
   "display_name": "Python 3 (ipykernel)",
   "language": "python",
   "name": "python3"
  },
  "language_info": {
   "codemirror_mode": {
    "name": "ipython",
    "version": 3
   },
   "file_extension": ".py",
   "mimetype": "text/x-python",
   "name": "python",
   "nbconvert_exporter": "python",
   "pygments_lexer": "ipython3",
   "version": "3.9.13"
  }
 },
 "nbformat": 4,
 "nbformat_minor": 5
}
