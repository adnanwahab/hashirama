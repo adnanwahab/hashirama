{
 "cells": [
  {
   "cell_type": "code",
   "execution_count": 22,
   "id": "ceb75638",
   "metadata": {},
   "outputs": [
    {
     "ename": "FileNotFoundError",
     "evalue": "[Errno 2] No such file or directory: '../data/airbnb/columns'",
     "output_type": "error",
     "traceback": [
      "\u001b[0;31m---------------------------------------------------------------------------\u001b[0m",
      "\u001b[0;31mFileNotFoundError\u001b[0m                         Traceback (most recent call last)",
      "Cell \u001b[0;32mIn[22], line 2\u001b[0m\n\u001b[1;32m      1\u001b[0m \u001b[38;5;28;01mimport\u001b[39;00m \u001b[38;5;21;01mos\u001b[39;00m \n\u001b[0;32m----> 2\u001b[0m _ \u001b[38;5;241m=\u001b[39m {_: json\u001b[38;5;241m.\u001b[39mload(\u001b[38;5;28mopen\u001b[39m(\u001b[38;5;124m'\u001b[39m\u001b[38;5;124m../data/airbnb/columns/\u001b[39m\u001b[38;5;124m'\u001b[39m\u001b[38;5;241m+\u001b[39m_)) \u001b[38;5;28;01mfor\u001b[39;00m _ \u001b[38;5;129;01min\u001b[39;00m \u001b[43mos\u001b[49m\u001b[38;5;241;43m.\u001b[39;49m\u001b[43mlistdir\u001b[49m\u001b[43m(\u001b[49m\u001b[38;5;124;43m'\u001b[39;49m\u001b[38;5;124;43m../data/airbnb/columns\u001b[39;49m\u001b[38;5;124;43m'\u001b[39;49m\u001b[43m)\u001b[49m}\n",
      "\u001b[0;31mFileNotFoundError\u001b[0m: [Errno 2] No such file or directory: '../data/airbnb/columns'"
     ]
    }
   ],
   "source": [
    "import os \n",
    "_ = {_: json.load(open('../data/airbnb/columns/'+_)) for _ in os.listdir('../data/airbnb/columns')}\n",
    "\n",
    "\n",
    "\n",
    "#for every house on osm \n",
    "#get all open listings from zillow, redfin, compass, realtor, etc. \n",
    "\n",
    "#for list of airbnbs\n",
    "#get the estimated revenue of each one for a year - \n",
    "#id=0 36,000\n",
    "\n",
    "\n",
    "\n",
    "\n",
    "#city view \n",
    "#show calendar availability on map -> thse areas are fully booked \n",
    "\n",
    "\n",
    "#given 100k, and a lat long, \n",
    "#find houses in radius\n",
    "#find airbnbs in radius\n",
    "\n",
    "\n",
    "#for each house, find similar airbnb -> set estimated revenue to this number\n",
    "\n",
    "\n",
    "\n",
    "#find houses that match 100k down payment\n",
    "#\n",
    "\n",
    "\n",
    "\n",
    "\n",
    "#for each city\n",
    "\n",
    "# print a list of houses that can make how much $ on airbnb -> best deals\n",
    "\n",
    "\n",
    "\n",
    "\n",
    "\n",
    "\n",
    "#i live at 20418 autumn shore drive, i dont have a zillow\n",
    "#but i want to see how much revenue  i would get if i rented out a room\n",
    "#find nearest airbnb -> show revenue \n",
    "#"
   ]
  },
  {
   "cell_type": "code",
   "execution_count": 5,
   "id": "f3341394",
   "metadata": {},
   "outputs": [
    {
     "data": {
      "text/plain": [
       "'<!DOCTYPE html>\\n<html lang=\"en\">\\n<head>\\n    <meta charset=\"utf-8\">\\n    <meta name=\"viewport\" content=\"width=device-width, initial-scale=1\">\\n    <meta name=\"description\" content=\"px-captcha\">\\n    <title>Access to this page has been denied</title>\\n    \\n</head>\\n<body>\\n<script>\\n    /* PerimeterX assignments */\\n    window._pxVid = \\'\\';\\n    window._pxUuid = \\'b6a96c53-6e15-11ee-8f00-b7f921dbc2fc\\';\\n    window._pxAppId = \\'PXHYx10rg3\\';\\n    window._pxMobile = false;\\n    window._pxHostUrl = \\'/HYx10rg3/xhr\\';\\n    window._pxCustomLogo = \\'https://www.zillowstatic.com/s3/pfs/static/z-logo-default.svg\\';\\n    window._pxJsClientSrc = \\'/HYx10rg3/init.js\\';\\n    window._pxFirstPartyEnabled = true;\\n    var pxCaptchaSrc = \\'/HYx10rg3/captcha/captcha.js?a=c&u=b6a96c53-6e15-11ee-8f00-b7f921dbc2fc&v=&m=0\\';\\n\\n    var script = document.createElement(\\'script\\');\\n    script.src = pxCaptchaSrc;\\n    script.onerror = function () {\\n        script = document.createElement(\\'script\\');\\n        script.src = \\'https://captcha.px-cloud.net/PXHYx10rg3/captcha.js?a=c&amp;u=b6a96c53-6e15-11ee-8f00-b7f921dbc2fc&amp;v=&amp;m=0\\';\\n        script.onerror = window._pxOnError;\\n        document.head.appendChild(script);\\n    };\\n    window._pxOnError = function () {\\n        var style = document.createElement(\\'style\\');\\n        style.innerText = \\'@import url(https://fonts.googleapis.com/css2?family=Roboto:ital,wght@0,100;0,300;0,400;0,500;0,700;0,900;1,100;1,300;1,400;1,500;1,700;1,900&display=swap);body{background-color:#fafbfc}.px-captcha-error-container{position:fixed;height:340px;background-color:#fff;font-family:Roboto,sans-serif}.px-captcha-error-header{color:#f0f1f2;font-size:29px;margin:67px 0 33px;font-weight:500;line-height:.83;text-align:center}.px-captcha-error-message{color:#f0f1f2;font-size:18px;margin:0 0 29px;line-height:1.33;text-align:center}.px-captcha-error-button{text-align:center;line-height:48px;width:253px;margin:auto;border-radius:50px;border:solid 1px #f0f1f2;font-size:20px;color:#f0f1f2}.px-captcha-error-wrapper{margin:18px 0 0}div.px-captcha-error{margin:auto;text-align:center;width:400px;height:30px;font-size:12px;background-color:#fcf0f2;color:#ce0e2d}img.px-captcha-error{margin:6px 8px -2px 0}.px-captcha-error-refid{border-top:solid 1px #f0eeee;height:27px;margin:13px 0 0;border-radius:0 0 3px 3px;background-color:#fafbfc;font-size:10px;line-height:2.5;text-align:center;color:#b1b5b8}@media (min-width:620px){.px-captcha-error-container{width:530px;top:50%;left:50%;margin-top:-170px;margin-left:-265px;border-radius:3px;box-shadow:0 2px 9px -1px rgba(0,0,0,.13)}}@media (min-width:481px) and (max-width:620px){.px-captcha-error-container{width:85%;top:50%;left:50%;margin-top:-170px;margin-left:-42.5%;border-radius:3px;box-shadow:0 2px 9px -1px rgba(0,0,0,.13)}}@media (max-width:480px){body{background-color:#fff}.px-captcha-error-header{color:#f0f1f2;font-size:29px;margin:55px 0 33px}.px-captcha-error-container{width:530px;top:50%;left:50%;margin-top:-170px;margin-left:-265px}.px-captcha-error-refid{position:fixed;width:100%;left:0;bottom:0;border-radius:0;font-size:14px;line-height:2}}@media (max-width:390px){div.px-captcha-error{font-size:10px}.px-captcha-error-refid{font-size:11px;line-height:2.5}}\\';\\n        document.head.appendChild(style);\\n        var div = document.createElement(\\'div\\');\\n        div.className = \\'px-captcha-error-container\\';\\n        div.innerHTML = \\'<div class=\"px-captcha-error-header\">Before we continue...</div><div class=\"px-captcha-error-message\">Press & Hold to confirm you are<br>a human (and not a bot).</div><div class=\"px-captcha-error-button\">Press & Hold</div><div class=\"px-captcha-error-wrapper\"><div class=\"px-captcha-error\"><img class=\"px-captcha-error\" src=\"data:image/png;base64,iVBORw0KGgoAAAANSUhEUgAAABMAAAAQCAMAAADDGrRQAAAABGdBTUEAALGPC/xhBQAAAAFzUkdCAK7OHOkAAABFUExURUdwTNYELOEGONQILd0AONwALtwEL+AAL9MFLfkJSNQGLdMJLdQJLdQGLdQKLtYFLNcELdUGLdcBL9gFL88OLdUFLNEOLglBhT4AAAAXdFJOUwC8CqgNIRgRoAS1dWWuR4RTjzgryZpYblfkcAAAAI9JREFUGNNdj+sWhCAIhAdvqGVa1r7/oy6RZ7eaH3D4ZACBIed9wlOOMtUnSrEmZ6cHa9YAIfsbCkWrdpi/c50Bk2CO9mNLdMAu03wJA3HpEnfpxbyOg6ruyx8JJi6KNstnslp1dbPd9GnqmuYq7mmcv1zjnbQw8cV0xzkqo+fX1zkjUOO7wnrInUTxJiruC3vtBNRoQQn2AAAAAElFTkSuQmCC\">Please check your internet connection\\' + (window._pxMobile ? \\'\\' : \\' or disable your ad-blocker\\') + \\'.</div></div><div class=\"px-captcha-error-refid\">Reference ID \\' + window._pxUuid + \\'</div>\\';\\n        document.body.appendChild(div);\\n        if (window._pxMobile) {\\n            setTimeout(function() {\\n                location.href = \\'/px/captcha_close?status=-1\\';\\n            }, 5000);\\n        }\\n    };\\n    document.head.appendChild(script);\\n</script>\\n\\n</body>\\n</html>\\n'"
      ]
     },
     "execution_count": 5,
     "metadata": {},
     "output_type": "execute_result"
    }
   ],
   "source": [
    "\n",
    "#code from nothing\n",
    "#like nothing\n",
    "#yes white mans burden be damned\n",
    "they' are letting you know for when they leave without you know ing. got ging it\n",
    "CZUSES they \n",
    "wanted \n",
    "noting\n",
    "bettter\n",
    "than a better\n",
    "world\n",
    "got it\n",
    "just code\n"
   ]
  }
 ],
 "metadata": {
  "kernelspec": {
   "display_name": "Python 3 (ipykernel)",
   "language": "python",
   "name": "python3"
  },
  "language_info": {
   "codemirror_mode": {
    "name": "ipython",
    "version": 3
   },
   "file_extension": ".py",
   "mimetype": "text/x-python",
   "name": "python",
   "nbconvert_exporter": "python",
   "pygments_lexer": "ipython3",
   "version": "3.9.13"
  }
 },
 "nbformat": 4,
 "nbformat_minor": 5
}
