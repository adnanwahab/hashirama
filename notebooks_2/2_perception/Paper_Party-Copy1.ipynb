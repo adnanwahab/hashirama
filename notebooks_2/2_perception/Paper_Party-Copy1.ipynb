{
 "cells": [
  {
   "cell_type": "code",
   "execution_count": 1,
   "id": "40d75b22-909b-445d-9dba-c7bfe9b69a4d",
   "metadata": {},
   "outputs": [
    {
     "name": "stdout",
     "output_type": "stream",
     "text": [
      "config.toml  gomod2nix.toml  Paper_Party.ipynb  \u001b[0m\u001b[01;34mstatic\u001b[0m/         \u001b[01;34mviews\u001b[0m/\n",
      "favicon.ico  go.sum          pyproject.toml     Untitled.ipynb\n",
      "flake.nix    hello.py        README.md          uv.lock\n",
      "go.mod       \u001b[01;32mmyapp\u001b[0m*          \u001b[01;34msrc\u001b[0m/               \u001b[01;34mvendor\u001b[0m/\n"
     ]
    }
   ],
   "source": [
    "ls"
   ]
  },
  {
   "cell_type": "code",
   "execution_count": 4,
   "id": "c193e91e-e5d1-4a0c-b54a-4163fec42de3",
   "metadata": {},
   "outputs": [
    {
     "name": "stdout",
     "output_type": "stream",
     "text": [
      "\u001b[2mAudited \u001b[1m2 packages\u001b[0m \u001b[2min 0.92ms\u001b[0m\u001b[0m\n"
     ]
    },
    {
     "ename": "HTTPError",
     "evalue": "429 Client Error: Too Many Requests for url: https://scholar.google.de/citations?user=ZKtYLHwAAAAJ&hl=de",
     "output_type": "error",
     "traceback": [
      "\u001b[0;31m---------------------------------------------------------------------------\u001b[0m",
      "\u001b[0;31mHTTPError\u001b[0m                                 Traceback (most recent call last)",
      "Cell \u001b[0;32mIn[4], line 13\u001b[0m\n\u001b[1;32m     11\u001b[0m \u001b[38;5;66;03m# Send a GET request to fetch the raw HTML content\u001b[39;00m\n\u001b[1;32m     12\u001b[0m response \u001b[38;5;241m=\u001b[39m requests\u001b[38;5;241m.\u001b[39mget(url)\n\u001b[0;32m---> 13\u001b[0m \u001b[43mresponse\u001b[49m\u001b[38;5;241;43m.\u001b[39;49m\u001b[43mraise_for_status\u001b[49m\u001b[43m(\u001b[49m\u001b[43m)\u001b[49m  \u001b[38;5;66;03m# Check for any HTTP errors\u001b[39;00m\n\u001b[1;32m     15\u001b[0m \u001b[38;5;66;03m# Parse the HTML content with BeautifulSoup\u001b[39;00m\n\u001b[1;32m     16\u001b[0m soup \u001b[38;5;241m=\u001b[39m BeautifulSoup(response\u001b[38;5;241m.\u001b[39mtext, \u001b[38;5;124m'\u001b[39m\u001b[38;5;124mhtml.parser\u001b[39m\u001b[38;5;124m'\u001b[39m)\n",
      "File \u001b[0;32m~/.cache/uv/archive-v0/1My9jT3WRkgoev0rNo1xw/lib/python3.12/site-packages/requests/models.py:1024\u001b[0m, in \u001b[0;36mResponse.raise_for_status\u001b[0;34m(self)\u001b[0m\n\u001b[1;32m   1019\u001b[0m     http_error_msg \u001b[38;5;241m=\u001b[39m (\n\u001b[1;32m   1020\u001b[0m         \u001b[38;5;124mf\u001b[39m\u001b[38;5;124m\"\u001b[39m\u001b[38;5;132;01m{\u001b[39;00m\u001b[38;5;28mself\u001b[39m\u001b[38;5;241m.\u001b[39mstatus_code\u001b[38;5;132;01m}\u001b[39;00m\u001b[38;5;124m Server Error: \u001b[39m\u001b[38;5;132;01m{\u001b[39;00mreason\u001b[38;5;132;01m}\u001b[39;00m\u001b[38;5;124m for url: \u001b[39m\u001b[38;5;132;01m{\u001b[39;00m\u001b[38;5;28mself\u001b[39m\u001b[38;5;241m.\u001b[39murl\u001b[38;5;132;01m}\u001b[39;00m\u001b[38;5;124m\"\u001b[39m\n\u001b[1;32m   1021\u001b[0m     )\n\u001b[1;32m   1023\u001b[0m \u001b[38;5;28;01mif\u001b[39;00m http_error_msg:\n\u001b[0;32m-> 1024\u001b[0m     \u001b[38;5;28;01mraise\u001b[39;00m HTTPError(http_error_msg, response\u001b[38;5;241m=\u001b[39m\u001b[38;5;28mself\u001b[39m)\n",
      "\u001b[0;31mHTTPError\u001b[0m: 429 Client Error: Too Many Requests for url: https://scholar.google.de/citations?user=ZKtYLHwAAAAJ&hl=de"
     ]
    }
   ],
   "source": [
    "lol = 'https://scholar.google.de/citations?user=ZKtYLHwAAAAJ&hl=de'\n",
    "\n",
    "! uv pip install requests beautifulsoup4\n",
    "\n",
    "import requests\n",
    "from bs4 import BeautifulSoup\n",
    "\n",
    "# URL of the Google Scholar profile\n",
    "url = \"https://scholar.google.de/citations?user=ZKtYLHwAAAAJ&hl=de\"\n",
    "\n",
    "# Send a GET request to fetch the raw HTML content\n",
    "\n",
    "\n",
    "# If you want to extract other details, like the year or citation count, you can do so by locating other elements within the table.\n"
   ]
  },
  {
   "cell_type": "code",
   "execution_count": null,
   "id": "cb675e33-29e1-4d26-986a-df5007c7afae",
   "metadata": {},
   "outputs": [],
   "source": [
    "response = requests.get(url)\n",
    "response.raise_for_status()  # Check for any HTTP errors\n",
    "\n",
    "# Parse the HTML content with BeautifulSoup\n",
    "soup = BeautifulSoup(response.text, 'html.parser')\n",
    "\n",
    "# Find all paper titles (they are within <a> tags under the class 'gsc_a_at')\n",
    "papers = soup.find_all('a', class_='gsc_a_at')\n",
    "\n",
    "import time\n",
    "\n",
    "# Print out the titles of the papers\n",
    "for paper in papers:\n",
    "    time.sleep(5000)\n",
    "    print(paper.get_text())"
   ]
  }
 ],
 "metadata": {
  "kernelspec": {
   "display_name": "Python 3 (ipykernel)",
   "language": "python",
   "name": "python3"
  },
  "language_info": {
   "codemirror_mode": {
    "name": "ipython",
    "version": 3
   },
   "file_extension": ".py",
   "mimetype": "text/x-python",
   "name": "python",
   "nbconvert_exporter": "python",
   "pygments_lexer": "ipython3",
   "version": "3.12.3"
  }
 },
 "nbformat": 4,
 "nbformat_minor": 5
}
