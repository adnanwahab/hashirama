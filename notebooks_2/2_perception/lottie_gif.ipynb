{
 "cells": [
  {
   "cell_type": "code",
   "execution_count": null,
   "id": "c95cbf19-39de-4b4e-906e-37891f968cd6",
   "metadata": {},
   "outputs": [],
   "source": [
    "# contour from gimp.vectorlib or cv2\n",
    "# sobel\n",
    "# semseg\n",
    "# \n",
    "\n",
    "jpg_files = [\n",
    "    \"frame_6825.jpg\", \"frame_6826.jpg\", \"frame_6827.jpg\", \"frame_6828.jpg\", \n",
    "    \"frame_6829.jpg\", \"frame_6830.jpg\", \"frame_6832.jpg\", \"frame_6833.jpg\", \n",
    "    \"frame_6834.jpg\"\n",
    "]\n",
    "\n",
    "\n",
    "\n",
    "\n",
    "\n",
    "\n",
    "svg_urls = [\n",
    "    \"https://shels-macbook-pro.jerboa-kokanue.ts.net/static/lottie/frame_6831.svg\"\n",
    "]\n",
    "\n",
    "\n",
    "\n",
    "\n",
    "\n",
    "def download_files(urls):\n",
    "    [os.system(f'wget {url}') for url in urls]\n",
    "\n",
    "\n",
    "\n",
    "\n",
    "for _ in jpg_files: download_files(\"https://shels-macbook-pro.jerboa-kokanue.ts.net/static/lottie/\" + _ )"
   ]
  },
  {
   "cell_type": "code",
   "execution_count": null,
   "id": "2040c67e-c646-47a8-9f24-024e988289f4",
   "metadata": {},
   "outputs": [],
   "source": [
    "! wget  \"https://shels-macbook-pro.jerboa-kokanue.ts.net/ls/static/lottie\""
   ]
  },
  {
   "cell_type": "code",
   "execution_count": 8,
   "id": "f63d5550-f0e1-4cf5-b054-a2ac08ec271f",
   "metadata": {},
   "outputs": [
    {
     "name": "stdout",
     "output_type": "stream",
     "text": [
      "[main 4b687ec2] asdfaf yay\n",
      " 3 files changed, 790 insertions(+), 5 deletions(-)\n",
      "remote: Enumerating objects: 743, done.\u001b[K\n",
      "remote: Counting objects: 100% (743/743), done.\u001b[K\n",
      "remote: Compressing objects: 100% (480/480), done.\u001b[K\n",
      "remote: Total 743 (delta 228), reused 742 (delta 227), pack-reused 0 (from 0)\u001b[K\n",
      "Receiving objects: 100% (743/743), 89.55 MiB | 12.17 MiB/s, done.\n",
      "Resolving deltas: 100% (228/228), completed with 18 local objects.\n",
      "From github.com:adnanwahab/hashirama-private\n",
      " * branch              HEAD       -> FETCH_HEAD\n",
      "\u001b[KSuccessfully rebased and updated refs/heads/main.\n"
     ]
    }
   ],
   "source": [
    "! git commit -am 'asdfaf yay'\n",
    "\n",
    "! git pull origin HEAD"
   ]
  },
  {
   "cell_type": "code",
   "execution_count": 12,
   "id": "4493feb2-d1e8-4f8b-97d3-1f20039c2c63",
   "metadata": {},
   "outputs": [
    {
     "data": {
      "text/plain": [
       "['demos',\n",
       " 'Screenshot 2024-09-30 at 5.24.06\\u202fPM.png',\n",
       " 'live-kit-uploader',\n",
       " 'latent-scope',\n",
       " 'data',\n",
       " 'Sitemap.xml',\n",
       " 'obs3-breakout',\n",
       " 'alan_kay',\n",
       " 'webcam.jpg',\n",
       " 'assets',\n",
       " 'animated.gif',\n",
       " 'js',\n",
       " 'obs_landing',\n",
       " 'images',\n",
       " 'live-kit-client',\n",
       " 'pdfs',\n",
       " 'external',\n",
       " 'sensor_data',\n",
       " '.well-known',\n",
       " 'fonts',\n",
       " 'css']"
      ]
     },
     "execution_count": 12,
     "metadata": {},
     "output_type": "execute_result"
    }
   ],
   "source": [
    "import os \n",
    "\n",
    "_ = os.listdir(\"../homelab-status-page/static/\")\n",
    "_"
   ]
  },
  {
   "cell_type": "code",
   "execution_count": 23,
   "id": "43bf318f-a924-4bfc-a8c3-7219ce7ca1fb",
   "metadata": {},
   "outputs": [
    {
     "ename": "NameError",
     "evalue": "name 'lottie_shape' is not defined",
     "output_type": "error",
     "traceback": [
      "\u001b[0;31m---------------------------------------------------------------------------\u001b[0m",
      "\u001b[0;31mNameError\u001b[0m                                 Traceback (most recent call last)",
      "Cell \u001b[0;32mIn[23], line 113\u001b[0m\n\u001b[1;32m    111\u001b[0m output_file \u001b[38;5;241m=\u001b[39m \u001b[38;5;124m'\u001b[39m\u001b[38;5;124mlottie_animation.json\u001b[39m\u001b[38;5;124m'\u001b[39m\n\u001b[1;32m    112\u001b[0m \u001b[38;5;66;03m#layer.add_shape\u001b[39;00m\n\u001b[0;32m--> 113\u001b[0m output \u001b[38;5;241m=\u001b[39m \u001b[43mcreate_lottie_from_svgs\u001b[49m\u001b[43m(\u001b[49m\u001b[43msvg_files\u001b[49m\u001b[43m,\u001b[49m\u001b[43m \u001b[49m\u001b[43moutput_file\u001b[49m\u001b[43m)\u001b[49m\n\u001b[1;32m    116\u001b[0m \u001b[38;5;66;03m# Creating a Lottie object with 5 layers from SVGs\u001b[39;00m\n\u001b[1;32m    117\u001b[0m layers \u001b[38;5;241m=\u001b[39m []\n",
      "Cell \u001b[0;32mIn[23], line 93\u001b[0m, in \u001b[0;36mcreate_lottie_from_svgs\u001b[0;34m(svg_files, output_file)\u001b[0m\n\u001b[1;32m     91\u001b[0m \u001b[38;5;28;01mfor\u001b[39;00m i, svg_file \u001b[38;5;129;01min\u001b[39;00m \u001b[38;5;28menumerate\u001b[39m(svg_files):\n\u001b[1;32m     92\u001b[0m     paths, _ \u001b[38;5;241m=\u001b[39m load_svg_paths(svg_file)\n\u001b[0;32m---> 93\u001b[0m     lottie_shapes \u001b[38;5;241m=\u001b[39m \u001b[43msvg_path_to_lottie_shape\u001b[49m\u001b[43m(\u001b[49m\u001b[43mpaths\u001b[49m\u001b[43m)\u001b[49m\n\u001b[1;32m     95\u001b[0m     layer \u001b[38;5;241m=\u001b[39m objects\u001b[38;5;241m.\u001b[39mShapeLayer()\n\u001b[1;32m     96\u001b[0m     \u001b[38;5;66;03m#layer.shapes[0].add_keyframe(i * 5, )\u001b[39;00m\n",
      "Cell \u001b[0;32mIn[23], line 84\u001b[0m, in \u001b[0;36msvg_path_to_lottie_shape\u001b[0;34m(svg_paths)\u001b[0m\n\u001b[1;32m     81\u001b[0m             layer\u001b[38;5;241m.\u001b[39madd_shape(objects\u001b[38;5;241m.\u001b[39mStroke(Color(\u001b[38;5;241m1\u001b[39m, \u001b[38;5;241m0\u001b[39m, \u001b[38;5;241m0\u001b[39m), \u001b[38;5;241m10\u001b[39m))\n\u001b[1;32m     83\u001b[0m   \u001b[38;5;66;03m# Add other path segment types as needed, e.g., CubicBezier, QuadraticBezier, etc.\u001b[39;00m\n\u001b[0;32m---> 84\u001b[0m     lottie_shapes\u001b[38;5;241m.\u001b[39mappend(\u001b[43mlottie_shape\u001b[49m)\n\u001b[1;32m     85\u001b[0m \u001b[38;5;28;01mreturn\u001b[39;00m lottie_shapes, an\n",
      "\u001b[0;31mNameError\u001b[0m: name 'lottie_shape' is not defined"
     ]
    }
   ],
   "source": [
    "\n",
    "# import json\n",
    "# from lottie import objects\n",
    "# import os\n",
    "\n",
    "# # Paths to the SVG files\n",
    "# svg_files = [\n",
    "\n",
    "# ]\n",
    "\n",
    "\n",
    "import os\n",
    "import json\n",
    "from svgpathtools import svg2paths\n",
    "from lottie import objects\n",
    "\n",
    "# Load and parse SVG paths\n",
    "def load_svg_paths(svg_file):\n",
    "    paths, attributes = svg2paths(svg_file)\n",
    "    return paths, attributes\n",
    "\n",
    "# Convert SVG paths to Lottie shapes\n",
    "def svg_path_to_lottie_shape(svg_paths):\n",
    "    lottie_shapes = []\n",
    "    for path in svg_paths:\n",
    "        lottie_shape = objects.Shape()\n",
    "        for segment in path:\n",
    "            if segment.__class__.__name__ == \"Line\":\n",
    "                lottie_shape.add_command(\n",
    "                    objects.commands.MoveTo(segment.start.real, segment.start.imag)\n",
    "                )\n",
    "                lottie_shape.add_command(\n",
    "                    objects.commands.LineTo(segment.end.real, segment.end.imag)\n",
    "                )\n",
    "            # Add other path segment types as needed, e.g., CubicBezier, QuadraticBezier, etc.\n",
    "        lottie_shapes.append(lottie_shape)\n",
    "    return lottie_shapes\n",
    "\n",
    " \n",
    " \n",
    "an = objects.Animation(59)\n",
    " \n",
    "layer = objects.ShapeLayer()\n",
    "an.add_layer(layer)\n",
    " \n",
    "\n",
    "\n",
    "\n",
    "import os\n",
    "import json\n",
    "from svgpathtools import svg2paths\n",
    "from lottie import objects\n",
    "from lottie.exporters import export_lottie  # Corrected import for exporting\n",
    "Point = lottie.Point\n",
    "\n",
    "\n",
    "Color = lottie.Color\n",
    "# Load and parse SVG paths\n",
    "def load_svg_paths(svg_file):\n",
    "    paths, attributes = svg2paths(svg_file)\n",
    "    return paths, attributes\n",
    "#objects.Path()\n",
    "# Convert SVG paths to Lottie shapes\n",
    "def svg_path_to_lottie_shape(svg_paths):\n",
    "    lottie_shapes = []\n",
    "     \n",
    "    an = objects.Animation(59)\n",
    "     \n",
    "    layer = objects.ShapeLayer()\n",
    "    an.add_layer(layer)\n",
    "    for path in svg_paths:\n",
    "        bez = objects.Path() # this is a path in one frame\n",
    "        layer.add_shape(bez)\n",
    "        for segment in path:\n",
    "            #print(segment.__class__.__name__)\n",
    "            if segment.__class__.__name__ == \"Line\":\n",
    "                #print(\"cool\", segment)\n",
    "                #layer.add_shape(segment)\n",
    "                bez.shape.value.add_point(Point(256, 128), Point(0, 0), Point(64, 64))\n",
    "                bez.shape.value.add_point(Point(256, 256), Point(-64, -64), Point(-64, 64))\n",
    "                bez.shape.value.add_point(Point(256, 256+120), Point(0, 0), Point(0, 0))\n",
    "                layer.add_shape(objects.Stroke(Color(1, 0, 0), 10))\n",
    "     \n",
    "      # Add other path segment types as needed, e.g., CubicBezier, QuadraticBezier, etc.\n",
    "        lottie_shapes.append(lottie_shape)\n",
    "    return lottie_shapes, an\n",
    "\n",
    "\n",
    "# Create Lottie animation from multiple SVGs\n",
    "def create_lottie_from_svgs(svg_files, output_file):\n",
    "    lottie_animation = objects.Animation()\n",
    "    for i, svg_file in enumerate(svg_files):\n",
    "        paths, _ = load_svg_paths(svg_file)\n",
    "        lottie_shapes = svg_path_to_lottie_shape(paths)\n",
    "\n",
    "        layer = objects.ShapeLayer()\n",
    "        #layer.shapes[0].add_keyframe(i * 5, )\n",
    "        layer.add_shape(lottie_shapes)\n",
    "        lottie_animation.add_layer(layer)\n",
    "\n",
    "    # Export Lottie animation to a file\n",
    "    #export_file(lottie_animation, output_file)\n",
    "    print(lottie_animation)\n",
    "    print(f\"Lottie animation saved to {output_file}\")\n",
    "    return lottie_animation\n",
    "\n",
    "# Run the script with your SVG files\n",
    "#svg_directory = 'svg/'  # Directory containing SVG files\n",
    "svg_directory  = \"../homelab-status-page/static/lottie\"#os.listdir()\n",
    "\n",
    "svg_files = [os.path.join(svg_directory, f) for f in os.listdir(svg_directory) if f.endswith('.svg')]\n",
    "output_file = 'lottie_animation.json'\n",
    "#layer.add_shape\n",
    "output = create_lottie_from_svgs(svg_files, output_file)\n",
    "\n",
    "\n",
    "# Creating a Lottie object with 5 layers from SVGs\n",
    "layers = []\n",
    "for i, svg_path in enumerate(svg_files):\n",
    "    # Create a shape layer for each SVG\n",
    "    shape_layer = objects.ShapeLayer(\n",
    "        shapes=[objects.VectorShape(d=svg_path)],  # Normally this would be the actual SVG path data\n",
    "        name=f\"Layer {i+1}\",\n",
    "        opacity=100,\n",
    "        rotation=0,\n",
    "    )\n",
    "    layers.append(shape_layer)\n",
    "\n",
    "# Create the Lottie animation\n",
    "animation = objects.Animation(\n",
    "    layers=layers,\n",
    "    width=500,\n",
    "    height=500,\n",
    "    frame_rate=30,\n",
    "    in_point=0,\n",
    "    out_point=120\n",
    ")\n",
    "\n",
    "# Export the Lottie animation to JSON\n",
    "lottie_json = export.to_json(animation)\n",
    "\n",
    "# Save the resulting Lottie JSON to a file\n",
    "output_file_path = \"/mnt/data/lottie_animation.json\"\n",
    "with open(output_file_path, 'w') as f:\n",
    "    json.dump(lottie_json, f)\n"
   ]
  },
  {
   "cell_type": "code",
   "execution_count": 20,
   "id": "a527dfa8-640c-4b99-a42f-ca6057795271",
   "metadata": {},
   "outputs": [],
   "source": []
  },
  {
   "cell_type": "code",
   "execution_count": 21,
   "id": "a4677bae-dfff-4961-8c06-eb8bd26c42fc",
   "metadata": {},
   "outputs": [
    {
     "data": {
      "text/plain": [
       "<function lottie.nvector.Point(x, y)>"
      ]
     },
     "execution_count": 21,
     "metadata": {},
     "output_type": "execute_result"
    }
   ],
   "source": [
    "lottie.Point"
   ]
  },
  {
   "cell_type": "code",
   "execution_count": null,
   "id": "fe9d7d21-5784-43cd-98c2-edcb98e0ef07",
   "metadata": {},
   "outputs": [],
   "source": []
  },
  {
   "cell_type": "code",
   "execution_count": null,
   "id": "23da93ae-6d67-4b24-a0c5-37dd3c1c572f",
   "metadata": {},
   "outputs": [],
   "source": []
  },
  {
   "cell_type": "code",
   "execution_count": null,
   "id": "15ee0b21-9c8e-4d4e-9546-0e61e6d43f04",
   "metadata": {},
   "outputs": [],
   "source": []
  },
  {
   "cell_type": "code",
   "execution_count": null,
   "id": "5f001af6-d073-4d93-b8ab-bb04fc11ebde",
   "metadata": {},
   "outputs": [],
   "source": []
  },
  {
   "cell_type": "code",
   "execution_count": null,
   "id": "1f34fa5b-0580-4bd3-9a45-695365b80524",
   "metadata": {},
   "outputs": [],
   "source": []
  },
  {
   "cell_type": "code",
   "execution_count": null,
   "id": "35740a70-a09b-4d1f-9537-19ba833dd56a",
   "metadata": {},
   "outputs": [],
   "source": []
  },
  {
   "cell_type": "code",
   "execution_count": null,
   "id": "b9037df3-09e7-442c-9edd-7182d7d43476",
   "metadata": {},
   "outputs": [],
   "source": []
  },
  {
   "cell_type": "code",
   "execution_count": null,
   "id": "c3ceca53-e325-4197-ab8b-0d3dde301ed1",
   "metadata": {},
   "outputs": [],
   "source": []
  },
  {
   "cell_type": "code",
   "execution_count": 5,
   "id": "cfc5c454-f389-4dc4-9f54-9dd5d70e6c19",
   "metadata": {},
   "outputs": [
    {
     "name": "stderr",
     "output_type": "stream",
     "text": [
      "Extracting frames: 0it [00:00, ?it/s]\n"
     ]
    }
   ],
   "source": [
    "import cv2\n",
    "import os\n",
    "import requests\n",
    "import logging\n",
    "from tqdm import tqdm\n",
    "\n",
    "# URL of the video\n",
    "\n",
    "input_dir = '/home/adnan/hashirama/services/perception/youtube/mp4_content/'\n",
    "video_url = \"https://files.hashirama.blog/youtube/mp4_content/Ouran%20%20When%20they%20figured%20out%20Haruhi%20was%20a%20girl.mp4\"\n",
    "video_filename = \"downloaded_video.mp4\"\n",
    "\n",
    "# Directory to save frames\n",
    "output_dir = \"./frames\"\n",
    "os.makedirs(output_dir, exist_ok=True)\n",
    "\n",
    "# Configure logging\n",
    "logging.basicConfig(level=logging.INFO)\n",
    "\n",
    "# Split video into frames without a while loop and with progress bar and logs\n",
    "def split_video_into_frames(video_path, output_dir):\n",
    "    video_capture = cv2.VideoCapture(video_path)\n",
    "\n",
    "    # Get total number of frames\n",
    "    total_frames = int(video_capture.get(cv2.CAP_PROP_FRAME_COUNT))\n",
    "\n",
    "    # Iterate over all frames using a for loop with tqdm for progress tracking\n",
    "    for frame_index in tqdm(range(total_frames), desc=\"Extracting frames\"):\n",
    "        ret, frame = video_capture.read()\n",
    "        \n",
    "        if not ret:\n",
    "            logging.warning(f\"Frame {frame_index} could not be read. Stopping.\")\n",
    "            break\n",
    "\n",
    "        # Save each frame\n",
    "        frame_filename = os.path.join(output_dir, f\"frame_{frame_index:04d}.jpg\")\n",
    "        cv2.imwrite(frame_filename, frame)\n",
    "        logging.info(f\"Saved frame {frame_index} as {frame_filename}\")\n",
    "\n",
    "    video_capture.release()\n",
    "    #logging.info(f\"Extracted {frame_index + 1} frames into {output_dir}\")\n",
    "\n",
    "video_filename= 'ohshc__Finding_out_Haruhi_is_a_girl.mp4'\n",
    "# Step 2: Split the downloaded video into frames\n",
    "split_video_into_frames(input_dir+video_filename, output_dir)\n",
    "print()"
   ]
  },
  {
   "cell_type": "code",
   "execution_count": 8,
   "id": "ceb2d71d-d090-406b-8cc5-3204bd8dde9d",
   "metadata": {},
   "outputs": [
    {
     "name": "stdout",
     "output_type": "stream",
     "text": [
      "ffmpeg: error while loading shared libraries: libopenh264.so.5: cannot open shared object file: No such file or directory\n"
     ]
    }
   ],
   "source": [
    "#! ls frames\n",
    "! ffmpeg -i '/home/adnan/hashirama/services/perception/youtube/mp4_content/ohshc__Finding_out_Haruhi_is_a_girl.mp4' ./frames/frame_%04d.jpg"
   ]
  },
  {
   "cell_type": "code",
   "execution_count": 7,
   "id": "ecbb8fe5-abe4-4e80-881b-82810d88c8b0",
   "metadata": {},
   "outputs": [
    {
     "data": {
      "text/plain": [
       "'/home/adnan/hashirama/services/perception/youtube/mp4_content/ohshc__Finding_out_Haruhi_is_a_girl.mp4'"
      ]
     },
     "execution_count": 7,
     "metadata": {},
     "output_type": "execute_result"
    }
   ],
   "source": [
    "input_dir+video_filename"
   ]
  },
  {
   "cell_type": "code",
   "execution_count": 3,
   "id": "e3d60b16-ccb8-434b-860a-3d6ba71a7507",
   "metadata": {},
   "outputs": [
    {
     "ename": "NameError",
     "evalue": "name 'output_path' is not defined",
     "output_type": "error",
     "traceback": [
      "\u001b[0;31m---------------------------------------------------------------------------\u001b[0m",
      "\u001b[0;31mNameError\u001b[0m                                 Traceback (most recent call last)",
      "Cell \u001b[0;32mIn[3], line 1\u001b[0m\n\u001b[0;32m----> 1\u001b[0m \u001b[43moutput_path\u001b[49m\n",
      "\u001b[0;31mNameError\u001b[0m: name 'output_path' is not defined"
     ]
    }
   ],
   "source": [
    "output_path"
   ]
  },
  {
   "cell_type": "code",
   "execution_count": 6,
   "id": "e365b399-0ed5-473d-a737-31f0ba870f12",
   "metadata": {},
   "outputs": [],
   "source": [
    "#! pip install pytubefix==7.2rc1 --upgrade\n",
    "import cv2\n",
    "import os\n",
    "from pathlib import Path\n",
    "\n",
    "def extract_frames(video_path, output_folder):\n",
    "    # Open the video file\n",
    "    video = cv2.VideoCapture(str(video_path))  # Convert Path object to string\n",
    "    \n",
    "    if not video.isOpened():\n",
    "        print(f\"Error: Could not open video: {video_path}\")\n",
    "        return\n",
    "\n",
    "    # Create the output folder if it doesn't exist\n",
    "    output_folder.mkdir(parents=True, exist_ok=True)\n",
    "\n",
    "    frame_count = 0\n",
    "    while True:\n",
    "        # Read the next frame from the video\n",
    "        success, frame = video.read()\n",
    "\n",
    "        # If there are no more frames, break the loop\n",
    "        if not success:\n",
    "            break\n",
    "\n",
    "        # Save the frame as an image file\n",
    "        frame_path = output_folder / f\"frame_{frame_count:05d}.jpg\"\n",
    "        cv2.imwrite(str(frame_path), frame)\n",
    "\n",
    "        # Increment the frame count\n",
    "        frame_count += 1\n",
    "\n",
    "    # Release the video capture object\n",
    "    video.release()\n",
    "    print(f\"Extracted {frame_count} frames to {output_folder}\")"
   ]
  },
  {
   "cell_type": "code",
   "execution_count": 2,
   "id": "5626b538-c5c4-41f5-98be-d5bc58138052",
   "metadata": {},
   "outputs": [
    {
     "name": "stderr",
     "output_type": "stream",
     "text": [
      "/tmp/ipykernel_2205541/3828005570.py:16: DeprecationWarning: Call to deprecated function all (This object can be treated as a list, all() is useless).\n",
      "  mp4_streams = yt.streams.filter(file_extension='mp4').all()\n"
     ]
    },
    {
     "name": "stdout",
     "output_type": "stream",
     "text": [
      "Video downloaded successfully!\n"
     ]
    }
   ],
   "source": [
    "from pytubefix import YouTube, exceptions\n",
    "\n",
    "SAVE_PATH = \"./youtube/mp4_content/\"\n",
    "\n",
    "def download_yt(link):\n",
    "    # try:\n",
    "    #     yt = YouTube(link)\n",
    "    # except exceptions.VideoUnavailable:\n",
    "    #     print(f\"The video {link} is unavailable.\")\n",
    "    #     return  # Exit the function\n",
    "    # except Exception as e:\n",
    "    #     print(f\"Connection Error for {link}: {e}\")\n",
    "    #     return  # Exit the function if there's an error\n",
    "    yt = YouTube(link)\n",
    "    # # Proceed if no exceptions\n",
    "    mp4_streams = yt.streams.filter(file_extension='mp4').all()\n",
    "\n",
    "    if mp4_streams:\n",
    "        d_video = mp4_streams[0]\n",
    "        try:\n",
    "            d_video.download(output_path=SAVE_PATH)\n",
    "            print('Video downloaded successfully!')\n",
    "        except Exception as e:\n",
    "            print(f\"Error occurred while downloading {link}: {e}\")\n",
    "    else:\n",
    "        print(f\"No mp4 streams available for {link}\")\n",
    "\n",
    "# Example usage\n",
    "lightbulb = 'https://www.youtube.com/watch?v=oFuyONPEGAo&t=127s'\n",
    "download_yt(lightbulb)\n",
    "# use globs + path right - to simplify whatever"
   ]
  },
  {
   "cell_type": "code",
   "execution_count": 12,
   "id": "ef503237-73b1-4d8d-81e3-dc1faf246f1b",
   "metadata": {},
   "outputs": [
    {
     "data": {
      "text/plain": [
       "['Make Templates with Essential Graphics in Adobe After Effects.mp4',\n",
       " 'Rendering out of C4d Lite (55).mp4',\n",
       " 'Brush Strokes - Adobe After Effects tutorial.mp4',\n",
       " 'Why slicing a cone gives an ellipse (beautiful proof).mp4',\n",
       " 'Flying Blobs to Liquid Letters - Adobe After Effects tutorial.mp4',\n",
       " 'Using topology for discrete problems  The Borsuk-Ulam theorem and stolen necklaces.mp4',\n",
       " 'Linear transformations and matrices  Chapter 3 Essence of linear algebra.mp4',\n",
       " 'Whats so special about Eulers number e  Chapter 5 Essence of calculus.mp4',\n",
       " 'Creating Depth with Layer Maps In After Effects and C4d.mp4',\n",
       " 'Cramers rule explained geometrically  Chapter 12 Essence of linear algebra.mp4',\n",
       " 'Pi hiding in prime regularities.mp4',\n",
       " 'Combine 3D and 2D Scenes (with Ae & C4D).mp4',\n",
       " 'The impossible chessboard puzzle.mp4',\n",
       " 'Divergence and curl  The language of Maxwells equations fluid flow and more.mp4',\n",
       " 'Extrude & Layer Text with RayTraced 3d - Adobe After Effects tutorial.mp4',\n",
       " 'Simple Face Rig with Master Properties - Adobe After Effects tutorial.mp4',\n",
       " 'Twitch and Slide Motion - Adobe After Effects tutorial.mp4',\n",
       " 'Intro to Cinema 4d Lite - Overview (15).mp4',\n",
       " 'Random Shapes in After Effects.mp4',\n",
       " 'Seam Carving  Week 2 lecture 7  18S191 MIT Fall 2020.mp4',\n",
       " 'Why is pi here  And why is it squared  A geometric answer to the Basel problem.mp4',\n",
       " 'Animate a Simple 3d Book in Adobe After Effects.mp4',\n",
       " 'Fractals are typically not self-similar.mp4',\n",
       " 'Simple Shape Orbits - Adobe After Effects tutorial.mp4',\n",
       " 'Power Mesh in Mocha Pro for After Effects.mp4',\n",
       " 'Higher order derivatives  Chapter 10 Essence of calculus.mp4',\n",
       " 'Glass Pane Slide Show - Adobe After Effects tutorial (Sponsored By Videoblocks).mp4',\n",
       " 'Solving Wordle using information theory.mp4',\n",
       " 'Cartoon Gleam - Adobe After Effects tutorial.mp4',\n",
       " 'But what is a neural network  Chapter 1 Deep learning.mp4',\n",
       " 'The more general uncertainty principle regarding Fourier transforms.mp4',\n",
       " 'Working From Illustrator To After Effects - Adobe After Effects Tutorial.mp4',\n",
       " 'Cross products in the light of linear transformations  Chapter 11 Essence of linear algebra.mp4',\n",
       " 'Long Shadows (with the repeater) - Adobe After Effects tutorial.mp4',\n",
       " 'React to Audio in Adobe After Effects.mp4',\n",
       " 'Make Sequential Animations using the Repeater - Adobe After Effects tutorial.mp4',\n",
       " 'Pricing Motion Design.mp4',\n",
       " 'Easy Falling Leaves - Adobe After Effects tutorial.mp4',\n",
       " 'Eigenvectors and eigenvalues  Chapter 14 Essence of linear algebra.mp4',\n",
       " 'The Wiggly Selector (Text Animator) - Adobe After Effects tutorial.mp4',\n",
       " 'Implicit differentiation whats going on here  Chapter 6 Essence of calculus.mp4',\n",
       " 'Animate A Font - Adobe After Effects tutorial.mp4',\n",
       " 'Bayes theorem the geometry of changing beliefs.mp4',\n",
       " 'Falling In Adobe After Effects.mp4',\n",
       " 'Group theory abstraction and the 196883-dimensional monster.mp4',\n",
       " 'Create Mood Boards for Motion Design.mp4',\n",
       " 'Curly Paper - After Effects tutorial [EASY].mp4',\n",
       " 'Easy Secondary Motion in Adobe After Effects.mp4',\n",
       " 'Abstract vector spaces  Chapter 16 Essence of linear algebra.mp4',\n",
       " 'Olympiad level counting  (Generating functions).mp4',\n",
       " 'From Newton’s method to Newton’s fractal (which Newton knew nothing about).mp4',\n",
       " 'The unexpectedly hard windmill question (2011 IMO Q2).mp4',\n",
       " 'Animate Shape Layer Arms & Legs [EASY] - Adobe After Effects tutorial.mp4',\n",
       " 'Nonsquare matrices as transformations between dimensions  Chapter 8 Essence of linear algebra.mp4',\n",
       " 'But what is a convolution.mp4',\n",
       " 'But what is the Riemann zeta function Visualizing analytic continuation.mp4',\n",
       " 'But what is a Fourier series  From heat flow to drawing with circles  DE4.mp4',\n",
       " 'White Extruded Text (like that Mockingjay Teaser Text)- Adobe After Effects tutorial.mp4',\n",
       " 'Introducing Particle Illusion.mp4',\n",
       " 'Why do prime numbers make these spirals  Dirichlet’s theorem and pi approximations.mp4',\n",
       " 'But what is the Central Limit Theorem.mp4',\n",
       " 'Limits LHôpitals rule and epsilon delta definitions  Chapter 7 Essence of calculus.mp4',\n",
       " 'e(iπ) in 314 minutes using dynamics  DE5.mp4',\n",
       " 'The hardest problem on the hardest test.mp4',\n",
       " 'Fake 3D Cylinder - Adobe After Effects tutorial.mp4',\n",
       " 'Ouran  When they figured out Haruhi was a girl.mp4',\n",
       " 'Double Exposure in Adobe After Effects.mp4',\n",
       " 'But why is a spheres surface area four times its shadow.mp4',\n",
       " 'But what are Hamming codes The origin of error correction.mp4',\n",
       " 'Linear combinations span and basis vectors  Chapter 2 Essence of linear algebra.mp4',\n",
       " 'The determinant  Chapter 6 Essence of linear algebra.mp4',\n",
       " 'Extrude Shapes and Text - Adobe After Effects tutorial.mp4',\n",
       " 'An Intro to Forward and Inverse Kinematics in After Effects.mp4',\n",
       " 'Cartoon Warp Speed - Adobe After Effects tutorial.mp4',\n",
       " 'The paradox of the derivative  Chapter 2 Essence of calculus.mp4',\n",
       " 'Fly Through Logo Reveal - Adobe After Effects tutorial.mp4',\n",
       " 'Blob to Text - Adobe After Effects tutorial.mp4',\n",
       " 'The essence of calculus.mp4',\n",
       " 'What does area have to do with slope  Chapter 9 Essence of calculus.mp4',\n",
       " 'Reacting Grids in Adobe After Effects.mp4',\n",
       " 'What is a Discrete Fourier Transform  Week 14  MIT 18S191 Fall 2020  Grant Sanderson.mp4',\n",
       " 'Control Time in Templates - Adobe After Effects tutorial.mp4',\n",
       " 'Dots to lines to letters - Adobe After Effects tutorial.mp4',\n",
       " 'Change of basis  Chapter 13 Essence of linear algebra.mp4',\n",
       " 'A tale of two problem solvers (Average cube shadows).mp4',\n",
       " 'Eulers formula with introductory group theory.mp4',\n",
       " 'Why this puzzle is impossible.mp4',\n",
       " 'Some light quantum mechanics (with minutephysics).mp4',\n",
       " 'Connect Dots - Adobe After Effects tutorial.mp4',\n",
       " 'Angled Logo Reveal - Adobe After Effects tutorial.mp4',\n",
       " 'The other way to visualize derivatives  Chapter 12 Essence of calculus.mp4',\n",
       " 'Inverse matrices column space and null space  Chapter 7 Essence of linear algebra.mp4',\n",
       " 'Pop On Collage in Adobe After Effects.mp4',\n",
       " 'How (and why) to raise e to the power of a matrix  DE6.mp4',\n",
       " '3d Shadowbox in Adobe After Effects.mp4',\n",
       " 'Differential equations a tourists guide  DE1.mp4',\n",
       " 'Animate in Cinema 4d Lite (35).mp4',\n",
       " 'Simple 2d Door Transition - Adobe After Effects tutorial.mp4',\n",
       " 'Repeater Grids - Adobe After Effects tutorial.mp4',\n",
       " 'Derivative formulas through geometry  Chapter 3 Essence of calculus.mp4',\n",
       " 'Taylor series  Chapter 11 Essence of calculus.mp4',\n",
       " 'Color Management in Adobe After Effects.mp4',\n",
       " 'Create Paths from Motion in Adobe After Effects.mp4',\n",
       " 'Sequence Animation - Adobe After Effects Tutorial.mp4',\n",
       " 'Simple Squiggling Line - Adobe After Effects tutorial.mp4',\n",
       " 'Audio Driven Workflows in Motion Design.mp4',\n",
       " 'But what is the Fourier Transform  A visual introduction.mp4',\n",
       " 'Animate Gradients in Adobe After Effects.mp4',\n",
       " 'Three-dimensional linear transformations  Chapter 5 Essence of linear algebra.mp4',\n",
       " 'All possible pythagorean triples visualized.mp4',\n",
       " 'Make DNA strand from shape layers - Adobe After Effects tutorial.mp4',\n",
       " 'Flying Liquid Blobs - Adobe After Effects tutorial.mp4',\n",
       " 'Who cares about topology   (Inscribed rectangle problem).mp4',\n",
       " 'Atmospheric Titles from Stock Footage in After Effects.mp4',\n",
       " 'Morph Text From Regular to Bold - Adobe After Effects tutorial.mp4',\n",
       " 'Fancy Banners (maybe for wedding videos)- Adobe After Effects tutorial.mp4',\n",
       " 'Mathsin - Adobe After Effects Expression.mp4',\n",
       " 'Venetian Blinds - Adobe After Effects Lesson.mp4',\n",
       " 'Linear FUI Slider Control - Adobe After Effects tutorial.mp4',\n",
       " 'Visualizing the chain rule and product rule  Chapter 4 Essence of calculus.mp4',\n",
       " 'Animate a Block Quote Template - Adobe After Effects tutorial.mp4',\n",
       " 'Walk Cycles in  Adobe After Effects.mp4',\n",
       " 'A quick trick for computing eigenvalues  Chapter 15 Essence of linear algebra.mp4',\n",
       " 'Animate a Portrait with After Effects and Photoshop.mp4',\n",
       " 'Lights Cameras & Materials in C4d Lite (45).mp4',\n",
       " 'Vectors  Chapter 1 Essence of linear algebra.mp4',\n",
       " 'Repeat The Repeater (For Psychedelic Patterns!) - Adobe After Effects tutorial.mp4',\n",
       " 'Integration and the fundamental theorem of calculus  Chapter 8 Essence of calculus.mp4',\n",
       " 'Random Expressions in Adobe After Effects.mp4',\n",
       " 'Shape Layer Repeater (radial) - Adobe After Effects tutorial.mp4',\n",
       " 'Grainy Gradient Effect - Adobe After Effects tutorial.mp4',\n",
       " 'Animating Icons in Adobe After Effects.mp4',\n",
       " 'Matrix multiplication as composition  Chapter 4 Essence of linear algebra.mp4',\n",
       " 'Splitting Liquid Shapes (like how cells divide) - Adobe After Effects tutorial.mp4',\n",
       " 'EASY 3-Panel Montage Motion Graphics- Adobe After Effects tutorial.mp4',\n",
       " 'Create Nulls from Path (string of lights) - Adobe After Effects tutorial.mp4',\n",
       " 'Dot products and duality  Chapter 9 Essence of linear algebra.mp4',\n",
       " 'Inky Reveals - Adobe After Effects tutorial.mp4',\n",
       " 'Isometric Projections in Adobe After Effects (SSR Method).mp4',\n",
       " 'Hilberts Curve Is infinite math useful.mp4',\n",
       " 'Animation PreProduction - Adobe After Effects tutorial.mp4',\n",
       " 'The diffusion equation  Week 12  MIT 18S191 Fall 2020  Grant Sanderson.mp4',\n",
       " 'How to lie using visual proofs.mp4',\n",
       " 'Cross products  Chapter 10 Essence of linear algebra.mp4']"
      ]
     },
     "execution_count": 12,
     "metadata": {},
     "output_type": "execute_result"
    }
   ],
   "source": [
    "os.listdir(SAVE_PATH)\n",
    "\n",
    "file_path = SAVE_PATH + "
   ]
  },
  {
   "cell_type": "code",
   "execution_count": 13,
   "id": "180a1990-9187-483d-a40b-5960a90984a3",
   "metadata": {},
   "outputs": [
    {
     "ename": "SyntaxError",
     "evalue": "unterminated string literal (detected at line 6) (4262886392.py, line 6)",
     "output_type": "error",
     "traceback": [
      "\u001b[0;36m  Cell \u001b[0;32mIn[13], line 6\u001b[0;36m\u001b[0m\n\u001b[0;31m    light = 'ohshc__Finding_out_Haruhi_is_a_girl\"\u001b[0m\n\u001b[0m            ^\u001b[0m\n\u001b[0;31mSyntaxError\u001b[0m\u001b[0;31m:\u001b[0m unterminated string literal (detected at line 6)\n"
     ]
    }
   ],
   "source": [
    "#download_yt(lightbulb)\n",
    "\n",
    "#yt = YouTube(lightbulb)\n",
    "import os\n",
    "os.listdir(SAVE_PATH) \n",
    "light = 'ohshc__Finding_out_Haruhi_is_a_girl\"\n",
    "#os.listdir(SAVE_PATH) \n",
    "#! mkdir cognition_engine\n",
    "extract_frames( , \"\")"
   ]
  },
  {
   "cell_type": "code",
   "execution_count": 14,
   "id": "b92cb087-c40d-4516-b79c-2b47cff631ca",
   "metadata": {},
   "outputs": [
    {
     "data": {
      "text/plain": [
       "'./youtube/mp4_content/ohshc__Finding_out_Haruhi_is_a_girl.mp4'"
      ]
     },
     "execution_count": 14,
     "metadata": {},
     "output_type": "execute_result"
    }
   ],
   "source": [
    "SAVE_PATH + light"
   ]
  },
  {
   "cell_type": "code",
   "execution_count": null,
   "id": "c6c84a4c-0638-421f-8def-ac00a791eaa0",
   "metadata": {},
   "outputs": [],
   "source": [
    "import cv2\n",
    "import os\n",
    "import requests\n",
    "\n",
    "# URL of the video\n",
    "video_url = \"https://files.hashirama.blog/youtube/mp4_content/Ouran%20%20When%20they%20figured%20out%20Haruhi%20was%20a%20girl.mp4\"\n",
    "video_filename = \"downloaded_video.mp4\"\n",
    "\n",
    "# Directory to save frames\n",
    "output_dir = \"./frames\"\n",
    "os.makedirs(output_dir, exist_ok=True)\n",
    "\n",
    "# Download the video file\n",
    "def download_video(url, output_path):\n",
    "    response = requests.get(url, stream=True)\n",
    "    if response.status_code == 200:\n",
    "        with open(output_path, 'wb') as f:\n",
    "            for chunk in response.iter_content(chunk_size=1024):\n",
    "                if chunk:\n",
    "                    f.write(chunk)\n",
    "        print(f\"Downloaded video to {output_path}\")\n",
    "    else:\n",
    "        print(\"Failed to download the video\")\n",
    "\n",
    "# Split video into frames\n",
    "def split_video_into_frames(video_path, output_dir):\n",
    "    video_capture = cv2.VideoCapture(video_path)\n",
    "    frame_count = 0\n",
    "\n",
    "    while True:\n",
    "        ret, frame = video_capture.read()\n",
    "        if not ret:\n",
    "            break  # Video is done\n",
    "        \n",
    "        # Save each frame\n",
    "        frame_filename = os.path.join(output_dir, f\"frame_{frame_count:04d}.jpg\")\n",
    "        cv2.imwrite(frame_filename, frame)\n",
    "        frame_count += 1\n",
    "\n",
    "    video_capture.release()\n",
    "    print(f\"Extracted {frame_count} frames into {output_dir}\")\n",
    "\n",
    "# Step 1: Download the video\n",
    "#download_video(video_url, video_filename)\n",
    "#tqdm\n",
    "# Step 2: Split the downloaded video into frames\n",
    "split_video_into_frames(video_filename, output_dir)"
   ]
  },
  {
   "cell_type": "code",
   "execution_count": null,
   "id": "bc364f80-18b6-4646-b13d-fbd176663b9d",
   "metadata": {},
   "outputs": [],
   "source": [
    "output_dir"
   ]
  },
  {
   "cell_type": "code",
   "execution_count": 15,
   "id": "172b87b9-18a8-4465-9921-ac7e23ce192f",
   "metadata": {},
   "outputs": [
    {
     "name": "stdout",
     "output_type": "stream",
     "text": [
      "youtube/mp4_content/ohshc__Finding_out_Haruhi_is_a_girl.mp4 is not a file.\n"
     ]
    }
   ],
   "source": [
    "from pathlib import Path\n",
    "\n",
    "file_path = Path('./youtube/mp4_content/ohshc__Finding_out_Haruhi_is_a_girl.mp4')\n",
    "\n",
    "if file_path.is_file():\n",
    "    print(f\"{file_path} is a file.\")\n",
    "else:\n",
    "    print(f\"{file_path} is not a file.\")\n"
   ]
  },
  {
   "cell_type": "code",
   "execution_count": 2,
   "id": "6778ee99-3e37-4c80-8927-c302f2644d47",
   "metadata": {},
   "outputs": [],
   "source": [
    "from typing import Tuple\n",
    "# deliverables - steps of lesson\n",
    "import os\n",
    "\n",
    "from PIL import Image as PILImage\n",
    "from IPython.display import display\n",
    "import time\n",
    "if False:\n",
    "    mask_generate()\n",
    "\n",
    "import library_functions\n",
    "brown_blue_math_playists = [\n",
    "    'https://www.youtube.com/watch?v=d-o3eB9sfls&list=PLZHQObOWTQDPHP40bzkb0TKLRPwQGAoC-',\n",
    "'https://www.youtube.com/watch?v=fNk_zzaMoSs&list=PLZHQObOWTQDPD3MizzM2xVFitgF8hE_ab',\n",
    "'https://www.youtube.com/watch?v=WUvTyaaNkzM&list=PLZHQObOWTQDMsr9K-rj53DwVRMYO3t5Yr',\n",
    "'https://www.youtube.com/watch?v=r6sGWTCMz2k&list=PLZHQObOWTQDN52m7Y21ePrTbvXkPaWVSg',\n",
    "'https://www.youtube.com/watch?v=OkmNXy7er84&list=PLZHQObOWTQDMXMi3bUMThGdYqos36X_lA',\n",
    "'https://www.youtube.com/watch?v=8rrHTtUzyZA&list=PLZHQObOWTQDMp_VZelDYjka8tnXNpXhzJ',\n",
    "]\n",
    "# output = replicate.run(\n",
    "#     \"zsxkib/yolo-world:d232445620610b78671a7f288f37bf3baec831537503e9064afcf0bfd0f0a151\",\n",
    "#     input={\n",
    "#         \"nms_thr\": 0.5,\n",
    "#         \"score_thr\": 0.05,\n",
    "#         \"class_names\": \"dog, eye, tongue, ear, leash, backpack, person, nose\",\n",
    "#         \"input_media\": \"https://replicate.delivery/pbxt/KOJpWfZmaP6tUv8fqR2n0z3FdBhtytoP5llaecrvvez0p4LE/dog.jpeg\",\n",
    "#         \"return_json\": False,\n",
    "#         \"max_num_boxes\": 100\n",
    "#     }\n",
    "# )\n",
    "\n",
    "def create_animation(yt_link: str) -> Tuple[str, str]:\n",
    "    \"\"\"\n",
    "    Takes a string and returns a tuple containing the file paths of a GIF and a Lottie file.\n",
    "    \"\"\"\n",
    "    # Logic to create and return GIF and Lottie file paths\n",
    "    return \"path_to_gif.gif\"\n",
    "    return (\"path_to_gif.gif\", \"path_to_lottie.json\")\n",
    "\n",
    "\"ama kakeru ryu no hirameki\"\n",
    "def text_to_gif_lottie(prompt: str):\n",
    "    return 10\n",
    "apple = 'https://www.youtube.com/watch?v=cwCMV7LF6S4&t=3s'\n",
    "\n",
    "\n",
    "#get data - pytbuefix\n",
    "# test each function on test data\n",
    "# glue together svg into lottie - > done\n"
   ]
  },
  {
   "cell_type": "code",
   "execution_count": null,
   "id": "191505f6-1668-4571-b513-0c3623eb3134",
   "metadata": {},
   "outputs": [],
   "source": []
  },
  {
   "cell_type": "code",
   "execution_count": null,
   "id": "306a3c7f-709c-42f2-aba3-018dd29917a6",
   "metadata": {},
   "outputs": [],
   "source": []
  },
  {
   "cell_type": "code",
   "execution_count": null,
   "id": "b883808b-136d-42d8-89c6-47f3f61e00c2",
   "metadata": {},
   "outputs": [],
   "source": []
  },
  {
   "cell_type": "code",
   "execution_count": 3,
   "id": "7486b8e8-62ac-4556-8010-31cae2ce5ff6",
   "metadata": {},
   "outputs": [
    {
     "data": {
      "text/plain": [
       "['Long Shadows (with the repeater) - Adobe After Effects tutorial',\n",
       " 'Higher order derivatives  Chapter 10 Essence of calculus',\n",
       " 'Extrude & Layer Text with RayTraced 3d - Adobe After Effects tutorial',\n",
       " 'But what is a neural network  Chapter 1 Deep learning',\n",
       " 'ohshc__Finding_out_Haruhi_is_a_girl',\n",
       " 'Cartoon Gleam - Adobe After Effects tutorial',\n",
       " 'Rendering out of C4d Lite (55)',\n",
       " 'Why is pi here  And why is it squared  A geometric answer to the Basel problem',\n",
       " '50_Best_Motion_Logos__Cool_Logo_Animations__Adobe_Creative_Cloud',\n",
       " 'Fractals are typically not self-similar',\n",
       " 'Random Shapes in After Effects',\n",
       " 'Working From Illustrator To After Effects - Adobe After Effects Tutorial',\n",
       " 'Make Sequential Animations using the Repeater - Adobe After Effects tutorial',\n",
       " 'The Wiggly Selector (Text Animator) - Adobe After Effects tutorial',\n",
       " 'Pricing Motion Design',\n",
       " 'Make Templates with Essential Graphics in Adobe After Effects',\n",
       " 'Linear transformations and matrices  Chapter 3 Essence of linear algebra',\n",
       " 'Simple Shape Orbits - Adobe After Effects tutorial',\n",
       " 'Power Mesh in Mocha Pro for After Effects',\n",
       " 'cone_to_ellipse',\n",
       " 'Animate A Font - Adobe After Effects tutorial',\n",
       " 'Cross products in the light of linear transformations  Chapter 11 Essence of linear algebra',\n",
       " 'Ouran_High_School_Host_Club_-_Kyouyas_Laugh_[English_Dub]',\n",
       " 'Creating Depth with Layer Maps In After Effects and C4d',\n",
       " 'Implicit differentiation whats going on here  Chapter 6 Essence of calculus',\n",
       " 'Designed_By_Apple_Intention',\n",
       " 'Combine 3D and 2D Scenes (with Ae & C4D)',\n",
       " 'Intro to Cinema 4d Lite - Overview (15)',\n",
       " 'Brush Strokes - Adobe After Effects tutorial',\n",
       " 'Simple Face Rig with Master Properties - Adobe After Effects tutorial',\n",
       " 'Glass Pane Slide Show - Adobe After Effects tutorial (Sponsored By Videoblocks)',\n",
       " 'Whats so special about Eulers number e  Chapter 5 Essence of calculus',\n",
       " 'The impossible chessboard puzzle',\n",
       " 'Divergence and curl  The language of Maxwells equations fluid flow and more',\n",
       " 'Deku_vs_Todoroki__My_Hero_Academia',\n",
       " 'Flying Blobs to Liquid Letters - Adobe After Effects tutorial',\n",
       " 'Eigenvectors and eigenvalues  Chapter 14 Essence of linear algebra',\n",
       " 'Animate a Simple 3d Book in Adobe After Effects',\n",
       " 'The more general uncertainty principle regarding Fourier transforms',\n",
       " 'Using topology for discrete problems  The Borsuk-Ulam theorem and stolen necklaces',\n",
       " 'Cramers rule explained geometrically  Chapter 12 Essence of linear algebra',\n",
       " 'Pi hiding in prime regularities',\n",
       " 'Seam Carving  Week 2 lecture 7  18S191 MIT Fall 2020',\n",
       " 'Twitch and Slide Motion - Adobe After Effects tutorial',\n",
       " 'Solving Wordle using information theory',\n",
       " 'React to Audio in Adobe After Effects',\n",
       " 'Easy Falling Leaves - Adobe After Effects tutorial']"
      ]
     },
     "execution_count": 3,
     "metadata": {},
     "output_type": "execute_result"
    }
   ],
   "source": [
    "import matplotlib.pyplot as plt\n",
    "import matplotlib.image as mpimg\n",
    "from PIL import Image as PILImage\n",
    "from IPython.display import display\n",
    "from IPython.display import SVG, display\n",
    "\n",
    "# Path to your SVG file\n",
    "svg_path = \"output_image_improved.svg\"\n",
    "\n",
    "#from IPython.display import Image\n",
    "#display(\"output_image_improved.svg\")\n",
    "#test_display = 'output_frames/ohshc__Finding_out_Haruhi_is_a_girl/frame_00428.jpg'\n",
    "# Display image from a URL\n",
    "#Image(url=test_display)\n",
    "#test_display = 'output_frames/ohshc__Finding_out_Haruhi_is_a_girl/frame_00428.jpg'\n",
    "# Open and display the image\n",
    "#img = PILImage.open(test_display)\n",
    "#display(img)\n",
    "\n",
    "\n",
    "#fig, axs = plt.subplots(1, 2)  # Adjust to display more images\n",
    "\n",
    "#first_movie = os.listdir('output_frames/')[0]\n",
    "#! mv youtube/output_frames/* output_frames\n",
    "#frames = os.listdir('output_frames/' + first_movie)\n",
    "\n",
    "#a = f\"output_frames/{first_movie}/{frames[0]}\"\n",
    "#b = f\"output_frames/{first_movie}/{frames[2]}\"\n",
    "\n",
    "#shit = f\"{a}/\"\n",
    "#shit\n",
    "#img1 = mpimg.imread(a)\n",
    "#img2 = mpimg.imread(b)\n",
    "path_to_output = 'youtube/output_frames/'\n",
    "test_dir = os.listdir(path_to_output)\n",
    "test_dir"
   ]
  },
  {
   "cell_type": "code",
   "execution_count": 4,
   "id": "c2865bad-857f-4d34-8e4d-ed9ee5315f4c",
   "metadata": {},
   "outputs": [
    {
     "data": {
      "text/plain": [
       "'frame_17363.jpg'"
      ]
     },
     "execution_count": 4,
     "metadata": {},
     "output_type": "execute_result"
    }
   ],
   "source": [
    "test_dir = path_to_output + \"cone_to_ellipse/\"\n",
    "test_dir\n",
    "os.listdir(test_dir)[0]"
   ]
  },
  {
   "cell_type": "code",
   "execution_count": 53,
   "id": "b876f8a8-88c7-4eed-b5b6-bcb9e8a6ce86",
   "metadata": {},
   "outputs": [
    {
     "name": "stdout",
     "output_type": "stream",
     "text": [
      "img count  7068\n"
     ]
    },
    {
     "data": {
      "text/plain": [
       "'youtube/output_frames/'"
      ]
     },
     "execution_count": 53,
     "metadata": {},
     "output_type": "execute_result"
    }
   ],
   "source": [
    "from pixels2svg import pixels2svg\n",
    "\n",
    "import os\n",
    "import cv2\n",
    "import matplotlib.pyplot as plt\n",
    "#https://github.com/mapbox/earcut\n",
    "#https://news.ycombinator.com/item?id=41600177\n",
    "# https://github.com/tdh8316/triangler\n",
    "def _image_to_svg(image_path, i=0):\n",
    "    # Load an image using OpenCV\n",
    "    print(i)\n",
    "    image = cv2.imread(image_path, cv2.IMREAD_GRAYSCALE)  # Load the image in grayscale\n",
    "    # Display the loaded image (optional)\n",
    "    plt.imshow(image, cmap='gray')\n",
    "    plt.title(\"Original Image\")\n",
    "    plt.axis('off')\n",
    "    plt.show()\n",
    "    # Save the SVG output to a file\n",
    "    output_file = \"output_2.svg\"\n",
    "    #from pixels2svg import pixels2svg\n",
    "\n",
    "    # with open(output_file, \"w\") as file:\n",
    "    #     file.write(svg_output)\n",
    "    # print(f\"SVG file saved as {output_file}\")\n",
    "    # Convert the image to SVG\n",
    "    svg_output =  pixels2svg(image_path, f\"output_{i}.svg\")\n",
    "\n",
    "    #svg_output = raster_to_svg(image, num_paths=100, path_size=1.0, error_threshold=0.1)\n",
    "    # Print the SVG output to the console (optional)\n",
    "    #print(svg_output)\n",
    "    return _image_to_svg\n",
    "\n",
    "\n",
    "import base64\n",
    "import mimetypes\n",
    "import os.path\n",
    "\n",
    "from svgwrite.image import Image\n",
    "from svgwrite.masking import ClipPath\n",
    "\n",
    "#from examples.base import BRAIN_OVERLAY_PNG_PATH, BRAIN_PNG_PATH\n",
    "\n",
    "from pixels2svg import Drawing, pixels2svg\n",
    "\n",
    "def file_to_base64(filepath):\n",
    "    \"\"\"Returns the content of a file as a Base64 encoded string.\n",
    "    \"\"\"\n",
    "    with open(filepath, 'rb') as f:\n",
    "        encoded_str = base64.b64encode(f.read())\n",
    "    return encoded_str.decode('utf-8')\n",
    "\n",
    "\n",
    "def file_to_base64_html(filepath):\n",
    "    mime_type = mimetypes.guess_type(filepath)[0]\n",
    "    base64_data = file_to_base64(filepath)\n",
    "    return f'data:{mime_type};base64,{base64_data}'\n",
    "\n",
    "\n",
    "def image_to_svg(base_path, img_name):\n",
    "    BRAIN_OVERLAY_PNG_PATH = base_path + img_name\n",
    "    print('0')\n",
    "    overlay_img = pixels2svg(BRAIN_OVERLAY_PNG_PATH)\n",
    "    final_img = Drawing(overlay_img.width, overlay_img.height)\n",
    "    final_img.add(Image(href=file_to_base64_html(BRAIN_PNG_PATH),\n",
    "                        size=(\"100%\", \"100%\")))\n",
    "    print('1')\n",
    "    # add some custom style to the output SVG shapes\n",
    "    customized_shapes = []\n",
    "    for element in overlay_img.elements:\n",
    "        # by default pixels2svg groups shapes of same color inside <g> elements\n",
    "        if element.elementname == 'g':\n",
    "            for shape in element.elements:\n",
    "                shape['fill-opacity'] = 0.1\n",
    "                shape['stroke'] = shape['fill']\n",
    "                shape['stroke-width'] = 3\n",
    "                customized_shapes.append(shape)\n",
    "    print('2')\n",
    "    # we'll use clip masks to make sure contours are only drawn on the inside\n",
    "    shape_clip_paths = []\n",
    "    for shape in customized_shapes:\n",
    "        clip_path = ClipPath(id=shape['id'] + '_mask',\n",
    "                             clipPathUnits='userSpaceOnUse')\n",
    "        clip_path.add(shape)\n",
    "        shape_clip_paths.append(clip_path)\n",
    "    print('3')\n",
    "    # add the clip paths to the <defs> tag\n",
    "    for element in final_img.elements:\n",
    "        if element.elementname == 'defs':\n",
    "            for clip_path in shape_clip_paths:\n",
    "                element.add(clip_path)\n",
    "\n",
    "    # add the customized shapes to the svg (no need to re-group them)\n",
    "    for shape, clip_path in zip(customized_shapes, shape_clip_paths):\n",
    "        shape['clip-path'] = f'url(#{clip_path[\"id\"]})'\n",
    "        final_img.add(shape)\n",
    "\n",
    "    print(os.path.join(os.path.dirname(BRAIN_PNG_PATH), 'brain_overlay.svg'))\n",
    "    final_img.save_to_path(os.path.join(os.path.dirname(BRAIN_PNG_PATH), 'brain_overlay.svg'))\n",
    "    #print()\n",
    "ass_dir = 'youtube/output_frames/Easy Falling Leaves - Adobe After Effects tutorial/'\n",
    "base_dir = 'youtube/output_frames/'\n",
    "test_dir = '50_Best_Motion_Logos__Cool_Logo_Animations__Adobe_Creative_Cloud/'\n",
    "\n",
    "source_dir = base_dir + test_dir\n",
    "list_img_to_svg = os.listdir(source_dir)\n",
    "print ('img count ', len(list_img_to_svg))\n",
    "shit_dir = os.listdir(ass_dir)\n",
    "\n",
    "\n",
    "\n",
    "\n",
    "\n",
    "#i = len(shit_dir)\n",
    "#print(i)\n",
    "# while i > 0:\n",
    "#     i -= 100\n",
    "#     print(shit_dir[i])\n",
    "#     image_to_svg(shit_dir[i])\n",
    "#os.listdir(shit_dir)\n",
    "# for i, shit in enumerate():\n",
    "\n",
    "\n",
    "\n",
    "path_to_output #      image_to_svg(source_dir + shit, i)"
   ]
  },
  {
   "cell_type": "code",
   "execution_count": 60,
   "id": "c306cfe8-7f4e-4c49-94aa-e2f1450edac4",
   "metadata": {},
   "outputs": [
    {
     "data": {
      "text/plain": [
       "{'Long Shadows (with the repeater) - Adobe After Effects tutorial': 18909,\n",
       " 'Extrude & Layer Text with RayTraced 3d - Adobe After Effects tutorial': 29239,\n",
       " 'ohshc__Finding_out_Haruhi_is_a_girl': 3958,\n",
       " 'Cartoon Gleam - Adobe After Effects tutorial': 25526,\n",
       " 'Rendering out of C4d Lite (55)': 30462,\n",
       " 'Why is pi here  And why is it squared  A geometric answer to the Basel problem': 30801,\n",
       " '50_Best_Motion_Logos__Cool_Logo_Animations__Adobe_Creative_Cloud': 7068,\n",
       " 'Fractals are typically not self-similar': 35804,\n",
       " 'Random Shapes in After Effects': 19745,\n",
       " 'Working From Illustrator To After Effects - Adobe After Effects Tutorial': 12712,\n",
       " 'Make Sequential Animations using the Repeater - Adobe After Effects tutorial': 21100,\n",
       " 'The Wiggly Selector (Text Animator) - Adobe After Effects tutorial': 24394,\n",
       " 'Pricing Motion Design': 20677,\n",
       " 'Make Templates with Essential Graphics in Adobe After Effects': 24653,\n",
       " 'Linear transformations and matrices  Chapter 3 Essence of linear algebra': 19723,\n",
       " 'Simple Shape Orbits - Adobe After Effects tutorial': 10665,\n",
       " 'Power Mesh in Mocha Pro for After Effects': 16937,\n",
       " 'cone_to_ellipse': 23135,\n",
       " 'Animate A Font - Adobe After Effects tutorial': 21924,\n",
       " 'Ouran_High_School_Host_Club_-_Kyouyas_Laugh_[English_Dub]': 1906,\n",
       " 'Creating Depth with Layer Maps In After Effects and C4d': 27440,\n",
       " 'Designed_By_Apple_Intention': 2180,\n",
       " 'Combine 3D and 2D Scenes (with Ae & C4D)': 38647,\n",
       " 'Intro to Cinema 4d Lite - Overview (15)': 41110,\n",
       " 'Simple Face Rig with Master Properties - Adobe After Effects tutorial': 31525,\n",
       " 'Glass Pane Slide Show - Adobe After Effects tutorial (Sponsored By Videoblocks)': 66726,\n",
       " 'Deku_vs_Todoroki__My_Hero_Academia': 3840,\n",
       " 'Flying Blobs to Liquid Letters - Adobe After Effects tutorial': 45824,\n",
       " 'Animate a Simple 3d Book in Adobe After Effects': 39241,\n",
       " 'Pi hiding in prime regularities': 53430,\n",
       " 'Twitch and Slide Motion - Adobe After Effects tutorial': 21772,\n",
       " 'Solving Wordle using information theory': 55135,\n",
       " 'React to Audio in Adobe After Effects': 33504,\n",
       " 'Easy Falling Leaves - Adobe After Effects tutorial': 38541}"
      ]
     },
     "execution_count": 60,
     "metadata": {},
     "output_type": "execute_result"
    }
   ],
   "source": [
    "{path: len(os.listdir(path_to_output+path)) for path in os.listdir(path_to_output) if len(os.listdir(path_to_output+path)) > 0}\n",
    "\n",
    " #{key_expression: value_expression for item in iterable if condition}\n"
   ]
  },
  {
   "cell_type": "code",
   "execution_count": 61,
   "id": "cae8707a-a7cc-494d-88cd-c99843ee0fc6",
   "metadata": {},
   "outputs": [],
   "source": [
    "test_2 =  'Why is pi here  And why is it squared  A geometric answer to the Basel problem'"
   ]
  },
  {
   "cell_type": "code",
   "execution_count": 62,
   "id": "d353bf10-e77b-4ca4-be29-e1a109b2fd66",
   "metadata": {},
   "outputs": [],
   "source": [
    "test_2 = path_to_output + test_2"
   ]
  },
  {
   "cell_type": "code",
   "execution_count": 7,
   "id": "5679fcb6-232a-449c-8fd9-fdaf58e331a1",
   "metadata": {},
   "outputs": [],
   "source": [
    "test_dir = path_to_output + \"cone_to_ellipse/\"\n",
    "test_dir\n",
    "paths = [test_dir + _ for _ in os.listdir(test_dir)]"
   ]
  },
  {
   "cell_type": "code",
   "execution_count": 8,
   "id": "ffa22620-e34b-47e7-a23d-4a57f0a6df82",
   "metadata": {},
   "outputs": [
    {
     "data": {
      "text/plain": [
       "'youtube/output_frames/cone_to_ellipse/frame_17363.jpg'"
      ]
     },
     "metadata": {},
     "output_type": "display_data"
    },
    {
     "data": {
      "text/plain": [
       "694050"
      ]
     },
     "execution_count": 8,
     "metadata": {},
     "output_type": "execute_result"
    }
   ],
   "source": [
    "display(paths[0])\n",
    "len(paths) ##* 30 =192 hour= 8 days to prooces one video"
   ]
  },
  {
   "cell_type": "code",
   "execution_count": 9,
   "id": "76f6b15c-f24f-4801-b462-96447585f28e",
   "metadata": {},
   "outputs": [],
   "source": [
    "import os.path\n",
    "from svgwrite.container import Group\n",
    "\n",
    "#from examples.base import SWORD_PNG_PATH\n",
    "from pixels2svg import Drawing, pixels2svg\n",
    "\n",
    "\n",
    "#display_img_path(paths[15000])\n",
    "\n",
    "\n",
    "#from 10k to 15k \n",
    "# get pixels that are releveant and convert to svg\n",
    "\n",
    "\n",
    "def cog_engine(SWORD_PNG_PATH,output_path=     'sword_outline.svg'):\n",
    "    overlay_img = pixels2svg(SWORD_PNG_PATH)\n",
    "    final_img = Drawing(overlay_img.width, overlay_img.height)\n",
    "\n",
    "    # add some custom style to the output SVG shapes\n",
    "    group_1 = Group()\n",
    "    group_2 = Group()\n",
    "    for element in overlay_img.elements:\n",
    "        # by default pixels2svg groups shapes of same color inside <g> elements\n",
    "        if element.elementname == 'g':\n",
    "            for shape in element.elements:\n",
    "                # shape['fill-opacity'] = 0\n",
    "                # shape['fill'] = 'none'\n",
    "                # shape['stroke'] = '#0000ff'\n",
    "                # shape['stroke-width'] = 0.4\n",
    "                group_1.add(shape)\n",
    "                # shape_2 = shape.copy()\n",
    "                # shape_2['stroke'] = 'white'\n",
    "                # shape_2['stroke-width'] = 0.1\n",
    "                #group_2.add(shape_2)\n",
    "\n",
    "    final_img.add(group_1)\n",
    "    final_img.add(group_2)\n",
    "    final_img.save_to_path(os.path.join(os.path.dirname(SWORD_PNG_PATH),\n",
    "                                   output_path))\n",
    "\n",
    "\n",
    "\n"
   ]
  },
  {
   "cell_type": "code",
   "execution_count": 65,
   "id": "0df54edf-2c31-404e-aac0-41deff61902f",
   "metadata": {},
   "outputs": [],
   "source": [
    "from IPython.display import Image, SVG\n",
    "from urllib.request import urlopen\n",
    "\n",
    "image_url = 'https://example.com/path/to/your/image.jpg'\n",
    "def display_img_path(url):\n",
    "    display(SVG(filename=url))"
   ]
  },
  {
   "cell_type": "code",
   "execution_count": 71,
   "id": "cd558fe6-67d0-46a0-9413-d0fe3fafc2d1",
   "metadata": {},
   "outputs": [
    {
     "data": {
      "image/jpeg": "[encoded data removed]",
      "text/plain": [
       "<IPython.core.display.Image object>"
      ]
     },
     "metadata": {},
     "output_type": "display_data"
    }
   ],
   "source": [
    "#paths.sort()\n",
    "frames = os.listdir(test_2)\n",
    "\n"
   ]
  },
  {
   "cell_type": "code",
   "execution_count": 52,
   "id": "a7c150af-46f4-4d58-9eba-214ae35259ff",
   "metadata": {},
   "outputs": [],
   "source": [
    "\n",
    "test_img = paths[11000]\n",
    "test_output= \"pixelate.png\"\n",
    "#library_functions.pixelate_image(paths[10000], test_output, 5)\n",
    "#cog_engine(test_output)\n",
    "#display_img_path(\"sword_outline.svg\")"
   ]
  },
  {
   "cell_type": "code",
   "execution_count": 72,
   "id": "f8cdc1ab-4066-4756-bdf4-62d96231bcb1",
   "metadata": {},
   "outputs": [],
   "source": [
    "for i, test_img in enumerate(paths[10000:15000:100]):\n",
    "    #test_img = paths[11000]\n",
    "    test_output= f\"pixelate{i}.png\"\n",
    "    library_functions.pixelate_image(paths[10000], test_output, 5)\n",
    "    #cog_engine(test_output, test_output.replace('.png', '.svg'))\n",
    "    #print(\"done with i\", test_output)\n"
   ]
  },
  {
   "cell_type": "code",
   "execution_count": 63,
   "id": "67b25351-15b2-413b-96ff-0e41199cc795",
   "metadata": {},
   "outputs": [
    {
     "ename": "KeyError",
     "evalue": "'viewBox'",
     "output_type": "error",
     "traceback": [
      "\u001b[0;31m---------------------------------------------------------------------------\u001b[0m",
      "\u001b[0;31mKeyError\u001b[0m                                  Traceback (most recent call last)",
      "Cell \u001b[0;32mIn[63], line 23\u001b[0m\n\u001b[1;32m      5\u001b[0m svg_files \u001b[38;5;241m=\u001b[39m [\n\u001b[1;32m      6\u001b[0m     \u001b[38;5;124m'\u001b[39m\u001b[38;5;124m../homelab-status-page/static/lottie/frame_6831.svg\u001b[39m\u001b[38;5;124m'\u001b[39m,\n\u001b[1;32m      7\u001b[0m     \u001b[38;5;124m'\u001b[39m\u001b[38;5;124m../homelab-status-page/static/lottie/frame_6825.svg\u001b[39m\u001b[38;5;124m'\u001b[39m,\n\u001b[0;32m   (...)\u001b[0m\n\u001b[1;32m     10\u001b[0m     \u001b[38;5;66;03m#'/Users/shelbernstein/hashirama/services/homelab-status-page/static/lottie/frame_6828.svg'\u001b[39;00m\n\u001b[1;32m     11\u001b[0m ]\n\u001b[1;32m     13\u001b[0m \u001b[38;5;66;03m# sys.path.insert(0, os.path.join(\u001b[39;00m\n\u001b[1;32m     14\u001b[0m \u001b[38;5;66;03m#     os.path.dirname(os.path.dirname(os.path.abspath(__file__))),\u001b[39;00m\n\u001b[1;32m     15\u001b[0m \u001b[38;5;66;03m#     \"lib\"\u001b[39;00m\n\u001b[0;32m   (...)\u001b[0m\n\u001b[1;32m     20\u001b[0m  \n\u001b[1;32m     21\u001b[0m \u001b[38;5;66;03m# All import/export functions can take file names or file objects\u001b[39;00m\n\u001b[0;32m---> 23\u001b[0m animation \u001b[38;5;241m=\u001b[39m \u001b[43mlottie\u001b[49m\u001b[38;5;241;43m.\u001b[39;49m\u001b[43mimporters\u001b[49m\u001b[38;5;241;43m.\u001b[39;49m\u001b[43msvg\u001b[49m\u001b[38;5;241;43m.\u001b[39;49m\u001b[43mimport_svg\u001b[49m\u001b[43m(\u001b[49m\u001b[43msvg_files\u001b[49m\u001b[43m[\u001b[49m\u001b[38;5;241;43m0\u001b[39;49m\u001b[43m]\u001b[49m\u001b[43m)\u001b[49m\n\u001b[1;32m     24\u001b[0m \u001b[38;5;66;03m#))\u001b[39;00m\n\u001b[1;32m     26\u001b[0m lottie\u001b[38;5;241m.\u001b[39mexport_lottie(animation, \u001b[38;5;124m\"\u001b[39m\u001b[38;5;124mopen_save.json\u001b[39m\u001b[38;5;124m\"\u001b[39m)\n",
      "File \u001b[0;32m~/micromamba/envs/sam/lib/python3.10/site-packages/lottie/importers/svg.py:16\u001b[0m, in \u001b[0;36mimport_svg\u001b[0;34m(file, *a, **kw)\u001b[0m\n\u001b[1;32m      7\u001b[0m \u001b[38;5;129m@importer\u001b[39m(\u001b[38;5;124m\"\u001b[39m\u001b[38;5;124mSVG\u001b[39m\u001b[38;5;124m\"\u001b[39m, [\u001b[38;5;124m\"\u001b[39m\u001b[38;5;124msvg\u001b[39m\u001b[38;5;124m\"\u001b[39m, \u001b[38;5;124m\"\u001b[39m\u001b[38;5;124msvgz\u001b[39m\u001b[38;5;124m\"\u001b[39m], [\n\u001b[1;32m      8\u001b[0m     ExtraOption(\n\u001b[1;32m      9\u001b[0m         \u001b[38;5;124m\"\u001b[39m\u001b[38;5;124mlayer_frames\u001b[39m\u001b[38;5;124m\"\u001b[39m, \u001b[38;5;28mtype\u001b[39m\u001b[38;5;241m=\u001b[39m\u001b[38;5;28mint\u001b[39m, default\u001b[38;5;241m=\u001b[39m\u001b[38;5;241m0\u001b[39m,\n\u001b[0;32m   (...)\u001b[0m\n\u001b[1;32m     14\u001b[0m ])\n\u001b[1;32m     15\u001b[0m \u001b[38;5;28;01mdef\u001b[39;00m \u001b[38;5;21mimport_svg\u001b[39m(file, \u001b[38;5;241m*\u001b[39ma, \u001b[38;5;241m*\u001b[39m\u001b[38;5;241m*\u001b[39mkw):\n\u001b[0;32m---> 16\u001b[0m     \u001b[38;5;28;01mreturn\u001b[39;00m \u001b[43mopen_maybe_gzipped\u001b[49m\u001b[43m(\u001b[49m\u001b[43mfile\u001b[49m\u001b[43m,\u001b[49m\u001b[43m \u001b[49m\u001b[38;5;28;43;01mlambda\u001b[39;49;00m\u001b[43m \u001b[49m\u001b[43msvgfile\u001b[49m\u001b[43m:\u001b[49m\u001b[43m \u001b[49m\u001b[43mparse_svg_file\u001b[49m\u001b[43m(\u001b[49m\u001b[43msvgfile\u001b[49m\u001b[43m,\u001b[49m\u001b[43m \u001b[49m\u001b[38;5;241;43m*\u001b[39;49m\u001b[43ma\u001b[49m\u001b[43m,\u001b[49m\u001b[43m \u001b[49m\u001b[38;5;241;43m*\u001b[39;49m\u001b[38;5;241;43m*\u001b[39;49m\u001b[43mkw\u001b[49m\u001b[43m)\u001b[49m\u001b[43m)\u001b[49m\n",
      "File \u001b[0;32m~/micromamba/envs/sam/lib/python3.10/site-packages/lottie/parsers/tgs.py:17\u001b[0m, in \u001b[0;36mopen_maybe_gzipped\u001b[0;34m(file, on_open)\u001b[0m\n\u001b[1;32m     15\u001b[0m \u001b[38;5;28;01mif\u001b[39;00m \u001b[38;5;28misinstance\u001b[39m(file, \u001b[38;5;28mstr\u001b[39m):\n\u001b[1;32m     16\u001b[0m     \u001b[38;5;28;01mwith\u001b[39;00m \u001b[38;5;28mopen\u001b[39m(file, \u001b[38;5;124m\"\u001b[39m\u001b[38;5;124mr\u001b[39m\u001b[38;5;124m\"\u001b[39m) \u001b[38;5;28;01mas\u001b[39;00m fileobj:\n\u001b[0;32m---> 17\u001b[0m         \u001b[38;5;28;01mreturn\u001b[39;00m \u001b[43mopen_maybe_gzipped\u001b[49m\u001b[43m(\u001b[49m\u001b[43mfileobj\u001b[49m\u001b[43m,\u001b[49m\u001b[43m \u001b[49m\u001b[43mon_open\u001b[49m\u001b[43m)\u001b[49m\n\u001b[1;32m     19\u001b[0m \u001b[38;5;28;01mif\u001b[39;00m \u001b[38;5;28misinstance\u001b[39m(file, io\u001b[38;5;241m.\u001b[39mTextIOBase) \u001b[38;5;129;01mand\u001b[39;00m \u001b[38;5;28mhasattr\u001b[39m(file, \u001b[38;5;124m\"\u001b[39m\u001b[38;5;124mbuffer\u001b[39m\u001b[38;5;124m\"\u001b[39m):\n\u001b[1;32m     20\u001b[0m     binfile \u001b[38;5;241m=\u001b[39m file\u001b[38;5;241m.\u001b[39mbuffer\n",
      "File \u001b[0;32m~/micromamba/envs/sam/lib/python3.10/site-packages/lottie/parsers/tgs.py:38\u001b[0m, in \u001b[0;36mopen_maybe_gzipped\u001b[0;34m(file, on_open)\u001b[0m\n\u001b[1;32m     35\u001b[0m \u001b[38;5;28;01melse\u001b[39;00m:\n\u001b[1;32m     36\u001b[0m     final_file \u001b[38;5;241m=\u001b[39m io\u001b[38;5;241m.\u001b[39mTextIOWrapper(file)\n\u001b[0;32m---> 38\u001b[0m \u001b[38;5;28;01mreturn\u001b[39;00m \u001b[43mon_open\u001b[49m\u001b[43m(\u001b[49m\u001b[43mfinal_file\u001b[49m\u001b[43m)\u001b[49m\n",
      "File \u001b[0;32m~/micromamba/envs/sam/lib/python3.10/site-packages/lottie/importers/svg.py:16\u001b[0m, in \u001b[0;36mimport_svg.<locals>.<lambda>\u001b[0;34m(svgfile)\u001b[0m\n\u001b[1;32m      7\u001b[0m \u001b[38;5;129m@importer\u001b[39m(\u001b[38;5;124m\"\u001b[39m\u001b[38;5;124mSVG\u001b[39m\u001b[38;5;124m\"\u001b[39m, [\u001b[38;5;124m\"\u001b[39m\u001b[38;5;124msvg\u001b[39m\u001b[38;5;124m\"\u001b[39m, \u001b[38;5;124m\"\u001b[39m\u001b[38;5;124msvgz\u001b[39m\u001b[38;5;124m\"\u001b[39m], [\n\u001b[1;32m      8\u001b[0m     ExtraOption(\n\u001b[1;32m      9\u001b[0m         \u001b[38;5;124m\"\u001b[39m\u001b[38;5;124mlayer_frames\u001b[39m\u001b[38;5;124m\"\u001b[39m, \u001b[38;5;28mtype\u001b[39m\u001b[38;5;241m=\u001b[39m\u001b[38;5;28mint\u001b[39m, default\u001b[38;5;241m=\u001b[39m\u001b[38;5;241m0\u001b[39m,\n\u001b[0;32m   (...)\u001b[0m\n\u001b[1;32m     14\u001b[0m ])\n\u001b[1;32m     15\u001b[0m \u001b[38;5;28;01mdef\u001b[39;00m \u001b[38;5;21mimport_svg\u001b[39m(file, \u001b[38;5;241m*\u001b[39ma, \u001b[38;5;241m*\u001b[39m\u001b[38;5;241m*\u001b[39mkw):\n\u001b[0;32m---> 16\u001b[0m     \u001b[38;5;28;01mreturn\u001b[39;00m open_maybe_gzipped(file, \u001b[38;5;28;01mlambda\u001b[39;00m svgfile: \u001b[43mparse_svg_file\u001b[49m\u001b[43m(\u001b[49m\u001b[43msvgfile\u001b[49m\u001b[43m,\u001b[49m\u001b[43m \u001b[49m\u001b[38;5;241;43m*\u001b[39;49m\u001b[43ma\u001b[49m\u001b[43m,\u001b[49m\u001b[43m \u001b[49m\u001b[38;5;241;43m*\u001b[39;49m\u001b[38;5;241;43m*\u001b[39;49m\u001b[43mkw\u001b[49m\u001b[43m)\u001b[49m)\n",
      "File \u001b[0;32m~/micromamba/envs/sam/lib/python3.10/site-packages/lottie/parsers/svg/importer.py:1312\u001b[0m, in \u001b[0;36mparse_svg_file\u001b[0;34m(file, layer_frames, *args, **kwargs)\u001b[0m\n\u001b[1;32m   1311\u001b[0m \u001b[38;5;28;01mdef\u001b[39;00m \u001b[38;5;21mparse_svg_file\u001b[39m(file, layer_frames\u001b[38;5;241m=\u001b[39m\u001b[38;5;241m0\u001b[39m, \u001b[38;5;241m*\u001b[39margs, \u001b[38;5;241m*\u001b[39m\u001b[38;5;241m*\u001b[39mkwargs):\n\u001b[0;32m-> 1312\u001b[0m     \u001b[38;5;28;01mreturn\u001b[39;00m \u001b[43mparse_svg_etree\u001b[49m\u001b[43m(\u001b[49m\u001b[43mElementTree\u001b[49m\u001b[38;5;241;43m.\u001b[39;49m\u001b[43mparse\u001b[49m\u001b[43m(\u001b[49m\u001b[43mfile\u001b[49m\u001b[43m)\u001b[49m\u001b[43m,\u001b[49m\u001b[43m \u001b[49m\u001b[43mlayer_frames\u001b[49m\u001b[43m,\u001b[49m\u001b[43m \u001b[49m\u001b[38;5;241;43m*\u001b[39;49m\u001b[43margs\u001b[49m\u001b[43m,\u001b[49m\u001b[43m \u001b[49m\u001b[38;5;241;43m*\u001b[39;49m\u001b[38;5;241;43m*\u001b[39;49m\u001b[43mkwargs\u001b[49m\u001b[43m)\u001b[49m\n",
      "File \u001b[0;32m~/micromamba/envs/sam/lib/python3.10/site-packages/lottie/parsers/svg/importer.py:1308\u001b[0m, in \u001b[0;36mparse_svg_etree\u001b[0;34m(etree, layer_frames, *args, **kwargs)\u001b[0m\n\u001b[1;32m   1306\u001b[0m \u001b[38;5;28;01mdef\u001b[39;00m \u001b[38;5;21mparse_svg_etree\u001b[39m(etree, layer_frames\u001b[38;5;241m=\u001b[39m\u001b[38;5;241m0\u001b[39m, \u001b[38;5;241m*\u001b[39margs, \u001b[38;5;241m*\u001b[39m\u001b[38;5;241m*\u001b[39mkwargs):\n\u001b[1;32m   1307\u001b[0m     parser \u001b[38;5;241m=\u001b[39m SvgParser()\n\u001b[0;32m-> 1308\u001b[0m     \u001b[38;5;28;01mreturn\u001b[39;00m \u001b[43mparser\u001b[49m\u001b[38;5;241;43m.\u001b[39;49m\u001b[43mparse_etree\u001b[49m\u001b[43m(\u001b[49m\u001b[43metree\u001b[49m\u001b[43m,\u001b[49m\u001b[43m \u001b[49m\u001b[43mlayer_frames\u001b[49m\u001b[43m,\u001b[49m\u001b[43m \u001b[49m\u001b[38;5;241;43m*\u001b[39;49m\u001b[43margs\u001b[49m\u001b[43m,\u001b[49m\u001b[43m \u001b[49m\u001b[38;5;241;43m*\u001b[39;49m\u001b[38;5;241;43m*\u001b[39;49m\u001b[43mkwargs\u001b[49m\u001b[43m)\u001b[49m\n",
      "File \u001b[0;32m~/micromamba/envs/sam/lib/python3.10/site-packages/lottie/parsers/svg/importer.py:238\u001b[0m, in \u001b[0;36mSvgParser.parse_etree\u001b[0;34m(self, etree, layer_frames, *args, **kwargs)\u001b[0m\n\u001b[1;32m    236\u001b[0m     animation\u001b[38;5;241m.\u001b[39mheight \u001b[38;5;241m=\u001b[39m \u001b[38;5;28mint\u001b[39m(\u001b[38;5;28mround\u001b[39m(\u001b[38;5;28mself\u001b[39m\u001b[38;5;241m.\u001b[39m_parse_unit(svg\u001b[38;5;241m.\u001b[39mattrib[\u001b[38;5;124m\"\u001b[39m\u001b[38;5;124mheight\u001b[39m\u001b[38;5;124m\"\u001b[39m])))\n\u001b[1;32m    237\u001b[0m \u001b[38;5;28;01melse\u001b[39;00m:\n\u001b[0;32m--> 238\u001b[0m     _, _, animation\u001b[38;5;241m.\u001b[39mwidth, animation\u001b[38;5;241m.\u001b[39mheight \u001b[38;5;241m=\u001b[39m \u001b[38;5;28mself\u001b[39m\u001b[38;5;241m.\u001b[39m_parse_viewbox(\u001b[43msvg\u001b[49m\u001b[38;5;241;43m.\u001b[39;49m\u001b[43mattrib\u001b[49m\u001b[43m[\u001b[49m\u001b[38;5;124;43m\"\u001b[39;49m\u001b[38;5;124;43mviewBox\u001b[39;49m\u001b[38;5;124;43m\"\u001b[39;49m\u001b[43m]\u001b[49m)\n\u001b[1;32m    239\u001b[0m animation\u001b[38;5;241m.\u001b[39mname \u001b[38;5;241m=\u001b[39m \u001b[38;5;28mself\u001b[39m\u001b[38;5;241m.\u001b[39m_get_name(svg, \u001b[38;5;28mself\u001b[39m\u001b[38;5;241m.\u001b[39mqualified(\u001b[38;5;124m\"\u001b[39m\u001b[38;5;124msodipodi\u001b[39m\u001b[38;5;124m\"\u001b[39m, \u001b[38;5;124m\"\u001b[39m\u001b[38;5;124mdocname\u001b[39m\u001b[38;5;124m\"\u001b[39m))\n\u001b[1;32m    241\u001b[0m \u001b[38;5;28;01mif\u001b[39;00m layer_frames:\n",
      "\u001b[0;31mKeyError\u001b[0m: 'viewBox'"
     ]
    }
   ],
   "source": [
    "#!/usr/bin/env python3\n",
    "import sys\n",
    "import os\n",
    "\n",
    "svg_files = [\n",
    "    '../homelab-status-page/static/lottie/frame_6831.svg',\n",
    "    '../homelab-status-page/static/lottie/frame_6825.svg',\n",
    "    '..//homelab-status-page/static/lottie/frame_6826.svg',\n",
    "    #'/Users/shelbernstein/hashirama/services/homelab-status-page/static/lottie/frame_6827.svg',\n",
    "    #'/Users/shelbernstein/hashirama/services/homelab-status-page/static/lottie/frame_6828.svg'\n",
    "]\n",
    "\n",
    "# sys.path.insert(0, os.path.join(\n",
    "#     os.path.dirname(os.path.dirname(os.path.abspath(__file__))),\n",
    "#     \"lib\"\n",
    "# ))\n",
    "# from lottie.importers.svg import import_svg\n",
    "# from lottie.exporters.core import export_lottie\n",
    " \n",
    " \n",
    "# All import/export functions can take file names or file objects\n",
    " \n",
    "animation = lottie.importers.svg.import_svg(svg_files[0])\n",
    "#))\n",
    " \n",
    "lottie.export_lottie(animation, \"open_save.json\")"
   ]
  },
  {
   "cell_type": "code",
   "execution_count": 64,
   "id": "78ebd0ab-798f-420c-935c-c6f1305c8f1a",
   "metadata": {},
   "outputs": [
    {
     "data": {
      "text/plain": [
       "'<svg xmlns=\"http://www.w3.org/2000/svg\"><g transform=\"translate(0.000000,360.000000) scale(0.100000,-0.100000)\" fill=\"#2B2B2B\" stroke=\"none\"><path d=\"M480 3560 c0 -22 -4 -40 -10 -40 -6 0 -10 -47 -10 -120 0 -113 -1 -120 -20 -120 -19 0 -20 7 -20 120 0 73 -4 120 -10 120 -10 0 -18 -425 -13 -691 l3 -127 -49 -21 c-28 -12 -53 -26 -56 -31 -3 -6 -16 -10 -28 -10 -13 0 -29 -8 -38 -17 -8 -10 -28 -29 -44 -43 -33 -27 -98 -122 -109 -157 -4 -13 -11 -23 -15 -23 -4 0 -15 -26 -26 -57 -10 -32 -22 -62 -27 -68 -11 -13 -10 -47 2 -40 6 4 10 -18 10 -60 0 -48 4 -67 15 -71 8 -3 20 -21 27 -39 6 -19 15 -32 19 -29 5 2 25 -21 45 -53 20 -32 48 -72 63 -90 58 -70 71 -89 71 -107 0 -13 5 -17 20 -13 11 3 27 -1 34 -9 19 -18 42 -18 50 1 3 8 16 15 30 15 14 0 28 5 32 11 8 13 90 49 111 49 9 0 34 18 55 40 22 22 46 40 54 40 8 0 14 4 14 9 0 5 8 12 18 16 11 3 34 36 53 73 35 70 94 142 116 142 17 0 16 -13 -2 -57 -8 -19 -15 -52 -14 -72 1 -35 1 -35 10 -9 14 36 39 45 39 13 0 -18 5 -25 20 -25 12 0 20 -7 20 -16 0 -13 3 -14 13 -5 8 6 17 8 20 4 4 -3 7 16 8 43 2 103 -1 97 55 112 l51 14 7 61 c3 33 9 357 13 719 6 610 5 658 -10 658 -16 0 -17 -34 -17 -400 0 -260 -3 -400 -10 -400 -6 0 -10 140 -10 400 l0 400 -40 0 -40 0 0 -477 c0 -426 -2 -480 -17 -515 -9 -21 -20 -38 -24 -38 -4 0 -13 17 -20 38 -9 24 -14 31 -17 20 -4 -22 -21 -23 -28 -3 -4 8 -17 15 -30 15 -13 0 -24 5 -24 10 0 6 -18 10 -40 10 -22 0 -40 5 -40 10 0 6 -18 10 -40 10 -22 0 -40 4 -40 9 0 5 -35 12 -78 16 l-78 7 2 444 c1 244 1 444 -2 444 -2 0 -4 -18 -4 -40z m-30 -520 c0 -47 -4 -80 -10 -80 -6 0 -10 33 -10 80 0 47 4 80 10 80 6 0 10 -33 10 -80z m597 -502 c-2 -35 -3 -7 -3 62 0 69 1 97 3 63 2 -35 2 -91 0 -125z m-7 -179 c0 -24 -4 -38 -10 -34 -5 3 -10 22 -10 41 0 19 5 34 10 34 6 0 10 -18 10 -41z m-107 -291 c-8 -44 -23 -60 -23 -25 0 22 16 55 27 57 1 0 0 -15 -4 -32z\"></path><path d=\"M3388 3548 c-3 -29 -4 -183 -1 -341 3 -215 1 -292 -8 -303 -10 -13 -6 -14 29 -8 50 8 162 -15 170 -34 2 -7 22 -20 43 -29 22 -8 39 -18 39 -22 0 -4 9 -17 20 -29 31 -33 43 -71 24 -79 -8 -3 -14 -13 -13 -22 3 -24 -12 -54 -38 -74 -13 -10 -23 -29 -23 -42 0 -16 -11 -29 -35 -44 -19 -11 -35 -25 -35 -30 0 -6 -20 -19 -45 -30 -55 -24 -61 -44 -8 -29 33 9 39 8 54 -11 10 -12 24 -21 33 -21 18 0 22 16 5 22 -13 4 12 54 37 73 32 24 54 17 96 -29 36 -40 43 -43 73 -36 18 4 40 3 50 -2 9 -6 28 -8 41 -5 18 3 24 0 24 -14 0 -11 5 -19 11 -19 5 0 8 4 5 9 -14 22 75 41 189 41 l115 0 0 59 c0 33 -5 61 -10 63 -8 2 -8 50 0 158 8 108 8 156 0 158 -12 4 -14 159 -2 164 4 2 6 128 4 281 l-4 277 -418 0 -417 0 -5 -52z\"></path><path d=\"M4322 3029 l2 -572 29 -29 c34 -33 63 -31 54 4 -4 12 -1 28 5 35 6 8 6 13 1 13 -6 0 -9 77 -8 203 2 143 0 179 -5 122 -5 -48 -6 -3 -2 115 2 107 6 276 6 375 1 99 6 208 10 243 l9 62 -52 0 -51 0 2 -571z\"></path><path d=\"M4496 3043 c2 -307 3 -561 4 -564 0 -3 14 -5 30 -4 17 1 30 -2 30 -7 0 -5 4 -7 9 -3 6 3 10 121 11 283 1 152 2 406 4 565 l3 287 -47 0 -47 0 3 -557z\"></path><path d=\"M3170 3366 c0 -2 7 -6 15 -10 8 -3 15 -1 15 4 0 6 -7 10 -15 10 -8 0 -15 -2 -15 -4z\"></path><path d=\"M3170 3271 c0 -5 7 -12 16 -15 14 -5 15 -4 4 9 -14 17 -20 19 -20 6z\"></path><path d=\"M3060 3215 c0 -8 5 -15 10 -15 6 0 10 7 10 15 0 8 -4 15 -10 15 -5 0 -10 -7 -10 -15z\"></path><path d=\"M3213 3000 c0 -25 2 -35 4 -22 2 12 2 32 0 45 -2 12 -4 2 -4 -23z\"></path><path d=\"M3304 2868 c-30 -14 -46 -53 -49 -123 -3 -66 4 -51 25 47 8 41 17 59 31 63 10 4 19 11 19 16 0 11 1 11 -26 -3z\"></path><path d=\"M3082 2800 c0 -14 2 -19 5 -12 2 6 2 18 0 25 -3 6 -5 1 -5 -13z\"></path><path d=\"M3432 2726 c7 -8 15 -12 17 -11 5 6 -10 25 -20 25 -5 0 -4 -6 3 -14z\"></path><path d=\"M3545 2680 c3 -5 10 -10 16 -10 5 0 9 5 9 10 0 6 -7 10 -16 10 -8 0 -12 -4 -9 -10z\"></path><path d=\"M3380 2670 c0 -5 9 -10 21 -10 11 0 17 5 14 10 -3 6 -13 10 -21 10 -8 0 -14 -4 -14 -10z\"></path><path d=\"M3353 2635 c-3 -9 -3 -18 -1 -21 3 -3 8 4 11 16 6 23 -1 27 -10 5z\"></path><path d=\"M3522 2590 c0 -14 2 -19 5 -12 2 6 2 18 0 25 -3 6 -5 1 -5 -13z\"></path><path d=\"M3140 2490 c0 -5 5 -10 11 -10 5 0 7 5 4 10 -3 6 -8 10 -11 10 -2 0 -4 -4 -4 -10z\"></path><path d=\"M3360 2460 c0 -6 4 -10 10 -10 5 0 8 -20 5 -47 l-5 -48 13 35 c6 19 15 40 20 47 8 12 4 16 -25 26 -10 4 -18 2 -18 -3z\"></path><path d=\"M3175 2410 c-3 -5 -1 -10 4 -10 6 0 11 5 11 10 0 6 -2 10 -4 10 -3 0 -8 -4 -11 -10z\"></path><path d=\"M4098 2403 c12 -2 30 -2 40 0 9 3 -1 5 -23 4 -22 0 -30 -2 -17 -4z\"></path><path d=\"M3618 2383 c12 -2 32 -2 45 0 12 2 2 4 -23 4 -25 0 -35 -2 -22 -4z\"></path><path d=\"M2268 2293 c12 -2 30 -2 40 0 9 3 -1 5 -23 4 -22 0 -30 -2 -17 -4z\"></path><path d=\"M2340 2290 c0 -5 5 -10 10 -10 6 0 10 5 10 10 0 6 -4 10 -10 10 -5 0 -10 -4 -10 -10z\"></path><path d=\"M3351 2224 c0 -11 3 -14 6 -6 3 7 2 16 -1 19 -3 4 -6 -2 -5 -13z\"></path><path d=\"M3515 2150 c3 -5 8 -10 11 -10 2 0 4 5 4 10 0 6 -5 10 -11 10 -5 0 -7 -4 -4 -10z\"></path><path d=\"M3478 2105 c-6 -14 -17 -25 -23 -25 -7 0 -15 -10 -18 -22 -3 -13 -15 -48 -27 -78 -12 -30 -24 -64 -27 -75 -2 -11 -13 -32 -23 -45 -19 -25 -19 -25 -33 -5 -14 18 -16 18 -31 -19 -9 -21 -16 -47 -16 -57 0 -11 -4 -19 -10 -19 -5 0 -10 -11 -10 -25 0 -26 -32 -50 -56 -41 -19 7 -18 3 7 -46 13 -25 17 -44 11 -46 -12 -4 -4 -42 9 -42 5 0 9 -19 9 -41 0 -28 6 -46 18 -55 13 -11 14 -16 4 -22 -8 -6 -10 -19 -5 -43 6 -32 7 -33 13 -9 4 15 7 0 7 -39 0 -41 4 -66 11 -69 7 -2 12 -22 12 -43 0 -22 4 -38 9 -34 5 3 12 1 15 -4 6 -8 21 -96 33 -191 3 -25 11 -48 17 -52 6 -4 10 -54 9 -135 0 -70 2 -122 4 -115 3 6 11 12 18 12 12 0 24 -78 30 -185 3 -51 5 -55 20 -55 8 0 25 11 39 25 33 32 47 111 35 185 -5 30 -7 69 -4 87 3 17 1 51 -6 75 -6 23 -14 63 -19 88 -4 25 -19 104 -34 177 -51 256 -79 503 -57 503 6 0 11 -3 11 -7 10 -142 13 -146 148 -170 20 -3 32 -1 32 6 0 6 9 11 20 11 11 0 23 7 26 15 4 8 12 15 20 15 21 0 17 30 -3 31 -15 0 -15 2 2 9 18 7 17 8 -10 15 -58 13 -70 18 -82 27 -16 13 -19 268 -3 268 6 0 10 33 10 80 0 49 4 80 11 80 6 0 9 21 7 53 l-3 52 -42 3 c-24 2 -43 7 -43 13 0 18 -21 8 -32 -16z\"></path><path d=\"M780 2069 c0 -5 5 -7 10 -4 6 3 10 8 10 11 0 2 -4 4 -10 4 -5 0 -10 -5 -10 -11z\"></path><path d=\"M3317 2006 c-4 -15 -6 -31 -2 -34 10 -10 16 6 13 35 l-3 28 -8 -29z\"></path><path d=\"M770 1988 c0 -9 5 -20 10 -23 13 -8 13 5 0 25 -8 13 -10 13 -10 -2z\"></path><path d=\"M890 1985 c0 -8 2 -15 4 -15 2 0 6 7 10 15 3 8 1 15 -4 15 -6 0 -10 -7 -10 -15z\"></path><path d=\"M1178 1843 c6 -2 18 -2 25 0 6 3 1 5 -13 5 -14 0 -19 -2 -12 -5z\"></path><path d=\"M600 1653 c21 -27 31 -32 70 -32 25 0 54 5 65 10 17 8 16 9 -6 4 -18 -3 -29 0 -33 10 -3 8 -10 15 -17 15 -6 0 -9 -7 -5 -15 3 -9 0 -15 -10 -15 -8 0 -12 5 -9 10 3 6 -2 10 -12 10 -10 0 -30 8 -43 17 l-25 17 25 -31z\"></path><path d=\"M827 1666 c-4 -10 -1 -13 9 -9 7 3 14 9 14 14 0 14 -17 10 -23 -5z\"></path><path d=\"M765 1650 c-3 -5 1 -10 9 -10 9 0 16 5 16 10 0 6 -4 10 -9 10 -6 0 -13 -4 -16 -10z\"></path><path d=\"M1040 1496 c0 -24 2 -25 80 -25 44 0 80 4 80 9 0 6 -18 10 -40 10 -29 0 -40 4 -40 15 0 11 -11 15 -40 15 -36 0 -40 -3 -40 -24z\"></path><path d=\"M1040 1403 l0 -37 35 34 c19 19 35 35 35 37 0 2 -16 3 -35 3 -34 0 -35 -1 -35 -37z\"></path><path d=\"M1031 1258 c-6 -57 -9 -125 -7 -153 2 -27 1 -35 -1 -17 -2 17 -7 32 -11 32 -4 0 -6 -132 -4 -292 3 -291 4 -293 29 -345 14 -28 33 -53 43 -56 11 -3 20 -19 24 -43 18 -102 13 -95 54 -79 36 16 122 12 122 -5 0 -5 13 -11 28 -15 15 -3 40 -16 55 -29 28 -25 77 -91 77 -105 0 -5 7 -14 15 -21 8 -7 15 -21 15 -30 0 -10 3 -20 8 -22 4 -1 16 -20 26 -40 l19 -38 115 0 116 0 83 87 c46 48 83 88 83 89 0 8 60 64 69 64 6 0 11 7 11 17 0 9 3 14 6 10 3 -3 -9 -35 -26 -71 -27 -54 -30 -68 -20 -81 25 -31 60 -5 60 44 0 12 4 21 9 21 14 0 21 -39 21 -112 l0 -68 150 0 150 0 0 45 c0 38 3 45 17 43 13 -2 19 8 26 41 9 47 -5 91 -30 91 -7 0 -13 6 -13 13 0 8 -4 7 -10 -3 -8 -12 -9 -9 -5 10 5 24 9 331 6 435 -3 83 -17 120 -59 149 -52 35 -113 36 -148 1 -14 -14 -31 -25 -39 -25 -8 0 -15 -7 -15 -15 0 -18 -47 -65 -65 -65 -8 0 -15 -7 -15 -15 0 -8 -4 -15 -8 -15 -4 0 -25 -16 -45 -35 -20 -19 -41 -35 -46 -35 -5 0 -15 -9 -22 -20 -8 -11 -36 -28 -64 -38 -33 -12 -51 -24 -54 -37 -6 -34 -23 -47 -53 -41 -15 3 -30 1 -33 -4 -3 -5 1 -7 9 -4 27 10 -5 -41 -37 -59 -36 -21 -54 -22 -37 -2 9 10 9 15 1 15 -11 0 -15 -13 -12 -37 1 -7 -7 -13 -19 -13 -22 0 -27 -16 -7 -23 17 -5 -10 -37 -32 -37 -9 0 -25 -13 -36 -30 -11 -16 -30 -32 -42 -35 -13 -3 -23 -12 -23 -20 0 -23 -27 -6 -49 30 -12 21 -22 61 -26 107 -3 40 -13 127 -21 193 -15 116 -13 185 6 185 5 0 11 -8 13 -17 3 -10 5 20 6 67 0 58 -2 80 -9 70 -8 -12 -10 -10 -10 10 -1 52 -8 55 -131 60 -75 3 -99 -5 -99 -36 0 -13 -4 -24 -10 -24 -5 0 -10 -7 -10 -16 0 -9 -5 -14 -12 -12 -18 6 -21 28 -4 28 12 0 16 10 16 40 0 27 -4 40 -14 40 -18 0 -26 86 -19 199 6 92 -3 201 -16 201 -5 0 -13 -46 -20 -102z m1029 -1015 c0 -30 16 -29 36 2 21 32 52 34 51 3 -1 -13 3 -50 7 -83 9 -73 -8 -66 -28 11 l-13 49 -19 -32 c-21 -34 -33 -32 -51 7 -11 25 -12 24 -34 -27 -23 -52 -39 -68 -39 -38 0 20 46 111 60 120 6 4 8 16 4 28 -6 22 -6 22 10 2 8 -11 16 -30 16 -42z m198 -45 c35 -35 -14 -102 -57 -78 -26 14 -29 65 -3 79 23 14 45 14 60 -1z m95 1 c27 3 28 1 25 -35 -4 -47 -28 -59 -28 -14 0 28 -2 30 -20 20 -11 -6 -20 -20 -20 -30 0 -11 -7 -20 -15 -20 -13 0 -15 7 -9 38 8 47 13 54 27 45 7 -4 25 -6 40 -4z\"></path><path d=\"M2210 160 c0 -15 5 -20 18 -18 9 2 17 10 17 18 0 8 -8 16 -17 18 -13 2 -18 -3 -18 -18z\"></path><path d=\"M3321 1134 c0 -11 3 -14 6 -6 3 7 2 16 -1 19 -3 4 -6 -2 -5 -13z\"></path><path d=\"M1205 995 c23 -8 83 -10 79 -3 -3 4 -24 8 -47 7 -23 0 -37 -2 -32 -4z\"></path><path d=\"M3341 974 c0 -11 3 -14 6 -6 3 7 2 16 -1 19 -3 4 -6 -2 -5 -13z\"></path><path d=\"M1120 970 c0 -5 5 -10 11 -10 5 0 7 5 4 10 -3 6 -8 10 -11 10 -2 0 -4 -4 -4 -10z\"></path><path d=\"M2163 883 c15 -2 39 -2 55 0 15 2 2 4 -28 4 -30 0 -43 -2 -27 -4z\"></path><path d=\"M2110 869 c0 -5 5 -7 10 -4 6 3 10 8 10 11 0 2 -4 4 -10 4 -5 0 -10 -5 -10 -11z\"></path><path d=\"M2250 877 c0 -3 16 -14 35 -26 19 -11 35 -17 35 -12 0 7 -14 15 -62 39 -5 2 -8 1 -8 -1z\"></path><path d=\"M2075 839 c-11 -17 1 -21 15 -4 8 9 8 15 2 15 -6 0 -14 -5 -17 -11z\"></path><path d=\"M2040 805 c-11 -13 -10 -14 4 -9 9 3 16 10 16 15 0 13 -6 11 -20 -6z\"></path><path d=\"M2360 758 c0 -7 5 -20 10 -28 8 -12 10 -11 10 7 0 12 -4 25 -10 28 -5 3 -10 0 -10 -7z\"></path><path d=\"M2368 573 c-3 -105 -2 -121 6 -112 7 8 12 219 5 219 -4 0 -9 -48 -11 -107z\"></path><path d=\"M3390 664 c0 -10 5 -26 10 -34 8 -11 9 -7 4 15 -8 37 -14 45 -14 19z\"></path><path d=\"M1371 654 c0 -11 3 -14 6 -6 3 7 2 16 -1 19 -3 4 -6 -2 -5 -13z\"></path><path d=\"M1370 610 c0 -19 3 -21 12 -12 9 9 9 15 0 24 -9 9 -12 7 -12 -12z\"></path><path d=\"M3412 575 c0 -16 2 -22 5 -12 2 9 2 23 0 30 -3 6 -5 -1 -5 -18z\"></path><path d=\"M1373 525 c0 -27 2 -38 4 -22 2 15 2 37 0 50 -2 12 -4 0 -4 -28z\"></path><path d=\"M1730 519 c0 -5 5 -7 10 -4 6 3 10 8 10 11 0 2 -4 4 -10 4 -5 0 -10 -5 -10 -11z\"></path><path d=\"M1387 380 c3 -47 9 -89 14 -94 5 -6 9 -19 9 -30 0 -20 2 -19 20 4 11 14 20 30 20 35 0 6 -4 4 -9 -4 -16 -25 -28 -2 -36 66 -11 104 -25 122 -18 23z\"></path><path d=\"M2361 328 c2 -102 6 -94 11 20 2 39 0 72 -4 72 -4 0 -7 -42 -7 -92z\"></path><path d=\"M2800 270 c0 -5 7 -7 17 -3 14 6 15 0 9 -47 -8 -59 -12 -70 -27 -70 -6 0 -7 20 -3 50 6 49 6 50 -20 50 -20 0 -29 -7 -37 -27 -6 -17 -13 -23 -17 -16 -8 13 -82 13 -82 0 0 -5 16 -7 36 -4 41 7 50 -5 40 -59 -8 -41 -33 -41 -28 0 1 14 -1 26 -7 26 -9 0 -25 -29 -23 -42 1 -3 -5 -9 -13 -12 -11 -4 -15 2 -15 25 0 36 -21 35 -30 -1 -8 -35 -30 -37 -30 -3 0 54 9 70 36 65 13 -2 24 0 24 6 0 16 -152 10 -158 -6 -3 -11 0 -12 14 -4 11 6 31 8 47 5 22 -4 26 -9 21 -27 -3 -12 -7 -31 -8 -42 -2 -10 -9 -20 -17 -20 -8 -1 -23 -2 -34 -3 -15 -1 -17 -3 -6 -10 7 -5 25 -5 40 -1 14 4 35 4 46 0 11 -4 23 -3 26 2 4 7 14 6 26 0 14 -8 23 -8 32 1 9 9 16 9 30 0 12 -8 22 -8 29 -1 6 6 12 6 16 -1 4 -6 15 -7 30 -1 14 5 27 5 33 -1 6 -6 14 -4 23 6 11 13 9 15 -10 13 -13 -2 -25 3 -27 10 -3 8 3 11 18 10 20 -3 24 3 34 52 6 30 9 63 7 73 -4 18 -42 25 -42 7z m-27 -36 c4 -4 4 -11 0 -17 -3 -6 -8 -31 -10 -55 -3 -50 -9 -60 -22 -46 -6 5 -5 33 1 67 9 54 16 65 31 51z\"></path><path d=\"M212 100 c2 -97 2 -99 5 -25 2 44 8 82 13 85 6 4 4 14 -5 26 -13 17 -14 8 -13 -86z\"></path><path d=\"M1130 181 c0 -12 5 -21 10 -21 6 0 10 6 10 14 0 8 -4 18 -10 21 -5 3 -10 -3 -10 -14z\"></path><path d=\"M2492 168 c-17 -17 -15 -28 7 -28 19 0 35 23 24 34 -9 9 -18 7 -31 -6z\"></path><path d=\"M2447 142 c3 -12 9 -25 14 -28 14 -8 11 10 -6 32 -13 18 -14 18 -8 -4z\"></path><path d=\"M285 90 c3 -5 8 -10 11 -10 2 0 4 5 4 10 0 6 -5 10 -11 10 -5 0 -7 -4 -4 -10z\"></path><path d=\"M342 20 c7 -11 16 -20 20 -20 5 0 3 9 -4 20 -7 11 -16 20 -20 20 -5 0 -3 -9 4 -20z\"></path><path d=\"M2370 20 c0 -11 5 -20 10 -20 6 0 10 9 10 20 0 11 -4 20 -10 20 -5 0 -10 -9 -10 -20z\"></path></g><g transform=\"translate(0.000000,360.000000) scale(0.100000,-0.100000)\" fill=\"#812B2B\" stroke=\"none\"><path d=\"M400 3560 l0 -40 40 0 40 0 0 40 0 40 -40 0 -40 0 0 -40z\"></path><path d=\"M423 3360 c0 -47 2 -66 4 -42 2 23 2 61 0 85 -2 23 -4 4 -4 -43z\"></path><path d=\"M453 3360 c0 -47 2 -66 4 -42 2 23 2 61 0 85 -2 23 -4 4 -4 -43z\"></path><path d=\"M483 3360 c0 -47 2 -66 4 -42 2 23 2 61 0 85 -2 23 -4 4 -4 -43z\"></path><path d=\"M3180 3391 c0 -6 4 -13 10 -16 6 -3 7 1 4 9 -7 18 -14 21 -14 7z\"></path><path d=\"M3040 3375 c0 -8 2 -15 4 -15 2 0 6 7 10 15 3 8 1 15 -4 15 -6 0 -10 -7 -10 -15z\"></path><path d=\"M3170 3285 c-7 -9 -10 -18 -6 -22 3 -3 6 -1 6 6 0 7 4 10 8 7 5 -3 9 1 9 9 0 19 -2 19 -17 0z\"></path><path d=\"M3265 2839 c-4 -6 -5 -12 -2 -15 2 -3 7 2 10 11 7 17 1 20 -8 4z\"></path><path d=\"M3395 2750 c3 -5 14 -10 23 -10 15 0 15 2 2 10 -20 13 -33 13 -25 0z\"></path><path d=\"M3364 2658 c-7 -10 8 -15 50 -16 58 -2 57 -12 -1 -12 -32 0 -53 -5 -56 -12 -3 -10 10 -13 49 -13 30 0 54 3 54 8 0 4 7 7 15 7 8 0 15 -4 15 -10 0 -5 -4 -10 -10 -10 -5 0 -10 -4 -10 -10 0 -5 7 -10 15 -10 8 0 15 -9 15 -19 0 -11 4 -23 10 -26 6 -3 7 1 4 9 -3 9 -1 16 6 16 6 0 8 5 3 13 -4 6 -6 22 -5 34 3 17 -5 24 -35 33 -21 7 -42 15 -47 18 -14 8 -67 8 -72 0z\"></path><path d=\"M3601 2654 c0 -11 3 -14 6 -6 3 7 2 16 -1 19 -3 4 -6 -2 -5 -13z\"></path><path d=\"M3611 2464 c0 -11 3 -14 6 -6 3 7 2 16 -1 19 -3 4 -6 -2 -5 -13z\"></path><path d=\"M1023 2365 c0 -22 2 -30 4 -17 2 12 2 30 0 40 -3 9 -5 -1 -4 -23z\"></path><path d=\"M910 2029 c0 -5 5 -7 10 -4 6 3 10 8 10 11 0 2 -4 4 -10 4 -5 0 -10 -5 -10 -11z\"></path><path d=\"M880 1999 c0 -5 5 -7 10 -4 6 3 10 8 10 11 0 2 -4 4 -10 4 -5 0 -10 -5 -10 -11z\"></path><path d=\"M786 1713 c-6 -14 -5 -15 5 -6 7 7 10 15 7 18 -3 3 -9 -2 -12 -12z\"></path><path d=\"M593 1665 c0 -8 4 -12 9 -9 5 3 6 10 3 15 -9 13 -12 11 -12 -6z\"></path><path d=\"M761 1657 c-13 -21 -12 -21 5 -5 10 10 16 20 13 22 -3 3 -11 -5 -18 -17z\"></path><path d=\"M656 1642 c-3 -5 1 -9 9 -9 8 0 12 4 9 9 -3 4 -7 8 -9 8 -2 0 -6 -4 -9 -8z\"></path><path d=\"M1023 1085 c0 -22 2 -30 4 -17 2 12 2 30 0 40 -3 9 -5 -1 -4 -23z\"></path></g><g transform=\"translate(0.000000,360.000000) scale(0.100000,-0.100000)\" fill=\"#81812B\" stroke=\"none\"><path d=\"M3223 2905 c0 -27 2 -38 4 -22 2 15 2 37 0 50 -2 12 -4 0 -4 -28z\"></path><path d=\"M3367 2903 c-10 -9 -9 -23 1 -23 5 0 9 7 9 15 0 17 -1 18 -10 8z\"></path><path d=\"M3598 2833 c7 -3 16 -2 19 1 4 3 -2 6 -13 5 -11 0 -14 -3 -6 -6z\"></path><path d=\"M3306 2733 c-6 -14 -5 -15 5 -6 7 7 10 15 7 18 -3 3 -9 -2 -12 -12z\"></path><path d=\"M3597 2710 c4 -14 0 -20 -11 -20 -9 0 -16 -4 -16 -9 0 -6 9 -9 20 -8 21 1 29 40 11 51 -5 4 -7 -3 -4 -14z\"></path><path d=\"M3630 2680 c0 -22 -4 -40 -10 -40 -5 0 -10 -8 -10 -17 1 -16 2 -16 16 2 12 16 16 17 23 6 6 -9 11 -10 15 -2 4 6 2 11 -3 11 -6 0 -10 3 -10 8 1 4 1 22 0 40 -2 46 -21 40 -21 -8z\"></path><path d=\"M3360 2669 c0 -5 5 -7 10 -4 6 3 10 8 10 11 0 2 -4 4 -10 4 -5 0 -10 -5 -10 -11z\"></path><path d=\"M3437 2659 c7 -7 15 -10 18 -7 3 3 -2 9 -12 12 -14 6 -15 5 -6 -5z\"></path><path d=\"M3356 2638 c3 -5 28 -8 56 -8 28 0 49 2 47 5 -9 8 -108 11 -103 3z\"></path><path d=\"M3460 2605 c0 -9 6 -12 15 -9 8 4 15 7 15 9 0 2 -7 5 -15 9 -9 3 -15 0 -15 -9z\"></path><path d=\"M3595 2439 c-4 -6 -5 -12 -2 -15 2 -3 7 2 10 11 7 17 1 20 -8 4z\"></path><path d=\"M721 1904 c0 -11 3 -14 6 -6 3 7 2 16 -1 19 -3 4 -6 -2 -5 -13z\"></path><path d=\"M620 1750 c0 -5 5 -10 10 -10 6 0 10 5 10 10 0 6 -4 10 -10 10 -5 0 -10 -4 -10 -10z\"></path><path d=\"M770 1692 c0 -12 3 -12 15 -2 8 7 15 13 15 15 0 1 -7 2 -15 2 -8 0 -15 -7 -15 -15z\"></path><path d=\"M560 1691 c0 -6 5 -13 10 -16 6 -3 10 1 10 9 0 9 -4 16 -10 16 -5 0 -10 -4 -10 -9z\"></path><path d=\"M628 1653 c7 -3 16 -2 19 1 4 3 -2 6 -13 5 -11 0 -14 -3 -6 -6z\"></path><path d=\"M1361 374 c0 -11 3 -14 6 -6 3 7 2 16 -1 19 -3 4 -6 -2 -5 -13z\"></path><path d=\"M223 120 c0 -25 2 -35 4 -22 2 12 2 32 0 45 -2 12 -4 2 -4 -23z\"></path><path d=\"M266 95 c4 -8 10 -15 16 -15 5 0 6 5 3 10 -3 6 -1 10 4 10 6 0 11 -7 11 -15 0 -8 5 -15 10 -15 7 0 7 6 0 20 -13 24 -53 28 -44 5z\"></path><path d=\"M344 18 c-4 -7 -4 -10 1 -6 4 4 15 2 24 -5 14 -11 14 -10 2 6 -16 20 -18 21 -27 5z\"></path></g><g transform=\"translate(0.000000,360.000000) scale(0.100000,-0.100000)\" fill=\"#2B2B81\" stroke=\"none\"><path d=\"M1054 3400 c0 -113 2 -159 3 -102 2 56 2 148 0 205 -1 56 -3 10 -3 -103z\"></path><path d=\"M3383 3560 c0 -25 2 -35 4 -22 2 12 2 32 0 45 -2 12 -4 2 -4 -23z\"></path><path d=\"M4413 3480 c0 -25 2 -35 4 -22 2 12 2 32 0 45 -2 12 -4 2 -4 -23z\"></path><path d=\"M4484 3405 c0 -66 1 -92 3 -57 2 34 2 88 0 120 -2 31 -3 3 -3 -63z\"></path><path d=\"M3378 3325 c2 -66 6 -122 8 -124 7 -8 2 143 -6 194 -5 31 -6 5 -2 -70z\"></path><path d=\"M4493 3195 c0 -44 2 -61 4 -37 2 23 2 59 0 80 -2 20 -4 1 -4 -43z\"></path><path d=\"M3383 3000 c0 -25 2 -35 4 -22 2 12 2 32 0 45 -2 12 -4 2 -4 -23z\"></path><path d=\"M4223 2960 c0 -47 2 -66 4 -42 2 23 2 61 0 85 -2 23 -4 4 -4 -43z\"></path><path d=\"M4494 2920 c0 -69 1 -97 3 -62 2 34 2 90 0 125 -2 34 -3 6 -3 -63z\"></path><path d=\"M4583 3000 c0 -25 2 -35 4 -22 2 12 2 32 0 45 -2 12 -4 2 -4 -23z\"></path><path d=\"M2340 2882 c0 -44 -3 -134 -7 -200 -5 -109 -4 -122 10 -122 15 0 17 21 17 200 0 127 -4 200 -10 200 -6 0 -10 -33 -10 -78z\"></path><path d=\"M4324 2840 c0 -69 1 -97 3 -62 2 34 2 90 0 125 -2 34 -3 6 -3 -63z\"></path><path d=\"M4393 2840 c0 -25 2 -35 4 -22 2 12 2 32 0 45 -2 12 -4 2 -4 -23z\"></path><path d=\"M2240 2640 l0 -80 -42 -1 -43 -2 50 -7 c28 -5 65 -9 83 -9 l32 -1 0 90 0 90 -40 0 -40 0 0 -80z\"></path><path d=\"M4225 2645 c-4 -42 -5 -79 -2 -81 2 -3 8 29 12 71 4 42 5 79 2 81 -2 3 -8 -29 -12 -71z\"></path><path d=\"M4493 2680 c0 -25 2 -35 4 -22 2 12 2 32 0 45 -2 12 -4 2 -4 -23z\"></path><path d=\"M2240 2440 c0 -29 -4 -40 -15 -40 -11 0 -15 -11 -15 -40 0 -36 -2 -40 -25 -40 -14 0 -25 -4 -25 -10 0 -5 18 -10 40 -10 22 0 40 -4 40 -10 0 -5 19 -9 43 -9 l42 2 -40 7 -40 7 40 3 40 3 -45 7 c-45 7 -44 7 18 8 l62 2 0 80 c0 63 -3 80 -14 80 -10 0 -16 -14 -19 -42 l-4 -43 -1 43 -2 42 -40 0 -40 0 0 -40z\"></path><path d=\"M4720 2460 c0 -5 7 -10 16 -10 8 0 12 5 9 10 -3 6 -10 10 -16 10 -5 0 -9 -4 -9 -10z\"></path><path d=\"M3943 2412 c-7 -4 -9 -13 -4 -21 6 -9 10 -7 14 8 3 12 4 21 4 21 -1 0 -7 -4 -14 -8z\"></path><path d=\"M2335 2299 c-11 -16 -1 -19 13 -3 7 8 8 14 3 14 -5 0 -13 -5 -16 -11z\"></path><path d=\"M3138 1683 c12 -2 30 -2 40 0 9 3 -1 5 -23 4 -22 0 -30 -2 -17 -4z\"></path><path d=\"M1075 1470 l-40 -7 37 -2 c20 0 40 4 43 9 3 6 5 9 3 9 -2 -1 -21 -5 -43 -9z\"></path><path d=\"M1075 1400 c-21 -22 -35 -40 -31 -40 7 0 76 70 76 77 0 7 -8 1 -45 -37z\"></path><path d=\"M1146 1428 c3 -5 10 -6 15 -3 13 9 11 12 -6 12 -8 0 -12 -4 -9 -9z\"></path><path d=\"M1165 1000 c-3 -5 -1 -10 4 -10 6 0 11 5 11 10 0 6 -2 10 -4 10 -3 0 -8 -4 -11 -10z\"></path><path d=\"M2178 853 c12 -2 32 -2 45 0 12 2 2 4 -23 4 -25 0 -35 -2 -22 -4z\"></path><path d=\"M1760 550 c0 -5 7 -7 15 -4 8 4 15 8 15 10 0 2 -7 4 -15 4 -8 0 -15 -4 -15 -10z\"></path><path d=\"M1680 469 c0 -5 5 -7 10 -4 6 3 10 8 10 11 0 2 -4 4 -10 4 -5 0 -10 -5 -10 -11z\"></path><path d=\"M1629 430 c-21 -17 -22 -19 -6 -20 11 0 15 4 11 12 -5 8 -2 9 9 5 11 -4 17 -1 17 8 0 19 -3 19 -31 -5z\"></path></g><g transform=\"translate(0.000000,360.000000) scale(0.100000,-0.100000)\" fill=\"#812B81\" stroke=\"none\"><path d=\"M243 3560 c0 -25 2 -35 4 -22 2 12 2 32 0 45 -2 12 -4 2 -4 -23z\"></path><path d=\"M492 3285 c-1 -176 -5 -377 -9 -446 l-6 -127 82 -7 c44 -4 81 -11 81 -16 0 -5 18 -9 40 -9 22 0 40 -4 40 -10 0 -5 18 -10 40 -10 22 0 40 -4 40 -10 0 -5 11 -10 24 -10 13 0 26 -7 30 -15 3 -8 10 -15 15 -15 6 0 8 6 5 14 -3 8 -1 16 4 19 4 3 14 -10 21 -29 7 -18 15 -34 19 -34 4 0 15 14 25 31 15 28 17 72 17 510 l0 479 -200 0 -199 0 -4 -82 -3 -83 -2 83 c-1 45 -6 82 -11 82 -5 0 -6 -158 -3 -360 3 -238 2 -360 -5 -360 -15 0 -23 102 -24 329 -1 113 -5 249 -9 301 -5 67 -7 1 -8 -225z m308 115 l0 -40 -80 0 -80 0 0 40 0 40 80 0 80 0 0 -40z m140 -767 c0 -5 -5 -15 -10 -23 -9 -13 -11 -13 -20 0 -15 22 -12 30 10 30 11 0 20 -3 20 -7z\"></path><path d=\"M1042 3203 c-1 -263 1 -403 8 -403 11 0 11 210 1 575 -7 219 -7 211 -9 -172z\"></path><path d=\"M1090 3262 c0 -186 -2 -473 -4 -638 -2 -164 -2 -263 0 -219 1 44 8 181 14 305 6 124 12 375 15 558 3 285 2 332 -11 332 -12 0 -14 -50 -14 -338z\"></path><path d=\"M4233 3520 c0 -47 2 -66 4 -42 2 23 2 61 0 85 -2 23 -4 4 -4 -43z\"></path><path d=\"M4483 3560 c0 -25 2 -35 4 -22 2 12 2 32 0 45 -2 12 -4 2 -4 -23z\"></path><path d=\"M4593 3520 c0 -47 2 -66 4 -42 2 23 2 61 0 85 -2 23 -4 4 -4 -43z\"></path><path d=\"M394 3395 c0 -71 1 -99 3 -62 2 37 2 96 0 130 -2 34 -3 4 -3 -68z\"></path><path d=\"M426 3403 c4 -65 8 -120 10 -122 9 -10 12 10 18 122 6 113 5 117 -14 117 -19 0 -20 -4 -14 -117z\"></path><path d=\"M3373 3485 c0 -22 2 -30 4 -17 2 12 2 30 0 40 -3 9 -5 -1 -4 -23z\"></path><path d=\"M243 3360 c0 -47 2 -66 4 -42 2 23 2 61 0 85 -2 23 -4 4 -4 -43z\"></path><path d=\"M313 3360 c0 -47 2 -66 4 -42 2 23 2 61 0 85 -2 23 -4 4 -4 -43z\"></path><path d=\"M4403 3400 c0 -25 2 -35 4 -22 2 12 2 32 0 45 -2 12 -4 2 -4 -23z\"></path><path d=\"M4477 3283 c-2 -4 -3 -62 -2 -128 1 -66 3 -246 3 -399 1 -154 5 -277 8 -274 7 8 9 797 1 804 -3 3 -7 2 -10 -3z\"></path><path d=\"M2337 3120 c-11 -267 -16 -581 -7 -470 4 52 8 143 9 202 1 69 5 108 12 110 9 3 9 46 3 163 l-10 160 -7 -165z\"></path><path d=\"M4403 3226 c3 -33 2 -123 -4 -200 -7 -106 -7 -141 2 -147 9 -5 11 -58 7 -203 -3 -121 -1 -196 4 -196 12 0 4 788 -7 798 -4 4 -5 -20 -2 -52z\"></path><path d=\"M4581 3209 c0 -41 4 -96 9 -124 5 -31 6 -5 2 70 -5 134 -12 168 -11 54z\"></path><path d=\"M4233 3160 c0 -25 2 -35 4 -22 2 12 2 32 0 45 -2 12 -4 2 -4 -23z\"></path><path d=\"M381 3121 c-11 -7 -13 -44 -9 -204 l6 -194 -29 -17 c-41 -24 -36 -39 7 -21 20 8 37 15 38 15 0 0 2 97 3 215 0 118 0 215 0 215 -1 0 -8 -4 -16 -9z\"></path><path d=\"M430 3040 c0 -47 4 -80 10 -80 6 0 10 33 10 80 0 47 -4 80 -10 80 -6 0 -10 -33 -10 -80z\"></path><path d=\"M1122 3038 c1 -46 3 -64 5 -40 4 41 5 42 39 42 33 0 34 1 34 40 l0 40 -40 0 -40 0 2 -82z\"></path><path d=\"M2240 3080 l0 -40 40 0 40 0 0 40 0 40 -40 0 -40 0 0 -40z\"></path><path d=\"M3223 3005 c0 -22 2 -30 4 -17 2 12 2 30 0 40 -3 9 -5 -1 -4 -23z\"></path><path d=\"M4240 3000 l0 -40 40 0 40 0 0 40 0 40 -40 0 -40 0 0 -40z\"></path><path d=\"M3057 2940 c3 -30 9 -62 14 -70 5 -9 6 6 2 35 -9 71 -23 101 -16 35z\"></path><path d=\"M313 2880 c0 -47 2 -66 4 -42 2 23 2 61 0 85 -2 23 -4 4 -4 -43z\"></path><path d=\"M2240 2880 l0 -80 40 0 40 0 0 80 0 80 -40 0 -40 0 0 -80z\"></path><path d=\"M4584 2800 c0 -91 2 -128 3 -82 2 45 2 119 0 165 -1 45 -3 8 -3 -83z\"></path><path d=\"M4393 2760 c0 -25 2 -35 4 -22 2 12 2 32 0 45 -2 12 -4 2 -4 -23z\"></path><path d=\"M1044 2600 c0 -69 1 -97 3 -62 2 34 2 90 0 125 -2 34 -3 6 -3 -63z\"></path><path d=\"M1114 2479 c0 -134 2 -206 6 -159 5 72 6 78 11 40 3 -25 3 23 1 105 -7 260 -17 268 -18 14z\"></path><path d=\"M1162 2278 c1 -200 4 -340 8 -313 11 81 13 675 2 675 -6 0 -10 -136 -10 -362z\"></path><path d=\"M3121 2624 c0 -11 3 -14 6 -6 3 7 2 16 -1 19 -3 4 -6 -2 -5 -13z\"></path><path d=\"M4312 2528 c-2 -36 -4 -38 -37 -38 -31 0 -35 -3 -35 -25 0 -22 -4 -25 -40 -25 -22 0 -40 -4 -40 -9 0 -6 -17 -12 -37 -14 -21 -2 -3 -2 40 1 52 3 77 1 77 -7 0 -15 77 -14 84 2 5 10 7 10 12 0 7 -15 34 -18 34 -4 0 5 -11 18 -24 29 -20 15 -26 30 -29 73 -2 39 -4 43 -5 17z\"></path><path d=\"M2205 2540 c28 -5 66 -8 85 -8 28 1 25 2 -15 8 -27 5 -66 8 -85 8 -28 -1 -25 -2 15 -8z\"></path><path d=\"M2323 2440 c0 -25 2 -35 4 -22 2 12 2 32 0 45 -2 12 -4 2 -4 -23z\"></path><path d=\"M4745 2460 c3 -5 11 -10 16 -10 6 0 7 5 4 10 -3 6 -11 10 -16 10 -6 0 -7 -4 -4 -10z\"></path><path d=\"M3996 2432 c-2 -4 12 -6 32 -4 56 5 62 10 15 11 -23 1 -44 -3 -47 -7z\"></path><path d=\"M1033 2360 c0 -25 2 -35 4 -22 2 12 2 32 0 45 -2 12 -4 2 -4 -23z\"></path><path d=\"M2203 2360 c0 -25 2 -35 4 -22 2 12 2 32 0 45 -2 12 -4 2 -4 -23z\"></path><path d=\"M2363 2360 c0 -25 2 -35 4 -22 2 12 2 32 0 45 -2 12 -4 2 -4 -23z\"></path><path d=\"M2258 2313 c12 -2 32 -2 45 0 12 2 2 4 -23 4 -25 0 -35 -2 -22 -4z\"></path><path d=\"M2329 2303 c-13 -16 -12 -17 4 -4 9 7 17 15 17 17 0 8 -8 3 -21 -13z\"></path><path d=\"M1070 2201 c0 -38 -1 -39 -52 -53 -45 -13 -53 -18 -53 -39 0 -20 6 -25 35 -27 l34 -4 -24 20 -25 21 25 9 c23 9 25 7 28 -19 2 -20 9 -29 21 -29 15 0 19 11 25 61 8 84 8 99 -4 99 -5 0 -10 -17 -10 -39z\"></path><path d=\"M3528 2113 c6 -2 18 -2 25 0 6 3 1 5 -13 5 -14 0 -19 -2 -12 -5z\"></path><path d=\"M910 2050 c0 -5 5 -10 11 -10 5 0 7 5 4 10 -3 6 -8 10 -11 10 -2 0 -4 -4 -4 -10z\"></path><path d=\"M901 1999 c-1 -8 -3 -27 -5 -44 -2 -16 -7 -38 -11 -49 -10 -22 8 -36 48 -36 18 0 27 -5 27 -15 0 -13 16 -16 98 -15 53 1 108 5 122 8 25 6 25 6 -5 13 -16 4 -54 7 -82 8 -50 1 -53 3 -53 26 0 23 -4 25 -40 25 -29 0 -40 4 -40 15 0 11 11 15 40 15 29 0 40 -4 40 -15 0 -10 10 -15 33 -15 17 0 43 -3 57 -5 14 -3 19 -3 13 1 -7 3 -13 24 -13 46 l0 41 -82 -8 c-46 -4 -86 -9 -90 -11 -5 -3 -8 -20 -8 -37 -1 -28 -2 -30 -12 -13 -8 14 -8 24 1 37 14 24 14 36 -1 21 -9 -9 -14 -7 -23 5 -9 12 -12 13 -14 2z m16 -66 c-4 -17 -4 -17 -12 0 -4 9 -4 25 0 35 8 16 8 16 12 0 3 -10 3 -26 0 -35z\"></path><path d=\"M1213 1843 c-7 -2 -13 -13 -13 -24 0 -16 7 -19 40 -19 33 0 40 3 40 20 0 11 -6 20 -14 20 -8 0 -20 2 -28 4 -7 3 -19 2 -25 -1z\"></path><path d=\"M857 1833 c-5 -7 -6 -17 -2 -22 3 -5 0 -13 -6 -17 -8 -5 -10 -2 -5 7 4 8 -2 3 -13 -11 -13 -15 -21 -40 -21 -62 0 -37 1 -38 35 -38 l35 0 -1 48 c-2 65 -12 110 -22 95z m13 -63 c0 -5 -7 -10 -16 -10 -8 0 -12 5 -9 10 3 6 10 10 16 10 5 0 9 -4 9 -10z\"></path><path d=\"M3566 1775 c7 -98 15 -169 20 -174 8 -8 2 64 -11 154 -14 86 -14 87 -9 20z\"></path><path d=\"M1297 1804 c-3 -4 -2 -15 4 -25 7 -15 6 -19 -6 -19 -11 0 -15 -11 -15 -47 l0 -48 25 60 c14 33 25 66 25 73 0 13 -22 17 -33 6z\"></path><path d=\"M3138 1693 c12 -2 30 -2 40 0 9 3 -1 5 -23 4 -22 0 -30 -2 -17 -4z\"></path><path d=\"M1012 1664 c1 -9 9 -19 16 -22 9 -3 13 2 10 14 -1 9 -9 19 -16 22 -9 3 -13 -2 -10 -14z\"></path><path d=\"M810 1648 c0 -4 4 -8 9 -8 6 0 12 4 15 8 3 5 -1 9 -9 9 -8 0 -15 -4 -15 -9z\"></path><path d=\"M1040 1560 c0 -33 3 -40 20 -40 17 0 20 7 20 40 0 33 -3 40 -20 40 -17 0 -20 -7 -20 -40z\"></path><path d=\"M1230 1579 c0 -18 2 -19 15 -9 8 7 15 16 15 21 0 5 -7 9 -15 9 -9 0 -15 -9 -15 -21z\"></path><path d=\"M3560 1591 c0 -10 29 -36 34 -30 1 2 -6 12 -16 22 -10 9 -18 13 -18 8z\"></path><path d=\"M3658 1523 c7 -3 16 -2 19 1 4 3 -2 6 -13 5 -11 0 -14 -3 -6 -6z\"></path><path d=\"M1120 1505 c0 -11 11 -15 40 -15 29 0 40 4 40 15 0 11 -11 15 -40 15 -29 0 -40 -4 -40 -15z\"></path><path d=\"M1208 1498 c-3 -21 -11 -24 -85 -32 -89 -9 -109 -23 -42 -28 l41 -3 -31 -32 c-23 -24 -31 -41 -30 -65 1 -28 2 -29 6 -8 3 13 17 35 31 48 l25 24 13 -23 c7 -13 13 -41 14 -61 0 -21 5 -38 10 -38 6 0 10 22 10 49 0 27 3 63 6 80 7 33 24 43 24 14 0 -31 26 17 33 60 4 27 2 37 -8 37 -7 0 -15 -10 -17 -22z m-38 -62 c0 -11 -19 -15 -25 -6 -3 5 1 10 9 10 9 0 16 -2 16 -4z\"></path><path d=\"M3241 1453 c0 -12 2 -14 6 -4 5 11 7 11 15 0 8 -12 9 -12 6 0 -6 22 -28 25 -27 4z\"></path><path d=\"M1106 1345 c4 -8 8 -15 10 -15 2 0 4 7 4 15 0 8 -4 15 -10 15 -5 0 -7 -7 -4 -15z\"></path><path d=\"M1067 1163 c-6 -105 -4 -135 7 -122 8 9 15 239 8 239 -5 0 -12 -53 -15 -117z\"></path><path d=\"M1121 1264 c0 -11 3 -14 6 -6 3 7 2 16 -1 19 -3 4 -6 -2 -5 -13z\"></path><path d=\"M1150 1215 c0 -8 5 -15 10 -15 6 0 10 7 10 15 0 8 -4 15 -10 15 -5 0 -10 -7 -10 -15z\"></path><path d=\"M3309 1158 c4 -30 6 -36 9 -19 3 19 6 21 14 10 8 -11 9 -10 4 4 -3 10 -6 25 -6 33 0 8 -6 14 -13 14 -9 0 -11 -12 -8 -42z\"></path><path d=\"M3330 1083 c0 -13 5 -23 10 -23 13 0 13 11 0 30 -8 12 -10 11 -10 -7z\"></path><path d=\"M3336 1005 c4 -8 8 -15 10 -15 2 0 4 7 4 15 0 8 -4 15 -10 15 -5 0 -7 -7 -4 -15z\"></path><path d=\"M1286 981 c-3 -5 1 -11 9 -14 9 -4 12 -1 8 9 -6 16 -10 17 -17 5z\"></path><path d=\"M3353 930 c0 -25 2 -35 4 -22 2 12 2 32 0 45 -2 12 -4 2 -4 -23z\"></path><path d=\"M1100 926 c0 -19 5 -38 10 -41 6 -4 10 10 10 34 0 23 -4 41 -10 41 -5 0 -10 -15 -10 -34z\"></path><path d=\"M1223 943 c15 -2 37 -2 50 0 12 2 0 4 -28 4 -27 0 -38 -2 -22 -4z\"></path><path d=\"M1310 939 c-13 -9 -13 -10 1 -6 9 3 23 0 30 -6 11 -10 11 -9 0 6 -7 9 -14 17 -15 17 0 0 -8 -5 -16 -11z\"></path><path d=\"M2168 893 c7 -3 16 -2 19 1 4 3 -2 6 -13 5 -11 0 -14 -3 -6 -6z\"></path><path d=\"M3361 803 c0 -50 3 -83 9 -83 11 0 12 43 0 115 -7 47 -7 45 -9 -32z\"></path><path d=\"M2022 783 c-9 -10 -30 -28 -46 -40 -16 -13 -24 -23 -19 -23 12 0 102 79 91 80 -5 0 -16 -8 -26 -17z\"></path><path d=\"M1333 680 c0 -25 2 -35 4 -22 2 12 2 32 0 45 -2 12 -4 2 -4 -23z\"></path><path d=\"M3386 705 c-3 -8 -1 -15 4 -15 6 0 10 7 10 15 0 8 -2 15 -4 15 -2 0 -6 -7 -10 -15z\"></path><path d=\"M2330 655 c0 -5 5 -17 10 -25 5 -8 10 -10 10 -5 0 6 -5 17 -10 25 -5 8 -10 11 -10 5z\"></path><path d=\"M1826 608 l-17 -33 19 23 c20 22 42 29 42 14 0 -4 -5 -13 -12 -20 -9 -9 -9 -12 -1 -12 7 0 15 9 18 20 4 11 16 20 28 21 20 1 20 2 -3 9 -44 14 -55 11 -74 -22z\"></path><path d=\"M3420 624 c0 -8 -4 -12 -10 -9 -5 3 -10 -1 -10 -9 0 -10 6 -13 15 -10 13 6 22 44 10 44 -3 0 -5 -7 -5 -16z\"></path><path d=\"M3416 548 c-2 -7 -4 -21 -3 -32 0 -18 1 -18 14 0 16 21 16 31 3 39 -6 3 -12 0 -14 -7z\"></path><path d=\"M1712 499 c-11 -16 -9 -17 19 -7 29 10 32 20 5 24 -7 1 -18 -6 -24 -17z\"></path><path d=\"M1625 441 c-6 -11 13 -26 22 -17 4 3 1 6 -6 6 -7 0 -9 5 -6 10 3 6 4 10 1 10 -3 0 -7 -4 -11 -9z\"></path><path d=\"M2371 314 c0 -11 3 -14 6 -6 3 7 2 16 -1 19 -3 4 -6 -2 -5 -13z\"></path><path d=\"M2485 171 c-3 -5 -2 -12 3 -15 5 -3 9 1 9 9 0 17 -3 19 -12 6z\"></path><path d=\"M2470 109 c0 -5 5 -7 10 -4 6 3 10 8 10 11 0 2 -4 4 -10 4 -5 0 -10 -5 -10 -11z\"></path><path d=\"M2540 100 c-9 -6 -10 -10 -3 -10 6 0 15 5 18 10 8 12 4 12 -15 0z\"></path><path d=\"M300 35 c0 -19 5 -35 10 -35 6 0 10 16 10 35 0 19 -4 35 -10 35 -5 0 -10 -16 -10 -35z\"></path><path d=\"M2370 50 c0 -5 5 -10 11 -10 5 0 7 5 4 10 -3 6 -8 10 -11 10 -2 0 -4 -4 -4 -10z\"></path></g><g transform=\"translate(0.000000,360.000000) scale(0.100000,-0.100000)\" fill=\"#2B8181\" stroke=\"none\"><path d=\"M3373 3325 c0 -22 2 -30 4 -17 2 12 2 30 0 40 -3 9 -5 -1 -4 -23z\"></path><path d=\"M3383 3080 c0 -25 2 -35 4 -22 2 12 2 32 0 45 -2 12 -4 2 -4 -23z\"></path><path d=\"M4240 2525 c0 -33 2 -35 35 -35 33 0 35 2 35 35 0 33 -2 35 -35 35 -33 0 -35 -2 -35 -35z\"></path><path d=\"M1959 673 c-13 -16 -12 -17 4 -4 16 13 21 21 13 21 -2 0 -10 -8 -17 -17z\"></path></g><g transform=\"translate(0.000000,360.000000) scale(0.100000,-0.100000)\" fill=\"#818181\" stroke=\"none\"><path d=\"M228 3241 c-5 -200 -8 -422 -8 -493 0 -126 0 -128 20 -116 20 13 20 23 18 493 0 264 -4 460 -8 435 l-6 -45 -5 45 c-2 25 -7 -119 -11 -319z m19 77 c-2 -24 -4 -5 -4 42 0 47 2 66 4 43 2 -24 2 -62 0 -85z m0 -650 c-3 -8 -6 -5 -6 6 -1 11 2 17 5 13 3 -3 4 -12 1 -19z\"></path><path d=\"M300 3138 c0 -415 -2 -463 -17 -480 -9 -10 -11 -18 -5 -18 6 0 21 13 33 29 11 16 31 34 44 41 l23 12 -6 195 c-4 160 -2 197 9 204 11 7 14 53 14 244 l0 235 -47 0 -48 0 0 -462z m17 180 c-2 -24 -4 -5 -4 42 0 47 2 66 4 43 2 -24 2 -62 0 -85z m0 -480 c-2 -24 -4 -5 -4 42 0 47 2 66 4 43 2 -24 2 -62 0 -85z\"></path><path d=\"M506 3323 c5 -324 12 -443 25 -443 10 0 12 417 2 598 -4 90 -9 122 -19 122 -11 0 -12 -54 -8 -277z\"></path><path d=\"M553 3520 c0 -47 2 -66 4 -42 2 23 2 61 0 85 -2 23 -4 4 -4 -43z\"></path><path d=\"M1119 3578 c0 -13 -2 -169 -4 -348 -3 -179 -9 -408 -15 -510 -6 -102 -12 -282 -15 -400 -2 -118 -4 -221 -4 -227 -1 -7 -10 -13 -20 -13 -14 0 -21 8 -23 29 -3 26 -5 28 -28 19 l-25 -9 24 -20 23 -19 -36 0 -36 0 0 -46 0 -46 85 7 85 7 0 -40 c0 -22 6 -43 13 -46 6 -4 1 -4 -13 -1 -14 2 -40 5 -57 5 -23 0 -33 5 -33 15 0 11 -11 15 -40 15 -29 0 -40 -4 -40 -15 0 -11 11 -15 40 -15 36 0 40 -2 40 -25 0 -23 4 -25 45 -25 24 0 78 -7 120 -17 60 -13 75 -20 75 -35 0 -14 -8 -18 -40 -18 -33 0 -40 3 -40 20 0 22 -3 22 -157 20 -69 -1 -83 1 -83 14 0 10 -9 16 -26 16 -14 0 -34 5 -45 10 -10 6 -19 7 -19 3 0 -4 -29 -53 -65 -108 -36 -55 -65 -105 -65 -112 0 -18 -14 -16 -33 5 -25 28 -21 70 19 184 20 57 36 113 36 126 0 16 5 22 14 18 10 -4 14 2 14 18 0 14 3 32 7 42 5 13 3 15 -7 9 -8 -5 -11 -3 -8 6 3 8 10 13 15 12 5 -1 13 14 19 33 l11 35 -24 -23 c-14 -13 -39 -52 -56 -88 -30 -62 -79 -120 -101 -120 -6 0 -29 -18 -51 -40 -29 -29 -58 -45 -94 -55 -29 -7 -61 -21 -70 -29 -10 -9 -24 -16 -33 -16 -8 0 -25 -9 -38 -20 -28 -24 -40 -25 -40 -4 0 12 -7 15 -30 12 -25 -4 -30 -1 -30 16 0 12 -9 32 -20 46 -69 85 -117 151 -132 179 -10 18 -22 29 -28 26 -5 -3 -10 0 -10 9 0 8 -11 27 -24 43 -14 16 -26 45 -29 64 -4 32 -4 31 -5 -8 -2 -33 3 -46 18 -55 12 -8 23 -28 27 -51 4 -26 10 -36 19 -33 7 3 28 -16 48 -45 32 -44 36 -56 36 -111 0 -59 11 -70 23 -23 3 11 3 -5 0 -35 -3 -30 -11 -58 -16 -62 -6 -3 -46 -9 -89 -13 l-78 -7 0 -54 c0 -51 1 -54 25 -54 14 0 25 5 25 10 0 6 12 10 28 10 l27 -1 -25 -15 -25 -15 25 5 c14 3 40 6 58 6 28 0 32 3 32 26 0 14 5 35 11 46 8 16 8 23 -2 30 -11 8 -10 9 3 5 9 -3 22 0 28 8 8 10 36 12 113 9 151 -6 200 -19 242 -61 33 -33 34 -36 18 -50 -16 -12 -8 -13 62 -7 44 4 90 11 103 15 13 5 37 9 53 9 16 0 42 9 57 20 36 27 170 38 179 14 8 -23 -7 -31 -21 -11 -24 32 -27 17 -5 -21 18 -31 27 -38 46 -34 21 4 23 1 23 -37 l0 -41 59 0 c54 0 60 -2 64 -22 l4 -23 2 23 c0 12 7 22 15 22 11 0 13 -9 9 -37 -7 -43 -33 -91 -33 -60 0 29 -17 19 -24 -14 -3 -17 -6 -53 -6 -80 0 -27 -4 -49 -10 -49 -5 0 -10 17 -10 38 -1 20 -7 48 -14 61 l-13 23 -26 -25 c-20 -18 -27 -34 -27 -61 0 -20 5 -36 11 -36 8 0 9 -25 5 -80 -3 -44 -9 -116 -12 -160 l-6 -80 26 0 c14 0 26 -3 26 -7 0 -5 46 -7 102 -7 57 1 109 -3 116 -8 6 -6 12 -21 12 -34 0 -13 5 -24 10 -24 6 0 9 -37 9 -92 -1 -51 -4 -81 -6 -65 -2 15 -9 25 -14 22 -25 -16 9 -399 42 -472 17 -38 49 -60 49 -33 0 6 8 14 18 17 34 13 62 53 57 81 -5 25 -5 25 4 4 6 -12 17 -22 26 -22 19 0 33 32 17 38 -18 6 -4 22 19 22 10 0 19 4 19 9 0 5 6 11 13 14 6 2 4 3 -6 1 -10 -1 -17 2 -15 7 5 16 68 52 68 40 0 -6 5 -11 10 -11 12 0 13 10 1 29 -7 11 -14 10 -37 -6 -16 -11 -37 -23 -46 -26 -10 -4 -18 -13 -18 -20 0 -17 -42 -37 -78 -37 -20 0 -23 -3 -13 -9 17 -11 8 -39 -16 -48 -10 -4 -21 -11 -25 -17 -6 -7 -11 -6 -18 4 -8 13 -10 13 -10 -2 0 -23 20 -34 31 -17 4 7 11 11 14 7 3 -3 -5 -18 -19 -33 -20 -21 -26 -24 -26 -11 0 9 -4 24 -9 34 -13 24 -36 281 -33 366 4 80 14 24 13 -67 0 -59 5 -111 14 -138 8 -24 12 -33 9 -19 -4 14 -8 63 -10 110 -9 210 -16 309 -25 361 -10 50 -15 58 -54 82 -24 16 -56 27 -77 27 -18 0 -39 5 -46 12 -14 14 -16 175 -3 211 11 29 53 73 101 106 19 13 41 32 48 42 7 11 19 19 27 19 8 0 19 9 25 20 6 11 20 20 30 20 11 0 20 6 20 14 0 7 14 19 30 26 17 7 48 28 68 46 20 19 41 34 45 34 4 0 17 9 29 20 12 11 32 20 45 20 16 0 23 6 23 18 0 13 17 26 53 43 28 13 56 29 60 36 4 7 17 13 27 13 11 0 20 6 20 13 0 12 44 37 67 37 7 0 13 5 13 10 0 10 118 70 138 70 6 0 15 7 19 15 10 17 86 59 126 69 16 4 38 15 49 26 22 20 99 50 130 50 10 0 18 4 18 8 0 5 19 15 43 22 23 8 58 22 77 31 49 25 213 76 293 91 37 7 67 16 67 20 0 5 7 8 15 8 8 0 56 14 106 30 50 17 110 33 133 36 l42 6 12 69 c7 38 12 88 12 110 0 36 -2 40 -15 29 -12 -10 -15 -10 -15 4 0 9 -7 16 -15 16 -8 0 -15 7 -15 16 0 9 5 12 12 8 8 -5 9 -2 5 10 -4 10 -7 25 -7 34 0 15 -2 15 -11 2 -7 -11 -8 -6 -4 19 5 22 3 36 -6 41 -7 5 -13 30 -14 57 -3 77 -25 184 -40 200 -8 8 -15 29 -15 46 0 18 -3 43 -5 57 -5 22 -4 22 4 5 5 -11 10 -36 11 -55 1 -19 4 -29 7 -21 3 8 0 44 -6 80 -20 115 -18 151 12 199 15 23 41 51 57 61 17 10 27 20 24 24 -3 3 -3 11 2 18 10 17 34 -17 34 -50 0 -23 -1 -24 -14 -6 -13 17 -14 17 -37 0 l-24 -17 24 5 c37 9 46 -11 49 -108 6 -183 34 -428 47 -413 1 2 5 32 8 68 7 81 12 95 43 109 43 19 50 12 16 -18 -24 -22 -32 -39 -32 -63 0 -18 -7 -52 -15 -75 -17 -48 -11 -80 11 -62 8 6 14 17 14 23 0 6 -5 4 -10 -4 -7 -11 -10 -7 -10 17 0 35 17 53 26 28 5 -13 12 -8 31 20 13 19 28 35 34 35 6 0 8 3 5 8 -2 4 20 9 50 10 56 3 61 -1 55 -47 -2 -7 3 -10 9 -6 6 4 9 13 6 21 -3 8 -1 14 4 14 6 0 10 -12 10 -26 0 -36 17 -21 18 16 0 17 -3 28 -8 25 -4 -3 -11 1 -13 7 -4 9 -6 9 -6 -1 -1 -10 -8 -8 -26 9 -21 20 -28 22 -50 12 -39 -18 -66 -16 -58 5 5 13 2 15 -15 11 -39 -11 -34 11 8 32 48 25 130 38 130 21 0 -6 16 -11 38 -11 21 0 43 -5 50 -12 8 -8 12 -9 12 -1 0 13 -94 43 -133 43 -14 0 -38 -5 -53 -10 -31 -12 -46 -4 -24 13 13 10 14 41 11 197 -3 102 -5 256 -4 343 l0 157 -1053 0 -1054 0 -1 -82 -2 -83 -10 83 c-5 45 -13 82 -18 82 -4 0 -10 -37 -12 -82 l-3 -83 -2 83 -2 82 -50 0 c-45 0 -50 -2 -51 -22z m2034 -161 c24 -9 21 -29 -8 -57 -14 -13 -25 -29 -25 -37 0 -16 -48 -29 -61 -16 -15 15 -24 83 -11 83 6 0 9 -6 6 -14 -3 -8 0 -17 7 -22 8 -4 15 -2 17 6 3 8 15 24 26 35 12 12 20 28 18 36 -2 9 -1 10 5 3 4 -6 16 -13 26 -17z m47 -73 c0 -44 -3 -55 -14 -51 -7 3 -23 -5 -35 -19 -26 -30 -95 -35 -89 -6 2 9 13 18 26 20 12 2 35 10 49 17 20 10 31 11 40 3 10 -8 13 -3 12 23 -1 19 -3 26 -6 17 -2 -10 -14 -18 -25 -18 l-21 0 21 23 c12 13 22 29 22 35 0 7 5 12 10 12 6 0 10 -25 10 -56z m-1940 -24 c0 -29 -4 -40 -15 -40 -11 0 -15 11 -15 40 0 29 4 40 15 40 11 0 15 -11 15 -40z m1799 -27 c0 -5 -4 -17 -9 -28 -8 -17 -8 -16 -7 8 1 15 5 27 9 27 4 0 8 -3 7 -7z m-700 -465 c1 -262 1 -268 -19 -268 -11 0 -20 -7 -20 -15 0 -17 -11 -18 -99 -9 -68 8 -83 24 -21 24 l40 0 0 80 0 80 45 0 45 0 0 158 c0 88 3 215 7 283 l8 124 6 -95 c4 -52 7 -215 8 -362z m705 406 c9 -3 16 -12 16 -20 0 -20 -13 -17 -28 6 -13 22 -12 23 12 14z m-17 -96 c-3 -8 -6 -5 -6 6 -1 11 2 17 5 13 3 -3 4 -12 1 -19z m-1847 -58 c0 -39 -1 -40 -34 -40 -34 0 -35 -1 -39 -42 -2 -24 -4 -6 -5 40 l-2 82 40 0 40 0 0 -40z m1120 0 l0 -40 -40 0 -40 0 0 40 0 40 40 0 40 0 0 -40z m727 -47 c-3 -10 -5 -2 -5 17 0 19 2 27 5 18 2 -10 2 -26 0 -35z m183 -27 c0 -19 -4 -38 -10 -41 -6 -4 -10 10 -10 34 0 23 5 41 10 41 6 0 10 -15 10 -34z m-910 -126 l0 -80 -40 0 -40 0 0 80 0 80 40 0 40 0 0 -80z m907 3 c-2 -16 -4 -5 -4 22 0 28 2 40 4 28 2 -13 2 -35 0 -50z m-140 -110 c-3 -10 -5 -2 -5 17 0 19 2 27 5 18 2 -10 2 -26 0 -35z m233 -32 c0 -17 -18 -21 -24 -6 -3 9 0 15 9 15 8 0 15 -4 15 -9z m-2188 -276 c2 -82 2 -130 -1 -105 -5 38 -6 32 -11 -40 -4 -47 -6 25 -6 159 1 254 11 246 18 -14z m47 -137 c-1 -172 -6 -335 -9 -363 -4 -27 -7 113 -8 313 0 226 4 362 10 362 6 0 8 -117 7 -312z m1186 75 c5 -52 4 -78 -4 -81 -7 -2 -7 -9 1 -22 15 -23 5 -35 -19 -25 -10 4 -37 7 -60 6 -25 -2 -43 2 -43 8 0 6 -18 11 -40 11 -22 0 -40 5 -40 10 0 6 9 10 20 10 17 0 20 7 20 40 0 33 3 40 20 40 17 0 20 7 20 40 l0 40 59 0 59 0 7 -77z m825 -5 c0 -18 -2 -20 -9 -8 -6 8 -7 18 -5 22 9 14 14 9 14 -14z m-2463 -500 c-3 -8 -6 -5 -6 6 -1 11 2 17 5 13 3 -3 4 -12 1 -19z m553 2 c0 -5 -6 -10 -14 -10 -8 0 -18 5 -21 10 -3 6 3 10 14 10 12 0 21 -4 21 -10z m-1090 -36 c0 -8 -4 -12 -10 -9 -5 3 -10 10 -10 16 0 5 5 9 10 9 6 0 10 -7 10 -16z m688 -89 l3 -85 -36 0 c-33 0 -35 2 -35 35 0 23 11 53 33 85 17 27 32 50 32 50 0 0 1 -38 3 -85z m-372 18 c7 -10 14 -29 14 -42 0 -18 -4 -22 -17 -15 -10 4 -36 9 -58 12 -38 4 -75 22 -46 22 7 0 24 9 38 20 32 25 52 25 69 3z m824 5 c0 -7 -11 -40 -25 -73 l-25 -60 0 48 c0 36 4 47 15 47 12 0 13 4 6 19 -6 10 -7 21 -4 25 11 11 33 7 33 -6z m27 -50 c-3 -8 -6 -5 -6 6 -1 11 2 17 5 13 3 -3 4 -12 1 -19z m-717 2 c0 -5 -4 -10 -10 -10 -5 0 -10 5 -10 10 0 6 5 10 10 10 6 0 10 -4 10 -10z m160 -30 c0 -6 -6 -20 -12 -31 -10 -17 -10 -23 0 -26 37 -14 -5 -30 -104 -40 -48 -4 -53 -2 -89 31 -21 20 -35 39 -32 42 3 3 16 -3 28 -15 22 -21 41 -25 87 -21 14 1 22 -4 22 -15 0 -12 6 -15 23 -9 29 9 48 24 42 34 -7 11 16 60 27 60 4 0 8 -5 8 -10z m43 -62 c-13 -12 -25 -19 -29 -16 -9 9 18 37 36 38 10 0 8 -6 -7 -22z m-690 -15 c-7 -2 -19 -2 -25 0 -7 3 -2 5 12 5 14 0 19 -2 13 -5z m1107 -52 c0 -5 -7 -14 -15 -21 -13 -10 -15 -9 -15 9 0 12 6 21 15 21 8 0 15 -4 15 -9z m20 -155 c0 -3 -4 -8 -10 -11 -5 -3 -10 -1 -10 4 0 6 5 11 10 11 6 0 10 -2 10 -4z m-160 -91 c0 -8 -2 -15 -4 -15 -2 0 -6 7 -10 15 -3 8 -1 15 4 15 6 0 10 -7 10 -15z m7 -87 c-3 -8 -6 -5 -6 6 -1 11 2 17 5 13 3 -3 4 -12 1 -19z m43 -43 c0 -8 -4 -15 -10 -15 -5 0 -10 7 -10 15 0 8 5 15 10 15 6 0 10 -7 10 -15z m10 -216 c0 -5 -4 -9 -10 -9 -5 0 -10 7 -10 16 0 8 5 12 10 9 6 -3 10 -10 10 -16z m120 -19 c13 -11 18 -20 12 -20 -6 0 -17 6 -25 14 -8 8 -32 16 -53 19 l-39 4 41 1 c28 1 48 -4 64 -18z m-150 -11 c0 -5 -7 -9 -15 -9 -8 0 -15 7 -15 15 0 9 6 12 15 9 8 -4 15 -10 15 -15z\"></path><path d=\"M2320 2309 c0 -5 5 -7 10 -4 6 3 10 8 10 11 0 2 -4 4 -10 4 -5 0 -10 -5 -10 -11z\"></path><path d=\"M845 1770 c-3 -5 1 -10 9 -10 9 0 16 5 16 10 0 6 -4 10 -9 10 -6 0 -13 -4 -16 -10z\"></path><path d=\"M4238 3518 c-1 -46 -2 -280 -2 -520 l-1 -438 42 0 43 0 0 200 0 200 -40 0 -40 0 0 40 0 40 40 0 40 0 0 280 0 280 -40 0 -40 0 -2 -82z\"></path><path d=\"M4415 3483 c-10 -138 -10 -106 0 -573 4 -201 4 -398 0 -437 l-7 -73 -33 0 c-18 0 -36 6 -39 13 -5 10 -7 10 -12 0 -7 -15 -84 -18 -84 -3 0 6 -18 10 -40 10 -23 0 -40 5 -40 11 0 8 -20 10 -67 5 -111 -11 -135 -17 -140 -37 -6 -23 -33 -13 -33 13 0 15 -3 18 -12 10 -9 -7 -22 -6 -43 2 -20 8 -40 10 -60 4 -27 -7 -34 -4 -72 37 -23 25 -44 45 -48 45 -8 0 13 -26 48 -58 30 -29 36 -62 11 -62 -8 0 -12 -5 -9 -11 13 -21 -66 21 -88 47 -26 30 -52 25 -41 -8 5 -18 3 -20 -20 -16 -17 4 -25 1 -23 -6 2 -6 26 -11 58 -10 46 1 48 0 14 -4 l-40 -6 55 -5 c52 -6 55 -7 55 -33 -1 -21 4 -28 18 -28 15 0 18 5 14 21 -6 21 12 49 32 49 5 0 13 9 16 20 7 23 21 26 28 8 4 -10 8 -10 15 0 8 11 17 10 53 -8 24 -12 54 -28 67 -34 19 -9 22 -17 20 -44 -4 -33 -3 -33 27 -28 58 11 290 37 333 37 31 1 46 6 57 22 11 15 15 17 16 7 1 -8 6 9 13 39 10 47 15 56 39 62 20 6 29 3 36 -9 9 -19 26 -378 26 -572 0 -202 -15 -860 -21 -917 -7 -69 13 -79 21 -11 4 29 7 133 8 230 1 114 6 178 12 178 6 0 9 17 7 40 -2 22 -8 40 -13 40 -5 0 -9 18 -9 40 0 23 5 40 11 40 9 0 10 42 7 155 -6 161 -1 245 13 245 4 0 10 -37 12 -82 1 -46 4 71 5 259 2 261 5 344 15 350 17 11 113 4 170 -12 l47 -14 0 590 0 589 -100 0 -100 0 0 -80 c0 -53 -4 -80 -11 -80 -9 0 -9 -41 -3 -152 8 -162 6 -530 -5 -713 -5 -88 -9 -110 -21 -111 -8 0 -20 4 -27 8 -6 5 -14 5 -18 -2 -4 -7 -11 -5 -21 5 -12 12 -15 96 -16 570 l0 555 -28 0 -27 0 -8 -117z m350 -1024 c5 -5 0 -9 -14 -9 -12 0 -29 7 -38 15 -14 14 -13 15 13 9 16 -4 33 -11 39 -15z m-235 -35 c0 -8 -4 -12 -10 -9 -5 3 -10 10 -10 16 0 5 5 9 10 9 6 0 10 -7 10 -16z m-890 -9 c10 -12 10 -15 -4 -15 -9 0 -16 7 -16 15 0 8 2 15 4 15 2 0 9 -7 16 -15z m520 -5 c0 -5 -18 -10 -40 -10 -22 0 -40 5 -40 10 0 6 18 10 40 10 22 0 40 -4 40 -10z m380 -250 c6 0 11 37 12 83 l2 82 3 -78 c3 -48 0 -84 -7 -92 -8 -9 -9 -37 -4 -84 5 -60 4 -71 -8 -71 -12 0 -16 20 -20 103 -2 56 -2 147 1 202 l6 100 3 -122 c1 -71 7 -123 12 -123z m-220 220 c0 -5 -8 -10 -17 -10 -56 -1 -278 -20 -295 -26 -15 -5 -19 -2 -16 13 3 15 16 19 88 24 151 10 240 9 240 -1z\"></path><path d=\"M640 3400 l0 -40 80 0 80 0 0 40 0 40 -80 0 -80 0 0 -40z\"></path><path d=\"M43 2860 c-2 -234 1 -418 5 -410 4 8 5 200 2 425 l-5 410 -2 -425z\"></path><path d=\"M3475 2820 c-3 -5 1 -10 9 -10 8 0 18 5 21 10 3 6 -1 10 -9 10 -8 0 -18 -4 -21 -10z\"></path><path d=\"M3621 2827 c2 -1 15 -11 29 -22 l25 -20 -19 23 c-11 12 -24 22 -29 22 -6 0 -8 -1 -6 -3z\"></path><path d=\"M3547 2773 c-7 -6 38 -53 51 -52 11 1 2 30 -13 45 -15 15 -28 18 -38 7z\"></path><path d=\"M3684 2758 c22 -38 20 -51 -6 -42 -13 4 -26 12 -30 18 -4 6 -10 7 -15 3 -4 -5 -2 -11 4 -15 16 -10 21 -74 6 -79 -8 -3 -13 5 -13 19 l-1 23 -14 -25 c-8 -14 -14 -35 -15 -48 0 -13 -8 -40 -19 -61 l-18 -39 28 10 c19 7 31 19 35 36 14 61 43 106 45 70 0 -7 5 -2 10 11 5 14 8 30 5 37 -3 7 2 18 10 24 19 17 18 34 -7 61 l-21 24 16 -27z m-54 -127 c0 -6 -4 -13 -10 -16 -5 -3 -10 1 -10 9 0 9 5 16 10 16 6 0 10 -4 10 -9z m-10 -65 c0 -7 -7 -19 -15 -26 -16 -13 -20 -3 -9 24 8 20 24 21 24 2z\"></path><path d=\"M3385 2759 c-11 -16 -1 -19 13 -3 7 8 8 14 3 14 -5 0 -13 -5 -16 -11z\"></path><path d=\"M3520 2691 c0 -4 11 -6 25 -3 14 2 25 6 25 8 0 2 -11 4 -25 4 -14 0 -25 -4 -25 -9z\"></path><path d=\"M3390 2681 c19 -4 50 -15 68 -24 17 -10 32 -15 32 -12 0 11 -81 45 -107 44 -25 -1 -25 -2 7 -8z\"></path><path d=\"M3560 2666 c0 -2 7 -6 15 -10 8 -3 15 -1 15 4 0 6 -7 10 -15 10 -8 0 -15 -2 -15 -4z\"></path><path d=\"M875 2639 c-4 -6 -5 -12 -2 -15 2 -3 7 2 10 11 7 17 1 20 -8 4z\"></path><path d=\"M900 2633 c0 -5 5 -15 10 -23 9 -13 11 -13 20 0 15 22 12 30 -10 30 -11 0 -20 -3 -20 -7z\"></path><path d=\"M3340 2620 c-1 -14 -2 -53 -2 -88 0 -34 -3 -60 -8 -57 -5 3 -7 11 -4 18 2 7 -3 21 -11 32 -15 19 -16 18 -12 -16 5 -43 37 -96 47 -78 5 7 13 8 21 3 11 -6 12 -5 2 7 -9 12 -17 87 -14 137 1 7 17 12 45 12 32 0 50 -6 70 -25 23 -21 25 -27 14 -45 -16 -26 -74 -53 -99 -47 -28 8 -23 -2 7 -14 25 -9 26 -11 9 -23 -10 -7 -15 -19 -12 -27 4 -10 6 -9 6 4 1 10 9 17 22 17 19 0 19 -1 5 -16 -18 -18 -21 -34 -6 -34 6 0 10 7 10 15 0 8 6 12 14 9 8 -3 27 1 43 10 21 12 23 15 8 13 -11 -1 -21 2 -22 7 -1 5 -7 12 -13 16 -9 5 0 20 27 46 57 56 79 124 41 124 -7 0 -7 -4 1 -14 8 -10 8 -22 -4 -47 -14 -32 -15 -33 -21 -12 -10 35 -67 66 -114 61 -33 -3 -40 0 -43 17 -4 17 -5 16 -7 -5z\"></path><path d=\"M3270 2592 c0 -17 4 -34 10 -37 6 -4 7 6 3 27 -8 44 -13 48 -13 10z\"></path><path d=\"M179 2583 l-24 -28 28 24 c15 14 27 26 27 28 0 8 -8 1 -31 -24z\"></path><path d=\"M136 2543 c-6 -14 -5 -15 5 -6 7 7 10 15 7 18 -3 3 -9 -2 -12 -12z\"></path><path d=\"M113 2508 c-15 -18 -35 -58 -29 -58 2 0 13 16 25 35 20 35 22 46 4 23z\"></path><path d=\"M3634 2488 l-19 -21 28 18 c28 18 33 25 19 25 -5 0 -17 -10 -28 -22z\"></path><path d=\"M3515 2470 c-3 -6 1 -7 9 -4 18 7 21 14 7 14 -6 0 -13 -4 -16 -10z\"></path><path d=\"M3650 2460 c0 -5 5 -10 10 -10 6 0 10 5 10 10 0 6 -4 10 -10 10 -5 0 -10 -4 -10 -10z\"></path><path d=\"M10 2423 c0 -25 4 -31 15 -27 10 4 15 0 16 -12 0 -17 1 -16 9 2 5 12 13 25 19 29 22 13 11 25 -14 15 -19 -7 -27 -6 -34 8 -9 14 -10 11 -11 -15z\"></path><path d=\"M3361 2355 c-1 -22 -4 -57 -7 -77 -4 -23 -3 -38 3 -38 6 0 13 23 17 50 4 28 9 58 12 68 5 13 4 14 -4 3 -8 -11 -11 -9 -15 10 -3 16 -5 10 -6 -16z\"></path><path d=\"M9 2304 c-5 -15 -8 -29 -5 -31 2 -2 8 10 14 26 13 38 5 41 -9 5z\"></path><path d=\"M3431 2311 c-16 -29 -14 -101 2 -101 33 0 63 48 57 90 -2 18 0 16 -27 24 -16 5 -25 2 -32 -13z m29 -51 c-15 -28 -24 -19 -16 16 5 19 10 24 17 17 8 -8 7 -18 -1 -33z\"></path><path d=\"M3520 2225 c0 -24 2 -26 15 -15 9 7 12 16 8 19 -4 4 -11 10 -15 15 -5 5 -8 -3 -8 -19z\"></path><path d=\"M3723 2243 c9 -2 23 -2 30 0 6 3 -1 5 -18 5 -16 0 -22 -2 -12 -5z\"></path><path d=\"M6 2225 c-3 -8 -1 -15 4 -15 6 0 10 7 10 15 0 8 -2 15 -4 15 -2 0 -6 -7 -10 -15z\"></path><path d=\"M3618 2223 c12 -2 32 -2 45 0 12 2 2 4 -23 4 -25 0 -35 -2 -22 -4z\"></path><path d=\"M3336 2162 c-18 -129 -17 -127 -6 -112 7 11 9 3 4 -30 -4 -25 -11 -48 -17 -51 -5 -4 -7 -19 -5 -33 3 -15 3 -24 0 -21 -3 3 -12 -18 -19 -46 -15 -59 -11 -76 6 -27 11 31 13 32 26 14 7 -10 19 -15 25 -11 8 5 6 11 -6 19 -15 11 -16 23 -9 87 4 41 9 90 10 110 2 20 6 59 10 87 4 29 3 52 -3 56 -6 3 -13 -15 -16 -42z\"></path><path d=\"M3494 2151 c-29 -36 -47 -71 -36 -71 5 0 14 11 20 25 11 23 32 35 32 18 0 -5 20 -9 45 -10 39 -2 45 1 45 17 0 22 -51 41 -58 22 -4 -14 -32 -16 -32 -3 0 5 5 11 12 13 7 3 8 7 3 10 -6 3 -19 -6 -31 -21z\"></path><path d=\"M851 2144 c0 -11 3 -14 6 -6 3 7 2 16 -1 19 -3 4 -6 -2 -5 -13z\"></path><path d=\"M3172 2050 c-1 -63 -5 -126 -7 -140 l-6 -25 11 24 c6 14 9 73 7 140 l-3 116 -2 -115z\"></path><path d=\"M832 2095 c-15 -33 -16 -187 -2 -165 6 9 8 41 4 76 -4 40 -2 69 6 84 6 12 10 24 7 26 -2 2 -9 -7 -15 -21z\"></path><path d=\"M910 2071 c0 -6 5 -13 10 -16 6 -3 10 1 10 9 0 9 -4 16 -10 16 -5 0 -10 -4 -10 -9z\"></path><path d=\"M856 2045 c-9 -9 -16 -21 -16 -26 0 -5 9 0 21 12 11 11 19 23 16 25 -3 3 -12 -2 -21 -11z\"></path><path d=\"M3421 2042 c-6 -12 -11 -27 -11 -34 0 -7 7 0 15 16 9 16 13 31 11 33 -2 3 -9 -4 -15 -15z\"></path><path d=\"M25 2027 c-4 -10 -5 -21 -1 -24 10 -10 18 4 13 24 -4 17 -4 17 -12 0z\"></path><path d=\"M3311 2023 c-1 -6 -4 -20 -7 -30 -5 -17 -5 -17 6 0 6 10 9 23 6 30 -3 9 -5 9 -5 0z\"></path><path d=\"M3576 1900 c-3 -55 -9 -145 -12 -199 -7 -99 -7 -100 21 -125 19 -17 39 -26 61 -26 30 0 34 -3 34 -27 0 -21 3 -24 9 -14 15 23 -6 49 -41 53 -29 3 -33 7 -44 53 -11 48 -12 49 -14 15 l-2 -35 -8 30 c-4 17 -7 55 -7 85 l0 55 7 -45 c5 -35 7 -23 8 56 1 56 5 129 8 163 4 38 3 61 -3 61 -6 0 -13 -44 -17 -100z\"></path><path d=\"M790 1964 c0 -8 -4 -13 -9 -10 -5 4 -7 -3 -4 -14 8 -30 23 -24 23 10 0 17 -2 30 -5 30 -3 0 -5 -7 -5 -16z\"></path><path d=\"M882 1950 c0 -19 2 -27 5 -17 2 9 2 25 0 35 -3 9 -5 1 -5 -18z\"></path><path d=\"M905 1968 c-4 -10 -4 -26 0 -35 8 -17 8 -17 12 0 3 9 3 25 0 35 -4 16 -4 16 -12 0z\"></path><path d=\"M934 1966 c-3 -8 -1 -23 5 -33 9 -15 10 -13 11 15 0 34 -7 42 -16 18z\"></path><path d=\"M3382 1933 c-19 -51 -23 -67 -16 -60 9 9 34 80 30 84 -2 2 -8 -9 -14 -24z\"></path><path d=\"M3262 1775 c-23 -59 -25 -60 -101 -60 -48 0 -71 -4 -71 -12 0 -17 17 -25 25 -13 4 6 32 9 63 8 67 -2 82 4 82 37 0 13 5 25 11 27 6 2 9 13 7 23 -4 17 -7 15 -16 -10z\"></path><path d=\"M3101 1744 c0 -11 3 -14 6 -6 3 7 2 16 -1 19 -3 4 -6 -2 -5 -13z\"></path><path d=\"M3203 1600 c4 -29 19 -103 33 -164 20 -80 29 -105 35 -91 11 28 10 55 -1 30 -8 -18 -9 -16 -11 10 -2 17 -2 41 -1 55 1 19 -1 22 -8 10 -7 -11 -10 -5 -11 25 -1 22 -1 46 0 53 1 8 -3 20 -10 28 -7 8 -12 30 -11 49 1 19 -4 37 -10 41 -8 5 -9 -8 -5 -46z\"></path><path d=\"M3401 1563 c0 -42 3 -52 9 -38 8 18 9 17 9 -7 1 -17 11 -33 29 -46 28 -20 85 -35 76 -21 -3 5 -15 9 -27 9 -12 0 -32 8 -44 18 -21 16 -26 38 -33 135 0 4 -4 7 -10 7 -6 0 -10 -25 -9 -57z\"></path><path d=\"M185 1547 c-5 -31 -4 -52 3 -59 16 -16 24 29 13 72 l-8 35 -8 -48z\"></path><path d=\"M413 1553 c9 -2 23 -2 30 0 6 3 -1 5 -18 5 -16 0 -22 -2 -12 -5z\"></path><path d=\"M767 1523 c-4 -3 -7 -11 -7 -17 0 -6 5 -5 12 2 6 6 9 14 7 17 -3 3 -9 2 -12 -2z\"></path><path d=\"M4553 1480 c0 -25 2 -35 4 -22 2 12 2 32 0 45 -2 12 -4 2 -4 -23z\"></path><path d=\"M742 1470 c-14 -23 -15 -30 -3 -30 8 0 24 41 18 47 -2 1 -8 -7 -15 -17z\"></path><path d=\"M3405 1470 c4 -14 13 -61 20 -105 l14 -80 -6 74 c-3 41 -12 88 -20 105 -11 23 -13 25 -8 6z\"></path><path d=\"M3650 1475 c-7 -8 -19 -15 -26 -15 -8 0 -14 -4 -14 -10 0 -14 2 -13 40 15 19 14 29 25 23 25 -6 0 -16 -7 -23 -15z\"></path><path d=\"M173 1434 c-7 -18 15 -393 28 -469 7 -47 8 -46 4 15 -3 36 -10 141 -16 233 -6 92 -9 183 -7 202 4 38 1 45 -9 19z\"></path><path d=\"M3553 1433 c9 -2 25 -2 35 0 9 3 1 5 -18 5 -19 0 -27 -2 -17 -5z\"></path><path d=\"M706 1364 c-8 -20 -7 -74 2 -97 4 -9 7 12 7 48 0 36 -1 65 -1 65 -1 0 -5 -7 -8 -16z\"></path><path d=\"M1033 1340 c0 -25 2 -35 4 -22 2 12 2 32 0 45 -2 12 -4 2 -4 -23z\"></path><path d=\"M4555 1275 c-4 -47 -3 -120 2 -163 10 -74 10 -70 12 86 0 89 -1 162 -3 162 -2 0 -7 -38 -11 -85z\"></path><path d=\"M3271 1314 c-1 -12 40 -234 64 -344 11 -47 12 -51 7 -15 -4 28 -7 82 -6 120 1 39 -1 64 -3 58 -11 -32 -22 -6 -29 67 -3 44 -10 80 -15 80 -4 0 -10 10 -12 23 -2 12 -5 17 -6 11z\"></path><path d=\"M3442 1240 c0 -14 2 -19 5 -12 2 6 2 18 0 25 -3 6 -5 1 -5 -13z\"></path><path d=\"M1022 1225 c0 -16 2 -22 5 -12 2 9 2 23 0 30 -3 6 -5 -1 -5 -18z\"></path><path d=\"M631 1184 c0 -11 3 -14 6 -6 3 7 2 16 -1 19 -3 4 -6 -2 -5 -13z\"></path><path d=\"M991 1178 c-1 -31 8 -58 20 -58 5 0 9 12 9 28 0 20 -3 23 -9 13 -7 -11 -10 -7 -14 15 -4 28 -4 29 -6 2z\"></path><path d=\"M3462 1140 c0 -14 2 -19 5 -12 2 6 2 18 0 25 -3 6 -5 1 -5 -13z\"></path><path d=\"M641 1135 c1 -19 18 -51 18 -35 0 8 -4 22 -9 30 -5 8 -9 11 -9 5z\"></path><path d=\"M4530 1035 c0 -50 4 -85 10 -85 6 0 10 35 10 85 0 50 -4 85 -10 85 -6 0 -10 -35 -10 -85z\"></path><path d=\"M3477 1065 c3 -27 9 -59 14 -70 10 -24 -1 59 -12 95 -5 15 -6 6 -2 -25z\"></path><path d=\"M660 1056 c0 -8 4 -17 9 -20 5 -4 7 3 4 14 -6 23 -13 26 -13 6z\"></path><path d=\"M3341 1045 c1 -11 5 -33 9 -50 l8 -30 1 35 c0 19 -4 42 -9 50 -8 12 -10 11 -9 -5z\"></path><path d=\"M1004 880 c0 -91 2 -128 3 -82 2 45 2 119 0 165 -1 45 -3 8 -3 -83z\"></path><path d=\"M4563 995 c0 -22 2 -30 4 -17 2 12 2 30 0 40 -3 9 -5 -1 -4 -23z\"></path><path d=\"M681 1004 c0 -11 3 -14 6 -6 3 7 2 16 -1 19 -3 4 -6 -2 -5 -13z\"></path><path d=\"M703 984 c-9 -9 -10 -20 -4 -37 10 -25 -2 -720 -15 -870 -4 -53 -3 -77 5 -77 6 0 11 1 11 3 2 10 19 992 17 993 -1 1 -8 -4 -14 -12z\"></path><path d=\"M3360 936 c0 -13 -2 -39 -5 -57 -4 -26 -3 -30 4 -14 8 16 10 12 10 -22 1 -25 6 -43 12 -43 8 0 10 18 5 61 -3 34 -6 70 -6 80 0 11 -4 19 -10 19 -5 0 -10 -11 -10 -24z\"></path><path d=\"M3502 940 c0 -14 3 -34 8 -45 l9 -20 -1 20 c0 11 -4 31 -8 45 l-8 25 0 -25z\"></path><path d=\"M2129 893 c-1 -5 -1 -11 -1 -14 1 -4 -33 -40 -76 -80 -42 -41 -77 -78 -77 -83 0 -5 -6 -11 -12 -13 -14 -5 -18 23 -4 29 16 6 153 139 148 144 -2 3 -31 -21 -64 -53 -157 -153 -202 -186 -254 -186 -21 0 -36 -4 -33 -9 4 -5 17 -7 30 -4 34 9 30 -7 -12 -46 -84 -78 -93 -88 -85 -88 5 0 18 -3 28 -6 12 -4 14 -3 6 3 -10 7 -10 13 2 29 13 16 16 17 25 4 8 -12 10 -9 10 13 0 24 4 27 33 27 30 0 77 32 77 53 0 15 -23 6 -41 -15 -10 -13 -18 -18 -19 -13 0 13 48 65 60 65 6 0 10 -4 10 -10 0 -23 38 -7 83 35 26 25 54 45 62 45 8 0 15 7 15 15 0 8 9 19 20 25 11 6 20 17 20 25 0 8 8 15 19 15 10 0 21 9 24 20 3 11 12 20 21 20 9 0 16 5 16 10 0 6 17 10 39 10 55 0 122 -53 137 -109 12 -42 11 -468 0 -513 -3 -13 -3 -18 0 -11 9 20 44 -8 40 -32 -2 -11 -1 -14 1 -7 3 7 9 9 15 6 6 -4 5 3 -2 16 -8 14 -9 39 -5 69 8 54 -5 49 -15 -6 -6 -28 -8 -12 -9 60 0 54 3 97 8 97 5 0 12 -8 14 -18 3 -9 4 35 4 98 -1 101 -2 104 -4 28 -2 -54 -8 -88 -15 -88 -6 0 -8 9 -4 23 3 12 6 68 6 125 0 66 4 101 10 97 6 -3 10 -18 10 -33 0 -16 3 -22 8 -15 4 6 25 13 47 16 l40 4 -42 1 c-40 2 -43 4 -44 30 0 41 -23 97 -38 94 -7 -1 -10 2 -6 8 8 13 -22 43 -35 35 -12 -8 -72 33 -65 45 6 10 -20 20 -48 19 -17 -1 -15 -3 8 -9 25 -6 21 -8 -25 -9 -39 0 -51 2 -40 9 13 8 12 10 -2 10 -10 0 -19 -3 -19 -7z m251 -154 c0 -10 -4 -19 -10 -19 -5 0 -10 12 -10 26 0 14 4 23 10 19 6 -3 10 -15 10 -26z m-440 -49 c0 -5 -7 -10 -16 -10 -8 0 -12 5 -9 10 3 6 10 10 16 10 5 0 9 -4 9 -10z m-40 -30 c0 -5 -5 -10 -11 -10 -5 0 -7 5 -4 10 3 6 8 10 11 10 2 0 4 -4 4 -10z\"></path><path d=\"M212 860 c0 -14 2 -19 5 -12 2 6 2 18 0 25 -3 6 -5 1 -5 -13z\"></path><path d=\"M1072 868 c6 -18 28 -21 28 -4 0 9 -7 16 -16 16 -9 0 -14 -5 -12 -12z\"></path><path d=\"M2284 865 c11 -8 24 -15 30 -15 5 0 1 7 -10 15 -10 8 -23 14 -29 14 -5 0 -1 -6 9 -14z\"></path><path d=\"M223 795 c0 -22 2 -30 4 -17 2 12 2 30 0 40 -3 9 -5 -1 -4 -23z\"></path><path d=\"M3531 808 c0 -14 -4 -35 -7 -45 -5 -17 -5 -17 6 0 6 10 9 30 7 45 l-4 27 -2 -27z\"></path><path d=\"M4402 780 c0 -14 2 -19 5 -12 2 6 2 18 0 25 -3 6 -5 1 -5 -13z\"></path><path d=\"M3346 775 c-3 -8 -1 -26 4 -40 9 -24 8 -25 -33 -27 l-42 -1 50 -6 49 -6 12 -50 c6 -27 12 -43 13 -35 1 28 -20 104 -31 111 -6 4 -11 21 -11 38 0 35 -2 38 -11 16z\"></path><path d=\"M4258 743 c12 -2 32 -2 45 0 12 2 2 4 -23 4 -25 0 -35 -2 -22 -4z\"></path><path d=\"M3525 730 c5 -8 8 -27 6 -42 -4 -38 6 -36 11 2 3 20 -1 35 -11 43 -12 10 -13 9 -6 -3z\"></path><path d=\"M3567 719 c7 -7 15 -10 18 -7 3 3 -2 9 -12 12 -14 6 -15 5 -6 -5z\"></path><path d=\"M3618 723 c12 -2 32 -2 45 0 12 2 2 4 -23 4 -25 0 -35 -2 -22 -4z\"></path><path d=\"M3858 723 c12 -2 32 -2 45 0 12 2 2 4 -23 4 -25 0 -35 -2 -22 -4z\"></path><path d=\"M3401 688 c1 -18 5 -44 9 -58 6 -19 8 -11 9 33 1 32 -3 57 -9 57 -5 0 -10 -15 -9 -32z\"></path><path d=\"M0 667 c0 -26 4 -55 10 -65 19 -34 36 -128 32 -185 -3 -48 -8 -60 -25 -66 -20 -8 -20 -8 1 -13 33 -9 52 16 52 68 0 24 5 44 11 44 5 0 7 -5 4 -10 -4 -6 0 -22 9 -35 9 -13 16 -30 16 -38 0 -7 9 -23 20 -35 11 -12 20 -26 20 -32 0 -5 5 -10 11 -10 5 0 7 -5 4 -10 -4 -6 2 -23 12 -38 14 -20 19 -54 24 -137 l5 -110 2 105 c2 95 4 103 17 86 8 -11 15 -17 15 -13 0 10 -24 61 -31 67 -22 17 -118 212 -143 290 -25 77 -39 109 -47 105 -3 -3 -4 6 -2 19 3 14 0 32 -6 43 -8 15 -10 9 -11 -30z\"></path><path d=\"M3058 693 c12 -2 32 -2 45 0 12 2 2 4 -23 4 -25 0 -35 -2 -22 -4z\"></path><path d=\"M2720 680 c0 -5 18 -10 40 -10 22 0 40 5 40 10 0 6 -18 10 -40 10 -22 0 -40 -4 -40 -10z\"></path><path d=\"M2578 673 c12 -2 32 -2 45 0 12 2 2 4 -23 4 -25 0 -35 -2 -22 -4z\"></path><path d=\"M4355 670 c3 -5 8 -10 11 -10 2 0 4 5 4 10 0 6 -5 10 -11 10 -5 0 -7 -4 -4 -10z\"></path><path d=\"M3535 610 c-4 -17 -5 -34 -2 -36 2 -3 7 10 11 27 8 42 0 50 -9 9z\"></path><path d=\"M4720 600 c0 -5 18 -10 40 -10 22 0 40 5 40 10 0 6 -18 10 -40 10 -22 0 -40 -4 -40 -10z\"></path><path d=\"M3422 580 c0 -14 2 -19 5 -12 2 6 2 18 0 25 -3 6 -5 1 -5 -13z\"></path><path d=\"M3402 568 c-1 -14 -4 -32 -7 -40 -8 -21 17 -47 50 -52 17 -2 23 -1 15 1 -8 3 -20 13 -27 22 -7 9 -13 12 -14 6 -1 -5 -5 13 -9 40 -4 28 -8 38 -8 23z\"></path><path d=\"M3521 542 c0 -12 -8 -25 -16 -28 -8 -4 -15 -13 -15 -20 0 -11 5 -10 21 5 13 12 19 27 16 43 l-4 23 -2 -23z\"></path><path d=\"M1 524 c0 -11 3 -14 6 -6 3 7 2 16 -1 19 -3 4 -6 -2 -5 -13z\"></path><path d=\"M1013 415 c6 -161 30 -415 39 -415 11 0 10 40 -2 120 -5 36 -12 137 -15 225 -4 89 -11 164 -16 170 -7 7 -9 -25 -6 -100z\"></path><path d=\"M3298 503 c12 -2 32 -2 45 0 12 2 2 4 -23 4 -25 0 -35 -2 -22 -4z\"></path><path d=\"M4258 473 c12 -2 32 -2 45 0 12 2 2 4 -23 4 -25 0 -35 -2 -22 -4z\"></path><path d=\"M4413 440 c0 -25 2 -35 4 -22 2 12 2 32 0 45 -2 12 -4 2 -4 -23z\"></path><path d=\"M1042 445 c2 -11 13 -24 25 -30 18 -8 23 -21 29 -73 3 -35 12 -66 18 -68 7 -3 10 -31 9 -77 -2 -82 5 -137 18 -137 5 0 6 13 3 29 -3 16 -2 31 3 34 5 4 16 -23 23 -58 9 -43 18 -65 28 -65 11 0 12 9 7 43 -7 46 -26 109 -36 117 -9 8 -29 71 -29 93 0 17 5 19 33 14 l32 -6 -29 13 c-29 13 -29 14 -7 21 28 9 111 -3 111 -16 0 -5 7 -9 15 -9 8 0 15 -4 15 -10 0 -5 10 -12 23 -16 12 -3 40 -28 61 -56 45 -58 63 -49 19 9 -40 54 -68 75 -138 101 -58 23 -62 23 -104 8 -24 -9 -46 -14 -48 -12 -2 2 -10 32 -17 67 -7 36 -19 65 -27 68 -8 2 -20 11 -27 20 -11 14 -12 14 -10 -4z m108 -278 c0 -10 -4 -15 -10 -12 -5 3 -10 18 -10 33 0 21 2 24 10 12 5 -8 10 -23 10 -33z\"></path><path d=\"M4578 453 c12 -2 32 -2 45 0 12 2 2 4 -23 4 -25 0 -35 -2 -22 -4z\"></path><path d=\"M326 405 c3 -22 9 -44 13 -50 4 -5 16 -32 26 -60 10 -27 21 -52 24 -55 8 -7 29 -40 43 -70 7 -14 15 -27 18 -30 3 -3 22 -35 40 -72 19 -38 41 -68 48 -68 6 0 12 2 12 5 0 14 -92 185 -100 185 -4 0 -11 16 -14 35 -4 19 -12 38 -19 42 -13 8 -33 38 -43 63 -3 8 -17 38 -30 65 l-24 50 6 -40z\"></path><path d=\"M4539 418 c0 -7 -2 -23 -5 -35 -3 -16 1 -23 11 -23 10 0 15 11 15 35 0 32 -19 52 -21 23z\"></path><path d=\"M1402 390 c0 -8 4 -26 8 -40 6 -20 8 -21 8 -5 0 11 -3 29 -8 40 -5 12 -8 14 -8 5z\"></path><path d=\"M4581 386 c-8 -10 -9 -16 -1 -21 13 -8 30 3 30 21 0 18 -14 18 -29 0z\"></path><path d=\"M2372 360 c0 -19 2 -27 5 -17 2 9 2 25 0 35 -3 9 -5 1 -5 -18z\"></path><path d=\"M1430 370 c0 -5 5 -10 11 -10 5 0 7 5 4 10 -3 6 -8 10 -11 10 -2 0 -4 -4 -4 -10z\"></path><path d=\"M3240 340 c-25 -4 9 -5 75 -3 66 3 122 7 124 9 7 6 -149 2 -199 -6z\"></path><path d=\"M2590 330 c0 -5 7 -10 15 -10 8 0 15 5 15 10 0 6 -7 10 -15 10 -8 0 -15 -4 -15 -10z\"></path><path d=\"M2803 333 c-48 -2 -83 -8 -83 -14 0 -6 8 -8 19 -4 10 3 29 1 42 -4 18 -7 4 -9 -56 -9 -50 0 -83 4 -87 11 -5 7 -8 1 -8 -15 l0 -26 82 5 c74 6 81 5 75 -11 -4 -9 -3 -15 2 -11 5 3 12 -1 15 -7 2 -7 4 -4 4 7 -2 38 2 53 16 58 10 4 13 1 10 -8 -3 -8 -1 -22 6 -32 10 -17 11 -17 6 2 -6 20 0 20 237 22 133 1 269 6 302 11 43 7 -20 9 -229 6 -171 -2 -286 0 -280 6 5 5 27 10 49 13 l40 4 -40 -1 c-22 0 -77 -2 -122 -3z\"></path><path d=\"M3058 333 c12 -2 32 -2 45 0 12 2 2 4 -23 4 -25 0 -35 -2 -22 -4z\"></path><path d=\"M3560 320 c-30 -5 -4 -7 80 -7 95 0 113 2 75 7 -59 10 -94 10 -155 0z\"></path><path d=\"M4018 323 c12 -2 32 -2 45 0 12 2 2 4 -23 4 -25 0 -35 -2 -22 -4z\"></path><path d=\"M4593 280 c0 -25 2 -35 4 -22 2 12 2 32 0 45 -2 12 -4 2 -4 -23z\"></path><path d=\"M2042 268 c7 -15 15 -23 17 -17 2 6 -4 18 -13 27 -15 15 -15 15 -4 -10z\"></path><path d=\"M1998 251 c-4 -12 -11 -20 -17 -17 -5 4 -12 2 -15 -3 -3 -5 1 -11 8 -14 8 -3 16 -1 18 5 2 6 12 12 22 14 12 2 16 -2 12 -12 -3 -8 -2 -13 3 -9 5 3 11 2 14 -2 2 -5 2 -1 -1 7 -2 8 -5 21 -5 27 0 9 -4 10 -13 2 -9 -7 -13 -5 -16 8 -3 15 -5 14 -10 -6z\"></path><path d=\"M2113 258 c-11 -19 -13 -38 -3 -38 5 0 11 -8 13 -17 3 -12 4 -12 2 2 -1 11 -4 27 -6 35 -3 9 3 14 14 14 9 -1 17 2 17 7 0 14 -28 11 -37 -3z\"></path><path d=\"M2743 248 c-19 -25 -24 -38 -14 -38 6 0 11 7 11 16 0 9 5 12 12 8 6 -4 8 -3 4 4 -3 5 0 13 6 15 8 4 9 6 2 6 -6 1 -16 -5 -21 -11z\"></path><path d=\"M2590 229 c0 -5 5 -7 10 -4 6 3 10 8 10 11 0 2 -4 4 -10 4 -5 0 -10 -5 -10 -11z\"></path><path d=\"M2842 215 c0 -16 2 -22 5 -12 2 9 2 23 0 30 -3 6 -5 -1 -5 -18z\"></path><path d=\"M2073 223 c-15 -5 -17 -23 -4 -23 5 0 11 7 15 15 3 8 4 15 3 14 -1 0 -8 -3 -14 -6z\"></path><path d=\"M2142 210 c0 -14 2 -19 5 -12 2 6 2 18 0 25 -3 6 -5 1 -5 -13z\"></path><path d=\"M2760 220 c-9 -6 -10 -10 -3 -10 6 0 15 5 18 10 8 12 4 12 -15 0z\"></path><path d=\"M4590 214 c0 -8 5 -12 10 -9 6 4 8 11 5 16 -9 14 -15 11 -15 -7z\"></path><path d=\"M1230 215 c0 -5 5 -17 10 -25 5 -8 10 -10 10 -5 0 6 -5 17 -10 25 -5 8 -10 11 -10 5z\"></path><path d=\"M1936 195 c-11 -8 -17 -17 -14 -20 2 -3 13 4 23 15 21 23 18 25 -9 5z\"></path><path d=\"M2230 203 c8 -3 22 -11 30 -17 13 -10 13 -9 1 7 -7 9 -21 17 -30 16 -13 0 -14 -1 -1 -6z\"></path><path d=\"M2293 195 c-3 -9 -3 -19 1 -22 3 -4 6 1 6 11 0 10 5 14 12 10 7 -4 8 -3 4 4 -10 16 -15 15 -23 -3z\"></path><path d=\"M2460 190 c0 -20 -2 -22 -10 -10 -8 13 -10 12 -10 -2 0 -21 13 -23 28 -5 7 8 7 18 2 27 -8 12 -10 9 -10 -10z\"></path><path d=\"M2696 203 c7 -4 14 -19 17 -33 4 -22 5 -21 4 4 -1 17 -9 31 -17 33 -10 3 -11 2 -4 -4z\"></path><path d=\"M2195 193 c6 -4 10 -19 10 -32 0 -13 6 -25 13 -27 7 -1 8 0 2 3 -5 2 -10 14 -10 25 0 16 5 19 21 15 12 -3 18 -2 13 2 -5 5 -20 12 -34 16 -14 3 -20 3 -15 -2z\"></path><path d=\"M2741 184 c0 -11 3 -14 6 -6 3 7 2 16 -1 19 -3 4 -6 -2 -5 -13z\"></path><path d=\"M2811 180 c-1 -20 -3 -22 -11 -10 -8 13 -10 12 -10 -2 0 -10 5 -18 10 -18 14 0 23 25 17 42 -3 7 -6 2 -6 -12z\"></path><path d=\"M2050 179 c0 -13 28 -18 33 -6 3 7 -3 13 -14 13 -11 0 -19 -3 -19 -7z\"></path><path d=\"M2508 183 c7 -3 16 -2 19 1 4 3 -2 6 -13 5 -11 0 -14 -3 -6 -6z\"></path><path d=\"M2027 173 c-4 -3 -7 -13 -7 -22 1 -13 3 -13 11 2 11 19 8 33 -4 20z\"></path><path d=\"M2352 160 c0 -14 2 -19 5 -12 2 6 2 18 0 25 -3 6 -5 1 -5 -13z\"></path><path d=\"M2603 173 c-7 -2 -14 -17 -14 -31 -1 -27 -1 -27 -9 3 l-9 30 2 -28 c2 -31 20 -38 25 -10 6 29 22 40 32 23 8 -13 10 -12 10 3 0 17 -13 20 -37 10z\"></path><path d=\"M2662 168 c-7 -7 -12 -17 -12 -22 0 -6 7 -2 16 9 13 17 16 18 25 5 9 -12 10 -12 7 -1 -6 20 -21 24 -36 9z\"></path><path d=\"M2831 164 c0 -11 3 -14 6 -6 3 7 2 16 -1 19 -3 4 -6 -2 -5 -13z\"></path><path d=\"M225 84 c-9 -98 0 -107 11 -12 l9 73 3 -72 c3 -70 4 -73 27 -73 22 0 25 4 25 40 0 28 -4 40 -14 40 -15 0 -26 21 -26 48 0 12 9 7 30 -16 23 -25 30 -43 30 -73 0 -29 4 -39 16 -39 14 0 14 3 4 15 -22 26 -1 30 25 5 14 -13 25 -19 25 -13 0 15 -131 153 -145 153 -8 0 -15 -25 -20 -76z\"></path><path d=\"M1260 150 c0 -5 5 -10 10 -10 6 0 10 5 10 10 0 6 -4 10 -10 10 -5 0 -10 -4 -10 -10z\"></path><path d=\"M1832 83 c-39 -43 -69 -79 -67 -81 4 -4 127 124 138 143 16 29 -2 14 -71 -62z\"></path><path d=\"M2260 151 c0 -7 -4 -10 -8 -7 -5 3 -9 -2 -9 -10 0 -13 2 -13 16 0 8 9 12 19 8 22 -4 4 -7 2 -7 -5z\"></path><path d=\"M2370 148 c0 -9 -6 -19 -12 -21 -10 -4 -10 -6 0 -6 14 -1 28 26 18 36 -3 4 -6 -1 -6 -9z\"></path><path d=\"M2043 75 c0 -44 2 -61 4 -37 2 23 2 59 0 80 -2 20 -4 1 -4 -43z\"></path><path d=\"M2180 141 c0 -6 4 -13 10 -16 6 -3 7 1 4 9 -7 18 -14 21 -14 7z\"></path><path d=\"M2281 134 c0 -11 3 -14 6 -6 3 7 2 16 -1 19 -3 4 -6 -2 -5 -13z\"></path><path d=\"M2392 115 c0 -16 2 -22 5 -12 2 9 2 23 0 30 -3 6 -5 -1 -5 -18z\"></path><path d=\"M2488 133 c7 -3 16 -2 19 1 4 3 -2 6 -13 5 -11 0 -14 -3 -6 -6z\"></path><path d=\"M2681 133 c-1 -17 16 -25 25 -12 4 7 3 9 -4 5 -5 -3 -13 0 -15 6 -4 9 -6 10 -6 1z\"></path><path d=\"M2734 128 c3 -15 26 -23 26 -8 0 6 -4 9 -9 6 -5 -4 -12 -1 -14 4 -3 6 -4 5 -3 -2z\"></path><path d=\"M2789 136 c-6 -7 -5 -37 2 -42 5 -3 8 0 7 7 -2 7 6 15 17 17 18 4 18 3 5 -14 -14 -18 -14 -18 3 -5 22 18 17 34 -11 36 -12 1 -22 1 -23 1z\"></path><path d=\"M1440 124 c0 -3 6 -18 14 -32 8 -15 20 -42 26 -59 7 -18 19 -33 27 -33 11 0 9 11 -10 48 -14 26 -28 55 -31 65 -5 16 -26 25 -26 11z\"></path><path d=\"M2004 113 c-10 -16 -15 -16 -35 -4 -23 12 -23 12 -8 -4 19 -20 59 -12 59 11 0 18 -3 18 -16 -3z\"></path><path d=\"M1285 90 c2 -14 5 -40 5 -57 0 -18 5 -33 10 -33 14 0 11 38 -6 80 -9 22 -12 26 -9 10z\"></path><path d=\"M2600 95 c-9 -10 -9 -15 -1 -15 6 0 11 5 11 11 0 5 5 7 12 3 7 -4 8 -3 4 4 -9 15 -11 15 -26 -3z\"></path><path d=\"M2666 102 c-3 -5 1 -9 9 -9 8 0 12 4 9 9 -3 4 -7 8 -9 8 -2 0 -6 -4 -9 -8z\"></path><path d=\"M2710 95 c-9 -10 -9 -15 -1 -15 6 0 11 5 11 11 0 5 5 7 12 3 7 -4 8 -3 4 4 -9 15 -11 15 -26 -3z\"></path><path d=\"M2558 93 c7 -3 16 -2 19 1 4 3 -2 6 -13 5 -11 0 -14 -3 -6 -6z\"></path><path d=\"M2350 58 c0 -18 5 -40 10 -48 7 -11 10 -7 10 18 0 20 4 31 10 27 6 -3 10 0 10 8 0 12 -20 27 -36 27 -2 0 -4 -15 -4 -32z\"></path><path d=\"M2392 20 c0 -14 2 -19 5 -12 2 6 2 18 0 25 -3 6 -5 1 -5 -13z\"></path><path d=\"M4578 3 c12 -2 32 -2 45 0 12 2 2 4 -23 4 -25 0 -35 -2 -22 -4z\"></path></g><g transform=\"translate(0.000000,360.000000) scale(0.100000,-0.100000)\" fill=\"#D78181\" stroke=\"none\"><path d=\"M3211 2814 c0 -11 3 -14 6 -6 3 7 2 16 -1 19 -3 4 -6 -2 -5 -13z\"></path><path d=\"M3616 2685 c-9 -26 -7 -32 5 -12 6 10 9 21 6 23 -2 3 -7 -2 -11 -11z\"></path><path d=\"M3261 2624 c0 -11 3 -14 6 -6 3 7 2 16 -1 19 -3 4 -6 -2 -5 -13z\"></path><path d=\"M3358 2580 c-2 -6 -2 -30 0 -55 4 -39 7 -44 30 -47 15 -2 40 2 56 10 24 12 30 12 38 0 7 -9 8 -8 4 6 -4 10 -1 25 5 32 19 23 -36 64 -87 64 -23 0 -44 -5 -46 -10z\"></path><path d=\"M3458 2453 c7 -3 16 -2 19 1 4 3 -2 6 -13 5 -11 0 -14 -3 -6 -6z\"></path><path d=\"M3340 2416 c0 -2 8 -10 18 -17 15 -13 16 -12 3 4 -13 16 -21 21 -21 13z\"></path><path d=\"M1698 633 c12 -2 30 -2 40 0 9 3 -1 5 -23 4 -22 0 -30 -2 -17 -4z\"></path><path d=\"M4418 563 c12 -2 32 -2 45 0 12 2 2 4 -23 4 -25 0 -35 -2 -22 -4z\"></path><path d=\"M3778 523 c12 -2 32 -2 45 0 12 2 2 4 -23 4 -25 0 -35 -2 -22 -4z\"></path><path d=\"M2498 473 c12 -2 32 -2 45 0 12 2 2 4 -23 4 -25 0 -35 -2 -22 -4z\"></path><path d=\"M3818 453 c34 -2 90 -2 125 0 34 2 6 3 -63 3 -69 0 -97 -1 -62 -3z\"></path><path d=\"M3298 433 c12 -2 30 -2 40 0 9 3 -1 5 -23 4 -22 0 -30 -2 -17 -4z\"></path><path d=\"M4115 370 l-40 -7 37 -2 c20 0 40 4 43 9 3 6 5 9 3 9 -2 -1 -21 -5 -43 -9z\"></path><path d=\"M3680 350 c0 -5 18 -10 40 -10 22 0 40 5 40 10 0 6 -18 10 -40 10 -22 0 -40 -4 -40 -10z\"></path><path d=\"M2960 340 c0 -5 -19 -11 -42 -11 -24 -1 -32 -4 -18 -6 14 -2 70 3 125 11 l100 14 -82 1 c-50 1 -83 -3 -83 -9z\"></path><path d=\"M3245 340 c28 -5 66 -8 85 -8 28 1 25 2 -15 8 -27 5 -66 8 -85 8 -28 -1 -25 -2 15 -8z\"></path><path d=\"M2622 315 c0 -16 2 -22 5 -12 2 9 2 23 0 30 -3 6 -5 -1 -5 -18z\"></path><path d=\"M2640 330 c0 -5 18 -10 40 -10 22 0 40 5 40 10 0 6 -18 10 -40 10 -22 0 -40 -4 -40 -10z\"></path><path d=\"M3400 333 c19 -3 38 -9 41 -15 4 -6 34 -7 85 -2 l79 8 -50 7 c-27 4 -81 7 -120 7 -38 -1 -54 -3 -35 -5z\"></path><path d=\"M3778 323 c12 -2 32 -2 45 0 12 2 2 4 -23 4 -25 0 -35 -2 -22 -4z\"></path><path d=\"M3078 313 c23 -2 61 -2 85 0 23 2 4 4 -43 4 -47 0 -66 -2 -42 -4z\"></path><path d=\"M2658 303 c12 -2 30 -2 40 0 9 3 -1 5 -23 4 -22 0 -30 -2 -17 -4z\"></path><path d=\"M3218 293 c12 -2 32 -2 45 0 12 2 2 4 -23 4 -25 0 -35 -2 -22 -4z\"></path><path d=\"M2630 255 c0 -8 2 -15 4 -15 2 0 6 7 10 15 3 8 1 15 -4 15 -6 0 -10 -7 -10 -15z\"></path></g><g transform=\"translate(0.000000,360.000000) scale(0.100000,-0.100000)\" fill=\"#81D781\" stroke=\"none\"><path d=\"M326 252 c-3 -5 1 -9 9 -9 8 0 12 4 9 9 -3 4 -7 8 -9 8 -2 0 -6 -4 -9 -8z\"></path><path d=\"M1053 120 c0 -25 2 -35 4 -22 2 12 2 32 0 45 -2 12 -4 2 -4 -23z\"></path></g><g transform=\"translate(0.000000,360.000000) scale(0.100000,-0.100000)\" fill=\"#D7D781\" stroke=\"none\"><path d=\"M3473 2880 c2 -8 12 -16 23 -17 13 -2 15 -1 4 4 -8 3 -19 11 -23 17 -6 7 -7 6 -4 -4z\"></path><path d=\"M3360 2830 c0 -5 5 -10 10 -10 6 0 10 5 10 10 0 6 -4 10 -10 10 -5 0 -10 -4 -10 -10z\"></path><path d=\"M3493 2834 c14 -5 16 -9 6 -20 -10 -12 -9 -13 5 -8 22 8 15 28 -10 31 -17 2 -17 1 -1 -3z\"></path><path d=\"M3454 2815 c8 -8 17 -15 20 -15 3 0 3 7 0 15 -4 8 -13 15 -21 15 -12 0 -12 -2 1 -15z\"></path><path d=\"M3395 2810 c-3 -6 1 -7 9 -4 18 7 21 14 7 14 -6 0 -13 -4 -16 -10z\"></path><path d=\"M3543 2788 c-31 -15 -29 -32 4 -47 22 -10 24 -14 12 -22 -11 -7 -8 -9 11 -9 20 0 22 -2 10 -10 -9 -6 -10 -10 -3 -10 25 0 22 19 -8 44 -30 25 -32 46 -4 46 8 0 21 -10 31 -22 12 -17 15 -18 10 -5 -3 10 -6 25 -6 33 0 16 -25 17 -57 2z\"></path><path d=\"M3640 2796 c0 -2 7 -7 16 -10 8 -3 12 -2 9 4 -6 10 -25 14 -25 6z\"></path><path d=\"M3438 2783 c6 -2 18 -2 25 0 6 3 1 5 -13 5 -14 0 -19 -2 -12 -5z\"></path><path d=\"M3620 2729 c-6 -11 -9 -28 -7 -37 3 -11 7 -6 12 16 8 35 14 38 35 20 12 -11 12 -10 1 5 -17 22 -28 22 -41 -4z\"></path><path d=\"M3454 2728 c-3 -4 5 -5 17 -3 30 6 36 14 9 12 -12 -1 -24 -5 -26 -9z\"></path><path d=\"M3407 2719 c7 -7 15 -10 18 -7 3 3 -2 9 -12 12 -14 6 -15 5 -6 -5z\"></path><path d=\"M3290 2693 c0 -21 3 -24 9 -14 5 8 7 20 4 28 -8 21 -13 15 -13 -14z\"></path><path d=\"M3368 2693 c6 -2 18 -2 25 0 6 3 1 5 -13 5 -14 0 -19 -2 -12 -5z\"></path><path d=\"M3510 2691 c0 -6 4 -13 10 -16 6 -3 7 1 4 9 -7 18 -14 21 -14 7z\"></path><path d=\"M3648 2473 c7 -3 16 -2 19 1 4 3 -2 6 -13 5 -11 0 -14 -3 -6 -6z\"></path><path d=\"M397 1759 c7 -7 15 -10 18 -7 3 3 -2 9 -12 12 -14 6 -15 5 -6 -5z\"></path><path d=\"M693 1720 c0 -25 2 -35 4 -22 2 12 2 32 0 45 -2 12 -4 2 -4 -23z\"></path><path d=\"M400 1566 c0 -8 60 -12 72 -4 8 4 -4 8 -29 8 -24 0 -43 -2 -43 -4z\"></path><path d=\"M183 1360 c0 -47 2 -66 4 -42 2 23 2 61 0 85 -2 23 -4 4 -4 -43z\"></path><path d=\"M623 1305 c0 -33 2 -45 4 -27 2 18 2 45 0 60 -2 15 -4 0 -4 -33z\"></path><path d=\"M213 825 c-3 -9 -3 -18 -1 -21 3 -3 8 4 11 16 6 23 -1 27 -10 5z\"></path><path d=\"M5 710 c3 -5 8 -10 11 -10 2 0 4 5 4 10 0 6 -5 10 -11 10 -5 0 -7 -4 -4 -10z\"></path><path d=\"M40 649 c0 -5 5 -7 10 -4 6 3 10 8 10 11 0 2 -4 4 -10 4 -5 0 -10 -5 -10 -11z\"></path><path d=\"M75 627 c-4 -10 -5 -21 -1 -24 10 -10 18 4 13 24 -4 17 -4 17 -12 0z\"></path><path d=\"M100 570 c0 -5 7 -10 16 -10 8 0 12 5 9 10 -3 6 -10 10 -16 10 -5 0 -9 -4 -9 -10z\"></path><path d=\"M60 549 c0 -5 5 -7 10 -4 6 3 10 8 10 11 0 2 -4 4 -10 4 -5 0 -10 -5 -10 -11z\"></path><path d=\"M276 545 c4 -8 8 -15 10 -15 2 0 4 7 4 15 0 8 -4 15 -10 15 -5 0 -7 -7 -4 -15z\"></path><path d=\"M160 518 c0 -8 5 -19 12 -26 9 -9 8 -12 -5 -12 -14 0 -16 -6 -11 -25 5 -20 3 -24 -10 -19 -9 3 -16 1 -16 -5 0 -7 6 -14 13 -17 13 -5 16 -72 4 -91 -3 -5 15 -8 41 -6 47 3 47 3 49 -29 l1 -33 -10 28 c-5 15 -17 27 -25 27 -10 0 -13 -6 -9 -16 3 -8 2 -12 -4 -9 -6 3 -10 3 -10 0 0 -10 34 -41 53 -48 11 -4 17 -17 17 -40 0 -34 33 -77 58 -77 7 0 11 -3 11 -8 -4 -21 3 -32 20 -32 38 0 51 -11 51 -46 l0 -34 66 0 c56 0 65 2 60 16 -3 9 -6 18 -6 20 0 3 -4 3 -8 0 -4 -2 -9 5 -9 17 -1 12 -7 23 -13 25 -5 2 -8 8 -4 13 3 5 0 10 -5 10 -6 1 -15 2 -21 3 -5 0 -10 6 -9 11 1 6 5 9 10 7 13 -3 11 7 -4 22 -7 7 -18 11 -25 8 -6 -2 -12 1 -12 7 0 6 4 11 9 11 5 0 1 16 -8 35 -15 33 -30 40 -75 35 -11 -1 -16 3 -11 9 3 6 11 9 16 6 5 -4 9 -1 9 4 0 6 -7 11 -15 11 -17 0 -20 16 -5 25 6 3 10 11 10 16 0 6 -5 7 -11 3 -8 -5 -8 -1 0 14 6 11 8 27 5 35 -3 8 -9 37 -14 63 -7 47 -8 47 -9 12 -1 -43 -12 -48 -34 -15 l-15 22 -10 -25 c-10 -23 -11 -22 -12 15 0 35 -6 44 -40 68 -27 19 -40 24 -40 15z m137 -375 c0 -9 -4 -10 -14 -2 -7 6 -13 12 -13 14 0 1 6 2 13 2 8 0 14 -6 14 -14z m133 -53 c0 -5 -5 -10 -11 -10 -5 0 -7 5 -4 10 3 6 8 10 11 10 2 0 4 -4 4 -10z\"></path><path d=\"M31 513 c-1 -7 -7 -10 -14 -8 -16 7 -10 -87 7 -97 15 -10 26 56 16 91 -5 14 -9 21 -9 14z m-4 -55 c-3 -7 -5 -2 -5 12 0 14 2 19 5 13 2 -7 2 -19 0 -25z\"></path><path d=\"M115 460 c3 -5 8 -10 11 -10 2 0 4 5 4 10 0 6 -5 10 -11 10 -5 0 -7 -4 -4 -10z\"></path><path d=\"M1050 366 c0 -19 -5 -38 -10 -41 -7 -4 -5 -14 5 -28 17 -24 20 -57 5 -57 -5 0 -10 -18 -10 -40 0 -27 4 -40 14 -40 9 0 16 -24 23 -83 l10 -82 2 83 c0 50 -3 82 -9 82 -6 0 -10 28 -10 68 0 37 0 84 0 105 1 22 2 44 3 49 1 6 -4 13 -10 15 -9 3 -13 -7 -13 -31z\"></path><path d=\"M367 359 c6 -6 9 -19 6 -28 -4 -12 -3 -13 5 -2 7 10 14 11 32 1 12 -6 24 -9 27 -6 3 3 -6 10 -21 16 -15 5 -24 14 -21 20 3 6 -4 10 -16 10 -17 0 -20 -3 -12 -11z\"></path><path d=\"M340 336 c0 -12 29 -76 34 -76 3 0 -2 17 -11 38 -16 38 -23 50 -23 38z\"></path><path d=\"M390 305 c0 -2 11 -16 25 -31 14 -15 25 -37 25 -50 0 -13 9 -29 20 -36 11 -7 20 -17 20 -23 0 -22 56 -125 64 -118 4 4 7 3 6 -2 -8 -38 0 -45 50 -45 l50 0 2 83 c1 70 2 76 8 37 6 -38 7 -31 8 42 2 74 0 86 -13 82 -8 -4 -15 -1 -15 5 0 8 -6 7 -20 -1 -15 -10 -25 -10 -38 -2 -9 6 -26 8 -37 4 -11 -4 -34 -10 -51 -13 -29 -5 -32 -3 -37 22 -4 20 -15 32 -37 39 -16 6 -30 9 -30 7z\"></path><path d=\"M1216 227 c3 -10 9 -15 12 -12 3 3 0 11 -7 18 -10 9 -11 8 -5 -6z\"></path><path d=\"M1250 181 c0 -6 4 -13 10 -16 6 -3 7 1 4 9 -7 18 -14 21 -14 7z\"></path><path d=\"M683 120 c0 -25 2 -35 4 -22 2 12 2 32 0 45 -2 12 -4 2 -4 -23z\"></path><path d=\"M1112 40 c-1 -42 0 -44 14 -25 15 19 15 19 26 1 8 -15 12 -16 19 -5 12 18 11 32 0 24 -5 -3 -13 0 -16 6 -4 5 -13 8 -20 5 -8 -3 -15 4 -18 17 -2 12 -5 2 -5 -23z\"></path><path d=\"M1212 63 c-5 -10 -6 -29 -2 -43 6 -22 7 -21 13 14 7 45 3 57 -11 29z\"></path></g><g transform=\"translate(0.000000,360.000000) scale(0.100000,-0.100000)\" fill=\"#8181D7\" stroke=\"none\"><path d=\"M4510 2431 c0 -6 4 -13 10 -16 6 -3 7 1 4 9 -7 18 -14 21 -14 7z\"></path><path d=\"M4573 2365 c0 -22 2 -30 4 -17 2 12 2 30 0 40 -3 9 -5 -1 -4 -23z\"></path><path d=\"M4493 2255 c-1 -38 2 -110 6 -160 7 -82 8 -84 8 -25 1 36 -3 108 -7 160 -6 90 -7 91 -7 25z\"></path><path d=\"M4550 2238 c-3 -48 -1 -83 3 -79 4 4 7 43 5 87 l-3 79 -5 -87z\"></path><path d=\"M4513 2205 c0 -22 2 -30 4 -17 2 12 2 30 0 40 -3 9 -5 -1 -4 -23z\"></path><path d=\"M4523 2085 c0 -44 2 -61 4 -37 2 23 2 59 0 80 -2 20 -4 1 -4 -43z\"></path><path d=\"M4543 2040 c0 -25 2 -35 4 -22 2 12 2 32 0 45 -2 12 -4 2 -4 -23z\"></path><path d=\"M4514 1880 c0 -69 1 -97 3 -62 2 34 2 90 0 125 -2 34 -3 6 -3 -63z\"></path><path d=\"M4533 1805 c0 -27 2 -38 4 -22 2 15 2 37 0 50 -2 12 -4 0 -4 -28z\"></path><path d=\"M1351 1754 c0 -11 3 -14 6 -6 3 7 2 16 -1 19 -3 4 -6 -2 -5 -13z\"></path><path d=\"M4564 1600 c0 -91 2 -128 3 -82 2 45 2 119 0 165 -1 45 -3 8 -3 -83z\"></path><path d=\"M0 1740 c0 -5 18 -10 40 -10 22 0 40 5 40 10 0 6 -18 10 -40 10 -22 0 -40 -4 -40 -10z\"></path><path d=\"M4523 1480 c0 -25 2 -35 4 -22 2 12 2 32 0 45 -2 12 -4 2 -4 -23z\"></path><path d=\"M1260 1429 c0 -5 5 -7 10 -4 6 3 10 8 10 11 0 2 -4 4 -10 4 -5 0 -10 -5 -10 -11z\"></path><path d=\"M4543 1405 c0 -22 2 -30 4 -17 2 12 2 30 0 40 -3 9 -5 -1 -4 -23z\"></path><path d=\"M4543 1200 c0 -47 2 -66 4 -42 2 23 2 61 0 85 -2 23 -4 4 -4 -43z\"></path><path d=\"M4493 1005 c0 -27 2 -38 4 -22 2 15 2 37 0 50 -2 12 -4 0 -4 -28z\"></path><path d=\"M4680 960 c-41 -6 -42 -7 -10 -8 19 0 58 3 85 8 47 7 48 7 10 7 -22 0 -60 -3 -85 -7z\"></path><path d=\"M4535 429 c-11 -16 -1 -19 13 -3 7 8 8 14 3 14 -5 0 -13 -5 -16 -11z\"></path><path d=\"M4658 393 c12 -2 32 -2 45 0 12 2 2 4 -23 4 -25 0 -35 -2 -22 -4z\"></path></g><g transform=\"translate(0.000000,360.000000) scale(0.100000,-0.100000)\" fill=\"#D781D7\" stroke=\"none\"><path d=\"M1223 3520 c0 -47 2 -66 4 -42 2 23 2 61 0 85 -2 23 -4 4 -4 -43z\"></path><path d=\"M1251 3568 c0 -18 4 -55 9 -83 7 -47 7 -45 9 33 0 49 -3 82 -9 82 -5 0 -10 -15 -9 -32z\"></path><path d=\"M224 3280 c0 -91 2 -128 3 -82 2 45 2 119 0 165 -1 45 -3 8 -3 -83z\"></path><path d=\"M1230 3320 c0 -29 4 -40 15 -40 11 0 15 11 15 40 0 29 -4 40 -15 40 -11 0 -15 -11 -15 -40z\"></path><path d=\"M54 2640 c0 -91 2 -128 3 -82 2 45 2 119 0 165 -1 45 -3 8 -3 -83z\"></path><path d=\"M4421 2434 c0 -11 3 -14 6 -6 3 7 2 16 -1 19 -3 4 -6 -2 -5 -13z\"></path><path d=\"M4698 2443 c7 -3 16 -2 19 1 4 3 -2 6 -13 5 -11 0 -14 -3 -6 -6z\"></path><path d=\"M4411 2384 c0 -11 3 -14 6 -6 3 7 2 16 -1 19 -3 4 -6 -2 -5 -13z\"></path><path d=\"M4493 2360 c0 -25 2 -35 4 -22 2 12 2 32 0 45 -2 12 -4 2 -4 -23z\"></path><path d=\"M4521 2203 c2 -112 8 -203 12 -203 8 0 -2 391 -10 400 -3 3 -4 -86 -2 -197z\"></path><path d=\"M4240 2380 c0 -5 -19 -10 -42 -10 -23 0 -39 -3 -35 -6 9 -9 157 7 157 17 0 5 -18 9 -40 9 -22 0 -40 -4 -40 -10z\"></path><path d=\"M4379 2342 c-13 -15 -12 -16 3 -4 13 10 17 10 21 0 4 -9 6 -9 6 -1 2 20 -16 24 -30 5z\"></path><path d=\"M4280 2330 l-45 -7 42 -1 c23 -1 45 3 48 8 3 6 5 9 3 8 -2 0 -23 -4 -48 -8z\"></path><path d=\"M4574 2165 c0 -93 2 -133 3 -88 2 45 2 122 0 170 -1 48 -3 12 -3 -82z\"></path><path d=\"M4405 1840 c0 -267 1 -376 2 -242 2 133 2 351 0 485 -1 133 -2 24 -2 -243z\"></path><path d=\"M4045 2300 c-33 -6 -35 -7 -10 -8 17 0 53 3 80 8 47 7 48 7 10 7 -22 0 -58 -3 -80 -7z\"></path><path d=\"M3760 2289 c0 -5 5 -7 10 -4 6 3 10 8 10 11 0 2 -4 4 -10 4 -5 0 -10 -5 -10 -11z\"></path><path d=\"M3959 2273 c-13 -16 -12 -17 4 -4 16 13 21 21 13 21 -2 0 -10 -8 -17 -17z\"></path><path d=\"M3809 2260 c-5 -3 21 -7 56 -8 36 -2 65 1 65 5 0 9 -107 11 -121 3z\"></path><path d=\"M3161 2203 c1 -53 6 -49 11 10 2 20 0 37 -4 37 -4 0 -8 -21 -7 -47z\"></path><path d=\"M3030 2220 c-8 -5 -10 -10 -5 -10 6 0 17 5 25 10 8 5 11 10 5 10 -5 0 -17 -5 -25 -10z\"></path><path d=\"M3545 2220 c-3 -6 1 -7 9 -4 18 7 21 14 7 14 -6 0 -13 -4 -16 -10z\"></path><path d=\"M2980 2200 c-9 -6 -10 -10 -3 -10 6 0 15 5 18 10 8 12 4 12 -15 0z\"></path><path d=\"M2938 2183 c7 -3 16 -2 19 1 4 3 -2 6 -13 5 -11 0 -14 -3 -6 -6z\"></path><path d=\"M2788 2143 c7 -3 16 -2 19 1 4 3 -2 6 -13 5 -11 0 -14 -3 -6 -6z\"></path><path d=\"M2630 2100 c-8 -5 -10 -10 -5 -10 6 0 17 5 25 10 8 5 11 10 5 10 -5 0 -17 -5 -25 -10z\"></path><path d=\"M4496 1858 c-10 -277 -12 -817 -1 -807 6 7 19 959 13 959 -3 0 -8 -69 -12 -152z\"></path><path d=\"M2325 1988 c-33 -12 -95 -48 -82 -48 4 0 24 9 44 20 21 11 43 20 50 20 6 0 15 5 18 10 3 6 5 10 3 9 -2 0 -16 -5 -33 -11z\"></path><path d=\"M0 1875 l0 -115 40 0 c22 0 40 -4 40 -10 0 -5 16 -10 35 -10 45 0 52 16 45 112 l-5 73 -35 -2 c-19 -1 -30 0 -24 3 9 4 8 13 -3 34 -12 26 -20 30 -54 30 l-39 0 0 -115z\"></path><path d=\"M2156 1905 c-11 -8 -16 -15 -10 -15 5 0 18 7 28 15 11 8 16 15 10 15 -5 0 -18 -7 -28 -15z\"></path><path d=\"M4538 1683 c-2 -131 0 -239 4 -241 11 -5 10 -79 -1 -84 -4 -1 -10 -93 -13 -203 l-5 -200 10 160 c5 88 13 162 17 165 12 7 24 160 13 160 -5 0 -7 98 -5 240 3 157 1 240 -6 240 -6 0 -11 -87 -14 -237z\"></path><path d=\"M1250 1900 c0 -5 7 -10 15 -10 8 0 15 5 15 10 0 6 -7 10 -15 10 -8 0 -15 -4 -15 -10z\"></path><path d=\"M2100 1875 c-14 -8 -20 -14 -14 -15 5 0 19 7 30 15 24 18 16 19 -16 0z\"></path><path d=\"M3150 1875 c0 -8 2 -15 4 -15 2 0 6 7 10 15 3 8 1 15 -4 15 -6 0 -10 -7 -10 -15z\"></path><path d=\"M3137 1843 c-4 -3 -7 -11 -7 -17 0 -6 5 -5 12 2 6 6 9 14 7 17 -3 3 -9 2 -12 -2z\"></path><path d=\"M1977 1807 c-32 -16 -56 -32 -53 -34 6 -6 103 44 111 57 3 5 5 9 3 9 -2 -1 -29 -15 -61 -32z\"></path><path d=\"M1860 1744 c-17 -9 -20 -14 -9 -14 9 0 22 7 29 15 15 18 13 18 -20 -1z\"></path><path d=\"M3090 1741 c0 -6 4 -13 10 -16 6 -3 7 1 4 9 -7 18 -14 21 -14 7z\"></path><path d=\"M0 1720 c0 -12 46 -12 110 -1 41 8 39 9 -32 10 -46 0 -78 -3 -78 -9z\"></path><path d=\"M1795 1699 c-11 -16 -1 -19 13 -3 7 8 8 14 3 14 -5 0 -13 -5 -16 -11z\"></path><path d=\"M1710 1650 c-19 -11 -29 -19 -23 -20 7 0 27 9 45 20 42 25 24 25 -22 0z\"></path><path d=\"M1616 1584 c-11 -8 -16 -14 -10 -14 13 0 39 18 34 24 -3 2 -14 -2 -24 -10z\"></path><path d=\"M1555 1540 c-10 -11 -13 -20 -7 -20 7 0 12 5 12 10 0 6 10 15 23 20 14 6 16 9 6 9 -9 1 -24 -8 -34 -19z\"></path><path d=\"M1470 1480 c-19 -11 -31 -19 -26 -20 18 0 76 24 76 32 0 12 -11 9 -50 -12z\"></path><path d=\"M1392 1424 c-5 -8 -19 -21 -32 -27 -28 -14 -38 -37 -16 -37 9 0 16 6 16 13 0 7 19 25 42 40 33 21 37 27 20 27 -11 0 -25 -7 -30 -16z\"></path><path d=\"M1278 1332 c-34 -23 -51 -52 -30 -52 9 0 76 69 71 73 -2 2 -21 -8 -41 -21z\"></path><path d=\"M1210 1270 c-13 -8 -12 -10 3 -10 9 0 17 5 17 10 0 12 -1 12 -20 0z\"></path><path d=\"M1184 1125 c0 -55 1 -76 3 -47 2 29 2 74 0 100 -2 26 -3 2 -3 -53z\"></path><path d=\"M993 1080 c0 -25 2 -35 4 -22 2 12 2 32 0 45 -2 12 -4 2 -4 -23z\"></path><path d=\"M4554 1040 l1 -85 45 -1 c29 -1 33 0 13 3 -19 2 -34 11 -36 21 -4 14 -5 14 -8 -3 -1 -11 -6 18 -9 65 l-7 85 1 -85z\"></path><path d=\"M4403 880 c0 -47 2 -66 4 -42 2 23 2 61 0 85 -2 23 -4 4 -4 -43z\"></path><path d=\"M4515 939 c-4 -6 -4 -13 -1 -16 3 -4 6 -1 6 5 0 6 8 13 18 15 15 4 15 5 0 6 -9 0 -20 -4 -23 -10z\"></path><path d=\"M4398 754 c-3 -3 -114 -7 -246 -9 -238 -4 -530 -20 -566 -31 -10 -4 -16 -2 -13 3 4 5 0 10 -8 10 -8 0 -16 -6 -19 -12 -5 -13 0 -13 189 0 55 4 225 8 378 10 227 1 281 4 288 16 6 10 9 10 9 2 0 -8 14 -13 38 -13 25 0 33 3 23 9 -8 5 -20 7 -28 4 -7 -3 -19 0 -27 6 -7 6 -15 8 -18 5z\"></path><path d=\"M4560 740 c0 -11 43 -12 115 0 47 7 45 7 -32 9 -50 0 -83 -3 -83 -9z\"></path><path d=\"M3125 709 c-227 -10 -325 -19 -325 -30 0 -11 233 0 240 12 3 4 80 4 172 1 91 -4 164 -4 161 1 -2 4 -25 8 -51 9 l-47 1 45 7 45 7 -40 0 c-22 0 -112 -3 -200 -8z\"></path><path d=\"M4320 701 c0 -11 15 -36 34 -56 19 -20 33 -42 30 -49 -9 -23 27 -29 224 -34 173 -4 192 -3 192 12 0 12 -10 16 -40 16 -22 0 -40 5 -40 10 0 6 18 10 40 10 l40 0 0 55 0 55 -200 0 c-175 0 -200 -2 -200 -16 0 -11 -6 -14 -22 -9 -13 4 -27 11 -32 16 -16 15 -26 10 -26 -10z m50 -37 c0 -8 -4 -12 -10 -9 -5 3 -10 10 -10 16 0 5 5 9 10 9 6 0 10 -7 10 -16z m26 -32 c-12 -11 -18 7 -10 30 l8 23 4 -23 c2 -13 1 -26 -2 -30z\"></path><path d=\"M2640 680 c0 -6 -45 -8 -122 -5 -120 4 -121 4 -46 -7 83 -11 248 -3 248 13 0 5 -18 9 -40 9 -22 0 -40 -4 -40 -10z\"></path><path d=\"M1483 633 c-24 -2 -43 -8 -43 -12 0 -4 73 -7 163 -7 102 1 164 5 164 11 0 10 -204 16 -284 8z\"></path><path d=\"M1801 631 c-8 -5 -9 -11 -3 -15 5 -3 12 1 16 9 6 17 6 18 -13 6z\"></path><path d=\"M1415 621 c-3 -5 -2 -12 3 -15 5 -3 9 1 9 9 0 17 -3 19 -12 6z\"></path><path d=\"M3391 544 c0 -11 3 -14 6 -6 3 7 2 16 -1 19 -3 4 -6 -2 -5 -13z\"></path><path d=\"M4405 550 c-4 -7 -38 -10 -83 -8 -149 6 -482 -2 -482 -11 0 -5 119 -7 288 -4 233 4 288 7 295 19 9 16 -8 20 -18 4z\"></path><path d=\"M3260 518 c-63 -4 -209 -12 -325 -19 -115 -6 -248 -15 -295 -19 -109 -9 274 -2 470 9 80 5 172 7 206 5 65 -3 94 6 72 22 -8 6 -59 7 -128 2z m83 -15 c-13 -2 -33 -2 -45 0 -13 2 -3 4 22 4 25 0 35 -2 23 -4z\"></path><path d=\"M3565 520 c-3 -5 1 -10 9 -10 9 0 16 5 16 10 0 6 -4 10 -9 10 -6 0 -13 -4 -16 -10z\"></path><path d=\"M3600 520 c0 -6 33 -10 80 -10 47 0 80 4 80 10 0 6 -33 10 -80 10 -47 0 -80 -4 -80 -10z\"></path><path d=\"M4400 498 c0 -14 -9 -18 -37 -19 -21 0 -148 -2 -283 -5 -135 -2 -315 -9 -400 -15 -85 -6 -229 -12 -320 -14 -91 -2 -248 -8 -350 -13 -102 -6 -209 -8 -237 -5 -39 4 -53 2 -53 -7 0 -10 -25 -12 -112 -8 -62 3 -135 2 -163 -2 -89 -13 177 -10 515 6 173 8 422 16 554 18 156 2 240 7 245 14 4 7 85 11 246 10 132 0 275 3 317 7 l77 7 3 -38 c3 -39 3 -39 8 9 3 27 2 54 -2 60 -5 8 -8 6 -8 -5z\"></path><path d=\"M2400 470 c0 -5 18 -10 40 -10 22 0 40 5 40 10 0 6 -18 10 -40 10 -22 0 -40 -4 -40 -10z\"></path><path d=\"M4720 469 c0 -8 -25 -10 -77 -7 -43 3 -60 3 -38 0 38 -6 38 -6 -20 -12 l-60 -5 -1 -43 c-2 -46 -2 -46 37 -56 33 -7 65 17 75 57 6 26 5 27 -35 27 -40 0 -41 -1 -41 -35 0 -23 -5 -35 -14 -35 -14 0 -18 62 -4 75 4 4 46 4 93 0 75 -6 85 -9 85 -26 0 -16 -7 -19 -42 -19 -23 0 -39 -3 -35 -6 3 -3 40 -3 81 1 l76 7 0 44 0 44 -40 0 c-23 0 -40 -5 -40 -11z m-110 -84 c0 -15 -26 -32 -36 -23 -2 3 -2 13 2 22 8 20 34 21 34 1z\"></path><path d=\"M1420 438 c0 -11 111 -14 120 -3 6 7 -13 10 -56 10 -35 0 -64 -3 -64 -7z\"></path><path d=\"M1565 429 c-4 -6 -5 -12 -2 -15 2 -3 7 2 10 11 7 17 1 20 -8 4z\"></path><path d=\"M4160 375 c0 -11 -11 -15 -42 -14 l-43 2 40 8 c39 8 -103 6 -707 -8 -231 -5 -288 -9 -288 -20 0 -9 -19 -13 -72 -14 -40 -1 -98 -5 -128 -9 -53 -9 -53 -9 15 -4 39 2 169 5 290 6 137 1 174 4 98 5 -71 2 -123 8 -123 13 0 13 195 12 285 -1 39 -5 135 -11 215 -12 200 -2 100 -15 -140 -17 -102 -1 -207 -5 -235 -10 -35 -5 -14 -6 65 -4 63 2 226 7 363 10 159 4 247 10 247 17 0 6 22 8 61 4 34 -4 58 -3 55 2 -9 15 16 19 141 27 91 5 120 10 120 20 0 9 -11 14 -29 14 -16 0 -27 -4 -24 -8 3 -5 -18 -5 -47 -1 -86 12 -117 11 -117 -6z m-400 -25 c0 -5 -18 -10 -40 -10 -22 0 -40 5 -40 10 0 6 18 10 40 10 22 0 40 -4 40 -10z\"></path><path d=\"M4400 374 c0 -8 5 -12 10 -9 6 4 8 11 5 16 -9 14 -15 11 -15 -7z\"></path><path d=\"M2800 340 l-85 -6 75 -1 c41 -1 98 2 125 7 46 7 47 7 10 7 -22 0 -78 -4 -125 -7z\"></path><path d=\"M4285 330 c-49 -7 -48 -7 23 -8 47 -1 71 2 67 8 -7 11 -12 11 -90 0z\"></path><path d=\"M4400 311 c0 -17 2 -31 4 -31 8 0 13 51 5 56 -5 3 -9 -9 -9 -25z\"></path><path d=\"M2386 317 c3 -10 9 -15 12 -12 3 3 0 11 -7 18 -10 9 -11 8 -5 -6z\"></path><path d=\"M2580 299 c0 -16 5 -29 10 -29 6 0 10 5 10 11 0 5 5 7 10 4 6 -3 10 -16 10 -27 0 -12 3 -19 6 -15 14 13 -7 75 -26 80 -17 4 -20 0 -20 -24z\"></path><path d=\"M4524 299 c3 -17 6 -56 6 -85 0 -41 4 -54 15 -54 8 0 15 8 16 18 0 9 2 27 3 40 2 13 -3 22 -11 22 -14 0 -15 21 -3 60 8 25 8 25 9 2 1 -13 5 -21 10 -17 5 3 12 -7 14 -22 4 -27 4 -27 6 4 1 36 -21 63 -51 63 -18 0 -20 -4 -14 -31z\"></path><path d=\"M2695 309 c53 -10 75 -11 75 -1 0 5 -26 9 -57 9 -56 0 -56 0 -18 -8z\"></path><path d=\"M2810 300 c0 -5 5 -10 10 -10 6 0 10 5 10 10 0 6 -4 10 -10 10 -5 0 -10 -4 -10 -10z\"></path><path d=\"M2856 285 c-3 -8 -1 -15 4 -15 6 0 10 7 10 15 0 8 -2 15 -4 15 -2 0 -6 -7 -10 -15z\"></path><path d=\"M2898 283 c12 -2 32 -2 45 0 12 2 2 4 -23 4 -25 0 -35 -2 -22 -4z\"></path><path d=\"M2647 263 c-10 -9 -9 -23 2 -23 5 0 11 7 15 15 5 15 -5 20 -17 8z\"></path><path d=\"M4602 240 c0 -14 2 -19 5 -12 2 6 2 18 0 25 -3 6 -5 1 -5 -13z\"></path><path d=\"M4570 221 c0 -5 6 -14 14 -20 11 -9 16 -9 22 0 4 8 3 9 -4 5 -7 -4 -12 -1 -12 8 0 9 -4 16 -10 16 -5 0 -10 -4 -10 -9z\"></path><path d=\"M2535 170 c-3 -5 -1 -10 4 -10 6 0 11 5 11 10 0 6 -2 10 -4 10 -3 0 -8 -4 -11 -10z\"></path><path d=\"M4590 170 c0 -5 5 -10 11 -10 5 0 7 5 4 10 -3 6 -8 10 -11 10 -2 0 -4 -4 -4 -10z\"></path><path d=\"M2402 135 c0 -16 2 -22 5 -12 2 9 2 23 0 30 -3 6 -5 -1 -5 -18z\"></path><path d=\"M2515 140 c-3 -6 1 -7 9 -4 18 7 21 14 7 14 -6 0 -13 -4 -16 -10z\"></path><path d=\"M3303 103 c15 -2 37 -2 50 0 12 2 0 4 -28 4 -27 0 -38 -2 -22 -4z\"></path><path d=\"M4535 102 c-10 -10 -5 -22 9 -22 8 0 16 6 19 13 5 13 -17 19 -28 9z\"></path><path d=\"M3078 93 c23 -2 61 -2 85 0 23 2 4 4 -43 4 -47 0 -66 -2 -42 -4z\"></path><path d=\"M4678 83 c23 -2 61 -2 85 0 23 2 4 4 -43 4 -47 0 -66 -2 -42 -4z\"></path><path d=\"M2581 30 c-10 -29 -9 -30 19 -30 28 0 29 1 19 30 -6 17 -15 30 -19 30 -4 0 -13 -13 -19 -30z\"></path><path d=\"M4278 53 c23 -2 61 -2 85 0 23 2 4 4 -43 4 -47 0 -66 -2 -42 -4z\"></path><path d=\"M4400 20 c0 -12 28 -25 36 -17 3 3 -4 10 -15 17 -15 7 -21 7 -21 0z\"></path><path d=\"M4457 8 c-6 -4 15 -7 48 -7 64 1 65 5 2 11 -20 2 -43 0 -50 -4z\"></path><path d=\"M4678 13 c23 -2 61 -2 85 0 23 2 4 4 -43 4 -47 0 -66 -2 -42 -4z\"></path><path d=\"M2658 3 c12 -2 32 -2 45 0 12 2 2 4 -23 4 -25 0 -35 -2 -22 -4z\"></path></g><g transform=\"translate(0.000000,360.000000) scale(0.100000,-0.100000)\" fill=\"#D7D7D7\" stroke=\"none\"><path d=\"M0 2943 c1 -658 1 -658 20 -618 24 49 26 77 5 69 -12 -5 -15 2 -15 27 1 32 1 33 15 15 13 -18 15 30 17 415 l1 434 9 -340 c5 -187 7 -379 5 -427 -2 -49 0 -88 5 -88 4 0 15 15 24 33 24 46 54 85 96 126 l37 36 3 488 4 487 -113 0 -113 0 0 -657z\"></path><path d=\"M260 3125 c0 -261 4 -475 8 -475 30 0 32 28 32 487 0 456 0 463 -20 463 -20 0 -20 -7 -20 -475z\"></path><path d=\"M3123 3408 c-27 -13 -38 -38 -21 -51 9 -6 8 -7 -4 -3 -10 3 -18 0 -18 -6 0 -7 -5 -6 -15 2 -13 11 -15 8 -15 -13 0 -14 3 -28 8 -30 12 -8 62 4 62 15 0 6 11 24 25 40 37 43 24 68 -22 46z\"></path><path d=\"M3155 3349 c-4 -6 -5 -13 -2 -16 7 -7 27 6 27 18 0 12 -17 12 -25 -2z\"></path><path d=\"M3126 3298 c-11 -6 -29 -11 -40 -12 -34 -2 -25 -31 11 -34 22 -2 37 3 52 19 34 37 20 53 -23 27z\"></path><path d=\"M3134 3236 c-29 -22 -13 -26 21 -5 17 11 23 19 14 19 -8 0 -24 -6 -35 -14z\"></path><path d=\"M3145 3211 c-11 -5 -26 -6 -32 -4 -7 3 -17 -6 -22 -20 -5 -14 -15 -28 -20 -32 -19 -11 -12 -126 19 -300 5 -27 14 -81 20 -120 6 -38 17 -92 25 -120 7 -27 19 -77 25 -109 7 -36 15 -54 20 -46 4 7 5 21 2 33 -4 15 -2 18 8 12 9 -6 11 -30 7 -99 -3 -50 -9 -107 -13 -126 -4 -19 -6 -109 -5 -200 1 -130 -2 -171 -14 -195 -13 -25 -14 -26 -9 -5 12 46 16 182 9 275 -6 88 -8 92 -28 88 -48 -10 -133 -37 -143 -45 -6 -4 -31 -12 -55 -17 -141 -31 -334 -90 -415 -127 -28 -13 -56 -24 -62 -24 -6 0 -26 -6 -44 -14 -18 -8 -51 -22 -73 -31 -63 -26 -105 -49 -105 -57 0 -5 -9 -8 -21 -8 -21 0 -132 -57 -137 -71 -2 -5 -12 -9 -22 -9 -9 0 -23 -6 -29 -14 -6 -7 -41 -27 -78 -45 -85 -40 -100 -49 -147 -88 -8 -7 -22 -13 -31 -13 -8 0 -15 -4 -15 -8 0 -5 -18 -17 -40 -28 -22 -10 -40 -25 -40 -31 0 -7 -7 -13 -16 -13 -8 0 -22 -6 -29 -12 -29 -26 -40 -34 -57 -41 -10 -3 -18 -11 -18 -17 0 -5 -9 -10 -20 -10 -13 0 -20 -7 -20 -18 0 -13 -13 -23 -40 -32 -22 -7 -40 -18 -40 -24 0 -6 -18 -22 -40 -36 -22 -13 -40 -30 -40 -37 0 -7 -7 -13 -15 -13 -9 0 -32 -18 -52 -40 -21 -22 -43 -40 -50 -40 -7 0 -13 -4 -13 -10 0 -5 -7 -10 -15 -10 -19 0 -27 -47 -23 -155 l3 -90 52 -6 c69 -9 108 -40 122 -99 9 -43 19 -180 25 -355 3 -77 24 -245 33 -255 2 -2 7 0 11 5 4 6 16 15 27 21 30 17 25 39 -7 37 -16 -1 -28 2 -28 6 0 4 20 8 45 10 51 2 93 21 88 38 -2 6 22 24 54 40 53 26 183 136 183 156 0 4 -81 6 -180 4 -179 -4 -236 4 -119 17 34 3 123 6 198 6 l136 0 40 32 c49 40 122 106 193 175 53 53 66 58 132 53 101 -7 200 -104 200 -196 l0 -27 193 6 c206 8 567 25 683 33 l70 5 2 32 c1 18 2 46 3 62 1 17 -3 59 -9 95 -6 36 -16 92 -21 125 -15 87 -37 189 -77 363 -20 84 -39 182 -42 217 l-5 64 -51 3 c-49 3 -51 4 -52 33 -1 17 5 39 12 49 12 17 13 15 7 -18 l-6 -37 64 3 64 3 34 84 c22 55 35 106 37 145 1 34 7 86 13 116 24 129 31 179 37 250 6 72 5 77 -25 125 -17 27 -31 62 -31 78 0 30 16 29 28 -3 4 -11 7 20 8 67 0 58 4 88 12 91 7 2 12 11 12 19 0 23 51 10 127 -33 43 -24 63 -41 63 -54 0 -28 -37 -91 -68 -117 -30 -25 -17 -30 33 -12 27 10 53 46 59 81 0 4 7 13 14 20 6 6 12 25 12 40 0 24 -7 32 -45 48 -57 24 -57 40 -2 41 36 1 38 2 17 9 -14 4 -18 9 -10 9 12 1 11 5 -4 16 -25 19 -36 19 -36 1 0 -10 -9 -14 -27 -12 -23 3 -28 8 -28 29 1 20 -5 27 -29 31 -16 4 -34 2 -40 -4 -7 -7 -5 -10 6 -10 17 0 68 -47 68 -62 0 -14 -47 -1 -76 20 -13 9 -21 23 -19 30 8 24 -14 12 -39 -21 -43 -56 -59 -105 -51 -156 4 -25 4 -43 0 -40 -5 6 -39 130 -65 239 -4 19 -11 98 -15 175 -6 144 -22 266 -34 264 -3 0 -15 -4 -26 -8z m-3 -1383 c-7 -7 -12 -8 -12 -2 0 14 12 26 19 19 2 -3 -1 -11 -7 -17z m-1712 -1214 c0 -8 -5 -12 -10 -9 -6 4 -8 11 -5 16 9 14 15 11 15 -7z m110 -179 c-9 -11 -120 -8 -120 3 0 4 29 7 64 7 43 0 62 -3 56 -10z\"></path><path d=\"M3394 2876 c-47 -15 -87 -40 -78 -49 3 -3 17 -1 31 4 29 11 45 3 23 -11 -23 -14 -3 -25 23 -12 44 22 109 34 121 22 8 -8 7 -13 -4 -20 -13 -9 -13 -11 0 -20 8 -5 22 -7 30 -4 49 21 58 17 65 -26 6 -37 8 -39 20 -23 13 17 15 17 38 -5 16 -15 27 -20 32 -13 7 12 -31 71 -46 71 -6 0 -7 5 -4 10 4 6 -8 13 -25 17 -17 3 -39 17 -47 30 -14 22 -22 24 -55 19 -29 -5 -40 -3 -44 9 -7 18 -25 18 -80 1z\"></path><path d=\"M3278 2724 c-5 -4 -8 -21 -7 -38 0 -30 0 -30 10 -7 11 27 8 57 -3 45z\"></path><path d=\"M3600 2559 c0 -11 5 -17 10 -14 6 3 10 13 10 21 0 8 -4 14 -10 14 -5 0 -10 -9 -10 -21z\"></path><path d=\"M3650 2490 c-13 -8 -12 -10 3 -10 10 0 17 -8 17 -20 0 -11 5 -20 10 -20 6 0 10 -6 10 -12 0 -7 -12 0 -25 15 -14 16 -30 25 -36 21 -11 -7 32 -58 63 -75 23 -13 68 -1 68 18 0 16 -72 93 -86 93 -5 0 -16 -5 -24 -10z\"></path><path d=\"M4419 2393 c-7 -38 -14 -62 -16 -56 -4 10 -9 9 -26 -1 -14 -8 -59 -14 -117 -15 -52 -2 -97 -6 -100 -11 -3 -4 -43 -11 -90 -15 -51 -5 -92 -13 -102 -22 -15 -14 -16 -12 -6 20 6 19 8 42 5 49 -2 8 -33 29 -67 47 -51 27 -64 31 -72 20 -7 -11 -11 -11 -15 -1 -7 17 -23 15 -23 -3 0 -8 -12 -22 -27 -32 -16 -9 -30 -18 -32 -20 -2 -1 1 -9 7 -16 13 -16 6 -27 -18 -27 -11 0 -16 9 -15 28 0 23 -4 27 -30 30 -83 7 -115 14 -115 26 0 29 -27 39 -61 22 -18 -9 -38 -16 -44 -16 -7 0 -20 -10 -28 -22 -14 -20 -16 -21 -16 -5 -1 10 -5 16 -10 13 -19 -12 -62 -325 -65 -465 -1 -63 17 -79 33 -29 31 99 57 160 97 219 l44 66 44 -14 c54 -18 55 -22 44 -189 -10 -139 -6 -333 8 -355 4 -8 8 -23 9 -34 0 -15 8 -21 30 -23 64 -8 70 -35 19 -86 -40 -40 -92 -55 -130 -37 -14 6 -32 11 -40 11 -28 0 -73 40 -77 68 -9 47 1 -48 18 -176 8 -68 24 -161 34 -205 10 -45 27 -125 36 -177 10 -52 22 -105 27 -116 6 -12 8 -43 6 -70 l-3 -48 110 2 c61 2 200 7 310 12 110 5 255 10 323 10 l122 0 0 107 c0 58 2 104 4 102 2 -2 6 -51 8 -109 l3 -105 28 -1 c15 -1 30 -4 34 -8 6 -6 -112 -11 -207 -9 -35 0 -589 -16 -700 -21 -24 -1 -25 -4 -28 -76 -1 -41 -3 -84 -4 -95 -1 -32 -98 -97 -98 -66 0 6 -9 11 -20 11 -11 0 -20 3 -20 8 0 4 -48 7 -108 6 -139 -1 -703 -22 -809 -30 -57 -4 -83 -2 -83 5 0 7 46 11 141 11 77 0 182 4 232 10 71 7 539 33 604 33 19 0 24 58 10 112 l-13 50 -170 0 c-93 0 -312 -7 -487 -14 -307 -14 -318 -16 -322 -35 -9 -44 -12 -305 -3 -314 5 -5 3 -22 -3 -41 -10 -27 -8 -43 7 -87 15 -44 16 -60 7 -84 -6 -16 -9 -48 -6 -70 l6 -40 84 0 84 0 10 30 c14 38 24 38 37 1 l10 -29 886 -2 c819 -1 886 0 886 16 0 15 2 15 23 1 13 -8 28 -12 34 -9 6 4 55 4 110 1 54 -4 130 -7 168 -6 l70 1 -85 6 -85 6 83 2 82 2 0 30 0 29 -82 4 -83 3 83 2 82 2 0 151 0 151 -80 -7 c-56 -5 -80 -4 -80 4 0 6 17 11 40 11 27 0 40 4 40 14 0 10 -21 16 -76 21 -41 4 -78 4 -81 1 -4 -3 13 -6 36 -6 42 0 43 -1 37 -27 -10 -40 -42 -64 -75 -57 -38 10 -38 9 -39 55 -2 33 2 42 18 46 11 3 20 10 20 15 0 6 29 7 80 3 56 -5 80 -4 80 4 0 6 17 11 40 11 l40 0 0 40 0 40 -185 0 c-148 0 -186 -3 -192 -14 -6 -12 -62 -15 -293 -20 -157 -3 -340 -8 -407 -12 -83 -5 -123 -4 -123 3 0 11 297 23 633 26 153 1 167 3 167 19 0 10 -5 18 -11 18 -6 0 -9 6 -6 14 3 8 -9 30 -29 51 -19 20 -34 45 -34 56 0 20 10 25 25 10 6 -5 20 -12 33 -16 16 -5 22 -2 22 9 0 14 25 16 200 16 l200 0 0 120 0 121 -107 -6 c-155 -9 -173 -12 -173 -35 0 -11 -7 -20 -15 -20 -13 0 -15 33 -17 233 -1 127 -2 252 -1 277 4 156 8 1018 5 1033 -3 11 -14 17 -32 17 -26 0 -28 -3 -41 -67z m-934 -79 c29 -29 -5 -104 -47 -104 -15 0 -18 8 -18 54 0 52 6 63 37 65 6 1 19 -6 28 -15z m59 -9 c-4 -8 -8 -15 -10 -15 -2 0 -4 7 -4 15 0 8 4 15 10 15 5 0 7 -7 4 -15z m863 -707 c-1 -134 -2 -25 -2 242 0 267 1 376 2 243 2 -134 2 -352 0 -485z m-627 698 c0 -3 -4 -8 -10 -11 -5 -3 -10 -1 -10 4 0 6 5 11 10 11 6 0 10 -2 10 -4z m150 -38 c0 -5 -30 -8 -67 -8 -38 0 -63 4 -56 8 15 9 123 9 123 0z m-322 -30 l77 -1 -70 -6 c-38 -3 -76 -10 -82 -14 -10 -6 -13 1 -12 25 1 18 3 25 6 16 4 -15 17 -18 81 -20z m182 16 c0 -2 -21 -3 -47 -3 -41 1 -44 2 -18 8 28 7 65 4 65 -5z m885 -1504 c-72 -12 -115 -11 -115 0 0 6 33 9 83 9 77 -2 79 -2 32 -9z m-1085 -220 c0 -5 -7 -10 -16 -10 -8 0 -12 5 -9 10 3 6 10 10 16 10 5 0 9 -4 9 -10z m830 -77 c0 -24 -4 -43 -10 -43 -5 0 -10 16 -10 36 l0 35 -92 -6 c-105 -7 -485 -21 -942 -35 -170 -5 -404 -14 -520 -20 -248 -12 -480 -12 -401 0 28 4 101 5 163 2 88 -4 112 -2 112 8 0 9 13 11 53 7 28 -3 133 -1 232 4 99 5 257 11 350 14 94 3 238 9 320 15 83 5 279 12 438 16 254 6 287 9 287 23 0 14 2 14 10 1 5 -8 10 -34 10 -57z m-143 -62 c29 -4 50 -4 47 1 -3 4 8 8 24 8 18 0 29 -5 29 -14 0 -10 -29 -15 -120 -20 -123 -8 -150 -13 -142 -26 3 -4 -46 -11 -108 -15 -136 -8 -1120 -34 -1126 -29 -6 5 -34 -26 -28 -32 3 -3 -1 -30 -8 -60 -7 -31 -11 -64 -8 -74 3 -12 -2 -20 -17 -25 -12 -4 -24 -4 -27 -2 -3 3 -17 1 -31 -4 -18 -7 -28 -6 -34 3 -4 7 -8 8 -8 2 0 -12 -80 -12 -99 0 -6 4 -11 3 -11 -1 0 -5 -30 -7 -67 -5 -76 4 -103 23 -103 72 0 43 31 63 95 61 31 0 55 3 55 9 0 6 5 10 11 10 5 0 7 -5 4 -10 -3 -6 -1 -10 4 -10 14 0 14 57 1 65 -5 3 -10 1 -10 -4 0 -6 -4 -11 -10 -11 -5 0 -10 16 -10 35 l0 35 78 0 c42 0 219 5 392 11 275 9 1060 35 1145 37 17 0 53 -3 82 -7z m138 0 c3 -5 1 -12 -5 -16 -5 -3 -10 1 -10 9 0 18 6 21 15 7z m-40 -51 c4 -6 -20 -9 -67 -8 -71 1 -72 1 -23 8 78 11 83 11 90 0z m37 -25 c-6 -34 -12 -32 -12 6 0 16 4 28 9 25 4 -3 6 -17 3 -31z m156 19 c28 -6 30 -10 37 -60 7 -59 1 -81 -19 -65 -15 13 -26 4 -26 -21 0 -10 -7 -18 -15 -18 -11 0 -15 13 -15 54 0 29 -3 68 -6 85 -7 33 -4 35 44 25z m37 -154 c3 -5 1 -10 -4 -10 -6 0 -11 5 -11 10 0 6 2 10 4 10 3 0 8 -4 11 -10z m-1252 -67 c-13 -2 -35 -2 -50 0 -16 2 -5 4 22 4 28 0 40 -2 28 -4z m1210 -10 c-6 -14 -33 -18 -33 -5 0 12 8 19 24 19 8 0 12 -6 9 -14z m-1400 0 c-24 -2 -62 -2 -85 0 -24 2 -5 4 42 4 47 0 66 -2 43 -4z m1200 -40 c-24 -2 -62 -2 -85 0 -24 2 -5 4 42 4 47 0 66 -2 43 -4z\"></path><path d=\"M2845 290 c-3 -5 -1 -10 4 -10 6 0 11 5 11 10 0 6 -2 10 -4 10 -3 0 -8 -4 -11 -10z\"></path><path d=\"M2682 269 c-12 -5 -22 -13 -22 -19 0 -5 -7 -10 -15 -10 -34 0 -12 -16 25 -18 29 -2 46 3 62 18 12 11 30 20 40 20 11 0 16 4 13 10 -7 11 -71 11 -103 -1z\"></path><path d=\"M2804 215 c-9 -63 0 -66 12 -5 6 28 7 50 3 50 -4 0 -11 -20 -15 -45z\"></path><path d=\"M2474 179 c-14 -15 -16 -24 -8 -37 12 -19 74 -29 74 -13 0 6 -12 8 -29 5 -34 -7 -49 17 -25 41 18 17 44 20 44 4 0 -5 5 -7 10 -4 16 10 1 25 -24 25 -13 0 -31 -9 -42 -21z\"></path><path d=\"M2581 156 c1 -28 3 -33 6 -16 5 26 19 40 42 40 9 0 12 -8 9 -25 -6 -31 4 -33 17 -3 6 13 19 24 29 26 16 4 18 0 12 -29 -4 -24 -3 -30 4 -19 5 8 10 27 10 43 0 29 -17 36 -38 15 -9 -9 -15 -10 -20 -2 -4 6 -22 11 -39 11 -32 0 -33 -2 -32 -41z\"></path><path d=\"M2748 180 c-4 -14 -8 -34 -8 -45 1 -19 1 -19 11 -2 6 10 9 30 7 45 l-3 27 -7 -25z\"></path><path d=\"M4547 286 c-9 -43 -10 -41 19 -50 18 -6 20 -3 16 24 -2 16 -8 28 -12 25 -5 -3 -10 5 -12 17 -3 17 -6 14 -11 -16z\"></path><path d=\"M4580 2449 c-5 -47 -11 -1428 -6 -1453 7 -35 8 -36 55 -36 26 0 76 3 110 6 l61 7 0 722 0 722 -37 12 c-37 12 -183 28 -183 20z\"></path><path d=\"M3406 2421 c-4 -7 -5 -15 -2 -18 9 -9 19 4 14 18 -4 11 -6 11 -12 0z\"></path><path d=\"M3620 2415 c0 -8 4 -15 10 -15 5 0 7 7 4 15 -4 8 -8 15 -10 15 -2 0 -4 -7 -4 -15z\"></path><path d=\"M4080 2381 c-65 -5 -85 -10 -88 -21 -2 -14 10 -14 123 -1 69 8 125 18 125 23 0 8 -17 8 -160 -1z\"></path><path d=\"M0 2158 c0 -62 5 -60 13 5 4 28 3 47 -3 47 -6 0 -10 -23 -10 -52z\"></path><path d=\"M822 2133 c-28 -73 -34 -109 -24 -163 6 -30 9 -56 7 -58 -2 -2 -12 7 -24 19 l-20 22 -11 -27 c-5 -15 -10 -32 -10 -37 0 -5 -4 -17 -9 -27 -29 -54 -39 -167 -17 -198 16 -22 14 -23 44 36 26 52 44 83 53 90 4 3 20 30 38 61 25 45 31 67 31 117 0 33 -4 63 -9 67 -15 8 -31 -29 -31 -69 0 -19 -4 -38 -10 -41 -16 -10 -12 138 5 178 8 20 15 41 15 47 0 20 -18 9 -28 -17z\"></path><path d=\"M0 2061 c0 -46 9 -57 26 -33 12 16 13 15 14 -5 0 -15 -7 -23 -22 -26 -13 -2 -4 -5 19 -6 38 -1 44 -5 59 -36 9 -19 23 -35 30 -35 19 0 18 3 -12 47 -14 21 -31 37 -39 35 -7 -1 -15 12 -19 36 -4 28 -13 42 -31 50 -24 11 -25 11 -25 -27z\"></path><path d=\"M170 1870 c0 -5 5 -10 10 -10 6 0 10 5 10 10 0 6 -4 10 -10 10 -5 0 -10 -4 -10 -10z\"></path><path d=\"M181 1824 c0 -11 3 -14 6 -6 3 7 2 16 -1 19 -3 4 -6 -2 -5 -13z\"></path><path d=\"M432 1785 c-36 -26 -34 -28 46 -40 47 -8 48 -6 27 35 -18 35 -29 36 -73 5z\"></path><path d=\"M165 1780 c-3 -5 -3 -14 0 -20 6 -9 -10 -15 -65 -23 -14 -3 -1 -5 28 -6 51 -1 52 -1 52 29 0 31 -4 37 -15 20z\"></path><path d=\"M18 1753 c12 -2 32 -2 45 0 12 2 2 4 -23 4 -25 0 -35 -2 -22 -4z\"></path><path d=\"M199 1701 c-11 -13 -22 -41 -25 -63 -6 -37 -8 -38 -48 -40 -22 -1 -60 -1 -83 1 l-43 2 0 -440 c0 -245 4 -441 9 -441 5 0 11 -23 13 -52 3 -29 11 -54 17 -56 6 -2 11 -15 11 -28 0 -14 6 -24 14 -24 9 0 12 -7 9 -20 -3 -11 9 -49 26 -86 17 -36 31 -72 31 -80 0 -14 18 -29 26 -21 3 3 -2 22 -10 42 -20 46 -20 49 0 41 13 -5 15 -1 10 19 -5 19 -3 25 11 25 13 0 14 3 5 12 -7 7 -12 18 -12 26 0 9 13 4 40 -15 34 -24 40 -33 40 -68 1 -37 2 -38 12 -15 l10 25 15 -23 c23 -33 33 -27 34 21 1 37 2 39 9 15 14 -46 44 -88 62 -88 20 0 25 -26 6 -33 -19 -6 6 -33 38 -41 17 -5 26 -15 30 -36 6 -26 9 -28 38 -23 17 3 40 9 51 13 11 4 28 2 37 -4 13 -8 23 -8 38 2 14 8 20 9 20 1 0 -6 7 -9 15 -5 13 4 15 -8 13 -82 -1 -73 -2 -80 -8 -42 -6 39 -7 33 -8 -37 -2 -64 1 -83 11 -83 17 0 25 113 36 574 8 281 7 347 -5 385 -16 52 -18 78 -3 41 8 -20 12 -22 20 -10 9 14 7 -181 -6 -767 l-5 -223 171 0 172 0 -7 103 c-4 56 -11 138 -16 182 -5 44 -12 211 -15 370 -3 160 -7 349 -10 420 -3 72 -1 119 3 105 7 -23 9 -23 15 -6 4 11 13 101 19 200 l11 181 -23 52 c-14 28 -33 56 -45 61 -27 12 -84 3 -115 -18 -14 -10 -43 -20 -65 -23 -22 -3 -74 -10 -115 -16 -41 -6 -91 -13 -110 -16 -19 -3 -28 -2 -20 2 36 16 42 31 23 57 -33 46 -112 66 -277 70 -72 1 -80 0 -97 -23z m7 -149 c1 -15 0 -40 -3 -56 -9 -50 -26 -2 -18 51 7 48 17 51 21 5z m141 12 c-3 -3 -12 -4 -19 -1 -8 3 -5 6 6 6 11 1 17 -2 13 -5z m123 -4 c-20 -13 -70 -13 -70 0 0 6 19 10 43 10 31 0 38 -3 27 -10z m302 -52 c-7 -7 -12 -8 -12 -2 0 14 12 26 19 19 2 -3 -1 -11 -7 -17z m-19 -46 c-3 -12 -9 -22 -14 -22 -12 0 -11 7 3 30 15 24 19 21 11 -8z m-550 -472 c4 -57 4 -63 -2 -25 -15 90 -34 452 -25 471 5 12 11 -54 15 -176 3 -107 9 -229 12 -270z m512 325 c0 -64 -13 -62 -14 2 -1 26 7 63 13 63 0 0 1 -29 1 -65z m-88 -37 c-2 -18 -4 -6 -4 27 0 33 2 48 4 33 2 -15 2 -42 0 -60z m10 -110 c-3 -7 -5 -2 -5 12 0 14 2 19 5 13 2 -7 2 -19 0 -25z m22 -68 c0 -9 -4 -8 -9 5 -5 11 -9 27 -9 35 0 9 4 8 9 -5 5 -11 9 -27 9 -35z m14 -50 c3 -11 1 -18 -4 -14 -5 3 -9 12 -9 20 0 20 7 17 13 -6z m-445 -260 c0 -32 -1 -33 -8 -10 -4 14 -8 48 -8 75 l0 50 9 -40 c4 -22 8 -56 7 -75z m9 -62 c-3 -8 -6 -5 -6 6 -1 11 2 17 5 13 3 -3 4 -12 1 -19z m-177 -78 c0 -5 -4 -10 -10 -10 -5 0 -10 5 -10 10 0 6 5 10 10 10 6 0 10 -4 10 -10z m200 -25 c0 -5 -5 -3 -10 5 -5 8 -10 20 -10 25 0 6 5 3 10 -5 5 -8 10 -19 10 -25z m-170 -5 c0 -11 -4 -20 -10 -20 -5 0 -10 9 -10 20 0 11 5 20 10 20 6 0 10 -9 10 -20z m35 -50 c3 -5 -1 -10 -9 -10 -9 0 -16 5 -16 10 0 6 4 10 9 10 6 0 13 -4 16 -10z m165 -30 c0 -13 -1 -13 -10 0 -5 8 -10 22 -10 30 0 13 1 13 10 0 5 -8 10 -22 10 -30z m-160 -76 c0 -8 -4 -12 -10 -9 -5 3 -10 10 -10 16 0 5 5 9 10 9 6 0 10 -7 10 -16z m305 -134 c3 -5 -3 -10 -14 -10 -12 0 -21 5 -21 10 0 6 6 10 14 10 8 0 18 -4 21 -10z\"></path><path d=\"M55 1610 c-3 -5 1 -10 9 -10 8 0 18 5 21 10 3 6 -1 10 -9 10 -8 0 -18 -4 -21 -10z\"></path><path d=\"M4387 666 c-4 -10 -5 -21 -2 -24 9 -9 17 6 13 25 -3 17 -4 17 -11 -1z\"></path><path d=\"M8 585 c-8 -9 1 -66 13 -79 10 -11 10 13 0 57 -3 16 -9 26 -13 22z\"></path><path d=\"M2 456 c-2 -36 3 -52 16 -62 16 -13 16 -13 0 -14 -10 0 -18 -7 -18 -16 0 -22 34 -13 38 10 3 11 -3 25 -11 31 -9 6 -17 31 -20 56 l-4 44 -1 -49z\"></path><path d=\"M1031 402 c-1 -53 3 -81 9 -77 6 3 10 22 10 41 0 24 4 34 13 31 6 -2 11 -10 9 -16 -2 -12 -3 -64 -1 -121 1 -14 -2 -78 -6 -143 -6 -91 -5 -117 5 -117 9 0 10 19 5 80 -5 56 -4 80 4 80 7 0 11 -28 11 -80 0 -47 4 -80 10 -80 6 0 10 19 11 43 1 35 2 38 9 17 4 -14 5 25 2 85 -2 61 -9 115 -14 121 -5 7 -11 41 -15 78 -5 55 -9 66 -24 66 -12 0 -21 10 -25 28 -11 51 -12 47 -13 -36z\"></path><path d=\"M71 400 c-1 -51 -14 -70 -48 -70 l-23 0 0 -165 0 -165 100 0 100 0 0 99 c0 95 -2 103 -36 168 -20 37 -49 93 -65 123 l-28 55 0 -45z\"></path><path d=\"M335 323 c3 -12 1 -24 -5 -28 -14 -8 -13 -25 1 -25 7 0 18 -8 25 -17 24 -34 23 -7 -2 42 -14 28 -22 40 -19 28z\"></path><path d=\"M180 300 c6 -11 13 -20 16 -20 2 0 0 9 -6 20 -6 11 -13 20 -16 20 -2 0 0 -9 6 -20z\"></path><path d=\"M223 290 c6 -16 13 -28 15 -26 6 6 -10 56 -18 56 -5 0 -3 -13 3 -30z\"></path><path d=\"M1040 273 c0 -18 5 -33 10 -33 13 0 13 30 0 50 -7 11 -10 7 -10 -17z\"></path><path d=\"M1170 291 c-13 -9 -13 -11 2 -11 9 0 19 -4 23 -9 3 -6 -7 -9 -22 -8 -24 2 -28 -1 -26 -23 2 -14 12 -45 22 -70 11 -25 22 -54 26 -65 5 -15 8 -16 14 -6 12 19 21 -22 14 -65 -6 -34 -5 -34 32 -34 l38 0 -6 58 c-5 56 -5 56 8 22 8 -19 14 -45 14 -57 1 -22 5 -23 92 -23 83 0 90 2 84 17 -4 10 -10 27 -13 38 -2 11 -10 27 -16 35 -7 8 -18 28 -26 44 -8 16 -27 42 -42 59 -16 16 -28 33 -28 38 0 5 -6 9 -14 9 -8 0 -21 6 -28 13 -39 35 -120 56 -148 38z m78 -90 c17 -28 32 -58 32 -68 -1 -12 -6 -8 -18 14 -9 18 -27 48 -39 67 -34 55 -12 43 25 -13z\"></path><path d=\"M2028 243 c-19 -21 -58 -98 -58 -113 0 -5 5 -10 10 -10 6 0 10 6 10 13 0 6 11 34 23 62 l23 50 12 -33 c14 -40 27 -41 48 -1 12 25 18 29 25 18 5 -8 9 -24 9 -36 0 -24 18 -78 25 -72 2 2 -2 32 -9 66 -8 34 -11 65 -8 68 3 3 1 5 -4 5 -13 0 -54 -38 -54 -50 0 -6 -4 -10 -10 -10 -5 0 -10 8 -10 18 0 33 -15 44 -32 25z\"></path><path d=\"M220 228 c0 -8 4 -18 9 -23 5 -6 11 -19 14 -30 3 -11 5 -2 4 19 -1 22 -8 41 -14 44 -7 2 -13 -3 -13 -10z\"></path><path d=\"M1926 170 c-21 -27 -62 -73 -92 -102 -30 -29 -54 -56 -54 -60 0 -5 59 -8 130 -8 l130 0 0 83 c0 56 -3 77 -10 67 -5 -8 -10 -23 -10 -32 0 -24 -39 -34 -58 -14 -15 15 -11 41 14 104 12 27 -13 8 -50 -38z\"></path><path d=\"M2196 178 c-18 -26 -5 -58 24 -58 28 0 56 45 40 65 -18 21 -46 18 -64 -7z m52 -12 c4 -19 -13 -36 -35 -36 -14 0 -18 42 -6 54 12 12 38 1 41 -18z\"></path><path d=\"M2296 175 c-3 -11 -5 -29 -5 -40 0 -17 2 -17 12 5 21 46 63 58 55 15 -6 -28 8 -35 14 -7 8 36 -3 51 -37 49 -25 -2 -35 -8 -39 -22z\"></path><path d=\"M410 160 c0 -5 5 -10 10 -10 6 0 10 5 10 10 0 6 -4 10 -10 10 -5 0 -10 -4 -10 -10z\"></path><path d=\"M270 156 c0 -2 8 -10 18 -17 15 -13 16 -12 3 4 -13 16 -21 21 -21 13z\"></path><path d=\"M236 77 c-8 -62 -4 -89 9 -75 3 3 5 37 3 74 l-3 69 -9 -68z\"></path><path d=\"M436 121 c-4 -5 -2 -12 3 -15 5 -4 12 -2 15 3 4 5 2 12 -3 15 -5 4 -12 2 -15 -3z\"></path><path d=\"M1148 115 c-8 -9 1 -66 13 -80 5 -5 9 1 8 15 -1 37 -13 73 -21 65z\"></path><path d=\"M415 90 c-3 -5 -1 -10 4 -10 6 0 11 5 11 10 0 6 -2 10 -4 10 -3 0 -8 -4 -11 -10z\"></path><path d=\"M357 55 c10 -13 21 -25 26 -25 14 0 7 38 -9 44 -30 11 -35 6 -17 -19z\"></path><path d=\"M1200 65 c0 -8 2 -15 4 -15 2 0 6 7 10 15 3 8 1 15 -4 15 -6 0 -10 -7 -10 -15z\"></path><path d=\"M1130 15 c0 -8 5 -15 10 -15 6 0 10 7 10 15 0 8 -4 15 -10 15 -5 0 -10 -7 -10 -15z\"></path></g></svg>'"
      ]
     },
     "execution_count": 64,
     "metadata": {},
     "output_type": "execute_result"
    }
   ],
   "source": [
    "open('../homelab-status-page/static/lottie/frame_6831.svg').read()\n",
    "    "
   ]
  },
  {
   "cell_type": "code",
   "execution_count": 56,
   "id": "caa6c4b1-ac03-4157-95d1-e2dd0614db50",
   "metadata": {},
   "outputs": [
    {
     "ename": "AttributeError",
     "evalue": "module 'lottie.objects' has no attribute 'VectorShape'",
     "output_type": "error",
     "traceback": [
      "\u001b[0;31m---------------------------------------------------------------------------\u001b[0m",
      "\u001b[0;31mAttributeError\u001b[0m                            Traceback (most recent call last)",
      "Cell \u001b[0;32mIn[56], line 43\u001b[0m\n\u001b[1;32m     40\u001b[0m output_file \u001b[38;5;241m=\u001b[39m \u001b[38;5;124m'\u001b[39m\u001b[38;5;124mlottie_animation.json\u001b[39m\u001b[38;5;124m'\u001b[39m\n\u001b[1;32m     42\u001b[0m \u001b[38;5;66;03m# Call function to create Lottie animation\u001b[39;00m\n\u001b[0;32m---> 43\u001b[0m \u001b[43mcreate_lottie_from_svgs\u001b[49m\u001b[43m(\u001b[49m\u001b[43msvg_files\u001b[49m\u001b[43m,\u001b[49m\u001b[43m \u001b[49m\u001b[43moutput_file\u001b[49m\u001b[43m)\u001b[49m\n\u001b[1;32m     45\u001b[0m \u001b[38;5;28mprint\u001b[39m(\u001b[38;5;124mf\u001b[39m\u001b[38;5;124m\"\u001b[39m\u001b[38;5;124mLottie animation saved to \u001b[39m\u001b[38;5;132;01m{\u001b[39;00moutput_file\u001b[38;5;132;01m}\u001b[39;00m\u001b[38;5;124m\"\u001b[39m)\n",
      "Cell \u001b[0;32mIn[56], line 29\u001b[0m, in \u001b[0;36mcreate_lottie_from_svgs\u001b[0;34m(svg_files, output_file)\u001b[0m\n\u001b[1;32m     25\u001b[0m \u001b[38;5;66;03m# Loop through each SVG and create a shape layer\u001b[39;00m\n\u001b[1;32m     26\u001b[0m \u001b[38;5;28;01mfor\u001b[39;00m i, svg_path \u001b[38;5;129;01min\u001b[39;00m \u001b[38;5;28menumerate\u001b[39m(svg_files):\n\u001b[1;32m     27\u001b[0m     \u001b[38;5;66;03m# Correctly initialize VectorShape for the SVG path\u001b[39;00m\n\u001b[1;32m     28\u001b[0m     shape_layer \u001b[38;5;241m=\u001b[39m lottie\u001b[38;5;241m.\u001b[39mobjects\u001b[38;5;241m.\u001b[39mShapeLayer(\n\u001b[0;32m---> 29\u001b[0m         shapes\u001b[38;5;241m=\u001b[39m[\u001b[43mlottie\u001b[49m\u001b[38;5;241;43m.\u001b[39;49m\u001b[43mobjects\u001b[49m\u001b[38;5;241;43m.\u001b[39;49m\u001b[43mVectorShape\u001b[49m(d\u001b[38;5;241m=\u001b[39msvg_path)],  \u001b[38;5;66;03m# Ensuring valid VectorShape\u001b[39;00m\n\u001b[1;32m     30\u001b[0m         name\u001b[38;5;241m=\u001b[39m\u001b[38;5;124mf\u001b[39m\u001b[38;5;124m\"\u001b[39m\u001b[38;5;124mLayer \u001b[39m\u001b[38;5;132;01m{\u001b[39;00mi\u001b[38;5;241m+\u001b[39m\u001b[38;5;241m1\u001b[39m\u001b[38;5;132;01m}\u001b[39;00m\u001b[38;5;124m\"\u001b[39m,\n\u001b[1;32m     31\u001b[0m         opacity\u001b[38;5;241m=\u001b[39m\u001b[38;5;241m100\u001b[39m,\n\u001b[1;32m     32\u001b[0m         rotation\u001b[38;5;241m=\u001b[39m\u001b[38;5;241m0\u001b[39m\n\u001b[1;32m     33\u001b[0m     )\n\u001b[1;32m     34\u001b[0m     lottie_animation\u001b[38;5;241m.\u001b[39madd_layer(shape_layer)\n\u001b[1;32m     36\u001b[0m \u001b[38;5;66;03m# Export Lottie animation to a file\u001b[39;00m\n",
      "\u001b[0;31mAttributeError\u001b[0m: module 'lottie.objects' has no attribute 'VectorShape'"
     ]
    }
   ],
   "source": [
    "import json\n",
    "import os\n",
    "import lottie\n",
    "\n",
    "# Assuming you have the correct paths to your SVG files\n",
    "svg_files = [\n",
    "    '../homelab-status-page/static/lottie/frame_6831.svg',\n",
    "    '../homelab-status-page/static/lottie/frame_6825.svg',\n",
    "    '..//homelab-status-page/static/lottie/frame_6826.svg',\n",
    "    #'/Users/shelbernstein/hashirama/services/homelab-status-page/static/lottie/frame_6827.svg',\n",
    "    #'/Users/shelbernstein/hashirama/services/homelab-status-page/static/lottie/frame_6828.svg'\n",
    "]\n",
    "\n",
    "# Define function to create Lottie animation from SVG files\n",
    "def create_lottie_from_svgs(svg_files, output_file):\n",
    "    # Create Lottie animation object\n",
    "    lottie_animation = lottie.objects.Animation(\n",
    "        # width=500,\n",
    "        # height=500,\n",
    "        # frame_rate=30,\n",
    "        # in_point=0,\n",
    "        # out_point=120\n",
    "    )\n",
    "\n",
    "    # Loop through each SVG and create a shape layer\n",
    "    for i, svg_path in enumerate(svg_files):\n",
    "        # Correctly initialize VectorShape for the SVG path\n",
    "        shape_layer = lottie.objects.ShapeLayer(\n",
    "            shapes=[lottie.objects.VectorShape(d=svg_path)],  # Ensuring valid VectorShape\n",
    "            name=f\"Layer {i+1}\",\n",
    "            opacity=100,\n",
    "            rotation=0\n",
    "        )\n",
    "        lottie_animation.add_layer(shape_layer)\n",
    "\n",
    "    # Export Lottie animation to a file\n",
    "    lottie.exporters.export_lottie(lottie_animation, output_file)\n",
    "\n",
    "# Output file path\n",
    "output_file = 'lottie_animation.json'\n",
    "\n",
    "# Call function to create Lottie animation\n",
    "create_lottie_from_svgs(svg_files, output_file)\n",
    "\n",
    "print(f\"Lottie animation saved to {output_file}\")\n"
   ]
  },
  {
   "cell_type": "code",
   "execution_count": 48,
   "id": "cc034cd6-0317-4eed-bc74-e104ee7e056e",
   "metadata": {},
   "outputs": [
    {
     "name": "stdout",
     "output_type": "stream",
     "text": [
      "Animation\n",
      "Lottie animation saved to lottie_animation.json\n"
     ]
    }
   ],
   "source": [
    "\n",
    "import os\n",
    "import json\n",
    "from svgpathtools import svg2paths\n",
    "from lottie import objects\n",
    "global animation_dict\n",
    "\n",
    "# Load and parse SVG paths\n",
    "def load_svg_paths(svg_file):\n",
    "    paths, attributes = svg2paths(svg_file)\n",
    "    return paths, attributes\n",
    "\n",
    "# Convert SVG paths to Lottie shapes\n",
    "def svg_path_to_lottie_shape(svg_paths):\n",
    "    lottie_shapes = []\n",
    "    for path in svg_paths:\n",
    "        lottie_shape = objects.Shape()\n",
    "        for segment in path:\n",
    "            if segment.__class__.__name__ == \"Line\":\n",
    "                lottie_shape.add_command(\n",
    "                    objects.commands.MoveTo(segment.start.real, segment.start.imag)\n",
    "                )\n",
    "                lottie_shape.add_command(\n",
    "                    objects.commands.LineTo(segment.end.real, segment.end.imag)\n",
    "                )\n",
    "            # Add other path segment types as needed, e.g., CubicBezier, QuadraticBezier, etc.\n",
    "        lottie_shapes.append(lottie_shape)\n",
    "    return lottie_shapes\n",
    "\n",
    " \n",
    " \n",
    "an = objects.Animation(59)\n",
    " \n",
    "layer = objects.ShapeLayer()\n",
    "an.add_layer(layer)\n",
    " \n",
    "\n",
    "\n",
    "\n",
    "import os\n",
    "import json\n",
    "from svgpathtools import svg2paths\n",
    "from lottie import objects\n",
    "from lottie.exporters import export_lottie  # Corrected import for exporting\n",
    "\n",
    "# Load and parse SVG paths\n",
    "def load_svg_paths(svg_file):\n",
    "    paths, attributes = svg2paths(svg_file)\n",
    "    return paths, attributes\n",
    "#objects.Path()\n",
    "# Convert SVG paths to Lottie shapes\n",
    "def svg_path_to_lottie_shape(svg_paths):\n",
    "    lottie_shapes = []\n",
    "     \n",
    "    an = objects.Animation(59)\n",
    "     \n",
    "    layer = objects.ShapeLayer()\n",
    "    an.add_layer(layer)\n",
    "    for path in svg_paths:\n",
    "        bez = objects.Path() # this is a path in one frame\n",
    "        layer.add_shape(bez)\n",
    "        for segment in path:\n",
    "            #print(segment.__class__.__name__)\n",
    "            if segment.__class__.__name__ == \"Line\":\n",
    "                #print(\"cool\", segment)\n",
    "                #layer.add_shape(segment)\n",
    "                bez.shape.value.add_point(Point(256, 128), Point(0, 0), Point(64, 64))\n",
    "                bez.shape.value.add_point(Point(256, 256), Point(-64, -64), Point(-64, 64))\n",
    "                bez.shape.value.add_point(Point(256, 256+120), Point(0, 0), Point(0, 0))\n",
    "                layer.add_shape(objects.Stroke(Color(1, 0, 0), 10))\n",
    "     \n",
    "      # Add other path segment types as needed, e.g., CubicBezier, QuadraticBezier, etc.\n",
    "        lottie_shape = lottie.objects.Shape\n",
    "        lottie_shapes.append(lottie_shape)\n",
    "    return lottie_shapes, an\n",
    "\n",
    "\n",
    "# Create Lottie animation from multiple SVGs\n",
    "def create_lottie_from_svgs(svg_files, output_file):\n",
    "    lottie_animation = objects.Animation()\n",
    "    for i, svg_file in enumerate(svg_files):\n",
    "        paths, _ = load_svg_paths(svg_file)\n",
    "        lottie_shapes = svg_path_to_lottie_shape(paths)\n",
    "\n",
    "        layer = objects.ShapeLayer()\n",
    "        #layer.shapes[0].add_keyframe(i * 5, )\n",
    "        layer.add_shape(lottie_shapes)\n",
    "        lottie_animation.add_layer(layer)\n",
    "\n",
    "    # Export Lottie animation to a file\n",
    "    #lottie.export_lottie\n",
    "    animation_dict = lottie_animation\n",
    "    #with open(output_file, 'w') as f:\n",
    "    #    print(animation_dict)\n",
    "    #    json.dump(animation_dict, f, indent=4)  \n",
    "    #lottie.exporters.export_lottie(lottie_animation, output_file) #/// for each line of code - show 3 possible - sbustitions - 12 3\n",
    "    print(lottie_animation)\n",
    "    print(f\"Lottie animation saved to {output_file}\")\n",
    "    return lottie_animation\n",
    "\n",
    "# Run the script with your SVG files\n",
    "svg_directory = 'svg/'  # Directory containing SVG files\n",
    "output_file = 'lottie_animation.json'\n",
    "layer.add_shape\n",
    "output = create_lottie_from_svgs(svg_files, output_file)\n",
    "\n",
    "\n",
    "hi = animation_dict\n",
    "def save_to_disk():\n",
    "\n",
    "    #lottie.exporters.export_lottie(lottie_animation, output_file)\n",
    "    animation_dict = lottie_animation.to_dict()  # Convert Lottie object to a dictionary\n",
    "    with open(output_file, 'w') as f:\n",
    "        json.dump(animation_dict, f, indent=4)  "
   ]
  },
  {
   "cell_type": "code",
   "execution_count": 49,
   "id": "8e3f9be8-384c-43e3-b62c-9b43a7e503eb",
   "metadata": {},
   "outputs": [
    {
     "ename": "NameError",
     "evalue": "name 'animation_dict' is not defined",
     "output_type": "error",
     "traceback": [
      "\u001b[0;31m---------------------------------------------------------------------------\u001b[0m",
      "\u001b[0;31mNameError\u001b[0m                                 Traceback (most recent call last)",
      "Cell \u001b[0;32mIn[49], line 1\u001b[0m\n\u001b[0;32m----> 1\u001b[0m \u001b[43manimation_dict\u001b[49m\n",
      "\u001b[0;31mNameError\u001b[0m: name 'animation_dict' is not defined"
     ]
    }
   ],
   "source": [
    "animation_dict"
   ]
  },
  {
   "cell_type": "code",
   "execution_count": 51,
   "id": "ba55495e-d308-4e1e-abf1-38c9e3c9ad9e",
   "metadata": {},
   "outputs": [
    {
     "ename": "Exception",
     "evalue": "Unknown value <class 'lottie.objects.shapes.Shape'>",
     "output_type": "error",
     "traceback": [
      "\u001b[0;31m---------------------------------------------------------------------------\u001b[0m",
      "\u001b[0;31mException\u001b[0m                                 Traceback (most recent call last)",
      "Cell \u001b[0;32mIn[51], line 1\u001b[0m\n\u001b[0;32m----> 1\u001b[0m \u001b[43moutput\u001b[49m\u001b[38;5;241;43m.\u001b[39;49m\u001b[43mto_dict\u001b[49m\u001b[43m(\u001b[49m\u001b[43m)\u001b[49m\n",
      "File \u001b[0;32m~/micromamba/envs/sam/lib/python3.10/site-packages/lottie/objects/base.py:233\u001b[0m, in \u001b[0;36mLottieObject.to_dict\u001b[0;34m(self)\u001b[0m\n\u001b[1;32m    232\u001b[0m \u001b[38;5;28;01mdef\u001b[39;00m \u001b[38;5;21mto_dict\u001b[39m(\u001b[38;5;28mself\u001b[39m):\n\u001b[0;32m--> 233\u001b[0m     \u001b[38;5;28;01mreturn\u001b[39;00m {\n\u001b[1;32m    234\u001b[0m         prop\u001b[38;5;241m.\u001b[39mlottie: prop\u001b[38;5;241m.\u001b[39mto_dict(\u001b[38;5;28mself\u001b[39m)\n\u001b[1;32m    235\u001b[0m         \u001b[38;5;28;01mfor\u001b[39;00m prop \u001b[38;5;129;01min\u001b[39;00m \u001b[38;5;28mself\u001b[39m\u001b[38;5;241m.\u001b[39m_props\n\u001b[1;32m    236\u001b[0m         \u001b[38;5;28;01mif\u001b[39;00m prop\u001b[38;5;241m.\u001b[39mget(\u001b[38;5;28mself\u001b[39m) \u001b[38;5;129;01mis\u001b[39;00m \u001b[38;5;129;01mnot\u001b[39;00m \u001b[38;5;28;01mNone\u001b[39;00m\n\u001b[1;32m    237\u001b[0m     }\n",
      "File \u001b[0;32m~/micromamba/envs/sam/lib/python3.10/site-packages/lottie/objects/base.py:234\u001b[0m, in \u001b[0;36m<dictcomp>\u001b[0;34m(.0)\u001b[0m\n\u001b[1;32m    232\u001b[0m \u001b[38;5;28;01mdef\u001b[39;00m \u001b[38;5;21mto_dict\u001b[39m(\u001b[38;5;28mself\u001b[39m):\n\u001b[1;32m    233\u001b[0m     \u001b[38;5;28;01mreturn\u001b[39;00m {\n\u001b[0;32m--> 234\u001b[0m         prop\u001b[38;5;241m.\u001b[39mlottie: \u001b[43mprop\u001b[49m\u001b[38;5;241;43m.\u001b[39;49m\u001b[43mto_dict\u001b[49m\u001b[43m(\u001b[49m\u001b[38;5;28;43mself\u001b[39;49m\u001b[43m)\u001b[49m\n\u001b[1;32m    235\u001b[0m         \u001b[38;5;28;01mfor\u001b[39;00m prop \u001b[38;5;129;01min\u001b[39;00m \u001b[38;5;28mself\u001b[39m\u001b[38;5;241m.\u001b[39m_props\n\u001b[1;32m    236\u001b[0m         \u001b[38;5;28;01mif\u001b[39;00m prop\u001b[38;5;241m.\u001b[39mget(\u001b[38;5;28mself\u001b[39m) \u001b[38;5;129;01mis\u001b[39;00m \u001b[38;5;129;01mnot\u001b[39;00m \u001b[38;5;28;01mNone\u001b[39;00m\n\u001b[1;32m    237\u001b[0m     }\n",
      "File \u001b[0;32m~/micromamba/envs/sam/lib/python3.10/site-packages/lottie/objects/base.py:177\u001b[0m, in \u001b[0;36mLottieProp.to_dict\u001b[0;34m(self, obj)\u001b[0m\n\u001b[1;32m    174\u001b[0m \u001b[38;5;28;01mif\u001b[39;00m \u001b[38;5;28misinstance\u001b[39m(\u001b[38;5;28mself\u001b[39m\u001b[38;5;241m.\u001b[39mtype, LottieValueConverter):\n\u001b[1;32m    175\u001b[0m     val \u001b[38;5;241m=\u001b[39m \u001b[38;5;28mself\u001b[39m\u001b[38;5;241m.\u001b[39mtype\u001b[38;5;241m.\u001b[39mpy_to_lottie(val)\n\u001b[0;32m--> 177\u001b[0m val \u001b[38;5;241m=\u001b[39m \u001b[38;5;28;43mself\u001b[39;49m\u001b[38;5;241;43m.\u001b[39;49m\u001b[43m_basic_to_dict\u001b[49m\u001b[43m(\u001b[49m\u001b[43mval\u001b[49m\u001b[43m)\u001b[49m\n\u001b[1;32m    179\u001b[0m \u001b[38;5;28;01mif\u001b[39;00m \u001b[38;5;28mself\u001b[39m\u001b[38;5;241m.\u001b[39mlist \u001b[38;5;129;01mis\u001b[39;00m PseudoList:\n\u001b[1;32m    180\u001b[0m     \u001b[38;5;28;01mif\u001b[39;00m \u001b[38;5;129;01mnot\u001b[39;00m \u001b[38;5;28misinstance\u001b[39m(obj, \u001b[38;5;28mlist\u001b[39m):\n",
      "File \u001b[0;32m~/micromamba/envs/sam/lib/python3.10/site-packages/lottie/objects/base.py:192\u001b[0m, in \u001b[0;36mLottieProp._basic_to_dict\u001b[0;34m(self, v)\u001b[0m\n\u001b[1;32m    190\u001b[0m     \u001b[38;5;28;01mreturn\u001b[39;00m \u001b[38;5;28mlist\u001b[39m(\u001b[38;5;28mmap\u001b[39m(\u001b[38;5;28mself\u001b[39m\u001b[38;5;241m.\u001b[39m_basic_to_dict, v\u001b[38;5;241m.\u001b[39mcomponents))\n\u001b[1;32m    191\u001b[0m \u001b[38;5;28;01melif\u001b[39;00m \u001b[38;5;28misinstance\u001b[39m(v, (\u001b[38;5;28mlist\u001b[39m, \u001b[38;5;28mtuple\u001b[39m)):\n\u001b[0;32m--> 192\u001b[0m     \u001b[38;5;28;01mreturn\u001b[39;00m \u001b[38;5;28;43mlist\u001b[39;49m\u001b[43m(\u001b[49m\u001b[38;5;28;43mmap\u001b[39;49m\u001b[43m(\u001b[49m\u001b[38;5;28;43mself\u001b[39;49m\u001b[38;5;241;43m.\u001b[39;49m\u001b[43m_basic_to_dict\u001b[49m\u001b[43m,\u001b[49m\u001b[43m \u001b[49m\u001b[43mv\u001b[49m\u001b[43m)\u001b[49m\u001b[43m)\u001b[49m\n\u001b[1;32m    193\u001b[0m \u001b[38;5;28;01melif\u001b[39;00m \u001b[38;5;28misinstance\u001b[39m(v, (\u001b[38;5;28mint\u001b[39m, \u001b[38;5;28mstr\u001b[39m, \u001b[38;5;28mbool\u001b[39m)):\n\u001b[1;32m    194\u001b[0m     \u001b[38;5;28;01mreturn\u001b[39;00m v\n",
      "File \u001b[0;32m~/micromamba/envs/sam/lib/python3.10/site-packages/lottie/objects/base.py:186\u001b[0m, in \u001b[0;36mLottieProp._basic_to_dict\u001b[0;34m(self, v)\u001b[0m\n\u001b[1;32m    184\u001b[0m \u001b[38;5;28;01mdef\u001b[39;00m \u001b[38;5;21m_basic_to_dict\u001b[39m(\u001b[38;5;28mself\u001b[39m, v):\n\u001b[1;32m    185\u001b[0m     \u001b[38;5;28;01mif\u001b[39;00m \u001b[38;5;28misinstance\u001b[39m(v, LottieBase):\n\u001b[0;32m--> 186\u001b[0m         \u001b[38;5;28;01mreturn\u001b[39;00m \u001b[43mv\u001b[49m\u001b[38;5;241;43m.\u001b[39;49m\u001b[43mto_dict\u001b[49m\u001b[43m(\u001b[49m\u001b[43m)\u001b[49m\n\u001b[1;32m    187\u001b[0m     \u001b[38;5;28;01melif\u001b[39;00m \u001b[38;5;28misinstance\u001b[39m(v, Color):\n\u001b[1;32m    188\u001b[0m         \u001b[38;5;28;01mreturn\u001b[39;00m \u001b[38;5;28mlist\u001b[39m(\u001b[38;5;28mmap\u001b[39m(\u001b[38;5;28mself\u001b[39m\u001b[38;5;241m.\u001b[39m_basic_to_dict, v\u001b[38;5;241m.\u001b[39mto_rgb()\u001b[38;5;241m.\u001b[39mcomponents))\n",
      "File \u001b[0;32m~/micromamba/envs/sam/lib/python3.10/site-packages/lottie/objects/base.py:233\u001b[0m, in \u001b[0;36mLottieObject.to_dict\u001b[0;34m(self)\u001b[0m\n\u001b[1;32m    232\u001b[0m \u001b[38;5;28;01mdef\u001b[39;00m \u001b[38;5;21mto_dict\u001b[39m(\u001b[38;5;28mself\u001b[39m):\n\u001b[0;32m--> 233\u001b[0m     \u001b[38;5;28;01mreturn\u001b[39;00m {\n\u001b[1;32m    234\u001b[0m         prop\u001b[38;5;241m.\u001b[39mlottie: prop\u001b[38;5;241m.\u001b[39mto_dict(\u001b[38;5;28mself\u001b[39m)\n\u001b[1;32m    235\u001b[0m         \u001b[38;5;28;01mfor\u001b[39;00m prop \u001b[38;5;129;01min\u001b[39;00m \u001b[38;5;28mself\u001b[39m\u001b[38;5;241m.\u001b[39m_props\n\u001b[1;32m    236\u001b[0m         \u001b[38;5;28;01mif\u001b[39;00m prop\u001b[38;5;241m.\u001b[39mget(\u001b[38;5;28mself\u001b[39m) \u001b[38;5;129;01mis\u001b[39;00m \u001b[38;5;129;01mnot\u001b[39;00m \u001b[38;5;28;01mNone\u001b[39;00m\n\u001b[1;32m    237\u001b[0m     }\n",
      "File \u001b[0;32m~/micromamba/envs/sam/lib/python3.10/site-packages/lottie/objects/base.py:234\u001b[0m, in \u001b[0;36m<dictcomp>\u001b[0;34m(.0)\u001b[0m\n\u001b[1;32m    232\u001b[0m \u001b[38;5;28;01mdef\u001b[39;00m \u001b[38;5;21mto_dict\u001b[39m(\u001b[38;5;28mself\u001b[39m):\n\u001b[1;32m    233\u001b[0m     \u001b[38;5;28;01mreturn\u001b[39;00m {\n\u001b[0;32m--> 234\u001b[0m         prop\u001b[38;5;241m.\u001b[39mlottie: \u001b[43mprop\u001b[49m\u001b[38;5;241;43m.\u001b[39;49m\u001b[43mto_dict\u001b[49m\u001b[43m(\u001b[49m\u001b[38;5;28;43mself\u001b[39;49m\u001b[43m)\u001b[49m\n\u001b[1;32m    235\u001b[0m         \u001b[38;5;28;01mfor\u001b[39;00m prop \u001b[38;5;129;01min\u001b[39;00m \u001b[38;5;28mself\u001b[39m\u001b[38;5;241m.\u001b[39m_props\n\u001b[1;32m    236\u001b[0m         \u001b[38;5;28;01mif\u001b[39;00m prop\u001b[38;5;241m.\u001b[39mget(\u001b[38;5;28mself\u001b[39m) \u001b[38;5;129;01mis\u001b[39;00m \u001b[38;5;129;01mnot\u001b[39;00m \u001b[38;5;28;01mNone\u001b[39;00m\n\u001b[1;32m    237\u001b[0m     }\n",
      "File \u001b[0;32m~/micromamba/envs/sam/lib/python3.10/site-packages/lottie/objects/base.py:177\u001b[0m, in \u001b[0;36mLottieProp.to_dict\u001b[0;34m(self, obj)\u001b[0m\n\u001b[1;32m    174\u001b[0m \u001b[38;5;28;01mif\u001b[39;00m \u001b[38;5;28misinstance\u001b[39m(\u001b[38;5;28mself\u001b[39m\u001b[38;5;241m.\u001b[39mtype, LottieValueConverter):\n\u001b[1;32m    175\u001b[0m     val \u001b[38;5;241m=\u001b[39m \u001b[38;5;28mself\u001b[39m\u001b[38;5;241m.\u001b[39mtype\u001b[38;5;241m.\u001b[39mpy_to_lottie(val)\n\u001b[0;32m--> 177\u001b[0m val \u001b[38;5;241m=\u001b[39m \u001b[38;5;28;43mself\u001b[39;49m\u001b[38;5;241;43m.\u001b[39;49m\u001b[43m_basic_to_dict\u001b[49m\u001b[43m(\u001b[49m\u001b[43mval\u001b[49m\u001b[43m)\u001b[49m\n\u001b[1;32m    179\u001b[0m \u001b[38;5;28;01mif\u001b[39;00m \u001b[38;5;28mself\u001b[39m\u001b[38;5;241m.\u001b[39mlist \u001b[38;5;129;01mis\u001b[39;00m PseudoList:\n\u001b[1;32m    180\u001b[0m     \u001b[38;5;28;01mif\u001b[39;00m \u001b[38;5;129;01mnot\u001b[39;00m \u001b[38;5;28misinstance\u001b[39m(obj, \u001b[38;5;28mlist\u001b[39m):\n",
      "File \u001b[0;32m~/micromamba/envs/sam/lib/python3.10/site-packages/lottie/objects/base.py:192\u001b[0m, in \u001b[0;36mLottieProp._basic_to_dict\u001b[0;34m(self, v)\u001b[0m\n\u001b[1;32m    190\u001b[0m     \u001b[38;5;28;01mreturn\u001b[39;00m \u001b[38;5;28mlist\u001b[39m(\u001b[38;5;28mmap\u001b[39m(\u001b[38;5;28mself\u001b[39m\u001b[38;5;241m.\u001b[39m_basic_to_dict, v\u001b[38;5;241m.\u001b[39mcomponents))\n\u001b[1;32m    191\u001b[0m \u001b[38;5;28;01melif\u001b[39;00m \u001b[38;5;28misinstance\u001b[39m(v, (\u001b[38;5;28mlist\u001b[39m, \u001b[38;5;28mtuple\u001b[39m)):\n\u001b[0;32m--> 192\u001b[0m     \u001b[38;5;28;01mreturn\u001b[39;00m \u001b[38;5;28;43mlist\u001b[39;49m\u001b[43m(\u001b[49m\u001b[38;5;28;43mmap\u001b[39;49m\u001b[43m(\u001b[49m\u001b[38;5;28;43mself\u001b[39;49m\u001b[38;5;241;43m.\u001b[39;49m\u001b[43m_basic_to_dict\u001b[49m\u001b[43m,\u001b[49m\u001b[43m \u001b[49m\u001b[43mv\u001b[49m\u001b[43m)\u001b[49m\u001b[43m)\u001b[49m\n\u001b[1;32m    193\u001b[0m \u001b[38;5;28;01melif\u001b[39;00m \u001b[38;5;28misinstance\u001b[39m(v, (\u001b[38;5;28mint\u001b[39m, \u001b[38;5;28mstr\u001b[39m, \u001b[38;5;28mbool\u001b[39m)):\n\u001b[1;32m    194\u001b[0m     \u001b[38;5;28;01mreturn\u001b[39;00m v\n",
      "File \u001b[0;32m~/micromamba/envs/sam/lib/python3.10/site-packages/lottie/objects/base.py:192\u001b[0m, in \u001b[0;36mLottieProp._basic_to_dict\u001b[0;34m(self, v)\u001b[0m\n\u001b[1;32m    190\u001b[0m     \u001b[38;5;28;01mreturn\u001b[39;00m \u001b[38;5;28mlist\u001b[39m(\u001b[38;5;28mmap\u001b[39m(\u001b[38;5;28mself\u001b[39m\u001b[38;5;241m.\u001b[39m_basic_to_dict, v\u001b[38;5;241m.\u001b[39mcomponents))\n\u001b[1;32m    191\u001b[0m \u001b[38;5;28;01melif\u001b[39;00m \u001b[38;5;28misinstance\u001b[39m(v, (\u001b[38;5;28mlist\u001b[39m, \u001b[38;5;28mtuple\u001b[39m)):\n\u001b[0;32m--> 192\u001b[0m     \u001b[38;5;28;01mreturn\u001b[39;00m \u001b[38;5;28;43mlist\u001b[39;49m\u001b[43m(\u001b[49m\u001b[38;5;28;43mmap\u001b[39;49m\u001b[43m(\u001b[49m\u001b[38;5;28;43mself\u001b[39;49m\u001b[38;5;241;43m.\u001b[39;49m\u001b[43m_basic_to_dict\u001b[49m\u001b[43m,\u001b[49m\u001b[43m \u001b[49m\u001b[43mv\u001b[49m\u001b[43m)\u001b[49m\u001b[43m)\u001b[49m\n\u001b[1;32m    193\u001b[0m \u001b[38;5;28;01melif\u001b[39;00m \u001b[38;5;28misinstance\u001b[39m(v, (\u001b[38;5;28mint\u001b[39m, \u001b[38;5;28mstr\u001b[39m, \u001b[38;5;28mbool\u001b[39m)):\n\u001b[1;32m    194\u001b[0m     \u001b[38;5;28;01mreturn\u001b[39;00m v\n",
      "File \u001b[0;32m~/micromamba/envs/sam/lib/python3.10/site-packages/lottie/objects/base.py:192\u001b[0m, in \u001b[0;36mLottieProp._basic_to_dict\u001b[0;34m(self, v)\u001b[0m\n\u001b[1;32m    190\u001b[0m     \u001b[38;5;28;01mreturn\u001b[39;00m \u001b[38;5;28mlist\u001b[39m(\u001b[38;5;28mmap\u001b[39m(\u001b[38;5;28mself\u001b[39m\u001b[38;5;241m.\u001b[39m_basic_to_dict, v\u001b[38;5;241m.\u001b[39mcomponents))\n\u001b[1;32m    191\u001b[0m \u001b[38;5;28;01melif\u001b[39;00m \u001b[38;5;28misinstance\u001b[39m(v, (\u001b[38;5;28mlist\u001b[39m, \u001b[38;5;28mtuple\u001b[39m)):\n\u001b[0;32m--> 192\u001b[0m     \u001b[38;5;28;01mreturn\u001b[39;00m \u001b[38;5;28;43mlist\u001b[39;49m\u001b[43m(\u001b[49m\u001b[38;5;28;43mmap\u001b[39;49m\u001b[43m(\u001b[49m\u001b[38;5;28;43mself\u001b[39;49m\u001b[38;5;241;43m.\u001b[39;49m\u001b[43m_basic_to_dict\u001b[49m\u001b[43m,\u001b[49m\u001b[43m \u001b[49m\u001b[43mv\u001b[49m\u001b[43m)\u001b[49m\u001b[43m)\u001b[49m\n\u001b[1;32m    193\u001b[0m \u001b[38;5;28;01melif\u001b[39;00m \u001b[38;5;28misinstance\u001b[39m(v, (\u001b[38;5;28mint\u001b[39m, \u001b[38;5;28mstr\u001b[39m, \u001b[38;5;28mbool\u001b[39m)):\n\u001b[1;32m    194\u001b[0m     \u001b[38;5;28;01mreturn\u001b[39;00m v\n",
      "File \u001b[0;32m~/micromamba/envs/sam/lib/python3.10/site-packages/lottie/objects/base.py:200\u001b[0m, in \u001b[0;36mLottieProp._basic_to_dict\u001b[0;34m(self, v)\u001b[0m\n\u001b[1;32m    198\u001b[0m     \u001b[38;5;28;01mreturn\u001b[39;00m v \u001b[38;5;66;03m# round(v, 3)\u001b[39;00m\n\u001b[1;32m    199\u001b[0m \u001b[38;5;28;01melse\u001b[39;00m:\n\u001b[0;32m--> 200\u001b[0m     \u001b[38;5;28;01mraise\u001b[39;00m \u001b[38;5;167;01mException\u001b[39;00m(\u001b[38;5;124m\"\u001b[39m\u001b[38;5;124mUnknown value \u001b[39m\u001b[38;5;132;01m{!r}\u001b[39;00m\u001b[38;5;124m\"\u001b[39m\u001b[38;5;241m.\u001b[39mformat(v))\n",
      "\u001b[0;31mException\u001b[0m: Unknown value <class 'lottie.objects.shapes.Shape'>"
     ]
    }
   ],
   "source": [
    "output.to_dict()"
   ]
  },
  {
   "cell_type": "code",
   "execution_count": 45,
   "id": "1f21c91f-9d90-414b-bbf9-bf18f139e2f4",
   "metadata": {},
   "outputs": [],
   "source": [
    "global animation_dict \n"
   ]
  },
  {
   "cell_type": "code",
   "execution_count": 37,
   "id": "38d1cacc-f876-4ddd-b6fc-03574108b39c",
   "metadata": {},
   "outputs": [
    {
     "data": {
      "text/plain": [
       "['svg/output_3.svg', 'svg/output_1.svg', 'svg/output.svg']"
      ]
     },
     "execution_count": 37,
     "metadata": {},
     "output_type": "execute_result"
    }
   ],
   "source": [
    "svg_files = [os.path.join(svg_directory, f) for f in os.listdir(svg_directory) if f.endswith('.svg')][0:100:5]\n",
    "svg_files"
   ]
  },
  {
   "cell_type": "code",
   "execution_count": 39,
   "id": "0eddb287-fa77-483e-8747-f2f9ce6e1a27",
   "metadata": {},
   "outputs": [
    {
     "data": {
      "text/plain": [
       "<function lottie.exporters.core.export_lottie(animation, file, pretty=False)>"
      ]
     },
     "execution_count": 39,
     "metadata": {},
     "output_type": "execute_result"
    }
   ],
   "source": [
    "lottie.exporters.export_lottie"
   ]
  },
  {
   "cell_type": "code",
   "execution_count": 28,
   "id": "14ed19c3-3ec0-41c6-921c-75ee978a8c30",
   "metadata": {},
   "outputs": [
    {
     "name": "stdout",
     "output_type": "stream",
     "text": [
      "cat: lottie_animation.json: No such file or directory\n"
     ]
    }
   ],
   "source": [
    "#from lottie import objects\n",
    "# https://pypi.org/project/pypotrace/\n",
    "#https://github.com/mapbox/delaunator\n",
    "#https://github.com/mapbox/earcut\n",
    "# https://github.com/gopherdata/gophernotes\n",
    "#https://github.com/kevmo314/magic-copy\n",
    "#https://github.com/Breakthrough/PySceneDetect\n",
    "\n",
    "\n",
    "!  cat lottie_animation.json"
   ]
  },
  {
   "cell_type": "code",
   "execution_count": 263,
   "id": "9eea4420-1eee-42a9-968e-fd668016ed22",
   "metadata": {},
   "outputs": [
    {
     "data": {
      "text/plain": [
       "25"
      ]
     },
     "execution_count": 263,
     "metadata": {},
     "output_type": "execute_result"
    }
   ],
   "source": [
    "#cp checkpoints/sam2_hiera_tiny.pt .\n",
    "\n",
    "len(sample)\n"
   ]
  },
  {
   "cell_type": "code",
   "execution_count": null,
   "id": "f3397e1f-3bb2-4c5f-be25-cbb9ad8da0ca",
   "metadata": {},
   "outputs": [],
   "source": []
  },
  {
   "cell_type": "code",
   "execution_count": 209,
   "id": "33b6e47b-78e3-4968-a5d5-7f2336199bd9",
   "metadata": {},
   "outputs": [
    {
     "data": {
      "text/html": [
       "\n",
       "<script>\n",
       "    console.log('Hello from JavaScript!');\n",
       "    // You can add more complex JS here\n",
       "</script>\n"
      ],
      "text/plain": [
       "<IPython.core.display.HTML object>"
      ]
     },
     "metadata": {},
     "output_type": "display_data"
    }
   ],
   "source": [
    "from IPython.display import display, HTML\n",
    "\n",
    "# Embedding JavaScript in HTML\n",
    "display(HTML(\"\"\"\n",
    "<script>\n",
    "    console.log('Hello from JavaScript!');\n",
    "    // You can add more complex JS here\n",
    "</script>\n",
    "\"\"\"))"
   ]
  },
  {
   "cell_type": "code",
   "execution_count": 210,
   "id": "106c9648-944e-42d9-bc32-bd76573264d1",
   "metadata": {},
   "outputs": [
    {
     "data": {
      "application/javascript": [
       "\n",
       "function showPopup(message) {\n",
       "    alert(message);\n",
       "}\n"
      ],
      "text/plain": [
       "<IPython.core.display.Javascript object>"
      ]
     },
     "metadata": {},
     "output_type": "display_data"
    },
    {
     "data": {
      "application/javascript": [
       "showPopup('Hello, World!')"
      ],
      "text/plain": [
       "<IPython.core.display.Javascript object>"
      ]
     },
     "metadata": {},
     "output_type": "display_data"
    }
   ],
   "source": [
    "from IPython.display import display, Javascript\n",
    "\n",
    "# Define a JavaScript function to create a pop-up dialog\n",
    "display(Javascript(\"\"\"\n",
    "function showPopup(message) {\n",
    "    alert(message);\n",
    "}\n",
    "\"\"\"))\n",
    "\n",
    "# Call the function from Python\n",
    "display(Javascript(\"showPopup('Hello, World!')\"))"
   ]
  },
  {
   "cell_type": "code",
   "execution_count": null,
   "id": "93e5b867-bdf0-457a-9233-6cac5d536d68",
   "metadata": {},
   "outputs": [],
   "source": [
    "import library_functions\n",
    "#library_functions.mask_generate()\n",
    "\n",
    "#! mkdir mask_output\n"
   ]
  },
  {
   "cell_type": "code",
   "execution_count": 90,
   "id": "b3d5c6d4-779d-4299-ad36-18a773467514",
   "metadata": {},
   "outputs": [
    {
     "name": "stdout",
     "output_type": "stream",
     "text": [
      "using device: cuda\n"
     ]
    }
   ],
   "source": []
  },
  {
   "cell_type": "code",
   "execution_count": 21,
   "id": "569cb82e-30d6-4d04-b4f8-186ec07b688d",
   "metadata": {},
   "outputs": [
    {
     "data": {
      "text/plain": [
       "18"
      ]
     },
     "execution_count": 21,
     "metadata": {},
     "output_type": "execute_result"
    }
   ],
   "source": [
    "display(Image(test_2 + '/' + frames[0]))"
   ]
  },
  {
   "cell_type": "code",
   "execution_count": 75,
   "id": "14a0af19-6640-4b2c-b575-3fe7efa1754e",
   "metadata": {},
   "outputs": [],
   "source": [
    "sample = [test_2 + '/' + frame for frame in frames]"
   ]
  },
  {
   "cell_type": "code",
   "execution_count": 76,
   "id": "b138f880-34c2-42f9-aadd-7477245894d8",
   "metadata": {},
   "outputs": [
    {
     "data": {
      "text/plain": [
       "50"
      ]
     },
     "execution_count": 76,
     "metadata": {},
     "output_type": "execute_result"
    }
   ],
   "source": [
    "sample = sample[10000:15000:100]\n",
    "len(sample)"
   ]
  },
  {
   "cell_type": "code",
   "execution_count": 95,
   "id": "a994afd3-36db-49ae-a1a5-165bb8db2bf0",
   "metadata": {},
   "outputs": [
    {
     "name": "stdout",
     "output_type": "stream",
     "text": [
      "using device: cuda\n"
     ]
    }
   ],
   "source": [
    "import os\n",
    "# if using Apple MPS, fall back to CPU for unsupported ops\n",
    "import numpy as np\n",
    "import torch\n",
    "import matplotlib.pyplot as plt\n",
    "from PIL import Image\n",
    "\n",
    "from sam2.build_sam import build_sam2\n",
    "from sam2.automatic_mask_generator import SAM2AutomaticMaskGenerator\n",
    "\n",
    "# select the device for computation\n",
    "if torch.cuda.is_available():\n",
    "    device = torch.device(\"cuda\")\n",
    "elif torch.backends.mps.is_available():\n",
    "    device = torch.device(\"mps\")\n",
    "else:\n",
    "    device = torch.device(\"cpu\")\n",
    "print(f\"using device: {device}\")\n",
    "if device.type == \"cuda\":\n",
    "    # use bfloat16 for the entire notebook\n",
    "    torch.autocast(\"cuda\", dtype=torch.bfloat16).__enter__()\n",
    "    # turn on tfloat32 for Ampere GPUs (https://pytorch.org/docs/stable/notes/cuda.html#tensorfloat-32-tf32-on-ampere-devices)\n",
    "    if torch.cuda.get_device_properties(0).major >= 8:\n",
    "        torch.backends.cuda.matmul.allow_tf32 = True\n",
    "        torch.backends.cudnn.allow_tf32 = True\n",
    "elif device.type == \"mps\":\n",
    "    print(\n",
    "        \"\\nSupport for MPS devices is preliminary. SAM 2 is trained with CUDA and might \"\n",
    "        \"give numerically different outputs and sometimes degraded performance on MPS. \"\n",
    "        \"See e.g. https://github.com/pytorch/pytorch/issues/84936 for a discussion.\"\n",
    "    )\n",
    "    np.random.seed(3)\n",
    "\n",
    "def show_anns(anns, borders=True):\n",
    "    if len(anns) == 0: return\n",
    "    sorted_anns = sorted(anns, key=(lambda x: x['area']), reverse=True)\n",
    "    ax = plt.gca()\n",
    "    ax.set_autoscale_on(False)\n",
    "\n",
    "    img = np.ones((sorted_anns[0]['segmentation'].shape[0], sorted_anns[0]['segmentation'].shape[1], 4))\n",
    "    img[:, :, 3] = 0\n",
    "    for ann in sorted_anns:\n",
    "        m = ann['segmentation']\n",
    "        color_mask = np.concatenate([np.random.random(3), [0.5]])\n",
    "        img[m] = color_mask \n",
    "        if borders:\n",
    "            import cv2\n",
    "            contours, _ = cv2.findContours(m.astype(np.uint8), cv2.RETR_EXTERNAL, cv2.CHAIN_APPROX_NONE) \n",
    "            # Try to smooth contours\n",
    "            contours = [cv2.approxPolyDP(contour, epsilon=0.01, closed=True) for contour in contours]\n",
    "            cv2.drawContours(img, contours, -1, (0, 0, 1, 0.4), thickness=1) \n",
    "        ax.imshow(img)\n",
    "\n",
    "\n",
    "\n",
    "sam2_checkpoint = \"./sam2_hiera_tiny.pt\"\n",
    "model_cfg = \"sam2_hiera_t.yaml\"\n",
    "\n",
    "sam2 = build_sam2(model_cfg, sam2_checkpoint, device=device, apply_postprocessing=False)\n",
    "\n",
    "# #mask_generator = SAM2AutomaticMaskGenerator(sam2)\n",
    "# mask_generator_2 = SAM2AutomaticMaskGenerator(\n",
    "#     model=sam2,\n",
    "#     points_per_side=64,\n",
    "#     points_per_batch=128,\n",
    "#     pred_iou_thresh=0.7,\n",
    "#     stability_score_thresh=0.92,\n",
    "#     stability_score_offset=0.7,\n",
    "#     crop_n_layers=1,\n",
    "#     box_nms_thresh=0.7,\n",
    "#     crop_n_points_downscale_factor=2,\n",
    "#     min_mask_region_area=25.0,\n",
    "#     use_m2m=True,\n",
    "# )\n",
    "sam2 = build_sam2(model_cfg, sam2_checkpoint, device=device, apply_postprocessing=False)\n",
    "mask_generator = SAM2AutomaticMaskGenerator(sam2)\n",
    "\n",
    "def mask_generate(url=\"../homelab-status-page/static/webcam.jpg\"):\n",
    "    image = Image.open(url)\n",
    "    image = np.array(image.convert(\"RGB\"))\n",
    "    #\n",
    "    #masks = mask_generator.generate(image)\n",
    "    #print(len(masks))\n",
    "    #print(masks[0].keys())\n",
    "    # plt.figure(figsize=(20, 20))\n",
    "    # plt.imshow(image)\n",
    "    # show_anns(masks)\n",
    "    # plt.axis('off')\n",
    "    # plt.show()\n",
    "    #masks2 = mask_generator_2.generate(image)\n",
    "    # plt.figure(figsize=(20, 20))\n",
    "    # plt.imshow(image)\n",
    "    #show_anns(masks2)\n",
    "    # plt.axis('off')\n",
    "    # plt.show()\n",
    "    return mask_generator.generate(image)\n"
   ]
  },
  {
   "cell_type": "code",
   "execution_count": 94,
   "id": "227dbd50-89cc-4d74-bad8-c63d67b96989",
   "metadata": {},
   "outputs": [
    {
     "data": {
      "text/plain": [
       "<sam2.automatic_mask_generator.SAM2AutomaticMaskGenerator at 0x7bb012b7aa10>"
      ]
     },
     "execution_count": 94,
     "metadata": {},
     "output_type": "execute_result"
    }
   ],
   "source": [
    "#mask_generator."
   ]
  },
  {
   "cell_type": "code",
   "execution_count": 96,
   "id": "a0a81df7-2b1d-475b-83c0-d5d565210b10",
   "metadata": {},
   "outputs": [
    {
     "name": "stdout",
     "output_type": "stream",
     "text": [
      "Appending chunk shit to file took 0.9604 seconds.\n",
      "Appending chunk shit to file took 0.7384 seconds.\n",
      "Appending chunk shit to file took 0.7524 seconds.\n",
      "Appending chunk shit to file took 0.9389 seconds.\n",
      "Appending chunk shit to file took 0.8586 seconds.\n",
      "Appending chunk shit to file took 0.7422 seconds.\n",
      "Appending chunk shit to file took 0.7411 seconds.\n",
      "Appending chunk shit to file took 0.7494 seconds.\n",
      "Appending chunk shit to file took 0.9508 seconds.\n",
      "Appending chunk shit to file took 0.7450 seconds.\n",
      "Appending chunk shit to file took 0.7626 seconds.\n",
      "Appending chunk shit to file took 1.1585 seconds.\n",
      "Appending chunk shit to file took 0.8018 seconds.\n",
      "Appending chunk shit to file took 0.7427 seconds.\n",
      "Appending chunk shit to file took 0.7368 seconds.\n",
      "Appending chunk shit to file took 0.8562 seconds.\n",
      "Appending chunk shit to file took 0.9414 seconds.\n",
      "Appending chunk shit to file took 0.8358 seconds.\n",
      "Appending chunk shit to file took 0.7550 seconds.\n",
      "Appending chunk shit to file took 1.0450 seconds.\n",
      "Appending chunk shit to file took 0.7462 seconds.\n",
      "Appending chunk shit to file took 0.7450 seconds.\n",
      "Appending chunk shit to file took 0.7391 seconds.\n",
      "Appending chunk shit to file took 0.7515 seconds.\n",
      "Appending chunk shit to file took 0.7513 seconds.\n",
      "Appending chunk shit to file took 0.7965 seconds.\n",
      "Appending chunk shit to file took 0.7797 seconds.\n",
      "Appending chunk shit to file took 0.7469 seconds.\n",
      "Appending chunk shit to file took 0.7484 seconds.\n",
      "Appending chunk shit to file took 0.8724 seconds.\n",
      "Appending chunk shit to file took 0.7576 seconds.\n",
      "Appending chunk shit to file took 1.0452 seconds.\n",
      "Appending chunk shit to file took 0.9418 seconds.\n",
      "Appending chunk shit to file took 0.7434 seconds.\n",
      "Appending chunk shit to file took 0.7453 seconds.\n",
      "Appending chunk shit to file took 0.7422 seconds.\n",
      "Appending chunk shit to file took 0.9637 seconds.\n",
      "Appending chunk shit to file took 0.8171 seconds.\n",
      "Appending chunk shit to file took 0.7440 seconds.\n",
      "Appending chunk shit to file took 0.7454 seconds.\n",
      "Appending chunk shit to file took 0.7542 seconds.\n",
      "Appending chunk shit to file took 0.7507 seconds.\n",
      "Appending chunk shit to file took 0.7467 seconds.\n",
      "Appending chunk shit to file took 1.0331 seconds.\n",
      "Appending chunk shit to file took 0.9630 seconds.\n",
      "Appending chunk shit to file took 0.9951 seconds.\n",
      "Appending chunk shit to file took 1.1813 seconds.\n",
      "Appending chunk shit to file took 0.7481 seconds.\n",
      "Appending chunk shit to file took 0.7454 seconds.\n",
      "Appending chunk shit to file took 0.7530 seconds.\n"
     ]
    }
   ],
   "source": [
    "import time\n",
    "\n",
    "annotation_masks = {}\n",
    "\n",
    "for _ in sample:\n",
    "    start_time = time.time() \n",
    "    anno = mask_generate(_)\n",
    "    annotation_masks[_] = anno\n",
    "    end_time = time.time() \n",
    "    print(f\"Appending chunk shit to file took {end_time - start_time:.4f} seconds.\")\n"
   ]
  },
  {
   "cell_type": "code",
   "execution_count": 97,
   "id": "49a7c087-f4ca-4b1e-8b72-4ed1d5e6af6c",
   "metadata": {},
   "outputs": [],
   "source": [
    "import json\n",
    "import numpy as np\n",
    "\n",
    "# Example: Convert a NumPy array to a list\n",
    "def convert_to_serializable(obj):\n",
    "    if isinstance(obj, np.ndarray):\n",
    "        return []\n",
    "    if isinstance(obj, set):\n",
    "        return list(obj)\n",
    "    return obj\n",
    "\n",
    "# Use the default parameter of json.dump to call the conversion function\n",
    "with open('annotations-4.json', 'w') as json_file:\n",
    "    json.dump(annotation_masks, json_file, default=convert_to_serializable)\n"
   ]
  },
  {
   "cell_type": "code",
   "execution_count": 114,
   "id": "0d54fd71-966d-4f4c-8354-f4cbb7e41216",
   "metadata": {},
   "outputs": [
    {
     "data": {
      "text/plain": [
       "'youtube/output_frames/Why is pi here  And why is it squared  A geometric answer to the Basel problem/frame_20326.jpg'"
      ]
     },
     "execution_count": 114,
     "metadata": {},
     "output_type": "execute_result"
    }
   ],
   "source": [
    "segments = list(annotation_masks.items())\n",
    "first_frame_segments = segments[0]\n",
    "first_frame_segments[0]"
   ]
  },
  {
   "cell_type": "code",
   "execution_count": 129,
   "id": "5ece305a-f17f-4f13-a361-f01e8435d8a9",
   "metadata": {},
   "outputs": [],
   "source": [
    "import numpy as np\n",
    "import matplotlib.pyplot as plt\n",
    "import cv2\n",
    "from xml.etree.ElementTree import Element, SubElement, tostring\n",
    "from xml.dom.minidom import parseString\n",
    "\n",
    "def show_anns_as_svg(anns, svg_path='output.svg', borders=True):\n",
    "    if len(anns) == 0:\n",
    "        return\n",
    "    \n",
    "    # Sort annotations by area in descending order\n",
    "    sorted_anns = sorted(anns, key=lambda x: x['area'], reverse=True)\n",
    "    \n",
    "    # Create an SVG root element\n",
    "    svg = Element('svg', xmlns=\"http://www.w3.org/2000/svg\", version=\"1.1\")\n",
    "    \n",
    "    for ann in sorted_anns:\n",
    "        m = ann['segmentation']\n",
    "        \n",
    "        # Find contours\n",
    "        contours, _ = cv2.findContours(m.astype(np.uint8), cv2.RETR_EXTERNAL, cv2.CHAIN_APPROX_NONE)\n",
    "        \n",
    "        # Create a path element for each contour\n",
    "        for contour in contours:\n",
    "            # Smooth the contour path using cv2.approxPolyDP\n",
    "            contour = cv2.approxPolyDP(contour, epsilon=0.01 * cv2.arcLength(contour, True), closed=True)\n",
    "            \n",
    "            # Convert the contour to SVG path data\n",
    "            path_data = 'M ' + ' L '.join([f'{point[0][0]} {point[0][1]}' for point in contour]) + ' Z'\n",
    "            path = SubElement(svg, 'path', d=path_data)\n",
    "            \n",
    "            # Set random fill color\n",
    "            color = f'rgb({int(np.random.randint(0, 256))},{int(np.random.randint(0, 256))},{int(np.random.randint(0, 256))})'\n",
    "            path.set('fill', color)\n",
    "            path.set('fill-opacity', '0.5')\n",
    "            \n",
    "            # Optional: Add a stroke (border) to the path\n",
    "            if borders:\n",
    "                path.set('stroke', 'blue')\n",
    "                path.set('stroke-width', '1')\n",
    "    \n",
    "    # Convert the XML structure to a string\n",
    "    svg_str = tostring(svg)\n",
    "    pretty_svg = parseString(svg_str).toprettyxml()\n",
    "    \n",
    "    # Save the SVG file\n",
    "    with open(svg_path, 'w') as f:\n",
    "        f.write(pretty_svg)\n",
    "\n",
    "    print(f'SVG saved to {svg_path}')\n",
    "\n",
    "# Example usage\n",
    "# Assume anns is a list of dictionaries, each with a 'segmentation' key containing a mask as a 2D ndarray.\n",
    "# anns = [{'segmentation': np.random.randint(0, 2, (100, 100), dtype=np.uint8), 'area': 500}]\n",
    "# show_anns_as_svg(anns, 'output.svg')\n"
   ]
  },
  {
   "cell_type": "code",
   "execution_count": 139,
   "id": "b1514c18-23fd-4fe7-a3a1-50725cba48b7",
   "metadata": {},
   "outputs": [
    {
     "name": "stdout",
     "output_type": "stream",
     "text": [
      "\u001b[31mERROR: Could not find a version that satisfies the requirement svglottie (from versions: none)\u001b[0m\u001b[31m\n",
      "\u001b[0m\u001b[31mERROR: No matching distribution found for svglottie\u001b[0m\u001b[31m\n",
      "\u001b[0m"
     ]
    }
   ],
   "source": [
    "! pip install svglottie\n"
   ]
  },
  {
   "cell_type": "code",
   "execution_count": 141,
   "id": "2cfd0dc8-e1b8-43ac-845a-3196e57f6f97",
   "metadata": {},
   "outputs": [],
   "source": [
    "import os\n",
    "def showAnnotation(url):\n",
    "    print(url)\n",
    "    image = Image.open(url)\n",
    "    plt.figure(figsize=(20, 20))\n",
    "    plt.imshow(image)\n",
    "    fp = os.path.split(url)[-1]\n",
    "    show_anns_as_svg(annotation_masks[url],  f\"output_{fp}.svg\")\n",
    "    plt.axis('off')\n",
    "    plt.show()\n",
    "    plt.savefig(\"shit\", bbox_inches='tight', pad_inches=0)\n",
    "    #plt.off()\n",
    "\n",
    "#for url in annotation_masks:\n",
    "    #print(url)\n",
    "\n",
    "    #showAnnotation(url)\n",
    "#show_anns()"
   ]
  },
  {
   "cell_type": "code",
   "execution_count": 98,
   "id": "89f9cbfa-a106-458c-926c-5f0ffd91515f",
   "metadata": {},
   "outputs": [],
   "source": [
    "import numpy as np\n",
    "import os\n",
    "\n",
    "#file_path = '/path/to/your/file/example.txt'\n",
    "#print(file_name)  \n",
    "\n",
    "for annotion in annotation_masks:\n",
    "    masks = annotation_masks[annotion]\n",
    "    file_name = os.path.basename(annotion)\n",
    "    for i, category in enumerate(masks):\n",
    "\n",
    "        np.save(f\"./annotations/{file_name}-{i}.npy\", category['segmentation'])\n",
    "#! mkdir annotations"
   ]
  },
  {
   "cell_type": "code",
   "execution_count": 46,
   "id": "7fe9300f-4103-46c9-9680-0ab18add10f9",
   "metadata": {},
   "outputs": [
    {
     "data": {
      "text/plain": [
       "[{'segmentation': array([[False, False, False, ..., False, False, False],\n",
       "         [False, False, False, ..., False, False, False],\n",
       "         [False, False, False, ..., False, False, False],\n",
       "         ...,\n",
       "         [False, False, False, ..., False, False, False],\n",
       "         [False, False, False, ..., False, False, False],\n",
       "         [False, False, False, ..., False, False, False]]),\n",
       "  'area': 26,\n",
       "  'bbox': [203.0, 128.0, 5.0, 4.0],\n",
       "  'predicted_iou': 0.8125,\n",
       "  'point_coords': [[208.359375, 131.796875]],\n",
       "  'stability_score': 0.9615384340286255,\n",
       "  'crop_box': [0.0, 0.0, 381.0, 241.0]},\n",
       " {'segmentation': array([[False, False, False, ..., False, False, False],\n",
       "         [False, False, False, ..., False, False, False],\n",
       "         [False, False, False, ..., False, False, False],\n",
       "         ...,\n",
       "         [False, False, False, ..., False, False, False],\n",
       "         [False, False, False, ..., False, False, False],\n",
       "         [False, False, False, ..., False, False, False]]),\n",
       "  'area': 68,\n",
       "  'bbox': [244.0, 65.0, 13.0, 8.0],\n",
       "  'predicted_iou': 0.75390625,\n",
       "  'point_coords': [[255.984375, 71.546875]],\n",
       "  'stability_score': 0.931506872177124,\n",
       "  'crop_box': [0.0, 0.0, 381.0, 241.0]},\n",
       " {'segmentation': array([[False, False, False, ..., False, False, False],\n",
       "         [False, False, False, ..., False, False, False],\n",
       "         [False, False, False, ..., False, False, False],\n",
       "         ...,\n",
       "         [False, False, False, ..., False, False, False],\n",
       "         [False, False, False, ..., False, False, False],\n",
       "         [False, False, False, ..., False, False, False]]),\n",
       "  'area': 2551,\n",
       "  'bbox': [368.0, 186.0, 53.0, 117.0],\n",
       "  'predicted_iou': 0.95703125,\n",
       "  'point_coords': [[384.015625, 205.609375]],\n",
       "  'stability_score': 0.949483335018158,\n",
       "  'crop_box': [259.0, 119.0, 381.0, 241.0]},\n",
       " {'segmentation': array([[False, False, False, ..., False, False, False],\n",
       "         [ True,  True,  True, ..., False, False, False],\n",
       "         [ True,  True,  True, ...,  True,  True,  True],\n",
       "         ...,\n",
       "         [ True,  True,  True, ...,  True,  True,  True],\n",
       "         [ True,  True,  True, ...,  True,  True,  True],\n",
       "         [ True,  True,  True, ...,  True,  True,  True]]),\n",
       "  'area': 161493,\n",
       "  'bbox': [0.0, 0.0, 639.0, 359.0],\n",
       "  'predicted_iou': 0.98828125,\n",
       "  'point_coords': [[505.0, 70.3125]],\n",
       "  'stability_score': 0.9445658326148987,\n",
       "  'crop_box': [0.0, 0.0, 640.0, 360.0]},\n",
       " {'segmentation': array([[False, False, False, ..., False, False, False],\n",
       "         [False, False, False, ..., False, False, False],\n",
       "         [False, False, False, ..., False, False, False],\n",
       "         ...,\n",
       "         [False, False, False, ..., False, False, False],\n",
       "         [False, False, False, ..., False, False, False],\n",
       "         [False, False, False, ..., False, False, False]]),\n",
       "  'area': 6942,\n",
       "  'bbox': [122.0, 311.0, 257.0, 48.0],\n",
       "  'predicted_iou': 0.97265625,\n",
       "  'point_coords': [[125.0, 317.8125]],\n",
       "  'stability_score': 0.9806074500083923,\n",
       "  'crop_box': [0.0, 0.0, 640.0, 360.0]},\n",
       " {'segmentation': array([[False, False, False, ..., False, False, False],\n",
       "         [False, False, False, ..., False, False, False],\n",
       "         [False, False, False, ..., False, False, False],\n",
       "         ...,\n",
       "         [False, False, False, ..., False, False, False],\n",
       "         [False, False, False, ..., False, False, False],\n",
       "         [False, False, False, ..., False, False, False]]),\n",
       "  'area': 2420,\n",
       "  'bbox': [186.0, 67.0, 97.0, 64.0],\n",
       "  'predicted_iou': 0.87890625,\n",
       "  'point_coords': [[225.0, 92.8125]],\n",
       "  'stability_score': 0.9392109513282776,\n",
       "  'crop_box': [0.0, 0.0, 640.0, 360.0]},\n",
       " {'segmentation': array([[False, False, False, ..., False, False, False],\n",
       "         [False, False, False, ..., False, False, False],\n",
       "         [False, False, False, ..., False, False, False],\n",
       "         ...,\n",
       "         [False, False, False, ..., False, False, False],\n",
       "         [False, False, False, ..., False, False, False],\n",
       "         [False, False, False, ..., False, False, False]]),\n",
       "  'area': 1567,\n",
       "  'bbox': [228.0, 66.0, 55.0, 47.0],\n",
       "  'predicted_iou': 0.87890625,\n",
       "  'point_coords': [[235.0, 104.0625]],\n",
       "  'stability_score': 0.9228886365890503,\n",
       "  'crop_box': [0.0, 0.0, 640.0, 360.0]},\n",
       " {'segmentation': array([[False, False, False, ..., False, False, False],\n",
       "         [False, False, False, ..., False, False, False],\n",
       "         [False, False, False, ..., False, False, False],\n",
       "         ...,\n",
       "         [False, False, False, ..., False, False, False],\n",
       "         [False, False, False, ..., False, False, False],\n",
       "         [False, False, False, ..., False, False, False]]),\n",
       "  'area': 128,\n",
       "  'bbox': [235.0, 78.0, 30.0, 6.0],\n",
       "  'predicted_iou': 0.76171875,\n",
       "  'point_coords': [[255.0, 81.5625]],\n",
       "  'stability_score': 0.939393937587738,\n",
       "  'crop_box': [0.0, 0.0, 640.0, 360.0]}]"
      ]
     },
     "execution_count": 46,
     "metadata": {},
     "output_type": "execute_result"
    }
   ],
   "source": [
    "# 2 anime - ouran lightbulb + find another\n",
    "# 2 brown 2 blue - \n",
    "# 2 logos \n",
    "#\n",
    "annotation_map = { \"why is pi here\": 4,\n",
    "                 \"cone\": 2}\n",
    "annotation_masks['youtube/output_frames/cone_to_ellipse/frame_10000.jpg']"
   ]
  },
  {
   "cell_type": "code",
   "execution_count": 219,
   "id": "4c1e4735-a2a0-4a43-ad3c-1316d03d9ce0",
   "metadata": {},
   "outputs": [
    {
     "data": {
      "application/javascript": [
       "\n",
       "    if (typeof earcut === 'undefined') {\n",
       "        var script = document.createElement('script');\n",
       "        script.src = 'https://cdn.jsdelivr.net/npm/earcut@2.2.2/dist/earcut.min.js';\n",
       "        document.head.appendChild(script);\n",
       "    }\n"
      ],
      "text/plain": [
       "<IPython.core.display.Javascript object>"
      ]
     },
     "metadata": {},
     "output_type": "display_data"
    },
    {
     "data": {
      "application/javascript": [
       "\n",
       "    function triangulatePolygon(vertices) {\n",
       "        return earcut(vertices);\n",
       "    }\n"
      ],
      "text/plain": [
       "<IPython.core.display.Javascript object>"
      ]
     },
     "metadata": {},
     "output_type": "display_data"
    },
    {
     "data": {
      "application/javascript": [
       "\n",
       "        var vertices = [10, 0, 0, 50, 60, 60, 70, 10];\n",
       "        var result = triangulatePolygon(vertices);\n",
       "        console.log(result);\n",
       "        IPython.notebook.kernel.execute(`triangulated_data = ${JSON.stringify(result)}`);\n",
       "    "
      ],
      "text/plain": [
       "<IPython.core.display.Javascript object>"
      ]
     },
     "metadata": {},
     "output_type": "display_data"
    }
   ],
   "source": [
    "def main():\n",
    "    for tolerance in (0, 64, 128, 256, 512):\n",
    "        # first iteration will take a long time because there are many colors\n",
    "        dir_path, image_name = path.split(FIREBALL_PNG_PATH)\n",
    "        print(f'Converting {image_name} with color tolerance: {tolerance}')\n",
    "        with catchtime():\n",
    "            svg_img = pixels2svg(FIREBALL_PNG_PATH,\n",
    "                                 color_tolerance=tolerance)\n",
    "        output_path = path.join(dir_path,\n",
    "                                image_name.replace(\n",
    "                                    '.png', f'_tolerance_{tolerance}.svg'))\n",
    "        svg_img.save_to_path(output_path)\n"
   ]
  },
  {
   "cell_type": "code",
   "execution_count": null,
   "id": "2a7c6c8b-70b0-46ed-9722-dc0874560000",
   "metadata": {},
   "outputs": [],
   "source": []
  },
  {
   "cell_type": "code",
   "execution_count": null,
   "id": "40b58367-dc6d-4b0a-9643-e3bcd1c91c30",
   "metadata": {},
   "outputs": [],
   "source": [
    "import ipywidgets as widgets\n",
    "from IPython.display import display, Javascript\n",
    "\n",
    "# Step 1: Load earcut.js\n",
    "display(Javascript(\"\"\"\n",
    "    if (typeof earcut === 'undefined') {\n",
    "        var script = document.createElement('script');\n",
    "        script.src = 'https://cdn.jsdelivr.net/npm/earcut@2.2.2/dist/earcut.min.js';\n",
    "        document.head.appendChild(script);\n",
    "    }\n",
    "\"\"\"))\n",
    "\n",
    "# Step 2: Define the triangulatePolygon function in JavaScript\n",
    "display(Javascript(\"\"\"\n",
    "    function triangulatePolygon(vertices) {\n",
    "        return earcut(vertices);\n",
    "    }\n",
    "\"\"\"))\n",
    "\n",
    "# Step 3: Output widget for displaying results\n",
    "output = widgets.Output()\n",
    "display(output)\n",
    "\n",
    "# Step 4: Function to pass data to JavaScript and return results\n",
    "def triangulate(vertices):\n",
    "    vertices_str = str(vertices)\n",
    "    display(Javascript(\"\"\"\n",
    "    import earcut from 'https://cdn.jsdelivr.net/npm/earcut/+esm';\n",
    "       function triangulatePolygon(vertices) {\n",
    "            return earcut(vertices);\n",
    "        }\n",
    "\n",
    "        var vertices = \"\"\"+vertices_str+\"\"\";\n",
    "        var result = triangulatePolygon(vertices);\n",
    "        console.log(result);\n",
    "        IPython.notebook.kernel.execute(`triangulated_data = ${{JSON.stringify(result)}}`);\n",
    "    \"\"\"))\n",
    "\n",
    "# Step 5: Define the vertices of a polygon and run the function\n",
    "polygon_vertices = [10, 0, 0, 50, 60, 60, 70, 10]\n",
    "triangulate(polygon_vertices)\n",
    "\n",
    "# Step 6: Output the results from JavaScript to Python\n",
    "# output.clear_output()\n",
    "# with output:\n",
    "#     print(triangulated_data)  # This variable is set in the kernel by JavaScript\n",
    "\n",
    "import numpy as np\n",
    "from scipy.spatial import Delaunay\n",
    "import matplotlib.pyplot as plt\n",
    "\n",
    "# Create some random points\n",
    "points = np.random.rand(10, 2)\n",
    "\n",
    "# Triangulate the points\n",
    "tri = Delaunay(points)\n",
    "\n",
    "# Plot the triangulation\n",
    "plt.triplot(points[:,0], points[:,1], tri.simplices)\n",
    "plt.plot(points[:,0], points[:,1], 'o')\n",
    "#plt.show()"
   ]
  },
  {
   "cell_type": "code",
   "execution_count": null,
   "id": "6c3892cd-753c-442d-9c58-84c73f11c42a",
   "metadata": {},
   "outputs": [],
   "source": []
  },
  {
   "cell_type": "code",
   "execution_count": null,
   "id": "1b74624d-cee3-4422-bac0-3b983c76c1c7",
   "metadata": {},
   "outputs": [],
   "source": [
    "#! jupyter nbextension enable --py widgetsnbextension\n"
   ]
  },
  {
   "cell_type": "code",
   "execution_count": 202,
   "id": "a57167cd-bd15-4545-b927-7a8c529ba0e9",
   "metadata": {},
   "outputs": [],
   "source": [
    "svg_file = \"lottie_2/pixelate10.svg\"\n",
    "paths, attributes = svg2paths(svg_file)\n",
    "lottie_shapes = []\n",
    "an = objects.Animation(59)\n",
    "layer = objects.ShapeLayer()\n",
    "an.add_layer(layer)\n",
    "for path in paths:\n",
    "    lottie_shape = objects.Shape() # this is a path in one frame\n",
    "    #layer = lottie_shape.add_layer()\n",
    "    bez   = layer.add_shape(objects.Path())\n",
    "    for segment in path:\n",
    "        #print(segment.__class__.__name__)\n",
    "        if segment.__class__.__name__ == \"Line\":\n",
    "            bez.shape.value.add_point(Point(256, 128), Point(0, 0), Point(64, 64))\n",
    "            bez.shape.value.add_point(Point(256, 256), Point(-64, -64), Point(-64, 64))\n",
    "            bez.shape.value.add_point(Point(256, 256+120), Point(0, 0), Point(0, 0))\n",
    "            layer.add_shape(objects.Stroke(Color(1, 0, 0), 10))\n",
    " \n",
    "            #segment.start[0]\n",
    "            #print(\"cool\", segment)\n",
    "            #layer.add_shape(segment)\n",
    "\n",
    "  # Add other path segment types as needed, e.g., CubicBezier, QuadraticBezier, etc.\n",
    "    lottie_shapes.append(lottie_shape)\n",
    "#lottie_shapes, an"
   ]
  },
  {
   "cell_type": "code",
   "execution_count": 199,
   "id": "dc1148de-c199-4fb7-b625-6b1da1d7f860",
   "metadata": {},
   "outputs": [
    {
     "data": {
      "text/plain": [
       "<lottie.objects.shapes.Path at 0x7f450ecc19c0>"
      ]
     },
     "execution_count": 199,
     "metadata": {},
     "output_type": "execute_result"
    }
   ],
   "source": [
    "path"
   ]
  },
  {
   "cell_type": "code",
   "execution_count": 206,
   "id": "32754468-eb83-457d-b859-075c60de30cd",
   "metadata": {},
   "outputs": [
    {
     "data": {
      "text/plain": [
       "[<ShapeLayer 0 None>]"
      ]
     },
     "execution_count": 206,
     "metadata": {},
     "output_type": "execute_result"
    }
   ],
   "source": [
    "an.layers\n"
   ]
  },
  {
   "cell_type": "code",
   "execution_count": 204,
   "id": "89af50de-885b-42bf-b4b2-51e379012996",
   "metadata": {},
   "outputs": [],
   "source": [
    "lottie.exporters.export_lottie(an, \"animation.json\")"
   ]
  },
  {
   "cell_type": "code",
   "execution_count": null,
   "id": "5d34d44b-62b1-4eba-828f-5f61cc160216",
   "metadata": {},
   "outputs": [],
   "source": [
    "#lottie.exporters.export_embedded_html(output, \"animation.html\")\n"
   ]
  },
  {
   "cell_type": "code",
   "execution_count": 179,
   "id": "42682287-f963-4718-a346-0e91865d243f",
   "metadata": {},
   "outputs": [],
   "source": [
    "\n",
    "from lottie.utils import script\n",
    "from lottie import objects\n",
    "from lottie import Point, Color"
   ]
  },
  {
   "cell_type": "code",
   "execution_count": 152,
   "id": "d3241e3c-9eee-445b-bb5e-a843acbe69e1",
   "metadata": {},
   "outputs": [
    {
     "data": {
      "image/svg+xml": [
       "<svg xmlns=\"http://www.w3.org/2000/svg\" xmlns:ev=\"http://www.w3.org/2001/xml-events\" xmlns:xlink=\"http://www.w3.org/1999/xlink\" baseProfile=\"full\" height=\"360px\" version=\"1.1\" viewBox=\"0 0 640 360\" width=\"640px\"><defs/><g><path d=\"M 360,360 360,350 365,350 365,355 370,355 370,350 365,350 365,345 375,345 375,335 380,335 380,326 380,325 385,325 385,322 385,320 390,320 390,315 395,315 395,310 400,310 400,305 405,305 405,300 410,300 410,295 415,295 415,290 420,290 420,280 425,280 425,270 430,270 430,265 425,265 425,250 430,250 430,235 425,235 425,240 420,240 420,230 415,230 415,225 410,225 410,210 400,210 400,205 395,205 395,200 390,200 390,195 385,195 385,185 380,185 380,180 370,180 370,175 365,175 365,170 370,170 370,165 365,165 365,160 350,160 350,155 340,155 340,145 335,145 335,140 330,140 330,130 320,130 320,125 315,125 315,115 320,115 320,105 325,105 325,100 330,100 330,105 335,105 335,100 340,100 340,95 355,95 355,90 370,90 370,85 385,85 385,80 380,80 380,75 390,75 390,70 405,70 405,65 415,65 415,60 410,60 410,55 405,55 405,60 400,60 400,65 395,65 395,60 385,60 385,65 380,65 380,70 370,70 370,75 360,75 360,80 343,80 340,80 340,85 335,85 335,80 330,80 330,85 325,85 325,90 312,90 310,90 310,95 290,95 290,90 285,90 285,95 280,95 280,85 289,85 290,85 290,80 278,80 275,80 275,75 274,75 270,75 270,65 265,65 265,70 260,70 260,65 245,65 245,70 240,70 240,75 235,75 235,70 230,70 230,75 226,75 225,75 225,85 215,85 215,80 210,80 210,90 215,90 215,95 205,95 205,105 200,105 200,110 195,110 195,100 190,100 190,110 185,110 185,115 190,115 190,125 185,125 185,130 180,130 180,135 175,135 175,130 170,130 170,140 165,140 165,130 160,130 160,145 140,145 140,150 130,150 130,155 115,155 115,160 95,160 95,170 80,170 80,180 85,180 85,175 100,175 100,170 115,170 115,165 120,165 120,170 125,170 125,160 140,160 140,155 145,155 145,170 135,170 135,175 130,175 130,180 125,180 125,185 120,185 120,190 115,190 115,185 110,185 110,200 105,200 105,210 100,210 100,205 95,205 95,215 90,215 90,220 80,220 80,225 85,225 85,230 80,230 80,240 75,240 75,270 80,270 80,290 90,290 90,295 95,295 95,300 85,300 85,305 95,305 95,300 100,300 100,305 105,305 105,310 110,310 110,315 120,315 120,325 125,325 125,330 130,330 130,335 125,335 125,340 130,340 130,345 135,345 135,350 140,350 140,360 0,360 0,0 279,0 640,0 640,360 611,360 z M 355,70 350,70 350,75 355,75 z M 105,190 95,190 95,195 105,195 z M 280,45 280,50 285,50 285,45 z M 345,145 345,150 350,150 350,145 z M 99,320 100,320 100,318 100,315 95,315 95,316 95,319 95,320 97,320 z M 110,330 115,330 115,320 110,320 z M 120,180 125,180 125,175 120,175 z M 115,180 115,175 110,175 110,180 z M 220,50 225,50 225,45 220,45 z\" fill=\"#000000\" fill-opacity=\"1.0\" id=\"x000000_r0_g0_b0_shape1\"/><path d=\"M 389,65 390,65 390,67 390,70 385,70 385,69 385,66 385,65 387,65 z\" fill=\"#000000\" fill-opacity=\"1.0\" id=\"x000000_r0_g0_b0_shape2\"/><path d=\"M 310,105 315,105 315,110 310,110 z\" fill=\"#000000\" fill-opacity=\"1.0\" id=\"x000000_r0_g0_b0_shape3\"/><path d=\"M 155,159 155,160 153,160 150,160 150,155 151,155 154,155 155,155 155,157 z\" fill=\"#000000\" fill-opacity=\"1.0\" id=\"x000000_r0_g0_b0_shape4\"/><path d=\"M 365,170 360,170 360,165 365,165 z\" fill=\"#000000\" fill-opacity=\"1.0\" id=\"x000000_r0_g0_b0_shape5\"/><path d=\"M 205,95 215,95 215,100 210,100 210,105 205,105 z\" fill=\"#000002\" fill-opacity=\"1.0\" id=\"x000002_r0_g0_b2_shape1\"/><path d=\"M 75,250 75,240 80,240 80,250 z\" fill=\"#000002\" fill-opacity=\"1.0\" id=\"x000002_r0_g0_b2_shape2\"/><path d=\"M 80,270 75,270 75,265 75,260 80,260 80,263 z\" fill=\"#000002\" fill-opacity=\"1.0\" id=\"x000002_r0_g0_b2_shape3\"/><path d=\"M 110,320 115,320 115,330 110,330 z\" fill=\"#000002\" fill-opacity=\"1.0\" id=\"x000002_r0_g0_b2_shape4\"/><path d=\"M 255,70 255,65 260,65 260,70 z\" fill=\"#000002\" fill-opacity=\"1.0\" id=\"x000002_r0_g0_b2_shape5\"/><path d=\"M 290,84 290,85 288,85 285,85 285,80 286,80 289,80 290,80 290,82 z\" fill=\"#000002\" fill-opacity=\"1.0\" id=\"x000002_r0_g0_b2_shape6\"/><path d=\"M 292,100 290,100 290,99 290,96 290,95 292,95 294,95 295,95 295,97 295,98 295,100 294,100 z\" fill=\"#000002\" fill-opacity=\"1.0\" id=\"x000002_r0_g0_b2_shape7\"/><path d=\"M 305,120 305,115 310,115 310,120 z\" fill=\"#000002\" fill-opacity=\"1.0\" id=\"x000002_r0_g0_b2_shape8\"/><path d=\"M 315,130 315,125 320,125 320,130 z\" fill=\"#000002\" fill-opacity=\"1.0\" id=\"x000002_r0_g0_b2_shape9\"/><path d=\"M 360,165 360,160 365,160 365,165 z\" fill=\"#000002\" fill-opacity=\"1.0\" id=\"x000002_r0_g0_b2_shape10\"/><path d=\"M 125,180 130,180 130,185 125,185 z\" fill=\"#000002\" fill-opacity=\"1.0\" id=\"x000002_r0_g0_b2_shape11\"/><path d=\"M 370,181 370,180 372,180 375,180 375,185 374,185 371,185 370,185 370,183 z\" fill=\"#000002\" fill-opacity=\"1.0\" id=\"x000002_r0_g0_b2_shape12\"/><path d=\"M 375,185 380,185 380,190 375,190 z\" fill=\"#000002\" fill-opacity=\"1.0\" id=\"x000002_r0_g0_b2_shape13\"/><path d=\"M 100,195 100,190 105,190 105,195 z\" fill=\"#000002\" fill-opacity=\"1.0\" id=\"x000002_r0_g0_b2_shape14\"/><path d=\"M 108,200 110,200 110,201 110,204 110,205 108,205 106,205 105,205 105,203 105,202 105,200 106,200 z\" fill=\"#000002\" fill-opacity=\"1.0\" id=\"x000002_r0_g0_b2_shape15\"/><path d=\"M 98,210 100,210 100,211 100,214 100,215 98,215 96,215 95,215 95,213 95,212 95,210 96,210 z\" fill=\"#000002\" fill-opacity=\"1.0\" id=\"x000002_r0_g0_b2_shape16\"/><path d=\"M 408,210 410,210 410,211 410,214 410,215 408,215 406,215 405,215 405,213 405,212 405,210 406,210 z\" fill=\"#000002\" fill-opacity=\"1.0\" id=\"x000002_r0_g0_b2_shape17\"/><path d=\"M 94,215 95,215 95,217 95,220 90,220 90,219 90,216 90,215 92,215 z\" fill=\"#000002\" fill-opacity=\"1.0\" id=\"x000002_r0_g0_b2_shape18\"/><path d=\"M 85,220 85,225 80,225 80,220 z\" fill=\"#000002\" fill-opacity=\"1.0\" id=\"x000002_r0_g0_b2_shape19\"/><path d=\"M 85,230 85,235 80,235 80,230 z\" fill=\"#000002\" fill-opacity=\"1.0\" id=\"x000002_r0_g0_b2_shape20\"/><path d=\"M 425,265 430,265 430,270 425,270 z\" fill=\"#000002\" fill-opacity=\"1.0\" id=\"x000002_r0_g0_b2_shape21\"/><path d=\"M 422,275 420,275 420,274 420,271 420,270 422,270 424,270 425,270 425,272 425,273 425,275 424,275 z\" fill=\"#000002\" fill-opacity=\"1.0\" id=\"x000002_r0_g0_b2_shape22\"/><path d=\"M 80,280 85,280 85,285 80,285 z\" fill=\"#000002\" fill-opacity=\"1.0\" id=\"x000002_r0_g0_b2_shape23\"/><path d=\"M 90,291 90,290 92,290 95,290 95,295 94,295 91,295 90,295 90,293 z\" fill=\"#000002\" fill-opacity=\"1.0\" id=\"x000002_r0_g0_b2_shape24\"/><path d=\"M 402,300 400,300 400,299 400,296 400,295 402,295 404,295 405,295 405,297 405,298 405,300 404,300 z\" fill=\"#000002\" fill-opacity=\"1.0\" id=\"x000002_r0_g0_b2_shape25\"/><path d=\"M 105,307 105,305 106,305 109,305 110,305 110,307 110,309 110,310 108,310 107,310 105,310 105,309 z\" fill=\"#000002\" fill-opacity=\"1.0\" id=\"x000002_r0_g0_b2_shape26\"/><path d=\"M 390,305 395,305 395,310 390,310 z\" fill=\"#000002\" fill-opacity=\"1.0\" id=\"x000002_r0_g0_b2_shape27\"/><path d=\"M 115,315 115,310 120,310 120,315 z\" fill=\"#000002\" fill-opacity=\"1.0\" id=\"x000002_r0_g0_b2_shape28\"/><path d=\"M 96,320 95,320 95,318 95,315 100,315 100,316 100,319 100,320 98,320 z\" fill=\"#000002\" fill-opacity=\"1.0\" id=\"x000002_r0_g0_b2_shape29\"/><path d=\"M 120,321 120,320 122,320 125,320 125,325 124,325 121,325 120,325 120,323 z\" fill=\"#000002\" fill-opacity=\"1.0\" id=\"x000002_r0_g0_b2_shape30\"/><path d=\"M 370,341 370,340 372,340 375,340 375,345 374,345 371,345 370,345 370,343 z\" fill=\"#000002\" fill-opacity=\"1.0\" id=\"x000002_r0_g0_b2_shape31\"/><path d=\"M 145,355 145,360 140,360 140,355 z\" fill=\"#000002\" fill-opacity=\"1.0\" id=\"x000002_r0_g0_b2_shape32\"/><path d=\"M 385,60 395,60 395,65 389,65 385,65 385,63 z\" fill=\"#010101\" fill-opacity=\"1.0\" id=\"x010101_r1_g1_b1_shape1\"/><path d=\"M 230,75 230,85 225,85 225,78 225,75 226,75 z\" fill=\"#010101\" fill-opacity=\"1.0\" id=\"x010101_r1_g1_b1_shape2\"/><path d=\"M 385,80 385,85 380,85 375,85 375,80 378,80 z\" fill=\"#010101\" fill-opacity=\"1.0\" id=\"x010101_r1_g1_b1_shape3\"/><path d=\"M 330,130 330,135 320,135 320,130 z\" fill=\"#010101\" fill-opacity=\"1.0\" id=\"x010101_r1_g1_b1_shape4\"/><path d=\"M 125,160 125,170 120,170 120,160 z\" fill=\"#010101\" fill-opacity=\"1.0\" id=\"x010101_r1_g1_b1_shape5\"/><path d=\"M 105,170 105,165 115,165 115,170 z\" fill=\"#010101\" fill-opacity=\"1.0\" id=\"x010101_r1_g1_b1_shape6\"/><path d=\"M 90,170 100,170 100,175 90,175 z\" fill=\"#010101\" fill-opacity=\"1.0\" id=\"x010101_r1_g1_b1_shape7\"/><path d=\"M 220,45 225,45 225,50 220,50 z\" fill=\"#010101\" fill-opacity=\"1.0\" id=\"x010101_r1_g1_b1_shape8\"/><path d=\"M 280,50 280,45 285,45 285,50 z\" fill=\"#010101\" fill-opacity=\"1.0\" id=\"x010101_r1_g1_b1_shape9\"/><path d=\"M 355,70 355,75 350,75 350,70 z\" fill=\"#010101\" fill-opacity=\"1.0\" id=\"x010101_r1_g1_b1_shape10\"/><path d=\"M 275,80 270,80 270,75 275,75 z\" fill=\"#010101\" fill-opacity=\"1.0\" id=\"x010101_r1_g1_b1_shape11\"/><path d=\"M 331,85 330,85 330,83 330,80 335,80 335,81 335,84 335,85 333,85 z\" fill=\"#010101\" fill-opacity=\"1.0\" id=\"x010101_r1_g1_b1_shape12\"/><path d=\"M 355,95 350,95 350,90 355,90 z\" fill=\"#010101\" fill-opacity=\"1.0\" id=\"x010101_r1_g1_b1_shape13\"/><path d=\"M 340,95 340,100 335,100 335,95 z\" fill=\"#010101\" fill-opacity=\"1.0\" id=\"x010101_r1_g1_b1_shape14\"/><path d=\"M 335,105 330,105 330,100 335,100 z\" fill=\"#010101\" fill-opacity=\"1.0\" id=\"x010101_r1_g1_b1_shape15\"/><path d=\"M 310,122 310,120 311,120 314,120 315,120 315,122 315,124 315,125 313,125 312,125 310,125 310,124 z\" fill=\"#010101\" fill-opacity=\"1.0\" id=\"x010101_r1_g1_b1_shape16\"/><path d=\"M 145,145 145,150 140,150 140,145 z\" fill=\"#010101\" fill-opacity=\"1.0\" id=\"x010101_r1_g1_b1_shape17\"/><path d=\"M 120,159 120,160 118,160 115,160 115,155 116,155 119,155 120,155 120,157 z\" fill=\"#010101\" fill-opacity=\"1.0\" id=\"x010101_r1_g1_b1_shape18\"/><path d=\"M 95,160 100,160 100,165 95,165 z\" fill=\"#010101\" fill-opacity=\"1.0\" id=\"x010101_r1_g1_b1_shape19\"/><path d=\"M 355,165 360,165 360,170 355,170 z\" fill=\"#010101\" fill-opacity=\"1.0\" id=\"x010101_r1_g1_b1_shape20\"/><path d=\"M 85,179 85,180 83,180 80,180 80,175 81,175 84,175 85,175 85,177 z\" fill=\"#010101\" fill-opacity=\"1.0\" id=\"x010101_r1_g1_b1_shape21\"/><path d=\"M 415,290 415,295 410,295 410,290 z\" fill=\"#010101\" fill-opacity=\"1.0\" id=\"x010101_r1_g1_b1_shape22\"/><path d=\"M 385,320 385,315 390,315 390,320 z\" fill=\"#010101\" fill-opacity=\"1.0\" id=\"x010101_r1_g1_b1_shape23\"/><path d=\"M 125,335 130,335 130,340 125,340 z\" fill=\"#010101\" fill-opacity=\"1.0\" id=\"x010101_r1_g1_b1_shape24\"/><path d=\"M 215,90 210,90 210,80 215,80 z\" fill=\"#000100\" fill-opacity=\"1.0\" id=\"x000100_r0_g1_b0_shape1\"/><path d=\"M 195,110 190,110 190,100 195,100 z\" fill=\"#000100\" fill-opacity=\"1.0\" id=\"x000100_r0_g1_b0_shape2\"/><path d=\"M 95,300 95,305 85,305 85,300 z\" fill=\"#000100\" fill-opacity=\"1.0\" id=\"x000100_r0_g1_b0_shape3\"/><path d=\"M 270,70 265,70 265,65 270,65 z\" fill=\"#000100\" fill-opacity=\"1.0\" id=\"x000100_r0_g1_b0_shape4\"/><path d=\"M 285,85 280,85 280,80 285,80 z\" fill=\"#000100\" fill-opacity=\"1.0\" id=\"x000100_r0_g1_b0_shape5\"/><path d=\"M 190,110 190,115 185,115 185,110 z\" fill=\"#000100\" fill-opacity=\"1.0\" id=\"x000100_r0_g1_b0_shape6\"/><path d=\"M 305,110 305,115 300,115 300,110 z\" fill=\"#000100\" fill-opacity=\"1.0\" id=\"x000100_r0_g1_b0_shape7\"/><path d=\"M 315,110 315,115 310,115 310,110 z\" fill=\"#000100\" fill-opacity=\"1.0\" id=\"x000100_r0_g1_b0_shape8\"/><path d=\"M 160,140 160,135 165,135 165,140 z\" fill=\"#000100\" fill-opacity=\"1.0\" id=\"x000100_r0_g1_b0_shape9\"/><path d=\"M 348,145 350,145 350,146 350,149 350,150 348,150 346,150 345,150 345,148 345,147 345,145 346,145 z\" fill=\"#000100\" fill-opacity=\"1.0\" id=\"x000100_r0_g1_b0_shape10\"/><path d=\"M 350,160 355,160 355,165 350,165 z\" fill=\"#000100\" fill-opacity=\"1.0\" id=\"x000100_r0_g1_b0_shape11\"/><path d=\"M 120,180 120,175 125,175 125,180 z\" fill=\"#000100\" fill-opacity=\"1.0\" id=\"x000100_r0_g1_b0_shape12\"/><path d=\"M 135,175 135,180 130,180 130,175 z\" fill=\"#000100\" fill-opacity=\"1.0\" id=\"x000100_r0_g1_b0_shape13\"/><path d=\"M 113,185 115,185 115,186 115,189 115,190 113,190 111,190 110,190 110,188 110,187 110,185 111,185 z\" fill=\"#000100\" fill-opacity=\"1.0\" id=\"x000100_r0_g1_b0_shape14\"/><path d=\"M 95,190 100,190 100,195 95,195 z\" fill=\"#000100\" fill-opacity=\"1.0\" id=\"x000100_r0_g1_b0_shape15\"/><path d=\"M 422,265 420,265 420,264 420,261 420,260 422,260 424,260 425,260 425,262 425,263 425,265 424,265 z\" fill=\"#000100\" fill-opacity=\"1.0\" id=\"x000100_r0_g1_b0_shape16\"/><path d=\"M 425,235 430,235 430,250 425,250 z\" fill=\"#010000\" fill-opacity=\"1.0\" id=\"x010000_r1_g0_b0_shape1\"/><path d=\"M 230,70 235,70 235,75 230,75 z\" fill=\"#010000\" fill-opacity=\"1.0\" id=\"x010000_r1_g0_b0_shape2\"/><path d=\"M 280,84 280,85 278,85 275,85 275,80 276,80 279,80 280,80 280,82 z\" fill=\"#010000\" fill-opacity=\"1.0\" id=\"x010000_r1_g0_b0_shape3\"/><path d=\"M 215,87 215,85 216,85 219,85 220,85 220,87 220,89 220,90 218,90 217,90 215,90 215,89 z\" fill=\"#010000\" fill-opacity=\"1.0\" id=\"x010000_r1_g0_b0_shape4\"/><path d=\"M 290,90 290,95 285,95 285,90 z\" fill=\"#010000\" fill-opacity=\"1.0\" id=\"x010000_r1_g0_b0_shape5\"/><path d=\"M 315,112 315,110 316,110 319,110 320,110 320,112 320,114 320,115 318,115 317,115 315,115 315,114 z\" fill=\"#010000\" fill-opacity=\"1.0\" id=\"x010000_r1_g0_b0_shape6\"/><path d=\"M 310,115 315,115 315,120 310,120 z\" fill=\"#010000\" fill-opacity=\"1.0\" id=\"x010000_r1_g0_b0_shape7\"/><path d=\"M 160,130 165,130 165,135 160,135 z\" fill=\"#010000\" fill-opacity=\"1.0\" id=\"x010000_r1_g0_b0_shape8\"/><path d=\"M 358,160 360,160 360,161 360,164 360,165 358,165 356,165 355,165 355,163 355,162 355,160 356,160 z\" fill=\"#010000\" fill-opacity=\"1.0\" id=\"x010000_r1_g0_b0_shape9\"/><path d=\"M 370,170 365,170 365,165 370,165 z\" fill=\"#010000\" fill-opacity=\"1.0\" id=\"x010000_r1_g0_b0_shape10\"/><path d=\"M 375,185 375,180 380,180 380,185 z\" fill=\"#010000\" fill-opacity=\"1.0\" id=\"x010000_r1_g0_b0_shape11\"/><path d=\"M 110,191 110,190 112,190 115,190 115,195 114,195 111,195 110,195 110,193 z\" fill=\"#010000\" fill-opacity=\"1.0\" id=\"x010000_r1_g0_b0_shape12\"/><path d=\"M 408,295 410,295 410,296 410,299 410,300 408,300 406,300 405,300 405,298 405,297 405,295 406,295 z\" fill=\"#010000\" fill-opacity=\"1.0\" id=\"x010000_r1_g0_b0_shape13\"/><path d=\"M 113,310 115,310 115,311 115,314 115,315 113,315 111,315 110,315 110,313 110,312 110,310 111,310 z\" fill=\"#010000\" fill-opacity=\"1.0\" id=\"x010000_r1_g0_b0_shape14\"/><path d=\"M 390,315 390,310 395,310 395,315 z\" fill=\"#010000\" fill-opacity=\"1.0\" id=\"x010000_r1_g0_b0_shape15\"/><path d=\"M 380,335 375,335 375,330 380,330 z\" fill=\"#010000\" fill-opacity=\"1.0\" id=\"x010000_r1_g0_b0_shape16\"/><path d=\"M 370,350 370,355 365,355 365,350 z\" fill=\"#010000\" fill-opacity=\"1.0\" id=\"x010000_r1_g0_b0_shape17\"/><path d=\"M 80,285 90,285 90,290 83,290 80,290 80,289 z\" fill=\"#010103\" fill-opacity=\"1.0\" id=\"x010103_r1_g1_b3_shape1\"/><path d=\"M 279,85 280,85 280,87 280,90 275,90 275,89 275,86 275,85 277,85 z\" fill=\"#010103\" fill-opacity=\"1.0\" id=\"x010103_r1_g1_b3_shape2\"/><path d=\"M 218,90 220,90 220,91 220,94 220,95 218,95 216,95 215,95 215,93 215,92 215,90 216,90 z\" fill=\"#010103\" fill-opacity=\"1.0\" id=\"x010103_r1_g1_b3_shape3\"/><path d=\"M 135,170 140,170 140,175 135,175 z\" fill=\"#010103\" fill-opacity=\"1.0\" id=\"x010103_r1_g1_b3_shape4\"/><path d=\"M 120,190 120,185 125,185 125,190 z\" fill=\"#010103\" fill-opacity=\"1.0\" id=\"x010103_r1_g1_b3_shape5\"/><path d=\"M 120,195 115,195 115,190 120,190 z\" fill=\"#010103\" fill-opacity=\"1.0\" id=\"x010103_r1_g1_b3_shape6\"/><path d=\"M 390,195 390,200 385,200 385,195 z\" fill=\"#010103\" fill-opacity=\"1.0\" id=\"x010103_r1_g1_b3_shape7\"/><path d=\"M 100,205 100,210 95,210 95,205 z\" fill=\"#010103\" fill-opacity=\"1.0\" id=\"x010103_r1_g1_b3_shape8\"/><path d=\"M 395,205 400,205 400,210 395,210 z\" fill=\"#010103\" fill-opacity=\"1.0\" id=\"x010103_r1_g1_b3_shape9\"/><path d=\"M 87,225 85,225 85,224 85,221 85,220 87,220 89,220 90,220 90,222 90,223 90,225 89,225 z\" fill=\"#010103\" fill-opacity=\"1.0\" id=\"x010103_r1_g1_b3_shape10\"/><path d=\"M 420,280 420,275 425,275 425,280 z\" fill=\"#010103\" fill-opacity=\"1.0\" id=\"x010103_r1_g1_b3_shape11\"/><path d=\"M 420,283 420,285 419,285 416,285 415,285 415,283 415,281 415,280 417,280 418,280 420,280 420,281 z\" fill=\"#010103\" fill-opacity=\"1.0\" id=\"x010103_r1_g1_b3_shape12\"/><path d=\"M 410,290 410,295 405,295 405,290 z\" fill=\"#010103\" fill-opacity=\"1.0\" id=\"x010103_r1_g1_b3_shape13\"/><path d=\"M 100,300 105,300 105,305 100,305 z\" fill=\"#010103\" fill-opacity=\"1.0\" id=\"x010103_r1_g1_b3_shape14\"/><path d=\"M 370,335 375,335 375,340 370,340 z\" fill=\"#010103\" fill-opacity=\"1.0\" id=\"x010103_r1_g1_b3_shape15\"/><path d=\"M 205,285 205,275 200,275 200,265 205,265 205,270 210,270 210,280 215,280 215,285 z\" fill=\"#61969c\" fill-opacity=\"1.0\" id=\"x61969c_r97_g150_b156_shape1\"/><path d=\"M 200,260 195,260 195,235 200,235 z\" fill=\"#61969c\" fill-opacity=\"1.0\" id=\"x61969c_r97_g150_b156_shape2\"/><path d=\"M 260,150 260,145 270,145 270,150 z\" fill=\"#61969c\" fill-opacity=\"1.0\" id=\"x61969c_r97_g150_b156_shape3\"/><path d=\"M 290,150 290,155 285,155 285,150 z\" fill=\"#61969c\" fill-opacity=\"1.0\" id=\"x61969c_r97_g150_b156_shape4\"/><path d=\"M 215,175 215,170 220,170 220,175 z\" fill=\"#61969c\" fill-opacity=\"1.0\" id=\"x61969c_r97_g150_b156_shape5\"/><path d=\"M 340,270 335,270 335,265 340,265 z\" fill=\"#61969c\" fill-opacity=\"1.0\" id=\"x61969c_r97_g150_b156_shape6\"/><path d=\"M 310,180 300,180 300,175 305,175 305,170 310,170 z\" fill=\"#649ba2\" fill-opacity=\"1.0\" id=\"x649ba2_r100_g155_b162_shape1\"/><path d=\"M 325,230 325,225 335,225 335,235 330,235 330,230 z\" fill=\"#649ba2\" fill-opacity=\"1.0\" id=\"x649ba2_r100_g155_b162_shape2\"/><path d=\"M 330,250 320,250 320,245 325,245 325,240 330,240 z\" fill=\"#649ba2\" fill-opacity=\"1.0\" id=\"x649ba2_r100_g155_b162_shape3\"/><path d=\"M 295,169 295,170 293,170 290,170 290,165 291,165 294,165 295,165 295,167 z\" fill=\"#649ba2\" fill-opacity=\"1.0\" id=\"x649ba2_r100_g155_b162_shape4\"/><path d=\"M 299,170 300,170 300,172 300,175 295,175 295,174 295,171 295,170 297,170 z\" fill=\"#649ba2\" fill-opacity=\"1.0\" id=\"x649ba2_r100_g155_b162_shape5\"/><path d=\"M 220,185 225,185 225,190 220,190 z\" fill=\"#649ba2\" fill-opacity=\"1.0\" id=\"x649ba2_r100_g155_b162_shape6\"/><path d=\"M 320,215 320,210 325,210 325,215 z\" fill=\"#649ba2\" fill-opacity=\"1.0\" id=\"x649ba2_r100_g155_b162_shape7\"/><path d=\"M 209,225 210,225 210,227 210,230 205,230 205,229 205,226 205,225 207,225 z\" fill=\"#649ba2\" fill-opacity=\"1.0\" id=\"x649ba2_r100_g155_b162_shape8\"/><path d=\"M 365,270 360,270 360,240 365,240 z\" fill=\"#588a91\" fill-opacity=\"1.0\" id=\"x588a91_r88_g138_b145_shape1\"/><path d=\"M 180,290 175,290 175,275 180,275 z\" fill=\"#588a91\" fill-opacity=\"1.0\" id=\"x588a91_r88_g138_b145_shape2\"/><path d=\"M 185,310 185,305 189,305 195,305 195,310 193,310 z\" fill=\"#588a91\" fill-opacity=\"1.0\" id=\"x588a91_r88_g138_b145_shape3\"/><path d=\"M 245,135 245,130 250,130 250,135 z\" fill=\"#588a91\" fill-opacity=\"1.0\" id=\"x588a91_r88_g138_b145_shape4\"/><path d=\"M 350,280 345,280 345,265 350,265 z\" fill=\"#5d9298\" fill-opacity=\"1.0\" id=\"x5d9298_r93_g146_b152_shape1\"/><path d=\"M 200,180 205,180 205,190 200,190 z\" fill=\"#5d9298\" fill-opacity=\"1.0\" id=\"x5d9298_r93_g146_b152_shape2\"/><path d=\"M 200,285 195,285 195,275 200,275 z\" fill=\"#5d9298\" fill-opacity=\"1.0\" id=\"x5d9298_r93_g146_b152_shape3\"/><path d=\"M 345,285 345,290 335,290 335,285 z\" fill=\"#5d9298\" fill-opacity=\"1.0\" id=\"x5d9298_r93_g146_b152_shape4\"/><path d=\"M 205,170 210,170 210,175 205,175 z\" fill=\"#5d9298\" fill-opacity=\"1.0\" id=\"x5d9298_r93_g146_b152_shape5\"/><path d=\"M 190,270 195,270 195,275 190,275 z\" fill=\"#5d9298\" fill-opacity=\"1.0\" id=\"x5d9298_r93_g146_b152_shape6\"/><path d=\"M 205,285 205,290 200,290 200,285 z\" fill=\"#5d9298\" fill-opacity=\"1.0\" id=\"x5d9298_r93_g146_b152_shape7\"/><path d=\"M 175,225 175,235 170,235 170,225 z\" fill=\"#57888f\" fill-opacity=\"1.0\" id=\"x57888f_r87_g136_b143_shape1\"/><path d=\"M 170,290 170,280 175,280 175,290 z\" fill=\"#57888f\" fill-opacity=\"1.0\" id=\"x57888f_r87_g136_b143_shape2\"/><path d=\"M 175,295 180,295 180,305 175,305 z\" fill=\"#57888f\" fill-opacity=\"1.0\" id=\"x57888f_r87_g136_b143_shape3\"/><path d=\"M 195,315 195,320 185,320 185,315 z\" fill=\"#57888f\" fill-opacity=\"1.0\" id=\"x57888f_r87_g136_b143_shape4\"/><path d=\"M 208,155 210,155 210,156 210,159 210,160 208,160 206,160 205,160 205,158 205,157 205,155 206,155 z\" fill=\"#57888f\" fill-opacity=\"1.0\" id=\"x57888f_r87_g136_b143_shape5\"/><path d=\"M 360,300 360,305 355,305 355,300 z\" fill=\"#57888f\" fill-opacity=\"1.0\" id=\"x57888f_r87_g136_b143_shape6\"/><path d=\"M 180,310 185,310 185,315 180,315 z\" fill=\"#57888f\" fill-opacity=\"1.0\" id=\"x57888f_r87_g136_b143_shape7\"/><path d=\"M 335,225 340,225 340,250 335,250 z\" fill=\"#6299a0\" fill-opacity=\"1.0\" id=\"x6299a0_r98_g153_b160_shape1\"/><path d=\"M 240,160 235,160 235,155 240,155 z\" fill=\"#6299a0\" fill-opacity=\"1.0\" id=\"x6299a0_r98_g153_b160_shape2\"/><path d=\"M 295,160 300,160 300,165 295,165 z\" fill=\"#6299a0\" fill-opacity=\"1.0\" id=\"x6299a0_r98_g153_b160_shape3\"/><path d=\"M 300,165 305,165 305,170 300,170 z\" fill=\"#6299a0\" fill-opacity=\"1.0\" id=\"x6299a0_r98_g153_b160_shape4\"/><path d=\"M 310,180 310,175 315,175 315,180 z\" fill=\"#6299a0\" fill-opacity=\"1.0\" id=\"x6299a0_r98_g153_b160_shape5\"/><path d=\"M 320,180 320,185 315,185 315,180 z\" fill=\"#6299a0\" fill-opacity=\"1.0\" id=\"x6299a0_r98_g153_b160_shape6\"/><path d=\"M 335,215 330,215 330,210 335,210 z\" fill=\"#6299a0\" fill-opacity=\"1.0\" id=\"x6299a0_r98_g153_b160_shape7\"/><path d=\"M 315,220 320,220 320,235 315,235 z\" fill=\"#679ea5\" fill-opacity=\"1.0\" id=\"x679ea5_r103_g158_b165_shape1\"/><path d=\"M 320,240 320,250 315,250 315,240 z\" fill=\"#679ea5\" fill-opacity=\"1.0\" id=\"x679ea5_r103_g158_b165_shape2\"/><path d=\"M 290,170 290,175 285,175 285,170 z\" fill=\"#679ea5\" fill-opacity=\"1.0\" id=\"x679ea5_r103_g158_b165_shape3\"/><path d=\"M 294,175 295,175 295,177 295,180 290,180 290,179 290,176 290,175 292,175 z\" fill=\"#679ea5\" fill-opacity=\"1.0\" id=\"x679ea5_r103_g158_b165_shape4\"/><path d=\"M 229,185 230,185 230,187 230,190 225,190 225,189 225,186 225,185 227,185 z\" fill=\"#679ea5\" fill-opacity=\"1.0\" id=\"x679ea5_r103_g158_b165_shape5\"/><path d=\"M 305,190 300,190 300,185 305,185 z\" fill=\"#679ea5\" fill-opacity=\"1.0\" id=\"x679ea5_r103_g158_b165_shape6\"/><path d=\"M 316,215 315,215 315,213 315,210 320,210 320,211 320,214 320,215 318,215 z\" fill=\"#679ea5\" fill-opacity=\"1.0\" id=\"x679ea5_r103_g158_b165_shape7\"/><path d=\"M 220,216 220,215 222,215 225,215 225,220 224,220 221,220 220,220 220,218 z\" fill=\"#679ea5\" fill-opacity=\"1.0\" id=\"x679ea5_r103_g158_b165_shape8\"/><path d=\"M 305,235 310,235 310,250 305,250 z\" fill=\"#6d9fa6\" fill-opacity=\"1.0\" id=\"x6d9fa6_r109_g159_b166_shape1\"/><path d=\"M 260,175 265,175 265,180 260,180 z\" fill=\"#6d9fa6\" fill-opacity=\"1.0\" id=\"x6d9fa6_r109_g159_b166_shape2\"/><path d=\"M 260,180 260,185 255,185 255,180 z\" fill=\"#6d9fa6\" fill-opacity=\"1.0\" id=\"x6d9fa6_r109_g159_b166_shape3\"/><path d=\"M 260,187 260,185 261,185 264,185 265,185 265,187 265,189 265,190 263,190 262,190 260,190 260,189 z\" fill=\"#6d9fa6\" fill-opacity=\"1.0\" id=\"x6d9fa6_r109_g159_b166_shape4\"/><path d=\"M 275,197 275,195 276,195 279,195 280,195 280,197 280,199 280,200 278,200 277,200 275,200 275,199 z\" fill=\"#6d9fa6\" fill-opacity=\"1.0\" id=\"x6d9fa6_r109_g159_b166_shape5\"/><path d=\"M 285,200 285,195 290,195 290,200 z\" fill=\"#6d9fa6\" fill-opacity=\"1.0\" id=\"x6d9fa6_r109_g159_b166_shape6\"/><path d=\"M 220,260 220,255 225,255 225,260 z\" fill=\"#6d9fa6\" fill-opacity=\"1.0\" id=\"x6d9fa6_r109_g159_b166_shape7\"/><path d=\"M 310,258 310,260 309,260 306,260 305,260 305,258 305,256 305,255 307,255 308,255 310,255 310,256 z\" fill=\"#6d9fa6\" fill-opacity=\"1.0\" id=\"x6d9fa6_r109_g159_b166_shape8\"/><path d=\"M 303,265 305,265 305,266 305,269 305,270 303,270 301,270 300,270 300,268 300,267 300,265 301,265 z\" fill=\"#6d9fa6\" fill-opacity=\"1.0\" id=\"x6d9fa6_r109_g159_b166_shape9\"/><path d=\"M 260,180 265,180 265,175 270,175 270,180 275,180 275,185 280,185 280,190 265,190 265,185 260,185 z\" fill=\"#6ba0a6\" fill-opacity=\"1.0\" id=\"x6ba0a6_r107_g160_b166_shape1\"/><path d=\"M 305,220 310,220 310,234 310,235 305,235 305,225 z\" fill=\"#6ba0a6\" fill-opacity=\"1.0\" id=\"x6ba0a6_r107_g160_b166_shape2\"/><path d=\"M 243,210 245,210 245,211 245,214 245,215 243,215 241,215 240,215 240,213 240,212 240,210 241,210 z\" fill=\"#6ba0a6\" fill-opacity=\"1.0\" id=\"x6ba0a6_r107_g160_b166_shape3\"/><path d=\"M 355,255 360,255 360,275 355,275 z\" fill=\"#5c8e95\" fill-opacity=\"1.0\" id=\"x5c8e95_r92_g142_b149_shape1\"/><path d=\"M 225,142 225,140 226,140 229,140 230,140 230,142 230,144 230,145 228,145 227,145 225,145 225,144 z\" fill=\"#5c8e95\" fill-opacity=\"1.0\" id=\"x5c8e95_r92_g142_b149_shape2\"/><path d=\"M 350,293 350,295 349,295 346,295 345,295 345,293 345,291 345,290 347,290 348,290 350,290 350,291 z\" fill=\"#5c8e95\" fill-opacity=\"1.0\" id=\"x5c8e95_r92_g142_b149_shape3\"/><path d=\"M 195,299 195,300 193,300 190,300 190,295 191,295 194,295 195,295 195,297 z\" fill=\"#5c8e95\" fill-opacity=\"1.0\" id=\"x5c8e95_r92_g142_b149_shape4\"/><path d=\"M 200,305 195,305 195,300 200,300 z\" fill=\"#5c8e95\" fill-opacity=\"1.0\" id=\"x5c8e95_r92_g142_b149_shape5\"/><path d=\"M 200,310 200,305 205,305 205,310 z\" fill=\"#5c8e95\" fill-opacity=\"1.0\" id=\"x5c8e95_r92_g142_b149_shape6\"/><path d=\"M 335,310 335,305 340,305 340,310 z\" fill=\"#5c8e95\" fill-opacity=\"1.0\" id=\"x5c8e95_r92_g142_b149_shape7\"/><path d=\"M 335,205 340,205 340,215 335,215 z\" fill=\"#61969e\" fill-opacity=\"1.0\" id=\"x61969e_r97_g150_b158_shape1\"/><path d=\"M 240,150 235,150 235,145 240,145 z\" fill=\"#61969e\" fill-opacity=\"1.0\" id=\"x61969e_r97_g150_b158_shape2\"/><path d=\"M 235,150 235,155 230,155 230,150 z\" fill=\"#61969e\" fill-opacity=\"1.0\" id=\"x61969e_r97_g150_b158_shape3\"/><path d=\"M 240,150 245,150 245,155 240,155 z\" fill=\"#61969e\" fill-opacity=\"1.0\" id=\"x61969e_r97_g150_b158_shape4\"/><path d=\"M 227,160 225,160 225,159 225,156 225,155 227,155 229,155 230,155 230,157 230,158 230,160 229,160 z\" fill=\"#61969e\" fill-opacity=\"1.0\" id=\"x61969e_r97_g150_b158_shape5\"/><path d=\"M 215,180 210,180 210,175 215,175 z\" fill=\"#61969e\" fill-opacity=\"1.0\" id=\"x61969e_r97_g150_b158_shape6\"/><path d=\"M 200,224 200,225 198,225 195,225 195,220 196,220 199,220 200,220 200,222 z\" fill=\"#61969e\" fill-opacity=\"1.0\" id=\"x61969e_r97_g150_b158_shape7\"/><path d=\"M 340,225 345,225 345,230 340,230 z\" fill=\"#61969e\" fill-opacity=\"1.0\" id=\"x61969e_r97_g150_b158_shape8\"/><path d=\"M 340,251 340,250 342,250 345,250 345,255 344,255 341,255 340,255 340,253 z\" fill=\"#61969e\" fill-opacity=\"1.0\" id=\"x61969e_r97_g150_b158_shape9\"/><path d=\"M 205,250 205,265 200,265 200,250 z\" fill=\"#62979d\" fill-opacity=\"1.0\" id=\"x62979d_r98_g151_b157_shape1\"/><path d=\"M 335,270 335,280 330,280 330,275 325,275 325,271 325,270 z\" fill=\"#62979d\" fill-opacity=\"1.0\" id=\"x62979d_r98_g151_b157_shape2\"/><path d=\"M 260,145 260,150 255,150 255,145 z\" fill=\"#62979d\" fill-opacity=\"1.0\" id=\"x62979d_r98_g151_b157_shape3\"/><path d=\"M 280,150 285,150 285,155 280,155 z\" fill=\"#62979d\" fill-opacity=\"1.0\" id=\"x62979d_r98_g151_b157_shape4\"/><path d=\"M 205,210 205,205 210,205 210,210 z\" fill=\"#62979d\" fill-opacity=\"1.0\" id=\"x62979d_r98_g151_b157_shape5\"/><path d=\"M 210,280 210,275 215,275 215,280 z\" fill=\"#62979d\" fill-opacity=\"1.0\" id=\"x62979d_r98_g151_b157_shape6\"/><path d=\"M 350,240 355,240 355,255 350,255 z\" fill=\"#5d929a\" fill-opacity=\"1.0\" id=\"x5d929a_r93_g146_b154_shape1\"/><path d=\"M 190,245 185,245 185,235 190,235 z\" fill=\"#5d929a\" fill-opacity=\"1.0\" id=\"x5d929a_r93_g146_b154_shape2\"/><path d=\"M 185,250 190,250 190,260 185,260 z\" fill=\"#5d929a\" fill-opacity=\"1.0\" id=\"x5d929a_r93_g146_b154_shape3\"/><path d=\"M 220,150 225,150 225,155 220,155 z\" fill=\"#5d929a\" fill-opacity=\"1.0\" id=\"x5d929a_r93_g146_b154_shape4\"/><path d=\"M 219,160 220,160 220,162 220,165 215,165 215,164 215,161 215,160 217,160 z\" fill=\"#5d929a\" fill-opacity=\"1.0\" id=\"x5d929a_r93_g146_b154_shape5\"/><path d=\"M 348,220 350,220 350,221 350,224 350,225 348,225 346,225 345,225 345,223 345,222 345,220 346,220 z\" fill=\"#5d929a\" fill-opacity=\"1.0\" id=\"x5d929a_r93_g146_b154_shape6\"/><path d=\"M 310,231 310,225 315,225 315,238 315,240 310,240 z\" fill=\"#699ea4\" fill-opacity=\"1.0\" id=\"x699ea4_r105_g158_b164_shape1\"/><path d=\"M 270,170 270,175 266,175 260,175 260,170 262,170 z\" fill=\"#699ea4\" fill-opacity=\"1.0\" id=\"x699ea4_r105_g158_b164_shape2\"/><path d=\"M 220,250 215,250 215,245 215,240 220,240 220,243 z\" fill=\"#699ea4\" fill-opacity=\"1.0\" id=\"x699ea4_r105_g158_b164_shape3\"/><path d=\"M 310,245 315,245 315,255 310,255 z\" fill=\"#699ea4\" fill-opacity=\"1.0\" id=\"x699ea4_r105_g158_b164_shape4\"/><path d=\"M 290,190 290,195 285,195 285,190 z\" fill=\"#699ea4\" fill-opacity=\"1.0\" id=\"x699ea4_r105_g158_b164_shape5\"/><path d=\"M 220,230 220,240 215,240 215,230 z\" fill=\"#6a9fa7\" fill-opacity=\"1.0\" id=\"x6a9fa7_r106_g159_b167_shape1\"/><path d=\"M 275,180 270,180 270,175 275,175 z\" fill=\"#6a9fa7\" fill-opacity=\"1.0\" id=\"x6a9fa7_r106_g159_b167_shape2\"/><path d=\"M 240,185 245,185 245,190 240,190 z\" fill=\"#6a9fa7\" fill-opacity=\"1.0\" id=\"x6a9fa7_r106_g159_b167_shape3\"/><path d=\"M 290,185 295,185 295,190 290,190 z\" fill=\"#6a9fa7\" fill-opacity=\"1.0\" id=\"x6a9fa7_r106_g159_b167_shape4\"/><path d=\"M 280,190 280,195 275,195 275,190 z\" fill=\"#6a9fa7\" fill-opacity=\"1.0\" id=\"x6a9fa7_r106_g159_b167_shape5\"/><path d=\"M 295,195 300,195 300,200 295,200 z\" fill=\"#6a9fa7\" fill-opacity=\"1.0\" id=\"x6a9fa7_r106_g159_b167_shape6\"/><path d=\"M 230,200 230,205 225,205 225,200 z\" fill=\"#6a9fa7\" fill-opacity=\"1.0\" id=\"x6a9fa7_r106_g159_b167_shape7\"/><path d=\"M 300,215 295,215 295,210 300,210 z\" fill=\"#6a9fa7\" fill-opacity=\"1.0\" id=\"x6a9fa7_r106_g159_b167_shape8\"/><path d=\"M 308,215 310,215 310,216 310,219 310,220 308,220 306,220 305,220 305,218 305,217 305,215 306,215 z\" fill=\"#6a9fa7\" fill-opacity=\"1.0\" id=\"x6a9fa7_r106_g159_b167_shape9\"/><path d=\"M 190,275 195,275 195,285 190,285 z\" fill=\"#5c9197\" fill-opacity=\"1.0\" id=\"x5c9197_r92_g145_b151_shape1\"/><path d=\"M 248,75 250,75 250,76 250,79 250,80 248,80 246,80 245,80 245,78 245,77 245,75 246,75 z\" fill=\"#5c9197\" fill-opacity=\"1.0\" id=\"x5c9197_r92_g145_b151_shape2\"/><path d=\"M 330,190 330,185 335,185 335,190 z\" fill=\"#5c9197\" fill-opacity=\"1.0\" id=\"x5c9197_r92_g145_b151_shape3\"/><path d=\"M 355,255 355,260 350,260 350,255 z\" fill=\"#5c9197\" fill-opacity=\"1.0\" id=\"x5c9197_r92_g145_b151_shape4\"/><path d=\"M 350,265 355,265 355,270 350,270 z\" fill=\"#5c9197\" fill-opacity=\"1.0\" id=\"x5c9197_r92_g145_b151_shape5\"/><path d=\"M 190,275 185,275 185,270 190,270 z\" fill=\"#5c9197\" fill-opacity=\"1.0\" id=\"x5c9197_r92_g145_b151_shape6\"/><path d=\"M 346,285 345,285 345,283 345,280 350,280 350,281 350,284 350,285 348,285 z\" fill=\"#5c9197\" fill-opacity=\"1.0\" id=\"x5c9197_r92_g145_b151_shape7\"/><path d=\"M 340,290 340,295 335,295 335,290 z\" fill=\"#5c9197\" fill-opacity=\"1.0\" id=\"x5c9197_r92_g145_b151_shape8\"/><path d=\"M 255,135 255,140 245,140 245,135 z\" fill=\"#598e94\" fill-opacity=\"1.0\" id=\"x598e94_r89_g142_b148_shape1\"/><path d=\"M 240,100 240,95 245,95 245,100 z\" fill=\"#598e94\" fill-opacity=\"1.0\" id=\"x598e94_r89_g142_b148_shape2\"/><path d=\"M 235,139 235,140 233,140 230,140 230,135 231,135 234,135 235,135 235,137 z\" fill=\"#598e94\" fill-opacity=\"1.0\" id=\"x598e94_r89_g142_b148_shape3\"/><path d=\"M 325,175 330,175 330,180 325,180 z\" fill=\"#598e94\" fill-opacity=\"1.0\" id=\"x598e94_r89_g142_b148_shape4\"/><path d=\"M 185,280 185,285 180,285 180,280 z\" fill=\"#598e94\" fill-opacity=\"1.0\" id=\"x598e94_r89_g142_b148_shape5\"/><path d=\"M 185,290 185,285 190,285 190,290 z\" fill=\"#598e94\" fill-opacity=\"1.0\" id=\"x598e94_r89_g142_b148_shape6\"/><path d=\"M 355,290 350,290 350,285 355,285 z\" fill=\"#598e94\" fill-opacity=\"1.0\" id=\"x598e94_r89_g142_b148_shape7\"/><path d=\"M 190,300 195,300 195,305 190,305 z\" fill=\"#598e94\" fill-opacity=\"1.0\" id=\"x598e94_r89_g142_b148_shape8\"/><path d=\"M 185,300 190,300 190,305 180,305 180,295 185,295 z\" fill=\"#598a91\" fill-opacity=\"1.0\" id=\"x598a91_r89_g138_b145_shape1\"/><path d=\"M 350,295 355,295 355,305 350,305 z\" fill=\"#598a91\" fill-opacity=\"1.0\" id=\"x598a91_r89_g138_b145_shape2\"/><path d=\"M 254,130 255,130 255,132 255,135 250,135 250,134 250,131 250,130 252,130 z\" fill=\"#598a91\" fill-opacity=\"1.0\" id=\"x598a91_r89_g138_b145_shape3\"/><path d=\"M 355,291 355,290 357,290 360,290 360,295 359,295 356,295 355,295 355,293 z\" fill=\"#598a91\" fill-opacity=\"1.0\" id=\"x598a91_r89_g138_b145_shape4\"/><path d=\"M 350,308 350,310 349,310 346,310 345,310 345,308 345,306 345,305 347,305 348,305 350,305 350,306 z\" fill=\"#598a91\" fill-opacity=\"1.0\" id=\"x598a91_r89_g138_b145_shape5\"/><path d=\"M 200,318 200,320 199,320 196,320 195,320 195,318 195,316 195,315 197,315 198,315 200,315 200,316 z\" fill=\"#598a91\" fill-opacity=\"1.0\" id=\"x598a91_r89_g138_b145_shape6\"/><path d=\"M 190,245 190,235 195,235 195,245 z\" fill=\"#5e9399\" fill-opacity=\"1.0\" id=\"x5e9399_r94_g147_b153_shape1\"/><path d=\"M 345,265 345,255 350,255 350,265 z\" fill=\"#5e9399\" fill-opacity=\"1.0\" id=\"x5e9399_r94_g147_b153_shape2\"/><path d=\"M 345,285 340,285 340,275 345,275 z\" fill=\"#5e9399\" fill-opacity=\"1.0\" id=\"x5e9399_r94_g147_b153_shape3\"/><path d=\"M 258,140 260,140 260,141 260,144 260,145 258,145 256,145 255,145 255,143 255,142 255,140 256,140 z\" fill=\"#5e9399\" fill-opacity=\"1.0\" id=\"x5e9399_r94_g147_b153_shape4\"/><path d=\"M 195,258 195,260 194,260 191,260 190,260 190,258 190,256 190,255 192,255 193,255 195,255 195,256 z\" fill=\"#5e9399\" fill-opacity=\"1.0\" id=\"x5e9399_r94_g147_b153_shape5\"/><path d=\"M 210,290 205,290 205,285 210,285 z\" fill=\"#5e9399\" fill-opacity=\"1.0\" id=\"x5e9399_r94_g147_b153_shape6\"/><path d=\"M 275,150 275,155 260,155 260,150 z\" fill=\"#65979e\" fill-opacity=\"1.0\" id=\"x65979e_r101_g151_b158_shape1\"/><path d=\"M 210,265 205,265 205,255 210,255 z\" fill=\"#65979e\" fill-opacity=\"1.0\" id=\"x65979e_r101_g151_b158_shape2\"/><path d=\"M 320,280 315,280 315,270 320,270 z\" fill=\"#65979e\" fill-opacity=\"1.0\" id=\"x65979e_r101_g151_b158_shape3\"/><path d=\"M 254,150 255,150 255,152 255,155 250,155 250,154 250,151 250,150 252,150 z\" fill=\"#65979e\" fill-opacity=\"1.0\" id=\"x65979e_r101_g151_b158_shape4\"/><path d=\"M 325,265 330,265 330,270 325,270 z\" fill=\"#65979e\" fill-opacity=\"1.0\" id=\"x65979e_r101_g151_b158_shape5\"/><path d=\"M 200,240 205,240 205,250 200,250 z\" fill=\"#63989e\" fill-opacity=\"1.0\" id=\"x63989e_r99_g152_b158_shape1\"/><path d=\"M 335,270 330,270 330,260 335,260 z\" fill=\"#63989e\" fill-opacity=\"1.0\" id=\"x63989e_r99_g152_b158_shape2\"/><path d=\"M 275,155 275,150 280,150 280,155 z\" fill=\"#63989e\" fill-opacity=\"1.0\" id=\"x63989e_r99_g152_b158_shape3\"/><path d=\"M 290,159 290,160 288,160 285,160 285,155 286,155 289,155 290,155 290,157 z\" fill=\"#63989e\" fill-opacity=\"1.0\" id=\"x63989e_r99_g152_b158_shape4\"/><path d=\"M 225,169 225,170 223,170 220,170 220,165 221,165 224,165 225,165 225,167 z\" fill=\"#63989e\" fill-opacity=\"1.0\" id=\"x63989e_r99_g152_b158_shape5\"/><path d=\"M 321,275 320,275 320,273 320,270 325,270 325,271 325,274 325,275 323,275 z\" fill=\"#63989e\" fill-opacity=\"1.0\" id=\"x63989e_r99_g152_b158_shape6\"/><path d=\"M 215,280 220,280 220,285 215,285 z\" fill=\"#63989e\" fill-opacity=\"1.0\" id=\"x63989e_r99_g152_b158_shape7\"/><path d=\"M 330,240 325,240 325,235 335,235 335,255 330,255 z\" fill=\"#639aa1\" fill-opacity=\"1.0\" id=\"x639aa1_r99_g154_b161_shape1\"/><path d=\"M 295,165 300,165 300,170 295,170 z\" fill=\"#639aa1\" fill-opacity=\"1.0\" id=\"x639aa1_r99_g154_b161_shape2\"/><path d=\"M 220,185 220,190 215,190 215,185 z\" fill=\"#639aa1\" fill-opacity=\"1.0\" id=\"x639aa1_r99_g154_b161_shape3\"/><path d=\"M 330,210 330,215 325,215 325,210 z\" fill=\"#639aa1\" fill-opacity=\"1.0\" id=\"x639aa1_r99_g154_b161_shape4\"/><path d=\"M 205,230 200,230 200,225 205,225 z\" fill=\"#639aa1\" fill-opacity=\"1.0\" id=\"x639aa1_r99_g154_b161_shape5\"/><path d=\"M 165,235 160,235 160,225 165,225 z\" fill=\"#528187\" fill-opacity=\"1.0\" id=\"x528187_r82_g129_b135_shape1\"/><path d=\"M 155,245 160,245 160,249 160,255 155,255 155,253 z\" fill=\"#528187\" fill-opacity=\"1.0\" id=\"x528187_r82_g129_b135_shape2\"/><path d=\"M 165,305 170,305 170,315 165,315 z\" fill=\"#528187\" fill-opacity=\"1.0\" id=\"x528187_r82_g129_b135_shape3\"/><path d=\"M 185,170 190,170 190,175 185,175 z\" fill=\"#528187\" fill-opacity=\"1.0\" id=\"x528187_r82_g129_b135_shape4\"/><path d=\"M 170,215 165,215 165,210 170,210 z\" fill=\"#528187\" fill-opacity=\"1.0\" id=\"x528187_r82_g129_b135_shape5\"/><path d=\"M 175,320 170,320 170,315 175,315 z\" fill=\"#528187\" fill-opacity=\"1.0\" id=\"x528187_r82_g129_b135_shape6\"/><path d=\"M 270,255 255,255 255,240 270,240 z\" fill=\"#98acad\" fill-opacity=\"1.0\" id=\"x98acad_r152_g172_b173_shape1\"/><path d=\"M 355,240 360,240 360,255 355,255 z\" fill=\"#5a8f95\" fill-opacity=\"1.0\" id=\"x5a8f95_r90_g143_b149_shape1\"/><path d=\"M 185,280 180,280 180,265 185,265 z\" fill=\"#5a8f95\" fill-opacity=\"1.0\" id=\"x5a8f95_r90_g143_b149_shape2\"/><path d=\"M 195,295 190,295 190,285 195,285 z\" fill=\"#5a8f95\" fill-opacity=\"1.0\" id=\"x5a8f95_r90_g143_b149_shape3\"/><path d=\"M 355,283 355,285 354,285 351,285 350,285 350,283 350,281 350,280 352,280 353,280 355,280 355,281 z\" fill=\"#5a8f95\" fill-opacity=\"1.0\" id=\"x5a8f95_r90_g143_b149_shape4\"/><path d=\"M 180,265 180,255 185,255 185,265 z\" fill=\"#5b9096\" fill-opacity=\"1.0\" id=\"x5b9096_r91_g144_b150_shape1\"/><path d=\"M 185,275 190,275 190,285 185,285 z\" fill=\"#5b9096\" fill-opacity=\"1.0\" id=\"x5b9096_r91_g144_b150_shape2\"/><path d=\"M 195,285 200,285 200,295 195,295 z\" fill=\"#5b9096\" fill-opacity=\"1.0\" id=\"x5b9096_r91_g144_b150_shape3\"/><path d=\"M 352,265 350,265 350,264 350,261 350,260 352,260 354,260 355,260 355,262 355,263 355,265 354,265 z\" fill=\"#5b9096\" fill-opacity=\"1.0\" id=\"x5b9096_r91_g144_b150_shape4\"/><path d=\"M 350,277 350,275 351,275 354,275 355,275 355,277 355,279 355,280 353,280 352,280 350,280 350,279 z\" fill=\"#5b9096\" fill-opacity=\"1.0\" id=\"x5b9096_r91_g144_b150_shape5\"/><path d=\"M 345,290 345,285 350,285 350,290 z\" fill=\"#5b9096\" fill-opacity=\"1.0\" id=\"x5b9096_r91_g144_b150_shape6\"/><path d=\"M 405,64 405,65 403,65 400,65 400,60 401,60 404,60 405,60 405,62 z\" fill=\"#020202\" fill-opacity=\"1.0\" id=\"x020202_r2_g2_b2_shape1\"/><path d=\"M 415,60 415,65 410,65 410,60 z\" fill=\"#020202\" fill-opacity=\"1.0\" id=\"x020202_r2_g2_b2_shape2\"/><path d=\"M 370,70 375,70 375,75 370,75 z\" fill=\"#020202\" fill-opacity=\"1.0\" id=\"x020202_r2_g2_b2_shape3\"/><path d=\"M 370,90 365,90 365,85 370,85 z\" fill=\"#020202\" fill-opacity=\"1.0\" id=\"x020202_r2_g2_b2_shape4\"/><path d=\"M 320,105 320,110 315,110 315,105 z\" fill=\"#020202\" fill-opacity=\"1.0\" id=\"x020202_r2_g2_b2_shape5\"/><path d=\"M 333,140 335,140 335,141 335,144 335,145 333,145 331,145 330,145 330,143 330,142 330,140 331,140 z\" fill=\"#020202\" fill-opacity=\"1.0\" id=\"x020202_r2_g2_b2_shape6\"/><path d=\"M 86,175 85,175 85,173 85,170 90,170 90,171 90,174 90,175 88,175 z\" fill=\"#020202\" fill-opacity=\"1.0\" id=\"x020202_r2_g2_b2_shape7\"/><path d=\"M 380,185 385,185 385,190 380,190 z\" fill=\"#020202\" fill-opacity=\"1.0\" id=\"x020202_r2_g2_b2_shape8\"/><path d=\"M 320,280 320,275 324,275 330,275 330,280 328,280 z\" fill=\"#64969d\" fill-opacity=\"1.0\" id=\"x64969d_r100_g150_b157_shape1\"/><path d=\"M 245,100 245,95 250,95 250,100 z\" fill=\"#64969d\" fill-opacity=\"1.0\" id=\"x64969d_r100_g150_b157_shape2\"/><path d=\"M 290,155 295,155 295,160 290,160 z\" fill=\"#64969d\" fill-opacity=\"1.0\" id=\"x64969d_r100_g150_b157_shape3\"/><path d=\"M 200,240 200,235 205,235 205,240 z\" fill=\"#64969d\" fill-opacity=\"1.0\" id=\"x64969d_r100_g150_b157_shape4\"/><path d=\"M 210,265 210,270 205,270 205,265 z\" fill=\"#64969d\" fill-opacity=\"1.0\" id=\"x64969d_r100_g150_b157_shape5\"/><path d=\"M 215,270 215,275 210,275 210,270 z\" fill=\"#64969d\" fill-opacity=\"1.0\" id=\"x64969d_r100_g150_b157_shape6\"/><path d=\"M 215,285 220,285 220,290 215,290 z\" fill=\"#64969d\" fill-opacity=\"1.0\" id=\"x64969d_r100_g150_b157_shape7\"/><path d=\"M 335,265 335,250 340,250 340,265 z\" fill=\"#62979f\" fill-opacity=\"1.0\" id=\"x62979f_r98_g151_b159_shape1\"/><path d=\"M 235,151 235,150 237,150 240,150 240,155 239,155 236,155 235,155 235,153 z\" fill=\"#62979f\" fill-opacity=\"1.0\" id=\"x62979f_r98_g151_b159_shape2\"/><path d=\"M 250,150 250,155 245,155 245,150 z\" fill=\"#62979f\" fill-opacity=\"1.0\" id=\"x62979f_r98_g151_b159_shape3\"/><path d=\"M 232,160 230,160 230,159 230,156 230,155 232,155 234,155 235,155 235,157 235,158 235,160 234,160 z\" fill=\"#62979f\" fill-opacity=\"1.0\" id=\"x62979f_r98_g151_b159_shape4\"/><path d=\"M 229,160 230,160 230,162 230,165 225,165 225,164 225,161 225,160 227,160 z\" fill=\"#62979f\" fill-opacity=\"1.0\" id=\"x62979f_r98_g151_b159_shape5\"/><path d=\"M 336,220 335,220 335,218 335,215 340,215 340,216 340,219 340,220 338,220 z\" fill=\"#62979f\" fill-opacity=\"1.0\" id=\"x62979f_r98_g151_b159_shape6\"/><path d=\"M 285,160 285,165 275,165 275,155 280,155 280,158 280,160 z\" fill=\"#659aa0\" fill-opacity=\"1.0\" id=\"x659aa0_r101_g154_b160_shape1\"/><path d=\"M 210,240 215,240 215,250 210,250 z\" fill=\"#659aa0\" fill-opacity=\"1.0\" id=\"x659aa0_r101_g154_b160_shape2\"/><path d=\"M 270,155 270,160 265,160 265,155 z\" fill=\"#659aa0\" fill-opacity=\"1.0\" id=\"x659aa0_r101_g154_b160_shape3\"/><path d=\"M 215,255 215,260 210,260 210,255 z\" fill=\"#659aa0\" fill-opacity=\"1.0\" id=\"x659aa0_r101_g154_b160_shape4\"/><path d=\"M 225,280 225,285 220,285 220,280 z\" fill=\"#659aa0\" fill-opacity=\"1.0\" id=\"x659aa0_r101_g154_b160_shape5\"/><path d=\"M 205,240 210,240 210,245 210,250 205,250 205,247 z\" fill=\"#64999f\" fill-opacity=\"1.0\" id=\"x64999f_r100_g153_b159_shape1\"/><path d=\"M 210,260 215,260 215,270 210,270 z\" fill=\"#64999f\" fill-opacity=\"1.0\" id=\"x64999f_r100_g153_b159_shape2\"/><path d=\"M 285,155 285,160 280,160 280,155 z\" fill=\"#64999f\" fill-opacity=\"1.0\" id=\"x64999f_r100_g153_b159_shape3\"/><path d=\"M 225,170 230,170 230,175 225,175 z\" fill=\"#64999f\" fill-opacity=\"1.0\" id=\"x64999f_r100_g153_b159_shape4\"/><path d=\"M 330,265 325,265 325,260 330,260 z\" fill=\"#64999f\" fill-opacity=\"1.0\" id=\"x64999f_r100_g153_b159_shape5\"/><path d=\"M 218,275 220,275 220,276 220,279 220,280 218,280 216,280 215,280 215,278 215,277 215,275 216,275 z\" fill=\"#64999f\" fill-opacity=\"1.0\" id=\"x64999f_r100_g153_b159_shape6\"/><path d=\"M 185,235 185,225 190,225 190,232 190,235 189,235 z\" fill=\"#5c9199\" fill-opacity=\"1.0\" id=\"x5c9199_r92_g145_b153_shape1\"/><path d=\"M 190,260 190,270 185,270 185,260 z\" fill=\"#5c9199\" fill-opacity=\"1.0\" id=\"x5c9199_r92_g145_b153_shape2\"/><path d=\"M 210,170 210,165 215,165 215,170 z\" fill=\"#5c9199\" fill-opacity=\"1.0\" id=\"x5c9199_r92_g145_b153_shape3\"/><path d=\"M 345,215 340,215 340,210 345,210 z\" fill=\"#5c9199\" fill-opacity=\"1.0\" id=\"x5c9199_r92_g145_b153_shape4\"/><path d=\"M 345,217 345,215 346,215 349,215 350,215 350,217 350,219 350,220 348,220 347,220 345,220 345,219 z\" fill=\"#5c9199\" fill-opacity=\"1.0\" id=\"x5c9199_r92_g145_b153_shape5\"/><path d=\"M 350,237 350,235 351,235 354,235 355,235 355,237 355,239 355,240 353,240 352,240 350,240 350,239 z\" fill=\"#5c9199\" fill-opacity=\"1.0\" id=\"x5c9199_r92_g145_b153_shape6\"/><path d=\"M 275,345 275,350 261,350 240,350 240,345 263,345 z\" fill=\"#456a72\" fill-opacity=\"1.0\" id=\"x456a72_r69_g106_b114_shape1\"/><path d=\"M 165,185 160,185 160,180 165,180 z\" fill=\"#456a72\" fill-opacity=\"1.0\" id=\"x456a72_r69_g106_b114_shape2\"/><path d=\"M 330,90 335,90 335,85 340,85 340,95 330,95 z\" fill=\"#2a2a2a\" fill-opacity=\"1.0\" id=\"x2a2a2a_r42_g42_b42_shape1\"/><path d=\"M 315,105 310,105 310,95 315,95 z\" fill=\"#2a2a2a\" fill-opacity=\"1.0\" id=\"x2a2a2a_r42_g42_b42_shape2\"/><path d=\"M 324,90 325,90 325,92 325,95 320,95 320,94 320,91 320,90 322,90 z\" fill=\"#2a2a2a\" fill-opacity=\"1.0\" id=\"x2a2a2a_r42_g42_b42_shape3\"/><path d=\"M 145,152 145,150 146,150 149,150 150,150 150,152 150,154 150,155 148,155 147,155 145,155 145,154 z\" fill=\"#2a2a2a\" fill-opacity=\"1.0\" id=\"x2a2a2a_r42_g42_b42_shape4\"/><path d=\"M 135,150 145,150 145,155 135,155 z\" fill=\"#2c2c2c\" fill-opacity=\"1.0\" id=\"x2c2c2c_r44_g44_b44_shape1\"/><path d=\"M 350,88 350,90 349,90 346,90 345,90 345,88 345,86 345,85 347,85 348,85 350,85 350,86 z\" fill=\"#2c2c2c\" fill-opacity=\"1.0\" id=\"x2c2c2c_r44_g44_b44_shape2\"/><path d=\"M 320,95 315,95 315,90 320,90 z\" fill=\"#2c2c2c\" fill-opacity=\"1.0\" id=\"x2c2c2c_r44_g44_b44_shape3\"/><path d=\"M 319,100 320,100 320,102 320,105 315,105 315,104 315,101 315,100 317,100 z\" fill=\"#2c2c2c\" fill-opacity=\"1.0\" id=\"x2c2c2c_r44_g44_b44_shape4\"/><path d=\"M 110,165 110,160 115,160 115,165 z\" fill=\"#2c2c2c\" fill-opacity=\"1.0\" id=\"x2c2c2c_r44_g44_b44_shape5\"/><path d=\"M 100,165 100,170 95,170 95,165 z\" fill=\"#2c2c2c\" fill-opacity=\"1.0\" id=\"x2c2c2c_r44_g44_b44_shape6\"/><path d=\"M 175,135 170,135 170,130 175,130 z\" fill=\"#000201\" fill-opacity=\"1.0\" id=\"x000201_r0_g2_b1_shape1\"/><path d=\"M 150,159 150,160 148,160 145,160 145,155 146,155 149,155 150,155 150,157 z\" fill=\"#000201\" fill-opacity=\"1.0\" id=\"x000201_r0_g2_b1_shape2\"/><path d=\"M 345,155 350,155 350,160 345,160 z\" fill=\"#000201\" fill-opacity=\"1.0\" id=\"x000201_r0_g2_b1_shape3\"/><path d=\"M 360,172 360,170 361,170 364,170 365,170 365,172 365,174 365,175 363,175 362,175 360,175 360,174 z\" fill=\"#000201\" fill-opacity=\"1.0\" id=\"x000201_r0_g2_b1_shape4\"/><path d=\"M 425,255 425,260 420,260 420,255 z\" fill=\"#000201\" fill-opacity=\"1.0\" id=\"x000201_r0_g2_b1_shape5\"/><path d=\"M 404,300 405,300 405,302 405,305 400,305 400,304 400,301 400,300 402,300 z\" fill=\"#000201\" fill-opacity=\"1.0\" id=\"x000201_r0_g2_b1_shape6\"/><path d=\"M 400,305 400,310 395,310 395,305 z\" fill=\"#000201\" fill-opacity=\"1.0\" id=\"x000201_r0_g2_b1_shape7\"/><path d=\"M 320,265 320,270 315,270 315,260 325,260 325,262 325,265 z\" fill=\"#6799a0\" fill-opacity=\"1.0\" id=\"x6799a0_r103_g153_b160_shape1\"/><path d=\"M 265,160 255,160 255,155 265,155 z\" fill=\"#6799a0\" fill-opacity=\"1.0\" id=\"x6799a0_r103_g153_b160_shape2\"/><path d=\"M 205,235 210,235 210,240 205,240 z\" fill=\"#6799a0\" fill-opacity=\"1.0\" id=\"x6799a0_r103_g153_b160_shape3\"/><path d=\"M 211,255 210,255 210,253 210,250 215,250 215,251 215,254 215,255 213,255 z\" fill=\"#6799a0\" fill-opacity=\"1.0\" id=\"x6799a0_r103_g153_b160_shape4\"/><path d=\"M 185,255 180,255 180,247 180,240 185,240 185,249 z\" fill=\"#5d8f98\" fill-opacity=\"1.0\" id=\"x5d8f98_r93_g143_b152_shape1\"/><path d=\"M 350,225 355,225 355,235 350,235 z\" fill=\"#5d8f98\" fill-opacity=\"1.0\" id=\"x5d8f98_r93_g143_b152_shape2\"/><path d=\"M 215,165 210,165 210,160 215,160 z\" fill=\"#5d8f98\" fill-opacity=\"1.0\" id=\"x5d8f98_r93_g143_b152_shape3\"/><path d=\"M 188,215 190,215 190,216 190,219 190,220 188,220 186,220 185,220 185,218 185,217 185,215 186,215 z\" fill=\"#5d8f98\" fill-opacity=\"1.0\" id=\"x5d8f98_r93_g143_b152_shape4\"/><path d=\"M 275,170 275,165 285,165 285,170 z\" fill=\"#679ca2\" fill-opacity=\"1.0\" id=\"x679ca2_r103_g156_b162_shape1\"/><path d=\"M 230,280 220,280 220,275 230,275 z\" fill=\"#679ca2\" fill-opacity=\"1.0\" id=\"x679ca2_r103_g156_b162_shape2\"/><path d=\"M 270,165 265,165 265,160 270,160 z\" fill=\"#679ca2\" fill-opacity=\"1.0\" id=\"x679ca2_r103_g156_b162_shape3\"/><path d=\"M 250,165 250,170 245,170 245,165 z\" fill=\"#679ca2\" fill-opacity=\"1.0\" id=\"x679ca2_r103_g156_b162_shape4\"/><path d=\"M 230,180 230,175 235,175 235,180 z\" fill=\"#679ca2\" fill-opacity=\"1.0\" id=\"x679ca2_r103_g156_b162_shape5\"/><path d=\"M 270,165 270,170 265,170 260,170 260,165 263,165 z\" fill=\"#689da3\" fill-opacity=\"1.0\" id=\"x689da3_r104_g157_b163_shape1\"/><path d=\"M 220,265 215,265 215,255 220,255 z\" fill=\"#689da3\" fill-opacity=\"1.0\" id=\"x689da3_r104_g157_b163_shape2\"/><path d=\"M 255,165 255,170 250,170 250,165 z\" fill=\"#689da3\" fill-opacity=\"1.0\" id=\"x689da3_r104_g157_b163_shape3\"/><path d=\"M 278,170 280,170 280,171 280,174 280,175 278,175 276,175 275,175 275,173 275,172 275,170 276,170 z\" fill=\"#689da3\" fill-opacity=\"1.0\" id=\"x689da3_r104_g157_b163_shape4\"/><path d=\"M 316,255 315,255 315,253 315,250 320,250 320,251 320,254 320,255 318,255 z\" fill=\"#689da3\" fill-opacity=\"1.0\" id=\"x689da3_r104_g157_b163_shape5\"/><path d=\"M 325,260 320,260 320,250 330,250 330,255 329,255 325,255 z\" fill=\"#659aa2\" fill-opacity=\"1.0\" id=\"x659aa2_r101_g154_b162_shape1\"/><path d=\"M 330,225 325,225 325,215 330,215 z\" fill=\"#659aa2\" fill-opacity=\"1.0\" id=\"x659aa2_r101_g154_b162_shape2\"/><path d=\"M 305,173 305,175 304,175 301,175 300,175 300,173 300,171 300,170 302,170 303,170 305,170 305,171 z\" fill=\"#659aa2\" fill-opacity=\"1.0\" id=\"x659aa2_r101_g154_b162_shape3\"/><path d=\"M 313,185 315,185 315,186 315,189 315,190 313,190 311,190 310,190 310,188 310,187 310,185 311,185 z\" fill=\"#659aa2\" fill-opacity=\"1.0\" id=\"x659aa2_r101_g154_b162_shape4\"/><path d=\"M 250,185 245,185 245,181 245,175 250,175 250,177 z\" fill=\"#699ea6\" fill-opacity=\"1.0\" id=\"x699ea6_r105_g158_b166_shape1\"/><path d=\"M 315,215 315,225 310,225 310,219 310,215 312,215 z\" fill=\"#699ea6\" fill-opacity=\"1.0\" id=\"x699ea6_r105_g158_b166_shape2\"/><path d=\"M 277,180 275,180 275,179 275,176 275,175 277,175 279,175 280,175 280,177 280,178 280,180 279,180 z\" fill=\"#699ea6\" fill-opacity=\"1.0\" id=\"x699ea6_r105_g158_b166_shape3\"/><path d=\"M 235,185 240,185 240,190 235,190 z\" fill=\"#699ea6\" fill-opacity=\"1.0\" id=\"x699ea6_r105_g158_b166_shape4\"/><path d=\"M 310,241 310,240 312,240 315,240 315,245 314,245 311,245 310,245 310,243 z\" fill=\"#699ea6\" fill-opacity=\"1.0\" id=\"x699ea6_r105_g158_b166_shape5\"/><path d=\"M 325,235 325,245 320,245 320,240 315,240 315,235 z\" fill=\"#669da4\" fill-opacity=\"1.0\" id=\"x669da4_r102_g157_b164_shape1\"/><path d=\"M 295,180 295,175 300,175 300,180 z\" fill=\"#669da4\" fill-opacity=\"1.0\" id=\"x669da4_r102_g157_b164_shape2\"/><path d=\"M 310,185 310,190 305,190 305,185 z\" fill=\"#669da4\" fill-opacity=\"1.0\" id=\"x669da4_r102_g157_b164_shape3\"/><path d=\"M 210,230 210,225 215,225 215,230 z\" fill=\"#669da4\" fill-opacity=\"1.0\" id=\"x669da4_r102_g157_b164_shape4\"/><path d=\"M 321,230 320,230 320,228 320,225 325,225 325,226 325,229 325,230 323,230 z\" fill=\"#669da4\" fill-opacity=\"1.0\" id=\"x669da4_r102_g157_b164_shape5\"/><path d=\"M 340,191 340,190 342,190 345,190 345,195 344,195 341,195 340,195 340,193 z\" fill=\"#598b92\" fill-opacity=\"1.0\" id=\"x598b92_r89_g139_b146_shape1\"/><path d=\"M 355,215 350,215 350,210 355,210 z\" fill=\"#598b92\" fill-opacity=\"1.0\" id=\"x598b92_r89_g139_b146_shape2\"/><path d=\"M 355,230 360,230 360,235 355,235 z\" fill=\"#598b92\" fill-opacity=\"1.0\" id=\"x598b92_r89_g139_b146_shape3\"/><path d=\"M 180,270 180,275 175,275 175,270 z\" fill=\"#598b92\" fill-opacity=\"1.0\" id=\"x598b92_r89_g139_b146_shape4\"/><path d=\"M 360,272 360,270 361,270 364,270 365,270 365,272 365,274 365,275 363,275 362,275 360,275 360,274 z\" fill=\"#598b92\" fill-opacity=\"1.0\" id=\"x598b92_r89_g139_b146_shape5\"/><path d=\"M 180,290 185,290 185,295 180,295 z\" fill=\"#598b92\" fill-opacity=\"1.0\" id=\"x598b92_r89_g139_b146_shape6\"/><path d=\"M 185,296 185,295 187,295 190,295 190,300 189,300 186,300 185,300 185,298 z\" fill=\"#598b92\" fill-opacity=\"1.0\" id=\"x598b92_r89_g139_b146_shape7\"/><path d=\"M 365,255 370,255 370,270 365,270 z\" fill=\"#56888f\" fill-opacity=\"1.0\" id=\"x56888f_r86_g136_b143_shape1\"/><path d=\"M 365,235 360,235 360,225 365,225 z\" fill=\"#56888f\" fill-opacity=\"1.0\" id=\"x56888f_r86_g136_b143_shape2\"/><path d=\"M 365,290 360,290 360,285 365,285 z\" fill=\"#56888f\" fill-opacity=\"1.0\" id=\"x56888f_r86_g136_b143_shape3\"/><path d=\"M 195,325 195,320 200,320 200,325 z\" fill=\"#56888f\" fill-opacity=\"1.0\" id=\"x56888f_r86_g136_b143_shape4\"/><path d=\"M 160,265 160,250 165,250 165,256 165,265 161,265 z\" fill=\"#548389\" fill-opacity=\"1.0\" id=\"x548389_r84_g131_b137_shape1\"/><path d=\"M 165,295 170,295 170,305 165,305 z\" fill=\"#548389\" fill-opacity=\"1.0\" id=\"x548389_r84_g131_b137_shape2\"/><path d=\"M 167,235 165,235 165,234 165,231 165,230 167,230 169,230 170,230 170,232 170,233 170,235 169,235 z\" fill=\"#548389\" fill-opacity=\"1.0\" id=\"x548389_r84_g131_b137_shape3\"/><path d=\"M 160,280 160,275 165,275 165,280 z\" fill=\"#548389\" fill-opacity=\"1.0\" id=\"x548389_r84_g131_b137_shape4\"/><path d=\"M 160,280 160,290 155,290 155,280 z\" fill=\"#538085\" fill-opacity=\"1.0\" id=\"x538085_r83_g128_b133_shape1\"/><path d=\"M 165,325 165,320 175,320 175,325 z\" fill=\"#538085\" fill-opacity=\"1.0\" id=\"x538085_r83_g128_b133_shape2\"/><path d=\"M 235,85 240,85 240,90 235,90 z\" fill=\"#538085\" fill-opacity=\"1.0\" id=\"x538085_r83_g128_b133_shape3\"/><path d=\"M 370,310 365,310 365,305 370,305 z\" fill=\"#538085\" fill-opacity=\"1.0\" id=\"x538085_r83_g128_b133_shape4\"/><path d=\"M 240,100 235,100 235,95 240,95 z\" fill=\"#52838a\" fill-opacity=\"1.0\" id=\"x52838a_r82_g131_b138_shape1\"/><path d=\"M 175,195 175,190 180,190 180,195 z\" fill=\"#52838a\" fill-opacity=\"1.0\" id=\"x52838a_r82_g131_b138_shape2\"/><path d=\"M 365,225 370,225 370,230 365,230 z\" fill=\"#52838a\" fill-opacity=\"1.0\" id=\"x52838a_r82_g131_b138_shape3\"/><path d=\"M 370,250 370,245 375,245 375,250 z\" fill=\"#52838a\" fill-opacity=\"1.0\" id=\"x52838a_r82_g131_b138_shape4\"/><path d=\"M 175,310 175,315 170,315 170,310 z\" fill=\"#52838a\" fill-opacity=\"1.0\" id=\"x52838a_r82_g131_b138_shape5\"/><path d=\"M 180,320 175,320 175,315 180,315 z\" fill=\"#52838a\" fill-opacity=\"1.0\" id=\"x52838a_r82_g131_b138_shape6\"/><path d=\"M 250,104 250,105 248,105 245,105 245,100 246,100 249,100 250,100 250,102 z\" fill=\"#5a8c93\" fill-opacity=\"1.0\" id=\"x5a8c93_r90_g140_b147_shape1\"/><path d=\"M 315,160 310,160 310,155 315,155 z\" fill=\"#5a8c93\" fill-opacity=\"1.0\" id=\"x5a8c93_r90_g140_b147_shape2\"/><path d=\"M 200,175 200,170 205,170 205,175 z\" fill=\"#5a8c93\" fill-opacity=\"1.0\" id=\"x5a8c93_r90_g140_b147_shape3\"/><path d=\"M 360,228 360,230 359,230 356,230 355,230 355,228 355,226 355,225 357,225 358,225 360,225 360,226 z\" fill=\"#5a8c93\" fill-opacity=\"1.0\" id=\"x5a8c93_r90_g140_b147_shape4\"/><path d=\"M 185,290 190,290 190,295 185,295 z\" fill=\"#5a8c93\" fill-opacity=\"1.0\" id=\"x5a8c93_r90_g140_b147_shape5\"/><path d=\"M 355,295 350,295 350,290 355,290 z\" fill=\"#5a8c93\" fill-opacity=\"1.0\" id=\"x5a8c93_r90_g140_b147_shape6\"/><path d=\"M 222,145 220,145 220,144 220,141 220,140 222,140 224,140 225,140 225,142 225,143 225,145 224,145 z\" fill=\"#5a8b92\" fill-opacity=\"1.0\" id=\"x5a8b92_r90_g139_b146_shape1\"/><path d=\"M 205,165 205,170 200,170 200,165 z\" fill=\"#5a8b92\" fill-opacity=\"1.0\" id=\"x5a8b92_r90_g139_b146_shape2\"/><path d=\"M 200,180 195,180 195,175 200,175 z\" fill=\"#5a8b92\" fill-opacity=\"1.0\" id=\"x5a8b92_r90_g139_b146_shape3\"/><path d=\"M 340,305 345,305 345,310 340,310 z\" fill=\"#5a8b92\" fill-opacity=\"1.0\" id=\"x5a8b92_r90_g139_b146_shape4\"/><path d=\"M 200,310 200,315 195,315 195,310 z\" fill=\"#5a8b92\" fill-opacity=\"1.0\" id=\"x5a8b92_r90_g139_b146_shape5\"/><path d=\"M 200,316 200,315 202,315 205,315 205,320 204,320 201,320 200,320 200,318 z\" fill=\"#5a8b92\" fill-opacity=\"1.0\" id=\"x5a8b92_r90_g139_b146_shape6\"/><path d=\"M 190,215 185,215 185,205 190,205 z\" fill=\"#5a8f97\" fill-opacity=\"1.0\" id=\"x5a8f97_r90_g143_b151_shape1\"/><path d=\"M 225,150 220,150 220,145 225,145 z\" fill=\"#5a8f97\" fill-opacity=\"1.0\" id=\"x5a8f97_r90_g143_b151_shape2\"/><path d=\"M 215,150 220,150 220,155 215,155 z\" fill=\"#5a8f97\" fill-opacity=\"1.0\" id=\"x5a8f97_r90_g143_b151_shape3\"/><path d=\"M 355,220 355,225 350,225 350,220 z\" fill=\"#5a8f97\" fill-opacity=\"1.0\" id=\"x5a8f97_r90_g143_b151_shape4\"/><path d=\"M 185,230 185,235 180,235 180,230 z\" fill=\"#5a8f97\" fill-opacity=\"1.0\" id=\"x5a8f97_r90_g143_b151_shape5\"/><path d=\"M 255,155 255,150 260,150 260,155 z\" fill=\"#66989f\" fill-opacity=\"1.0\" id=\"x66989f_r102_g152_b159_shape1\"/><path d=\"M 275,160 270,160 270,155 275,155 z\" fill=\"#66989f\" fill-opacity=\"1.0\" id=\"x66989f_r102_g152_b159_shape2\"/><path d=\"M 205,255 205,250 210,250 210,255 z\" fill=\"#66989f\" fill-opacity=\"1.0\" id=\"x66989f_r102_g152_b159_shape3\"/><path d=\"M 320,267 320,265 321,265 324,265 325,265 325,267 325,269 325,270 323,270 322,270 320,270 320,269 z\" fill=\"#66989f\" fill-opacity=\"1.0\" id=\"x66989f_r102_g152_b159_shape4\"/><path d=\"M 220,270 220,275 215,275 215,270 z\" fill=\"#66989f\" fill-opacity=\"1.0\" id=\"x66989f_r102_g152_b159_shape5\"/><path d=\"M 220,285 225,285 225,290 220,290 z\" fill=\"#66989f\" fill-opacity=\"1.0\" id=\"x66989f_r102_g152_b159_shape6\"/><path d=\"M 245,160 245,155 255,155 255,160 z\" fill=\"#6499a1\" fill-opacity=\"1.0\" id=\"x6499a1_r100_g153_b161_shape1\"/><path d=\"M 340,220 340,225 336,225 330,225 330,220 332,220 z\" fill=\"#6499a1\" fill-opacity=\"1.0\" id=\"x6499a1_r100_g153_b161_shape2\"/><path d=\"M 290,162 290,160 291,160 294,160 295,160 295,162 295,164 295,165 293,165 292,165 290,165 290,164 z\" fill=\"#6499a1\" fill-opacity=\"1.0\" id=\"x6499a1_r100_g153_b161_shape3\"/><path d=\"M 330,259 330,260 328,260 325,260 325,255 326,255 329,255 330,255 330,257 z\" fill=\"#6499a1\" fill-opacity=\"1.0\" id=\"x6499a1_r100_g153_b161_shape4\"/><path d=\"M 305,158 305,160 304,160 301,160 300,160 300,158 300,156 300,155 302,155 303,155 305,155 305,156 z\" fill=\"#5f949a\" fill-opacity=\"1.0\" id=\"x5f949a_r95_g148_b154_shape1\"/><path d=\"M 190,246 190,245 192,245 195,245 195,250 194,250 191,250 190,250 190,248 z\" fill=\"#5f949a\" fill-opacity=\"1.0\" id=\"x5f949a_r95_g148_b154_shape2\"/><path d=\"M 195,275 195,270 200,270 200,275 z\" fill=\"#5f949a\" fill-opacity=\"1.0\" id=\"x5f949a_r95_g148_b154_shape3\"/><path d=\"M 340,270 345,270 345,275 340,275 z\" fill=\"#5f949a\" fill-opacity=\"1.0\" id=\"x5f949a_r95_g148_b154_shape4\"/><path d=\"M 200,281 200,280 202,280 205,280 205,285 204,285 201,285 200,285 200,283 z\" fill=\"#5f949a\" fill-opacity=\"1.0\" id=\"x5f949a_r95_g148_b154_shape5\"/><path d=\"M 340,285 335,285 335,280 340,280 z\" fill=\"#5f949a\" fill-opacity=\"1.0\" id=\"x5f949a_r95_g148_b154_shape6\"/><path d=\"M 195,225 200,225 200,235 195,235 z\" fill=\"#60979e\" fill-opacity=\"1.0\" id=\"x60979e_r96_g151_b158_shape1\"/><path d=\"M 345,240 350,240 350,250 345,250 z\" fill=\"#60979e\" fill-opacity=\"1.0\" id=\"x60979e_r96_g151_b158_shape2\"/><path d=\"M 305,165 300,165 300,160 305,160 z\" fill=\"#60979e\" fill-opacity=\"1.0\" id=\"x60979e_r96_g151_b158_shape3\"/><path d=\"M 340,232 340,230 341,230 344,230 345,230 345,232 345,234 345,235 343,235 342,235 340,235 340,234 z\" fill=\"#60979e\" fill-opacity=\"1.0\" id=\"x60979e_r96_g151_b158_shape4\"/><path d=\"M 185,220 185,230 180,230 180,223 180,220 181,220 z\" fill=\"#5c8e97\" fill-opacity=\"1.0\" id=\"x5c8e97_r92_g142_b151_shape1\"/><path d=\"M 205,165 210,165 210,170 205,170 z\" fill=\"#5c8e97\" fill-opacity=\"1.0\" id=\"x5c8e97_r92_g142_b151_shape2\"/><path d=\"M 345,203 345,205 344,205 341,205 340,205 340,203 340,201 340,200 342,200 343,200 345,200 345,201 z\" fill=\"#5c8e97\" fill-opacity=\"1.0\" id=\"x5c8e97_r92_g142_b151_shape3\"/><path d=\"M 350,210 345,210 345,205 350,205 z\" fill=\"#5c8e97\" fill-opacity=\"1.0\" id=\"x5c8e97_r92_g142_b151_shape4\"/><path d=\"M 185,235 185,240 180,240 180,235 z\" fill=\"#5c8e97\" fill-opacity=\"1.0\" id=\"x5c8e97_r92_g142_b151_shape5\"/><path d=\"M 345,250 340,250 340,242 340,235 345,235 345,244 z\" fill=\"#61989f\" fill-opacity=\"1.0\" id=\"x61989f_r97_g152_b159_shape1\"/><path d=\"M 305,170 305,165 310,165 310,170 z\" fill=\"#61989f\" fill-opacity=\"1.0\" id=\"x61989f_r97_g152_b159_shape2\"/><path d=\"M 215,180 215,185 210,185 210,180 z\" fill=\"#61989f\" fill-opacity=\"1.0\" id=\"x61989f_r97_g152_b159_shape3\"/><path d=\"M 324,185 325,185 325,187 325,190 320,190 320,189 320,186 320,185 322,185 z\" fill=\"#61989f\" fill-opacity=\"1.0\" id=\"x61989f_r97_g152_b159_shape4\"/><path d=\"M 135,275 135,265 140,265 140,275 z\" fill=\"#466f75\" fill-opacity=\"1.0\" id=\"x466f75_r70_g111_b117_shape1\"/><path d=\"M 135,280 140,280 140,290 135,290 z\" fill=\"#466f75\" fill-opacity=\"1.0\" id=\"x466f75_r70_g111_b117_shape2\"/><path d=\"M 170,170 175,170 175,175 170,175 z\" fill=\"#466f75\" fill-opacity=\"1.0\" id=\"x466f75_r70_g111_b117_shape3\"/><path d=\"M 155,200 155,195 160,195 160,200 z\" fill=\"#466f75\" fill-opacity=\"1.0\" id=\"x466f75_r70_g111_b117_shape4\"/><path d=\"M 245,170 250,170 250,175 245,175 z\" fill=\"#689da5\" fill-opacity=\"1.0\" id=\"x689da5_r104_g157_b165_shape1\"/><path d=\"M 280,175 280,170 285,170 285,175 z\" fill=\"#689da5\" fill-opacity=\"1.0\" id=\"x689da5_r104_g157_b165_shape2\"/><path d=\"M 221,215 220,215 220,213 220,210 225,210 225,211 225,214 225,215 223,215 z\" fill=\"#689da5\" fill-opacity=\"1.0\" id=\"x689da5_r104_g157_b165_shape3\"/><path d=\"M 315,215 320,215 320,220 315,220 z\" fill=\"#689da5\" fill-opacity=\"1.0\" id=\"x689da5_r104_g157_b165_shape4\"/><path d=\"M 325,225 320,225 320,220 325,220 z\" fill=\"#689da5\" fill-opacity=\"1.0\" id=\"x689da5_r104_g157_b165_shape5\"/><path d=\"M 220,225 220,230 215,230 215,225 z\" fill=\"#689da5\" fill-opacity=\"1.0\" id=\"x689da5_r104_g157_b165_shape6\"/><path d=\"M 240,180 240,175 245,175 245,185 235,185 235,180 z\" fill=\"#689ca7\" fill-opacity=\"1.0\" id=\"x689ca7_r104_g156_b167_shape1\"/><path d=\"M 235,190 230,190 230,185 235,185 z\" fill=\"#689ca7\" fill-opacity=\"1.0\" id=\"x689ca7_r104_g156_b167_shape2\"/><path d=\"M 230,195 225,195 225,190 230,190 z\" fill=\"#689ca7\" fill-opacity=\"1.0\" id=\"x689ca7_r104_g156_b167_shape3\"/><path d=\"M 301,195 300,195 300,193 300,190 305,190 305,191 305,194 305,195 303,195 z\" fill=\"#689ca7\" fill-opacity=\"1.0\" id=\"x689ca7_r104_g156_b167_shape4\"/><path d=\"M 285,180 285,185 280,185 280,175 290,175 290,180 z\" fill=\"#689fa6\" fill-opacity=\"1.0\" id=\"x689fa6_r104_g159_b166_shape1\"/><path d=\"M 295,180 295,185 290,185 290,180 z\" fill=\"#689fa6\" fill-opacity=\"1.0\" id=\"x689fa6_r104_g159_b166_shape2\"/><path d=\"M 300,188 300,190 299,190 296,190 295,190 295,188 295,186 295,185 297,185 298,185 300,185 300,186 z\" fill=\"#689fa6\" fill-opacity=\"1.0\" id=\"x689fa6_r104_g159_b166_shape3\"/><path d=\"M 314,210 315,210 315,212 315,215 310,215 310,214 310,211 310,210 312,210 z\" fill=\"#689fa6\" fill-opacity=\"1.0\" id=\"x689fa6_r104_g159_b166_shape4\"/><path d=\"M 335,295 340,295 340,305 335,305 z\" fill=\"#5d8f96\" fill-opacity=\"1.0\" id=\"x5d8f96_r93_g143_b150_shape1\"/><path d=\"M 195,190 195,185 200,185 200,190 z\" fill=\"#5d8f96\" fill-opacity=\"1.0\" id=\"x5d8f96_r93_g143_b150_shape2\"/><path d=\"M 354,270 355,270 355,272 355,275 350,275 350,274 350,271 350,270 352,270 z\" fill=\"#5d8f96\" fill-opacity=\"1.0\" id=\"x5d8f96_r93_g143_b150_shape3\"/><path d=\"M 340,290 345,290 345,295 340,295 z\" fill=\"#5d8f96\" fill-opacity=\"1.0\" id=\"x5d8f96_r93_g143_b150_shape4\"/><path d=\"M 196,300 195,300 195,298 195,295 200,295 200,296 200,299 200,300 198,300 z\" fill=\"#5d8f96\" fill-opacity=\"1.0\" id=\"x5d8f96_r93_g143_b150_shape5\"/><path d=\"M 145,270 150,270 150,285 145,285 z\" fill=\"#4c777e\" fill-opacity=\"1.0\" id=\"x4c777e_r76_g119_b126_shape1\"/><path d=\"M 358,190 360,190 360,191 360,194 360,195 358,195 356,195 355,195 355,193 355,192 355,190 356,190 z\" fill=\"#4c777e\" fill-opacity=\"1.0\" id=\"x4c777e_r76_g119_b126_shape2\"/><path d=\"M 161,205 160,205 160,203 160,200 165,200 165,201 165,204 165,205 163,205 z\" fill=\"#4c777e\" fill-opacity=\"1.0\" id=\"x4c777e_r76_g119_b126_shape3\"/><path d=\"M 385,265 385,270 380,270 380,265 z\" fill=\"#4c777e\" fill-opacity=\"1.0\" id=\"x4c777e_r76_g119_b126_shape4\"/><path d=\"M 284,345 290,345 290,350 277,350 275,350 275,345 z\" fill=\"#466b73\" fill-opacity=\"1.0\" id=\"x466b73_r70_g107_b115_shape1\"/><path d=\"M 145,212 145,210 146,210 149,210 150,210 150,212 150,214 150,215 148,215 147,215 145,215 145,214 z\" fill=\"#466b73\" fill-opacity=\"1.0\" id=\"x466b73_r70_g107_b115_shape2\"/><path d=\"M 143,225 145,225 145,226 145,229 145,230 143,230 141,230 140,230 140,228 140,227 140,225 141,225 z\" fill=\"#466b73\" fill-opacity=\"1.0\" id=\"x466b73_r70_g107_b115_shape3\"/><path d=\"M 137,245 135,245 135,244 135,241 135,240 137,240 139,240 140,240 140,242 140,243 140,245 139,245 z\" fill=\"#466b73\" fill-opacity=\"1.0\" id=\"x466b73_r70_g107_b115_shape4\"/><path d=\"M 160,255 160,270 155,270 155,255 z\" fill=\"#518086\" fill-opacity=\"1.0\" id=\"x518086_r81_g128_b134_shape1\"/><path d=\"M 165,220 165,225 160,225 160,220 z\" fill=\"#518086\" fill-opacity=\"1.0\" id=\"x518086_r81_g128_b134_shape2\"/><path d=\"M 375,235 375,240 370,240 370,235 z\" fill=\"#518086\" fill-opacity=\"1.0\" id=\"x518086_r81_g128_b134_shape3\"/><path d=\"M 157,245 155,245 155,244 155,241 155,240 157,240 159,240 160,240 160,242 160,243 160,245 159,245 z\" fill=\"#518086\" fill-opacity=\"1.0\" id=\"x518086_r81_g128_b134_shape4\"/><path d=\"M 255,240 255,230 264,230 265,230 265,235 262,235 260,235 260,240 258,240 z\" fill=\"#99acb0\" fill-opacity=\"1.0\" id=\"x99acb0_r153_g172_b176_shape1\"/><path d=\"M 270,265 270,270 260,270 260,265 z\" fill=\"#99acb0\" fill-opacity=\"1.0\" id=\"x99acb0_r153_g172_b176_shape2\"/><path d=\"M 251,255 250,255 250,253 250,250 255,250 255,251 255,254 255,255 253,255 z\" fill=\"#99acb0\" fill-opacity=\"1.0\" id=\"x99acb0_r153_g172_b176_shape3\"/><path d=\"M 365,285 360,285 360,280 360,275 365,275 365,278 z\" fill=\"#578990\" fill-opacity=\"1.0\" id=\"x578990_r87_g137_b144_shape1\"/><path d=\"M 360,240 360,235 365,235 365,240 z\" fill=\"#578990\" fill-opacity=\"1.0\" id=\"x578990_r87_g137_b144_shape2\"/><path d=\"M 370,275 365,275 365,270 370,270 z\" fill=\"#578990\" fill-opacity=\"1.0\" id=\"x578990_r87_g137_b144_shape3\"/><path d=\"M 176,295 175,295 175,293 175,290 180,290 180,291 180,294 180,295 178,295 z\" fill=\"#578990\" fill-opacity=\"1.0\" id=\"x578990_r87_g137_b144_shape4\"/><path d=\"M 182,310 180,310 180,309 180,306 180,305 182,305 184,305 185,305 185,307 185,308 185,310 184,310 z\" fill=\"#578990\" fill-opacity=\"1.0\" id=\"x578990_r87_g137_b144_shape5\"/><path d=\"M 370,255 365,255 365,245 370,245 z\" fill=\"#55878e\" fill-opacity=\"1.0\" id=\"x55878e_r85_g135_b142_shape1\"/><path d=\"M 365,280 365,275 370,275 370,280 z\" fill=\"#55878e\" fill-opacity=\"1.0\" id=\"x55878e_r85_g135_b142_shape2\"/><path d=\"M 170,292 170,290 171,290 174,290 175,290 175,292 175,294 175,295 173,295 172,295 170,295 170,294 z\" fill=\"#55878e\" fill-opacity=\"1.0\" id=\"x55878e_r85_g135_b142_shape3\"/><path d=\"M 176,310 175,310 175,308 175,305 180,305 180,306 180,309 180,310 178,310 z\" fill=\"#55878e\" fill-opacity=\"1.0\" id=\"x55878e_r85_g135_b142_shape4\"/><path d=\"M 191,325 190,325 190,323 190,320 195,320 195,321 195,324 195,325 193,325 z\" fill=\"#55878e\" fill-opacity=\"1.0\" id=\"x55878e_r85_g135_b142_shape5\"/><path d=\"M 145,286 145,295 140,295 140,270 145,270 145,271 z\" fill=\"#48737a\" fill-opacity=\"1.0\" id=\"x48737a_r72_g115_b122_shape1\"/><path d=\"M 150,305 145,305 145,300 150,300 z\" fill=\"#48737a\" fill-opacity=\"1.0\" id=\"x48737a_r72_g115_b122_shape2\"/><path d=\"M 360,80 360,75 365,75 365,80 z\" fill=\"#262626\" fill-opacity=\"1.0\" id=\"x262626_r38_g38_b38_shape1\"/><path d=\"M 374,75 375,75 375,77 375,80 370,80 370,79 370,76 370,75 372,75 z\" fill=\"#262626\" fill-opacity=\"1.0\" id=\"x262626_r38_g38_b38_shape2\"/><path d=\"M 310,90 315,90 315,95 310,95 z\" fill=\"#262626\" fill-opacity=\"1.0\" id=\"x262626_r38_g38_b38_shape3\"/><path d=\"M 120,155 125,155 125,160 120,160 z\" fill=\"#262626\" fill-opacity=\"1.0\" id=\"x262626_r38_g38_b38_shape4\"/><path d=\"M 135,160 130,160 130,155 135,155 z\" fill=\"#262626\" fill-opacity=\"1.0\" id=\"x262626_r38_g38_b38_shape5\"/><path d=\"M 230,100 235,100 235,105 230,105 z\" fill=\"#3d6064\" fill-opacity=\"1.0\" id=\"x3d6064_r61_g96_b100_shape1\"/><path d=\"M 135,215 135,210 140,210 140,215 z\" fill=\"#3d6064\" fill-opacity=\"1.0\" id=\"x3d6064_r61_g96_b100_shape2\"/><path d=\"M 130,230 130,225 135,225 135,230 z\" fill=\"#3d6064\" fill-opacity=\"1.0\" id=\"x3d6064_r61_g96_b100_shape3\"/><path d=\"M 130,244 130,245 128,245 125,245 125,240 126,240 129,240 130,240 130,242 z\" fill=\"#3d6064\" fill-opacity=\"1.0\" id=\"x3d6064_r61_g96_b100_shape4\"/><path d=\"M 120,260 125,260 125,265 120,265 z\" fill=\"#3d6064\" fill-opacity=\"1.0\" id=\"x3d6064_r61_g96_b100_shape5\"/><path d=\"M 100,270 95,270 95,266 95,260 100,260 100,262 z\" fill=\"#253a3d\" fill-opacity=\"1.0\" id=\"x253a3d_r37_g58_b61_shape1\"/><path d=\"M 312,135 310,135 310,134 310,131 310,130 312,130 314,130 315,130 315,132 315,133 315,135 314,135 z\" fill=\"#253a3d\" fill-opacity=\"1.0\" id=\"x253a3d_r37_g58_b61_shape2\"/><path d=\"M 410,240 415,240 415,245 410,245 z\" fill=\"#253a3d\" fill-opacity=\"1.0\" id=\"x253a3d_r37_g58_b61_shape3\"/><path d=\"M 100,255 105,255 105,260 100,260 z\" fill=\"#253a3d\" fill-opacity=\"1.0\" id=\"x253a3d_r37_g58_b61_shape4\"/><path d=\"M 210,150 205,150 205,145 210,145 z\" fill=\"#528286\" fill-opacity=\"1.0\" id=\"x528286_r82_g130_b134_shape1\"/><path d=\"M 205,150 205,155 200,155 200,150 z\" fill=\"#528286\" fill-opacity=\"1.0\" id=\"x528286_r82_g130_b134_shape2\"/><path d=\"M 161,305 160,305 160,303 160,300 165,300 165,301 165,304 165,305 163,305 z\" fill=\"#528286\" fill-opacity=\"1.0\" id=\"x528286_r82_g130_b134_shape3\"/><path d=\"M 365,300 370,300 370,305 365,305 z\" fill=\"#528286\" fill-opacity=\"1.0\" id=\"x528286_r82_g130_b134_shape4\"/><path d=\"M 175,325 175,320 180,320 180,325 z\" fill=\"#528286\" fill-opacity=\"1.0\" id=\"x528286_r82_g130_b134_shape5\"/><path d=\"M 245,150 240,150 240,145 245,145 z\" fill=\"#5f949c\" fill-opacity=\"1.0\" id=\"x5f949c_r95_g148_b156_shape1\"/><path d=\"M 230,150 230,155 225,155 225,150 z\" fill=\"#5f949c\" fill-opacity=\"1.0\" id=\"x5f949c_r95_g148_b156_shape2\"/><path d=\"M 215,175 210,175 210,170 215,170 z\" fill=\"#5f949c\" fill-opacity=\"1.0\" id=\"x5f949c_r95_g148_b156_shape3\"/><path d=\"M 345,230 350,230 350,235 345,235 z\" fill=\"#5f949c\" fill-opacity=\"1.0\" id=\"x5f949c_r95_g148_b156_shape4\"/><path d=\"M 340,255 345,255 345,260 340,260 z\" fill=\"#5f949c\" fill-opacity=\"1.0\" id=\"x5f949c_r95_g148_b156_shape5\"/><path d=\"M 190,165 195,165 195,170 190,170 z\" fill=\"#538288\" fill-opacity=\"1.0\" id=\"x538288_r83_g130_b136_shape1\"/><path d=\"M 360,205 360,210 355,210 355,205 z\" fill=\"#538288\" fill-opacity=\"1.0\" id=\"x538288_r83_g130_b136_shape2\"/><path d=\"M 165,270 165,275 160,275 160,270 z\" fill=\"#538288\" fill-opacity=\"1.0\" id=\"x538288_r83_g130_b136_shape3\"/><path d=\"M 161,290 160,290 160,288 160,285 165,285 165,286 165,289 165,290 163,290 z\" fill=\"#538288\" fill-opacity=\"1.0\" id=\"x538288_r83_g130_b136_shape4\"/><path d=\"M 162,300 160,300 160,299 160,296 160,295 162,295 164,295 165,295 165,297 165,298 165,300 164,300 z\" fill=\"#538288\" fill-opacity=\"1.0\" id=\"x538288_r83_g130_b136_shape5\"/><path d=\"M 310,265 310,255 315,255 315,262 315,265 314,265 z\" fill=\"#6a9ca3\" fill-opacity=\"1.0\" id=\"x6a9ca3_r106_g156_b163_shape1\"/><path d=\"M 260,165 260,170 255,170 255,165 z\" fill=\"#6a9ca3\" fill-opacity=\"1.0\" id=\"x6a9ca3_r106_g156_b163_shape2\"/><path d=\"M 270,165 275,165 275,170 270,170 z\" fill=\"#6a9ca3\" fill-opacity=\"1.0\" id=\"x6a9ca3_r106_g156_b163_shape3\"/><path d=\"M 220,270 225,270 225,275 220,275 z\" fill=\"#6a9ca3\" fill-opacity=\"1.0\" id=\"x6a9ca3_r106_g156_b163_shape4\"/><path d=\"M 330,235 320,235 320,230 330,230 z\" fill=\"#659ca3\" fill-opacity=\"1.0\" id=\"x659ca3_r101_g156_b163_shape1\"/><path d=\"M 290,165 290,170 285,170 285,165 z\" fill=\"#659ca3\" fill-opacity=\"1.0\" id=\"x659ca3_r101_g156_b163_shape2\"/><path d=\"M 291,175 290,175 290,173 290,170 295,170 295,171 295,174 295,175 293,175 z\" fill=\"#659ca3\" fill-opacity=\"1.0\" id=\"x659ca3_r101_g156_b163_shape3\"/><path d=\"M 225,180 230,180 230,185 225,185 z\" fill=\"#659ca3\" fill-opacity=\"1.0\" id=\"x659ca3_r101_g156_b163_shape4\"/><path d=\"M 320,166 320,165 322,165 325,165 325,170 324,170 321,170 320,170 320,168 z\" fill=\"#598b94\" fill-opacity=\"1.0\" id=\"x598b94_r89_g139_b148_shape1\"/><path d=\"M 337,190 335,190 335,189 335,186 335,185 337,185 339,185 340,185 340,187 340,188 340,190 339,190 z\" fill=\"#598b94\" fill-opacity=\"1.0\" id=\"x598b94_r89_g139_b148_shape2\"/><path d=\"M 343,195 345,195 345,196 345,199 345,200 343,200 341,200 340,200 340,198 340,197 340,195 341,195 z\" fill=\"#598b94\" fill-opacity=\"1.0\" id=\"x598b94_r89_g139_b148_shape3\"/><path d=\"M 175,220 180,220 180,225 175,225 z\" fill=\"#598b94\" fill-opacity=\"1.0\" id=\"x598b94_r89_g139_b148_shape4\"/><path d=\"M 180,238 180,240 179,240 176,240 175,240 175,238 175,236 175,235 177,235 178,235 180,235 180,236 z\" fill=\"#598b94\" fill-opacity=\"1.0\" id=\"x598b94_r89_g139_b148_shape5\"/><path d=\"M 330,170 330,165 335,165 335,170 z\" fill=\"#518289\" fill-opacity=\"1.0\" id=\"x518289_r81_g130_b137_shape1\"/><path d=\"M 355,195 355,200 350,200 350,195 z\" fill=\"#518289\" fill-opacity=\"1.0\" id=\"x518289_r81_g130_b137_shape2\"/><path d=\"M 370,245 370,240 375,240 375,245 z\" fill=\"#518289\" fill-opacity=\"1.0\" id=\"x518289_r81_g130_b137_shape3\"/><path d=\"M 375,253 375,255 374,255 371,255 370,255 370,253 370,251 370,250 372,250 373,250 375,250 375,251 z\" fill=\"#518289\" fill-opacity=\"1.0\" id=\"x518289_r81_g130_b137_shape4\"/><path d=\"M 375,285 375,290 370,290 370,285 z\" fill=\"#518289\" fill-opacity=\"1.0\" id=\"x518289_r81_g130_b137_shape5\"/><path d=\"M 185,315 185,310 195,310 195,315 z\" fill=\"#588990\" fill-opacity=\"1.0\" id=\"x588990_r88_g137_b144_shape1\"/><path d=\"M 331,180 330,180 330,178 330,175 335,175 335,176 335,179 335,180 333,180 z\" fill=\"#588990\" fill-opacity=\"1.0\" id=\"x588990_r88_g137_b144_shape2\"/><path d=\"M 170,280 170,275 175,275 175,280 z\" fill=\"#588990\" fill-opacity=\"1.0\" id=\"x588990_r88_g137_b144_shape3\"/><path d=\"M 355,300 355,295 360,295 360,300 z\" fill=\"#588990\" fill-opacity=\"1.0\" id=\"x588990_r88_g137_b144_shape4\"/><path d=\"M 220,230 225,230 225,240 220,240 z\" fill=\"#6ba0a8\" fill-opacity=\"1.0\" id=\"x6ba0a8_r107_g160_b168_shape1\"/><path d=\"M 277,185 275,185 275,184 275,181 275,180 277,180 279,180 280,180 280,182 280,183 280,185 279,185 z\" fill=\"#6ba0a8\" fill-opacity=\"1.0\" id=\"x6ba0a8_r107_g160_b168_shape2\"/><path d=\"M 230,220 225,220 225,215 230,215 z\" fill=\"#6ba0a8\" fill-opacity=\"1.0\" id=\"x6ba0a8_r107_g160_b168_shape3\"/><path d=\"M 300,220 300,215 305,215 305,220 z\" fill=\"#6ba0a8\" fill-opacity=\"1.0\" id=\"x6ba0a8_r107_g160_b168_shape4\"/><path d=\"M 178,185 180,185 180,186 180,189 180,190 178,190 176,190 175,190 175,188 175,187 175,185 176,185 z\" fill=\"#518088\" fill-opacity=\"1.0\" id=\"x518088_r81_g128_b136_shape1\"/><path d=\"M 360,205 355,205 355,200 360,200 z\" fill=\"#518088\" fill-opacity=\"1.0\" id=\"x518088_r81_g128_b136_shape2\"/><path d=\"M 170,205 170,210 165,210 165,205 z\" fill=\"#518088\" fill-opacity=\"1.0\" id=\"x518088_r81_g128_b136_shape3\"/><path d=\"M 165,216 165,215 167,215 170,215 170,220 169,220 166,220 165,220 165,218 z\" fill=\"#518088\" fill-opacity=\"1.0\" id=\"x518088_r81_g128_b136_shape4\"/><path d=\"M 375,260 380,260 380,265 375,265 z\" fill=\"#518088\" fill-opacity=\"1.0\" id=\"x518088_r81_g128_b136_shape5\"/><path d=\"M 245,190 245,200 240,200 240,195 235,195 235,190 z\" fill=\"#6a9ea9\" fill-opacity=\"1.0\" id=\"x6a9ea9_r106_g158_b169_shape1\"/><path d=\"M 295,195 295,200 290,200 290,195 z\" fill=\"#6a9ea9\" fill-opacity=\"1.0\" id=\"x6a9ea9_r106_g158_b169_shape2\"/><path d=\"M 235,200 235,205 230,205 230,200 z\" fill=\"#6a9ea9\" fill-opacity=\"1.0\" id=\"x6a9ea9_r106_g158_b169_shape3\"/><path d=\"M 170,255 175,255 175,262 175,270 170,270 170,262 z\" fill=\"#578992\" fill-opacity=\"1.0\" id=\"x578992_r87_g137_b146_shape1\"/><path d=\"M 350,204 350,205 348,205 345,205 345,200 346,200 349,200 350,200 350,202 z\" fill=\"#578992\" fill-opacity=\"1.0\" id=\"x578992_r87_g137_b146_shape2\"/><path d=\"M 355,220 360,220 360,225 355,225 z\" fill=\"#578992\" fill-opacity=\"1.0\" id=\"x578992_r87_g137_b146_shape3\"/><path d=\"M 155,295 160,295 160,305 155,305 z\" fill=\"#507d82\" fill-opacity=\"1.0\" id=\"x507d82_r80_g125_b130_shape1\"/><path d=\"M 162,210 160,210 160,209 160,206 160,205 162,205 164,205 165,205 165,207 165,208 165,210 164,210 z\" fill=\"#507d82\" fill-opacity=\"1.0\" id=\"x507d82_r80_g125_b130_shape2\"/><path d=\"M 155,250 155,255 150,255 150,250 z\" fill=\"#507d82\" fill-opacity=\"1.0\" id=\"x507d82_r80_g125_b130_shape3\"/><path d=\"M 165,320 160,320 160,315 165,315 z\" fill=\"#507d82\" fill-opacity=\"1.0\" id=\"x507d82_r80_g125_b130_shape4\"/><path d=\"M 175,245 170,245 170,235 175,235 z\" fill=\"#588892\" fill-opacity=\"1.0\" id=\"x588892_r88_g136_b146_shape1\"/><path d=\"M 355,205 355,210 350,210 350,205 z\" fill=\"#588892\" fill-opacity=\"1.0\" id=\"x588892_r88_g136_b146_shape2\"/><path d=\"M 175,220 175,215 180,215 180,220 z\" fill=\"#588892\" fill-opacity=\"1.0\" id=\"x588892_r88_g136_b146_shape3\"/><path d=\"M 170,255 170,250 175,250 175,255 z\" fill=\"#588892\" fill-opacity=\"1.0\" id=\"x588892_r88_g136_b146_shape4\"/><path d=\"M 135,210 135,215 130,215 130,210 z\" fill=\"#38575c\" fill-opacity=\"1.0\" id=\"x38575c_r56_g87_b92_shape1\"/><path d=\"M 115,270 115,265 120,265 120,270 z\" fill=\"#38575c\" fill-opacity=\"1.0\" id=\"x38575c_r56_g87_b92_shape2\"/><path d=\"M 115,282 115,280 116,280 119,280 120,280 120,282 120,284 120,285 118,285 117,285 115,285 115,284 z\" fill=\"#38575c\" fill-opacity=\"1.0\" id=\"x38575c_r56_g87_b92_shape3\"/><path d=\"M 180,330 180,335 175,335 175,330 z\" fill=\"#38575c\" fill-opacity=\"1.0\" id=\"x38575c_r56_g87_b92_shape4\"/><path d=\"M 335,345 335,340 340,340 340,345 z\" fill=\"#38575c\" fill-opacity=\"1.0\" id=\"x38575c_r56_g87_b92_shape5\"/><path d=\"M 125,265 125,255 130,255 130,265 z\" fill=\"#416468\" fill-opacity=\"1.0\" id=\"x416468_r65_g100_b104_shape1\"/><path d=\"M 230,350 240,350 240,355 234,355 230,355 230,353 z\" fill=\"#416468\" fill-opacity=\"1.0\" id=\"x416468_r65_g100_b104_shape2\"/><path d=\"M 135,220 140,220 140,225 135,225 z\" fill=\"#416468\" fill-opacity=\"1.0\" id=\"x416468_r65_g100_b104_shape3\"/><path d=\"M 415,231 415,230 417,230 420,230 420,235 419,235 416,235 415,235 415,233 z\" fill=\"#020204\" fill-opacity=\"1.0\" id=\"x020204_r2_g2_b4_shape1\"/><path d=\"M 385,320 385,325 380,325 380,320 z\" fill=\"#020204\" fill-opacity=\"1.0\" id=\"x020204_r2_g2_b4_shape2\"/><path d=\"M 375,330 375,325 380,325 380,330 z\" fill=\"#020204\" fill-opacity=\"1.0\" id=\"x020204_r2_g2_b4_shape3\"/><path d=\"M 135,345 130,345 130,340 135,340 z\" fill=\"#020204\" fill-opacity=\"1.0\" id=\"x020204_r2_g2_b4_shape4\"/><path d=\"M 140,350 135,350 135,345 140,345 z\" fill=\"#020204\" fill-opacity=\"1.0\" id=\"x020204_r2_g2_b4_shape5\"/><path d=\"M 275,240 280,240 280,255 275,255 z\" fill=\"#99adae\" fill-opacity=\"1.0\" id=\"x99adae_r153_g173_b174_shape1\"/><path d=\"M 274,235 275,235 275,237 275,240 270,240 270,239 270,236 270,235 272,235 z\" fill=\"#99adae\" fill-opacity=\"1.0\" id=\"x99adae_r153_g173_b174_shape2\"/><path d=\"M 270,255 270,260 265,260 265,255 z\" fill=\"#99adae\" fill-opacity=\"1.0\" id=\"x99adae_r153_g173_b174_shape3\"/><path d=\"M 275,240 275,250 270,250 270,240 z\" fill=\"#9aacae\" fill-opacity=\"1.0\" id=\"x9aacae_r154_g172_b174_shape1\"/><path d=\"M 260,265 260,255 265,255 265,265 z\" fill=\"#9aacae\" fill-opacity=\"1.0\" id=\"x9aacae_r154_g172_b174_shape2\"/><path d=\"M 259,265 260,265 260,267 260,270 255,270 255,269 255,266 255,265 257,265 z\" fill=\"#9aacae\" fill-opacity=\"1.0\" id=\"x9aacae_r154_g172_b174_shape3\"/><path d=\"M 300,260 300,240 305,240 305,260 z\" fill=\"#71a3aa\" fill-opacity=\"1.0\" id=\"x71a3aa_r113_g163_b170_shape1\"/><path d=\"M 225,261 225,260 227,260 230,260 230,265 229,265 226,265 225,265 225,263 z\" fill=\"#71a3aa\" fill-opacity=\"1.0\" id=\"x71a3aa_r113_g163_b170_shape2\"/><path d=\"M 340,270 340,260 345,260 345,266 345,270 343,270 z\" fill=\"#60959b\" fill-opacity=\"1.0\" id=\"x60959b_r96_g149_b155_shape1\"/><path d=\"M 340,270 340,280 335,280 335,270 z\" fill=\"#60959b\" fill-opacity=\"1.0\" id=\"x60959b_r96_g149_b155_shape2\"/><path d=\"M 205,275 205,280 200,280 200,275 z\" fill=\"#60959b\" fill-opacity=\"1.0\" id=\"x60959b_r96_g149_b155_shape3\"/><path d=\"M 295,295 300,295 300,290 305,290 305,300 300,300 300,305 295,305 z\" fill=\"#6c979d\" fill-opacity=\"1.0\" id=\"x6c979d_r108_g151_b157_shape1\"/><path d=\"M 305,287 305,285 306,285 309,285 310,285 310,287 310,289 310,290 308,290 307,290 305,290 305,289 z\" fill=\"#6c979d\" fill-opacity=\"1.0\" id=\"x6c979d_r108_g151_b157_shape2\"/><path d=\"M 255,355 255,350 263,350 270,350 270,355 261,355 z\" fill=\"#46676e\" fill-opacity=\"1.0\" id=\"x46676e_r70_g103_b110_shape1\"/><path d=\"M 224,340 225,340 225,342 225,345 220,345 220,344 220,341 220,340 222,340 z\" fill=\"#46676e\" fill-opacity=\"1.0\" id=\"x46676e_r70_g103_b110_shape2\"/><path d=\"M 315,345 310,345 310,340 315,340 z\" fill=\"#46676e\" fill-opacity=\"1.0\" id=\"x46676e_r70_g103_b110_shape3\"/><path d=\"M 405,60 405,55 410,55 410,60 z\" fill=\"#030303\" fill-opacity=\"1.0\" id=\"x030303_r3_g3_b3_shape1\"/><path d=\"M 405,70 400,70 400,65 405,65 z\" fill=\"#030303\" fill-opacity=\"1.0\" id=\"x030303_r3_g3_b3_shape2\"/><path d=\"M 370,82 370,80 371,80 374,80 375,80 375,82 375,84 375,85 373,85 372,85 370,85 370,84 z\" fill=\"#030303\" fill-opacity=\"1.0\" id=\"x030303_r3_g3_b3_shape3\"/><path d=\"M 425,265 425,270 420,270 420,265 z\" fill=\"#030303\" fill-opacity=\"1.0\" id=\"x030303_r3_g3_b3_shape4\"/><path d=\"M 355,85 355,90 350,90 350,85 z\" fill=\"#292929\" fill-opacity=\"1.0\" id=\"x292929_r41_g41_b41_shape1\"/><path d=\"M 340,92 340,90 341,90 344,90 345,90 345,92 345,94 345,95 343,95 342,95 340,95 340,94 z\" fill=\"#292929\" fill-opacity=\"1.0\" id=\"x292929_r41_g41_b41_shape2\"/><path d=\"M 310,100 305,100 305,95 310,95 z\" fill=\"#292929\" fill-opacity=\"1.0\" id=\"x292929_r41_g41_b41_shape3\"/><path d=\"M 335,100 330,100 330,95 335,95 z\" fill=\"#292929\" fill-opacity=\"1.0\" id=\"x292929_r41_g41_b41_shape4\"/><path d=\"M 250,90 255,90 255,95 250,95 z\" fill=\"#89acb0\" fill-opacity=\"1.0\" id=\"x89acb0_r137_g172_b176_shape1\"/><path d=\"M 270,219 270,220 268,220 265,220 265,215 266,215 269,215 270,215 270,217 z\" fill=\"#89acb0\" fill-opacity=\"1.0\" id=\"x89acb0_r137_g172_b176_shape2\"/><path d=\"M 285,234 285,235 283,235 280,235 280,230 281,230 284,230 285,230 285,232 z\" fill=\"#89acb0\" fill-opacity=\"1.0\" id=\"x89acb0_r137_g172_b176_shape3\"/><path d=\"M 270,276 270,275 272,275 275,275 275,280 274,280 271,280 270,280 270,278 z\" fill=\"#89acb0\" fill-opacity=\"1.0\" id=\"x89acb0_r137_g172_b176_shape4\"/><path d=\"M 254,95 255,95 255,97 255,100 250,100 250,99 250,96 250,95 252,95 z\" fill=\"#699ba2\" fill-opacity=\"1.0\" id=\"x699ba2_r105_g155_b162_shape1\"/><path d=\"M 260,165 255,165 255,160 260,160 z\" fill=\"#699ba2\" fill-opacity=\"1.0\" id=\"x699ba2_r105_g155_b162_shape2\"/><path d=\"M 215,270 215,265 220,265 220,270 z\" fill=\"#699ba2\" fill-opacity=\"1.0\" id=\"x699ba2_r105_g155_b162_shape3\"/><path d=\"M 225,280 230,280 230,285 225,285 z\" fill=\"#699ba2\" fill-opacity=\"1.0\" id=\"x699ba2_r105_g155_b162_shape4\"/><path d=\"M 305,125 310,125 310,130 305,130 z\" fill=\"#263b3e\" fill-opacity=\"1.0\" id=\"x263b3e_r38_g59_b62_shape1\"/><path d=\"M 400,228 400,230 399,230 396,230 395,230 395,228 395,226 395,225 397,225 398,225 400,225 400,226 z\" fill=\"#263b3e\" fill-opacity=\"1.0\" id=\"x263b3e_r38_g59_b62_shape2\"/><path d=\"M 105,255 105,250 110,250 110,255 z\" fill=\"#263b3e\" fill-opacity=\"1.0\" id=\"x263b3e_r38_g59_b62_shape3\"/><path d=\"M 100,260 105,260 105,265 100,265 z\" fill=\"#263b3e\" fill-opacity=\"1.0\" id=\"x263b3e_r38_g59_b62_shape4\"/><path d=\"M 235,135 230,135 230,130 235,130 z\" fill=\"#58898e\" fill-opacity=\"1.0\" id=\"x58898e_r88_g137_b142_shape1\"/><path d=\"M 242,135 240,135 240,134 240,131 240,130 242,130 244,130 245,130 245,132 245,133 245,135 244,135 z\" fill=\"#58898e\" fill-opacity=\"1.0\" id=\"x58898e_r88_g137_b142_shape2\"/><path d=\"M 345,315 345,310 350,310 350,315 z\" fill=\"#58898e\" fill-opacity=\"1.0\" id=\"x58898e_r88_g137_b142_shape3\"/><path d=\"M 340,320 340,315 345,315 345,320 z\" fill=\"#58898e\" fill-opacity=\"1.0\" id=\"x58898e_r88_g137_b142_shape4\"/><path d=\"M 240,135 245,135 245,140 240,140 z\" fill=\"#5b8d94\" fill-opacity=\"1.0\" id=\"x5b8d94_r91_g141_b148_shape1\"/><path d=\"M 360,239 360,240 358,240 355,240 355,235 356,235 359,235 360,235 360,237 z\" fill=\"#5b8d94\" fill-opacity=\"1.0\" id=\"x5b8d94_r91_g141_b148_shape2\"/><path d=\"M 355,280 355,275 360,275 360,280 z\" fill=\"#5b8d94\" fill-opacity=\"1.0\" id=\"x5b8d94_r91_g141_b148_shape3\"/><path d=\"M 195,306 195,305 197,305 200,305 200,310 199,310 196,310 195,310 195,308 z\" fill=\"#5b8d94\" fill-opacity=\"1.0\" id=\"x5b8d94_r91_g141_b148_shape4\"/><path d=\"M 235,150 230,150 230,145 235,145 z\" fill=\"#5e939b\" fill-opacity=\"1.0\" id=\"x5e939b_r94_g147_b155_shape1\"/><path d=\"M 222,160 220,160 220,159 220,156 220,155 222,155 224,155 225,155 225,157 225,158 225,160 224,160 z\" fill=\"#5e939b\" fill-opacity=\"1.0\" id=\"x5e939b_r94_g147_b155_shape2\"/><path d=\"M 345,219 345,220 343,220 340,220 340,215 341,215 344,215 345,215 345,217 z\" fill=\"#5e939b\" fill-opacity=\"1.0\" id=\"x5e939b_r94_g147_b155_shape3\"/><path d=\"M 350,225 350,230 345,230 345,225 z\" fill=\"#5e939b\" fill-opacity=\"1.0\" id=\"x5e939b_r94_g147_b155_shape4\"/><path d=\"M 255,145 255,150 250,150 245,150 245,145 248,145 z\" fill=\"#63959c\" fill-opacity=\"1.0\" id=\"x63959c_r99_g149_b156_shape1\"/><path d=\"M 330,281 330,280 332,280 335,280 335,285 334,285 331,285 330,285 330,283 z\" fill=\"#63959c\" fill-opacity=\"1.0\" id=\"x63959c_r99_g149_b156_shape2\"/><path d=\"M 210,290 210,285 215,285 215,290 z\" fill=\"#63959c\" fill-opacity=\"1.0\" id=\"x63959c_r99_g149_b156_shape3\"/><path d=\"M 210,150 210,155 205,155 205,150 z\" fill=\"#57868c\" fill-opacity=\"1.0\" id=\"x57868c_r87_g134_b140_shape1\"/><path d=\"M 190,180 190,185 185,185 185,180 z\" fill=\"#57868c\" fill-opacity=\"1.0\" id=\"x57868c_r87_g134_b140_shape2\"/><path d=\"M 165,280 170,280 170,285 165,285 z\" fill=\"#57868c\" fill-opacity=\"1.0\" id=\"x57868c_r87_g134_b140_shape3\"/><path d=\"M 362,295 360,295 360,294 360,291 360,290 362,290 364,290 365,290 365,292 365,293 365,295 364,295 z\" fill=\"#57868c\" fill-opacity=\"1.0\" id=\"x57868c_r87_g134_b140_shape4\"/><path d=\"M 212,155 210,155 210,154 210,151 210,150 212,150 214,150 215,150 215,152 215,153 215,155 214,155 z\" fill=\"#588a93\" fill-opacity=\"1.0\" id=\"x588a93_r88_g138_b147_shape1\"/><path d=\"M 327,175 325,175 325,174 325,171 325,170 327,170 329,170 330,170 330,172 330,173 330,175 329,175 z\" fill=\"#588a93\" fill-opacity=\"1.0\" id=\"x588a93_r88_g138_b147_shape2\"/><path d=\"M 185,215 180,215 180,210 185,210 z\" fill=\"#588a93\" fill-opacity=\"1.0\" id=\"x588a93_r88_g138_b147_shape3\"/><path d=\"M 175,230 175,225 180,225 180,230 z\" fill=\"#588a93\" fill-opacity=\"1.0\" id=\"x588a93_r88_g138_b147_shape4\"/><path d=\"M 203,155 205,155 205,156 205,159 205,160 203,160 201,160 200,160 200,158 200,157 200,155 201,155 z\" fill=\"#55848a\" fill-opacity=\"1.0\" id=\"x55848a_r85_g132_b138_shape1\"/><path d=\"M 168,225 170,225 170,226 170,229 170,230 168,230 166,230 165,230 165,228 165,227 165,225 166,225 z\" fill=\"#55848a\" fill-opacity=\"1.0\" id=\"x55848a_r85_g132_b138_shape2\"/><path d=\"M 164,265 165,265 165,267 165,270 160,270 160,269 160,266 160,265 162,265 z\" fill=\"#55848a\" fill-opacity=\"1.0\" id=\"x55848a_r85_g132_b138_shape3\"/><path d=\"M 170,295 165,295 165,290 170,290 z\" fill=\"#55848a\" fill-opacity=\"1.0\" id=\"x55848a_r85_g132_b138_shape4\"/><path d=\"M 180,250 175,250 175,240 180,240 z\" fill=\"#5a8c95\" fill-opacity=\"1.0\" id=\"x5a8c95_r90_g140_b149_shape1\"/><path d=\"M 210,157 210,155 211,155 214,155 215,155 215,157 215,159 215,160 213,160 212,160 210,160 210,159 z\" fill=\"#5a8c95\" fill-opacity=\"1.0\" id=\"x5a8c95_r90_g140_b149_shape2\"/><path d=\"M 320,160 320,165 315,165 315,160 z\" fill=\"#5a8c95\" fill-opacity=\"1.0\" id=\"x5a8c95_r90_g140_b149_shape3\"/><path d=\"M 245,160 240,160 240,155 245,155 z\" fill=\"#6398a0\" fill-opacity=\"1.0\" id=\"x6398a0_r99_g152_b160_shape1\"/><path d=\"M 219,175 220,175 220,177 220,180 215,180 215,179 215,176 215,175 217,175 z\" fill=\"#6398a0\" fill-opacity=\"1.0\" id=\"x6398a0_r99_g152_b160_shape2\"/><path d=\"M 335,219 335,220 333,220 330,220 330,215 331,215 334,215 335,215 335,217 z\" fill=\"#6398a0\" fill-opacity=\"1.0\" id=\"x6398a0_r99_g152_b160_shape3\"/><path d=\"M 334,255 335,255 335,257 335,260 330,260 330,259 330,256 330,255 332,255 z\" fill=\"#6398a0\" fill-opacity=\"1.0\" id=\"x6398a0_r99_g152_b160_shape4\"/><path d=\"M 221,165 220,165 220,163 220,160 225,160 225,161 225,164 225,165 223,165 z\" fill=\"#60959d\" fill-opacity=\"1.0\" id=\"x60959d_r96_g149_b157_shape1\"/><path d=\"M 215,165 220,165 220,170 215,170 z\" fill=\"#60959d\" fill-opacity=\"1.0\" id=\"x60959d_r96_g149_b157_shape2\"/><path d=\"M 343,220 345,220 345,221 345,224 345,225 343,225 341,225 340,225 340,223 340,222 340,220 341,220 z\" fill=\"#60959d\" fill-opacity=\"1.0\" id=\"x60959d_r96_g149_b157_shape3\"/><path d=\"M 345,252 345,250 346,250 349,250 350,250 350,252 350,254 350,255 348,255 347,255 345,255 345,254 z\" fill=\"#60959d\" fill-opacity=\"1.0\" id=\"x60959d_r96_g149_b157_shape4\"/><path d=\"M 235,170 230,170 230,160 240,160 240,165 239,165 235,165 z\" fill=\"#639a9f\" fill-opacity=\"1.0\" id=\"x639a9f_r99_g154_b159_shape1\"/><path d=\"M 225,170 225,175 220,175 220,170 z\" fill=\"#639a9f\" fill-opacity=\"1.0\" id=\"x639a9f_r99_g154_b159_shape2\"/><path d=\"M 255,165 245,165 245,160 251,160 255,160 255,162 z\" fill=\"#669ba1\" fill-opacity=\"1.0\" id=\"x669ba1_r102_g155_b161_shape1\"/><path d=\"M 264,160 265,160 265,162 265,165 260,165 260,164 260,161 260,160 262,160 z\" fill=\"#669ba1\" fill-opacity=\"1.0\" id=\"x669ba1_r102_g155_b161_shape2\"/><path d=\"M 310,185 305,185 305,180 310,180 z\" fill=\"#669ba1\" fill-opacity=\"1.0\" id=\"x669ba1_r102_g155_b161_shape3\"/><path d=\"M 290,163 290,165 289,165 286,165 285,165 285,163 285,161 285,160 287,160 288,160 290,160 290,161 z\" fill=\"#649ba0\" fill-opacity=\"1.0\" id=\"x649ba0_r100_g155_b160_shape1\"/><path d=\"M 225,180 225,175 230,175 230,180 z\" fill=\"#649ba0\" fill-opacity=\"1.0\" id=\"x649ba0_r100_g155_b160_shape2\"/><path d=\"M 314,180 315,180 315,182 315,185 310,185 310,184 310,181 310,180 312,180 z\" fill=\"#649ba0\" fill-opacity=\"1.0\" id=\"x649ba0_r100_g155_b160_shape3\"/><path d=\"M 330,200 330,205 325,205 325,200 z\" fill=\"#649ba0\" fill-opacity=\"1.0\" id=\"x649ba0_r100_g155_b160_shape4\"/><path d=\"M 195,165 200,165 200,170 195,170 z\" fill=\"#58878d\" fill-opacity=\"1.0\" id=\"x58878d_r88_g135_b141_shape1\"/><path d=\"M 360,295 365,295 365,300 360,300 z\" fill=\"#58878d\" fill-opacity=\"1.0\" id=\"x58878d_r88_g135_b141_shape2\"/><path d=\"M 345,320 345,315 350,315 350,320 z\" fill=\"#58878d\" fill-opacity=\"1.0\" id=\"x58878d_r88_g135_b141_shape3\"/><path d=\"M 195,330 195,325 200,325 200,330 z\" fill=\"#58878d\" fill-opacity=\"1.0\" id=\"x58878d_r88_g135_b141_shape4\"/><path d=\"M 205,210 215,210 215,215 205,215 z\" fill=\"#6599a4\" fill-opacity=\"1.0\" id=\"x6599a4_r101_g153_b164_shape1\"/><path d=\"M 240,170 235,170 235,165 240,165 z\" fill=\"#6599a4\" fill-opacity=\"1.0\" id=\"x6599a4_r101_g153_b164_shape2\"/><path d=\"M 315,190 315,185 320,185 320,190 z\" fill=\"#6599a4\" fill-opacity=\"1.0\" id=\"x6599a4_r101_g153_b164_shape3\"/><path d=\"M 240,170 245,170 245,175 240,175 z\" fill=\"#669ba3\" fill-opacity=\"1.0\" id=\"x669ba3_r102_g155_b163_shape1\"/><path d=\"M 320,220 320,215 325,215 325,220 z\" fill=\"#669ba3\" fill-opacity=\"1.0\" id=\"x669ba3_r102_g155_b163_shape2\"/><path d=\"M 210,232 210,230 211,230 214,230 215,230 215,232 215,234 215,235 213,235 212,235 210,235 210,234 z\" fill=\"#669ba3\" fill-opacity=\"1.0\" id=\"x669ba3_r102_g155_b163_shape3\"/><path d=\"M 320,260 315,260 315,255 320,255 z\" fill=\"#669ba3\" fill-opacity=\"1.0\" id=\"x669ba3_r102_g155_b163_shape4\"/><path d=\"M 115,180 110,180 110,175 115,175 z\" fill=\"#010002\" fill-opacity=\"1.0\" id=\"x010002_r1_g0_b2_shape1\"/><path d=\"M 380,190 385,190 385,195 380,195 z\" fill=\"#010002\" fill-opacity=\"1.0\" id=\"x010002_r1_g0_b2_shape2\"/><path d=\"M 420,290 415,290 415,285 420,285 z\" fill=\"#010002\" fill-opacity=\"1.0\" id=\"x010002_r1_g0_b2_shape3\"/><path d=\"M 100,300 95,300 95,295 100,295 z\" fill=\"#010002\" fill-opacity=\"1.0\" id=\"x010002_r1_g0_b2_shape4\"/><path d=\"M 160,220 160,210 165,210 165,220 z\" fill=\"#4e7d83\" fill-opacity=\"1.0\" id=\"x4e7d83_r78_g125_b131_shape1\"/><path d=\"M 175,182 175,180 176,180 179,180 180,180 180,182 180,184 180,185 178,185 177,185 175,185 175,184 z\" fill=\"#4e7d83\" fill-opacity=\"1.0\" id=\"x4e7d83_r78_g125_b131_shape2\"/><path d=\"M 160,312 160,310 161,310 164,310 165,310 165,312 165,314 165,315 163,315 162,315 160,315 160,314 z\" fill=\"#4e7d83\" fill-opacity=\"1.0\" id=\"x4e7d83_r78_g125_b131_shape3\"/><path d=\"M 300,190 300,195 295,195 295,190 z\" fill=\"#699da8\" fill-opacity=\"1.0\" id=\"x699da8_r105_g157_b168_shape1\"/><path d=\"M 231,200 230,200 230,198 230,195 235,195 235,196 235,199 235,200 233,200 z\" fill=\"#699da8\" fill-opacity=\"1.0\" id=\"x699da8_r105_g157_b168_shape2\"/><path d=\"M 236,205 235,205 235,203 235,200 240,200 240,201 240,204 240,205 238,205 z\" fill=\"#699da8\" fill-opacity=\"1.0\" id=\"x699da8_r105_g157_b168_shape3\"/><path d=\"M 230,214 230,215 228,215 225,215 225,210 226,210 229,210 230,210 230,212 z\" fill=\"#699da8\" fill-opacity=\"1.0\" id=\"x699da8_r105_g157_b168_shape4\"/><path d=\"M 140,245 145,245 145,255 140,255 z\" fill=\"#4b7279\" fill-opacity=\"1.0\" id=\"x4b7279_r75_g114_b121_shape1\"/><path d=\"M 360,196 360,195 362,195 365,195 365,200 364,200 361,200 360,200 360,198 z\" fill=\"#4b7279\" fill-opacity=\"1.0\" id=\"x4b7279_r75_g114_b121_shape2\"/><path d=\"M 380,245 380,240 385,240 385,245 z\" fill=\"#4b7279\" fill-opacity=\"1.0\" id=\"x4b7279_r75_g114_b121_shape3\"/><path d=\"M 150,205 145,205 145,200 150,200 z\" fill=\"#43666c\" fill-opacity=\"1.0\" id=\"x43666c_r67_g102_b108_shape1\"/><path d=\"M 131,245 130,245 130,243 130,240 135,240 135,241 135,244 135,245 133,245 z\" fill=\"#43666c\" fill-opacity=\"1.0\" id=\"x43666c_r67_g102_b108_shape2\"/><path d=\"M 325,330 330,330 330,335 325,335 z\" fill=\"#43666c\" fill-opacity=\"1.0\" id=\"x43666c_r67_g102_b108_shape3\"/><path d=\"M 305,350 305,345 310,345 310,350 z\" fill=\"#43666c\" fill-opacity=\"1.0\" id=\"x43666c_r67_g102_b108_shape4\"/><path d=\"M 150,205 150,200 155,200 155,205 z\" fill=\"#476c74\" fill-opacity=\"1.0\" id=\"x476c74_r71_g108_b116_shape1\"/><path d=\"M 375,222 375,220 376,220 379,220 380,220 380,222 380,224 380,225 378,225 377,225 375,225 375,224 z\" fill=\"#476c74\" fill-opacity=\"1.0\" id=\"x476c74_r71_g108_b116_shape2\"/><path d=\"M 142,235 140,235 140,234 140,231 140,230 142,230 144,230 145,230 145,232 145,233 145,235 144,235 z\" fill=\"#476c74\" fill-opacity=\"1.0\" id=\"x476c74_r71_g108_b116_shape3\"/><path d=\"M 140,249 140,250 138,250 135,250 135,245 136,245 139,245 140,245 140,247 z\" fill=\"#476c74\" fill-opacity=\"1.0\" id=\"x476c74_r71_g108_b116_shape4\"/><path d=\"M 215,225 210,225 210,220 205,220 205,215 215,215 z\" fill=\"#659ba5\" fill-opacity=\"1.0\" id=\"x659ba5_r101_g155_b165_shape1\"/><path d=\"M 224,200 225,200 225,202 225,205 220,205 220,204 220,201 220,200 222,200 z\" fill=\"#659ba5\" fill-opacity=\"1.0\" id=\"x659ba5_r101_g155_b165_shape2\"/><path d=\"M 285,360 285,355 295,355 295,360 z\" fill=\"#406166\" fill-opacity=\"1.0\" id=\"x406166_r64_g97_b102_shape1\"/><path d=\"M 140,205 145,205 145,210 140,210 z\" fill=\"#406166\" fill-opacity=\"1.0\" id=\"x406166_r64_g97_b102_shape2\"/><path d=\"M 130,254 130,255 128,255 125,255 125,250 126,250 129,250 130,250 130,252 z\" fill=\"#406166\" fill-opacity=\"1.0\" id=\"x406166_r64_g97_b102_shape3\"/><path d=\"M 300,225 305,225 305,232 305,240 300,240 300,232 z\" fill=\"#70a2a9\" fill-opacity=\"1.0\" id=\"x70a2a9_r112_g162_b169_shape1\"/><path d=\"M 285,210 290,210 290,215 285,215 z\" fill=\"#70a2a9\" fill-opacity=\"1.0\" id=\"x70a2a9_r112_g162_b169_shape2\"/><path d=\"M 225,250 220,250 220,240 225,240 z\" fill=\"#6ca1a7\" fill-opacity=\"1.0\" id=\"x6ca1a7_r108_g161_b167_shape1\"/><path d=\"M 295,215 290,215 290,210 295,210 z\" fill=\"#6ca1a7\" fill-opacity=\"1.0\" id=\"x6ca1a7_r108_g161_b167_shape2\"/><path d=\"M 295,215 300,215 300,220 295,220 z\" fill=\"#6ca1a7\" fill-opacity=\"1.0\" id=\"x6ca1a7_r108_g161_b167_shape3\"/><path d=\"M 380,265 380,255 385,255 385,265 z\" fill=\"#4d757d\" fill-opacity=\"1.0\" id=\"x4d757d_r77_g117_b125_shape1\"/><path d=\"M 365,215 365,210 370,210 370,215 z\" fill=\"#4d757d\" fill-opacity=\"1.0\" id=\"x4d757d_r77_g117_b125_shape2\"/><path d=\"M 150,243 150,245 149,245 146,245 145,245 145,243 145,241 145,240 147,240 148,240 150,240 150,241 z\" fill=\"#4d757d\" fill-opacity=\"1.0\" id=\"x4d757d_r77_g117_b125_shape3\"/><path d=\"M 145,255 145,265 140,265 140,255 z\" fill=\"#4a727a\" fill-opacity=\"1.0\" id=\"x4a727a_r74_g114_b122_shape1\"/><path d=\"M 153,215 155,215 155,216 155,219 155,220 153,220 151,220 150,220 150,218 150,217 150,215 151,215 z\" fill=\"#4a727a\" fill-opacity=\"1.0\" id=\"x4a727a_r74_g114_b122_shape2\"/><path d=\"M 370,215 375,215 375,220 370,220 z\" fill=\"#4a727a\" fill-opacity=\"1.0\" id=\"x4a727a_r74_g114_b122_shape3\"/><path d=\"M 235,215 245,215 245,220 238,220 235,220 235,219 z\" fill=\"#74a5aa\" fill-opacity=\"1.0\" id=\"x74a5aa_r116_g165_b170_shape1\"/><path d=\"M 230,250 230,255 225,255 225,250 z\" fill=\"#74a5aa\" fill-opacity=\"1.0\" id=\"x74a5aa_r116_g165_b170_shape2\"/><path d=\"M 300,265 300,270 295,270 295,265 z\" fill=\"#74a5aa\" fill-opacity=\"1.0\" id=\"x74a5aa_r116_g165_b170_shape3\"/><path d=\"M 355,217 355,215 356,215 359,215 360,215 360,217 360,219 360,220 358,220 357,220 355,220 355,219 z\" fill=\"#56878e\" fill-opacity=\"1.0\" id=\"x56878e_r86_g135_b142_shape1\"/><path d=\"M 175,223 175,225 174,225 171,225 170,225 170,223 170,221 170,220 172,220 173,220 175,220 175,221 z\" fill=\"#56878e\" fill-opacity=\"1.0\" id=\"x56878e_r86_g135_b142_shape2\"/><path d=\"M 170,250 170,255 165,255 165,250 z\" fill=\"#56878e\" fill-opacity=\"1.0\" id=\"x56878e_r86_g135_b142_shape3\"/><path d=\"M 370,280 370,285 365,285 365,280 z\" fill=\"#56878e\" fill-opacity=\"1.0\" id=\"x56878e_r86_g135_b142_shape4\"/><path d=\"M 370,275 375,275 375,285 370,285 z\" fill=\"#508289\" fill-opacity=\"1.0\" id=\"x508289_r80_g130_b137_shape1\"/><path d=\"M 360,220 360,215 365,215 365,220 z\" fill=\"#508289\" fill-opacity=\"1.0\" id=\"x508289_r80_g130_b137_shape2\"/><path d=\"M 370,230 370,235 365,235 365,230 z\" fill=\"#508289\" fill-opacity=\"1.0\" id=\"x508289_r80_g130_b137_shape3\"/><path d=\"M 140,235 135,235 135,230 140,230 z\" fill=\"#43686e\" fill-opacity=\"1.0\" id=\"x43686e_r67_g104_b110_shape1\"/><path d=\"M 135,255 130,255 130,250 135,250 z\" fill=\"#43686e\" fill-opacity=\"1.0\" id=\"x43686e_r67_g104_b110_shape2\"/><path d=\"M 135,260 135,265 130,265 130,260 z\" fill=\"#43686e\" fill-opacity=\"1.0\" id=\"x43686e_r67_g104_b110_shape3\"/><path d=\"M 245,355 245,350 250,350 250,355 z\" fill=\"#43686e\" fill-opacity=\"1.0\" id=\"x43686e_r67_g104_b110_shape4\"/><path d=\"M 250,255 245,255 245,240 250,240 z\" fill=\"#94adb1\" fill-opacity=\"1.0\" id=\"x94adb1_r148_g173_b177_shape1\"/><path d=\"M 253,230 255,230 255,231 255,234 255,235 253,235 251,235 250,235 250,233 250,232 250,230 251,230 z\" fill=\"#94adb1\" fill-opacity=\"1.0\" id=\"x94adb1_r148_g173_b177_shape2\"/><path d=\"M 260,235 270,235 270,240 264,240 260,240 260,238 z\" fill=\"#98abaf\" fill-opacity=\"1.0\" id=\"x98abaf_r152_g171_b175_shape1\"/><path d=\"M 250,240 255,240 255,250 250,250 z\" fill=\"#98abaf\" fill-opacity=\"1.0\" id=\"x98abaf_r152_g171_b175_shape2\"/><path d=\"M 285,250 285,240 290,240 290,250 z\" fill=\"#8badaf\" fill-opacity=\"1.0\" id=\"x8badaf_r139_g173_b175_shape1\"/><path d=\"M 240,255 235,255 235,250 240,250 z\" fill=\"#8badaf\" fill-opacity=\"1.0\" id=\"x8badaf_r139_g173_b175_shape2\"/><path d=\"M 240,265 240,260 245,260 245,265 z\" fill=\"#8badaf\" fill-opacity=\"1.0\" id=\"x8badaf_r139_g173_b175_shape3\"/><path d=\"M 395,270 395,255 400,255 400,265 405,265 405,270 z\" fill=\"#304c50\" fill-opacity=\"1.0\" id=\"x304c50_r48_g76_b80_shape1\"/><path d=\"M 170,263 170,265 169,265 166,265 165,265 165,263 165,261 165,260 167,260 168,260 170,260 170,261 z\" fill=\"#55868d\" fill-opacity=\"1.0\" id=\"x55868d_r85_g134_b141_shape1\"/><path d=\"M 370,285 370,290 365,290 365,285 z\" fill=\"#55868d\" fill-opacity=\"1.0\" id=\"x55868d_r85_g134_b141_shape2\"/><path d=\"M 175,312 175,310 176,310 179,310 180,310 180,312 180,314 180,315 178,315 177,315 175,315 175,314 z\" fill=\"#55868d\" fill-opacity=\"1.0\" id=\"x55868d_r85_g134_b141_shape3\"/><path d=\"M 180,315 185,315 185,320 180,320 z\" fill=\"#55868d\" fill-opacity=\"1.0\" id=\"x55868d_r85_g134_b141_shape4\"/><path d=\"M 205,300 200,300 200,290 205,290 z\" fill=\"#5f9198\" fill-opacity=\"1.0\" id=\"x5f9198_r95_g145_b152_shape1\"/><path d=\"M 215,300 215,305 205,305 205,300 z\" fill=\"#5f9198\" fill-opacity=\"1.0\" id=\"x5f9198_r95_g145_b152_shape2\"/><path d=\"M 205,290 215,290 215,300 210,300 210,295 208,295 205,295 z\" fill=\"#609299\" fill-opacity=\"1.0\" id=\"x609299_r96_g146_b153_shape1\"/><path d=\"M 330,292 330,290 331,290 334,290 335,290 335,292 335,294 335,295 333,295 332,295 330,295 330,294 z\" fill=\"#609299\" fill-opacity=\"1.0\" id=\"x609299_r96_g146_b153_shape2\"/><path d=\"M 280,315 280,310 290,310 290,315 z\" fill=\"#73949b\" fill-opacity=\"1.0\" id=\"x73949b_r115_g148_b155_shape1\"/><path d=\"M 246,310 245,310 245,308 245,305 250,305 250,306 250,309 250,310 248,310 z\" fill=\"#73949b\" fill-opacity=\"1.0\" id=\"x73949b_r115_g148_b155_shape2\"/><path d=\"M 290,310 290,305 295,305 295,310 z\" fill=\"#73949b\" fill-opacity=\"1.0\" id=\"x73949b_r115_g148_b155_shape3\"/><path d=\"M 350,335 345,335 345,330 350,330 z\" fill=\"#3b585e\" fill-opacity=\"1.0\" id=\"x3b585e_r59_g88_b94_shape1\"/><path d=\"M 185,340 180,340 180,335 185,335 z\" fill=\"#3b585e\" fill-opacity=\"1.0\" id=\"x3b585e_r59_g88_b94_shape2\"/><path d=\"M 326,350 325,350 325,348 325,345 330,345 330,346 330,349 330,350 328,350 z\" fill=\"#3b585e\" fill-opacity=\"1.0\" id=\"x3b585e_r59_g88_b94_shape3\"/><path d=\"M 205,355 205,350 210,350 210,355 z\" fill=\"#3b585e\" fill-opacity=\"1.0\" id=\"x3b585e_r59_g88_b94_shape4\"/><path d=\"M 270,345 250,345 250,340 270,340 z\" fill=\"#4c6f75\" fill-opacity=\"1.0\" id=\"x4c6f75_r76_g111_b117_shape1\"/><path d=\"M 270,345 270,340 290,340 290,345 z\" fill=\"#4d6f78\" fill-opacity=\"1.0\" id=\"x4d6f78_r77_g111_b120_shape1\"/><path d=\"M 314,345 315,345 315,347 315,350 310,350 310,349 310,346 310,345 312,345 z\" fill=\"#3f6268\" fill-opacity=\"1.0\" id=\"x3f6268_r63_g98_b104_shape1\"/><path d=\"M 245,356 245,355 247,355 250,355 250,360 249,360 246,360 245,360 245,358 z\" fill=\"#3f6268\" fill-opacity=\"1.0\" id=\"x3f6268_r63_g98_b104_shape2\"/><path d=\"M 255,356 255,355 257,355 260,355 260,360 259,360 256,360 255,360 255,358 z\" fill=\"#3f6268\" fill-opacity=\"1.0\" id=\"x3f6268_r63_g98_b104_shape3\"/><path d=\"M 270,360 265,360 265,355 270,355 z\" fill=\"#3f6268\" fill-opacity=\"1.0\" id=\"x3f6268_r63_g98_b104_shape4\"/><path d=\"M 410,60 410,65 405,65 405,60 z\" fill=\"#040404\" fill-opacity=\"1.0\" id=\"x040404_r4_g4_b4_shape1\"/><path d=\"M 384,65 385,65 385,67 385,70 380,70 380,69 380,66 380,65 382,65 z\" fill=\"#040404\" fill-opacity=\"1.0\" id=\"x040404_r4_g4_b4_shape2\"/><path d=\"M 103,160 105,160 105,161 105,164 105,165 103,165 101,165 100,165 100,163 100,162 100,160 101,160 z\" fill=\"#040404\" fill-opacity=\"1.0\" id=\"x040404_r4_g4_b4_shape3\"/><path d=\"M 365,80 365,75 370,75 370,80 z\" fill=\"#2f2f2f\" fill-opacity=\"1.0\" id=\"x2f2f2f_r47_g47_b47_shape1\"/><path d=\"M 353,80 355,80 355,81 355,84 355,85 353,85 351,85 350,85 350,83 350,82 350,80 351,80 z\" fill=\"#2f2f2f\" fill-opacity=\"1.0\" id=\"x2f2f2f_r47_g47_b47_shape2\"/><path d=\"M 330,98 330,100 329,100 326,100 325,100 325,98 325,96 325,95 327,95 328,95 330,95 330,96 z\" fill=\"#2f2f2f\" fill-opacity=\"1.0\" id=\"x2f2f2f_r47_g47_b47_shape3\"/><path d=\"M 345,80 350,80 350,85 345,85 z\" fill=\"#303030\" fill-opacity=\"1.0\" id=\"x303030_r48_g48_b48_shape1\"/><path d=\"M 360,85 355,85 355,80 360,80 z\" fill=\"#303030\" fill-opacity=\"1.0\" id=\"x303030_r48_g48_b48_shape2\"/><path d=\"M 325,99 325,100 323,100 320,100 320,95 321,95 324,95 325,95 325,97 z\" fill=\"#303030\" fill-opacity=\"1.0\" id=\"x303030_r48_g48_b48_shape3\"/><path d=\"M 265,85 265,90 260,90 260,85 z\" fill=\"#629599\" fill-opacity=\"1.0\" id=\"x629599_r98_g149_b153_shape1\"/><path d=\"M 270,150 270,145 275,145 275,150 z\" fill=\"#629599\" fill-opacity=\"1.0\" id=\"x629599_r98_g149_b153_shape2\"/><path d=\"M 290,155 290,150 295,150 295,155 z\" fill=\"#629599\" fill-opacity=\"1.0\" id=\"x629599_r98_g149_b153_shape3\"/><path d=\"M 340,85 345,85 345,90 340,90 z\" fill=\"#2b2b2b\" fill-opacity=\"1.0\" id=\"x2b2b2b_r43_g43_b43_shape1\"/><path d=\"M 325,90 330,90 330,95 325,95 z\" fill=\"#2b2b2b\" fill-opacity=\"1.0\" id=\"x2b2b2b_r43_g43_b43_shape2\"/><path d=\"M 320,99 320,100 318,100 315,100 315,95 316,95 319,95 320,95 320,97 z\" fill=\"#2b2b2b\" fill-opacity=\"1.0\" id=\"x2b2b2b_r43_g43_b43_shape3\"/><path d=\"M 265,90 265,95 260,95 260,90 z\" fill=\"#65969b\" fill-opacity=\"1.0\" id=\"x65969b_r101_g150_b155_shape1\"/><path d=\"M 230,295 230,300 225,300 225,295 z\" fill=\"#65969b\" fill-opacity=\"1.0\" id=\"x65969b_r101_g150_b155_shape2\"/><path d=\"M 315,300 310,300 310,295 315,295 z\" fill=\"#65969b\" fill-opacity=\"1.0\" id=\"x65969b_r101_g150_b155_shape3\"/><path d=\"M 190,180 195,180 195,190 190,190 z\" fill=\"#5a8b90\" fill-opacity=\"1.0\" id=\"x5a8b90_r90_g139_b144_shape1\"/><path d=\"M 239,130 240,130 240,132 240,135 235,135 235,134 235,131 235,130 237,130 z\" fill=\"#5a8b90\" fill-opacity=\"1.0\" id=\"x5a8b90_r90_g139_b144_shape2\"/><path d=\"M 260,135 260,140 255,140 255,135 z\" fill=\"#5d9094\" fill-opacity=\"1.0\" id=\"x5d9094_r93_g144_b148_shape1\"/><path d=\"M 292,145 290,145 290,144 290,141 290,140 292,140 294,140 295,140 295,142 295,143 295,145 294,145 z\" fill=\"#5d9094\" fill-opacity=\"1.0\" id=\"x5d9094_r93_g144_b148_shape2\"/><path d=\"M 295,145 300,145 300,150 295,150 z\" fill=\"#5d9094\" fill-opacity=\"1.0\" id=\"x5d9094_r93_g144_b148_shape3\"/><path d=\"M 230,145 230,140 235,140 235,145 z\" fill=\"#5e9099\" fill-opacity=\"1.0\" id=\"x5e9099_r94_g144_b153_shape1\"/><path d=\"M 345,210 340,210 340,205 345,205 z\" fill=\"#5e9099\" fill-opacity=\"1.0\" id=\"x5e9099_r94_g144_b153_shape2\"/><path d=\"M 189,220 190,220 190,222 190,225 185,225 185,224 185,221 185,220 187,220 z\" fill=\"#5e9099\" fill-opacity=\"1.0\" id=\"x5e9099_r94_g144_b153_shape3\"/><path d=\"M 241,145 240,145 240,143 240,140 245,140 245,141 245,144 245,145 243,145 z\" fill=\"#5f919a\" fill-opacity=\"1.0\" id=\"x5f919a_r95_g145_b154_shape1\"/><path d=\"M 230,145 230,150 225,150 225,145 z\" fill=\"#5f919a\" fill-opacity=\"1.0\" id=\"x5f919a_r95_g145_b154_shape2\"/><path d=\"M 190,245 190,250 185,250 185,245 z\" fill=\"#5f919a\" fill-opacity=\"1.0\" id=\"x5f919a_r95_g145_b154_shape3\"/><path d=\"M 190,145 195,145 195,150 190,150 z\" fill=\"#456c73\" fill-opacity=\"1.0\" id=\"x456c73_r69_g108_b115_shape1\"/><path d=\"M 166,180 165,180 165,178 165,175 170,175 170,176 170,179 170,180 168,180 z\" fill=\"#456c73\" fill-opacity=\"1.0\" id=\"x456c73_r69_g108_b115_shape2\"/><path d=\"M 145,216 145,215 147,215 150,215 150,220 149,220 146,220 145,220 145,218 z\" fill=\"#456c73\" fill-opacity=\"1.0\" id=\"x456c73_r69_g108_b115_shape3\"/><path d=\"M 185,150 190,150 190,155 185,155 z\" fill=\"#466d74\" fill-opacity=\"1.0\" id=\"x466d74_r70_g109_b116_shape1\"/><path d=\"M 175,165 175,160 180,160 180,165 z\" fill=\"#466d74\" fill-opacity=\"1.0\" id=\"x466d74_r70_g109_b116_shape2\"/><path d=\"M 136,255 135,255 135,253 135,250 140,250 140,251 140,254 140,255 138,255 z\" fill=\"#466d74\" fill-opacity=\"1.0\" id=\"x466d74_r70_g109_b116_shape3\"/><path d=\"M 310,152 310,150 311,150 314,150 315,150 315,152 315,154 315,155 313,155 312,155 310,155 310,154 z\" fill=\"#568690\" fill-opacity=\"1.0\" id=\"x568690_r86_g134_b144_shape1\"/><path d=\"M 319,155 320,155 320,157 320,160 315,160 315,159 315,156 315,155 317,155 z\" fill=\"#568690\" fill-opacity=\"1.0\" id=\"x568690_r86_g134_b144_shape2\"/><path d=\"M 170,245 165,245 165,240 170,240 z\" fill=\"#568690\" fill-opacity=\"1.0\" id=\"x568690_r86_g134_b144_shape3\"/><path d=\"M 375,265 380,265 380,269 380,275 375,275 375,273 z\" fill=\"#508188\" fill-opacity=\"1.0\" id=\"x508188_r80_g129_b136_shape1\"/><path d=\"M 315,150 320,150 320,155 315,155 z\" fill=\"#508188\" fill-opacity=\"1.0\" id=\"x508188_r80_g129_b136_shape2\"/><path d=\"M 190,165 185,165 185,160 190,160 z\" fill=\"#4c7c80\" fill-opacity=\"1.0\" id=\"x4c7c80_r76_g124_b128_shape1\"/><path d=\"M 157,225 155,225 155,224 155,221 155,220 157,220 159,220 160,220 160,222 160,223 160,225 159,225 z\" fill=\"#4c7c80\" fill-opacity=\"1.0\" id=\"x4c7c80_r76_g124_b128_shape2\"/><path d=\"M 160,305 160,310 155,310 155,305 z\" fill=\"#4c7c80\" fill-opacity=\"1.0\" id=\"x4c7c80_r76_g124_b128_shape3\"/><path d=\"M 245,160 245,170 240,170 240,160 z\" fill=\"#659ca1\" fill-opacity=\"1.0\" id=\"x659ca1_r101_g156_b161_shape1\"/><path d=\"M 232,175 230,175 230,174 230,171 230,170 232,170 234,170 235,170 235,172 235,173 235,175 234,175 z\" fill=\"#659ca1\" fill-opacity=\"1.0\" id=\"x659ca1_r101_g156_b161_shape2\"/><path d=\"M 325,165 320,165 320,160 325,160 z\" fill=\"#558790\" fill-opacity=\"1.0\" id=\"x558790_r85_g135_b144_shape1\"/><path d=\"M 326,170 325,170 325,168 325,165 330,165 330,166 330,169 330,170 328,170 z\" fill=\"#558790\" fill-opacity=\"1.0\" id=\"x558790_r85_g135_b144_shape2\"/><path d=\"M 349,195 350,195 350,197 350,200 345,200 345,199 345,196 345,195 347,195 z\" fill=\"#558790\" fill-opacity=\"1.0\" id=\"x558790_r85_g135_b144_shape3\"/><path d=\"M 130,290 135,290 135,300 130,300 z\" fill=\"#426970\" fill-opacity=\"1.0\" id=\"x426970_r66_g105_b112_shape1\"/><path d=\"M 170,170 170,165 175,165 175,170 z\" fill=\"#426970\" fill-opacity=\"1.0\" id=\"x426970_r66_g105_b112_shape2\"/><path d=\"M 160,170 165,170 165,175 160,175 z\" fill=\"#3c5d62\" fill-opacity=\"1.0\" id=\"x3c5d62_r60_g93_b98_shape1\"/><path d=\"M 120,250 125,250 125,255 120,255 z\" fill=\"#3c5d62\" fill-opacity=\"1.0\" id=\"x3c5d62_r60_g93_b98_shape2\"/><path d=\"M 185,330 190,330 190,335 185,335 z\" fill=\"#3c5d62\" fill-opacity=\"1.0\" id=\"x3c5d62_r60_g93_b98_shape3\"/><path d=\"M 190,171 190,170 192,170 195,170 195,175 194,175 191,175 190,175 190,173 z\" fill=\"#56858b\" fill-opacity=\"1.0\" id=\"x56858b_r86_g133_b139_shape1\"/><path d=\"M 166,290 165,290 165,288 165,285 170,285 170,286 170,289 170,290 168,290 z\" fill=\"#56858b\" fill-opacity=\"1.0\" id=\"x56858b_r86_g133_b139_shape2\"/><path d=\"M 350,310 355,310 355,315 350,315 z\" fill=\"#56858b\" fill-opacity=\"1.0\" id=\"x56858b_r86_g133_b139_shape3\"/><path d=\"M 240,175 235,175 235,170 240,170 z\" fill=\"#679ca4\" fill-opacity=\"1.0\" id=\"x679ca4_r103_g156_b164_shape1\"/><path d=\"M 230,185 230,180 235,180 235,185 z\" fill=\"#679ca4\" fill-opacity=\"1.0\" id=\"x679ca4_r103_g156_b164_shape2\"/><path d=\"M 215,212 215,210 216,210 219,210 220,210 220,212 220,214 220,215 218,215 217,215 215,215 215,214 z\" fill=\"#679ca4\" fill-opacity=\"1.0\" id=\"x679ca4_r103_g156_b164_shape3\"/><path d=\"M 260,173 260,175 259,175 256,175 255,175 255,173 255,171 255,170 257,170 258,170 260,170 260,171 z\" fill=\"#6b9da4\" fill-opacity=\"1.0\" id=\"x6b9da4_r107_g157_b164_shape1\"/><path d=\"M 275,174 275,175 273,175 270,175 270,170 271,170 274,170 275,170 275,172 z\" fill=\"#6b9da4\" fill-opacity=\"1.0\" id=\"x6b9da4_r107_g157_b164_shape2\"/><path d=\"M 215,251 215,250 217,250 220,250 220,255 219,255 216,255 215,255 215,253 z\" fill=\"#6b9da4\" fill-opacity=\"1.0\" id=\"x6b9da4_r107_g157_b164_shape3\"/><path d=\"M 195,230 190,230 190,225 190,220 195,220 195,223 z\" fill=\"#5d949b\" fill-opacity=\"1.0\" id=\"x5d949b_r93_g148_b155_shape1\"/><path d=\"M 318,170 320,170 320,171 320,174 320,175 318,175 316,175 315,175 315,173 315,172 315,170 316,170 z\" fill=\"#5d949b\" fill-opacity=\"1.0\" id=\"x5d949b_r93_g148_b155_shape2\"/><path d=\"M 190,177 190,175 191,175 194,175 195,175 195,177 195,179 195,180 193,180 192,180 190,180 190,179 z\" fill=\"#57868e\" fill-opacity=\"1.0\" id=\"x57868e_r87_g134_b142_shape1\"/><path d=\"M 170,235 170,240 165,240 165,235 z\" fill=\"#57868e\" fill-opacity=\"1.0\" id=\"x57868e_r87_g134_b142_shape2\"/><path d=\"M 170,280 165,280 165,275 170,275 z\" fill=\"#57868e\" fill-opacity=\"1.0\" id=\"x57868e_r87_g134_b142_shape3\"/><path d=\"M 255,180 250,180 250,175 255,175 z\" fill=\"#6c9ea5\" fill-opacity=\"1.0\" id=\"x6c9ea5_r108_g158_b165_shape1\"/><path d=\"M 220,265 225,265 225,270 220,270 z\" fill=\"#6c9ea5\" fill-opacity=\"1.0\" id=\"x6c9ea5_r108_g158_b165_shape2\"/><path d=\"M 225,270 230,270 230,275 225,275 z\" fill=\"#6c9ea5\" fill-opacity=\"1.0\" id=\"x6c9ea5_r108_g158_b165_shape3\"/><path d=\"M 260,180 255,180 255,175 260,175 z\" fill=\"#6e9fa6\" fill-opacity=\"1.0\" id=\"x6e9fa6_r110_g159_b166_shape1\"/><path d=\"M 250,185 250,180 255,180 255,185 z\" fill=\"#6e9fa6\" fill-opacity=\"1.0\" id=\"x6e9fa6_r110_g159_b166_shape2\"/><path d=\"M 260,185 260,190 255,190 255,185 z\" fill=\"#6e9fa6\" fill-opacity=\"1.0\" id=\"x6e9fa6_r110_g159_b166_shape3\"/><path d=\"M 165,190 165,185 170,185 170,190 z\" fill=\"#4c777d\" fill-opacity=\"1.0\" id=\"x4c777d_r76_g119_b125_shape1\"/><path d=\"M 160,213 160,215 159,215 156,215 155,215 155,213 155,211 155,210 157,210 158,210 160,210 160,211 z\" fill=\"#4c777d\" fill-opacity=\"1.0\" id=\"x4c777d_r76_g119_b125_shape2\"/><path d=\"M 145,265 145,260 150,260 150,265 z\" fill=\"#4c777d\" fill-opacity=\"1.0\" id=\"x4c777d_r76_g119_b125_shape3\"/><path d=\"M 155,195 150,195 150,190 155,190 z\" fill=\"#42676d\" fill-opacity=\"1.0\" id=\"x42676d_r66_g103_b109_shape1\"/><path d=\"M 130,245 135,245 135,250 130,250 z\" fill=\"#42676d\" fill-opacity=\"1.0\" id=\"x42676d_r66_g103_b109_shape2\"/><path d=\"M 250,351 250,350 252,350 255,350 255,355 254,355 251,355 250,355 250,353 z\" fill=\"#42676d\" fill-opacity=\"1.0\" id=\"x42676d_r66_g103_b109_shape3\"/><path d=\"M 185,195 185,190 190,190 190,195 z\" fill=\"#57878b\" fill-opacity=\"1.0\" id=\"x57878b_r87_g135_b139_shape1\"/><path d=\"M 179,205 180,205 180,207 180,210 175,210 175,209 175,206 175,205 177,205 z\" fill=\"#57878b\" fill-opacity=\"1.0\" id=\"x57878b_r87_g135_b139_shape2\"/><path d=\"M 190,330 190,325 195,325 195,330 z\" fill=\"#57878b\" fill-opacity=\"1.0\" id=\"x57878b_r87_g135_b139_shape3\"/><path d=\"M 140,195 145,195 145,200 140,200 z\" fill=\"#3a5b60\" fill-opacity=\"1.0\" id=\"x3a5b60_r58_g91_b96_shape1\"/><path d=\"M 136,210 135,210 135,208 135,205 140,205 140,206 140,209 140,210 138,210 z\" fill=\"#3a5b60\" fill-opacity=\"1.0\" id=\"x3a5b60_r58_g91_b96_shape2\"/><path d=\"M 134,215 135,215 135,217 135,220 130,220 130,219 130,216 130,215 132,215 z\" fill=\"#3a5b60\" fill-opacity=\"1.0\" id=\"x3a5b60_r58_g91_b96_shape3\"/><path d=\"M 150,195 150,200 145,200 145,195 z\" fill=\"#406369\" fill-opacity=\"1.0\" id=\"x406369_r64_g99_b105_shape1\"/><path d=\"M 330,330 335,330 335,335 330,335 z\" fill=\"#406369\" fill-opacity=\"1.0\" id=\"x406369_r64_g99_b105_shape2\"/><path d=\"M 265,360 260,360 260,355 265,355 z\" fill=\"#406369\" fill-opacity=\"1.0\" id=\"x406369_r64_g99_b105_shape3\"/><path d=\"M 360,198 360,200 359,200 356,200 355,200 355,198 355,196 355,195 357,195 358,195 360,195 360,196 z\" fill=\"#4e7b81\" fill-opacity=\"1.0\" id=\"x4e7b81_r78_g123_b129_shape1\"/><path d=\"M 170,204 170,205 168,205 165,205 165,200 166,200 169,200 170,200 170,202 z\" fill=\"#4e7b81\" fill-opacity=\"1.0\" id=\"x4e7b81_r78_g123_b129_shape2\"/><path d=\"M 375,250 375,245 380,245 380,250 z\" fill=\"#4e7b81\" fill-opacity=\"1.0\" id=\"x4e7b81_r78_g123_b129_shape3\"/><path d=\"M 375,195 380,195 380,200 375,200 z\" fill=\"#1f3135\" fill-opacity=\"1.0\" id=\"x1f3135_r31_g49_b53_shape1\"/><path d=\"M 105,240 105,245 100,245 100,240 z\" fill=\"#1f3135\" fill-opacity=\"1.0\" id=\"x1f3135_r31_g49_b53_shape2\"/><path d=\"M 165,355 170,355 170,360 165,360 z\" fill=\"#1f3135\" fill-opacity=\"1.0\" id=\"x1f3135_r31_g49_b53_shape3\"/><path d=\"M 115,270 120,270 120,280 115,280 z\" fill=\"#37585d\" fill-opacity=\"1.0\" id=\"x37585d_r55_g88_b93_shape1\"/><path d=\"M 137,205 135,205 135,204 135,201 135,200 137,200 139,200 140,200 140,202 140,203 140,205 139,205 z\" fill=\"#37585d\" fill-opacity=\"1.0\" id=\"x37585d_r55_g88_b93_shape2\"/><path d=\"M 240,200 245,200 245,205 240,205 z\" fill=\"#6ca1a9\" fill-opacity=\"1.0\" id=\"x6ca1a9_r108_g161_b169_shape1\"/><path d=\"M 300,221 300,220 302,220 305,220 305,225 304,225 301,225 300,225 300,223 z\" fill=\"#6ca1a9\" fill-opacity=\"1.0\" id=\"x6ca1a9_r108_g161_b169_shape2\"/><path d=\"M 225,228 225,230 224,230 221,230 220,230 220,228 220,226 220,225 222,225 223,225 225,225 225,226 z\" fill=\"#6ca1a9\" fill-opacity=\"1.0\" id=\"x6ca1a9_r108_g161_b169_shape3\"/><path d=\"M 278,200 280,200 280,201 280,204 280,205 278,205 276,205 275,205 275,203 275,202 275,200 276,200 z\" fill=\"#6e9fa4\" fill-opacity=\"1.0\" id=\"x6e9fa4_r110_g159_b164_shape1\"/><path d=\"M 310,265 310,270 305,270 305,265 z\" fill=\"#6e9fa4\" fill-opacity=\"1.0\" id=\"x6e9fa4_r110_g159_b164_shape2\"/><path d=\"M 230,280 230,275 235,275 235,280 z\" fill=\"#6e9fa4\" fill-opacity=\"1.0\" id=\"x6e9fa4_r110_g159_b164_shape3\"/><path d=\"M 285,200 285,205 280,205 280,200 z\" fill=\"#6fa1a8\" fill-opacity=\"1.0\" id=\"x6fa1a8_r111_g161_b168_shape1\"/><path d=\"M 300,260 305,260 305,265 300,265 z\" fill=\"#6fa1a8\" fill-opacity=\"1.0\" id=\"x6fa1a8_r111_g161_b168_shape2\"/><path d=\"M 295,275 295,270 300,270 300,275 z\" fill=\"#6fa1a8\" fill-opacity=\"1.0\" id=\"x6fa1a8_r111_g161_b168_shape3\"/><path d=\"M 150,255 145,255 145,245 150,245 z\" fill=\"#4e767e\" fill-opacity=\"1.0\" id=\"x4e767e_r78_g118_b126_shape1\"/><path d=\"M 364,200 365,200 365,202 365,205 360,205 360,204 360,201 360,200 362,200 z\" fill=\"#4e767e\" fill-opacity=\"1.0\" id=\"x4e767e_r78_g118_b126_shape2\"/><path d=\"M 390,200 395,200 395,205 390,205 z\" fill=\"#000004\" fill-opacity=\"1.0\" id=\"x000004_r0_g0_b4_shape1\"/><path d=\"M 85,279 85,280 83,280 80,280 80,275 81,275 84,275 85,275 85,277 z\" fill=\"#000004\" fill-opacity=\"1.0\" id=\"x000004_r0_g0_b4_shape2\"/><path d=\"M 115,310 110,310 110,305 115,305 z\" fill=\"#000004\" fill-opacity=\"1.0\" id=\"x000004_r0_g0_b4_shape3\"/><path d=\"M 120,210 120,205 125,205 125,210 z\" fill=\"#1a2c2e\" fill-opacity=\"1.0\" id=\"x1a2c2e_r26_g44_b46_shape1\"/><path d=\"M 100,230 105,230 105,235 100,235 z\" fill=\"#1a2c2e\" fill-opacity=\"1.0\" id=\"x1a2c2e_r26_g44_b46_shape2\"/><path d=\"M 90,245 90,250 85,250 85,245 z\" fill=\"#1a2c2e\" fill-opacity=\"1.0\" id=\"x1a2c2e_r26_g44_b46_shape3\"/><path d=\"M 145,230 150,230 150,235 150,240 145,240 145,237 z\" fill=\"#4b737b\" fill-opacity=\"1.0\" id=\"x4b737b_r75_g115_b123_shape1\"/><path d=\"M 155,207 155,205 156,205 159,205 160,205 160,207 160,209 160,210 158,210 157,210 155,210 155,209 z\" fill=\"#4b737b\" fill-opacity=\"1.0\" id=\"x4b737b_r75_g115_b123_shape2\"/><path d=\"M 200,210 205,210 205,215 200,215 z\" fill=\"#6397a2\" fill-opacity=\"1.0\" id=\"x6397a2_r99_g151_b162_shape1\"/><path d=\"M 200,220 195,220 195,215 200,215 z\" fill=\"#6397a2\" fill-opacity=\"1.0\" id=\"x6397a2_r99_g151_b162_shape2\"/><path d=\"M 205,220 205,225 200,225 200,220 z\" fill=\"#6397a2\" fill-opacity=\"1.0\" id=\"x6397a2_r99_g151_b162_shape3\"/><path d=\"M 230,250 225,250 225,240 230,240 z\" fill=\"#74a7ab\" fill-opacity=\"1.0\" id=\"x74a7ab_r116_g167_b171_shape1\"/><path d=\"M 245,215 245,210 250,210 250,215 z\" fill=\"#74a7ab\" fill-opacity=\"1.0\" id=\"x74a7ab_r116_g167_b171_shape2\"/><path d=\"M 360,214 360,215 358,215 355,215 355,210 356,210 359,210 360,210 360,212 z\" fill=\"#54858c\" fill-opacity=\"1.0\" id=\"x54858c_r84_g133_b140_shape1\"/><path d=\"M 175,295 175,300 170,300 170,295 z\" fill=\"#54858c\" fill-opacity=\"1.0\" id=\"x54858c_r84_g133_b140_shape2\"/><path d=\"M 175,305 175,310 170,310 170,305 z\" fill=\"#54858c\" fill-opacity=\"1.0\" id=\"x54858c_r84_g133_b140_shape3\"/><path d=\"M 145,215 145,220 140,220 140,215 z\" fill=\"#42676f\" fill-opacity=\"1.0\" id=\"x42676f_r66_g103_b111_shape1\"/><path d=\"M 230,350 225,350 225,345 230,345 z\" fill=\"#42676f\" fill-opacity=\"1.0\" id=\"x42676f_r66_g103_b111_shape2\"/><path d=\"M 305,350 300,350 300,345 305,345 z\" fill=\"#42676f\" fill-opacity=\"1.0\" id=\"x42676f_r66_g103_b111_shape3\"/><path d=\"M 350,215 355,215 355,220 350,220 z\" fill=\"#578c94\" fill-opacity=\"1.0\" id=\"x578c94_r87_g140_b148_shape1\"/><path d=\"M 175,235 175,230 180,230 180,235 z\" fill=\"#578c94\" fill-opacity=\"1.0\" id=\"x578c94_r87_g140_b148_shape2\"/><path d=\"M 175,265 180,265 180,270 175,270 z\" fill=\"#578c94\" fill-opacity=\"1.0\" id=\"x578c94_r87_g140_b148_shape3\"/><path d=\"M 400,220 395,220 395,215 400,215 z\" fill=\"#233036\" fill-opacity=\"1.0\" id=\"x233036_r35_g48_b54_shape1\"/><path d=\"M 150,342 150,340 151,340 154,340 155,340 155,342 155,344 155,345 153,345 152,345 150,345 150,344 z\" fill=\"#233036\" fill-opacity=\"1.0\" id=\"x233036_r35_g48_b54_shape2\"/><path d=\"M 160,350 165,350 165,355 160,355 z\" fill=\"#233036\" fill-opacity=\"1.0\" id=\"x233036_r35_g48_b54_shape3\"/><path d=\"M 153,220 155,220 155,221 155,224 155,225 153,225 151,225 150,225 150,223 150,222 150,220 151,220 z\" fill=\"#49747b\" fill-opacity=\"1.0\" id=\"x49747b_r73_g116_b123_shape1\"/><path d=\"M 372,225 370,225 370,224 370,221 370,220 372,220 374,220 375,220 375,222 375,223 375,225 374,225 z\" fill=\"#49747b\" fill-opacity=\"1.0\" id=\"x49747b_r73_g116_b123_shape2\"/><path d=\"M 380,286 380,285 382,285 385,285 385,290 384,290 381,290 380,290 380,288 z\" fill=\"#49747b\" fill-opacity=\"1.0\" id=\"x49747b_r73_g116_b123_shape3\"/><path d=\"M 285,240 285,250 280,250 280,240 z\" fill=\"#94aeaf\" fill-opacity=\"1.0\" id=\"x94aeaf_r148_g174_b175_shape1\"/><path d=\"M 255,225 260,225 260,230 255,230 z\" fill=\"#94aeaf\" fill-opacity=\"1.0\" id=\"x94aeaf_r148_g174_b175_shape2\"/><path d=\"M 155,290 150,290 150,280 155,280 z\" fill=\"#4f7a81\" fill-opacity=\"1.0\" id=\"x4f7a81_r79_g122_b129_shape1\"/><path d=\"M 375,225 375,230 370,230 370,225 z\" fill=\"#4f7a81\" fill-opacity=\"1.0\" id=\"x4f7a81_r79_g122_b129_shape2\"/><path d=\"M 135,235 130,235 130,230 135,230 z\" fill=\"#3e6165\" fill-opacity=\"1.0\" id=\"x3e6165_r62_g97_b101_shape1\"/><path d=\"M 130,245 130,250 125,250 125,245 z\" fill=\"#3e6165\" fill-opacity=\"1.0\" id=\"x3e6165_r62_g97_b101_shape2\"/><path d=\"M 240,360 240,355 245,355 245,360 z\" fill=\"#3e6165\" fill-opacity=\"1.0\" id=\"x3e6165_r62_g97_b101_shape3\"/><path d=\"M 105,265 105,255 110,255 110,265 z\" fill=\"#243c3e\" fill-opacity=\"1.0\" id=\"x243c3e_r36_g60_b62_shape1\"/><path d=\"M 401,235 400,235 400,233 400,230 405,230 405,231 405,234 405,235 403,235 z\" fill=\"#243c3e\" fill-opacity=\"1.0\" id=\"x243c3e_r36_g60_b62_shape2\"/><path d=\"M 140,240 135,240 135,235 140,235 z\" fill=\"#436870\" fill-opacity=\"1.0\" id=\"x436870_r67_g104_b112_shape1\"/><path d=\"M 232,350 230,350 230,349 230,346 230,345 232,345 234,345 235,345 235,347 235,348 235,350 234,350 z\" fill=\"#436870\" fill-opacity=\"1.0\" id=\"x436870_r67_g104_b112_shape2\"/><path d=\"M 300,350 295,350 295,345 300,345 z\" fill=\"#436870\" fill-opacity=\"1.0\" id=\"x436870_r67_g104_b112_shape3\"/><path d=\"M 115,240 120,240 120,245 115,245 z\" fill=\"#345157\" fill-opacity=\"1.0\" id=\"x345157_r52_g81_b87_shape1\"/><path d=\"M 115,255 115,250 120,250 120,255 z\" fill=\"#345157\" fill-opacity=\"1.0\" id=\"x345157_r52_g81_b87_shape2\"/><path d=\"M 335,345 340,345 340,350 335,350 z\" fill=\"#345157\" fill-opacity=\"1.0\" id=\"x345157_r52_g81_b87_shape3\"/><path d=\"M 240,240 245,240 245,255 240,255 z\" fill=\"#90afb1\" fill-opacity=\"1.0\" id=\"x90afb1_r144_g175_b177_shape1\"/><path d=\"M 290,255 290,240 295,240 295,255 z\" fill=\"#84a9b1\" fill-opacity=\"1.0\" id=\"x84a9b1_r132_g169_b177_shape1\"/><path d=\"M 375,242 375,240 376,240 379,240 380,240 380,242 380,244 380,245 378,245 377,245 375,245 375,244 z\" fill=\"#4c797f\" fill-opacity=\"1.0\" id=\"x4c797f_r76_g121_b127_shape1\"/><path d=\"M 385,270 385,275 380,275 380,270 z\" fill=\"#4c797f\" fill-opacity=\"1.0\" id=\"x4c797f_r76_g121_b127_shape2\"/><path d=\"M 382,285 380,285 380,284 380,281 380,280 382,280 384,280 385,280 385,282 385,283 385,285 384,285 z\" fill=\"#4c797f\" fill-opacity=\"1.0\" id=\"x4c797f_r76_g121_b127_shape3\"/><path d=\"M 295,245 300,245 300,250 300,255 295,255 295,252 z\" fill=\"#79a9ad\" fill-opacity=\"1.0\" id=\"x79a9ad_r121_g169_b173_shape1\"/><path d=\"M 235,270 230,270 230,265 235,265 z\" fill=\"#79a9ad\" fill-opacity=\"1.0\" id=\"x79a9ad_r121_g169_b173_shape2\"/><path d=\"M 290,274 290,275 288,275 285,275 285,270 286,270 289,270 290,270 290,272 z\" fill=\"#81a7aa\" fill-opacity=\"1.0\" id=\"x81a7aa_r129_g167_b170_shape1\"/><path d=\"M 280,276 280,275 282,275 285,275 285,280 284,280 281,280 280,280 280,278 z\" fill=\"#81a7aa\" fill-opacity=\"1.0\" id=\"x81a7aa_r129_g167_b170_shape2\"/><path d=\"M 275,285 270,285 270,280 275,280 z\" fill=\"#81a7aa\" fill-opacity=\"1.0\" id=\"x81a7aa_r129_g167_b170_shape3\"/><path d=\"M 385,275 385,270 390,270 390,275 z\" fill=\"#446971\" fill-opacity=\"1.0\" id=\"x446971_r68_g105_b113_shape1\"/><path d=\"M 240,345 240,350 235,350 235,345 z\" fill=\"#446971\" fill-opacity=\"1.0\" id=\"x446971_r68_g105_b113_shape2\"/><path d=\"M 295,349 295,350 293,350 290,350 290,345 291,345 294,345 295,345 295,347 z\" fill=\"#446971\" fill-opacity=\"1.0\" id=\"x446971_r68_g105_b113_shape3\"/><path d=\"M 385,276 385,275 387,275 390,275 390,280 389,280 386,280 385,280 385,278 z\" fill=\"#3e6167\" fill-opacity=\"1.0\" id=\"x3e6167_r62_g97_b103_shape1\"/><path d=\"M 320,350 315,350 315,345 320,345 z\" fill=\"#3e6167\" fill-opacity=\"1.0\" id=\"x3e6167_r62_g97_b103_shape2\"/><path d=\"M 250,360 250,355 255,355 255,360 z\" fill=\"#3e6167\" fill-opacity=\"1.0\" id=\"x3e6167_r62_g97_b103_shape3\"/><path d=\"M 162,285 160,285 160,284 160,281 160,280 162,280 164,280 165,280 165,282 165,283 165,285 164,285 z\" fill=\"#538387\" fill-opacity=\"1.0\" id=\"x538387_r83_g131_b135_shape1\"/><path d=\"M 160,290 165,290 165,295 160,295 z\" fill=\"#538387\" fill-opacity=\"1.0\" id=\"x538387_r83_g131_b135_shape2\"/><path d=\"M 180,320 185,320 185,325 180,325 z\" fill=\"#538387\" fill-opacity=\"1.0\" id=\"x538387_r83_g131_b135_shape3\"/><path d=\"M 270,280 270,285 255,285 255,280 z\" fill=\"#86a8aa\" fill-opacity=\"1.0\" id=\"x86a8aa_r134_g168_b170_shape1\"/><path d=\"M 315,280 330,280 330,285 315,285 z\" fill=\"#65969d\" fill-opacity=\"1.0\" id=\"x65969d_r101_g150_b157_shape1\"/><path d=\"M 235,285 235,290 230,290 230,285 z\" fill=\"#719aa0\" fill-opacity=\"1.0\" id=\"x719aa0_r113_g154_b160_shape1\"/><path d=\"M 300,290 300,285 305,285 305,290 z\" fill=\"#719aa0\" fill-opacity=\"1.0\" id=\"x719aa0_r113_g154_b160_shape2\"/><path d=\"M 235,295 235,290 240,290 240,295 z\" fill=\"#719aa0\" fill-opacity=\"1.0\" id=\"x719aa0_r113_g154_b160_shape3\"/><path d=\"M 130,290 130,300 125,300 125,290 z\" fill=\"#3d626a\" fill-opacity=\"1.0\" id=\"x3d626a_r61_g98_b106_shape1\"/><path d=\"M 335,330 330,330 330,325 335,325 z\" fill=\"#3d626a\" fill-opacity=\"1.0\" id=\"x3d626a_r61_g98_b106_shape2\"/><path d=\"M 215,292 215,290 216,290 219,290 220,290 220,292 220,294 220,295 218,295 217,295 215,295 215,294 z\" fill=\"#64959a\" fill-opacity=\"1.0\" id=\"x64959a_r100_g149_b154_shape1\"/><path d=\"M 320,290 320,295 315,295 315,290 z\" fill=\"#64959a\" fill-opacity=\"1.0\" id=\"x64959a_r100_g149_b154_shape2\"/><path d=\"M 220,300 220,295 225,295 225,300 z\" fill=\"#64959a\" fill-opacity=\"1.0\" id=\"x64959a_r100_g149_b154_shape3\"/><path d=\"M 270,295 270,300 255,300 255,295 z\" fill=\"#7a9ba0\" fill-opacity=\"1.0\" id=\"x7a9ba0_r122_g155_b160_shape1\"/><path d=\"M 270,300 270,305 255,305 255,300 z\" fill=\"#79989d\" fill-opacity=\"1.0\" id=\"x79989d_r121_g152_b157_shape1\"/><path d=\"M 290,310 280,310 280,305 285,305 285,300 289,300 290,300 z\" fill=\"#74979d\" fill-opacity=\"1.0\" id=\"x74979d_r116_g151_b157_shape1\"/><path d=\"M 295,320 280,320 280,315 295,315 z\" fill=\"#75929a\" fill-opacity=\"1.0\" id=\"x75929a_r117_g146_b154_shape1\"/><path d=\"M 270,330 270,325 285,325 285,330 z\" fill=\"#7b9095\" fill-opacity=\"1.0\" id=\"x7b9095_r123_g144_b149_shape1\"/><path d=\"M 280,330 280,335 270,335 270,330 z\" fill=\"#7a8f94\" fill-opacity=\"1.0\" id=\"x7a8f94_r122_g143_b148_shape1\"/><path d=\"M 290,325 290,330 285,330 285,325 z\" fill=\"#7a8f94\" fill-opacity=\"1.0\" id=\"x7a8f94_r122_g143_b148_shape2\"/><path d=\"M 185,335 180,335 180,330 185,330 z\" fill=\"#3d5c61\" fill-opacity=\"1.0\" id=\"x3d5c61_r61_g92_b97_shape1\"/><path d=\"M 330,345 330,340 335,340 335,345 z\" fill=\"#3d5c61\" fill-opacity=\"1.0\" id=\"x3d5c61_r61_g92_b97_shape2\"/><path d=\"M 225,360 225,355 230,355 230,360 z\" fill=\"#3d5c61\" fill-opacity=\"1.0\" id=\"x3d5c61_r61_g92_b97_shape3\"/><path d=\"M 345,330 345,335 340,335 340,330 z\" fill=\"#3d5b63\" fill-opacity=\"1.0\" id=\"x3d5b63_r61_g91_b99_shape1\"/><path d=\"M 205,350 200,350 200,345 205,345 z\" fill=\"#3d5b63\" fill-opacity=\"1.0\" id=\"x3d5b63_r61_g91_b99_shape2\"/><path d=\"M 320,345 325,345 325,350 320,350 z\" fill=\"#3d5b63\" fill-opacity=\"1.0\" id=\"x3d5b63_r61_g91_b99_shape3\"/><path d=\"M 255,340 255,335 270,335 270,340 z\" fill=\"#557479\" fill-opacity=\"1.0\" id=\"x557479_r85_g116_b121_shape1\"/><path d=\"M 330,345 335,345 335,350 330,350 z\" fill=\"#39565c\" fill-opacity=\"1.0\" id=\"x39565c_r57_g86_b92_shape1\"/><path d=\"M 203,350 205,350 205,351 205,354 205,355 203,355 201,355 200,355 200,353 200,352 200,350 201,350 z\" fill=\"#39565c\" fill-opacity=\"1.0\" id=\"x39565c_r57_g86_b92_shape2\"/><path d=\"M 215,360 210,360 210,355 215,355 z\" fill=\"#39565c\" fill-opacity=\"1.0\" id=\"x39565c_r57_g86_b92_shape3\"/><path d=\"M 230,355 240,355 240,360 230,360 z\" fill=\"#3f6065\" fill-opacity=\"1.0\" id=\"x3f6065_r63_g96_b101_shape1\"/><path d=\"M 310,354 310,355 308,355 305,355 305,350 306,350 309,350 310,350 310,352 z\" fill=\"#3f6065\" fill-opacity=\"1.0\" id=\"x3f6065_r63_g96_b101_shape2\"/><path d=\"M 395,65 400,65 400,70 395,70 z\" fill=\"#161616\" fill-opacity=\"1.0\" id=\"x161616_r22_g22_b22_shape1\"/><path d=\"M 385,75 385,70 390,70 390,75 z\" fill=\"#161616\" fill-opacity=\"1.0\" id=\"x161616_r22_g22_b22_shape2\"/><path d=\"M 270,75 265,75 265,70 270,70 z\" fill=\"#020003\" fill-opacity=\"1.0\" id=\"x020003_r2_g0_b3_shape1\"/><path d=\"M 110,197 110,195 111,195 114,195 115,195 115,197 115,199 115,200 113,200 112,200 110,200 110,199 z\" fill=\"#020003\" fill-opacity=\"1.0\" id=\"x020003_r2_g0_b3_shape2\"/><path d=\"M 270,80 265,80 265,75 270,75 z\" fill=\"#000105\" fill-opacity=\"1.0\" id=\"x000105_r0_g1_b5_shape1\"/><path d=\"M 75,252 75,250 76,250 79,250 80,250 80,252 80,254 80,255 78,255 77,255 75,255 75,254 z\" fill=\"#000105\" fill-opacity=\"1.0\" id=\"x000105_r0_g1_b5_shape2\"/><path d=\"M 365,85 360,85 360,80 365,80 z\" fill=\"#2e2e2e\" fill-opacity=\"1.0\" id=\"x2e2e2e_r46_g46_b46_shape1\"/><path d=\"M 130,155 130,160 125,160 125,155 z\" fill=\"#2e2e2e\" fill-opacity=\"1.0\" id=\"x2e2e2e_r46_g46_b46_shape2\"/><path d=\"M 225,85 225,90 220,90 220,85 z\" fill=\"#010302\" fill-opacity=\"1.0\" id=\"x010302_r1_g3_b2_shape1\"/><path d=\"M 329,135 330,135 330,137 330,140 325,140 325,139 325,136 325,135 327,135 z\" fill=\"#010302\" fill-opacity=\"1.0\" id=\"x010302_r1_g3_b2_shape2\"/><path d=\"M 325,90 325,85 330,85 330,90 z\" fill=\"#0e0e0e\" fill-opacity=\"1.0\" id=\"x0e0e0e_r14_g14_b14_shape1\"/><path d=\"M 305,105 310,105 310,110 305,110 z\" fill=\"#0e0e0e\" fill-opacity=\"1.0\" id=\"x0e0e0e_r14_g14_b14_shape2\"/><path d=\"M 360,85 360,90 355,90 355,85 z\" fill=\"#070707\" fill-opacity=\"1.0\" id=\"x070707_r7_g7_b7_shape1\"/><path d=\"M 130,155 130,150 135,150 135,155 z\" fill=\"#070707\" fill-opacity=\"1.0\" id=\"x070707_r7_g7_b7_shape2\"/><path d=\"M 247,95 245,95 245,94 245,91 245,90 247,90 249,90 250,90 250,92 250,93 250,95 249,95 z\" fill=\"#77a2a8\" fill-opacity=\"1.0\" id=\"x77a2a8_r119_g162_b168_shape1\"/><path d=\"M 235,280 235,275 240,275 240,280 z\" fill=\"#77a2a8\" fill-opacity=\"1.0\" id=\"x77a2a8_r119_g162_b168_shape2\"/><path d=\"M 348,90 350,90 350,91 350,94 350,95 348,95 346,95 345,95 345,93 345,92 345,90 346,90 z\" fill=\"#080808\" fill-opacity=\"1.0\" id=\"x080808_r8_g8_b8_shape1\"/><path d=\"M 140,160 135,160 135,155 140,155 z\" fill=\"#080808\" fill-opacity=\"1.0\" id=\"x080808_r8_g8_b8_shape2\"/><path d=\"M 220,96 220,95 222,95 225,95 225,100 224,100 221,100 220,100 220,98 z\" fill=\"#1d3034\" fill-opacity=\"1.0\" id=\"x1d3034_r29_g48_b52_shape1\"/><path d=\"M 115,225 115,230 110,230 110,225 z\" fill=\"#1d3034\" fill-opacity=\"1.0\" id=\"x1d3034_r29_g48_b52_shape2\"/><path d=\"M 230,100 225,100 225,95 230,95 z\" fill=\"#2a4246\" fill-opacity=\"1.0\" id=\"x2a4246_r42_g66_b70_shape1\"/><path d=\"M 400,235 400,240 395,240 395,235 z\" fill=\"#2a4246\" fill-opacity=\"1.0\" id=\"x2a4246_r42_g66_b70_shape2\"/><path d=\"M 287,100 285,100 285,99 285,96 285,95 287,95 289,95 290,95 290,97 290,98 290,100 289,100 z\" fill=\"#030000\" fill-opacity=\"1.0\" id=\"x030000_r3_g0_b0_shape1\"/><path d=\"M 368,175 370,175 370,176 370,179 370,180 368,180 366,180 365,180 365,178 365,177 365,175 366,175 z\" fill=\"#030000\" fill-opacity=\"1.0\" id=\"x030000_r3_g0_b0_shape2\"/><path d=\"M 216,105 215,105 215,103 215,100 220,100 220,101 220,104 220,105 218,105 z\" fill=\"#1e2d30\" fill-opacity=\"1.0\" id=\"x1e2d30_r30_g45_b48_shape1\"/><path d=\"M 100,240 100,245 95,245 95,240 z\" fill=\"#1e2d30\" fill-opacity=\"1.0\" id=\"x1e2d30_r30_g45_b48_shape2\"/><path d=\"M 254,100 255,100 255,102 255,105 250,105 250,104 250,101 250,100 252,100 z\" fill=\"#5e9397\" fill-opacity=\"1.0\" id=\"x5e9397_r94_g147_b151_shape1\"/><path d=\"M 290,148 290,150 289,150 286,150 285,150 285,148 285,146 285,145 287,145 288,145 290,145 290,146 z\" fill=\"#5e9397\" fill-opacity=\"1.0\" id=\"x5e9397_r94_g147_b151_shape2\"/><path d=\"M 261,105 260,105 260,103 260,100 265,100 265,101 265,104 265,105 263,105 z\" fill=\"#5d8e95\" fill-opacity=\"1.0\" id=\"x5d8e95_r93_g142_b149_shape1\"/><path d=\"M 195,180 200,180 200,185 195,185 z\" fill=\"#5d8e95\" fill-opacity=\"1.0\" id=\"x5d8e95_r93_g142_b149_shape2\"/><path d=\"M 280,103 280,105 279,105 276,105 275,105 275,103 275,101 275,100 277,100 278,100 280,100 280,101 z\" fill=\"#375354\" fill-opacity=\"1.0\" id=\"x375354_r55_g83_b84_shape1\"/><path d=\"M 325,145 330,145 330,150 325,150 z\" fill=\"#375354\" fill-opacity=\"1.0\" id=\"x375354_r55_g83_b84_shape2\"/><path d=\"M 210,105 215,105 215,110 210,110 z\" fill=\"#202f32\" fill-opacity=\"1.0\" id=\"x202f32_r32_g47_b50_shape1\"/><path d=\"M 95,255 90,255 90,250 95,250 z\" fill=\"#202f32\" fill-opacity=\"1.0\" id=\"x202f32_r32_g47_b50_shape2\"/><path d=\"M 225,108 225,110 224,110 221,110 220,110 220,108 220,106 220,105 222,105 223,105 225,105 225,106 z\" fill=\"#2d4547\" fill-opacity=\"1.0\" id=\"x2d4547_r45_g69_b71_shape1\"/><path d=\"M 145,185 140,185 140,180 145,180 z\" fill=\"#2d4547\" fill-opacity=\"1.0\" id=\"x2d4547_r45_g69_b71_shape2\"/><path d=\"M 230,105 235,105 235,110 230,110 z\" fill=\"#355355\" fill-opacity=\"1.0\" id=\"x355355_r53_g83_b85_shape1\"/><path d=\"M 310,135 315,135 315,140 310,140 z\" fill=\"#355355\" fill-opacity=\"1.0\" id=\"x355355_r53_g83_b85_shape2\"/><path d=\"M 235,110 235,105 240,105 240,110 z\" fill=\"#476972\" fill-opacity=\"1.0\" id=\"x476972_r71_g105_b114_shape1\"/><path d=\"M 145,224 145,225 143,225 140,225 140,220 141,220 144,220 145,220 145,222 z\" fill=\"#476972\" fill-opacity=\"1.0\" id=\"x476972_r71_g105_b114_shape2\"/><path d=\"M 210,110 210,115 205,115 205,110 z\" fill=\"#223033\" fill-opacity=\"1.0\" id=\"x223033_r34_g48_b51_shape1\"/><path d=\"M 405,225 410,225 410,230 405,230 z\" fill=\"#223033\" fill-opacity=\"1.0\" id=\"x223033_r34_g48_b51_shape2\"/><path d=\"M 190,120 190,115 195,115 195,120 z\" fill=\"#000200\" fill-opacity=\"1.0\" id=\"x000200_r0_g2_b0_shape1\"/><path d=\"M 335,150 335,145 340,145 340,150 z\" fill=\"#000200\" fill-opacity=\"1.0\" id=\"x000200_r0_g2_b0_shape2\"/><path d=\"M 301,120 300,120 300,118 300,115 305,115 305,116 305,119 305,120 303,120 z\" fill=\"#131e20\" fill-opacity=\"1.0\" id=\"x131e20_r19_g30_b32_shape1\"/><path d=\"M 305,121 305,120 307,120 310,120 310,125 309,125 306,125 305,125 305,123 z\" fill=\"#131e20\" fill-opacity=\"1.0\" id=\"x131e20_r19_g30_b32_shape2\"/><path d=\"M 275,125 275,120 285,120 285,125 z\" fill=\"#395b5c\" fill-opacity=\"1.0\" id=\"x395b5c_r57_g91_b92_shape1\"/><path d=\"M 295,120 300,120 300,125 295,125 z\" fill=\"#2e474b\" fill-opacity=\"1.0\" id=\"x2e474b_r46_g71_b75_shape1\"/><path d=\"M 110,257 110,255 111,255 114,255 115,255 115,257 115,259 115,260 113,260 112,260 110,260 110,259 z\" fill=\"#2e474b\" fill-opacity=\"1.0\" id=\"x2e474b_r46_g71_b75_shape2\"/><path d=\"M 300,121 300,120 302,120 305,120 305,125 304,125 301,125 300,125 300,123 z\" fill=\"#293b3d\" fill-opacity=\"1.0\" id=\"x293b3d_r41_g59_b61_shape1\"/><path d=\"M 100,290 95,290 95,285 100,285 z\" fill=\"#293b3d\" fill-opacity=\"1.0\" id=\"x293b3d_r41_g59_b61_shape2\"/><path d=\"M 275,131 275,130 277,130 280,130 280,135 279,135 276,135 275,135 275,133 z\" fill=\"#548b8e\" fill-opacity=\"1.0\" id=\"x548b8e_r84_g139_b142_shape1\"/><path d=\"M 225,135 230,135 230,140 225,140 z\" fill=\"#548b8e\" fill-opacity=\"1.0\" id=\"x548b8e_r84_g139_b142_shape2\"/><path d=\"M 285,132 285,130 286,130 289,130 290,130 290,132 290,134 290,135 288,135 287,135 285,135 285,134 z\" fill=\"#51868a\" fill-opacity=\"1.0\" id=\"x51868a_r81_g134_b138_shape1\"/><path d=\"M 225,140 220,140 220,135 225,135 z\" fill=\"#51868a\" fill-opacity=\"1.0\" id=\"x51868a_r81_g134_b138_shape2\"/><path d=\"M 290,132 290,130 291,130 294,130 295,130 295,132 295,134 295,135 293,135 292,135 290,135 290,134 z\" fill=\"#4f8182\" fill-opacity=\"1.0\" id=\"x4f8182_r79_g129_b130_shape1\"/><path d=\"M 340,175 345,175 345,180 340,180 z\" fill=\"#4f8182\" fill-opacity=\"1.0\" id=\"x4f8182_r79_g129_b130_shape2\"/><path d=\"M 308,130 310,130 310,131 310,134 310,135 308,135 306,135 305,135 305,133 305,132 305,130 306,130 z\" fill=\"#2a4347\" fill-opacity=\"1.0\" id=\"x2a4347_r42_g67_b71_shape1\"/><path d=\"M 400,245 405,245 405,250 400,250 z\" fill=\"#2a4347\" fill-opacity=\"1.0\" id=\"x2a4347_r42_g67_b71_shape2\"/><path d=\"M 260,135 270,135 270,140 263,140 260,140 260,139 z\" fill=\"#5e9195\" fill-opacity=\"1.0\" id=\"x5e9195_r94_g145_b149_shape1\"/><path d=\"M 280,135 280,140 270,140 270,135 z\" fill=\"#5a8f93\" fill-opacity=\"1.0\" id=\"x5a8f93_r90_g143_b147_shape1\"/><path d=\"M 280,135 290,135 290,140 283,140 280,140 280,139 z\" fill=\"#578c90\" fill-opacity=\"1.0\" id=\"x578c90_r87_g140_b144_shape1\"/><path d=\"M 315,137 315,135 316,135 319,135 320,135 320,137 320,139 320,140 318,140 317,140 315,140 315,139 z\" fill=\"#223c3b\" fill-opacity=\"1.0\" id=\"x223c3b_r34_g60_b59_shape1\"/><path d=\"M 98,270 100,270 100,271 100,274 100,275 98,275 96,275 95,275 95,273 95,272 95,270 96,270 z\" fill=\"#223c3b\" fill-opacity=\"1.0\" id=\"x223c3b_r34_g60_b59_shape2\"/><path d=\"M 320,140 320,135 325,135 325,140 z\" fill=\"#0d1919\" fill-opacity=\"1.0\" id=\"x0d1919_r13_g25_b25_shape1\"/><path d=\"M 360,177 360,175 361,175 364,175 365,175 365,177 365,179 365,180 363,180 362,180 360,180 360,179 z\" fill=\"#0d1919\" fill-opacity=\"1.0\" id=\"x0d1919_r13_g25_b25_shape2\"/><path d=\"M 275,140 275,145 270,145 270,140 z\" fill=\"#5f9296\" fill-opacity=\"1.0\" id=\"x5f9296_r95_g146_b150_shape1\"/><path d=\"M 335,197 335,195 336,195 339,195 340,195 340,197 340,199 340,200 338,200 337,200 335,200 335,199 z\" fill=\"#5f9296\" fill-opacity=\"1.0\" id=\"x5f9296_r95_g146_b150_shape2\"/><path d=\"M 280,145 280,140 290,140 290,145 z\" fill=\"#5c9195\" fill-opacity=\"1.0\" id=\"x5c9195_r92_g145_b149_shape1\"/><path d=\"M 300,140 300,145 295,145 295,140 z\" fill=\"#588b8f\" fill-opacity=\"1.0\" id=\"x588b8f_r88_g139_b143_shape1\"/><path d=\"M 200,325 200,320 205,320 205,325 z\" fill=\"#588b8f\" fill-opacity=\"1.0\" id=\"x588b8f_r88_g139_b143_shape2\"/><path d=\"M 300,140 305,140 305,145 300,145 z\" fill=\"#54858a\" fill-opacity=\"1.0\" id=\"x54858a_r84_g133_b138_shape1\"/><path d=\"M 180,191 180,190 182,190 185,190 185,195 184,195 181,195 180,195 180,193 z\" fill=\"#54858a\" fill-opacity=\"1.0\" id=\"x54858a_r84_g133_b138_shape2\"/><path d=\"M 305,140 310,140 310,145 305,145 z\" fill=\"#507b81\" fill-opacity=\"1.0\" id=\"x507b81_r80_g123_b129_shape1\"/><path d=\"M 375,310 370,310 370,305 375,305 z\" fill=\"#507b81\" fill-opacity=\"1.0\" id=\"x507b81_r80_g123_b129_shape2\"/><path d=\"M 178,145 180,145 180,146 180,149 180,150 178,150 176,150 175,150 175,148 175,147 175,145 176,145 z\" fill=\"#335254\" fill-opacity=\"1.0\" id=\"x335254_r51_g82_b84_shape1\"/><path d=\"M 170,159 170,160 168,160 165,160 165,155 166,155 169,155 170,155 170,157 z\" fill=\"#335254\" fill-opacity=\"1.0\" id=\"x335254_r51_g82_b84_shape2\"/><path d=\"M 200,149 200,150 198,150 195,150 195,145 196,145 199,145 200,145 200,147 z\" fill=\"#497578\" fill-opacity=\"1.0\" id=\"x497578_r73_g117_b120_shape1\"/><path d=\"M 185,155 190,155 190,160 185,160 z\" fill=\"#497578\" fill-opacity=\"1.0\" id=\"x497578_r73_g117_b120_shape2\"/><path d=\"M 210,145 215,145 215,150 210,150 z\" fill=\"#56878c\" fill-opacity=\"1.0\" id=\"x56878c_r86_g135_b140_shape1\"/><path d=\"M 360,305 360,310 355,310 355,305 z\" fill=\"#56878c\" fill-opacity=\"1.0\" id=\"x56878c_r86_g135_b140_shape2\"/><path d=\"M 219,145 220,145 220,147 220,150 215,150 215,149 215,146 215,145 217,145 z\" fill=\"#568b91\" fill-opacity=\"1.0\" id=\"x568b91_r86_g139_b145_shape1\"/><path d=\"M 355,290 355,285 360,285 360,290 z\" fill=\"#568b91\" fill-opacity=\"1.0\" id=\"x568b91_r86_g139_b145_shape2\"/><path d=\"M 275,145 285,145 285,150 278,150 275,150 275,149 z\" fill=\"#609599\" fill-opacity=\"1.0\" id=\"x609599_r96_g149_b153_shape1\"/><path d=\"M 293,145 295,145 295,146 295,149 295,150 293,150 291,150 290,150 290,148 290,147 290,145 291,145 z\" fill=\"#609397\" fill-opacity=\"1.0\" id=\"x609397_r96_g147_b151_shape1\"/><path d=\"M 299,150 300,150 300,152 300,155 295,155 295,154 295,151 295,150 297,150 z\" fill=\"#609397\" fill-opacity=\"1.0\" id=\"x609397_r96_g147_b151_shape2\"/><path d=\"M 300,150 300,145 305,145 305,150 z\" fill=\"#5b8c93\" fill-opacity=\"1.0\" id=\"x5b8c93_r91_g140_b147_shape1\"/><path d=\"M 310,150 310,155 305,155 305,150 z\" fill=\"#5b8c93\" fill-opacity=\"1.0\" id=\"x5b8c93_r91_g140_b147_shape2\"/><path d=\"M 315,145 315,150 310,150 310,145 z\" fill=\"#507f87\" fill-opacity=\"1.0\" id=\"x507f87_r80_g127_b135_shape1\"/><path d=\"M 375,286 375,285 377,285 380,285 380,290 379,290 376,290 375,290 375,288 z\" fill=\"#507f87\" fill-opacity=\"1.0\" id=\"x507f87_r80_g127_b135_shape2\"/><path d=\"M 180,152 180,150 181,150 184,150 185,150 185,152 185,154 185,155 183,155 182,155 180,155 180,154 z\" fill=\"#3f646a\" fill-opacity=\"1.0\" id=\"x3f646a_r63_g100_b106_shape1\"/><path d=\"M 370,200 375,200 375,205 370,205 z\" fill=\"#3f646a\" fill-opacity=\"1.0\" id=\"x3f646a_r63_g100_b106_shape2\"/><path d=\"M 300,152 300,150 301,150 304,150 305,150 305,152 305,154 305,155 303,155 302,155 300,155 300,154 z\" fill=\"#5e9097\" fill-opacity=\"1.0\" id=\"x5e9097_r94_g144_b151_shape1\"/><path d=\"M 200,301 200,300 202,300 205,300 205,305 204,305 201,305 200,305 200,303 z\" fill=\"#5e9097\" fill-opacity=\"1.0\" id=\"x5e9097_r94_g144_b151_shape2\"/><path d=\"M 195,155 195,160 190,160 190,155 z\" fill=\"#4b7b7f\" fill-opacity=\"1.0\" id=\"x4b7b7f_r75_g123_b127_shape1\"/><path d=\"M 158,310 160,310 160,311 160,314 160,315 158,315 156,315 155,315 155,313 155,312 155,310 156,310 z\" fill=\"#4b7b7f\" fill-opacity=\"1.0\" id=\"x4b7b7f_r75_g123_b127_shape2\"/><path d=\"M 195,155 200,155 200,160 195,160 z\" fill=\"#518185\" fill-opacity=\"1.0\" id=\"x518185_r81_g129_b133_shape1\"/><path d=\"M 160,280 155,280 155,275 160,275 z\" fill=\"#518185\" fill-opacity=\"1.0\" id=\"x518185_r81_g129_b133_shape2\"/><path d=\"M 216,160 215,160 215,158 215,155 220,155 220,156 220,159 220,160 218,160 z\" fill=\"#5b9098\" fill-opacity=\"1.0\" id=\"x5b9098_r91_g144_b152_shape1\"/><path d=\"M 205,175 205,180 200,180 200,175 z\" fill=\"#5b9098\" fill-opacity=\"1.0\" id=\"x5b9098_r91_g144_b152_shape2\"/><path d=\"M 335,160 330,160 330,155 335,155 z\" fill=\"#497278\" fill-opacity=\"1.0\" id=\"x497278_r73_g114_b120_shape1\"/><path d=\"M 175,165 180,165 180,170 175,170 z\" fill=\"#497278\" fill-opacity=\"1.0\" id=\"x497278_r73_g114_b120_shape2\"/><path d=\"M 145,165 145,160 150,160 150,165 z\" fill=\"#030406\" fill-opacity=\"1.0\" id=\"x030406_r3_g4_b6_shape1\"/><path d=\"M 82,240 80,240 80,239 80,236 80,235 82,235 84,235 85,235 85,237 85,238 85,240 84,240 z\" fill=\"#030406\" fill-opacity=\"1.0\" id=\"x030406_r3_g4_b6_shape2\"/><path d=\"M 185,160 185,165 180,165 180,160 z\" fill=\"#49747a\" fill-opacity=\"1.0\" id=\"x49747a_r73_g116_b122_shape1\"/><path d=\"M 150,305 150,310 145,310 145,305 z\" fill=\"#49747a\" fill-opacity=\"1.0\" id=\"x49747a_r73_g116_b122_shape2\"/><path d=\"M 195,165 190,165 190,160 195,160 z\" fill=\"#4f7e84\" fill-opacity=\"1.0\" id=\"x4f7e84_r79_g126_b132_shape1\"/><path d=\"M 157,240 155,240 155,239 155,236 155,235 157,235 159,235 160,235 160,237 160,238 160,240 159,240 z\" fill=\"#4f7e84\" fill-opacity=\"1.0\" id=\"x4f7e84_r79_g126_b132_shape2\"/><path d=\"M 165,165 170,165 170,170 165,170 z\" fill=\"#3d5e63\" fill-opacity=\"1.0\" id=\"x3d5e63_r61_g94_b99_shape1\"/><path d=\"M 125,260 120,260 120,255 125,255 z\" fill=\"#3d5e63\" fill-opacity=\"1.0\" id=\"x3d5e63_r61_g94_b99_shape2\"/><path d=\"M 185,165 190,165 190,170 185,170 z\" fill=\"#4f7f83\" fill-opacity=\"1.0\" id=\"x4f7f83_r79_g127_b131_shape1\"/><path d=\"M 375,304 375,305 373,305 370,305 370,300 371,300 374,300 375,300 375,302 z\" fill=\"#4f7f83\" fill-opacity=\"1.0\" id=\"x4f7f83_r79_g127_b131_shape2\"/><path d=\"M 230,165 230,170 225,170 225,165 z\" fill=\"#62999e\" fill-opacity=\"1.0\" id=\"x62999e_r98_g153_b158_shape1\"/><path d=\"M 210,185 215,185 215,190 210,190 z\" fill=\"#62999e\" fill-opacity=\"1.0\" id=\"x62999e_r98_g153_b158_shape2\"/><path d=\"M 254,170 255,170 255,172 255,175 250,175 250,174 250,171 250,170 252,170 z\" fill=\"#6b9da6\" fill-opacity=\"1.0\" id=\"x6b9da6_r107_g157_b166_shape1\"/><path d=\"M 300,280 300,275 305,275 305,280 z\" fill=\"#6b9da6\" fill-opacity=\"1.0\" id=\"x6b9da6_r107_g157_b166_shape2\"/><path d=\"M 330,170 335,170 335,175 330,175 z\" fill=\"#54848e\" fill-opacity=\"1.0\" id=\"x54848e_r84_g132_b142_shape1\"/><path d=\"M 166,250 165,250 165,248 165,245 170,245 170,246 170,249 170,250 168,250 z\" fill=\"#54848e\" fill-opacity=\"1.0\" id=\"x54848e_r84_g132_b142_shape2\"/><path d=\"M 150,175 155,175 155,180 150,180 z\" fill=\"#3c5961\" fill-opacity=\"1.0\" id=\"x3c5961_r60_g89_b97_shape1\"/><path d=\"M 350,330 345,330 345,325 350,325 z\" fill=\"#3c5961\" fill-opacity=\"1.0\" id=\"x3c5961_r60_g89_b97_shape2\"/><path d=\"M 160,175 160,180 155,180 155,175 z\" fill=\"#395c60\" fill-opacity=\"1.0\" id=\"x395c60_r57_g92_b96_shape1\"/><path d=\"M 130,221 130,220 132,220 135,220 135,225 134,225 131,225 130,225 130,223 z\" fill=\"#395c60\" fill-opacity=\"1.0\" id=\"x395c60_r57_g92_b96_shape2\"/><path d=\"M 185,175 190,175 190,180 185,180 z\" fill=\"#528388\" fill-opacity=\"1.0\" id=\"x528388_r82_g131_b136_shape1\"/><path d=\"M 345,185 340,185 340,180 345,180 z\" fill=\"#528388\" fill-opacity=\"1.0\" id=\"x528388_r82_g131_b136_shape2\"/><path d=\"M 235,175 240,175 240,180 235,180 z\" fill=\"#679ba6\" fill-opacity=\"1.0\" id=\"x679ba6_r103_g155_b166_shape1\"/><path d=\"M 310,193 310,195 309,195 306,195 305,195 305,193 305,191 305,190 307,190 308,190 310,190 310,191 z\" fill=\"#679ba6\" fill-opacity=\"1.0\" id=\"x679ba6_r103_g155_b166_shape2\"/><path d=\"M 335,175 340,175 340,180 335,180 z\" fill=\"#56858d\" fill-opacity=\"1.0\" id=\"x56858d_r86_g133_b141_shape1\"/><path d=\"M 172,305 170,305 170,304 170,301 170,300 172,300 174,300 175,300 175,302 175,303 175,305 174,305 z\" fill=\"#56858d\" fill-opacity=\"1.0\" id=\"x56858d_r86_g133_b141_shape2\"/><path d=\"M 165,185 165,180 170,180 170,185 z\" fill=\"#487078\" fill-opacity=\"1.0\" id=\"x487078_r72_g112_b120_shape1\"/><path d=\"M 160,197 160,195 161,195 164,195 165,195 165,197 165,199 165,200 163,200 162,200 160,200 160,199 z\" fill=\"#487078\" fill-opacity=\"1.0\" id=\"x487078_r72_g112_b120_shape2\"/><path d=\"M 180,185 180,180 185,180 185,185 z\" fill=\"#518287\" fill-opacity=\"1.0\" id=\"x518287_r81_g130_b135_shape1\"/><path d=\"M 160,275 155,275 155,270 160,270 z\" fill=\"#518287\" fill-opacity=\"1.0\" id=\"x518287_r81_g130_b135_shape2\"/><path d=\"M 205,181 205,180 207,180 210,180 210,185 209,185 206,185 205,185 205,183 z\" fill=\"#5f969b\" fill-opacity=\"1.0\" id=\"x5f969b_r95_g150_b155_shape1\"/><path d=\"M 190,255 190,250 195,250 195,255 z\" fill=\"#5f969b\" fill-opacity=\"1.0\" id=\"x5f969b_r95_g150_b155_shape2\"/><path d=\"M 220,184 220,185 218,185 215,185 215,180 216,180 219,180 220,180 220,182 z\" fill=\"#6399a3\" fill-opacity=\"1.0\" id=\"x6399a3_r99_g153_b163_shape1\"/><path d=\"M 330,200 335,200 335,205 330,205 z\" fill=\"#6399a3\" fill-opacity=\"1.0\" id=\"x6399a3_r99_g153_b163_shape2\"/><path d=\"M 223,180 225,180 225,181 225,184 225,185 223,185 221,185 220,185 220,183 220,182 220,180 221,180 z\" fill=\"#649aa4\" fill-opacity=\"1.0\" id=\"x649aa4_r100_g154_b164_shape1\"/><path d=\"M 209,220 210,220 210,222 210,225 205,225 205,224 205,221 205,220 207,220 z\" fill=\"#649aa4\" fill-opacity=\"1.0\" id=\"x649aa4_r100_g154_b164_shape2\"/><path d=\"M 305,185 300,185 300,180 305,180 z\" fill=\"#669da2\" fill-opacity=\"1.0\" id=\"x669da2_r102_g157_b162_shape1\"/><path d=\"M 315,195 310,195 310,190 315,190 z\" fill=\"#669da2\" fill-opacity=\"1.0\" id=\"x669da2_r102_g157_b162_shape2\"/><path d=\"M 331,185 330,185 330,183 330,180 335,180 335,181 335,184 335,185 333,185 z\" fill=\"#598e96\" fill-opacity=\"1.0\" id=\"x598e96_r89_g142_b150_shape1\"/><path d=\"M 350,210 350,215 345,215 345,210 z\" fill=\"#598e96\" fill-opacity=\"1.0\" id=\"x598e96_r89_g142_b150_shape2\"/><path d=\"M 360,180 360,185 355,185 355,180 z\" fill=\"#436a71\" fill-opacity=\"1.0\" id=\"x436a71_r67_g106_b113_shape1\"/><path d=\"M 133,265 135,265 135,266 135,269 135,270 133,270 131,270 130,270 130,268 130,267 130,265 131,265 z\" fill=\"#436a71\" fill-opacity=\"1.0\" id=\"x436a71_r67_g106_b113_shape2\"/><path d=\"M 140,190 140,185 145,185 145,190 z\" fill=\"#334f53\" fill-opacity=\"1.0\" id=\"x334f53_r51_g79_b83_shape1\"/><path d=\"M 395,271 395,270 397,270 400,270 400,275 399,275 396,275 395,275 395,273 z\" fill=\"#334f53\" fill-opacity=\"1.0\" id=\"x334f53_r51_g79_b83_shape2\"/><path d=\"M 170,186 170,185 172,185 175,185 175,190 174,190 171,190 170,190 170,188 z\" fill=\"#4b7a80\" fill-opacity=\"1.0\" id=\"x4b7a80_r75_g122_b128_shape1\"/><path d=\"M 380,253 380,255 379,255 376,255 375,255 375,253 375,251 375,250 377,250 378,250 380,250 380,251 z\" fill=\"#4b7a80\" fill-opacity=\"1.0\" id=\"x4b7a80_r75_g122_b128_shape2\"/><path d=\"M 250,186 250,185 252,185 255,185 255,190 254,190 251,190 250,190 250,188 z\" fill=\"#709fa7\" fill-opacity=\"1.0\" id=\"x709fa7_r112_g159_b167_shape1\"/><path d=\"M 295,275 300,275 300,280 295,280 z\" fill=\"#709fa7\" fill-opacity=\"1.0\" id=\"x709fa7_r112_g159_b167_shape2\"/><path d=\"M 289,185 290,185 290,187 290,190 285,190 285,189 285,186 285,185 287,185 z\" fill=\"#689fa4\" fill-opacity=\"1.0\" id=\"x689fa4_r104_g159_b164_shape1\"/><path d=\"M 300,195 305,195 305,200 300,200 z\" fill=\"#689fa4\" fill-opacity=\"1.0\" id=\"x689fa4_r104_g159_b164_shape2\"/><path d=\"M 365,190 360,190 360,185 365,185 z\" fill=\"#42686b\" fill-opacity=\"1.0\" id=\"x42686b_r66_g104_b107_shape1\"/><path d=\"M 240,355 240,350 245,350 245,355 z\" fill=\"#42686b\" fill-opacity=\"1.0\" id=\"x42686b_r66_g104_b107_shape2\"/><path d=\"M 125,195 120,195 120,190 125,190 z\" fill=\"#010207\" fill-opacity=\"1.0\" id=\"x010207_r1_g2_b7_shape1\"/><path d=\"M 375,320 380,320 380,325 375,325 z\" fill=\"#010207\" fill-opacity=\"1.0\" id=\"x010207_r1_g2_b7_shape2\"/><path d=\"M 135,195 135,190 140,190 140,195 z\" fill=\"#32494f\" fill-opacity=\"1.0\" id=\"x32494f_r50_g73_b79_shape1\"/><path d=\"M 335,351 335,350 337,350 340,350 340,355 339,355 336,355 335,355 335,353 z\" fill=\"#32494f\" fill-opacity=\"1.0\" id=\"x32494f_r50_g73_b79_shape2\"/><path d=\"M 146,195 145,195 145,193 145,190 150,190 150,191 150,194 150,195 148,195 z\" fill=\"#3e5f64\" fill-opacity=\"1.0\" id=\"x3e5f64_r62_g95_b100_shape1\"/><path d=\"M 300,355 300,360 295,360 295,355 z\" fill=\"#3e5f64\" fill-opacity=\"1.0\" id=\"x3e5f64_r62_g95_b100_shape2\"/><path d=\"M 215,190 220,190 220,200 215,200 z\" fill=\"#649aa6\" fill-opacity=\"1.0\" id=\"x649aa6_r100_g154_b166_shape1\"/><path d=\"M 247,195 245,195 245,194 245,191 245,190 247,190 249,190 250,190 250,192 250,193 250,195 249,195 z\" fill=\"#6d9fa8\" fill-opacity=\"1.0\" id=\"x6d9fa8_r109_g159_b168_shape1\"/><path d=\"M 230,211 230,210 232,210 235,210 235,215 234,215 231,215 230,215 230,213 z\" fill=\"#6d9fa8\" fill-opacity=\"1.0\" id=\"x6d9fa8_r109_g159_b168_shape2\"/><path d=\"M 350,190 355,190 355,195 350,195 z\" fill=\"#527f85\" fill-opacity=\"1.0\" id=\"x527f85_r82_g127_b133_shape1\"/><path d=\"M 371,235 370,235 370,233 370,230 375,230 375,231 375,234 375,235 373,235 z\" fill=\"#527f85\" fill-opacity=\"1.0\" id=\"x527f85_r82_g127_b133_shape2\"/><path d=\"M 117,200 115,200 115,199 115,196 115,195 117,195 119,195 120,195 120,197 120,198 120,200 119,200 z\" fill=\"#020609\" fill-opacity=\"1.0\" id=\"x020609_r2_g6_b9_shape1\"/><path d=\"M 90,221 90,220 92,220 95,220 95,225 94,225 91,225 90,225 90,223 z\" fill=\"#020609\" fill-opacity=\"1.0\" id=\"x020609_r2_g6_b9_shape2\"/><path d=\"M 221,200 220,200 220,198 220,195 225,195 225,196 225,199 225,200 223,200 z\" fill=\"#669ca6\" fill-opacity=\"1.0\" id=\"x669ca6_r102_g156_b166_shape1\"/><path d=\"M 215,220 220,220 220,225 215,225 z\" fill=\"#669ca6\" fill-opacity=\"1.0\" id=\"x669ca6_r102_g156_b166_shape2\"/><path d=\"M 225,200 225,195 230,195 230,200 z\" fill=\"#679da7\" fill-opacity=\"1.0\" id=\"x679da7_r103_g157_b167_shape1\"/><path d=\"M 220,215 220,220 215,220 215,215 z\" fill=\"#679da7\" fill-opacity=\"1.0\" id=\"x679da7_r103_g157_b167_shape2\"/><path d=\"M 140,200 145,200 145,205 140,205 z\" fill=\"#3c5f63\" fill-opacity=\"1.0\" id=\"x3c5f63_r60_g95_b99_shape1\"/><path d=\"M 120,267 120,265 121,265 124,265 125,265 125,267 125,269 125,270 123,270 122,270 120,270 120,269 z\" fill=\"#3c5f63\" fill-opacity=\"1.0\" id=\"x3c5f63_r60_g95_b99_shape2\"/><path d=\"M 160,205 155,205 155,200 160,200 z\" fill=\"#497179\" fill-opacity=\"1.0\" id=\"x497179_r73_g113_b121_shape1\"/><path d=\"M 145,230 145,225 150,225 150,230 z\" fill=\"#497179\" fill-opacity=\"1.0\" id=\"x497179_r73_g113_b121_shape2\"/><path d=\"M 180,200 185,200 185,205 180,205 z\" fill=\"#5b888d\" fill-opacity=\"1.0\" id=\"x5b888d_r91_g136_b141_shape1\"/><path d=\"M 200,325 205,325 205,330 200,330 z\" fill=\"#5b888d\" fill-opacity=\"1.0\" id=\"x5b888d_r91_g136_b141_shape2\"/><path d=\"M 150,205 150,210 145,210 145,205 z\" fill=\"#496c72\" fill-opacity=\"1.0\" id=\"x496c72_r73_g108_b114_shape1\"/><path d=\"M 314,335 315,335 315,337 315,340 310,340 310,339 310,336 310,335 312,335 z\" fill=\"#496c72\" fill-opacity=\"1.0\" id=\"x496c72_r73_g108_b114_shape2\"/><path d=\"M 150,210 150,205 155,205 155,210 z\" fill=\"#496e76\" fill-opacity=\"1.0\" id=\"x496e76_r73_g110_b118_shape1\"/><path d=\"M 315,330 320,330 320,335 315,335 z\" fill=\"#496e76\" fill-opacity=\"1.0\" id=\"x496e76_r73_g110_b118_shape2\"/><path d=\"M 175,205 175,210 170,210 170,205 z\" fill=\"#54838d\" fill-opacity=\"1.0\" id=\"x54838d_r84_g131_b141_shape1\"/><path d=\"M 165,240 165,245 160,245 160,240 z\" fill=\"#54838d\" fill-opacity=\"1.0\" id=\"x54838d_r84_g131_b141_shape2\"/><path d=\"M 390,209 390,210 388,210 385,210 385,205 386,205 389,205 390,205 390,207 z\" fill=\"#242f35\" fill-opacity=\"1.0\" id=\"x242f35_r36_g47_b53_shape1\"/><path d=\"M 355,350 355,345 360,345 360,350 z\" fill=\"#242f35\" fill-opacity=\"1.0\" id=\"x242f35_r36_g47_b53_shape2\"/><path d=\"M 105,215 105,210 110,210 110,215 z\" fill=\"#171f22\" fill-opacity=\"1.0\" id=\"x171f22_r23_g31_b34_shape1\"/><path d=\"M 145,344 145,345 143,345 140,345 140,340 141,340 144,340 145,340 145,342 z\" fill=\"#171f22\" fill-opacity=\"1.0\" id=\"x171f22_r23_g31_b34_shape2\"/><path d=\"M 175,220 170,220 170,210 175,210 z\" fill=\"#53838d\" fill-opacity=\"1.0\" id=\"x53838d_r83_g131_b141_shape1\"/><path d=\"M 175,212 175,210 176,210 179,210 180,210 180,212 180,214 180,215 178,215 177,215 175,215 175,214 z\" fill=\"#578791\" fill-opacity=\"1.0\" id=\"x578791_r87_g135_b145_shape1\"/><path d=\"M 165,266 165,265 167,265 170,265 170,270 169,270 166,270 165,270 165,268 z\" fill=\"#578791\" fill-opacity=\"1.0\" id=\"x578791_r87_g135_b145_shape2\"/><path d=\"M 274,210 275,210 275,212 275,215 270,215 270,214 270,211 270,210 272,210 z\" fill=\"#7da9aa\" fill-opacity=\"1.0\" id=\"x7da9aa_r125_g169_b170_shape1\"/><path d=\"M 234,255 235,255 235,257 235,260 230,260 230,259 230,256 230,255 232,255 z\" fill=\"#7da9aa\" fill-opacity=\"1.0\" id=\"x7da9aa_r125_g169_b170_shape2\"/><path d=\"M 280,210 285,210 285,215 280,215 z\" fill=\"#73a6aa\" fill-opacity=\"1.0\" id=\"x73a6aa_r115_g166_b170_shape1\"/><path d=\"M 300,233 300,235 299,235 296,235 295,235 295,233 295,231 295,230 297,230 298,230 300,230 300,231 z\" fill=\"#73a6aa\" fill-opacity=\"1.0\" id=\"x73a6aa_r115_g166_b170_shape2\"/><path d=\"M 360,210 365,210 365,215 360,215 z\" fill=\"#508186\" fill-opacity=\"1.0\" id=\"x508186_r80_g129_b134_shape1\"/><path d=\"M 370,290 375,290 375,295 370,295 z\" fill=\"#508186\" fill-opacity=\"1.0\" id=\"x508186_r80_g129_b134_shape2\"/><path d=\"M 380,213 380,215 379,215 376,215 375,215 375,213 375,211 375,210 377,210 378,210 380,210 380,211 z\" fill=\"#45666d\" fill-opacity=\"1.0\" id=\"x45666d_r69_g102_b109_shape1\"/><path d=\"M 270,355 270,350 275,350 275,355 z\" fill=\"#45666d\" fill-opacity=\"1.0\" id=\"x45666d_r69_g102_b109_shape2\"/><path d=\"M 385,215 385,210 390,210 390,215 z\" fill=\"#24363a\" fill-opacity=\"1.0\" id=\"x24363a_r36_g54_b58_shape1\"/><path d=\"M 395,220 400,220 400,225 395,225 z\" fill=\"#24363a\" fill-opacity=\"1.0\" id=\"x24363a_r36_g54_b58_shape2\"/><path d=\"M 400,210 405,210 405,215 400,215 z\" fill=\"#020106\" fill-opacity=\"1.0\" id=\"x020106_r2_g1_b6_shape1\"/><path d=\"M 410,220 405,220 405,215 410,215 z\" fill=\"#020106\" fill-opacity=\"1.0\" id=\"x020106_r2_g1_b6_shape2\"/><path d=\"M 105,219 105,220 103,220 100,220 100,215 101,215 104,215 105,215 105,217 z\" fill=\"#161d23\" fill-opacity=\"1.0\" id=\"x161d23_r22_g29_b35_shape1\"/><path d=\"M 95,225 95,220 100,220 100,225 z\" fill=\"#161d23\" fill-opacity=\"1.0\" id=\"x161d23_r22_g29_b35_shape2\"/><path d=\"M 125,215 125,220 120,220 120,215 z\" fill=\"#2b4449\" fill-opacity=\"1.0\" id=\"x2b4449_r43_g68_b73_shape1\"/><path d=\"M 117,235 115,235 115,234 115,231 115,230 117,230 119,230 120,230 120,232 120,233 120,235 119,235 z\" fill=\"#2b4449\" fill-opacity=\"1.0\" id=\"x2b4449_r43_g68_b73_shape2\"/><path d=\"M 125,220 125,215 130,215 130,220 z\" fill=\"#325358\" fill-opacity=\"1.0\" id=\"x325358_r50_g83_b88_shape1\"/><path d=\"M 120,294 120,295 118,295 115,295 115,290 116,290 119,290 120,290 120,292 z\" fill=\"#325358\" fill-opacity=\"1.0\" id=\"x325358_r50_g83_b88_shape2\"/><path d=\"M 105,225 100,225 100,220 105,220 z\" fill=\"#152326\" fill-opacity=\"1.0\" id=\"x152326_r21_g35_b38_shape1\"/><path d=\"M 85,240 85,235 90,235 90,240 z\" fill=\"#152326\" fill-opacity=\"1.0\" id=\"x152326_r21_g35_b38_shape2\"/><path d=\"M 110,225 105,225 105,220 110,220 z\" fill=\"#1a292c\" fill-opacity=\"1.0\" id=\"x1a292c_r26_g41_b44_shape1\"/><path d=\"M 105,230 100,230 100,225 105,225 z\" fill=\"#1a292c\" fill-opacity=\"1.0\" id=\"x1a292c_r26_g41_b44_shape2\"/><path d=\"M 260,225 255,225 255,220 260,220 z\" fill=\"#8aadaf\" fill-opacity=\"1.0\" id=\"x8aadaf_r138_g173_b175_shape1\"/><path d=\"M 250,274 250,275 248,275 245,275 245,270 246,270 249,270 250,270 250,272 z\" fill=\"#8aadaf\" fill-opacity=\"1.0\" id=\"x8aadaf_r138_g173_b175_shape2\"/><path d=\"M 385,225 385,220 390,220 390,225 z\" fill=\"#284146\" fill-opacity=\"1.0\" id=\"x284146_r40_g65_b70_shape1\"/><path d=\"M 100,280 100,275 105,275 105,280 z\" fill=\"#284146\" fill-opacity=\"1.0\" id=\"x284146_r40_g65_b70_shape2\"/><path d=\"M 405,223 405,225 404,225 401,225 400,225 400,223 400,221 400,220 402,220 403,220 405,220 405,221 z\" fill=\"#1e3032\" fill-opacity=\"1.0\" id=\"x1e3032_r30_g48_b50_shape1\"/><path d=\"M 96,250 95,250 95,248 95,245 100,245 100,246 100,249 100,250 98,250 z\" fill=\"#1e3032\" fill-opacity=\"1.0\" id=\"x1e3032_r30_g48_b50_shape2\"/><path d=\"M 105,226 105,225 107,225 110,225 110,230 109,230 106,230 105,230 105,228 z\" fill=\"#1b2d2f\" fill-opacity=\"1.0\" id=\"x1b2d2f_r27_g45_b47_shape1\"/><path d=\"M 85,251 85,250 87,250 90,250 90,255 89,255 86,255 85,255 85,253 z\" fill=\"#1b2d2f\" fill-opacity=\"1.0\" id=\"x1b2d2f_r27_g45_b47_shape2\"/><path d=\"M 245,225 250,225 250,230 245,230 z\" fill=\"#88aeaf\" fill-opacity=\"1.0\" id=\"x88aeaf_r136_g174_b175_shape1\"/><path d=\"M 235,237 235,235 236,235 239,235 240,235 240,237 240,239 240,240 238,240 237,240 235,240 235,239 z\" fill=\"#88aeaf\" fill-opacity=\"1.0\" id=\"x88aeaf_r136_g174_b175_shape2\"/><path d=\"M 250,227 250,225 251,225 254,225 255,225 255,227 255,229 255,230 253,230 252,230 250,230 250,229 z\" fill=\"#90aeb0\" fill-opacity=\"1.0\" id=\"x90aeb0_r144_g174_b176_shape1\"/><path d=\"M 280,235 275,235 275,230 280,230 z\" fill=\"#90aeb0\" fill-opacity=\"1.0\" id=\"x90aeb0_r144_g174_b176_shape2\"/><path d=\"M 270,230 260,230 260,225 267,225 270,225 270,226 z\" fill=\"#92aeaf\" fill-opacity=\"1.0\" id=\"x92aeaf_r146_g174_b175_shape1\"/><path d=\"M 280,227 280,225 281,225 284,225 285,225 285,227 285,229 285,230 283,230 282,230 280,230 280,229 z\" fill=\"#82abad\" fill-opacity=\"1.0\" id=\"x82abad_r130_g171_b173_shape1\"/><path d=\"M 245,273 245,275 244,275 241,275 240,275 240,273 240,271 240,270 242,270 243,270 245,270 245,271 z\" fill=\"#82abad\" fill-opacity=\"1.0\" id=\"x82abad_r130_g171_b173_shape2\"/><path d=\"M 295,230 290,230 290,225 295,225 z\" fill=\"#77a8ad\" fill-opacity=\"1.0\" id=\"x77a8ad_r119_g168_b173_shape1\"/><path d=\"M 235,235 230,235 230,230 235,230 z\" fill=\"#77a8ad\" fill-opacity=\"1.0\" id=\"x77a8ad_r119_g168_b173_shape2\"/><path d=\"M 225,230 230,230 230,240 225,240 z\" fill=\"#6fa4aa\" fill-opacity=\"1.0\" id=\"x6fa4aa_r111_g164_b170_shape1\"/><path d=\"M 380,235 380,230 385,230 385,235 z\" fill=\"#4a6b72\" fill-opacity=\"1.0\" id=\"x4a6b72_r74_g107_b114_shape1\"/><path d=\"M 225,335 225,340 220,340 220,335 z\" fill=\"#4a6b72\" fill-opacity=\"1.0\" id=\"x4a6b72_r74_g107_b114_shape2\"/><path d=\"M 390,234 390,235 388,235 385,235 385,230 386,230 389,230 390,230 390,232 z\" fill=\"#2c484c\" fill-opacity=\"1.0\" id=\"x2c484c_r44_g72_b76_shape1\"/><path d=\"M 405,255 410,255 410,260 405,260 z\" fill=\"#2c484c\" fill-opacity=\"1.0\" id=\"x2c484c_r44_g72_b76_shape2\"/><path d=\"M 415,230 415,235 410,235 410,230 z\" fill=\"#233132\" fill-opacity=\"1.0\" id=\"x233132_r35_g49_b50_shape1\"/><path d=\"M 80,260 85,260 85,265 80,265 z\" fill=\"#233132\" fill-opacity=\"1.0\" id=\"x233132_r35_g49_b50_shape2\"/><path d=\"M 90,236 90,235 92,235 95,235 95,240 94,240 91,240 90,240 90,238 z\" fill=\"#19282b\" fill-opacity=\"1.0\" id=\"x19282b_r25_g40_b43_shape1\"/><path d=\"M 85,242 85,240 86,240 89,240 90,240 90,242 90,244 90,245 88,245 87,245 85,245 85,244 z\" fill=\"#19282b\" fill-opacity=\"1.0\" id=\"x19282b_r25_g40_b43_shape2\"/><path d=\"M 120,240 115,240 115,235 120,235 z\" fill=\"#2e4b51\" fill-opacity=\"1.0\" id=\"x2e4b51_r46_g75_b81_shape1\"/><path d=\"M 390,238 390,240 389,240 386,240 385,240 385,238 385,236 385,235 387,235 388,235 390,235 390,236 z\" fill=\"#2e4b51\" fill-opacity=\"1.0\" id=\"x2e4b51_r46_g75_b81_shape2\"/><path d=\"M 125,240 120,240 120,235 125,235 z\" fill=\"#375a60\" fill-opacity=\"1.0\" id=\"x375a60_r55_g90_b96_shape1\"/><path d=\"M 125,300 125,305 120,305 120,300 z\" fill=\"#375a60\" fill-opacity=\"1.0\" id=\"x375a60_r55_g90_b96_shape2\"/><path d=\"M 127,240 125,240 125,239 125,236 125,235 127,235 129,235 130,235 130,237 130,238 130,240 129,240 z\" fill=\"#3a5d61\" fill-opacity=\"1.0\" id=\"x3a5d61_r58_g93_b97_shape1\"/><path d=\"M 125,240 125,245 120,245 120,240 z\" fill=\"#3a5d61\" fill-opacity=\"1.0\" id=\"x3a5d61_r58_g93_b97_shape2\"/><path d=\"M 133,235 135,235 135,236 135,239 135,240 133,240 131,240 130,240 130,238 130,237 130,235 131,235 z\" fill=\"#41646a\" fill-opacity=\"1.0\" id=\"x41646a_r65_g100_b106_shape1\"/><path d=\"M 325,335 325,340 320,340 320,335 z\" fill=\"#41646a\" fill-opacity=\"1.0\" id=\"x41646a_r65_g100_b106_shape2\"/><path d=\"M 150,235 155,235 155,240 150,240 z\" fill=\"#4d7a7f\" fill-opacity=\"1.0\" id=\"x4d7a7f_r77_g122_b127_shape1\"/><path d=\"M 160,319 160,320 158,320 155,320 155,315 156,315 159,315 160,315 160,317 z\" fill=\"#4d7a7f\" fill-opacity=\"1.0\" id=\"x4d7a7f_r77_g122_b127_shape2\"/><path d=\"M 245,237 245,235 246,235 249,235 250,235 250,237 250,239 250,240 248,240 247,240 245,240 245,239 z\" fill=\"#92aeb1\" fill-opacity=\"1.0\" id=\"x92aeb1_r146_g174_b177_shape1\"/><path d=\"M 248,255 250,255 250,256 250,259 250,260 248,260 246,260 245,260 245,258 245,257 245,255 246,255 z\" fill=\"#92aeb1\" fill-opacity=\"1.0\" id=\"x92aeb1_r146_g174_b177_shape2\"/><path d=\"M 250,237 250,235 251,235 254,235 255,235 255,237 255,239 255,240 253,240 252,240 250,240 250,239 z\" fill=\"#99acb2\" fill-opacity=\"1.0\" id=\"x99acb2_r153_g172_b178_shape1\"/><path d=\"M 275,265 280,265 280,270 275,270 z\" fill=\"#99acb2\" fill-opacity=\"1.0\" id=\"x99acb2_r153_g172_b178_shape2\"/><path d=\"M 369,235 370,235 370,237 370,240 365,240 365,239 365,236 365,235 367,235 z\" fill=\"#52848b\" fill-opacity=\"1.0\" id=\"x52848b_r82_g132_b139_shape1\"/><path d=\"M 370,260 370,255 375,255 375,260 z\" fill=\"#52848b\" fill-opacity=\"1.0\" id=\"x52848b_r82_g132_b139_shape2\"/><path d=\"M 380,235 385,235 385,240 380,240 z\" fill=\"#4a6c75\" fill-opacity=\"1.0\" id=\"x4a6c75_r74_g108_b117_shape1\"/><path d=\"M 295,340 300,340 300,345 295,345 z\" fill=\"#4a6c75\" fill-opacity=\"1.0\" id=\"x4a6c75_r74_g108_b117_shape2\"/><path d=\"M 395,240 390,240 390,235 395,235 z\" fill=\"#2b4347\" fill-opacity=\"1.0\" id=\"x2b4347_r43_g67_b71_shape1\"/><path d=\"M 400,240 400,245 395,245 395,240 z\" fill=\"#2b4347\" fill-opacity=\"1.0\" id=\"x2b4347_r43_g67_b71_shape2\"/><path d=\"M 410,240 410,235 415,235 415,240 z\" fill=\"#233738\" fill-opacity=\"1.0\" id=\"x233738_r35_g55_b56_shape1\"/><path d=\"M 95,265 95,270 90,270 90,265 z\" fill=\"#233738\" fill-opacity=\"1.0\" id=\"x233738_r35_g55_b56_shape2\"/><path d=\"M 105,240 110,240 110,245 105,245 z\" fill=\"#213639\" fill-opacity=\"1.0\" id=\"x213639_r33_g54_b57_shape1\"/><path d=\"M 95,255 100,255 100,260 95,260 z\" fill=\"#213639\" fill-opacity=\"1.0\" id=\"x213639_r33_g54_b57_shape2\"/><path d=\"M 115,250 110,250 110,245 110,240 115,240 115,243 z\" fill=\"#294145\" fill-opacity=\"1.0\" id=\"x294145_r41_g65_b69_shape1\"/><path d=\"M 155,245 150,245 150,240 155,240 z\" fill=\"#4e7b80\" fill-opacity=\"1.0\" id=\"x4e7b80_r78_g123_b128_shape1\"/><path d=\"M 155,294 155,295 153,295 150,295 150,290 151,290 154,290 155,290 155,292 z\" fill=\"#4e7b80\" fill-opacity=\"1.0\" id=\"x4e7b80_r78_g123_b128_shape2\"/><path d=\"M 240,250 235,250 235,240 240,240 z\" fill=\"#8cafb1\" fill-opacity=\"1.0\" id=\"x8cafb1_r140_g175_b177_shape1\"/><path d=\"M 390,240 390,245 385,245 385,240 z\" fill=\"#3a595e\" fill-opacity=\"1.0\" id=\"x3a595e_r58_g89_b94_shape1\"/><path d=\"M 345,335 345,340 340,340 340,335 z\" fill=\"#3a595e\" fill-opacity=\"1.0\" id=\"x3a595e_r58_g89_b94_shape2\"/><path d=\"M 85,245 85,250 80,250 80,245 z\" fill=\"#1b2527\" fill-opacity=\"1.0\" id=\"x1b2527_r27_g37_b39_shape1\"/><path d=\"M 141,340 140,340 140,338 140,335 145,335 145,336 145,339 145,340 143,340 z\" fill=\"#1b2527\" fill-opacity=\"1.0\" id=\"x1b2527_r27_g37_b39_shape2\"/><path d=\"M 115,245 120,245 120,250 115,250 z\" fill=\"#355258\" fill-opacity=\"1.0\" id=\"x355258_r53_g82_b88_shape1\"/><path d=\"M 210,358 210,360 209,360 206,360 205,360 205,358 205,356 205,355 207,355 208,355 210,355 210,356 z\" fill=\"#355258\" fill-opacity=\"1.0\" id=\"x355258_r53_g82_b88_shape2\"/><path d=\"M 173,245 175,245 175,246 175,249 175,250 173,250 171,250 170,250 170,248 170,247 170,245 171,245 z\" fill=\"#598993\" fill-opacity=\"1.0\" id=\"x598993_r89_g137_b147_shape1\"/><path d=\"M 175,270 175,275 170,275 170,270 z\" fill=\"#598993\" fill-opacity=\"1.0\" id=\"x598993_r89_g137_b147_shape2\"/><path d=\"M 384,245 385,245 385,247 385,250 380,250 380,249 380,246 380,245 382,245 z\" fill=\"#4b717a\" fill-opacity=\"1.0\" id=\"x4b717a_r75_g113_b122_shape1\"/><path d=\"M 150,315 150,320 145,320 145,315 z\" fill=\"#4b717a\" fill-opacity=\"1.0\" id=\"x4b717a_r75_g113_b122_shape2\"/><path d=\"M 395,248 395,250 394,250 391,250 390,250 390,248 390,246 390,245 392,245 393,245 395,245 395,246 z\" fill=\"#2e4a4d\" fill-opacity=\"1.0\" id=\"x2e4a4d_r46_g74_b77_shape1\"/><path d=\"M 395,252 395,250 396,250 399,250 400,250 400,252 400,254 400,255 398,255 397,255 395,255 395,254 z\" fill=\"#2e4a4d\" fill-opacity=\"1.0\" id=\"x2e4a4d_r46_g74_b77_shape2\"/><path d=\"M 410,249 410,250 408,250 405,250 405,245 406,245 409,245 410,245 410,247 z\" fill=\"#264245\" fill-opacity=\"1.0\" id=\"x264245_r38_g66_b69_shape1\"/><path d=\"M 105,290 105,285 110,285 110,290 z\" fill=\"#264245\" fill-opacity=\"1.0\" id=\"x264245_r38_g66_b69_shape2\"/><path d=\"M 110,250 115,250 115,255 110,255 z\" fill=\"#284145\" fill-opacity=\"1.0\" id=\"x284145_r40_g65_b69_shape1\"/><path d=\"M 105,280 110,280 110,285 105,285 z\" fill=\"#284145\" fill-opacity=\"1.0\" id=\"x284145_r40_g65_b69_shape2\"/><path d=\"M 175,250 180,250 180,255 175,255 z\" fill=\"#588d95\" fill-opacity=\"1.0\" id=\"x588d95_r88_g141_b149_shape1\"/><path d=\"M 180,260 180,265 175,265 175,260 z\" fill=\"#588d95\" fill-opacity=\"1.0\" id=\"x588d95_r88_g141_b149_shape2\"/><path d=\"M 223,250 225,250 225,251 225,254 225,255 223,255 221,255 220,255 220,253 220,252 220,250 221,250 z\" fill=\"#6ea0a7\" fill-opacity=\"1.0\" id=\"x6ea0a7_r110_g160_b167_shape1\"/><path d=\"M 305,251 305,250 307,250 310,250 310,255 309,255 306,255 305,255 305,253 z\" fill=\"#6ea0a7\" fill-opacity=\"1.0\" id=\"x6ea0a7_r110_g160_b167_shape2\"/><path d=\"M 273,250 275,250 275,251 275,254 275,255 273,255 271,255 270,255 270,253 270,252 270,250 271,250 z\" fill=\"#9dafb1\" fill-opacity=\"1.0\" id=\"x9dafb1_r157_g175_b177_shape1\"/><path d=\"M 250,262 250,260 251,260 254,260 255,260 255,262 255,264 255,265 253,265 252,265 250,265 250,264 z\" fill=\"#9dafb1\" fill-opacity=\"1.0\" id=\"x9dafb1_r157_g175_b177_shape2\"/><path d=\"M 385,260 385,250 390,250 390,260 z\" fill=\"#45686e\" fill-opacity=\"1.0\" id=\"x45686e_r69_g104_b110_shape1\"/><path d=\"M 410,255 405,255 405,250 410,250 z\" fill=\"#284447\" fill-opacity=\"1.0\" id=\"x284447_r40_g68_b71_shape1\"/><path d=\"M 109,290 110,290 110,292 110,295 105,295 105,294 105,291 105,290 107,290 z\" fill=\"#284447\" fill-opacity=\"1.0\" id=\"x284447_r40_g68_b71_shape2\"/><path d=\"M 135,255 140,255 140,265 135,265 z\" fill=\"#476e75\" fill-opacity=\"1.0\" id=\"x476e75_r71_g110_b117_shape1\"/><path d=\"M 150,255 150,260 145,260 145,255 z\" fill=\"#4b787e\" fill-opacity=\"1.0\" id=\"x4b787e_r75_g120_b126_shape1\"/><path d=\"M 384,275 385,275 385,277 385,280 380,280 380,279 380,276 380,275 382,275 z\" fill=\"#4b787e\" fill-opacity=\"1.0\" id=\"x4b787e_r75_g120_b126_shape2\"/><path d=\"M 150,265 150,255 155,255 155,262 155,265 154,265 z\" fill=\"#4e7e82\" fill-opacity=\"1.0\" id=\"x4e7e82_r78_g126_b130_shape1\"/><path d=\"M 170,260 165,260 165,255 170,255 z\" fill=\"#55868b\" fill-opacity=\"1.0\" id=\"x55868b_r85_g134_b139_shape1\"/><path d=\"M 361,305 360,305 360,303 360,300 365,300 365,301 365,304 365,305 363,305 z\" fill=\"#55868b\" fill-opacity=\"1.0\" id=\"x55868b_r85_g134_b139_shape2\"/><path d=\"M 225,260 225,255 230,255 230,260 z\" fill=\"#72a5a9\" fill-opacity=\"1.0\" id=\"x72a5a9_r114_g165_b169_shape1\"/><path d=\"M 233,270 235,270 235,271 235,274 235,275 233,275 231,275 230,275 230,273 230,272 230,270 231,270 z\" fill=\"#72a5a9\" fill-opacity=\"1.0\" id=\"x72a5a9_r114_g165_b169_shape2\"/><path d=\"M 255,265 255,255 260,255 260,261 260,265 258,265 z\" fill=\"#9badaf\" fill-opacity=\"1.0\" id=\"x9badaf_r155_g173_b175_shape1\"/><path d=\"M 115,260 120,260 120,265 115,265 z\" fill=\"#38555b\" fill-opacity=\"1.0\" id=\"x38555b_r56_g85_b91_shape1\"/><path d=\"M 180,335 180,340 175,340 175,335 z\" fill=\"#38555b\" fill-opacity=\"1.0\" id=\"x38555b_r56_g85_b91_shape2\"/><path d=\"M 190,260 195,260 195,270 190,270 z\" fill=\"#5d9497\" fill-opacity=\"1.0\" id=\"x5d9497_r93_g148_b151_shape1\"/><path d=\"M 395,270 390,270 390,260 395,260 z\" fill=\"#315055\" fill-opacity=\"1.0\" id=\"x315055_r49_g80_b85_shape1\"/><path d=\"M 405,265 405,260 410,260 410,265 z\" fill=\"#2d494d\" fill-opacity=\"1.0\" id=\"x2d494d_r45_g73_b77_shape1\"/><path d=\"M 110,270 110,265 115,265 115,270 z\" fill=\"#2d494d\" fill-opacity=\"1.0\" id=\"x2d494d_r45_g73_b77_shape2\"/><path d=\"M 245,265 250,265 250,270 245,270 z\" fill=\"#8facb0\" fill-opacity=\"1.0\" id=\"x8facb0_r143_g172_b176_shape1\"/><path d=\"M 270,280 265,280 265,275 270,275 z\" fill=\"#8facb0\" fill-opacity=\"1.0\" id=\"x8facb0_r143_g172_b176_shape2\"/><path d=\"M 390,268 390,270 389,270 386,270 385,270 385,268 385,266 385,265 387,265 388,265 390,265 390,266 z\" fill=\"#46696f\" fill-opacity=\"1.0\" id=\"x46696f_r70_g105_b111_shape1\"/><path d=\"M 320,330 325,330 325,335 320,335 z\" fill=\"#46696f\" fill-opacity=\"1.0\" id=\"x46696f_r70_g105_b111_shape2\"/><path d=\"M 115,275 110,275 110,270 115,270 z\" fill=\"#2b484e\" fill-opacity=\"1.0\" id=\"x2b484e_r43_g72_b78_shape1\"/><path d=\"M 110,282 110,280 111,280 114,280 115,280 115,282 115,284 115,285 113,285 112,285 110,285 110,284 z\" fill=\"#2b484e\" fill-opacity=\"1.0\" id=\"x2b484e_r43_g72_b78_shape2\"/><path d=\"M 125,280 120,280 120,270 125,270 z\" fill=\"#3a5f65\" fill-opacity=\"1.0\" id=\"x3a5f65_r58_g95_b101_shape1\"/><path d=\"M 125,280 125,270 130,270 130,276 130,280 128,280 z\" fill=\"#3f646c\" fill-opacity=\"1.0\" id=\"x3f646c_r63_g100_b108_shape1\"/><path d=\"M 132,275 130,275 130,274 130,271 130,270 132,270 134,270 135,270 135,272 135,273 135,275 134,275 z\" fill=\"#416a70\" fill-opacity=\"1.0\" id=\"x416a70_r65_g106_b112_shape1\"/><path d=\"M 135,285 130,285 130,280 135,280 z\" fill=\"#416a70\" fill-opacity=\"1.0\" id=\"x416a70_r65_g106_b112_shape2\"/><path d=\"M 155,275 150,275 150,270 155,270 z\" fill=\"#507d83\" fill-opacity=\"1.0\" id=\"x507d83_r80_g125_b131_shape1\"/><path d=\"M 380,290 380,295 375,295 375,290 z\" fill=\"#507d83\" fill-opacity=\"1.0\" id=\"x507d83_r80_g125_b131_shape2\"/><path d=\"M 255,270 265,270 265,275 259,275 255,275 255,273 z\" fill=\"#96aeb2\" fill-opacity=\"1.0\" id=\"x96aeb2_r150_g174_b178_shape1\"/><path d=\"M 280,270 285,270 285,275 280,275 z\" fill=\"#87aaae\" fill-opacity=\"1.0\" id=\"x87aaae_r135_g170_b174_shape1\"/><path d=\"M 275,277 275,275 276,275 279,275 280,275 280,277 280,279 280,280 278,280 277,280 275,280 275,279 z\" fill=\"#87aaae\" fill-opacity=\"1.0\" id=\"x87aaae_r135_g170_b174_shape2\"/><path d=\"M 310,270 310,280 305,280 305,270 z\" fill=\"#6c9ca0\" fill-opacity=\"1.0\" id=\"x6c9ca0_r108_g156_b160_shape1\"/><path d=\"M 393,270 395,270 395,271 395,274 395,275 393,275 391,275 390,275 390,273 390,272 390,270 391,270 z\" fill=\"#325156\" fill-opacity=\"1.0\" id=\"x325156_r50_g81_b86_shape1\"/><path d=\"M 116,300 115,300 115,298 115,295 120,295 120,296 120,299 120,300 118,300 z\" fill=\"#325156\" fill-opacity=\"1.0\" id=\"x325156_r50_g81_b86_shape2\"/><path d=\"M 135,280 130,280 130,275 135,275 z\" fill=\"#426b71\" fill-opacity=\"1.0\" id=\"x426b71_r66_g107_b113_shape1\"/><path d=\"M 135,289 135,290 133,290 130,290 130,285 131,285 134,285 135,285 135,287 z\" fill=\"#426b71\" fill-opacity=\"1.0\" id=\"x426b71_r66_g107_b113_shape2\"/><path d=\"M 255,280 255,275 265,275 265,280 z\" fill=\"#8eabaf\" fill-opacity=\"1.0\" id=\"x8eabaf_r142_g171_b175_shape1\"/><path d=\"M 380,285 375,285 375,275 380,275 z\" fill=\"#4f8087\" fill-opacity=\"1.0\" id=\"x4f8087_r79_g128_b135_shape1\"/><path d=\"M 392,280 390,280 390,279 390,276 390,275 392,275 394,275 395,275 395,277 395,278 395,280 394,280 z\" fill=\"#325154\" fill-opacity=\"1.0\" id=\"x325154_r50_g81_b84_shape1\"/><path d=\"M 400,290 395,290 395,285 400,285 z\" fill=\"#325154\" fill-opacity=\"1.0\" id=\"x325154_r50_g81_b84_shape2\"/><path d=\"M 400,275 405,275 405,285 400,285 z\" fill=\"#314e52\" fill-opacity=\"1.0\" id=\"x314e52_r49_g78_b82_shape1\"/><path d=\"M 415,280 415,275 420,275 420,280 z\" fill=\"#000306\" fill-opacity=\"1.0\" id=\"x000306_r0_g3_b6_shape1\"/><path d=\"M 90,280 90,285 85,285 85,280 z\" fill=\"#000306\" fill-opacity=\"1.0\" id=\"x000306_r0_g3_b6_shape2\"/><path d=\"M 125,280 130,280 130,290 125,290 z\" fill=\"#3e636b\" fill-opacity=\"1.0\" id=\"x3e636b_r62_g99_b107_shape1\"/><path d=\"M 285,282 285,280 286,280 289,280 290,280 290,282 290,284 290,285 288,285 287,285 285,285 285,284 z\" fill=\"#7aa0a3\" fill-opacity=\"1.0\" id=\"x7aa0a3_r122_g160_b163_shape1\"/><path d=\"M 285,289 285,290 283,290 280,290 280,285 281,285 284,285 285,285 285,287 z\" fill=\"#7aa0a3\" fill-opacity=\"1.0\" id=\"x7aa0a3_r122_g160_b163_shape2\"/><path d=\"M 305,285 305,280 310,280 310,285 z\" fill=\"#6e9ba0\" fill-opacity=\"1.0\" id=\"x6e9ba0_r110_g155_b160_shape1\"/><path d=\"M 299,285 300,285 300,287 300,290 295,290 295,289 295,286 295,285 297,285 z\" fill=\"#6e9ba0\" fill-opacity=\"1.0\" id=\"x6e9ba0_r110_g155_b160_shape2\"/><path d=\"M 270,285 270,290 265,290 260,290 260,285 263,285 z\" fill=\"#81a0a5\" fill-opacity=\"1.0\" id=\"x81a0a5_r129_g160_b165_shape1\"/><path d=\"M 139,290 140,290 140,292 140,295 135,295 135,294 135,291 135,290 137,290 z\" fill=\"#436e74\" fill-opacity=\"1.0\" id=\"x436e74_r67_g110_b116_shape1\"/><path d=\"M 140,305 135,305 135,300 140,300 z\" fill=\"#436e74\" fill-opacity=\"1.0\" id=\"x436e74_r67_g110_b116_shape2\"/><path d=\"M 145,290 150,290 150,300 145,300 z\" fill=\"#4b767d\" fill-opacity=\"1.0\" id=\"x4b767d_r75_g118_b125_shape1\"/><path d=\"M 265,290 265,295 255,295 255,290 z\" fill=\"#7c9da4\" fill-opacity=\"1.0\" id=\"x7c9da4_r124_g157_b164_shape1\"/><path d=\"M 368,290 370,290 370,291 370,294 370,295 368,295 366,295 365,295 365,293 365,292 365,290 366,290 z\" fill=\"#56868a\" fill-opacity=\"1.0\" id=\"x56868a_r86_g134_b138_shape1\"/><path d=\"M 185,322 185,320 186,320 189,320 190,320 190,322 190,324 190,325 188,325 187,325 185,325 185,324 z\" fill=\"#56868a\" fill-opacity=\"1.0\" id=\"x56868a_r86_g134_b138_shape2\"/><path d=\"M 145,300 140,300 140,295 145,295 z\" fill=\"#477279\" fill-opacity=\"1.0\" id=\"x477279_r71_g114_b121_shape1\"/><path d=\"M 150,313 150,315 149,315 146,315 145,315 145,313 145,311 145,310 147,310 148,310 150,310 150,311 z\" fill=\"#477279\" fill-opacity=\"1.0\" id=\"x477279_r71_g114_b121_shape2\"/><path d=\"M 205,295 210,295 210,300 205,300 z\" fill=\"#609198\" fill-opacity=\"1.0\" id=\"x609198_r96_g145_b152_shape1\"/><path d=\"M 330,300 330,295 335,295 335,300 z\" fill=\"#609198\" fill-opacity=\"1.0\" id=\"x609198_r96_g145_b152_shape2\"/><path d=\"M 216,300 215,300 215,298 215,295 220,295 220,296 220,299 220,300 218,300 z\" fill=\"#639499\" fill-opacity=\"1.0\" id=\"x639499_r99_g148_b153_shape1\"/><path d=\"M 320,295 320,300 315,300 315,295 z\" fill=\"#639499\" fill-opacity=\"1.0\" id=\"x639499_r99_g148_b153_shape2\"/><path d=\"M 280,300 280,295 290,295 290,300 z\" fill=\"#76999f\" fill-opacity=\"1.0\" id=\"x76999f_r118_g153_b159_shape1\"/><path d=\"M 326,300 325,300 325,298 325,295 330,295 330,296 330,299 330,300 328,300 z\" fill=\"#649399\" fill-opacity=\"1.0\" id=\"x649399_r100_g147_b153_shape1\"/><path d=\"M 320,300 320,305 315,305 315,300 z\" fill=\"#649399\" fill-opacity=\"1.0\" id=\"x649399_r100_g147_b153_shape2\"/><path d=\"M 380,300 380,295 385,295 385,300 z\" fill=\"#4d7074\" fill-opacity=\"1.0\" id=\"x4d7074_r77_g112_b116_shape1\"/><path d=\"M 315,335 310,335 310,330 315,330 z\" fill=\"#4d7074\" fill-opacity=\"1.0\" id=\"x4d7074_r77_g112_b116_shape2\"/><path d=\"M 120,304 120,305 118,305 115,305 115,300 116,300 119,300 120,300 120,302 z\" fill=\"#354e55\" fill-opacity=\"1.0\" id=\"x354e55_r53_g78_b85_shape1\"/><path d=\"M 175,340 180,340 180,345 175,345 z\" fill=\"#354e55\" fill-opacity=\"1.0\" id=\"x354e55_r53_g78_b85_shape2\"/><path d=\"M 230,302 230,300 231,300 234,300 235,300 235,302 235,304 235,305 233,305 232,305 230,305 230,304 z\" fill=\"#6a959c\" fill-opacity=\"1.0\" id=\"x6a959c_r106_g149_b156_shape1\"/><path d=\"M 300,305 305,305 305,310 300,310 z\" fill=\"#6a959c\" fill-opacity=\"1.0\" id=\"x6a959c_r106_g149_b156_shape2\"/><path d=\"M 285,305 275,305 275,300 285,300 z\" fill=\"#76979e\" fill-opacity=\"1.0\" id=\"x76979e_r118_g151_b158_shape1\"/><path d=\"M 300,300 310,300 310,305 300,305 z\" fill=\"#6b969c\" fill-opacity=\"1.0\" id=\"x6b969c_r107_g150_b156_shape1\"/><path d=\"M 315,300 315,305 310,305 310,300 z\" fill=\"#68959b\" fill-opacity=\"1.0\" id=\"x68959b_r104_g149_b155_shape1\"/><path d=\"M 235,305 235,310 230,310 230,305 z\" fill=\"#68959b\" fill-opacity=\"1.0\" id=\"x68959b_r104_g149_b155_shape2\"/><path d=\"M 400,305 395,305 395,300 400,300 z\" fill=\"#000205\" fill-opacity=\"1.0\" id=\"x000205_r0_g2_b5_shape1\"/><path d=\"M 360,346 360,345 362,345 365,345 365,350 364,350 361,350 360,350 360,348 z\" fill=\"#000205\" fill-opacity=\"1.0\" id=\"x000205_r0_g2_b5_shape2\"/><path d=\"M 150,305 155,305 155,315 150,315 z\" fill=\"#49797d\" fill-opacity=\"1.0\" id=\"x49797d_r73_g121_b125_shape1\"/><path d=\"M 210,310 205,310 205,305 210,305 z\" fill=\"#5e8f94\" fill-opacity=\"1.0\" id=\"x5e8f94_r94_g143_b148_shape1\"/><path d=\"M 330,310 330,305 335,305 335,310 z\" fill=\"#5e8f94\" fill-opacity=\"1.0\" id=\"x5e8f94_r94_g143_b148_shape2\"/><path d=\"M 230,305 230,310 220,310 220,305 z\" fill=\"#689399\" fill-opacity=\"1.0\" id=\"x689399_r104_g147_b153_shape1\"/><path d=\"M 255,310 250,310 250,305 255,305 z\" fill=\"#77969b\" fill-opacity=\"1.0\" id=\"x77969b_r119_g150_b155_shape1\"/><path d=\"M 275,311 275,310 277,310 280,310 280,315 279,315 276,315 275,315 275,313 z\" fill=\"#77969b\" fill-opacity=\"1.0\" id=\"x77969b_r119_g150_b155_shape2\"/><path d=\"M 255,310 255,305 265,305 265,310 z\" fill=\"#7a969a\" fill-opacity=\"1.0\" id=\"x7a969a_r122_g150_b154_shape1\"/><path d=\"M 320,307 320,305 321,305 324,305 325,305 325,307 325,309 325,310 323,310 322,310 320,310 320,309 z\" fill=\"#659096\" fill-opacity=\"1.0\" id=\"x659096_r101_g144_b150_shape1\"/><path d=\"M 320,315 315,315 315,310 320,310 z\" fill=\"#659096\" fill-opacity=\"1.0\" id=\"x659096_r101_g144_b150_shape2\"/><path d=\"M 330,310 325,310 325,305 330,305 z\" fill=\"#619195\" fill-opacity=\"1.0\" id=\"x619195_r97_g145_b149_shape1\"/><path d=\"M 219,310 220,310 220,312 220,315 215,315 215,314 215,311 215,310 217,310 z\" fill=\"#619195\" fill-opacity=\"1.0\" id=\"x619195_r97_g145_b149_shape2\"/><path d=\"M 133,310 135,310 135,311 135,314 135,315 133,315 131,315 130,315 130,313 130,312 130,310 131,310 z\" fill=\"#44626a\" fill-opacity=\"1.0\" id=\"x44626a_r68_g98_b106_shape1\"/><path d=\"M 200,340 200,335 205,335 205,340 z\" fill=\"#44626a\" fill-opacity=\"1.0\" id=\"x44626a_r68_g98_b106_shape2\"/><path d=\"M 240,310 240,315 235,315 235,310 z\" fill=\"#6c929b\" fill-opacity=\"1.0\" id=\"x6c929b_r108_g146_b155_shape1\"/><path d=\"M 305,314 305,315 303,315 300,315 300,310 301,310 304,310 305,310 305,312 z\" fill=\"#6c929b\" fill-opacity=\"1.0\" id=\"x6c929b_r108_g146_b155_shape2\"/><path d=\"M 310,310 310,315 305,315 305,310 z\" fill=\"#6b9299\" fill-opacity=\"1.0\" id=\"x6b9299_r107_g146_b153_shape1\"/><path d=\"M 235,320 235,315 240,315 240,320 z\" fill=\"#6b9299\" fill-opacity=\"1.0\" id=\"x6b9299_r107_g146_b153_shape2\"/><path d=\"M 321,315 320,315 320,313 320,310 325,310 325,311 325,314 325,315 323,315 z\" fill=\"#638e94\" fill-opacity=\"1.0\" id=\"x638e94_r99_g142_b148_shape1\"/><path d=\"M 220,319 220,320 218,320 215,320 215,315 216,315 219,315 220,315 220,317 z\" fill=\"#638e94\" fill-opacity=\"1.0\" id=\"x638e94_r99_g142_b148_shape2\"/><path d=\"M 330,312 330,310 331,310 334,310 335,310 335,312 335,314 335,315 333,315 332,315 330,315 330,314 z\" fill=\"#5f8f93\" fill-opacity=\"1.0\" id=\"x5f8f93_r95_g143_b147_shape1\"/><path d=\"M 215,320 210,320 210,315 215,315 z\" fill=\"#5f8f93\" fill-opacity=\"1.0\" id=\"x5f8f93_r95_g143_b147_shape2\"/><path d=\"M 342,315 340,315 340,314 340,311 340,310 342,310 344,310 345,310 345,312 345,313 345,315 344,315 z\" fill=\"#598a8f\" fill-opacity=\"1.0\" id=\"x598a8f_r89_g138_b143_shape1\"/><path d=\"M 335,317 335,315 336,315 339,315 340,315 340,317 340,319 340,320 338,320 337,320 335,320 335,319 z\" fill=\"#598a8f\" fill-opacity=\"1.0\" id=\"x598a8f_r89_g138_b143_shape2\"/><path d=\"M 365,310 370,310 370,315 365,315 z\" fill=\"#587d85\" fill-opacity=\"1.0\" id=\"x587d85_r88_g125_b133_shape1\"/><path d=\"M 178,325 180,325 180,326 180,329 180,330 178,330 176,330 175,330 175,328 175,327 175,325 176,325 z\" fill=\"#587d85\" fill-opacity=\"1.0\" id=\"x587d85_r88_g125_b133_shape2\"/><path d=\"M 385,310 385,315 380,315 380,310 z\" fill=\"#000005\" fill-opacity=\"1.0\" id=\"x000005_r0_g0_b5_shape1\"/><path d=\"M 372,335 370,335 370,334 370,331 370,330 372,330 374,330 375,330 375,332 375,333 375,335 374,335 z\" fill=\"#000005\" fill-opacity=\"1.0\" id=\"x000005_r0_g0_b5_shape2\"/><path d=\"M 245,315 250,315 250,320 245,320 z\" fill=\"#709399\" fill-opacity=\"1.0\" id=\"x709399_r112_g147_b153_shape1\"/><path d=\"M 295,315 300,315 300,320 295,320 z\" fill=\"#709399\" fill-opacity=\"1.0\" id=\"x709399_r112_g147_b153_shape2\"/><path d=\"M 258,315 260,315 260,316 260,319 260,320 258,320 256,320 255,320 255,318 255,317 255,315 256,315 z\" fill=\"#779397\" fill-opacity=\"1.0\" id=\"x779397_r119_g147_b151_shape1\"/><path d=\"M 270,315 275,315 275,320 270,320 z\" fill=\"#779397\" fill-opacity=\"1.0\" id=\"x779397_r119_g147_b151_shape2\"/><path d=\"M 290,325 280,325 280,320 287,320 290,320 290,321 z\" fill=\"#7a9296\" fill-opacity=\"1.0\" id=\"x7a9296_r122_g146_b150_shape1\"/><path d=\"M 300,325 295,325 295,320 300,320 z\" fill=\"#6f9095\" fill-opacity=\"1.0\" id=\"x6f9095_r111_g144_b149_shape1\"/><path d=\"M 245,329 245,330 243,330 240,330 240,325 241,325 244,325 245,325 245,327 z\" fill=\"#6f9095\" fill-opacity=\"1.0\" id=\"x6f9095_r111_g144_b149_shape2\"/><path d=\"M 340,320 345,320 345,325 340,325 z\" fill=\"#5f868d\" fill-opacity=\"1.0\" id=\"x5f868d_r95_g134_b141_shape1\"/><path d=\"M 210,330 215,330 215,335 210,335 z\" fill=\"#5f868d\" fill-opacity=\"1.0\" id=\"x5f868d_r95_g134_b141_shape2\"/><path d=\"M 135,325 140,325 140,330 135,330 z\" fill=\"#1f2a30\" fill-opacity=\"1.0\" id=\"x1f2a30_r31_g42_b48_shape1\"/><path d=\"M 155,350 160,350 160,355 155,355 z\" fill=\"#1f2a30\" fill-opacity=\"1.0\" id=\"x1f2a30_r31_g42_b48_shape2\"/><path d=\"M 145,325 145,330 140,330 140,325 z\" fill=\"#24313a\" fill-opacity=\"1.0\" id=\"x24313a_r36_g49_b58_shape1\"/><path d=\"M 365,330 370,330 370,335 365,335 z\" fill=\"#24313a\" fill-opacity=\"1.0\" id=\"x24313a_r36_g49_b58_shape2\"/><path d=\"M 256,330 255,330 255,328 255,325 260,325 260,326 260,329 260,330 258,330 z\" fill=\"#7b8f96\" fill-opacity=\"1.0\" id=\"x7b8f96_r123_g143_b150_shape1\"/><path d=\"M 265,335 260,335 260,330 265,330 z\" fill=\"#7b8f96\" fill-opacity=\"1.0\" id=\"x7b8f96_r123_g143_b150_shape2\"/><path d=\"M 360,325 365,325 365,330 360,330 z\" fill=\"#344b53\" fill-opacity=\"1.0\" id=\"x344b53_r52_g75_b83_shape1\"/><path d=\"M 350,345 345,345 345,340 350,340 z\" fill=\"#344b53\" fill-opacity=\"1.0\" id=\"x344b53_r52_g75_b83_shape2\"/><path d=\"M 336,335 335,335 335,333 335,330 340,330 340,331 340,334 340,335 338,335 z\" fill=\"#405e66\" fill-opacity=\"1.0\" id=\"x405e66_r64_g94_b102_shape1\"/><path d=\"M 207,350 205,350 205,349 205,346 205,345 207,345 209,345 210,345 210,347 210,348 210,350 209,350 z\" fill=\"#405e66\" fill-opacity=\"1.0\" id=\"x405e66_r64_g94_b102_shape2\"/><path d=\"M 355,330 355,335 350,335 350,330 z\" fill=\"#375259\" fill-opacity=\"1.0\" id=\"x375259_r55_g82_b89_shape1\"/><path d=\"M 199,350 200,350 200,352 200,355 195,355 195,354 195,351 195,350 197,350 z\" fill=\"#375259\" fill-opacity=\"1.0\" id=\"x375259_r55_g82_b89_shape2\"/><path d=\"M 150,335 155,335 155,340 150,340 z\" fill=\"#283940\" fill-opacity=\"1.0\" id=\"x283940_r40_g57_b64_shape1\"/><path d=\"M 160,343 160,345 159,345 156,345 155,345 155,343 155,341 155,340 157,340 158,340 160,340 160,341 z\" fill=\"#283940\" fill-opacity=\"1.0\" id=\"x283940_r40_g57_b64_shape2\"/><path d=\"M 225,335 230,335 230,340 225,340 z\" fill=\"#4c6d74\" fill-opacity=\"1.0\" id=\"x4c6d74_r76_g109_b116_shape1\"/><path d=\"M 310,335 310,340 305,340 305,335 z\" fill=\"#4c6d74\" fill-opacity=\"1.0\" id=\"x4c6d74_r76_g109_b116_shape2\"/><path d=\"M 250,335 250,340 240,340 240,335 z\" fill=\"#54727a\" fill-opacity=\"1.0\" id=\"x54727a_r84_g114_b122_shape1\"/><path d=\"M 340,335 340,340 335,340 335,335 z\" fill=\"#405d63\" fill-opacity=\"1.0\" id=\"x405d63_r64_g93_b99_shape1\"/><path d=\"M 215,355 215,350 220,350 220,355 z\" fill=\"#405d63\" fill-opacity=\"1.0\" id=\"x405d63_r64_g93_b99_shape2\"/><path d=\"M 165,345 160,345 160,340 165,340 z\" fill=\"#2c4146\" fill-opacity=\"1.0\" id=\"x2c4146_r44_g65_b70_shape1\"/><path d=\"M 165,345 170,345 170,350 165,350 z\" fill=\"#2c4146\" fill-opacity=\"1.0\" id=\"x2c4146_r44_g65_b70_shape2\"/><path d=\"M 184,340 185,340 185,342 185,345 180,345 180,344 180,341 180,340 182,340 z\" fill=\"#375057\" fill-opacity=\"1.0\" id=\"x375057_r55_g80_b87_shape1\"/><path d=\"M 190,350 195,350 195,355 190,355 z\" fill=\"#375057\" fill-opacity=\"1.0\" id=\"x375057_r55_g80_b87_shape2\"/><path d=\"M 195,340 195,345 190,345 190,340 z\" fill=\"#3d5964\" fill-opacity=\"1.0\" id=\"x3d5964_r61_g89_b100_shape1\"/><path d=\"M 315,355 315,350 320,350 320,355 z\" fill=\"#3d5964\" fill-opacity=\"1.0\" id=\"x3d5964_r61_g89_b100_shape2\"/><path d=\"M 225,340 235,340 235,345 225,345 z\" fill=\"#466b71\" fill-opacity=\"1.0\" id=\"x466b71_r70_g107_b113_shape1\"/><path d=\"M 240,345 240,340 250,340 250,345 z\" fill=\"#4b6e74\" fill-opacity=\"1.0\" id=\"x4b6e74_r75_g110_b116_shape1\"/><path d=\"M 315,345 315,340 320,340 320,345 z\" fill=\"#42636a\" fill-opacity=\"1.0\" id=\"x42636a_r66_g99_b106_shape1\"/><path d=\"M 295,352 295,350 296,350 299,350 300,350 300,352 300,354 300,355 298,355 297,355 295,355 295,354 z\" fill=\"#42636a\" fill-opacity=\"1.0\" id=\"x42636a_r66_g99_b106_shape2\"/><path d=\"M 190,345 195,345 195,350 190,350 z\" fill=\"#39565e\" fill-opacity=\"1.0\" id=\"x39565e_r57_g86_b94_shape1\"/><path d=\"M 310,360 310,355 315,355 315,360 z\" fill=\"#39565e\" fill-opacity=\"1.0\" id=\"x39565e_r57_g86_b94_shape2\"/><path d=\"M 355,348 355,350 354,350 351,350 350,350 350,348 350,346 350,345 352,345 353,345 355,345 355,346 z\" fill=\"#273a40\" fill-opacity=\"1.0\" id=\"x273a40_r39_g58_b64_shape1\"/><path d=\"M 345,350 350,350 350,355 345,355 z\" fill=\"#273a40\" fill-opacity=\"1.0\" id=\"x273a40_r39_g58_b64_shape2\"/><path d=\"M 278,350 280,350 280,351 280,354 280,355 278,355 276,355 275,355 275,353 275,352 275,350 276,350 z\" fill=\"#44656c\" fill-opacity=\"1.0\" id=\"x44656c_r68_g101_b108_shape1\"/><path d=\"M 295,354 295,355 293,355 290,355 290,350 291,350 294,350 295,350 295,352 z\" fill=\"#44656c\" fill-opacity=\"1.0\" id=\"x44656c_r68_g101_b108_shape2\"/><path d=\"M 175,358 175,360 174,360 171,360 170,360 170,358 170,356 170,355 172,355 173,355 175,355 175,356 z\" fill=\"#26393f\" fill-opacity=\"1.0\" id=\"x26393f_r38_g57_b63_shape1\"/><path d=\"M 340,355 345,355 345,360 340,360 z\" fill=\"#26393f\" fill-opacity=\"1.0\" id=\"x26393f_r38_g57_b63_shape2\"/><path d=\"M 185,355 190,355 190,360 185,360 z\" fill=\"#30474d\" fill-opacity=\"1.0\" id=\"x30474d_r48_g71_b77_shape1\"/><path d=\"M 330,360 330,355 335,355 335,360 z\" fill=\"#30474d\" fill-opacity=\"1.0\" id=\"x30474d_r48_g71_b77_shape2\"/><path d=\"M 220,355 225,355 225,360 220,360 z\" fill=\"#3b5a5f\" fill-opacity=\"1.0\" id=\"x3b5a5f_r59_g90_b95_shape1\"/><path d=\"M 305,355 310,355 310,360 305,360 z\" fill=\"#3b5a5f\" fill-opacity=\"1.0\" id=\"x3b5a5f_r59_g90_b95_shape2\"/><path d=\"M 270,360 270,355 275,355 280,355 280,360 277,360 z\" fill=\"#416269\" fill-opacity=\"1.0\" id=\"x416269_r65_g98_b105_shape1\"/><path d=\"M 246,70 245,70 245,68 245,65 250,65 250,66 250,69 250,70 248,70 z\" fill=\"#050507\" fill-opacity=\"1.0\" id=\"x050507_r5_g5_b7_shape1\"/><path d=\"M 250,66 250,65 252,65 255,65 255,70 254,70 251,70 250,70 250,68 z\" fill=\"#1d2625\" fill-opacity=\"1.0\" id=\"x1d2625_r29_g38_b37_shape1\"/><path d=\"M 394,65 395,65 395,67 395,70 390,70 390,69 390,66 390,65 392,65 z\" fill=\"#202020\" fill-opacity=\"1.0\" id=\"x202020_r32_g32_b32_shape1\"/><path d=\"M 245,70 245,75 240,75 240,70 z\" fill=\"#040c0f\" fill-opacity=\"1.0\" id=\"x040c0f_r4_g12_b15_shape1\"/><path d=\"M 245,71 245,70 247,70 250,70 250,75 249,75 246,75 245,75 245,73 z\" fill=\"#375054\" fill-opacity=\"1.0\" id=\"x375054_r55_g80_b84_shape1\"/><path d=\"M 250,75 250,70 255,70 255,75 z\" fill=\"#315553\" fill-opacity=\"1.0\" id=\"x315553_r49_g85_b83_shape1\"/><path d=\"M 258,70 260,70 260,71 260,74 260,75 258,75 256,75 255,75 255,73 255,72 255,70 256,70 z\" fill=\"#131c21\" fill-opacity=\"1.0\" id=\"x131c21_r19_g28_b33_shape1\"/><path d=\"M 265,70 265,75 260,75 260,70 z\" fill=\"#050308\" fill-opacity=\"1.0\" id=\"x050308_r5_g3_b8_shape1\"/><path d=\"M 380,74 380,75 378,75 375,75 375,70 376,70 379,70 380,70 380,72 z\" fill=\"#282828\" fill-opacity=\"1.0\" id=\"x282828_r40_g40_b40_shape1\"/><path d=\"M 380,72 380,70 381,70 384,70 385,70 385,72 385,74 385,75 383,75 382,75 380,75 380,74 z\" fill=\"#232323\" fill-opacity=\"1.0\" id=\"x232323_r35_g35_b35_shape1\"/><path d=\"M 235,80 230,80 230,75 235,75 z\" fill=\"#030305\" fill-opacity=\"1.0\" id=\"x030305_r3_g3_b5_shape1\"/><path d=\"M 237,80 235,80 235,79 235,76 235,75 237,75 239,75 240,75 240,77 240,78 240,80 239,80 z\" fill=\"#101616\" fill-opacity=\"1.0\" id=\"x101616_r16_g22_b22_shape1\"/><path d=\"M 243,75 245,75 245,76 245,79 245,80 243,80 241,80 240,80 240,78 240,77 240,75 241,75 z\" fill=\"#517478\" fill-opacity=\"1.0\" id=\"x517478_r81_g116_b120_shape1\"/><path d=\"M 255,75 255,80 250,80 250,75 z\" fill=\"#659595\" fill-opacity=\"1.0\" id=\"x659595_r101_g149_b149_shape1\"/><path d=\"M 256,80 255,80 255,78 255,75 260,75 260,76 260,79 260,80 258,80 z\" fill=\"#608c8b\" fill-opacity=\"1.0\" id=\"x608c8b_r96_g140_b139_shape1\"/><path d=\"M 261,80 260,80 260,78 260,75 265,75 265,76 265,79 265,80 263,80 z\" fill=\"#202d33\" fill-opacity=\"1.0\" id=\"x202d33_r32_g45_b51_shape1\"/><path d=\"M 380,80 375,80 375,75 380,75 z\" fill=\"#0b0b0b\" fill-opacity=\"1.0\" id=\"x0b0b0b_r11_g11_b11_shape1\"/><path d=\"M 230,85 230,80 235,80 235,85 z\" fill=\"#0f191a\" fill-opacity=\"1.0\" id=\"x0f191a_r15_g25_b26_shape1\"/><path d=\"M 235,85 235,80 240,80 240,85 z\" fill=\"#496c68\" fill-opacity=\"1.0\" id=\"x496c68_r73_g108_b104_shape1\"/><path d=\"M 245,80 245,85 240,85 240,80 z\" fill=\"#7bac99\" fill-opacity=\"1.0\" id=\"x7bac99_r123_g172_b153_shape1\"/><path d=\"M 250,85 245,85 245,80 250,80 z\" fill=\"#8ec4aa\" fill-opacity=\"1.0\" id=\"x8ec4aa_r142_g196_b170_shape1\"/><path d=\"M 255,85 250,85 250,80 255,80 z\" fill=\"#97c5ab\" fill-opacity=\"1.0\" id=\"x97c5ab_r151_g197_b171_shape1\"/><path d=\"M 259,80 260,80 260,82 260,85 255,85 255,84 255,81 255,80 257,80 z\" fill=\"#7aafa9\" fill-opacity=\"1.0\" id=\"x7aafa9_r122_g175_b169_shape1\"/><path d=\"M 260,81 260,80 262,80 265,80 265,85 264,85 261,85 260,85 260,83 z\" fill=\"#658d8f\" fill-opacity=\"1.0\" id=\"x658d8f_r101_g141_b143_shape1\"/><path d=\"M 267,85 265,85 265,84 265,81 265,80 267,80 269,80 270,80 270,82 270,83 270,85 269,85 z\" fill=\"#1e3231\" fill-opacity=\"1.0\" id=\"x1e3231_r30_g50_b49_shape1\"/><path d=\"M 275,84 275,85 273,85 270,85 270,80 271,80 274,80 275,80 275,82 z\" fill=\"#03070a\" fill-opacity=\"1.0\" id=\"x03070a_r3_g7_b10_shape1\"/><path d=\"M 345,85 340,85 340,80 345,80 z\" fill=\"#121212\" fill-opacity=\"1.0\" id=\"x121212_r18_g18_b18_shape1\"/><path d=\"M 369,80 370,80 370,82 370,85 365,85 365,84 365,81 365,80 367,80 z\" fill=\"#060606\" fill-opacity=\"1.0\" id=\"x060606_r6_g6_b6_shape1\"/><path d=\"M 230,90 225,90 225,85 230,85 z\" fill=\"#0d1716\" fill-opacity=\"1.0\" id=\"x0d1716_r13_g23_b22_shape1\"/><path d=\"M 235,90 230,90 230,85 235,85 z\" fill=\"#3a595b\" fill-opacity=\"1.0\" id=\"x3a595b_r58_g89_b91_shape1\"/><path d=\"M 240,90 240,85 245,85 245,90 z\" fill=\"#599596\" fill-opacity=\"1.0\" id=\"x599596_r89_g149_b150_shape1\"/><path d=\"M 250,85 250,90 245,90 245,85 z\" fill=\"#75a7a8\" fill-opacity=\"1.0\" id=\"x75a7a8_r117_g167_b168_shape1\"/><path d=\"M 254,85 255,85 255,87 255,90 250,90 250,89 250,86 250,85 252,85 z\" fill=\"#83afb0\" fill-opacity=\"1.0\" id=\"x83afb0_r131_g175_b176_shape1\"/><path d=\"M 255,90 255,85 260,85 260,90 z\" fill=\"#74a4a6\" fill-opacity=\"1.0\" id=\"x74a4a6_r116_g164_b166_shape1\"/><path d=\"M 268,85 270,85 270,86 270,89 270,90 268,90 266,90 265,90 265,88 265,87 265,85 266,85 z\" fill=\"#51827e\" fill-opacity=\"1.0\" id=\"x51827e_r81_g130_b126_shape1\"/><path d=\"M 270,90 270,85 275,85 275,90 z\" fill=\"#131d1f\" fill-opacity=\"1.0\" id=\"x131d1f_r19_g29_b31_shape1\"/><path d=\"M 335,85 335,90 330,90 330,85 z\" fill=\"#313131\" fill-opacity=\"1.0\" id=\"x313131_r49_g49_b49_shape1\"/><path d=\"M 365,85 365,90 360,90 360,85 z\" fill=\"#050505\" fill-opacity=\"1.0\" id=\"x050505_r5_g5_b5_shape1\"/><path d=\"M 225,90 225,95 220,95 220,90 z\" fill=\"#051111\" fill-opacity=\"1.0\" id=\"x051111_r5_g17_b17_shape1\"/><path d=\"M 225,90 230,90 230,95 225,95 z\" fill=\"#263a3b\" fill-opacity=\"1.0\" id=\"x263a3b_r38_g58_b59_shape1\"/><path d=\"M 230,95 230,90 235,90 235,95 z\" fill=\"#3e6666\" fill-opacity=\"1.0\" id=\"x3e6666_r62_g102_b102_shape1\"/><path d=\"M 235,95 235,90 240,90 240,95 z\" fill=\"#548589\" fill-opacity=\"1.0\" id=\"x548589_r84_g133_b137_shape1\"/><path d=\"M 245,90 245,95 240,95 240,90 z\" fill=\"#659599\" fill-opacity=\"1.0\" id=\"x659599_r101_g149_b153_shape1\"/><path d=\"M 255,90 260,90 260,95 255,95 z\" fill=\"#75a2a5\" fill-opacity=\"1.0\" id=\"x75a2a5_r117_g162_b165_shape1\"/><path d=\"M 269,90 270,90 270,92 270,95 265,95 265,94 265,91 265,90 267,90 z\" fill=\"#568484\" fill-opacity=\"1.0\" id=\"x568484_r86_g132_b132_shape1\"/><path d=\"M 270,90 275,90 275,95 270,95 z\" fill=\"#365557\" fill-opacity=\"1.0\" id=\"x365557_r54_g85_b87_shape1\"/><path d=\"M 275,91 275,90 277,90 280,90 280,95 279,95 276,95 275,95 275,93 z\" fill=\"#172224\" fill-opacity=\"1.0\" id=\"x172224_r23_g34_b36_shape1\"/><path d=\"M 215,97 215,95 216,95 219,95 220,95 220,97 220,99 220,100 218,100 217,100 215,100 215,99 z\" fill=\"#04090d\" fill-opacity=\"1.0\" id=\"x04090d_r4_g9_b13_shape1\"/><path d=\"M 235,95 235,100 230,100 230,95 z\" fill=\"#3a6667\" fill-opacity=\"1.0\" id=\"x3a6667_r58_g102_b103_shape1\"/><path d=\"M 260,98 260,100 259,100 256,100 255,100 255,98 255,96 255,95 257,95 258,95 260,95 260,96 z\" fill=\"#669b9f\" fill-opacity=\"1.0\" id=\"x669b9f_r102_g155_b159_shape1\"/><path d=\"M 265,100 260,100 260,95 265,95 z\" fill=\"#61939a\" fill-opacity=\"1.0\" id=\"x61939a_r97_g147_b154_shape1\"/><path d=\"M 270,100 265,100 265,95 270,95 z\" fill=\"#578489\" fill-opacity=\"1.0\" id=\"x578489_r87_g132_b137_shape1\"/><path d=\"M 275,98 275,100 274,100 271,100 270,100 270,98 270,96 270,95 272,95 273,95 275,95 275,96 z\" fill=\"#36545c\" fill-opacity=\"1.0\" id=\"x36545c_r54_g84_b92_shape1\"/><path d=\"M 280,95 280,100 275,100 275,95 z\" fill=\"#2f4b4e\" fill-opacity=\"1.0\" id=\"x2f4b4e_r47_g75_b78_shape1\"/><path d=\"M 284,95 285,95 285,97 285,100 280,100 280,99 280,96 280,95 282,95 z\" fill=\"#132320\" fill-opacity=\"1.0\" id=\"x132320_r19_g35_b32_shape1\"/><path d=\"M 300,100 295,100 295,95 300,95 z\" fill=\"#262827\" fill-opacity=\"1.0\" id=\"x262827_r38_g40_b39_shape1\"/><path d=\"M 300,100 300,95 305,95 305,100 z\" fill=\"#333132\" fill-opacity=\"1.0\" id=\"x333132_r51_g49_b50_shape1\"/><path d=\"M 215,100 215,105 210,105 210,100 z\" fill=\"#0e1317\" fill-opacity=\"1.0\" id=\"x0e1317_r14_g19_b23_shape1\"/><path d=\"M 224,100 225,100 225,102 225,105 220,105 220,104 220,101 220,100 222,100 z\" fill=\"#2a3d43\" fill-opacity=\"1.0\" id=\"x2a3d43_r42_g61_b67_shape1\"/><path d=\"M 225,105 225,100 230,100 230,105 z\" fill=\"#2d494a\" fill-opacity=\"1.0\" id=\"x2d494a_r45_g73_b74_shape1\"/><path d=\"M 235,105 235,100 240,100 240,105 z\" fill=\"#4b7c83\" fill-opacity=\"1.0\" id=\"x4b7c83_r75_g124_b131_shape1\"/><path d=\"M 245,100 245,105 240,105 240,100 z\" fill=\"#53858c\" fill-opacity=\"1.0\" id=\"x53858c_r83_g133_b140_shape1\"/><path d=\"M 255,105 255,100 260,100 260,105 z\" fill=\"#63939d\" fill-opacity=\"1.0\" id=\"x63939d_r99_g147_b157_shape1\"/><path d=\"M 265,102 265,100 266,100 269,100 270,100 270,102 270,104 270,105 268,105 267,105 265,105 265,104 z\" fill=\"#48787c\" fill-opacity=\"1.0\" id=\"x48787c_r72_g120_b124_shape1\"/><path d=\"M 275,100 275,105 270,105 270,100 z\" fill=\"#3b525a\" fill-opacity=\"1.0\" id=\"x3b525a_r59_g82_b90_shape1\"/><path d=\"M 285,105 280,105 280,100 285,100 z\" fill=\"#374140\" fill-opacity=\"1.0\" id=\"x374140_r55_g65_b64_shape1\"/><path d=\"M 285,105 285,100 290,100 290,105 z\" fill=\"#4e2535\" fill-opacity=\"1.0\" id=\"x4e2535_r78_g37_b53_shape1\"/><path d=\"M 290,100 295,100 295,105 290,105 z\" fill=\"#2c2e2d\" fill-opacity=\"1.0\" id=\"x2c2e2d_r44_g46_b45_shape1\"/><path d=\"M 300,104 300,105 298,105 295,105 295,100 296,100 299,100 300,100 300,102 z\" fill=\"#292826\" fill-opacity=\"1.0\" id=\"x292826_r41_g40_b38_shape1\"/><path d=\"M 300,100 305,100 305,105 300,105 z\" fill=\"#2c2a2d\" fill-opacity=\"1.0\" id=\"x2c2a2d_r44_g42_b45_shape1\"/><path d=\"M 305,105 305,100 310,100 310,105 z\" fill=\"#2d2d2d\" fill-opacity=\"1.0\" id=\"x2d2d2d_r45_g45_b45_shape1\"/><path d=\"M 320,105 320,100 325,100 325,105 z\" fill=\"#1f1f1f\" fill-opacity=\"1.0\" id=\"x1f1f1f_r31_g31_b31_shape1\"/><path d=\"M 205,105 205,110 200,110 200,105 z\" fill=\"#000103\" fill-opacity=\"1.0\" id=\"x000103_r0_g1_b3_shape1\"/><path d=\"M 207,110 205,110 205,109 205,106 205,105 207,105 209,105 210,105 210,107 210,108 210,110 209,110 z\" fill=\"#070f11\" fill-opacity=\"1.0\" id=\"x070f11_r7_g15_b17_shape1\"/><path d=\"M 220,105 220,110 215,110 215,105 z\" fill=\"#284042\" fill-opacity=\"1.0\" id=\"x284042_r40_g64_b66_shape1\"/><path d=\"M 226,110 225,110 225,108 225,105 230,105 230,106 230,109 230,110 228,110 z\" fill=\"#2d4d4c\" fill-opacity=\"1.0\" id=\"x2d4d4c_r45_g77_b76_shape1\"/><path d=\"M 245,105 245,110 240,110 240,105 z\" fill=\"#52777f\" fill-opacity=\"1.0\" id=\"x52777f_r82_g119_b127_shape1\"/><path d=\"M 250,105 250,110 245,110 245,105 z\" fill=\"#597e87\" fill-opacity=\"1.0\" id=\"x597e87_r89_g126_b135_shape1\"/><path d=\"M 255,108 255,110 254,110 251,110 250,110 250,108 250,106 250,105 252,105 253,105 255,105 255,106 z\" fill=\"#5d848b\" fill-opacity=\"1.0\" id=\"x5d848b_r93_g132_b139_shape1\"/><path d=\"M 260,105 260,110 255,110 255,105 z\" fill=\"#5a8483\" fill-opacity=\"1.0\" id=\"x5a8483_r90_g132_b131_shape1\"/><path d=\"M 265,105 265,110 260,110 260,105 z\" fill=\"#677b7c\" fill-opacity=\"1.0\" id=\"x677b7c_r103_g123_b124_shape1\"/><path d=\"M 266,110 265,110 265,108 265,105 270,105 270,106 270,109 270,110 268,110 z\" fill=\"#6e616a\" fill-opacity=\"1.0\" id=\"x6e616a_r110_g97_b106_shape1\"/><path d=\"M 270,105 275,105 275,110 270,110 z\" fill=\"#7e5661\" fill-opacity=\"1.0\" id=\"x7e5661_r126_g86_b97_shape1\"/><path d=\"M 278,105 280,105 280,106 280,109 280,110 278,110 276,110 275,110 275,108 275,107 275,105 276,105 z\" fill=\"#6e303b\" fill-opacity=\"1.0\" id=\"x6e303b_r110_g48_b59_shape1\"/><path d=\"M 280,110 280,105 285,105 285,110 z\" fill=\"#63403e\" fill-opacity=\"1.0\" id=\"x63403e_r99_g64_b62_shape1\"/><path d=\"M 285,110 285,105 290,105 290,110 z\" fill=\"#295439\" fill-opacity=\"1.0\" id=\"x295439_r41_g84_b57_shape1\"/><path d=\"M 294,105 295,105 295,107 295,110 290,110 290,109 290,106 290,105 292,105 z\" fill=\"#2a2e2d\" fill-opacity=\"1.0\" id=\"x2a2e2d_r42_g46_b45_shape1\"/><path d=\"M 295,110 295,105 300,105 300,110 z\" fill=\"#322e2f\" fill-opacity=\"1.0\" id=\"x322e2f_r50_g46_b47_shape1\"/><path d=\"M 301,110 300,110 300,108 300,105 305,105 305,106 305,109 305,110 303,110 z\" fill=\"#2d2d2f\" fill-opacity=\"1.0\" id=\"x2d2d2f_r45_g45_b47_shape1\"/><path d=\"M 195,115 190,115 190,110 195,110 z\" fill=\"#040002\" fill-opacity=\"1.0\" id=\"x040002_r4_g0_b2_shape1\"/><path d=\"M 200,113 200,115 199,115 196,115 195,115 195,113 195,111 195,110 197,110 198,110 200,110 200,111 z\" fill=\"#030002\" fill-opacity=\"1.0\" id=\"x030002_r3_g0_b2_shape1\"/><path d=\"M 200,112 200,110 201,110 204,110 205,110 205,112 205,114 205,115 203,115 202,115 200,115 200,114 z\" fill=\"#03080b\" fill-opacity=\"1.0\" id=\"x03080b_r3_g8_b11_shape1\"/><path d=\"M 210,112 210,110 211,110 214,110 215,110 215,112 215,114 215,115 213,115 212,115 210,115 210,114 z\" fill=\"#25383c\" fill-opacity=\"1.0\" id=\"x25383c_r37_g56_b60_shape1\"/><path d=\"M 215,110 220,110 220,115 215,115 z\" fill=\"#2b4345\" fill-opacity=\"1.0\" id=\"x2b4345_r43_g67_b69_shape1\"/><path d=\"M 223,110 225,110 225,111 225,114 225,115 223,115 221,115 220,115 220,113 220,112 220,110 221,110 z\" fill=\"#2d4b4b\" fill-opacity=\"1.0\" id=\"x2d4b4b_r45_g75_b75_shape1\"/><path d=\"M 230,115 225,115 225,110 230,110 z\" fill=\"#335151\" fill-opacity=\"1.0\" id=\"x335151_r51_g81_b81_shape1\"/><path d=\"M 231,115 230,115 230,113 230,110 235,110 235,111 235,114 235,115 233,115 z\" fill=\"#2e5b56\" fill-opacity=\"1.0\" id=\"x2e5b56_r46_g91_b86_shape1\"/><path d=\"M 240,113 240,115 239,115 236,115 235,115 235,113 235,111 235,110 237,110 238,110 240,110 240,111 z\" fill=\"#3b5a5c\" fill-opacity=\"1.0\" id=\"x3b5a5c_r59_g90_b92_shape1\"/><path d=\"M 240,115 240,110 245,110 245,115 z\" fill=\"#397470\" fill-opacity=\"1.0\" id=\"x397470_r57_g116_b112_shape1\"/><path d=\"M 245,115 245,110 250,110 250,115 z\" fill=\"#4f6d6b\" fill-opacity=\"1.0\" id=\"x4f6d6b_r79_g109_b107_shape1\"/><path d=\"M 250,115 250,110 255,110 255,115 z\" fill=\"#566666\" fill-opacity=\"1.0\" id=\"x566666_r86_g102_b102_shape1\"/><path d=\"M 260,114 260,115 258,115 255,115 255,110 256,110 259,110 260,110 260,112 z\" fill=\"#655e6e\" fill-opacity=\"1.0\" id=\"x655e6e_r101_g94_b110_shape1\"/><path d=\"M 260,115 260,110 265,110 265,115 z\" fill=\"#982858\" fill-opacity=\"1.0\" id=\"x982858_r152_g40_b88_shape1\"/><path d=\"M 270,110 270,115 265,115 265,110 z\" fill=\"#6c4155\" fill-opacity=\"1.0\" id=\"x6c4155_r108_g65_b85_shape1\"/><path d=\"M 275,115 270,115 270,110 275,110 z\" fill=\"#495456\" fill-opacity=\"1.0\" id=\"x495456_r73_g84_b86_shape1\"/><path d=\"M 275,115 275,110 280,110 280,115 z\" fill=\"#3f5352\" fill-opacity=\"1.0\" id=\"x3f5352_r63_g83_b82_shape1\"/><path d=\"M 285,115 280,115 280,110 285,110 z\" fill=\"#464b4e\" fill-opacity=\"1.0\" id=\"x464b4e_r70_g75_b78_shape1\"/><path d=\"M 290,110 290,115 285,115 285,110 z\" fill=\"#3c4c4b\" fill-opacity=\"1.0\" id=\"x3c4c4b_r60_g76_b75_shape1\"/><path d=\"M 290,115 290,110 295,110 295,115 z\" fill=\"#364242\" fill-opacity=\"1.0\" id=\"x364242_r54_g66_b66_shape1\"/><path d=\"M 298,110 300,110 300,111 300,114 300,115 298,115 296,115 295,115 295,113 295,112 295,110 296,110 z\" fill=\"#070f12\" fill-opacity=\"1.0\" id=\"x070f12_r7_g15_b18_shape1\"/><path d=\"M 309,110 310,110 310,112 310,115 305,115 305,114 305,111 305,110 307,110 z\" fill=\"#020001\" fill-opacity=\"1.0\" id=\"x020001_r2_g0_b1_shape1\"/><path d=\"M 195,116 195,115 197,115 200,115 200,120 199,120 196,120 195,120 195,118 z\" fill=\"#040d0c\" fill-opacity=\"1.0\" id=\"x040d0c_r4_g13_b12_shape1\"/><path d=\"M 203,115 205,115 205,116 205,119 205,120 203,120 201,120 200,120 200,118 200,117 200,115 201,115 z\" fill=\"#243233\" fill-opacity=\"1.0\" id=\"x243233_r36_g50_b51_shape1\"/><path d=\"M 210,115 210,120 205,120 205,115 z\" fill=\"#1f3133\" fill-opacity=\"1.0\" id=\"x1f3133_r31_g49_b51_shape1\"/><path d=\"M 211,120 210,120 210,118 210,115 215,115 215,116 215,119 215,120 213,120 z\" fill=\"#273b3c\" fill-opacity=\"1.0\" id=\"x273b3c_r39_g59_b60_shape1\"/><path d=\"M 220,120 215,120 215,115 220,115 z\" fill=\"#244844\" fill-opacity=\"1.0\" id=\"x244844_r36_g72_b68_shape1\"/><path d=\"M 224,115 225,115 225,117 225,120 220,120 220,119 220,116 220,115 222,115 z\" fill=\"#2d4b49\" fill-opacity=\"1.0\" id=\"x2d4b49_r45_g75_b73_shape1\"/><path d=\"M 230,115 230,120 225,120 225,115 z\" fill=\"#2b594f\" fill-opacity=\"1.0\" id=\"x2b594f_r43_g89_b79_shape1\"/><path d=\"M 235,119 235,120 233,120 230,120 230,115 231,115 234,115 235,115 235,117 z\" fill=\"#3b4f50\" fill-opacity=\"1.0\" id=\"x3b4f50_r59_g79_b80_shape1\"/><path d=\"M 238,115 240,115 240,116 240,119 240,120 238,120 236,120 235,120 235,118 235,117 235,115 236,115 z\" fill=\"#805d75\" fill-opacity=\"1.0\" id=\"x805d75_r128_g93_b117_shape1\"/><path d=\"M 242,120 240,120 240,119 240,116 240,115 242,115 244,115 245,115 245,117 245,118 245,120 244,120 z\" fill=\"#6f4a5b\" fill-opacity=\"1.0\" id=\"x6f4a5b_r111_g74_b91_shape1\"/><path d=\"M 250,119 250,120 248,120 245,120 245,115 246,115 249,115 250,115 250,117 z\" fill=\"#5d4d50\" fill-opacity=\"1.0\" id=\"x5d4d50_r93_g77_b80_shape1\"/><path d=\"M 250,120 250,115 255,115 255,120 z\" fill=\"#823a52\" fill-opacity=\"1.0\" id=\"x823a52_r130_g58_b82_shape1\"/><path d=\"M 260,120 255,120 255,115 260,115 z\" fill=\"#4f454e\" fill-opacity=\"1.0\" id=\"x4f454e_r79_g69_b78_shape1\"/><path d=\"M 265,118 265,120 264,120 261,120 260,120 260,118 260,116 260,115 262,115 263,115 265,115 265,116 z\" fill=\"#3a4d4b\" fill-opacity=\"1.0\" id=\"x3a4d4b_r58_g77_b75_shape1\"/><path d=\"M 265,120 265,115 270,115 270,120 z\" fill=\"#3b5049\" fill-opacity=\"1.0\" id=\"x3b5049_r59_g80_b73_shape1\"/><path d=\"M 275,115 275,120 270,120 270,115 z\" fill=\"#3e5358\" fill-opacity=\"1.0\" id=\"x3e5358_r62_g83_b88_shape1\"/><path d=\"M 280,120 275,120 275,115 280,115 z\" fill=\"#3d565a\" fill-opacity=\"1.0\" id=\"x3d565a_r61_g86_b90_shape1\"/><path d=\"M 280,116 280,115 282,115 285,115 285,120 284,120 281,120 280,120 280,118 z\" fill=\"#435259\" fill-opacity=\"1.0\" id=\"x435259_r67_g82_b89_shape1\"/><path d=\"M 290,119 290,120 288,120 285,120 285,115 286,115 289,115 290,115 290,117 z\" fill=\"#395056\" fill-opacity=\"1.0\" id=\"x395056_r57_g80_b86_shape1\"/><path d=\"M 292,120 290,120 290,119 290,116 290,115 292,115 294,115 295,115 295,117 295,118 295,120 294,120 z\" fill=\"#344c4e\" fill-opacity=\"1.0\" id=\"x344c4e_r52_g76_b78_shape1\"/><path d=\"M 299,115 300,115 300,117 300,120 295,120 295,119 295,116 295,115 297,115 z\" fill=\"#2b3e44\" fill-opacity=\"1.0\" id=\"x2b3e44_r43_g62_b68_shape1\"/><path d=\"M 190,125 190,120 195,120 195,125 z\" fill=\"#040809\" fill-opacity=\"1.0\" id=\"x040809_r4_g8_b9_shape1\"/><path d=\"M 195,120 200,120 200,125 195,125 z\" fill=\"#223031\" fill-opacity=\"1.0\" id=\"x223031_r34_g48_b49_shape1\"/><path d=\"M 200,120 205,120 205,125 200,125 z\" fill=\"#23383b\" fill-opacity=\"1.0\" id=\"x23383b_r35_g56_b59_shape1\"/><path d=\"M 209,120 210,120 210,122 210,125 205,125 205,124 205,121 205,120 207,120 z\" fill=\"#253a3b\" fill-opacity=\"1.0\" id=\"x253a3b_r37_g58_b59_shape1\"/><path d=\"M 215,124 215,125 213,125 210,125 210,120 211,120 214,120 215,120 215,122 z\" fill=\"#1d4b41\" fill-opacity=\"1.0\" id=\"x1d4b41_r29_g75_b65_shape1\"/><path d=\"M 218,120 220,120 220,121 220,124 220,125 218,125 216,125 215,125 215,123 215,122 215,120 216,120 z\" fill=\"#2f4c48\" fill-opacity=\"1.0\" id=\"x2f4c48_r47_g76_b72_shape1\"/><path d=\"M 220,122 220,120 221,120 224,120 225,120 225,122 225,124 225,125 223,125 222,125 220,125 220,124 z\" fill=\"#8e4968\" fill-opacity=\"1.0\" id=\"x8e4968_r142_g73_b104_shape1\"/><path d=\"M 225,120 230,120 230,125 225,125 z\" fill=\"#4b4b4b\" fill-opacity=\"1.0\" id=\"x4b4b4b_r75_g75_b75_shape1\"/><path d=\"M 234,120 235,120 235,122 235,125 230,125 230,124 230,121 230,120 232,120 z\" fill=\"#63424b\" fill-opacity=\"1.0\" id=\"x63424b_r99_g66_b75_shape1\"/><path d=\"M 235,125 235,120 240,120 240,125 z\" fill=\"#763c4b\" fill-opacity=\"1.0\" id=\"x763c4b_r118_g60_b75_shape1\"/><path d=\"M 240,120 245,120 245,125 240,125 z\" fill=\"#5d4b61\" fill-opacity=\"1.0\" id=\"x5d4b61_r93_g75_b97_shape1\"/><path d=\"M 250,123 250,125 249,125 246,125 245,125 245,123 245,121 245,120 247,120 248,120 250,120 250,121 z\" fill=\"#4d6565\" fill-opacity=\"1.0\" id=\"x4d6565_r77_g101_b101_shape1\"/><path d=\"M 253,120 255,120 255,121 255,124 255,125 253,125 251,125 250,125 250,123 250,122 250,120 251,120 z\" fill=\"#58635f\" fill-opacity=\"1.0\" id=\"x58635f_r88_g99_b95_shape1\"/><path d=\"M 260,120 260,125 255,125 255,120 z\" fill=\"#4f6d6f\" fill-opacity=\"1.0\" id=\"x4f6d6f_r79_g109_b111_shape1\"/><path d=\"M 260,125 260,120 265,120 265,125 z\" fill=\"#486467\" fill-opacity=\"1.0\" id=\"x486467_r72_g100_b103_shape1\"/><path d=\"M 265,120 270,120 270,125 265,125 z\" fill=\"#376862\" fill-opacity=\"1.0\" id=\"x376862_r55_g104_b98_shape1\"/><path d=\"M 270,122 270,120 271,120 274,120 275,120 275,122 275,124 275,125 273,125 272,125 270,125 270,124 z\" fill=\"#3b5f5f\" fill-opacity=\"1.0\" id=\"x3b5f5f_r59_g95_b95_shape1\"/><path d=\"M 290,125 285,125 285,120 290,120 z\" fill=\"#345759\" fill-opacity=\"1.0\" id=\"x345759_r52_g87_b89_shape1\"/><path d=\"M 295,125 290,125 290,120 295,120 z\" fill=\"#325050\" fill-opacity=\"1.0\" id=\"x325050_r50_g80_b80_shape1\"/><path d=\"M 185,130 185,125 190,125 190,130 z\" fill=\"#070b0a\" fill-opacity=\"1.0\" id=\"x070b0a_r7_g11_b10_shape1\"/><path d=\"M 195,125 195,130 190,130 190,125 z\" fill=\"#202622\" fill-opacity=\"1.0\" id=\"x202622_r32_g38_b34_shape1\"/><path d=\"M 196,130 195,130 195,128 195,125 200,125 200,126 200,129 200,130 198,130 z\" fill=\"#2c3534\" fill-opacity=\"1.0\" id=\"x2c3534_r44_g53_b52_shape1\"/><path d=\"M 205,130 200,130 200,125 205,125 z\" fill=\"#3b3b3d\" fill-opacity=\"1.0\" id=\"x3b3b3d_r59_g59_b61_shape1\"/><path d=\"M 205,125 210,125 210,130 205,130 z\" fill=\"#5a5051\" fill-opacity=\"1.0\" id=\"x5a5051_r90_g80_b81_shape1\"/><path d=\"M 210,130 210,125 215,125 215,130 z\" fill=\"#555057\" fill-opacity=\"1.0\" id=\"x555057_r85_g80_b87_shape1\"/><path d=\"M 220,128 220,130 219,130 216,130 215,130 215,128 215,126 215,125 217,125 218,125 220,125 220,126 z\" fill=\"#6d5867\" fill-opacity=\"1.0\" id=\"x6d5867_r109_g88_b103_shape1\"/><path d=\"M 225,130 220,130 220,125 225,125 z\" fill=\"#9d4369\" fill-opacity=\"1.0\" id=\"x9d4369_r157_g67_b105_shape1\"/><path d=\"M 227,130 225,130 225,129 225,126 225,125 227,125 229,125 230,125 230,127 230,128 230,130 229,130 z\" fill=\"#43766d\" fill-opacity=\"1.0\" id=\"x43766d_r67_g118_b109_shape1\"/><path d=\"M 235,130 230,130 230,125 235,125 z\" fill=\"#55766b\" fill-opacity=\"1.0\" id=\"x55766b_r85_g118_b107_shape1\"/><path d=\"M 238,125 240,125 240,126 240,129 240,130 238,130 236,130 235,130 235,128 235,127 235,125 236,125 z\" fill=\"#5f7463\" fill-opacity=\"1.0\" id=\"x5f7463_r95_g116_b99_shape1\"/><path d=\"M 245,129 245,130 243,130 240,130 240,125 241,125 244,125 245,125 245,127 z\" fill=\"#567d7c\" fill-opacity=\"1.0\" id=\"x567d7c_r86_g125_b124_shape1\"/><path d=\"M 245,126 245,125 247,125 250,125 250,130 249,130 246,130 245,130 245,128 z\" fill=\"#538481\" fill-opacity=\"1.0\" id=\"x538481_r83_g132_b129_shape1\"/><path d=\"M 252,130 250,130 250,129 250,126 250,125 252,125 254,125 255,125 255,127 255,128 255,130 254,130 z\" fill=\"#618287\" fill-opacity=\"1.0\" id=\"x618287_r97_g130_b135_shape1\"/><path d=\"M 257,130 255,130 255,129 255,126 255,125 257,125 259,125 260,125 260,127 260,128 260,130 259,130 z\" fill=\"#5d7f81\" fill-opacity=\"1.0\" id=\"x5d7f81_r93_g127_b129_shape1\"/><path d=\"M 263,125 265,125 265,126 265,129 265,130 263,130 261,130 260,130 260,128 260,127 260,125 261,125 z\" fill=\"#598085\" fill-opacity=\"1.0\" id=\"x598085_r89_g128_b133_shape1\"/><path d=\"M 267,130 265,130 265,129 265,126 265,125 267,125 269,125 270,125 270,127 270,128 270,130 269,130 z\" fill=\"#4f8a88\" fill-opacity=\"1.0\" id=\"x4f8a88_r79_g138_b136_shape1\"/><path d=\"M 275,130 270,130 270,125 275,125 z\" fill=\"#55868a\" fill-opacity=\"1.0\" id=\"x55868a_r85_g134_b138_shape1\"/><path d=\"M 275,125 280,125 280,130 275,130 z\" fill=\"#527f82\" fill-opacity=\"1.0\" id=\"x527f82_r82_g127_b130_shape1\"/><path d=\"M 280,125 285,125 285,130 280,130 z\" fill=\"#4a7c7b\" fill-opacity=\"1.0\" id=\"x4a7c7b_r74_g124_b123_shape1\"/><path d=\"M 290,125 290,130 285,130 285,125 z\" fill=\"#3e6e70\" fill-opacity=\"1.0\" id=\"x3e6e70_r62_g110_b112_shape1\"/><path d=\"M 290,130 290,125 295,125 295,130 z\" fill=\"#315555\" fill-opacity=\"1.0\" id=\"x315555_r49_g85_b85_shape1\"/><path d=\"M 295,125 300,125 300,130 295,130 z\" fill=\"#305254\" fill-opacity=\"1.0\" id=\"x305254_r48_g82_b84_shape1\"/><path d=\"M 302,130 300,130 300,129 300,126 300,125 302,125 304,125 305,125 305,127 305,128 305,130 304,130 z\" fill=\"#294246\" fill-opacity=\"1.0\" id=\"x294246_r41_g66_b70_shape1\"/><path d=\"M 315,130 310,130 310,125 315,125 z\" fill=\"#141e1d\" fill-opacity=\"1.0\" id=\"x141e1d_r20_g30_b29_shape1\"/><path d=\"M 185,135 180,135 180,130 185,130 z\" fill=\"#080403\" fill-opacity=\"1.0\" id=\"x080403_r8_g4_b3_shape1\"/><path d=\"M 190,135 185,135 185,130 190,130 z\" fill=\"#1a1112\" fill-opacity=\"1.0\" id=\"x1a1112_r26_g17_b18_shape1\"/><path d=\"M 195,135 190,135 190,130 195,130 z\" fill=\"#6c4651\" fill-opacity=\"1.0\" id=\"x6c4651_r108_g70_b81_shape1\"/><path d=\"M 200,130 200,135 195,135 195,130 z\" fill=\"#54333c\" fill-opacity=\"1.0\" id=\"x54333c_r84_g51_b60_shape1\"/><path d=\"M 205,130 205,135 200,135 200,130 z\" fill=\"#7b4650\" fill-opacity=\"1.0\" id=\"x7b4650_r123_g70_b80_shape1\"/><path d=\"M 205,130 210,130 210,135 205,135 z\" fill=\"#6b534f\" fill-opacity=\"1.0\" id=\"x6b534f_r107_g83_b79_shape1\"/><path d=\"M 215,130 215,135 210,135 210,130 z\" fill=\"#64616a\" fill-opacity=\"1.0\" id=\"x64616a_r100_g97_b106_shape1\"/><path d=\"M 215,135 215,130 220,130 220,135 z\" fill=\"#516d70\" fill-opacity=\"1.0\" id=\"x516d70_r81_g109_b112_shape1\"/><path d=\"M 220,130 225,130 225,135 220,135 z\" fill=\"#5c7077\" fill-opacity=\"1.0\" id=\"x5c7077_r92_g112_b119_shape1\"/><path d=\"M 230,134 230,135 228,135 225,135 225,130 226,130 229,130 230,130 230,132 z\" fill=\"#508386\" fill-opacity=\"1.0\" id=\"x508386_r80_g131_b134_shape1\"/><path d=\"M 260,133 260,135 259,135 256,135 255,135 255,133 255,131 255,130 257,130 258,130 260,130 260,131 z\" fill=\"#5b8b8f\" fill-opacity=\"1.0\" id=\"x5b8b8f_r91_g139_b143_shape1\"/><path d=\"M 260,135 260,130 265,130 265,135 z\" fill=\"#5a8d90\" fill-opacity=\"1.0\" id=\"x5a8d90_r90_g141_b144_shape1\"/><path d=\"M 265,131 265,130 267,130 270,130 270,135 269,135 266,135 265,135 265,133 z\" fill=\"#598f91\" fill-opacity=\"1.0\" id=\"x598f91_r89_g143_b145_shape1\"/><path d=\"M 270,131 270,130 272,130 275,130 275,135 274,135 271,135 270,135 270,133 z\" fill=\"#568b8f\" fill-opacity=\"1.0\" id=\"x568b8f_r86_g139_b143_shape1\"/><path d=\"M 280,135 280,130 285,130 285,135 z\" fill=\"#52898c\" fill-opacity=\"1.0\" id=\"x52898c_r82_g137_b140_shape1\"/><path d=\"M 296,135 295,135 295,133 295,130 300,130 300,131 300,134 300,135 298,135 z\" fill=\"#4a7677\" fill-opacity=\"1.0\" id=\"x4a7677_r74_g118_b119_shape1\"/><path d=\"M 301,135 300,135 300,133 300,130 305,130 305,131 305,134 305,135 303,135 z\" fill=\"#3d5c5e\" fill-opacity=\"1.0\" id=\"x3d5c5e_r61_g92_b94_shape1\"/><path d=\"M 315,135 315,130 320,130 320,135 z\" fill=\"#0c1719\" fill-opacity=\"1.0\" id=\"x0c1719_r12_g23_b25_shape1\"/><path d=\"M 170,137 170,135 171,135 174,135 175,135 175,137 175,139 175,140 173,140 172,140 170,140 170,139 z\" fill=\"#161012\" fill-opacity=\"1.0\" id=\"x161012_r22_g16_b18_shape1\"/><path d=\"M 180,135 180,140 175,140 175,135 z\" fill=\"#531a2d\" fill-opacity=\"1.0\" id=\"x531a2d_r83_g26_b45_shape1\"/><path d=\"M 185,135 185,140 180,140 180,135 z\" fill=\"#7d1e3e\" fill-opacity=\"1.0\" id=\"x7d1e3e_r125_g30_b62_shape1\"/><path d=\"M 190,140 185,140 185,135 190,135 z\" fill=\"#873452\" fill-opacity=\"1.0\" id=\"x873452_r135_g52_b82_shape1\"/><path d=\"M 190,135 195,135 195,140 190,140 z\" fill=\"#565052\" fill-opacity=\"1.0\" id=\"x565052_r86_g80_b82_shape1\"/><path d=\"M 200,135 200,140 195,140 195,135 z\" fill=\"#4f645b\" fill-opacity=\"1.0\" id=\"x4f645b_r79_g100_b91_shape1\"/><path d=\"M 205,135 205,140 200,140 200,135 z\" fill=\"#526a6c\" fill-opacity=\"1.0\" id=\"x526a6c_r82_g106_b108_shape1\"/><path d=\"M 205,137 205,135 206,135 209,135 210,135 210,137 210,139 210,140 208,140 207,140 205,140 205,139 z\" fill=\"#4c7571\" fill-opacity=\"1.0\" id=\"x4c7571_r76_g117_b113_shape1\"/><path d=\"M 215,135 215,140 210,140 210,135 z\" fill=\"#567881\" fill-opacity=\"1.0\" id=\"x567881_r86_g120_b129_shape1\"/><path d=\"M 218,135 220,135 220,136 220,139 220,140 218,140 216,140 215,140 215,138 215,137 215,135 216,135 z\" fill=\"#557e84\" fill-opacity=\"1.0\" id=\"x557e84_r85_g126_b132_shape1\"/><path d=\"M 240,135 240,140 235,140 235,135 z\" fill=\"#618d96\" fill-opacity=\"1.0\" id=\"x618d96_r97_g141_b150_shape1\"/><path d=\"M 295,135 295,140 290,140 290,135 z\" fill=\"#54898d\" fill-opacity=\"1.0\" id=\"x54898d_r84_g137_b141_shape1\"/><path d=\"M 295,140 295,135 300,135 300,140 z\" fill=\"#518183\" fill-opacity=\"1.0\" id=\"x518183_r81_g129_b131_shape1\"/><path d=\"M 305,135 305,140 300,140 300,135 z\" fill=\"#51797b\" fill-opacity=\"1.0\" id=\"x51797b_r81_g121_b123_shape1\"/><path d=\"M 305,137 305,135 306,135 309,135 310,135 310,137 310,139 310,140 308,140 307,140 305,140 305,139 z\" fill=\"#557476\" fill-opacity=\"1.0\" id=\"x557476_r85_g116_b118_shape1\"/><path d=\"M 165,145 160,145 160,140 165,140 z\" fill=\"#110c10\" fill-opacity=\"1.0\" id=\"x110c10_r17_g12_b16_shape1\"/><path d=\"M 169,140 170,140 170,142 170,145 165,145 165,144 165,141 165,140 167,140 z\" fill=\"#262628\" fill-opacity=\"1.0\" id=\"x262628_r38_g38_b40_shape1\"/><path d=\"M 175,145 170,145 170,140 175,140 z\" fill=\"#282629\" fill-opacity=\"1.0\" id=\"x282629_r40_g38_b41_shape1\"/><path d=\"M 178,140 180,140 180,141 180,144 180,145 178,145 176,145 175,145 175,143 175,142 175,140 176,140 z\" fill=\"#2d423d\" fill-opacity=\"1.0\" id=\"x2d423d_r45_g66_b61_shape1\"/><path d=\"M 183,140 185,140 185,141 185,144 185,145 183,145 181,145 180,145 180,143 180,142 180,140 181,140 z\" fill=\"#414c4e\" fill-opacity=\"1.0\" id=\"x414c4e_r65_g76_b78_shape1\"/><path d=\"M 190,145 185,145 185,140 190,140 z\" fill=\"#46605f\" fill-opacity=\"1.0\" id=\"x46605f_r70_g96_b95_shape1\"/><path d=\"M 190,145 190,140 195,140 195,145 z\" fill=\"#426a6c\" fill-opacity=\"1.0\" id=\"x426a6c_r66_g106_b108_shape1\"/><path d=\"M 200,145 195,145 195,140 200,140 z\" fill=\"#49726a\" fill-opacity=\"1.0\" id=\"x49726a_r73_g114_b106_shape1\"/><path d=\"M 205,140 205,145 200,145 200,140 z\" fill=\"#52737c\" fill-opacity=\"1.0\" id=\"x52737c_r82_g115_b124_shape1\"/><path d=\"M 210,145 205,145 205,140 210,140 z\" fill=\"#53797a\" fill-opacity=\"1.0\" id=\"x53797a_r83_g121_b122_shape1\"/><path d=\"M 213,140 215,140 215,141 215,144 215,145 213,145 211,145 210,145 210,143 210,142 210,140 211,140 z\" fill=\"#548187\" fill-opacity=\"1.0\" id=\"x548187_r84_g129_b135_shape1\"/><path d=\"M 220,143 220,145 219,145 216,145 215,145 215,143 215,141 215,140 217,140 218,140 220,140 220,141 z\" fill=\"#5a878c\" fill-opacity=\"1.0\" id=\"x5a878c_r90_g135_b140_shape1\"/><path d=\"M 240,145 235,145 235,140 240,140 z\" fill=\"#5b9299\" fill-opacity=\"1.0\" id=\"x5b9299_r91_g146_b153_shape1\"/><path d=\"M 245,142 245,140 246,140 249,140 250,140 250,142 250,144 250,145 248,145 247,145 245,145 245,144 z\" fill=\"#60929d\" fill-opacity=\"1.0\" id=\"x60929d_r96_g146_b157_shape1\"/><path d=\"M 255,145 250,145 250,140 255,140 z\" fill=\"#5d919c\" fill-opacity=\"1.0\" id=\"x5d919c_r93_g145_b156_shape1\"/><path d=\"M 265,140 265,145 260,145 260,140 z\" fill=\"#5f9498\" fill-opacity=\"1.0\" id=\"x5f9498_r95_g148_b152_shape1\"/><path d=\"M 270,145 265,145 265,140 270,140 z\" fill=\"#619498\" fill-opacity=\"1.0\" id=\"x619498_r97_g148_b152_shape1\"/><path d=\"M 280,140 280,145 275,145 275,140 z\" fill=\"#5d9296\" fill-opacity=\"1.0\" id=\"x5d9296_r93_g146_b150_shape1\"/><path d=\"M 310,142 310,140 311,140 314,140 315,140 315,142 315,144 315,145 313,145 312,145 310,145 310,144 z\" fill=\"#4a7176\" fill-opacity=\"1.0\" id=\"x4a7176_r74_g113_b118_shape1\"/><path d=\"M 319,140 320,140 320,142 320,145 315,145 315,144 315,141 315,140 317,140 z\" fill=\"#446a6b\" fill-opacity=\"1.0\" id=\"x446a6b_r68_g106_b107_shape1\"/><path d=\"M 325,140 325,145 320,145 320,140 z\" fill=\"#284847\" fill-opacity=\"1.0\" id=\"x284847_r40_g72_b71_shape1\"/><path d=\"M 325,140 330,140 330,145 325,145 z\" fill=\"#050f0e\" fill-opacity=\"1.0\" id=\"x050f0e_r5_g15_b14_shape1\"/><path d=\"M 145,145 150,145 150,150 145,150 z\" fill=\"#0f110e\" fill-opacity=\"1.0\" id=\"x0f110e_r15_g17_b14_shape1\"/><path d=\"M 155,145 155,150 150,150 150,145 z\" fill=\"#292728\" fill-opacity=\"1.0\" id=\"x292728_r41_g39_b40_shape1\"/><path d=\"M 157,150 155,150 155,149 155,146 155,145 157,145 159,145 160,145 160,147 160,148 160,150 159,150 z\" fill=\"#2a2529\" fill-opacity=\"1.0\" id=\"x2a2529_r42_g37_b41_shape1\"/><path d=\"M 165,145 165,150 160,150 160,145 z\" fill=\"#24272e\" fill-opacity=\"1.0\" id=\"x24272e_r36_g39_b46_shape1\"/><path d=\"M 166,150 165,150 165,148 165,145 170,145 170,146 170,149 170,150 168,150 z\" fill=\"#222931\" fill-opacity=\"1.0\" id=\"x222931_r34_g41_b49_shape1\"/><path d=\"M 175,149 175,150 173,150 170,150 170,145 171,145 174,145 175,145 175,147 z\" fill=\"#304244\" fill-opacity=\"1.0\" id=\"x304244_r48_g66_b68_shape1\"/><path d=\"M 182,150 180,150 180,149 180,146 180,145 182,145 184,145 185,145 185,147 185,148 185,150 184,150 z\" fill=\"#325f5c\" fill-opacity=\"1.0\" id=\"x325f5c_r50_g95_b92_shape1\"/><path d=\"M 189,145 190,145 190,147 190,150 185,150 185,149 185,146 185,145 187,145 z\" fill=\"#3d656d\" fill-opacity=\"1.0\" id=\"x3d656d_r61_g101_b109_shape1\"/><path d=\"M 200,146 200,145 202,145 205,145 205,150 204,150 201,150 200,150 200,148 z\" fill=\"#4b7b7d\" fill-opacity=\"1.0\" id=\"x4b7b7d_r75_g123_b125_shape1\"/><path d=\"M 305,145 310,145 310,150 305,150 z\" fill=\"#55858f\" fill-opacity=\"1.0\" id=\"x55858f_r85_g133_b143_shape1\"/><path d=\"M 315,145 320,145 320,150 315,150 z\" fill=\"#4a797f\" fill-opacity=\"1.0\" id=\"x4a797f_r74_g121_b127_shape1\"/><path d=\"M 320,145 325,145 325,150 320,150 z\" fill=\"#436b6d\" fill-opacity=\"1.0\" id=\"x436b6d_r67_g107_b109_shape1\"/><path d=\"M 334,145 335,145 335,147 335,150 330,150 330,149 330,146 330,145 332,145 z\" fill=\"#000b09\" fill-opacity=\"1.0\" id=\"x000b09_r0_g11_b9_shape1\"/><path d=\"M 155,155 150,155 150,150 155,150 z\" fill=\"#1a1819\" fill-opacity=\"1.0\" id=\"x1a1819_r26_g24_b25_shape1\"/><path d=\"M 155,150 160,150 160,155 155,155 z\" fill=\"#0a0a0c\" fill-opacity=\"1.0\" id=\"x0a0a0c_r10_g10_b12_shape1\"/><path d=\"M 165,155 160,155 160,150 165,150 z\" fill=\"#111119\" fill-opacity=\"1.0\" id=\"x111119_r17_g17_b25_shape1\"/><path d=\"M 165,155 165,150 170,150 170,155 z\" fill=\"#2f3a40\" fill-opacity=\"1.0\" id=\"x2f3a40_r47_g58_b64_shape1\"/><path d=\"M 170,152 170,150 171,150 174,150 175,150 175,152 175,154 175,155 173,155 172,155 170,155 170,154 z\" fill=\"#375152\" fill-opacity=\"1.0\" id=\"x375152_r55_g81_b82_shape1\"/><path d=\"M 180,150 180,155 175,155 175,150 z\" fill=\"#3e5d60\" fill-opacity=\"1.0\" id=\"x3e5d60_r62_g93_b96_shape1\"/><path d=\"M 195,155 190,155 190,150 195,150 z\" fill=\"#487379\" fill-opacity=\"1.0\" id=\"x487379_r72_g115_b121_shape1\"/><path d=\"M 199,150 200,150 200,152 200,155 195,155 195,154 195,151 195,150 197,150 z\" fill=\"#4f7b7e\" fill-opacity=\"1.0\" id=\"x4f7b7e_r79_g123_b126_shape1\"/><path d=\"M 322,155 320,155 320,154 320,151 320,150 322,150 324,150 325,150 325,152 325,153 325,155 324,155 z\" fill=\"#497a81\" fill-opacity=\"1.0\" id=\"x497a81_r73_g122_b129_shape1\"/><path d=\"M 325,151 325,150 327,150 330,150 330,155 329,155 326,155 325,155 325,153 z\" fill=\"#466f73\" fill-opacity=\"1.0\" id=\"x466f73_r70_g111_b115_shape1\"/><path d=\"M 330,151 330,150 332,150 335,150 335,155 334,155 331,155 330,155 330,153 z\" fill=\"#446061\" fill-opacity=\"1.0\" id=\"x446061_r68_g96_b97_shape1\"/><path d=\"M 335,155 335,150 340,150 340,155 z\" fill=\"#0b1514\" fill-opacity=\"1.0\" id=\"x0b1514_r11_g21_b20_shape1\"/><path d=\"M 155,160 155,155 160,155 160,160 z\" fill=\"#010705\" fill-opacity=\"1.0\" id=\"x010705_r1_g7_b5_shape1\"/><path d=\"M 164,155 165,155 165,157 165,160 160,160 160,159 160,156 160,155 162,155 z\" fill=\"#2b4041\" fill-opacity=\"1.0\" id=\"x2b4041_r43_g64_b65_shape1\"/><path d=\"M 175,160 170,160 170,155 175,155 z\" fill=\"#335b5a\" fill-opacity=\"1.0\" id=\"x335b5a_r51_g91_b90_shape1\"/><path d=\"M 175,160 175,155 180,155 180,160 z\" fill=\"#3c6567\" fill-opacity=\"1.0\" id=\"x3c6567_r60_g101_b103_shape1\"/><path d=\"M 180,160 180,155 185,155 185,160 z\" fill=\"#436e75\" fill-opacity=\"1.0\" id=\"x436e75_r67_g110_b117_shape1\"/><path d=\"M 300,155 300,160 295,160 295,155 z\" fill=\"#63969a\" fill-opacity=\"1.0\" id=\"x63969a_r99_g150_b154_shape1\"/><path d=\"M 310,155 310,160 305,160 305,155 z\" fill=\"#5c9396\" fill-opacity=\"1.0\" id=\"x5c9396_r92_g147_b150_shape1\"/><path d=\"M 325,155 325,160 320,160 320,155 z\" fill=\"#51818b\" fill-opacity=\"1.0\" id=\"x51818b_r81_g129_b139_shape1\"/><path d=\"M 325,155 330,155 330,160 325,160 z\" fill=\"#497b82\" fill-opacity=\"1.0\" id=\"x497b82_r73_g123_b130_shape1\"/><path d=\"M 337,160 335,160 335,159 335,156 335,155 337,155 339,155 340,155 340,157 340,158 340,160 339,160 z\" fill=\"#3d5f60\" fill-opacity=\"1.0\" id=\"x3d5f60_r61_g95_b96_shape1\"/><path d=\"M 340,160 340,155 345,155 345,160 z\" fill=\"#152121\" fill-opacity=\"1.0\" id=\"x152121_r21_g33_b33_shape1\"/><path d=\"M 110,165 105,165 105,160 110,160 z\" fill=\"#151515\" fill-opacity=\"1.0\" id=\"x151515_r21_g21_b21_shape1\"/><path d=\"M 120,163 120,165 119,165 116,165 115,165 115,163 115,161 115,160 117,160 118,160 120,160 120,161 z\" fill=\"#1d1d1d\" fill-opacity=\"1.0\" id=\"x1d1d1d_r29_g29_b29_shape1\"/><path d=\"M 154,160 155,160 155,162 155,165 150,165 150,164 150,161 150,160 152,160 z\" fill=\"#4f5551\" fill-opacity=\"1.0\" id=\"x4f5551_r79_g85_b81_shape1\"/><path d=\"M 160,165 155,165 155,160 160,160 z\" fill=\"#2d3d3d\" fill-opacity=\"1.0\" id=\"x2d3d3d_r45_g61_b61_shape1\"/><path d=\"M 160,165 160,160 165,160 165,165 z\" fill=\"#384c4d\" fill-opacity=\"1.0\" id=\"x384c4d_r56_g76_b77_shape1\"/><path d=\"M 166,165 165,165 165,163 165,160 170,160 170,161 170,164 170,165 168,165 z\" fill=\"#3d5b5d\" fill-opacity=\"1.0\" id=\"x3d5b5d_r61_g91_b93_shape1\"/><path d=\"M 175,160 175,165 170,165 170,160 z\" fill=\"#3e6467\" fill-opacity=\"1.0\" id=\"x3e6467_r62_g100_b103_shape1\"/><path d=\"M 196,165 195,165 195,163 195,160 200,160 200,161 200,164 200,165 198,165 z\" fill=\"#558589\" fill-opacity=\"1.0\" id=\"x558589_r85_g133_b137_shape1\"/><path d=\"M 201,165 200,165 200,163 200,160 205,160 205,161 205,164 205,165 203,165 z\" fill=\"#57888d\" fill-opacity=\"1.0\" id=\"x57888d_r87_g136_b141_shape1\"/><path d=\"M 210,165 205,165 205,160 210,160 z\" fill=\"#598995\" fill-opacity=\"1.0\" id=\"x598995_r89_g137_b149_shape1\"/><path d=\"M 271,165 270,165 270,163 270,160 275,160 275,161 275,164 275,165 273,165 z\" fill=\"#689aa1\" fill-opacity=\"1.0\" id=\"x689aa1_r104_g154_b161_shape1\"/><path d=\"M 310,165 305,165 305,160 310,160 z\" fill=\"#5d979b\" fill-opacity=\"1.0\" id=\"x5d979b_r93_g151_b155_shape1\"/><path d=\"M 310,165 310,160 315,160 315,165 z\" fill=\"#5a9196\" fill-opacity=\"1.0\" id=\"x5a9196_r90_g145_b150_shape1\"/><path d=\"M 330,163 330,165 329,165 326,165 325,165 325,163 325,161 325,160 327,160 328,160 330,160 330,161 z\" fill=\"#50828b\" fill-opacity=\"1.0\" id=\"x50828b_r80_g130_b139_shape1\"/><path d=\"M 330,165 330,160 335,160 335,165 z\" fill=\"#487980\" fill-opacity=\"1.0\" id=\"x487980_r72_g121_b128_shape1\"/><path d=\"M 340,163 340,165 339,165 336,165 335,165 335,163 335,161 335,160 337,160 338,160 340,160 340,161 z\" fill=\"#487173\" fill-opacity=\"1.0\" id=\"x487173_r72_g113_b115_shape1\"/><path d=\"M 345,165 340,165 340,160 345,160 z\" fill=\"#405c5f\" fill-opacity=\"1.0\" id=\"x405c5f_r64_g92_b95_shape1\"/><path d=\"M 350,160 350,165 345,165 345,160 z\" fill=\"#475651\" fill-opacity=\"1.0\" id=\"x475651_r71_g86_b81_shape1\"/><path d=\"M 100,165 105,165 105,170 100,170 z\" fill=\"#0c0c0c\" fill-opacity=\"1.0\" id=\"x0c0c0c_r12_g12_b12_shape1\"/><path d=\"M 145,170 145,165 150,165 150,170 z\" fill=\"#000300\" fill-opacity=\"1.0\" id=\"x000300_r0_g3_b0_shape1\"/><path d=\"M 150,165 155,165 155,170 150,170 z\" fill=\"#324041\" fill-opacity=\"1.0\" id=\"x324041_r50_g64_b65_shape1\"/><path d=\"M 158,165 160,165 160,166 160,169 160,170 158,170 156,170 155,170 155,168 155,167 155,165 156,165 z\" fill=\"#384e4c\" fill-opacity=\"1.0\" id=\"x384e4c_r56_g78_b76_shape1\"/><path d=\"M 160,165 165,165 165,170 160,170 z\" fill=\"#3b5758\" fill-opacity=\"1.0\" id=\"x3b5758_r59_g87_b88_shape1\"/><path d=\"M 185,165 185,170 180,170 180,165 z\" fill=\"#4a777c\" fill-opacity=\"1.0\" id=\"x4a777c_r74_g119_b124_shape1\"/><path d=\"M 314,165 315,165 315,167 315,170 310,170 310,169 310,166 310,165 312,165 z\" fill=\"#5f969d\" fill-opacity=\"1.0\" id=\"x5f969d_r95_g150_b157_shape1\"/><path d=\"M 315,165 320,165 320,170 315,170 z\" fill=\"#5c9398\" fill-opacity=\"1.0\" id=\"x5c9398_r92_g147_b152_shape1\"/><path d=\"M 340,170 335,170 335,165 340,165 z\" fill=\"#477a7e\" fill-opacity=\"1.0\" id=\"x477a7e_r71_g122_b126_shape1\"/><path d=\"M 345,170 340,170 340,165 345,165 z\" fill=\"#436e77\" fill-opacity=\"1.0\" id=\"x436e77_r67_g110_b119_shape1\"/><path d=\"M 345,170 345,165 350,165 350,170 z\" fill=\"#3c5c59\" fill-opacity=\"1.0\" id=\"x3c5c59_r60_g92_b89_shape1\"/><path d=\"M 350,165 355,165 355,170 350,170 z\" fill=\"#0c1713\" fill-opacity=\"1.0\" id=\"x0c1713_r12_g23_b19_shape1\"/><path d=\"M 85,170 85,175 80,175 80,170 z\" fill=\"#0d0d0d\" fill-opacity=\"1.0\" id=\"x0d0d0d_r13_g13_b13_shape1\"/><path d=\"M 140,171 140,170 142,170 145,170 145,175 144,175 141,175 140,175 140,173 z\" fill=\"#070b0c\" fill-opacity=\"1.0\" id=\"x070b0c_r7_g11_b12_shape1\"/><path d=\"M 150,170 150,175 145,175 145,170 z\" fill=\"#798a77\" fill-opacity=\"1.0\" id=\"x798a77_r121_g138_b119_shape1\"/><path d=\"M 150,170 155,170 155,175 150,175 z\" fill=\"#31494d\" fill-opacity=\"1.0\" id=\"x31494d_r49_g73_b77_shape1\"/><path d=\"M 155,175 155,170 160,170 160,175 z\" fill=\"#3a5755\" fill-opacity=\"1.0\" id=\"x3a5755_r58_g87_b85_shape1\"/><path d=\"M 165,170 170,170 170,175 165,175 z\" fill=\"#3f666b\" fill-opacity=\"1.0\" id=\"x3f666b_r63_g102_b107_shape1\"/><path d=\"M 175,175 175,170 180,170 180,175 z\" fill=\"#49767b\" fill-opacity=\"1.0\" id=\"x49767b_r73_g118_b123_shape1\"/><path d=\"M 184,170 185,170 185,172 185,175 180,175 180,174 180,171 180,170 182,170 z\" fill=\"#4d7d81\" fill-opacity=\"1.0\" id=\"x4d7d81_r77_g125_b129_shape1\"/><path d=\"M 195,175 195,170 200,170 200,175 z\" fill=\"#5a898f\" fill-opacity=\"1.0\" id=\"x5a898f_r90_g137_b143_shape1\"/><path d=\"M 315,175 310,175 310,170 315,170 z\" fill=\"#5f989f\" fill-opacity=\"1.0\" id=\"x5f989f_r95_g152_b159_shape1\"/><path d=\"M 323,170 325,170 325,171 325,174 325,175 323,175 321,175 320,175 320,173 320,172 320,170 321,170 z\" fill=\"#5a9198\" fill-opacity=\"1.0\" id=\"x5a9198_r90_g145_b152_shape1\"/><path d=\"M 336,175 335,175 335,173 335,170 340,170 340,171 340,174 340,175 338,175 z\" fill=\"#4f7f89\" fill-opacity=\"1.0\" id=\"x4f7f89_r79_g127_b137_shape1\"/><path d=\"M 340,170 345,170 345,175 340,175 z\" fill=\"#497880\" fill-opacity=\"1.0\" id=\"x497880_r73_g120_b128_shape1\"/><path d=\"M 345,170 350,170 350,175 345,175 z\" fill=\"#46706e\" fill-opacity=\"1.0\" id=\"x46706e_r70_g112_b110_shape1\"/><path d=\"M 350,175 350,170 355,170 355,175 z\" fill=\"#718e8c\" fill-opacity=\"1.0\" id=\"x718e8c_r113_g142_b140_shape1\"/><path d=\"M 360,170 360,175 355,175 355,170 z\" fill=\"#061212\" fill-opacity=\"1.0\" id=\"x061212_r6_g18_b18_shape1\"/><path d=\"M 140,175 140,180 135,180 135,175 z\" fill=\"#090c11\" fill-opacity=\"1.0\" id=\"x090c11_r9_g12_b17_shape1\"/><path d=\"M 145,179 145,180 143,180 140,180 140,175 141,175 144,175 145,175 145,177 z\" fill=\"#253036\" fill-opacity=\"1.0\" id=\"x253036_r37_g48_b54_shape1\"/><path d=\"M 145,180 145,175 150,175 150,180 z\" fill=\"#5c7758\" fill-opacity=\"1.0\" id=\"x5c7758_r92_g119_b88_shape1\"/><path d=\"M 165,175 165,180 160,180 160,175 z\" fill=\"#406669\" fill-opacity=\"1.0\" id=\"x406669_r64_g102_b105_shape1\"/><path d=\"M 175,178 175,180 174,180 171,180 170,180 170,178 170,176 170,175 172,175 173,175 175,175 175,176 z\" fill=\"#467378\" fill-opacity=\"1.0\" id=\"x467378_r70_g115_b120_shape1\"/><path d=\"M 180,179 180,180 178,180 175,180 175,175 176,175 179,175 180,175 180,177 z\" fill=\"#497a7e\" fill-opacity=\"1.0\" id=\"x497a7e_r73_g122_b126_shape1\"/><path d=\"M 180,177 180,175 181,175 184,175 185,175 185,177 185,179 185,180 183,180 182,180 180,180 180,179 z\" fill=\"#4e7f84\" fill-opacity=\"1.0\" id=\"x4e7f84_r78_g127_b132_shape1\"/><path d=\"M 210,179 210,180 208,180 205,180 205,175 206,175 209,175 210,175 210,177 z\" fill=\"#5e929d\" fill-opacity=\"1.0\" id=\"x5e929d_r94_g146_b157_shape1\"/><path d=\"M 220,175 225,175 225,180 220,180 z\" fill=\"#659a9e\" fill-opacity=\"1.0\" id=\"x659a9e_r101_g154_b158_shape1\"/><path d=\"M 320,175 320,180 315,180 315,175 z\" fill=\"#5e979e\" fill-opacity=\"1.0\" id=\"x5e979e_r94_g151_b158_shape1\"/><path d=\"M 325,175 325,180 320,180 320,175 z\" fill=\"#5a939a\" fill-opacity=\"1.0\" id=\"x5a939a_r90_g147_b154_shape1\"/><path d=\"M 345,175 350,175 350,180 345,180 z\" fill=\"#4e7f7b\" fill-opacity=\"1.0\" id=\"x4e7f7b_r78_g127_b123_shape1\"/><path d=\"M 350,175 355,175 355,180 350,180 z\" fill=\"#77a286\" fill-opacity=\"1.0\" id=\"x77a286_r119_g162_b134_shape1\"/><path d=\"M 355,180 355,175 360,175 360,180 z\" fill=\"#446064\" fill-opacity=\"1.0\" id=\"x446064_r68_g96_b100_shape1\"/><path d=\"M 135,185 130,185 130,180 135,180 z\" fill=\"#080d10\" fill-opacity=\"1.0\" id=\"x080d10_r8_g13_b16_shape1\"/><path d=\"M 136,185 135,185 135,183 135,180 140,180 140,181 140,184 140,185 138,185 z\" fill=\"#202b2f\" fill-opacity=\"1.0\" id=\"x202b2f_r32_g43_b47_shape1\"/><path d=\"M 150,180 150,185 145,185 145,180 z\" fill=\"#3b5856\" fill-opacity=\"1.0\" id=\"x3b5856_r59_g88_b86_shape1\"/><path d=\"M 152,185 150,185 150,184 150,181 150,180 152,180 154,180 155,180 155,182 155,183 155,185 154,185 z\" fill=\"#375d48\" fill-opacity=\"1.0\" id=\"x375d48_r55_g93_b72_shape1\"/><path d=\"M 155,180 160,180 160,185 155,185 z\" fill=\"#3c6263\" fill-opacity=\"1.0\" id=\"x3c6263_r60_g98_b99_shape1\"/><path d=\"M 170,185 170,180 175,180 175,185 z\" fill=\"#4b787b\" fill-opacity=\"1.0\" id=\"x4b787b_r75_g120_b123_shape1\"/><path d=\"M 285,185 285,180 290,180 290,185 z\" fill=\"#689ea8\" fill-opacity=\"1.0\" id=\"x689ea8_r104_g158_b168_shape1\"/><path d=\"M 295,180 300,180 300,185 295,185 z\" fill=\"#679ea3\" fill-opacity=\"1.0\" id=\"x679ea3_r103_g158_b163_shape1\"/><path d=\"M 325,184 325,185 323,185 320,185 320,180 321,180 324,180 325,180 325,182 z\" fill=\"#5d969d\" fill-opacity=\"1.0\" id=\"x5d969d_r93_g150_b157_shape1\"/><path d=\"M 330,180 330,185 325,185 325,180 z\" fill=\"#599299\" fill-opacity=\"1.0\" id=\"x599299_r89_g146_b153_shape1\"/><path d=\"M 335,182 335,180 336,180 339,180 340,180 340,182 340,184 340,185 338,185 337,185 335,185 335,184 z\" fill=\"#58898d\" fill-opacity=\"1.0\" id=\"x58898d_r88_g137_b141_shape1\"/><path d=\"M 346,185 345,185 345,183 345,180 350,180 350,181 350,184 350,185 348,185 z\" fill=\"#467974\" fill-opacity=\"1.0\" id=\"x467974_r70_g121_b116_shape1\"/><path d=\"M 353,180 355,180 355,181 355,184 355,185 353,185 351,185 350,185 350,183 350,182 350,180 351,180 z\" fill=\"#447466\" fill-opacity=\"1.0\" id=\"x447466_r68_g116_b102_shape1\"/><path d=\"M 365,185 360,185 360,180 365,180 z\" fill=\"#37545a\" fill-opacity=\"1.0\" id=\"x37545a_r55_g84_b90_shape1\"/><path d=\"M 365,181 365,180 367,180 370,180 370,185 369,185 366,185 365,185 365,183 z\" fill=\"#0d1d1d\" fill-opacity=\"1.0\" id=\"x0d1d1d_r13_g29_b29_shape1\"/><path d=\"M 125,190 125,185 130,185 130,190 z\" fill=\"#02050a\" fill-opacity=\"1.0\" id=\"x02050a_r2_g5_b10_shape1\"/><path d=\"M 135,190 130,190 130,185 135,185 z\" fill=\"#182629\" fill-opacity=\"1.0\" id=\"x182629_r24_g38_b41_shape1\"/><path d=\"M 135,186 135,185 137,185 140,185 140,190 139,190 136,190 135,190 135,188 z\" fill=\"#2d4044\" fill-opacity=\"1.0\" id=\"x2d4044_r45_g64_b68_shape1\"/><path d=\"M 150,189 150,190 148,190 145,190 145,185 146,185 149,185 150,185 150,187 z\" fill=\"#3d595d\" fill-opacity=\"1.0\" id=\"x3d595d_r61_g89_b93_shape1\"/><path d=\"M 151,190 150,190 150,188 150,185 155,185 155,186 155,189 155,190 153,190 z\" fill=\"#3f6160\" fill-opacity=\"1.0\" id=\"x3f6160_r63_g97_b96_shape1\"/><path d=\"M 160,185 160,190 155,190 155,185 z\" fill=\"#638a75\" fill-opacity=\"1.0\" id=\"x638a75_r99_g138_b117_shape1\"/><path d=\"M 161,190 160,190 160,188 160,185 165,185 165,186 165,189 165,190 163,190 z\" fill=\"#4c7273\" fill-opacity=\"1.0\" id=\"x4c7273_r76_g114_b115_shape1\"/><path d=\"M 180,186 180,185 182,185 185,185 185,190 184,190 181,190 180,190 180,188 z\" fill=\"#53848b\" fill-opacity=\"1.0\" id=\"x53848b_r83_g132_b139_shape1\"/><path d=\"M 185,185 190,185 190,190 185,190 z\" fill=\"#59888e\" fill-opacity=\"1.0\" id=\"x59888e_r89_g136_b142_shape1\"/><path d=\"M 210,189 210,190 208,190 205,190 205,185 206,185 209,185 210,185 210,187 z\" fill=\"#60979a\" fill-opacity=\"1.0\" id=\"x60979a_r96_g151_b154_shape1\"/><path d=\"M 250,185 250,190 245,190 245,185 z\" fill=\"#6c9ea7\" fill-opacity=\"1.0\" id=\"x6c9ea7_r108_g158_b167_shape1\"/><path d=\"M 285,185 285,190 280,190 280,185 z\" fill=\"#69a0a5\" fill-opacity=\"1.0\" id=\"x69a0a5_r105_g160_b165_shape1\"/><path d=\"M 325,185 330,185 330,190 325,190 z\" fill=\"#5e949e\" fill-opacity=\"1.0\" id=\"x5e949e_r94_g148_b158_shape1\"/><path d=\"M 345,185 345,190 340,190 340,185 z\" fill=\"#61948f\" fill-opacity=\"1.0\" id=\"x61948f_r97_g148_b143_shape1\"/><path d=\"M 345,190 345,185 350,185 350,190 z\" fill=\"#497e74\" fill-opacity=\"1.0\" id=\"x497e74_r73_g126_b116_shape1\"/><path d=\"M 355,189 355,190 353,190 350,190 350,185 351,185 354,185 355,185 355,187 z\" fill=\"#4e7c79\" fill-opacity=\"1.0\" id=\"x4e7c79_r78_g124_b121_shape1\"/><path d=\"M 360,188 360,190 359,190 356,190 355,190 355,188 355,186 355,185 357,185 358,185 360,185 360,186 z\" fill=\"#477170\" fill-opacity=\"1.0\" id=\"x477170_r71_g113_b112_shape1\"/><path d=\"M 368,185 370,185 370,186 370,189 370,190 368,190 366,190 365,190 365,188 365,187 365,185 366,185 z\" fill=\"#253e42\" fill-opacity=\"1.0\" id=\"x253e42_r37_g62_b66_shape1\"/><path d=\"M 375,189 375,190 373,190 370,190 370,185 371,185 374,185 375,185 375,187 z\" fill=\"#091217\" fill-opacity=\"1.0\" id=\"x091217_r9_g18_b23_shape1\"/><path d=\"M 125,192 125,190 126,190 129,190 130,190 130,192 130,194 130,195 128,195 127,195 125,195 125,194 z\" fill=\"#172226\" fill-opacity=\"1.0\" id=\"x172226_r23_g34_b38_shape1\"/><path d=\"M 135,194 135,195 133,195 130,195 130,190 131,190 134,190 135,190 135,192 z\" fill=\"#26393d\" fill-opacity=\"1.0\" id=\"x26393d_r38_g57_b61_shape1\"/><path d=\"M 140,190 145,190 145,195 140,195 z\" fill=\"#39565a\" fill-opacity=\"1.0\" id=\"x39565a_r57_g86_b90_shape1\"/><path d=\"M 160,190 160,195 155,195 155,190 z\" fill=\"#456c71\" fill-opacity=\"1.0\" id=\"x456c71_r69_g108_b113_shape1\"/><path d=\"M 165,190 165,195 160,195 160,190 z\" fill=\"#47706c\" fill-opacity=\"1.0\" id=\"x47706c_r71_g112_b108_shape1\"/><path d=\"M 165,190 170,190 170,195 165,195 z\" fill=\"#4a7a62\" fill-opacity=\"1.0\" id=\"x4a7a62_r74_g122_b98_shape1\"/><path d=\"M 173,190 175,190 175,191 175,194 175,195 173,195 171,195 170,195 170,193 170,192 170,190 171,190 z\" fill=\"#50817e\" fill-opacity=\"1.0\" id=\"x50817e_r80_g129_b126_shape1\"/><path d=\"M 192,195 190,195 190,194 190,191 190,190 192,190 194,190 195,190 195,192 195,193 195,195 194,195 z\" fill=\"#5a8a94\" fill-opacity=\"1.0\" id=\"x5a8a94_r90_g138_b148_shape1\"/><path d=\"M 198,190 200,190 200,191 200,194 200,195 198,195 196,195 195,195 195,193 195,192 195,190 196,190 z\" fill=\"#5c909b\" fill-opacity=\"1.0\" id=\"x5c909b_r92_g144_b155_shape1\"/><path d=\"M 200,195 200,190 205,190 205,195 z\" fill=\"#5e9697\" fill-opacity=\"1.0\" id=\"x5e9697_r94_g150_b151_shape1\"/><path d=\"M 205,190 210,190 210,195 205,195 z\" fill=\"#5e9899\" fill-opacity=\"1.0\" id=\"x5e9899_r94_g152_b153_shape1\"/><path d=\"M 215,190 215,195 210,195 210,190 z\" fill=\"#6197a1\" fill-opacity=\"1.0\" id=\"x6197a1_r97_g151_b161_shape1\"/><path d=\"M 225,194 225,195 223,195 220,195 220,190 221,190 224,190 225,190 225,192 z\" fill=\"#669ba9\" fill-opacity=\"1.0\" id=\"x669ba9_r102_g155_b169_shape1\"/><path d=\"M 234,190 235,190 235,192 235,195 230,195 230,194 230,191 230,190 232,190 z\" fill=\"#6a9ca7\" fill-opacity=\"1.0\" id=\"x6a9ca7_r106_g156_b167_shape1\"/><path d=\"M 250,190 255,190 255,195 250,195 z\" fill=\"#6fa0a5\" fill-opacity=\"1.0\" id=\"x6fa0a5_r111_g160_b165_shape1\"/><path d=\"M 260,190 260,195 255,195 255,190 z\" fill=\"#71a1a1\" fill-opacity=\"1.0\" id=\"x71a1a1_r113_g161_b161_shape1\"/><path d=\"M 263,190 265,190 265,191 265,194 265,195 263,195 261,195 260,195 260,193 260,192 260,190 261,190 z\" fill=\"#75a2a7\" fill-opacity=\"1.0\" id=\"x75a2a7_r117_g162_b167_shape1\"/><path d=\"M 269,190 270,190 270,192 270,195 265,195 265,194 265,191 265,190 267,190 z\" fill=\"#72a1a7\" fill-opacity=\"1.0\" id=\"x72a1a7_r114_g161_b167_shape1\"/><path d=\"M 272,195 270,195 270,194 270,191 270,190 272,190 274,190 275,190 275,192 275,193 275,195 274,195 z\" fill=\"#6da19f\" fill-opacity=\"1.0\" id=\"x6da19f_r109_g161_b159_shape1\"/><path d=\"M 280,192 280,190 281,190 284,190 285,190 285,192 285,194 285,195 283,195 282,195 280,195 280,194 z\" fill=\"#699fab\" fill-opacity=\"1.0\" id=\"x699fab_r105_g159_b171_shape1\"/><path d=\"M 295,194 295,195 293,195 290,195 290,190 291,190 294,190 295,190 295,192 z\" fill=\"#689ca9\" fill-opacity=\"1.0\" id=\"x689ca9_r104_g156_b169_shape1\"/><path d=\"M 320,195 315,195 315,190 320,190 z\" fill=\"#669aa8\" fill-opacity=\"1.0\" id=\"x669aa8_r102_g154_b168_shape1\"/><path d=\"M 325,190 325,195 320,195 320,190 z\" fill=\"#6597a2\" fill-opacity=\"1.0\" id=\"x6597a2_r101_g151_b162_shape1\"/><path d=\"M 325,191 325,190 327,190 330,190 330,195 329,195 326,195 325,195 325,193 z\" fill=\"#6396a7\" fill-opacity=\"1.0\" id=\"x6396a7_r99_g150_b167_shape1\"/><path d=\"M 335,190 335,195 330,195 330,190 z\" fill=\"#619593\" fill-opacity=\"1.0\" id=\"x619593_r97_g149_b147_shape1\"/><path d=\"M 340,194 340,195 338,195 335,195 335,190 336,190 339,190 340,190 340,192 z\" fill=\"#669a98\" fill-opacity=\"1.0\" id=\"x669a98_r102_g154_b152_shape1\"/><path d=\"M 350,190 350,195 345,195 345,190 z\" fill=\"#52828e\" fill-opacity=\"1.0\" id=\"x52828e_r82_g130_b142_shape1\"/><path d=\"M 360,190 365,190 365,195 360,195 z\" fill=\"#476e73\" fill-opacity=\"1.0\" id=\"x476e73_r71_g110_b115_shape1\"/><path d=\"M 369,190 370,190 370,192 370,195 365,195 365,194 365,191 365,190 367,190 z\" fill=\"#395f62\" fill-opacity=\"1.0\" id=\"x395f62_r57_g95_b98_shape1\"/><path d=\"M 375,190 375,195 370,195 370,190 z\" fill=\"#203139\" fill-opacity=\"1.0\" id=\"x203139_r32_g49_b57_shape1\"/><path d=\"M 375,190 380,190 380,195 375,195 z\" fill=\"#0d141a\" fill-opacity=\"1.0\" id=\"x0d141a_r13_g20_b26_shape1\"/><path d=\"M 125,198 125,200 124,200 121,200 120,200 120,198 120,196 120,195 122,195 123,195 125,195 125,196 z\" fill=\"#1b2326\" fill-opacity=\"1.0\" id=\"x1b2326_r27_g35_b38_shape1\"/><path d=\"M 128,195 130,195 130,196 130,199 130,200 128,200 126,200 125,200 125,198 125,197 125,195 126,195 z\" fill=\"#192b2d\" fill-opacity=\"1.0\" id=\"x192b2d_r25_g43_b45_shape1\"/><path d=\"M 135,195 135,200 130,200 130,195 z\" fill=\"#30484c\" fill-opacity=\"1.0\" id=\"x30484c_r48_g72_b76_shape1\"/><path d=\"M 140,195 140,200 135,200 135,195 z\" fill=\"#355256\" fill-opacity=\"1.0\" id=\"x355256_r53_g82_b86_shape1\"/><path d=\"M 150,197 150,195 151,195 154,195 155,195 155,197 155,199 155,200 153,200 152,200 150,200 150,199 z\" fill=\"#42696e\" fill-opacity=\"1.0\" id=\"x42696e_r66_g105_b110_shape1\"/><path d=\"M 165,200 165,195 170,195 170,200 z\" fill=\"#517d80\" fill-opacity=\"1.0\" id=\"x517d80_r81_g125_b128_shape1\"/><path d=\"M 175,195 175,200 170,200 170,195 z\" fill=\"#4f7e6c\" fill-opacity=\"1.0\" id=\"x4f7e6c_r79_g126_b108_shape1\"/><path d=\"M 180,198 180,200 179,200 176,200 175,200 175,198 175,196 175,195 177,195 178,195 180,195 180,196 z\" fill=\"#88bb92\" fill-opacity=\"1.0\" id=\"x88bb92_r136_g187_b146_shape1\"/><path d=\"M 185,200 180,200 180,195 185,195 z\" fill=\"#598880\" fill-opacity=\"1.0\" id=\"x598880_r89_g136_b128_shape1\"/><path d=\"M 185,195 190,195 190,200 185,200 z\" fill=\"#5b8696\" fill-opacity=\"1.0\" id=\"x5b8696_r91_g134_b150_shape1\"/><path d=\"M 190,195 195,195 195,200 190,200 z\" fill=\"#608e9b\" fill-opacity=\"1.0\" id=\"x608e9b_r96_g142_b155_shape1\"/><path d=\"M 195,196 195,195 197,195 200,195 200,200 199,200 196,200 195,200 195,198 z\" fill=\"#5f919c\" fill-opacity=\"1.0\" id=\"x5f919c_r95_g145_b156_shape1\"/><path d=\"M 204,195 205,195 205,197 205,200 200,200 200,199 200,196 200,195 202,195 z\" fill=\"#609899\" fill-opacity=\"1.0\" id=\"x609899_r96_g152_b153_shape1\"/><path d=\"M 210,199 210,200 208,200 205,200 205,195 206,195 209,195 210,195 210,197 z\" fill=\"#609a9b\" fill-opacity=\"1.0\" id=\"x609a9b_r96_g154_b155_shape1\"/><path d=\"M 212,200 210,200 210,199 210,196 210,195 212,195 214,195 215,195 215,197 215,198 215,200 214,200 z\" fill=\"#6398a6\" fill-opacity=\"1.0\" id=\"x6398a6_r99_g152_b166_shape1\"/><path d=\"M 235,196 235,195 237,195 240,195 240,200 239,200 236,200 235,200 235,198 z\" fill=\"#69a0a7\" fill-opacity=\"1.0\" id=\"x69a0a7_r105_g160_b167_shape1\"/><path d=\"M 250,195 250,200 245,200 245,195 z\" fill=\"#6da1ac\" fill-opacity=\"1.0\" id=\"x6da1ac_r109_g161_b172_shape1\"/><path d=\"M 255,200 250,200 250,195 255,195 z\" fill=\"#70a0aa\" fill-opacity=\"1.0\" id=\"x70a0aa_r112_g160_b170_shape1\"/><path d=\"M 260,200 255,200 255,195 260,195 z\" fill=\"#73a3a5\" fill-opacity=\"1.0\" id=\"x73a3a5_r115_g163_b165_shape1\"/><path d=\"M 264,195 265,195 265,197 265,200 260,200 260,199 260,196 260,195 262,195 z\" fill=\"#76a3a8\" fill-opacity=\"1.0\" id=\"x76a3a8_r118_g163_b168_shape1\"/><path d=\"M 265,200 265,195 270,195 270,200 z\" fill=\"#73a2a8\" fill-opacity=\"1.0\" id=\"x73a2a8_r115_g162_b168_shape1\"/><path d=\"M 271,200 270,200 270,198 270,195 275,195 275,196 275,199 275,200 273,200 z\" fill=\"#72a4a3\" fill-opacity=\"1.0\" id=\"x72a4a3_r114_g164_b163_shape1\"/><path d=\"M 284,195 285,195 285,197 285,200 280,200 280,199 280,196 280,195 282,195 z\" fill=\"#6b9faa\" fill-opacity=\"1.0\" id=\"x6b9faa_r107_g159_b170_shape1\"/><path d=\"M 305,200 305,195 310,195 310,200 z\" fill=\"#649fa7\" fill-opacity=\"1.0\" id=\"x649fa7_r100_g159_b167_shape1\"/><path d=\"M 310,196 310,195 312,195 315,195 315,200 314,200 311,200 310,200 310,198 z\" fill=\"#649eaa\" fill-opacity=\"1.0\" id=\"x649eaa_r100_g158_b170_shape1\"/><path d=\"M 320,200 315,200 315,195 320,195 z\" fill=\"#619b8c\" fill-opacity=\"1.0\" id=\"x619b8c_r97_g155_b140_shape1\"/><path d=\"M 320,200 320,195 325,195 325,200 z\" fill=\"#7cb69d\" fill-opacity=\"1.0\" id=\"x7cb69d_r124_g182_b157_shape1\"/><path d=\"M 327,200 325,200 325,199 325,196 325,195 327,195 329,195 330,195 330,197 330,198 330,200 329,200 z\" fill=\"#60988b\" fill-opacity=\"1.0\" id=\"x60988b_r96_g152_b139_shape1\"/><path d=\"M 330,200 330,195 335,195 335,200 z\" fill=\"#62979b\" fill-opacity=\"1.0\" id=\"x62979b_r98_g151_b155_shape1\"/><path d=\"M 365,196 365,195 367,195 370,195 370,200 369,200 366,200 365,200 365,198 z\" fill=\"#44666f\" fill-opacity=\"1.0\" id=\"x44666f_r68_g102_b111_shape1\"/><path d=\"M 370,200 370,195 375,195 375,200 z\" fill=\"#2f4a51\" fill-opacity=\"1.0\" id=\"x2f4a51_r47_g74_b81_shape1\"/><path d=\"M 380,200 380,195 385,195 385,200 z\" fill=\"#0b0e13\" fill-opacity=\"1.0\" id=\"x0b0e13_r11_g14_b19_shape1\"/><path d=\"M 115,200 115,205 110,205 110,200 z\" fill=\"#04070c\" fill-opacity=\"1.0\" id=\"x04070c_r4_g7_b12_shape1\"/><path d=\"M 120,200 120,205 115,205 115,200 z\" fill=\"#152022\" fill-opacity=\"1.0\" id=\"x152022_r21_g32_b34_shape1\"/><path d=\"M 120,205 120,200 125,200 125,205 z\" fill=\"#142326\" fill-opacity=\"1.0\" id=\"x142326_r20_g35_b38_shape1\"/><path d=\"M 130,204 130,205 128,205 125,205 125,200 126,200 129,200 130,200 130,202 z\" fill=\"#2c4142\" fill-opacity=\"1.0\" id=\"x2c4142_r44_g65_b66_shape1\"/><path d=\"M 130,205 130,200 135,200 135,205 z\" fill=\"#314d51\" fill-opacity=\"1.0\" id=\"x314d51_r49_g77_b81_shape1\"/><path d=\"M 170,202 170,200 171,200 174,200 175,200 175,202 175,204 175,205 173,205 172,205 170,205 170,204 z\" fill=\"#56828d\" fill-opacity=\"1.0\" id=\"x56828d_r86_g130_b141_shape1\"/><path d=\"M 175,201 175,200 177,200 180,200 180,205 179,205 176,205 175,205 175,203 z\" fill=\"#598294\" fill-opacity=\"1.0\" id=\"x598294_r89_g130_b148_shape1\"/><path d=\"M 185,205 185,200 190,200 190,205 z\" fill=\"#5a8c80\" fill-opacity=\"1.0\" id=\"x5a8c80_r90_g140_b128_shape1\"/><path d=\"M 195,200 195,205 190,205 190,200 z\" fill=\"#7cb1a1\" fill-opacity=\"1.0\" id=\"x7cb1a1_r124_g177_b161_shape1\"/><path d=\"M 195,205 195,200 200,200 200,205 z\" fill=\"#77ada0\" fill-opacity=\"1.0\" id=\"x77ada0_r119_g173_b160_shape1\"/><path d=\"M 200,200 205,200 205,205 200,205 z\" fill=\"#619a91\" fill-opacity=\"1.0\" id=\"x619a91_r97_g154_b145_shape1\"/><path d=\"M 208,200 210,200 210,201 210,204 210,205 208,205 206,205 205,205 205,203 205,202 205,200 206,200 z\" fill=\"#629a99\" fill-opacity=\"1.0\" id=\"x629a99_r98_g154_b153_shape1\"/><path d=\"M 213,200 215,200 215,201 215,204 215,205 213,205 211,205 210,205 210,203 210,202 210,200 211,200 z\" fill=\"#61989d\" fill-opacity=\"1.0\" id=\"x61989d_r97_g152_b157_shape1\"/><path d=\"M 216,205 215,205 215,203 215,200 220,200 220,201 220,204 220,205 218,205 z\" fill=\"#6298a2\" fill-opacity=\"1.0\" id=\"x6298a2_r98_g152_b162_shape1\"/><path d=\"M 250,200 250,205 245,205 245,200 z\" fill=\"#71a3ac\" fill-opacity=\"1.0\" id=\"x71a3ac_r113_g163_b172_shape1\"/><path d=\"M 255,205 250,205 250,200 255,200 z\" fill=\"#71a2a7\" fill-opacity=\"1.0\" id=\"x71a2a7_r113_g162_b167_shape1\"/><path d=\"M 260,200 260,205 255,205 255,200 z\" fill=\"#74a4a4\" fill-opacity=\"1.0\" id=\"x74a4a4_r116_g164_b164_shape1\"/><path d=\"M 265,205 260,205 260,200 265,200 z\" fill=\"#77a4a7\" fill-opacity=\"1.0\" id=\"x77a4a7_r119_g164_b167_shape1\"/><path d=\"M 265,202 265,200 266,200 269,200 270,200 270,202 270,204 270,205 268,205 267,205 265,205 265,204 z\" fill=\"#78a4a7\" fill-opacity=\"1.0\" id=\"x78a4a7_r120_g164_b167_shape1\"/><path d=\"M 270,200 275,200 275,205 270,205 z\" fill=\"#78a7b1\" fill-opacity=\"1.0\" id=\"x78a7b1_r120_g167_b177_shape1\"/><path d=\"M 285,200 290,200 290,205 285,205 z\" fill=\"#6b9caa\" fill-opacity=\"1.0\" id=\"x6b9caa_r107_g156_b170_shape1\"/><path d=\"M 290,205 290,200 295,200 295,205 z\" fill=\"#679d9f\" fill-opacity=\"1.0\" id=\"x679d9f_r103_g157_b159_shape1\"/><path d=\"M 300,205 295,205 295,200 300,200 z\" fill=\"#649f89\" fill-opacity=\"1.0\" id=\"x649f89_r100_g159_b137_shape1\"/><path d=\"M 302,205 300,205 300,204 300,201 300,200 302,200 304,200 305,200 305,202 305,203 305,205 304,205 z\" fill=\"#7cbf96\" fill-opacity=\"1.0\" id=\"x7cbf96_r124_g191_b150_shape1\"/><path d=\"M 310,204 310,205 308,205 305,205 305,200 306,200 309,200 310,200 310,202 z\" fill=\"#86c6a3\" fill-opacity=\"1.0\" id=\"x86c6a3_r134_g198_b163_shape1\"/><path d=\"M 310,205 310,200 315,200 315,205 z\" fill=\"#6da59c\" fill-opacity=\"1.0\" id=\"x6da59c_r109_g165_b156_shape1\"/><path d=\"M 319,200 320,200 320,202 320,205 315,205 315,204 315,201 315,200 317,200 z\" fill=\"#6596a4\" fill-opacity=\"1.0\" id=\"x6596a4_r101_g150_b164_shape1\"/><path d=\"M 320,200 325,200 325,205 320,205 z\" fill=\"#6499ab\" fill-opacity=\"1.0\" id=\"x6499ab_r100_g153_b171_shape1\"/><path d=\"M 340,200 340,205 335,205 335,200 z\" fill=\"#60929b\" fill-opacity=\"1.0\" id=\"x60929b_r96_g146_b155_shape1\"/><path d=\"M 355,200 355,205 350,205 350,200 z\" fill=\"#54868f\" fill-opacity=\"1.0\" id=\"x54868f_r84_g134_b143_shape1\"/><path d=\"M 365,205 365,200 370,200 370,205 z\" fill=\"#4a6f78\" fill-opacity=\"1.0\" id=\"x4a6f78_r74_g111_b120_shape1\"/><path d=\"M 375,200 380,200 380,205 375,205 z\" fill=\"#203e40\" fill-opacity=\"1.0\" id=\"x203e40_r32_g62_b64_shape1\"/><path d=\"M 380,200 385,200 385,205 380,205 z\" fill=\"#202f36\" fill-opacity=\"1.0\" id=\"x202f36_r32_g47_b54_shape1\"/><path d=\"M 388,200 390,200 390,201 390,204 390,205 388,205 386,205 385,205 385,203 385,202 385,200 386,200 z\" fill=\"#060b11\" fill-opacity=\"1.0\" id=\"x060b11_r6_g11_b17_shape1\"/><path d=\"M 107,210 105,210 105,209 105,206 105,205 107,205 109,205 110,205 110,207 110,208 110,210 109,210 z\" fill=\"#010206\" fill-opacity=\"1.0\" id=\"x010206_r1_g2_b6_shape1\"/><path d=\"M 115,209 115,210 113,210 110,210 110,205 111,205 114,205 115,205 115,207 z\" fill=\"#141d22\" fill-opacity=\"1.0\" id=\"x141d22_r20_g29_b34_shape1\"/><path d=\"M 117,210 115,210 115,209 115,206 115,205 117,205 119,205 120,205 120,207 120,208 120,210 119,210 z\" fill=\"#162528\" fill-opacity=\"1.0\" id=\"x162528_r22_g37_b40_shape1\"/><path d=\"M 130,210 125,210 125,205 130,205 z\" fill=\"#2d4545\" fill-opacity=\"1.0\" id=\"x2d4545_r45_g69_b69_shape1\"/><path d=\"M 130,205 135,205 135,210 130,210 z\" fill=\"#365256\" fill-opacity=\"1.0\" id=\"x365256_r54_g82_b86_shape1\"/><path d=\"M 184,205 185,205 185,207 185,210 180,210 180,209 180,206 180,205 182,205 z\" fill=\"#598b96\" fill-opacity=\"1.0\" id=\"x598b96_r89_g139_b150_shape1\"/><path d=\"M 190,206 190,205 192,205 195,205 195,210 194,210 191,210 190,210 190,208 z\" fill=\"#5c909d\" fill-opacity=\"1.0\" id=\"x5c909d_r92_g144_b157_shape1\"/><path d=\"M 195,210 195,205 200,205 200,210 z\" fill=\"#5f959f\" fill-opacity=\"1.0\" id=\"x5f959f_r95_g149_b159_shape1\"/><path d=\"M 205,208 205,210 204,210 201,210 200,210 200,208 200,206 200,205 202,205 203,205 205,205 205,206 z\" fill=\"#649a9c\" fill-opacity=\"1.0\" id=\"x649a9c_r100_g154_b156_shape1\"/><path d=\"M 210,205 215,205 215,210 210,210 z\" fill=\"#649894\" fill-opacity=\"1.0\" id=\"x649894_r100_g152_b148_shape1\"/><path d=\"M 220,209 220,210 218,210 215,210 215,205 216,205 219,205 220,205 220,207 z\" fill=\"#659b8e\" fill-opacity=\"1.0\" id=\"x659b8e_r101_g155_b142_shape1\"/><path d=\"M 220,210 220,205 225,205 225,210 z\" fill=\"#82b9a4\" fill-opacity=\"1.0\" id=\"x82b9a4_r130_g185_b164_shape1\"/><path d=\"M 225,210 225,205 230,205 230,210 z\" fill=\"#92caaf\" fill-opacity=\"1.0\" id=\"x92caaf_r146_g202_b175_shape1\"/><path d=\"M 230,210 230,205 235,205 235,210 z\" fill=\"#95ccb9\" fill-opacity=\"1.0\" id=\"x95ccb9_r149_g204_b185_shape1\"/><path d=\"M 240,210 235,210 235,205 240,205 z\" fill=\"#93c8b8\" fill-opacity=\"1.0\" id=\"x93c8b8_r147_g200_b184_shape1\"/><path d=\"M 245,210 240,210 240,205 245,205 z\" fill=\"#8ec4b7\" fill-opacity=\"1.0\" id=\"x8ec4b7_r142_g196_b183_shape1\"/><path d=\"M 245,206 245,205 247,205 250,205 250,210 249,210 246,210 245,210 245,208 z\" fill=\"#81b7a7\" fill-opacity=\"1.0\" id=\"x81b7a7_r129_g183_b167_shape1\"/><path d=\"M 255,209 255,210 253,210 250,210 250,205 251,205 254,205 255,205 255,207 z\" fill=\"#8bbeab\" fill-opacity=\"1.0\" id=\"x8bbeab_r139_g190_b171_shape1\"/><path d=\"M 255,205 260,205 260,210 255,210 z\" fill=\"#9fd3bc\" fill-opacity=\"1.0\" id=\"x9fd3bc_r159_g211_b188_shape1\"/><path d=\"M 265,205 265,210 260,210 260,205 z\" fill=\"#a2d3be\" fill-opacity=\"1.0\" id=\"xa2d3be_r162_g211_b190_shape1\"/><path d=\"M 268,205 270,205 270,206 270,209 270,210 268,210 266,210 265,210 265,208 265,207 265,205 266,205 z\" fill=\"#a1d0bc\" fill-opacity=\"1.0\" id=\"xa1d0bc_r161_g208_b188_shape1\"/><path d=\"M 275,210 270,210 270,205 275,205 z\" fill=\"#a6e0b0\" fill-opacity=\"1.0\" id=\"xa6e0b0_r166_g224_b176_shape1\"/><path d=\"M 275,207 275,205 276,205 279,205 280,205 280,207 280,209 280,210 278,210 277,210 275,210 275,209 z\" fill=\"#8bc698\" fill-opacity=\"1.0\" id=\"x8bc698_r139_g198_b152_shape1\"/><path d=\"M 280,210 280,205 285,205 285,210 z\" fill=\"#6ba386\" fill-opacity=\"1.0\" id=\"x6ba386_r107_g163_b134_shape1\"/><path d=\"M 285,210 285,205 290,205 290,210 z\" fill=\"#669c8f\" fill-opacity=\"1.0\" id=\"x669c8f_r102_g156_b143_shape1\"/><path d=\"M 290,210 290,205 295,205 295,210 z\" fill=\"#6da3a5\" fill-opacity=\"1.0\" id=\"x6da3a5_r109_g163_b165_shape1\"/><path d=\"M 298,205 300,205 300,206 300,209 300,210 298,210 296,210 295,210 295,208 295,207 295,205 296,205 z\" fill=\"#659fa0\" fill-opacity=\"1.0\" id=\"x659fa0_r101_g159_b160_shape1\"/><path d=\"M 300,210 300,205 305,205 305,210 z\" fill=\"#64a2a1\" fill-opacity=\"1.0\" id=\"x64a2a1_r100_g162_b161_shape1\"/><path d=\"M 305,206 305,205 307,205 310,205 310,210 309,210 306,210 305,210 305,208 z\" fill=\"#64a19a\" fill-opacity=\"1.0\" id=\"x64a19a_r100_g161_b154_shape1\"/><path d=\"M 315,210 310,210 310,205 315,205 z\" fill=\"#67a0ab\" fill-opacity=\"1.0\" id=\"x67a0ab_r103_g160_b171_shape1\"/><path d=\"M 315,206 315,205 317,205 320,205 320,210 319,210 316,210 315,210 315,208 z\" fill=\"#639d9f\" fill-opacity=\"1.0\" id=\"x639d9f_r99_g157_b159_shape1\"/><path d=\"M 320,210 320,205 325,205 325,210 z\" fill=\"#659ba7\" fill-opacity=\"1.0\" id=\"x659ba7_r101_g155_b167_shape1\"/><path d=\"M 329,205 330,205 330,207 330,210 325,210 325,209 325,206 325,205 327,205 z\" fill=\"#629ba6\" fill-opacity=\"1.0\" id=\"x629ba6_r98_g155_b166_shape1\"/><path d=\"M 330,210 330,205 335,205 335,210 z\" fill=\"#62999c\" fill-opacity=\"1.0\" id=\"x62999c_r98_g153_b156_shape1\"/><path d=\"M 360,205 365,205 365,210 360,210 z\" fill=\"#527d83\" fill-opacity=\"1.0\" id=\"x527d83_r82_g125_b131_shape1\"/><path d=\"M 368,205 370,205 370,206 370,209 370,210 368,210 366,210 365,210 365,208 365,207 365,205 366,205 z\" fill=\"#4b737d\" fill-opacity=\"1.0\" id=\"x4b737d_r75_g115_b125_shape1\"/><path d=\"M 372,210 370,210 370,209 370,206 370,205 372,205 374,205 375,205 375,207 375,208 375,210 374,210 z\" fill=\"#456a70\" fill-opacity=\"1.0\" id=\"x456a70_r69_g106_b112_shape1\"/><path d=\"M 375,205 380,205 380,210 375,210 z\" fill=\"#264849\" fill-opacity=\"1.0\" id=\"x264849_r38_g72_b73_shape1\"/><path d=\"M 380,207 380,205 381,205 384,205 385,205 385,207 385,209 385,210 383,210 382,210 380,210 380,209 z\" fill=\"#23373e\" fill-opacity=\"1.0\" id=\"x23373e_r35_g55_b62_shape1\"/><path d=\"M 390,207 390,205 391,205 394,205 395,205 395,207 395,209 395,210 393,210 392,210 390,210 390,209 z\" fill=\"#0d0e13\" fill-opacity=\"1.0\" id=\"x0d0e13_r13_g14_b19_shape1\"/><path d=\"M 100,215 100,210 105,210 105,215 z\" fill=\"#090a0e\" fill-opacity=\"1.0\" id=\"x090a0e_r9_g10_b14_shape1\"/><path d=\"M 115,215 110,215 110,210 115,210 z\" fill=\"#172629\" fill-opacity=\"1.0\" id=\"x172629_r23_g38_b41_shape1\"/><path d=\"M 116,215 115,215 115,213 115,210 120,210 120,211 120,214 120,215 118,215 z\" fill=\"#1a2d31\" fill-opacity=\"1.0\" id=\"x1a2d31_r26_g45_b49_shape1\"/><path d=\"M 120,210 125,210 125,215 120,215 z\" fill=\"#293e43\" fill-opacity=\"1.0\" id=\"x293e43_r41_g62_b67_shape1\"/><path d=\"M 128,210 130,210 130,211 130,214 130,215 128,215 126,215 125,215 125,213 125,212 125,210 126,210 z\" fill=\"#324e52\" fill-opacity=\"1.0\" id=\"x324e52_r50_g78_b82_shape1\"/><path d=\"M 140,212 140,210 141,210 144,210 145,210 145,212 145,214 145,215 143,215 142,215 140,215 140,214 z\" fill=\"#41666e\" fill-opacity=\"1.0\" id=\"x41666e_r65_g102_b110_shape1\"/><path d=\"M 150,215 150,210 155,210 155,215 z\" fill=\"#4a7079\" fill-opacity=\"1.0\" id=\"x4a7079_r74_g112_b121_shape1\"/><path d=\"M 195,214 195,215 193,215 190,215 190,210 191,210 194,210 195,210 195,212 z\" fill=\"#5a939c\" fill-opacity=\"1.0\" id=\"x5a939c_r90_g147_b156_shape1\"/><path d=\"M 195,210 200,210 200,215 195,215 z\" fill=\"#6096a0\" fill-opacity=\"1.0\" id=\"x6096a0_r96_g150_b160_shape1\"/><path d=\"M 239,210 240,210 240,212 240,215 235,215 235,214 235,211 235,210 237,210 z\" fill=\"#6ea1a5\" fill-opacity=\"1.0\" id=\"x6ea1a5_r110_g161_b165_shape1\"/><path d=\"M 252,215 250,215 250,214 250,211 250,210 252,210 254,210 255,210 255,212 255,213 255,215 254,215 z\" fill=\"#7aaaac\" fill-opacity=\"1.0\" id=\"x7aaaac_r122_g170_b172_shape1\"/><path d=\"M 260,214 260,215 258,215 255,215 255,210 256,210 259,210 260,210 260,212 z\" fill=\"#7babaf\" fill-opacity=\"1.0\" id=\"x7babaf_r123_g171_b175_shape1\"/><path d=\"M 260,210 265,210 265,215 260,215 z\" fill=\"#7fabae\" fill-opacity=\"1.0\" id=\"x7fabae_r127_g171_b174_shape1\"/><path d=\"M 265,215 265,210 270,210 270,215 z\" fill=\"#7fa8ae\" fill-opacity=\"1.0\" id=\"x7fa8ae_r127_g168_b174_shape1\"/><path d=\"M 275,210 280,210 280,215 275,215 z\" fill=\"#78a8aa\" fill-opacity=\"1.0\" id=\"x78a8aa_r120_g168_b170_shape1\"/><path d=\"M 305,210 305,215 300,215 300,210 z\" fill=\"#68a2a6\" fill-opacity=\"1.0\" id=\"x68a2a6_r104_g162_b166_shape1\"/><path d=\"M 305,210 310,210 310,215 305,215 z\" fill=\"#6aa1a6\" fill-opacity=\"1.0\" id=\"x6aa1a6_r106_g161_b166_shape1\"/><path d=\"M 372,215 370,215 370,214 370,211 370,210 372,210 374,210 375,210 375,212 375,213 375,215 374,215 z\" fill=\"#496f78\" fill-opacity=\"1.0\" id=\"x496f78_r73_g111_b120_shape1\"/><path d=\"M 384,210 385,210 385,212 385,215 380,215 380,214 380,211 380,210 382,210 z\" fill=\"#243d42\" fill-opacity=\"1.0\" id=\"x243d42_r36_g61_b66_shape1\"/><path d=\"M 391,215 390,215 390,213 390,210 395,210 395,211 395,214 395,215 393,215 z\" fill=\"#253034\" fill-opacity=\"1.0\" id=\"x253034_r37_g48_b52_shape1\"/><path d=\"M 398,210 400,210 400,211 400,214 400,215 398,215 396,215 395,215 395,213 395,212 395,210 396,210 z\" fill=\"#0f1217\" fill-opacity=\"1.0\" id=\"x0f1217_r15_g18_b23_shape1\"/><path d=\"M 95,220 95,215 100,215 100,220 z\" fill=\"#04050a\" fill-opacity=\"1.0\" id=\"x04050a_r4_g5_b10_shape1\"/><path d=\"M 110,218 110,220 109,220 106,220 105,220 105,218 105,216 105,215 107,215 108,215 110,215 110,216 z\" fill=\"#172528\" fill-opacity=\"1.0\" id=\"x172528_r23_g37_b40_shape1\"/><path d=\"M 115,215 115,220 110,220 110,215 z\" fill=\"#182c2d\" fill-opacity=\"1.0\" id=\"x182c2d_r24_g44_b45_shape1\"/><path d=\"M 115,215 120,215 120,220 115,220 z\" fill=\"#1c3436\" fill-opacity=\"1.0\" id=\"x1c3436_r28_g52_b54_shape1\"/><path d=\"M 135,215 140,215 140,220 135,220 z\" fill=\"#3c6265\" fill-opacity=\"1.0\" id=\"x3c6265_r60_g98_b101_shape1\"/><path d=\"M 155,215 160,215 160,220 155,220 z\" fill=\"#4c797e\" fill-opacity=\"1.0\" id=\"x4c797e_r76_g121_b126_shape1\"/><path d=\"M 185,215 185,220 180,220 180,215 z\" fill=\"#5b8d96\" fill-opacity=\"1.0\" id=\"x5b8d96_r91_g141_b150_shape1\"/><path d=\"M 190,217 190,215 191,215 194,215 195,215 195,217 195,219 195,220 193,220 192,220 190,220 190,219 z\" fill=\"#5d939d\" fill-opacity=\"1.0\" id=\"x5d939d_r93_g147_b157_shape1\"/><path d=\"M 200,215 205,215 205,220 200,220 z\" fill=\"#6498a3\" fill-opacity=\"1.0\" id=\"x6498a3_r100_g152_b163_shape1\"/><path d=\"M 230,217 230,215 231,215 234,215 235,215 235,217 235,219 235,220 233,220 232,220 230,220 230,219 z\" fill=\"#6fa1aa\" fill-opacity=\"1.0\" id=\"x6fa1aa_r111_g161_b170_shape1\"/><path d=\"M 250,220 245,220 245,215 250,215 z\" fill=\"#7badac\" fill-opacity=\"1.0\" id=\"x7badac_r123_g173_b172_shape1\"/><path d=\"M 250,220 250,215 255,215 255,220 z\" fill=\"#81aea9\" fill-opacity=\"1.0\" id=\"x81aea9_r129_g174_b169_shape1\"/><path d=\"M 255,215 260,215 260,220 255,220 z\" fill=\"#82afac\" fill-opacity=\"1.0\" id=\"x82afac_r130_g175_b172_shape1\"/><path d=\"M 260,215 265,215 265,220 260,220 z\" fill=\"#88aeb1\" fill-opacity=\"1.0\" id=\"x88aeb1_r136_g174_b177_shape1\"/><path d=\"M 275,215 275,220 270,220 270,215 z\" fill=\"#83adab\" fill-opacity=\"1.0\" id=\"x83adab_r131_g173_b171_shape1\"/><path d=\"M 278,215 280,215 280,216 280,219 280,220 278,220 276,220 275,220 275,218 275,217 275,215 276,215 z\" fill=\"#7cacac\" fill-opacity=\"1.0\" id=\"x7cacac_r124_g172_b172_shape1\"/><path d=\"M 285,220 280,220 280,215 285,215 z\" fill=\"#74a9ad\" fill-opacity=\"1.0\" id=\"x74a9ad_r116_g169_b173_shape1\"/><path d=\"M 285,220 285,215 290,215 290,220 z\" fill=\"#72a7af\" fill-opacity=\"1.0\" id=\"x72a7af_r114_g167_b175_shape1\"/><path d=\"M 295,215 295,220 290,220 290,215 z\" fill=\"#70a5ab\" fill-opacity=\"1.0\" id=\"x70a5ab_r112_g165_b171_shape1\"/><path d=\"M 370,215 370,220 365,220 365,215 z\" fill=\"#4e7980\" fill-opacity=\"1.0\" id=\"x4e7980_r78_g121_b128_shape1\"/><path d=\"M 380,219 380,220 378,220 375,220 375,215 376,215 379,215 380,215 380,217 z\" fill=\"#456770\" fill-opacity=\"1.0\" id=\"x456770_r69_g103_b112_shape1\"/><path d=\"M 380,220 380,215 385,215 385,220 z\" fill=\"#29464c\" fill-opacity=\"1.0\" id=\"x29464c_r41_g70_b76_shape1\"/><path d=\"M 390,219 390,220 388,220 385,220 385,215 386,215 389,215 390,215 390,217 z\" fill=\"#253c42\" fill-opacity=\"1.0\" id=\"x253c42_r37_g60_b66_shape1\"/><path d=\"M 395,220 390,220 390,215 395,215 z\" fill=\"#25383e\" fill-opacity=\"1.0\" id=\"x25383e_r37_g56_b62_shape1\"/><path d=\"M 401,220 400,220 400,218 400,215 405,215 405,216 405,219 405,220 403,220 z\" fill=\"#101519\" fill-opacity=\"1.0\" id=\"x101519_r16_g21_b25_shape1\"/><path d=\"M 111,225 110,225 110,223 110,220 115,220 115,221 115,224 115,225 113,225 z\" fill=\"#1b2d31\" fill-opacity=\"1.0\" id=\"x1b2d31_r27_g45_b49_shape1\"/><path d=\"M 120,220 120,225 115,225 115,220 z\" fill=\"#253a3f\" fill-opacity=\"1.0\" id=\"x253a3f_r37_g58_b63_shape1\"/><path d=\"M 120,225 120,220 125,220 125,225 z\" fill=\"#344c50\" fill-opacity=\"1.0\" id=\"x344c50_r52_g76_b80_shape1\"/><path d=\"M 125,220 130,220 130,225 125,225 z\" fill=\"#385759\" fill-opacity=\"1.0\" id=\"x385759_r56_g87_b89_shape1\"/><path d=\"M 145,225 145,220 150,220 150,225 z\" fill=\"#497077\" fill-opacity=\"1.0\" id=\"x497077_r73_g112_b119_shape1\"/><path d=\"M 165,220 170,220 170,225 165,225 z\" fill=\"#54838b\" fill-opacity=\"1.0\" id=\"x54838b_r84_g131_b139_shape1\"/><path d=\"M 220,225 220,220 225,220 225,225 z\" fill=\"#699fa9\" fill-opacity=\"1.0\" id=\"x699fa9_r105_g159_b169_shape1\"/><path d=\"M 230,225 225,225 225,220 230,220 z\" fill=\"#6da2a8\" fill-opacity=\"1.0\" id=\"x6da2a8_r109_g162_b168_shape1\"/><path d=\"M 230,220 235,220 235,225 230,225 z\" fill=\"#73a4a9\" fill-opacity=\"1.0\" id=\"x73a4a9_r115_g164_b169_shape1\"/><path d=\"M 235,225 235,220 240,220 240,225 z\" fill=\"#7aaaae\" fill-opacity=\"1.0\" id=\"x7aaaae_r122_g170_b174_shape1\"/><path d=\"M 241,225 240,225 240,223 240,220 245,220 245,221 245,224 245,225 243,225 z\" fill=\"#7fadab\" fill-opacity=\"1.0\" id=\"x7fadab_r127_g173_b171_shape1\"/><path d=\"M 249,220 250,220 250,222 250,225 245,225 245,224 245,221 245,220 247,220 z\" fill=\"#83adac\" fill-opacity=\"1.0\" id=\"x83adac_r131_g173_b172_shape1\"/><path d=\"M 250,225 250,220 255,220 255,225 z\" fill=\"#89abad\" fill-opacity=\"1.0\" id=\"x89abad_r137_g171_b173_shape1\"/><path d=\"M 260,220 265,220 265,225 260,225 z\" fill=\"#8faeb0\" fill-opacity=\"1.0\" id=\"x8faeb0_r143_g174_b176_shape1\"/><path d=\"M 270,225 265,225 265,220 270,220 z\" fill=\"#8eaead\" fill-opacity=\"1.0\" id=\"x8eaead_r142_g174_b173_shape1\"/><path d=\"M 275,224 275,225 273,225 270,225 270,220 271,220 274,220 275,220 275,222 z\" fill=\"#8bafad\" fill-opacity=\"1.0\" id=\"x8bafad_r139_g175_b173_shape1\"/><path d=\"M 279,220 280,220 280,222 280,225 275,225 275,224 275,221 275,220 277,220 z\" fill=\"#84aead\" fill-opacity=\"1.0\" id=\"x84aead_r132_g174_b173_shape1\"/><path d=\"M 280,220 285,220 285,225 280,225 z\" fill=\"#7babad\" fill-opacity=\"1.0\" id=\"x7babad_r123_g171_b173_shape1\"/><path d=\"M 290,225 285,225 285,220 290,220 z\" fill=\"#76a7ac\" fill-opacity=\"1.0\" id=\"x76a7ac_r118_g167_b172_shape1\"/><path d=\"M 293,220 295,220 295,221 295,224 295,225 293,225 291,225 290,225 290,223 290,222 290,220 291,220 z\" fill=\"#72a7ab\" fill-opacity=\"1.0\" id=\"x72a7ab_r114_g167_b171_shape1\"/><path d=\"M 295,220 300,220 300,225 295,225 z\" fill=\"#6fa6a9\" fill-opacity=\"1.0\" id=\"x6fa6a9_r111_g166_b169_shape1\"/><path d=\"M 365,224 365,225 363,225 360,225 360,220 361,220 364,220 365,220 365,222 z\" fill=\"#51868c\" fill-opacity=\"1.0\" id=\"x51868c_r81_g134_b140_shape1\"/><path d=\"M 365,225 365,220 370,220 370,225 z\" fill=\"#517d86\" fill-opacity=\"1.0\" id=\"x517d86_r81_g125_b134_shape1\"/><path d=\"M 380,225 380,220 385,220 385,225 z\" fill=\"#33545b\" fill-opacity=\"1.0\" id=\"x33545b_r51_g84_b91_shape1\"/><path d=\"M 391,225 390,225 390,223 390,220 395,220 395,221 395,224 395,225 393,225 z\" fill=\"#253d41\" fill-opacity=\"1.0\" id=\"x253d41_r37_g61_b65_shape1\"/><path d=\"M 410,220 410,225 405,225 405,220 z\" fill=\"#000508\" fill-opacity=\"1.0\" id=\"x000508_r0_g5_b8_shape1\"/><path d=\"M 85,225 90,225 90,230 85,230 z\" fill=\"#020307\" fill-opacity=\"1.0\" id=\"x020307_r2_g3_b7_shape1\"/><path d=\"M 93,225 95,225 95,226 95,229 95,230 93,230 91,230 90,230 90,228 90,227 90,225 91,225 z\" fill=\"#131a20\" fill-opacity=\"1.0\" id=\"x131a20_r19_g26_b32_shape1\"/><path d=\"M 95,230 95,225 100,225 100,230 z\" fill=\"#162427\" fill-opacity=\"1.0\" id=\"x162427_r22_g36_b39_shape1\"/><path d=\"M 120,228 120,230 119,230 116,230 115,230 115,228 115,226 115,225 117,225 118,225 120,225 120,226 z\" fill=\"#273c41\" fill-opacity=\"1.0\" id=\"x273c41_r39_g60_b65_shape1\"/><path d=\"M 125,230 120,230 120,225 125,225 z\" fill=\"#355155\" fill-opacity=\"1.0\" id=\"x355155_r53_g81_b85_shape1\"/><path d=\"M 128,225 130,225 130,226 130,229 130,230 128,230 126,230 125,230 125,228 125,227 125,225 126,225 z\" fill=\"#395b5d\" fill-opacity=\"1.0\" id=\"x395b5d_r57_g91_b93_shape1\"/><path d=\"M 138,225 140,225 140,226 140,229 140,230 138,230 136,230 135,230 135,228 135,227 135,225 136,225 z\" fill=\"#41666c\" fill-opacity=\"1.0\" id=\"x41666c_r65_g102_b108_shape1\"/><path d=\"M 155,229 155,230 153,230 150,230 150,225 151,225 154,225 155,225 155,227 z\" fill=\"#4b787d\" fill-opacity=\"1.0\" id=\"x4b787d_r75_g120_b125_shape1\"/><path d=\"M 160,228 160,230 159,230 156,230 155,230 155,228 155,226 155,225 157,225 158,225 160,225 160,226 z\" fill=\"#4b7c81\" fill-opacity=\"1.0\" id=\"x4b7c81_r75_g124_b129_shape1\"/><path d=\"M 230,229 230,230 228,230 225,230 225,225 226,225 229,225 230,225 230,227 z\" fill=\"#6ea3a9\" fill-opacity=\"1.0\" id=\"x6ea3a9_r110_g163_b169_shape1\"/><path d=\"M 235,229 235,230 233,230 230,230 230,225 231,225 234,225 235,225 235,227 z\" fill=\"#75a6ad\" fill-opacity=\"1.0\" id=\"x75a6ad_r117_g166_b173_shape1\"/><path d=\"M 235,230 235,225 240,225 240,230 z\" fill=\"#7cacae\" fill-opacity=\"1.0\" id=\"x7cacae_r124_g172_b174_shape1\"/><path d=\"M 242,230 240,230 240,229 240,226 240,225 242,225 244,225 245,225 245,227 245,228 245,230 244,230 z\" fill=\"#81afaf\" fill-opacity=\"1.0\" id=\"x81afaf_r129_g175_b175_shape1\"/><path d=\"M 270,225 275,225 275,230 270,230 z\" fill=\"#8fafae\" fill-opacity=\"1.0\" id=\"x8fafae_r143_g175_b174_shape1\"/><path d=\"M 280,228 280,230 279,230 276,230 275,230 275,228 275,226 275,225 277,225 278,225 280,225 280,226 z\" fill=\"#8bafaf\" fill-opacity=\"1.0\" id=\"x8bafaf_r139_g175_b175_shape1\"/><path d=\"M 290,225 290,230 285,230 285,225 z\" fill=\"#7ea9af\" fill-opacity=\"1.0\" id=\"x7ea9af_r126_g169_b175_shape1\"/><path d=\"M 298,225 300,225 300,226 300,229 300,230 298,230 296,230 295,230 295,228 295,227 295,225 296,225 z\" fill=\"#71a6ac\" fill-opacity=\"1.0\" id=\"x71a6ac_r113_g166_b172_shape1\"/><path d=\"M 378,225 380,225 380,226 380,229 380,230 378,230 376,230 375,230 375,228 375,227 375,225 376,225 z\" fill=\"#4a707b\" fill-opacity=\"1.0\" id=\"x4a707b_r74_g112_b123_shape1\"/><path d=\"M 380,227 380,225 381,225 384,225 385,225 385,227 385,229 385,230 383,230 382,230 380,230 380,229 z\" fill=\"#446366\" fill-opacity=\"1.0\" id=\"x446366_r68_g99_b102_shape1\"/><path d=\"M 385,226 385,225 387,225 390,225 390,230 389,230 386,230 385,230 385,228 z\" fill=\"#264246\" fill-opacity=\"1.0\" id=\"x264246_r38_g66_b70_shape1\"/><path d=\"M 395,230 390,230 390,225 395,225 z\" fill=\"#284044\" fill-opacity=\"1.0\" id=\"x284044_r40_g64_b68_shape1\"/><path d=\"M 405,225 405,230 400,230 400,225 z\" fill=\"#223539\" fill-opacity=\"1.0\" id=\"x223539_r34_g53_b57_shape1\"/><path d=\"M 410,230 410,225 415,225 415,230 z\" fill=\"#000407\" fill-opacity=\"1.0\" id=\"x000407_r0_g4_b7_shape1\"/><path d=\"M 85,230 90,230 90,235 85,235 z\" fill=\"#131b1e\" fill-opacity=\"1.0\" id=\"x131b1e_r19_g27_b30_shape1\"/><path d=\"M 94,230 95,230 95,232 95,235 90,235 90,234 90,231 90,230 92,230 z\" fill=\"#18272a\" fill-opacity=\"1.0\" id=\"x18272a_r24_g39_b42_shape1\"/><path d=\"M 100,235 95,235 95,230 100,230 z\" fill=\"#17292b\" fill-opacity=\"1.0\" id=\"x17292b_r23_g41_b43_shape1\"/><path d=\"M 110,235 105,235 105,230 110,230 z\" fill=\"#1d3132\" fill-opacity=\"1.0\" id=\"x1d3132_r29_g49_b50_shape1\"/><path d=\"M 115,230 115,235 110,235 110,230 z\" fill=\"#22373a\" fill-opacity=\"1.0\" id=\"x22373a_r34_g55_b58_shape1\"/><path d=\"M 120,230 125,230 125,235 120,235 z\" fill=\"#345358\" fill-opacity=\"1.0\" id=\"x345358_r52_g83_b88_shape1\"/><path d=\"M 125,230 130,230 130,235 125,235 z\" fill=\"#395c5e\" fill-opacity=\"1.0\" id=\"x395c5e_r57_g92_b94_shape1\"/><path d=\"M 150,230 155,230 155,235 150,235 z\" fill=\"#4a7a7e\" fill-opacity=\"1.0\" id=\"x4a7a7e_r74_g122_b126_shape1\"/><path d=\"M 160,230 160,235 155,235 155,230 z\" fill=\"#4d7e83\" fill-opacity=\"1.0\" id=\"x4d7e83_r77_g126_b131_shape1\"/><path d=\"M 195,230 195,235 190,235 190,230 z\" fill=\"#5b949b\" fill-opacity=\"1.0\" id=\"x5b949b_r91_g148_b155_shape1\"/><path d=\"M 204,230 205,230 205,232 205,235 200,235 200,234 200,231 200,230 202,230 z\" fill=\"#64969f\" fill-opacity=\"1.0\" id=\"x64969f_r100_g150_b159_shape1\"/><path d=\"M 210,233 210,235 209,235 206,235 205,235 205,233 205,231 205,230 207,230 208,230 210,230 210,231 z\" fill=\"#6698a1\" fill-opacity=\"1.0\" id=\"x6698a1_r102_g152_b161_shape1\"/><path d=\"M 235,230 240,230 240,235 235,235 z\" fill=\"#81adb0\" fill-opacity=\"1.0\" id=\"x81adb0_r129_g173_b176_shape1\"/><path d=\"M 240,230 245,230 245,235 240,235 z\" fill=\"#86aeb0\" fill-opacity=\"1.0\" id=\"x86aeb0_r134_g174_b176_shape1\"/><path d=\"M 245,235 245,230 250,230 250,235 z\" fill=\"#8caeaf\" fill-opacity=\"1.0\" id=\"x8caeaf_r140_g174_b175_shape1\"/><path d=\"M 265,232 265,230 266,230 269,230 270,230 270,232 270,234 270,235 268,235 267,235 265,235 265,234 z\" fill=\"#98adb0\" fill-opacity=\"1.0\" id=\"x98adb0_r152_g173_b176_shape1\"/><path d=\"M 270,230 275,230 275,235 270,235 z\" fill=\"#94aead\" fill-opacity=\"1.0\" id=\"x94aead_r148_g174_b173_shape1\"/><path d=\"M 290,235 285,235 285,230 290,230 z\" fill=\"#83aaaf\" fill-opacity=\"1.0\" id=\"x83aaaf_r131_g170_b175_shape1\"/><path d=\"M 290,232 290,230 291,230 294,230 295,230 295,232 295,234 295,235 293,235 292,235 290,235 290,234 z\" fill=\"#7daaaf\" fill-opacity=\"1.0\" id=\"x7daaaf_r125_g170_b175_shape1\"/><path d=\"M 380,234 380,235 378,235 375,235 375,230 376,230 379,230 380,230 380,232 z\" fill=\"#4b767f\" fill-opacity=\"1.0\" id=\"x4b767f_r75_g118_b127_shape1\"/><path d=\"M 390,235 390,230 395,230 395,235 z\" fill=\"#2e4348\" fill-opacity=\"1.0\" id=\"x2e4348_r46_g67_b72_shape1\"/><path d=\"M 400,230 400,235 395,235 395,230 z\" fill=\"#2b4045\" fill-opacity=\"1.0\" id=\"x2b4045_r43_g64_b69_shape1\"/><path d=\"M 406,235 405,235 405,233 405,230 410,230 410,231 410,234 410,235 408,235 z\" fill=\"#1e3638\" fill-opacity=\"1.0\" id=\"x1e3638_r30_g54_b56_shape1\"/><path d=\"M 95,240 95,235 100,235 100,240 z\" fill=\"#1b2a2d\" fill-opacity=\"1.0\" id=\"x1b2a2d_r27_g42_b45_shape1\"/><path d=\"M 105,240 100,240 100,235 105,235 z\" fill=\"#1f2e31\" fill-opacity=\"1.0\" id=\"x1f2e31_r31_g46_b49_shape1\"/><path d=\"M 110,240 105,240 105,235 110,235 z\" fill=\"#1e3233\" fill-opacity=\"1.0\" id=\"x1e3233_r30_g50_b51_shape1\"/><path d=\"M 110,240 110,235 115,235 115,240 z\" fill=\"#233b3f\" fill-opacity=\"1.0\" id=\"x233b3f_r35_g59_b63_shape1\"/><path d=\"M 140,235 145,235 145,240 140,240 z\" fill=\"#4a6f77\" fill-opacity=\"1.0\" id=\"x4a6f77_r74_g111_b119_shape1\"/><path d=\"M 163,235 165,235 165,236 165,239 165,240 163,240 161,240 160,240 160,238 160,237 160,235 161,235 z\" fill=\"#528189\" fill-opacity=\"1.0\" id=\"x528189_r82_g129_b137_shape1\"/><path d=\"M 211,240 210,240 210,238 210,235 215,235 215,236 215,239 215,240 213,240 z\" fill=\"#689aa3\" fill-opacity=\"1.0\" id=\"x689aa3_r104_g154_b163_shape1\"/><path d=\"M 235,235 235,240 230,240 230,235 z\" fill=\"#7aacad\" fill-opacity=\"1.0\" id=\"x7aacad_r122_g172_b173_shape1\"/><path d=\"M 245,235 245,240 240,240 240,235 z\" fill=\"#8baeb2\" fill-opacity=\"1.0\" id=\"x8baeb2_r139_g174_b178_shape1\"/><path d=\"M 280,235 280,240 275,240 275,235 z\" fill=\"#95adaf\" fill-opacity=\"1.0\" id=\"x95adaf_r149_g173_b175_shape1\"/><path d=\"M 284,235 285,235 285,237 285,240 280,240 280,239 280,236 280,235 282,235 z\" fill=\"#8daaae\" fill-opacity=\"1.0\" id=\"x8daaae_r141_g170_b174_shape1\"/><path d=\"M 290,235 290,240 285,240 285,235 z\" fill=\"#87a8af\" fill-opacity=\"1.0\" id=\"x87a8af_r135_g168_b175_shape1\"/><path d=\"M 293,235 295,235 295,236 295,239 295,240 293,240 291,240 290,240 290,238 290,237 290,235 291,235 z\" fill=\"#81aab0\" fill-opacity=\"1.0\" id=\"x81aab0_r129_g170_b176_shape1\"/><path d=\"M 300,235 300,240 295,240 295,235 z\" fill=\"#75a6ab\" fill-opacity=\"1.0\" id=\"x75a6ab_r117_g166_b171_shape1\"/><path d=\"M 345,235 350,235 350,240 345,240 z\" fill=\"#5e959c\" fill-opacity=\"1.0\" id=\"x5e959c_r94_g149_b156_shape1\"/><path d=\"M 375,237 375,235 376,235 379,235 380,235 380,237 380,239 380,240 378,240 377,240 375,240 375,239 z\" fill=\"#4b7a82\" fill-opacity=\"1.0\" id=\"x4b7a82_r75_g122_b130_shape1\"/><path d=\"M 400,240 400,235 405,235 405,240 z\" fill=\"#254144\" fill-opacity=\"1.0\" id=\"x254144_r37_g65_b68_shape1\"/><path d=\"M 405,236 405,235 407,235 410,235 410,240 409,240 406,240 405,240 405,238 z\" fill=\"#213f3f\" fill-opacity=\"1.0\" id=\"x213f3f_r33_g63_b63_shape1\"/><path d=\"M 420,235 420,240 415,240 415,235 z\" fill=\"#0d1215\" fill-opacity=\"1.0\" id=\"x0d1215_r13_g18_b21_shape1\"/><path d=\"M 80,242 80,240 81,240 84,240 85,240 85,242 85,244 85,245 83,245 82,245 80,245 80,244 z\" fill=\"#1c1f24\" fill-opacity=\"1.0\" id=\"x1c1f24_r28_g31_b36_shape1\"/><path d=\"M 95,245 90,245 90,240 95,240 z\" fill=\"#1c2b2e\" fill-opacity=\"1.0\" id=\"x1c2b2e_r28_g43_b46_shape1\"/><path d=\"M 142,245 140,245 140,244 140,241 140,240 142,240 144,240 145,240 145,242 145,243 145,245 144,245 z\" fill=\"#4a7178\" fill-opacity=\"1.0\" id=\"x4a7178_r74_g113_b120_shape1\"/><path d=\"M 230,245 230,240 235,240 235,245 z\" fill=\"#7eacaa\" fill-opacity=\"1.0\" id=\"x7eacaa_r126_g172_b170_shape1\"/><path d=\"M 296,245 295,245 295,243 295,240 300,240 300,241 300,244 300,245 298,245 z\" fill=\"#78a8ac\" fill-opacity=\"1.0\" id=\"x78a8ac_r120_g168_b172_shape1\"/><path d=\"M 370,245 365,245 365,240 370,240 z\" fill=\"#54868d\" fill-opacity=\"1.0\" id=\"x54868d_r84_g134_b141_shape1\"/><path d=\"M 395,245 390,245 390,240 395,240 z\" fill=\"#2f484c\" fill-opacity=\"1.0\" id=\"x2f484c_r47_g72_b76_shape1\"/><path d=\"M 400,242 400,240 401,240 404,240 405,240 405,242 405,244 405,245 403,245 402,245 400,245 400,244 z\" fill=\"#274346\" fill-opacity=\"1.0\" id=\"x274346_r39_g67_b70_shape1\"/><path d=\"M 409,240 410,240 410,242 410,245 405,245 405,244 405,241 405,240 407,240 z\" fill=\"#234143\" fill-opacity=\"1.0\" id=\"x234143_r35_g65_b67_shape1\"/><path d=\"M 420,243 420,245 419,245 416,245 415,245 415,243 415,241 415,240 417,240 418,240 420,240 420,241 z\" fill=\"#263133\" fill-opacity=\"1.0\" id=\"x263133_r38_g49_b51_shape1\"/><path d=\"M 420,240 425,240 425,245 420,245 z\" fill=\"#020305\" fill-opacity=\"1.0\" id=\"x020305_r2_g3_b5_shape1\"/><path d=\"M 90,245 95,245 95,250 90,250 z\" fill=\"#1f2d30\" fill-opacity=\"1.0\" id=\"x1f2d30_r31_g45_b48_shape1\"/><path d=\"M 100,250 100,245 105,245 105,250 z\" fill=\"#1f3236\" fill-opacity=\"1.0\" id=\"x1f3236_r31_g50_b54_shape1\"/><path d=\"M 110,250 105,250 105,245 110,245 z\" fill=\"#24393c\" fill-opacity=\"1.0\" id=\"x24393c_r36_g57_b60_shape1\"/><path d=\"M 124,245 125,245 125,247 125,250 120,250 120,249 120,246 120,245 122,245 z\" fill=\"#3b5c61\" fill-opacity=\"1.0\" id=\"x3b5c61_r59_g92_b97_shape1\"/><path d=\"M 155,245 155,250 150,250 150,245 z\" fill=\"#4f7c81\" fill-opacity=\"1.0\" id=\"x4f7c81_r79_g124_b129_shape1\"/><path d=\"M 164,245 165,245 165,247 165,250 160,250 160,249 160,246 160,245 162,245 z\" fill=\"#53828a\" fill-opacity=\"1.0\" id=\"x53828a_r83_g130_b138_shape1\"/><path d=\"M 235,245 235,250 230,250 230,245 z\" fill=\"#7fabac\" fill-opacity=\"1.0\" id=\"x7fabac_r127_g171_b172_shape1\"/><path d=\"M 389,245 390,245 390,247 390,250 385,250 385,249 385,246 385,245 387,245 z\" fill=\"#43666a\" fill-opacity=\"1.0\" id=\"x43666a_r67_g102_b106_shape1\"/><path d=\"M 400,245 400,250 395,250 395,245 z\" fill=\"#2c4549\" fill-opacity=\"1.0\" id=\"x2c4549_r44_g69_b73_shape1\"/><path d=\"M 410,246 410,245 412,245 415,245 415,250 414,250 411,250 410,250 410,248 z\" fill=\"#264041\" fill-opacity=\"1.0\" id=\"x264041_r38_g64_b65_shape1\"/><path d=\"M 420,250 415,250 415,245 420,245 z\" fill=\"#283c3d\" fill-opacity=\"1.0\" id=\"x283c3d_r40_g60_b61_shape1\"/><path d=\"M 420,250 420,245 425,245 425,250 z\" fill=\"#000303\" fill-opacity=\"1.0\" id=\"x000303_r0_g3_b3_shape1\"/><path d=\"M 81,255 80,255 80,253 80,250 85,250 85,251 85,254 85,255 83,255 z\" fill=\"#1b292a\" fill-opacity=\"1.0\" id=\"x1b292a_r27_g41_b42_shape1\"/><path d=\"M 95,250 100,250 100,255 95,255 z\" fill=\"#213335\" fill-opacity=\"1.0\" id=\"x213335_r33_g51_b53_shape1\"/><path d=\"M 100,250 105,250 105,255 100,255 z\" fill=\"#23363a\" fill-opacity=\"1.0\" id=\"x23363a_r35_g54_b58_shape1\"/><path d=\"M 235,255 230,255 230,250 235,250 z\" fill=\"#7da9ac\" fill-opacity=\"1.0\" id=\"x7da9ac_r125_g169_b172_shape1\"/><path d=\"M 280,255 280,250 285,250 285,255 z\" fill=\"#93adae\" fill-opacity=\"1.0\" id=\"x93adae_r147_g173_b174_shape1\"/><path d=\"M 285,255 285,250 290,250 290,255 z\" fill=\"#8aacae\" fill-opacity=\"1.0\" id=\"x8aacae_r138_g172_b174_shape1\"/><path d=\"M 380,252 380,250 381,250 384,250 385,250 385,252 385,254 385,255 383,255 382,255 380,255 380,254 z\" fill=\"#4c747c\" fill-opacity=\"1.0\" id=\"x4c747c_r76_g116_b124_shape1\"/><path d=\"M 395,253 395,255 394,255 391,255 390,255 390,253 390,251 390,250 392,250 393,250 395,250 395,251 z\" fill=\"#2f4d4f\" fill-opacity=\"1.0\" id=\"x2f4d4f_r47_g77_b79_shape1\"/><path d=\"M 403,250 405,250 405,251 405,254 405,255 403,255 401,255 400,255 400,253 400,252 400,250 401,250 z\" fill=\"#2b474a\" fill-opacity=\"1.0\" id=\"x2b474a_r43_g71_b74_shape1\"/><path d=\"M 415,255 410,255 410,250 415,250 z\" fill=\"#284243\" fill-opacity=\"1.0\" id=\"x284243_r40_g66_b67_shape1\"/><path d=\"M 415,250 420,250 420,255 415,255 z\" fill=\"#293e41\" fill-opacity=\"1.0\" id=\"x293e41_r41_g62_b65_shape1\"/><path d=\"M 420,250 425,250 425,255 420,255 z\" fill=\"#020808\" fill-opacity=\"1.0\" id=\"x020808_r2_g8_b8_shape1\"/><path d=\"M 80,260 75,260 75,255 80,255 z\" fill=\"#000102\" fill-opacity=\"1.0\" id=\"x000102_r0_g1_b2_shape1\"/><path d=\"M 81,260 80,260 80,258 80,255 85,255 85,256 85,259 85,260 83,260 z\" fill=\"#1c2729\" fill-opacity=\"1.0\" id=\"x1c2729_r28_g39_b41_shape1\"/><path d=\"M 85,260 85,255 90,255 90,260 z\" fill=\"#1c3031\" fill-opacity=\"1.0\" id=\"x1c3031_r28_g48_b49_shape1\"/><path d=\"M 90,255 95,255 95,260 90,260 z\" fill=\"#203435\" fill-opacity=\"1.0\" id=\"x203435_r32_g52_b53_shape1\"/><path d=\"M 120,260 115,260 115,255 120,255 z\" fill=\"#385559\" fill-opacity=\"1.0\" id=\"x385559_r56_g85_b89_shape1\"/><path d=\"M 135,260 130,260 130,255 135,255 z\" fill=\"#43696c\" fill-opacity=\"1.0\" id=\"x43696c_r67_g105_b108_shape1\"/><path d=\"M 180,255 180,260 175,260 175,255 z\" fill=\"#598d98\" fill-opacity=\"1.0\" id=\"x598d98_r89_g141_b152_shape1\"/><path d=\"M 237,260 235,260 235,259 235,256 235,255 237,255 239,255 240,255 240,257 240,258 240,260 239,260 z\" fill=\"#88abad\" fill-opacity=\"1.0\" id=\"x88abad_r136_g171_b173_shape1\"/><path d=\"M 243,255 245,255 245,256 245,259 245,260 243,260 241,260 240,260 240,258 240,257 240,255 241,255 z\" fill=\"#8eadb0\" fill-opacity=\"1.0\" id=\"x8eadb0_r142_g173_b176_shape1\"/><path d=\"M 254,255 255,255 255,257 255,260 250,260 250,259 250,256 250,255 252,255 z\" fill=\"#9aafb2\" fill-opacity=\"1.0\" id=\"x9aafb2_r154_g175_b178_shape1\"/><path d=\"M 273,255 275,255 275,256 275,259 275,260 273,260 271,260 270,260 270,258 270,257 270,255 271,255 z\" fill=\"#a0b0b0\" fill-opacity=\"1.0\" id=\"xa0b0b0_r160_g176_b176_shape1\"/><path d=\"M 280,260 275,260 275,255 280,255 z\" fill=\"#9caeae\" fill-opacity=\"1.0\" id=\"x9caeae_r156_g174_b174_shape1\"/><path d=\"M 285,255 285,260 280,260 280,255 z\" fill=\"#94acae\" fill-opacity=\"1.0\" id=\"x94acae_r148_g172_b174_shape1\"/><path d=\"M 290,260 285,260 285,255 290,255 z\" fill=\"#8eacae\" fill-opacity=\"1.0\" id=\"x8eacae_r142_g172_b174_shape1\"/><path d=\"M 295,260 290,260 290,255 295,255 z\" fill=\"#82a9ae\" fill-opacity=\"1.0\" id=\"x82a9ae_r130_g169_b174_shape1\"/><path d=\"M 300,258 300,260 299,260 296,260 295,260 295,258 295,256 295,255 297,255 298,255 300,255 300,256 z\" fill=\"#78a9ae\" fill-opacity=\"1.0\" id=\"x78a9ae_r120_g169_b174_shape1\"/><path d=\"M 379,255 380,255 380,257 380,260 375,260 375,259 375,256 375,255 377,255 z\" fill=\"#4f7e86\" fill-opacity=\"1.0\" id=\"x4f7e86_r79_g126_b134_shape1\"/><path d=\"M 395,258 395,260 394,260 391,260 390,260 390,258 390,256 390,255 392,255 393,255 395,255 395,256 z\" fill=\"#304f54\" fill-opacity=\"1.0\" id=\"x304f54_r48_g79_b84_shape1\"/><path d=\"M 400,260 400,255 405,255 405,260 z\" fill=\"#2d494c\" fill-opacity=\"1.0\" id=\"x2d494c_r45_g73_b76_shape1\"/><path d=\"M 415,258 415,260 414,260 411,260 410,260 410,258 410,256 410,255 412,255 413,255 415,255 415,256 z\" fill=\"#2b4248\" fill-opacity=\"1.0\" id=\"x2b4248_r43_g66_b72_shape1\"/><path d=\"M 415,260 415,255 420,255 420,260 z\" fill=\"#2b4043\" fill-opacity=\"1.0\" id=\"x2b4043_r43_g64_b67_shape1\"/><path d=\"M 90,265 85,265 85,260 90,260 z\" fill=\"#1f3334\" fill-opacity=\"1.0\" id=\"x1f3334_r31_g51_b52_shape1\"/><path d=\"M 90,265 90,260 95,260 95,265 z\" fill=\"#223637\" fill-opacity=\"1.0\" id=\"x223637_r34_g54_b55_shape1\"/><path d=\"M 110,260 115,260 115,265 110,265 z\" fill=\"#2f484d\" fill-opacity=\"1.0\" id=\"x2f484d_r47_g72_b77_shape1\"/><path d=\"M 195,261 195,260 197,260 200,260 200,265 199,265 196,265 195,265 195,263 z\" fill=\"#61989b\" fill-opacity=\"1.0\" id=\"x61989b_r97_g152_b155_shape1\"/><path d=\"M 225,265 220,265 220,260 225,260 z\" fill=\"#6a9fa5\" fill-opacity=\"1.0\" id=\"x6a9fa5_r106_g159_b165_shape1\"/><path d=\"M 235,260 235,265 230,265 230,260 z\" fill=\"#7ba8ab\" fill-opacity=\"1.0\" id=\"x7ba8ab_r123_g168_b171_shape1\"/><path d=\"M 236,265 235,265 235,263 235,260 240,260 240,261 240,264 240,265 238,265 z\" fill=\"#85abae\" fill-opacity=\"1.0\" id=\"x85abae_r133_g171_b174_shape1\"/><path d=\"M 245,265 245,260 250,260 250,265 z\" fill=\"#93acb0\" fill-opacity=\"1.0\" id=\"x93acb0_r147_g172_b176_shape1\"/><path d=\"M 267,265 265,265 265,264 265,261 265,260 267,260 269,260 270,260 270,262 270,263 270,265 269,265 z\" fill=\"#9aacb0\" fill-opacity=\"1.0\" id=\"x9aacb0_r154_g172_b176_shape1\"/><path d=\"M 270,262 270,260 271,260 274,260 275,260 275,262 275,264 275,265 273,265 272,265 270,265 270,264 z\" fill=\"#9caeb0\" fill-opacity=\"1.0\" id=\"x9caeb0_r156_g174_b176_shape1\"/><path d=\"M 280,264 280,265 278,265 275,265 275,260 276,260 279,260 280,260 280,262 z\" fill=\"#98aaac\" fill-opacity=\"1.0\" id=\"x98aaac_r152_g170_b172_shape1\"/><path d=\"M 285,264 285,265 283,265 280,265 280,260 281,260 284,260 285,260 285,262 z\" fill=\"#92acad\" fill-opacity=\"1.0\" id=\"x92acad_r146_g172_b173_shape1\"/><path d=\"M 290,260 290,265 285,265 285,260 z\" fill=\"#8caaac\" fill-opacity=\"1.0\" id=\"x8caaac_r140_g170_b172_shape1\"/><path d=\"M 292,265 290,265 290,264 290,261 290,260 292,260 294,260 295,260 295,262 295,263 295,265 294,265 z\" fill=\"#81a8ad\" fill-opacity=\"1.0\" id=\"x81a8ad_r129_g168_b173_shape1\"/><path d=\"M 300,265 295,265 295,260 300,260 z\" fill=\"#76a5ab\" fill-opacity=\"1.0\" id=\"x76a5ab_r118_g165_b171_shape1\"/><path d=\"M 305,262 305,260 306,260 309,260 310,260 310,262 310,264 310,265 308,265 307,265 305,265 305,264 z\" fill=\"#6d9ea5\" fill-opacity=\"1.0\" id=\"x6d9ea5_r109_g158_b165_shape1\"/><path d=\"M 370,265 370,260 375,260 375,265 z\" fill=\"#52848d\" fill-opacity=\"1.0\" id=\"x52848d_r82_g132_b141_shape1\"/><path d=\"M 389,260 390,260 390,262 390,265 385,265 385,264 385,261 385,260 387,260 z\" fill=\"#486b71\" fill-opacity=\"1.0\" id=\"x486b71_r72_g107_b113_shape1\"/><path d=\"M 405,265 400,265 400,260 405,260 z\" fill=\"#2f4b4f\" fill-opacity=\"1.0\" id=\"x2f4b4f_r47_g75_b79_shape1\"/><path d=\"M 415,265 410,265 410,260 415,260 z\" fill=\"#2d4549\" fill-opacity=\"1.0\" id=\"x2d4549_r45_g69_b73_shape1\"/><path d=\"M 415,262 415,260 416,260 419,260 420,260 420,262 420,264 420,265 418,265 417,265 415,265 415,264 z\" fill=\"#2f4246\" fill-opacity=\"1.0\" id=\"x2f4246_r47_g66_b70_shape1\"/><path d=\"M 80,267 80,265 81,265 84,265 85,265 85,267 85,269 85,270 83,270 82,270 80,270 80,269 z\" fill=\"#253032\" fill-opacity=\"1.0\" id=\"x253032_r37_g48_b50_shape1\"/><path d=\"M 85,265 90,265 90,270 85,270 z\" fill=\"#213536\" fill-opacity=\"1.0\" id=\"x213536_r33_g53_b54_shape1\"/><path d=\"M 100,266 100,265 102,265 105,265 105,270 104,270 101,270 100,270 100,268 z\" fill=\"#253d3f\" fill-opacity=\"1.0\" id=\"x253d3f_r37_g61_b63_shape1\"/><path d=\"M 110,270 105,270 105,265 110,265 z\" fill=\"#263e40\" fill-opacity=\"1.0\" id=\"x263e40_r38_g62_b64_shape1\"/><path d=\"M 125,270 125,265 130,265 130,270 z\" fill=\"#3f6568\" fill-opacity=\"1.0\" id=\"x3f6568_r63_g101_b104_shape1\"/><path d=\"M 140,265 145,265 145,270 140,270 z\" fill=\"#4a7379\" fill-opacity=\"1.0\" id=\"x4a7379_r74_g115_b121_shape1\"/><path d=\"M 145,270 145,265 150,265 150,270 z\" fill=\"#4d787f\" fill-opacity=\"1.0\" id=\"x4d787f_r77_g120_b127_shape1\"/><path d=\"M 155,265 155,270 150,270 150,265 z\" fill=\"#4f7c82\" fill-opacity=\"1.0\" id=\"x4f7c82_r79_g124_b130_shape1\"/><path d=\"M 199,265 200,265 200,267 200,270 195,270 195,269 195,266 195,265 197,265 z\" fill=\"#60979c\" fill-opacity=\"1.0\" id=\"x60979c_r96_g151_b156_shape1\"/><path d=\"M 225,270 225,265 230,265 230,270 z\" fill=\"#70a1a8\" fill-opacity=\"1.0\" id=\"x70a1a8_r112_g161_b168_shape1\"/><path d=\"M 235,270 235,265 240,265 240,270 z\" fill=\"#82abaf\" fill-opacity=\"1.0\" id=\"x82abaf_r130_g171_b175_shape1\"/><path d=\"M 240,265 245,265 245,270 240,270 z\" fill=\"#88abaf\" fill-opacity=\"1.0\" id=\"x88abaf_r136_g171_b175_shape1\"/><path d=\"M 250,270 250,265 255,265 255,270 z\" fill=\"#96aeb0\" fill-opacity=\"1.0\" id=\"x96aeb0_r150_g174_b176_shape1\"/><path d=\"M 270,265 275,265 275,270 270,270 z\" fill=\"#9aadb3\" fill-opacity=\"1.0\" id=\"x9aadb3_r154_g173_b179_shape1\"/><path d=\"M 284,265 285,265 285,267 285,270 280,270 280,269 280,266 280,265 282,265 z\" fill=\"#91aaae\" fill-opacity=\"1.0\" id=\"x91aaae_r145_g170_b174_shape1\"/><path d=\"M 285,267 285,265 286,265 289,265 290,265 290,267 290,269 290,270 288,270 287,270 285,270 285,269 z\" fill=\"#8aa7ab\" fill-opacity=\"1.0\" id=\"x8aa7ab_r138_g167_b171_shape1\"/><path d=\"M 290,270 290,265 295,265 295,270 z\" fill=\"#7ea7ab\" fill-opacity=\"1.0\" id=\"x7ea7ab_r126_g167_b171_shape1\"/><path d=\"M 312,270 310,270 310,269 310,266 310,265 312,265 314,265 315,265 315,267 315,268 315,270 314,270 z\" fill=\"#6b9ca1\" fill-opacity=\"1.0\" id=\"x6b9ca1_r107_g156_b161_shape1\"/><path d=\"M 375,268 375,270 374,270 371,270 370,270 370,268 370,266 370,265 372,265 373,265 375,265 375,266 z\" fill=\"#51838c\" fill-opacity=\"1.0\" id=\"x51838c_r81_g131_b140_shape1\"/><path d=\"M 405,265 410,265 410,270 405,270 z\" fill=\"#2e4a4e\" fill-opacity=\"1.0\" id=\"x2e4a4e_r46_g74_b78_shape1\"/><path d=\"M 415,268 415,270 414,270 411,270 410,270 410,268 410,266 410,265 412,265 413,265 415,265 415,266 z\" fill=\"#2f464c\" fill-opacity=\"1.0\" id=\"x2f464c_r47_g70_b76_shape1\"/><path d=\"M 415,270 415,265 420,265 420,270 z\" fill=\"#364548\" fill-opacity=\"1.0\" id=\"x364548_r54_g69_b72_shape1\"/><path d=\"M 82,275 80,275 80,274 80,271 80,270 82,270 84,270 85,270 85,272 85,273 85,275 84,275 z\" fill=\"#000405\" fill-opacity=\"1.0\" id=\"x000405_r0_g4_b5_shape1\"/><path d=\"M 85,271 85,270 87,270 90,270 90,275 89,275 86,275 85,275 85,273 z\" fill=\"#273737\" fill-opacity=\"1.0\" id=\"x273737_r39_g55_b55_shape1\"/><path d=\"M 90,270 95,270 95,275 90,275 z\" fill=\"#223a3a\" fill-opacity=\"1.0\" id=\"x223a3a_r34_g58_b58_shape1\"/><path d=\"M 105,274 105,275 103,275 100,275 100,270 101,270 104,270 105,270 105,272 z\" fill=\"#273e44\" fill-opacity=\"1.0\" id=\"x273e44_r39_g62_b68_shape1\"/><path d=\"M 107,275 105,275 105,274 105,271 105,270 107,270 109,270 110,270 110,272 110,273 110,275 109,275 z\" fill=\"#263f43\" fill-opacity=\"1.0\" id=\"x263f43_r38_g63_b67_shape1\"/><path d=\"M 166,275 165,275 165,273 165,270 170,270 170,271 170,274 170,275 168,275 z\" fill=\"#568491\" fill-opacity=\"1.0\" id=\"x568491_r86_g132_b145_shape1\"/><path d=\"M 235,275 235,270 240,270 240,275 z\" fill=\"#7ca7ae\" fill-opacity=\"1.0\" id=\"x7ca7ae_r124_g167_b174_shape1\"/><path d=\"M 255,275 250,275 250,270 255,270 z\" fill=\"#8eb0b2\" fill-opacity=\"1.0\" id=\"x8eb0b2_r142_g176_b178_shape1\"/><path d=\"M 266,275 265,275 265,273 265,270 270,270 270,271 270,274 270,275 268,275 z\" fill=\"#99aeb3\" fill-opacity=\"1.0\" id=\"x99aeb3_r153_g174_b179_shape1\"/><path d=\"M 270,275 270,270 275,270 275,275 z\" fill=\"#8faeb3\" fill-opacity=\"1.0\" id=\"x8faeb3_r143_g174_b179_shape1\"/><path d=\"M 280,273 280,275 279,275 276,275 275,275 275,273 275,271 275,270 277,270 278,270 280,270 280,271 z\" fill=\"#8cadb2\" fill-opacity=\"1.0\" id=\"x8cadb2_r140_g173_b178_shape1\"/><path d=\"M 295,270 295,275 290,275 290,270 z\" fill=\"#7aa5ab\" fill-opacity=\"1.0\" id=\"x7aa5ab_r122_g165_b171_shape1\"/><path d=\"M 305,270 305,275 300,275 300,270 z\" fill=\"#6b9ba7\" fill-opacity=\"1.0\" id=\"x6b9ba7_r107_g155_b167_shape1\"/><path d=\"M 315,274 315,275 313,275 310,275 310,270 311,270 314,270 315,270 315,272 z\" fill=\"#69989e\" fill-opacity=\"1.0\" id=\"x69989e_r105_g152_b158_shape1\"/><path d=\"M 370,275 370,270 375,270 375,275 z\" fill=\"#51838a\" fill-opacity=\"1.0\" id=\"x51838a_r81_g131_b138_shape1\"/><path d=\"M 400,271 400,270 402,270 405,270 405,275 404,275 401,275 400,275 400,273 z\" fill=\"#304e50\" fill-opacity=\"1.0\" id=\"x304e50_r48_g78_b80_shape1\"/><path d=\"M 408,270 410,270 410,271 410,274 410,275 408,275 406,275 405,275 405,273 405,272 405,270 406,270 z\" fill=\"#2d4c4f\" fill-opacity=\"1.0\" id=\"x2d4c4f_r45_g76_b79_shape1\"/><path d=\"M 410,275 410,270 415,270 415,275 z\" fill=\"#324a4e\" fill-opacity=\"1.0\" id=\"x324a4e_r50_g74_b78_shape1\"/><path d=\"M 417,275 415,275 415,274 415,271 415,270 417,270 419,270 420,270 420,272 420,273 420,275 419,275 z\" fill=\"#0d1114\" fill-opacity=\"1.0\" id=\"x0d1114_r13_g17_b20_shape1\"/><path d=\"M 88,275 90,275 90,276 90,279 90,280 88,280 86,280 85,280 85,278 85,277 85,275 86,275 z\" fill=\"#2f3a3c\" fill-opacity=\"1.0\" id=\"x2f3a3c_r47_g58_b60_shape1\"/><path d=\"M 94,275 95,275 95,277 95,280 90,280 90,279 90,276 90,275 92,275 z\" fill=\"#263b3c\" fill-opacity=\"1.0\" id=\"x263b3c_r38_g59_b60_shape1\"/><path d=\"M 95,276 95,275 97,275 100,275 100,280 99,280 96,280 95,280 95,278 z\" fill=\"#223f3d\" fill-opacity=\"1.0\" id=\"x223f3d_r34_g63_b61_shape1\"/><path d=\"M 105,280 105,275 110,275 110,280 z\" fill=\"#274044\" fill-opacity=\"1.0\" id=\"x274044_r39_g64_b68_shape1\"/><path d=\"M 115,278 115,280 114,280 111,280 110,280 110,278 110,276 110,275 112,275 113,275 115,275 115,276 z\" fill=\"#2a474d\" fill-opacity=\"1.0\" id=\"x2a474d_r42_g71_b77_shape1\"/><path d=\"M 135,277 135,275 136,275 139,275 140,275 140,277 140,279 140,280 138,280 137,280 135,280 135,279 z\" fill=\"#477076\" fill-opacity=\"1.0\" id=\"x477076_r71_g112_b118_shape1\"/><path d=\"M 150,276 150,275 152,275 155,275 155,280 154,280 151,280 150,280 150,278 z\" fill=\"#507b82\" fill-opacity=\"1.0\" id=\"x507b82_r80_g123_b130_shape1\"/><path d=\"M 240,277 240,275 241,275 244,275 245,275 245,277 245,279 245,280 243,280 242,280 240,280 240,279 z\" fill=\"#7da7a6\" fill-opacity=\"1.0\" id=\"x7da7a6_r125_g167_b166_shape1\"/><path d=\"M 245,275 250,275 250,280 245,280 z\" fill=\"#82a9a8\" fill-opacity=\"1.0\" id=\"x82a9a8_r130_g169_b168_shape1\"/><path d=\"M 250,280 250,275 255,275 255,280 z\" fill=\"#88aaab\" fill-opacity=\"1.0\" id=\"x88aaab_r136_g170_b171_shape1\"/><path d=\"M 287,280 285,280 285,279 285,276 285,275 287,275 289,275 290,275 290,277 290,278 290,280 289,280 z\" fill=\"#7ca2a5\" fill-opacity=\"1.0\" id=\"x7ca2a5_r124_g162_b165_shape1\"/><path d=\"M 292,280 290,280 290,279 290,276 290,275 292,275 294,275 295,275 295,277 295,278 295,280 294,280 z\" fill=\"#77a0a6\" fill-opacity=\"1.0\" id=\"x77a0a6_r119_g160_b166_shape1\"/><path d=\"M 311,280 310,280 310,278 310,275 315,275 315,276 315,279 315,280 313,280 z\" fill=\"#68999e\" fill-opacity=\"1.0\" id=\"x68999e_r104_g153_b158_shape1\"/><path d=\"M 400,275 400,280 395,280 395,275 z\" fill=\"#345054\" fill-opacity=\"1.0\" id=\"x345054_r52_g80_b84_shape1\"/><path d=\"M 405,275 410,275 410,280 405,280 z\" fill=\"#304f52\" fill-opacity=\"1.0\" id=\"x304f52_r48_g79_b82_shape1\"/><path d=\"M 414,275 415,275 415,277 415,280 410,280 410,279 410,276 410,275 412,275 z\" fill=\"#394a51\" fill-opacity=\"1.0\" id=\"x394a51_r57_g74_b81_shape1\"/><path d=\"M 95,280 95,285 90,285 90,280 z\" fill=\"#2b3a3d\" fill-opacity=\"1.0\" id=\"x2b3a3d_r43_g58_b61_shape1\"/><path d=\"M 95,281 95,280 97,280 100,280 100,285 99,285 96,285 95,285 95,283 z\" fill=\"#243c3c\" fill-opacity=\"1.0\" id=\"x243c3c_r36_g60_b60_shape1\"/><path d=\"M 100,285 100,280 105,280 105,285 z\" fill=\"#274045\" fill-opacity=\"1.0\" id=\"x274045_r39_g64_b69_shape1\"/><path d=\"M 122,285 120,285 120,284 120,281 120,280 122,280 124,280 125,280 125,282 125,283 125,285 124,285 z\" fill=\"#3d6066\" fill-opacity=\"1.0\" id=\"x3d6066_r61_g96_b102_shape1\"/><path d=\"M 230,280 235,280 235,285 230,285 z\" fill=\"#6f9ca1\" fill-opacity=\"1.0\" id=\"x6f9ca1_r111_g156_b161_shape1\"/><path d=\"M 240,280 240,285 235,285 235,280 z\" fill=\"#759ea2\" fill-opacity=\"1.0\" id=\"x759ea2_r117_g158_b162_shape1\"/><path d=\"M 244,280 245,280 245,282 245,285 240,285 240,284 240,281 240,280 242,280 z\" fill=\"#7aa1a6\" fill-opacity=\"1.0\" id=\"x7aa1a6_r122_g161_b166_shape1\"/><path d=\"M 250,284 250,285 248,285 245,285 245,280 246,280 249,280 250,280 250,282 z\" fill=\"#81a4aa\" fill-opacity=\"1.0\" id=\"x81a4aa_r129_g164_b170_shape1\"/><path d=\"M 255,283 255,285 254,285 251,285 250,285 250,283 250,281 250,280 252,280 253,280 255,280 255,281 z\" fill=\"#82a3a8\" fill-opacity=\"1.0\" id=\"x82a3a8_r130_g163_b168_shape1\"/><path d=\"M 280,280 280,285 275,285 275,280 z\" fill=\"#7fa5a8\" fill-opacity=\"1.0\" id=\"x7fa5a8_r127_g165_b168_shape1\"/><path d=\"M 285,285 280,285 280,280 285,280 z\" fill=\"#7da3a6\" fill-opacity=\"1.0\" id=\"x7da3a6_r125_g163_b166_shape1\"/><path d=\"M 290,285 290,280 295,280 295,285 z\" fill=\"#769da4\" fill-opacity=\"1.0\" id=\"x769da4_r118_g157_b164_shape1\"/><path d=\"M 296,285 295,285 295,283 295,280 300,280 300,281 300,284 300,285 298,285 z\" fill=\"#729da4\" fill-opacity=\"1.0\" id=\"x729da4_r114_g157_b164_shape1\"/><path d=\"M 303,280 305,280 305,281 305,284 305,285 303,285 301,285 300,285 300,283 300,282 300,280 301,280 z\" fill=\"#6d9ca2\" fill-opacity=\"1.0\" id=\"x6d9ca2_r109_g156_b162_shape1\"/><path d=\"M 313,280 315,280 315,281 315,284 315,285 313,285 311,285 310,285 310,283 310,282 310,280 311,280 z\" fill=\"#68979d\" fill-opacity=\"1.0\" id=\"x68979d_r104_g151_b157_shape1\"/><path d=\"M 360,280 360,285 355,285 355,280 z\" fill=\"#578c92\" fill-opacity=\"1.0\" id=\"x578c92_r87_g140_b146_shape1\"/><path d=\"M 387,285 385,285 385,284 385,281 385,280 387,280 389,280 390,280 390,282 390,283 390,285 389,285 z\" fill=\"#385b61\" fill-opacity=\"1.0\" id=\"x385b61_r56_g91_b97_shape1\"/><path d=\"M 395,283 395,285 394,285 391,285 390,285 390,283 390,281 390,280 392,280 393,280 395,280 395,281 z\" fill=\"#345356\" fill-opacity=\"1.0\" id=\"x345356_r52_g83_b86_shape1\"/><path d=\"M 395,285 395,280 400,280 400,285 z\" fill=\"#335153\" fill-opacity=\"1.0\" id=\"x335153_r51_g81_b83_shape1\"/><path d=\"M 410,285 405,285 405,280 410,280 z\" fill=\"#3b4f56\" fill-opacity=\"1.0\" id=\"x3b4f56_r59_g79_b86_shape1\"/><path d=\"M 412,285 410,285 410,284 410,281 410,280 412,280 414,280 415,280 415,282 415,283 415,285 414,285 z\" fill=\"#00020c\" fill-opacity=\"1.0\" id=\"x00020c_r0_g2_b12_shape1\"/><path d=\"M 94,285 95,285 95,287 95,290 90,290 90,289 90,286 90,285 92,285 z\" fill=\"#000709\" fill-opacity=\"1.0\" id=\"x000709_r0_g7_b9_shape1\"/><path d=\"M 105,290 100,290 100,285 105,285 z\" fill=\"#294046\" fill-opacity=\"1.0\" id=\"x294046_r41_g64_b70_shape1\"/><path d=\"M 115,290 110,290 110,285 115,285 z\" fill=\"#2c474e\" fill-opacity=\"1.0\" id=\"x2c474e_r44_g71_b78_shape1\"/><path d=\"M 115,290 115,285 120,285 120,290 z\" fill=\"#37565b\" fill-opacity=\"1.0\" id=\"x37565b_r55_g86_b91_shape1\"/><path d=\"M 125,285 125,290 120,290 120,285 z\" fill=\"#3b5e64\" fill-opacity=\"1.0\" id=\"x3b5e64_r59_g94_b100_shape1\"/><path d=\"M 145,290 145,285 150,285 150,290 z\" fill=\"#4c7780\" fill-opacity=\"1.0\" id=\"x4c7780_r76_g119_b128_shape1\"/><path d=\"M 185,288 185,290 184,290 181,290 180,290 180,288 180,286 180,285 182,285 183,285 185,285 185,286 z\" fill=\"#588d93\" fill-opacity=\"1.0\" id=\"x588d93_r88_g141_b147_shape1\"/><path d=\"M 225,285 230,285 230,290 225,290 z\" fill=\"#6899a0\" fill-opacity=\"1.0\" id=\"x6899a0_r104_g153_b160_shape1\"/><path d=\"M 240,285 240,290 235,290 235,285 z\" fill=\"#759b9e\" fill-opacity=\"1.0\" id=\"x759b9e_r117_g155_b158_shape1\"/><path d=\"M 242,290 240,290 240,289 240,286 240,285 242,285 244,285 245,285 245,287 245,288 245,290 244,290 z\" fill=\"#769c9f\" fill-opacity=\"1.0\" id=\"x769c9f_r118_g156_b159_shape1\"/><path d=\"M 247,290 245,290 245,289 245,286 245,285 247,285 249,285 250,285 250,287 250,288 250,290 249,290 z\" fill=\"#7c9fa3\" fill-opacity=\"1.0\" id=\"x7c9fa3_r124_g159_b163_shape1\"/><path d=\"M 250,285 255,285 255,290 250,290 z\" fill=\"#80a2a4\" fill-opacity=\"1.0\" id=\"x80a2a4_r128_g162_b164_shape1\"/><path d=\"M 255,285 260,285 260,290 255,290 z\" fill=\"#82a1a6\" fill-opacity=\"1.0\" id=\"x82a1a6_r130_g161_b166_shape1\"/><path d=\"M 270,290 270,285 275,285 275,290 z\" fill=\"#7fa0a5\" fill-opacity=\"1.0\" id=\"x7fa0a5_r127_g160_b165_shape1\"/><path d=\"M 280,290 275,290 275,285 280,285 z\" fill=\"#7da0a4\" fill-opacity=\"1.0\" id=\"x7da0a4_r125_g160_b164_shape1\"/><path d=\"M 285,285 290,285 290,290 285,290 z\" fill=\"#799fa2\" fill-opacity=\"1.0\" id=\"x799fa2_r121_g159_b162_shape1\"/><path d=\"M 290,285 295,285 295,290 290,290 z\" fill=\"#749ba2\" fill-opacity=\"1.0\" id=\"x749ba2_r116_g155_b162_shape1\"/><path d=\"M 310,285 315,285 315,290 310,290 z\" fill=\"#6b969d\" fill-opacity=\"1.0\" id=\"x6b969d_r107_g150_b157_shape1\"/><path d=\"M 315,286 315,285 317,285 320,285 320,290 319,290 316,290 315,290 315,288 z\" fill=\"#67969c\" fill-opacity=\"1.0\" id=\"x67969c_r103_g150_b156_shape1\"/><path d=\"M 325,288 325,290 324,290 321,290 320,290 320,288 320,286 320,285 322,285 323,285 325,285 325,286 z\" fill=\"#66959b\" fill-opacity=\"1.0\" id=\"x66959b_r102_g149_b155_shape1\"/><path d=\"M 325,285 330,285 330,290 325,290 z\" fill=\"#65949c\" fill-opacity=\"1.0\" id=\"x65949c_r101_g148_b156_shape1\"/><path d=\"M 335,285 335,290 330,290 330,285 z\" fill=\"#62949b\" fill-opacity=\"1.0\" id=\"x62949b_r98_g148_b155_shape1\"/><path d=\"M 390,290 385,290 385,285 390,285 z\" fill=\"#32575d\" fill-opacity=\"1.0\" id=\"x32575d_r50_g87_b93_shape1\"/><path d=\"M 395,285 395,290 390,290 390,285 z\" fill=\"#345658\" fill-opacity=\"1.0\" id=\"x345658_r52_g86_b88_shape1\"/><path d=\"M 400,285 405,285 405,290 400,290 z\" fill=\"#345155\" fill-opacity=\"1.0\" id=\"x345155_r52_g81_b85_shape1\"/><path d=\"M 410,289 410,290 408,290 405,290 405,285 406,285 409,285 410,285 410,287 z\" fill=\"#0e1720\" fill-opacity=\"1.0\" id=\"x0e1720_r14_g23_b32_shape1\"/><path d=\"M 415,289 415,290 413,290 410,290 410,285 411,285 414,285 415,285 415,287 z\" fill=\"#00000a\" fill-opacity=\"1.0\" id=\"x00000a_r0_g0_b10_shape1\"/><path d=\"M 100,293 100,295 99,295 96,295 95,295 95,293 95,291 95,290 97,290 98,290 100,290 100,291 z\" fill=\"#060e11\" fill-opacity=\"1.0\" id=\"x060e11_r6_g14_b17_shape1\"/><path d=\"M 100,295 100,290 105,290 105,295 z\" fill=\"#293c40\" fill-opacity=\"1.0\" id=\"x293c40_r41_g60_b64_shape1\"/><path d=\"M 110,292 110,290 111,290 114,290 115,290 115,292 115,294 115,295 113,295 112,295 110,295 110,294 z\" fill=\"#2a464a\" fill-opacity=\"1.0\" id=\"x2a464a_r42_g70_b74_shape1\"/><path d=\"M 120,290 125,290 125,295 120,295 z\" fill=\"#395e64\" fill-opacity=\"1.0\" id=\"x395e64_r57_g94_b100_shape1\"/><path d=\"M 156,295 155,295 155,293 155,290 160,290 160,291 160,294 160,295 158,295 z\" fill=\"#508084\" fill-opacity=\"1.0\" id=\"x508084_r80_g128_b132_shape1\"/><path d=\"M 222,295 220,295 220,294 220,291 220,290 222,290 224,290 225,290 225,292 225,293 225,295 224,295 z\" fill=\"#68989c\" fill-opacity=\"1.0\" id=\"x68989c_r104_g152_b156_shape1\"/><path d=\"M 225,295 225,290 230,290 230,295 z\" fill=\"#69999d\" fill-opacity=\"1.0\" id=\"x69999d_r105_g153_b157_shape1\"/><path d=\"M 235,295 230,295 230,290 235,290 z\" fill=\"#6d9a9f\" fill-opacity=\"1.0\" id=\"x6d9a9f_r109_g154_b159_shape1\"/><path d=\"M 240,290 245,290 245,295 240,295 z\" fill=\"#709ba2\" fill-opacity=\"1.0\" id=\"x709ba2_r112_g155_b162_shape1\"/><path d=\"M 245,291 245,290 247,290 250,290 250,295 249,295 246,295 245,295 245,293 z\" fill=\"#759ca3\" fill-opacity=\"1.0\" id=\"x759ca3_r117_g156_b163_shape1\"/><path d=\"M 251,295 250,295 250,293 250,290 255,290 255,291 255,294 255,295 253,295 z\" fill=\"#779ca2\" fill-opacity=\"1.0\" id=\"x779ca2_r119_g156_b162_shape1\"/><path d=\"M 270,295 265,295 265,290 270,290 z\" fill=\"#7d9ea5\" fill-opacity=\"1.0\" id=\"x7d9ea5_r125_g158_b165_shape1\"/><path d=\"M 270,295 270,290 275,290 275,295 z\" fill=\"#7e9fa4\" fill-opacity=\"1.0\" id=\"x7e9fa4_r126_g159_b164_shape1\"/><path d=\"M 275,290 280,290 280,295 275,295 z\" fill=\"#7c9da2\" fill-opacity=\"1.0\" id=\"x7c9da2_r124_g157_b162_shape1\"/><path d=\"M 283,290 285,290 285,291 285,294 285,295 283,295 281,295 280,295 280,293 280,292 280,290 281,290 z\" fill=\"#799ca0\" fill-opacity=\"1.0\" id=\"x799ca0_r121_g156_b160_shape1\"/><path d=\"M 287,295 285,295 285,294 285,291 285,290 287,290 289,290 290,290 290,292 290,293 290,295 289,295 z\" fill=\"#789b9f\" fill-opacity=\"1.0\" id=\"x789b9f_r120_g155_b159_shape1\"/><path d=\"M 295,290 295,295 290,295 290,290 z\" fill=\"#719a9e\" fill-opacity=\"1.0\" id=\"x719a9e_r113_g154_b158_shape1\"/><path d=\"M 300,295 295,295 295,290 300,290 z\" fill=\"#6e999f\" fill-opacity=\"1.0\" id=\"x6e999f_r110_g153_b159_shape1\"/><path d=\"M 310,293 310,295 309,295 306,295 305,295 305,293 305,291 305,290 307,290 308,290 310,290 310,291 z\" fill=\"#6b989d\" fill-opacity=\"1.0\" id=\"x6b989d_r107_g152_b157_shape1\"/><path d=\"M 315,290 315,295 310,295 310,290 z\" fill=\"#66979c\" fill-opacity=\"1.0\" id=\"x66979c_r102_g151_b156_shape1\"/><path d=\"M 325,290 325,295 320,295 320,290 z\" fill=\"#65949a\" fill-opacity=\"1.0\" id=\"x65949a_r101_g148_b154_shape1\"/><path d=\"M 325,290 330,290 330,295 325,295 z\" fill=\"#63949b\" fill-opacity=\"1.0\" id=\"x63949b_r99_g148_b155_shape1\"/><path d=\"M 380,292 380,290 381,290 384,290 385,290 385,292 385,294 385,295 383,295 382,295 380,295 380,294 z\" fill=\"#4c7378\" fill-opacity=\"1.0\" id=\"x4c7378_r76_g115_b120_shape1\"/><path d=\"M 390,290 390,295 385,295 385,290 z\" fill=\"#36575c\" fill-opacity=\"1.0\" id=\"x36575c_r54_g87_b92_shape1\"/><path d=\"M 392,295 390,295 390,294 390,291 390,290 392,290 394,290 395,290 395,292 395,293 395,295 394,295 z\" fill=\"#2f5756\" fill-opacity=\"1.0\" id=\"x2f5756_r47_g87_b86_shape1\"/><path d=\"M 395,290 400,290 400,295 395,295 z\" fill=\"#325251\" fill-opacity=\"1.0\" id=\"x325251_r50_g82_b81_shape1\"/><path d=\"M 400,290 405,290 405,295 400,295 z\" fill=\"#142424\" fill-opacity=\"1.0\" id=\"x142424_r20_g36_b36_shape1\"/><path d=\"M 100,295 105,295 105,300 100,300 z\" fill=\"#000307\" fill-opacity=\"1.0\" id=\"x000307_r0_g3_b7_shape1\"/><path d=\"M 110,300 105,300 105,295 110,295 z\" fill=\"#2e3f46\" fill-opacity=\"1.0\" id=\"x2e3f46_r46_g63_b70_shape1\"/><path d=\"M 110,295 115,295 115,300 110,300 z\" fill=\"#2e474c\" fill-opacity=\"1.0\" id=\"x2e474c_r46_g71_b76_shape1\"/><path d=\"M 121,300 120,300 120,298 120,295 125,295 125,296 125,299 125,300 123,300 z\" fill=\"#375c62\" fill-opacity=\"1.0\" id=\"x375c62_r55_g92_b98_shape1\"/><path d=\"M 140,295 140,300 135,300 135,295 z\" fill=\"#416c72\" fill-opacity=\"1.0\" id=\"x416c72_r65_g108_b114_shape1\"/><path d=\"M 155,295 155,300 150,300 150,295 z\" fill=\"#4f7a80\" fill-opacity=\"1.0\" id=\"x4f7a80_r79_g122_b128_shape1\"/><path d=\"M 235,295 235,300 230,300 230,295 z\" fill=\"#6a979d\" fill-opacity=\"1.0\" id=\"x6a979d_r106_g151_b157_shape1\"/><path d=\"M 235,300 235,295 240,295 240,300 z\" fill=\"#6f979f\" fill-opacity=\"1.0\" id=\"x6f979f_r111_g151_b159_shape1\"/><path d=\"M 240,295 245,295 245,300 240,300 z\" fill=\"#7098a0\" fill-opacity=\"1.0\" id=\"x7098a0_r112_g152_b160_shape1\"/><path d=\"M 245,296 245,295 247,295 250,295 250,300 249,300 246,300 245,300 245,298 z\" fill=\"#74999f\" fill-opacity=\"1.0\" id=\"x74999f_r116_g153_b159_shape1\"/><path d=\"M 255,300 250,300 250,295 255,295 z\" fill=\"#789ba1\" fill-opacity=\"1.0\" id=\"x789ba1_r120_g155_b161_shape1\"/><path d=\"M 275,299 275,300 273,300 270,300 270,295 271,295 274,295 275,295 275,297 z\" fill=\"#799aa1\" fill-opacity=\"1.0\" id=\"x799aa1_r121_g154_b161_shape1\"/><path d=\"M 280,295 280,300 275,300 275,295 z\" fill=\"#7899a0\" fill-opacity=\"1.0\" id=\"x7899a0_r120_g153_b160_shape1\"/><path d=\"M 294,295 295,295 295,297 295,300 290,300 290,299 290,296 290,295 292,295 z\" fill=\"#71989d\" fill-opacity=\"1.0\" id=\"x71989d_r113_g152_b157_shape1\"/><path d=\"M 305,300 305,295 310,295 310,300 z\" fill=\"#6a979c\" fill-opacity=\"1.0\" id=\"x6a979c_r106_g151_b156_shape1\"/><path d=\"M 320,297 320,295 321,295 324,295 325,295 325,297 325,299 325,300 323,300 322,300 320,300 320,299 z\" fill=\"#669399\" fill-opacity=\"1.0\" id=\"x669399_r102_g147_b153_shape1\"/><path d=\"M 345,295 345,300 340,300 340,295 z\" fill=\"#5e8f96\" fill-opacity=\"1.0\" id=\"x5e8f96_r94_g143_b150_shape1\"/><path d=\"M 350,300 345,300 345,295 350,295 z\" fill=\"#5d8e93\" fill-opacity=\"1.0\" id=\"x5d8e93_r93_g142_b147_shape1\"/><path d=\"M 365,300 365,295 370,295 370,300 z\" fill=\"#528284\" fill-opacity=\"1.0\" id=\"x528284_r82_g130_b132_shape1\"/><path d=\"M 370,300 370,295 375,295 375,300 z\" fill=\"#508082\" fill-opacity=\"1.0\" id=\"x508082_r80_g128_b130_shape1\"/><path d=\"M 380,300 375,300 375,295 380,295 z\" fill=\"#507c7f\" fill-opacity=\"1.0\" id=\"x507c7f_r80_g124_b127_shape1\"/><path d=\"M 388,295 390,295 390,296 390,299 390,300 388,300 386,300 385,300 385,298 385,297 385,295 386,295 z\" fill=\"#355959\" fill-opacity=\"1.0\" id=\"x355959_r53_g89_b89_shape1\"/><path d=\"M 390,297 390,295 391,295 394,295 395,295 395,297 395,299 395,300 393,300 392,300 390,300 390,299 z\" fill=\"#34514f\" fill-opacity=\"1.0\" id=\"x34514f_r52_g81_b79_shape1\"/><path d=\"M 396,300 395,300 395,298 395,295 400,295 400,296 400,299 400,300 398,300 z\" fill=\"#020d0f\" fill-opacity=\"1.0\" id=\"x020d0f_r2_g13_b15_shape1\"/><path d=\"M 110,305 105,305 105,300 110,300 z\" fill=\"#000206\" fill-opacity=\"1.0\" id=\"x000206_r0_g2_b6_shape1\"/><path d=\"M 110,301 110,300 112,300 115,300 115,305 114,305 111,305 110,305 110,303 z\" fill=\"#394a52\" fill-opacity=\"1.0\" id=\"x394a52_r57_g74_b82_shape1\"/><path d=\"M 125,300 130,300 130,305 125,305 z\" fill=\"#3c6169\" fill-opacity=\"1.0\" id=\"x3c6169_r60_g97_b105_shape1\"/><path d=\"M 130,305 130,300 135,300 135,305 z\" fill=\"#41686f\" fill-opacity=\"1.0\" id=\"x41686f_r65_g104_b111_shape1\"/><path d=\"M 140,305 140,300 145,300 145,305 z\" fill=\"#467178\" fill-opacity=\"1.0\" id=\"x467178_r70_g113_b120_shape1\"/><path d=\"M 153,300 155,300 155,301 155,304 155,305 153,305 151,305 150,305 150,303 150,302 150,300 151,300 z\" fill=\"#4e797f\" fill-opacity=\"1.0\" id=\"x4e797f_r78_g121_b127_shape1\"/><path d=\"M 220,304 220,305 218,305 215,305 215,300 216,300 219,300 220,300 220,302 z\" fill=\"#62939a\" fill-opacity=\"1.0\" id=\"x62939a_r98_g147_b154_shape1\"/><path d=\"M 220,301 220,300 222,300 225,300 225,305 224,305 221,305 220,305 220,303 z\" fill=\"#66959d\" fill-opacity=\"1.0\" id=\"x66959d_r102_g149_b157_shape1\"/><path d=\"M 230,300 230,305 225,305 225,300 z\" fill=\"#69969c\" fill-opacity=\"1.0\" id=\"x69969c_r105_g150_b156_shape1\"/><path d=\"M 240,300 240,305 235,305 235,300 z\" fill=\"#6f959e\" fill-opacity=\"1.0\" id=\"x6f959e_r111_g149_b158_shape1\"/><path d=\"M 242,305 240,305 240,304 240,301 240,300 242,300 244,300 245,300 245,302 245,303 245,305 244,305 z\" fill=\"#70959d\" fill-opacity=\"1.0\" id=\"x70959d_r112_g149_b157_shape1\"/><path d=\"M 245,300 250,300 250,305 245,305 z\" fill=\"#75969d\" fill-opacity=\"1.0\" id=\"x75969d_r117_g150_b157_shape1\"/><path d=\"M 255,303 255,305 254,305 251,305 250,305 250,303 250,301 250,300 252,300 253,300 255,300 255,301 z\" fill=\"#78979c\" fill-opacity=\"1.0\" id=\"x78979c_r120_g151_b156_shape1\"/><path d=\"M 270,305 270,300 275,300 275,305 z\" fill=\"#79979f\" fill-opacity=\"1.0\" id=\"x79979f_r121_g151_b159_shape1\"/><path d=\"M 290,300 295,300 295,305 290,305 z\" fill=\"#71969c\" fill-opacity=\"1.0\" id=\"x71969c_r113_g150_b156_shape1\"/><path d=\"M 320,300 325,300 325,305 320,305 z\" fill=\"#659298\" fill-opacity=\"1.0\" id=\"x659298_r101_g146_b152_shape1\"/><path d=\"M 325,300 330,300 330,305 325,305 z\" fill=\"#629296\" fill-opacity=\"1.0\" id=\"x629296_r98_g146_b150_shape1\"/><path d=\"M 335,300 335,305 330,305 330,300 z\" fill=\"#5f9097\" fill-opacity=\"1.0\" id=\"x5f9097_r95_g144_b151_shape1\"/><path d=\"M 340,305 340,300 345,300 345,305 z\" fill=\"#5e8d95\" fill-opacity=\"1.0\" id=\"x5e8d95_r94_g141_b149_shape1\"/><path d=\"M 350,300 350,305 345,305 345,300 z\" fill=\"#5c8b91\" fill-opacity=\"1.0\" id=\"x5c8b91_r92_g139_b145_shape1\"/><path d=\"M 375,300 380,300 380,305 375,305 z\" fill=\"#50797f\" fill-opacity=\"1.0\" id=\"x50797f_r80_g121_b127_shape1\"/><path d=\"M 380,301 380,300 382,300 385,300 385,305 384,305 381,305 380,305 380,303 z\" fill=\"#4a6b70\" fill-opacity=\"1.0\" id=\"x4a6b70_r74_g107_b112_shape1\"/><path d=\"M 390,304 390,305 388,305 385,305 385,300 386,300 389,300 390,300 390,302 z\" fill=\"#46595f\" fill-opacity=\"1.0\" id=\"x46595f_r70_g89_b95_shape1\"/><path d=\"M 390,301 390,300 392,300 395,300 395,305 394,305 391,305 390,305 390,303 z\" fill=\"#000408\" fill-opacity=\"1.0\" id=\"x000408_r0_g4_b8_shape1\"/><path d=\"M 116,310 115,310 115,308 115,305 120,305 120,306 120,309 120,310 118,310 z\" fill=\"#000a10\" fill-opacity=\"1.0\" id=\"x000a10_r0_g10_b16_shape1\"/><path d=\"M 120,305 125,305 125,310 120,310 z\" fill=\"#3c575e\" fill-opacity=\"1.0\" id=\"x3c575e_r60_g87_b94_shape1\"/><path d=\"M 130,309 130,310 128,310 125,310 125,305 126,305 129,305 130,305 130,307 z\" fill=\"#3d5e65\" fill-opacity=\"1.0\" id=\"x3d5e65_r61_g94_b101_shape1\"/><path d=\"M 135,310 130,310 130,305 135,305 z\" fill=\"#40676e\" fill-opacity=\"1.0\" id=\"x40676e_r64_g103_b110_shape1\"/><path d=\"M 135,306 135,305 137,305 140,305 140,310 139,310 136,310 135,310 135,308 z\" fill=\"#436972\" fill-opacity=\"1.0\" id=\"x436972_r67_g105_b114_shape1\"/><path d=\"M 140,305 145,305 145,310 140,310 z\" fill=\"#446f76\" fill-opacity=\"1.0\" id=\"x446f76_r68_g111_b118_shape1\"/><path d=\"M 165,310 160,310 160,305 165,305 z\" fill=\"#4f8085\" fill-opacity=\"1.0\" id=\"x4f8085_r79_g128_b133_shape1\"/><path d=\"M 210,310 210,305 215,305 215,310 z\" fill=\"#5f9095\" fill-opacity=\"1.0\" id=\"x5f9095_r95_g144_b149_shape1\"/><path d=\"M 220,309 220,310 218,310 215,310 215,305 216,305 219,305 220,305 220,307 z\" fill=\"#619296\" fill-opacity=\"1.0\" id=\"x619296_r97_g146_b150_shape1\"/><path d=\"M 235,307 235,305 236,305 239,305 240,305 240,307 240,309 240,310 238,310 237,310 235,310 235,309 z\" fill=\"#6d939c\" fill-opacity=\"1.0\" id=\"x6d939c_r109_g147_b156_shape1\"/><path d=\"M 240,305 245,305 245,310 240,310 z\" fill=\"#71939c\" fill-opacity=\"1.0\" id=\"x71939c_r113_g147_b156_shape1\"/><path d=\"M 265,310 265,305 270,305 270,310 z\" fill=\"#76979c\" fill-opacity=\"1.0\" id=\"x76979c_r118_g151_b156_shape1\"/><path d=\"M 275,305 275,310 270,310 270,305 z\" fill=\"#7896a0\" fill-opacity=\"1.0\" id=\"x7896a0_r120_g150_b160_shape1\"/><path d=\"M 279,305 280,305 280,307 280,310 275,310 275,309 275,306 275,305 277,305 z\" fill=\"#78969e\" fill-opacity=\"1.0\" id=\"x78969e_r120_g150_b158_shape1\"/><path d=\"M 300,305 300,310 295,310 295,305 z\" fill=\"#6d969c\" fill-opacity=\"1.0\" id=\"x6d969c_r109_g150_b156_shape1\"/><path d=\"M 305,305 310,305 310,310 305,310 z\" fill=\"#6b949a\" fill-opacity=\"1.0\" id=\"x6b949a_r107_g148_b154_shape1\"/><path d=\"M 313,305 315,305 315,306 315,309 315,310 313,310 311,310 310,310 310,308 310,307 310,305 311,305 z\" fill=\"#679298\" fill-opacity=\"1.0\" id=\"x679298_r103_g146_b152_shape1\"/><path d=\"M 316,310 315,310 315,308 315,305 320,305 320,306 320,309 320,310 318,310 z\" fill=\"#649196\" fill-opacity=\"1.0\" id=\"x649196_r100_g145_b150_shape1\"/><path d=\"M 350,310 350,305 355,305 355,310 z\" fill=\"#5a878d\" fill-opacity=\"1.0\" id=\"x5a878d_r90_g135_b141_shape1\"/><path d=\"M 365,309 365,310 363,310 360,310 360,305 361,305 364,305 365,305 365,307 z\" fill=\"#538489\" fill-opacity=\"1.0\" id=\"x538489_r83_g132_b137_shape1\"/><path d=\"M 379,305 380,305 380,307 380,310 375,310 375,309 375,306 375,305 377,305 z\" fill=\"#53767c\" fill-opacity=\"1.0\" id=\"x53767c_r83_g118_b124_shape1\"/><path d=\"M 385,310 380,310 380,305 385,305 z\" fill=\"#07161d\" fill-opacity=\"1.0\" id=\"x07161d_r7_g22_b29_shape1\"/><path d=\"M 389,305 390,305 390,307 390,310 385,310 385,309 385,306 385,305 387,305 z\" fill=\"#02070b\" fill-opacity=\"1.0\" id=\"x02070b_r2_g7_b11_shape1\"/><path d=\"M 120,311 120,310 122,310 125,310 125,315 124,315 121,315 120,315 120,313 z\" fill=\"#061319\" fill-opacity=\"1.0\" id=\"x061319_r6_g19_b25_shape1\"/><path d=\"M 130,310 130,315 125,315 125,310 z\" fill=\"#1d393d\" fill-opacity=\"1.0\" id=\"x1d393d_r29_g57_b61_shape1\"/><path d=\"M 135,315 135,310 140,310 140,315 z\" fill=\"#45666f\" fill-opacity=\"1.0\" id=\"x45666f_r69_g102_b111_shape1\"/><path d=\"M 145,314 145,315 143,315 140,315 140,310 141,310 144,310 145,310 145,312 z\" fill=\"#466e76\" fill-opacity=\"1.0\" id=\"x466e76_r70_g110_b118_shape1\"/><path d=\"M 200,315 200,310 205,310 205,315 z\" fill=\"#5c8d94\" fill-opacity=\"1.0\" id=\"x5c8d94_r92_g141_b148_shape1\"/><path d=\"M 210,310 210,315 205,315 205,310 z\" fill=\"#5f8e94\" fill-opacity=\"1.0\" id=\"x5f8e94_r95_g142_b148_shape1\"/><path d=\"M 210,310 215,310 215,315 210,315 z\" fill=\"#609094\" fill-opacity=\"1.0\" id=\"x609094_r96_g144_b148_shape1\"/><path d=\"M 220,310 225,310 225,315 220,315 z\" fill=\"#639397\" fill-opacity=\"1.0\" id=\"x639397_r99_g147_b151_shape1\"/><path d=\"M 230,310 230,315 225,315 225,310 z\" fill=\"#669198\" fill-opacity=\"1.0\" id=\"x669198_r102_g145_b152_shape1\"/><path d=\"M 232,315 230,315 230,314 230,311 230,310 232,310 234,310 235,310 235,312 235,313 235,315 234,315 z\" fill=\"#69949b\" fill-opacity=\"1.0\" id=\"x69949b_r105_g148_b155_shape1\"/><path d=\"M 245,315 240,315 240,310 245,310 z\" fill=\"#6e939b\" fill-opacity=\"1.0\" id=\"x6e939b_r110_g147_b155_shape1\"/><path d=\"M 245,310 250,310 250,315 245,315 z\" fill=\"#71949a\" fill-opacity=\"1.0\" id=\"x71949a_r113_g148_b154_shape1\"/><path d=\"M 255,310 255,315 250,315 250,310 z\" fill=\"#759499\" fill-opacity=\"1.0\" id=\"x759499_r117_g148_b153_shape1\"/><path d=\"M 260,310 260,315 255,315 255,310 z\" fill=\"#789599\" fill-opacity=\"1.0\" id=\"x789599_r120_g149_b153_shape1\"/><path d=\"M 260,310 265,310 265,315 260,315 z\" fill=\"#799599\" fill-opacity=\"1.0\" id=\"x799599_r121_g149_b153_shape1\"/><path d=\"M 265,315 265,310 270,310 270,315 z\" fill=\"#75969b\" fill-opacity=\"1.0\" id=\"x75969b_r117_g150_b155_shape1\"/><path d=\"M 275,310 275,315 270,315 270,310 z\" fill=\"#78959b\" fill-opacity=\"1.0\" id=\"x78959b_r120_g149_b155_shape1\"/><path d=\"M 294,310 295,310 295,312 295,315 290,315 290,314 290,311 290,310 292,310 z\" fill=\"#74929c\" fill-opacity=\"1.0\" id=\"x74929c_r116_g146_b156_shape1\"/><path d=\"M 296,315 295,315 295,313 295,310 300,310 300,311 300,314 300,315 298,315 z\" fill=\"#6e959c\" fill-opacity=\"1.0\" id=\"x6e959c_r110_g149_b156_shape1\"/><path d=\"M 315,315 310,315 310,310 315,310 z\" fill=\"#689197\" fill-opacity=\"1.0\" id=\"x689197_r104_g145_b151_shape1\"/><path d=\"M 325,310 330,310 330,315 325,315 z\" fill=\"#639095\" fill-opacity=\"1.0\" id=\"x639095_r99_g144_b149_shape1\"/><path d=\"M 339,310 340,310 340,312 340,315 335,315 335,314 335,311 335,310 337,310 z\" fill=\"#5a8d91\" fill-opacity=\"1.0\" id=\"x5a8d91_r90_g141_b145_shape1\"/><path d=\"M 355,310 360,310 360,315 355,315 z\" fill=\"#57838c\" fill-opacity=\"1.0\" id=\"x57838c_r87_g131_b140_shape1\"/><path d=\"M 360,312 360,310 361,310 364,310 365,310 365,312 365,314 365,315 363,315 362,315 360,315 360,314 z\" fill=\"#567e86\" fill-opacity=\"1.0\" id=\"x567e86_r86_g126_b134_shape1\"/><path d=\"M 370,315 370,310 375,310 375,315 z\" fill=\"#36545e\" fill-opacity=\"1.0\" id=\"x36545e_r54_g84_b94_shape1\"/><path d=\"M 380,313 380,315 379,315 376,315 375,315 375,313 375,311 375,310 377,310 378,310 380,310 380,311 z\" fill=\"#23363d\" fill-opacity=\"1.0\" id=\"x23363d_r35_g54_b61_shape1\"/><path d=\"M 385,310 390,310 390,315 385,315 z\" fill=\"#020005\" fill-opacity=\"1.0\" id=\"x020005_r2_g0_b5_shape1\"/><path d=\"M 120,316 120,315 122,315 125,315 125,320 124,320 121,320 120,320 120,318 z\" fill=\"#060a0d\" fill-opacity=\"1.0\" id=\"x060a0d_r6_g10_b13_shape1\"/><path d=\"M 125,320 125,315 130,315 130,320 z\" fill=\"#161f26\" fill-opacity=\"1.0\" id=\"x161f26_r22_g31_b38_shape1\"/><path d=\"M 131,320 130,320 130,318 130,315 135,315 135,316 135,319 135,320 133,320 z\" fill=\"#1b2c33\" fill-opacity=\"1.0\" id=\"x1b2c33_r27_g44_b51_shape1\"/><path d=\"M 136,320 135,320 135,318 135,315 140,315 140,316 140,319 140,320 138,320 z\" fill=\"#223941\" fill-opacity=\"1.0\" id=\"x223941_r34_g57_b65_shape1\"/><path d=\"M 145,315 145,320 140,320 140,315 z\" fill=\"#4a6872\" fill-opacity=\"1.0\" id=\"x4a6872_r74_g104_b114_shape1\"/><path d=\"M 153,315 155,315 155,316 155,319 155,320 153,320 151,320 150,320 150,318 150,317 150,315 151,315 z\" fill=\"#4a757c\" fill-opacity=\"1.0\" id=\"x4a757c_r74_g117_b124_shape1\"/><path d=\"M 165,315 170,315 170,320 165,320 z\" fill=\"#527f84\" fill-opacity=\"1.0\" id=\"x527f84_r82_g127_b132_shape1\"/><path d=\"M 205,316 205,315 207,315 210,315 210,320 209,320 206,320 205,320 205,318 z\" fill=\"#5e8d93\" fill-opacity=\"1.0\" id=\"x5e8d93_r94_g141_b147_shape1\"/><path d=\"M 223,315 225,315 225,316 225,319 225,320 223,320 221,320 220,320 220,318 220,317 220,315 221,315 z\" fill=\"#648f96\" fill-opacity=\"1.0\" id=\"x648f96_r100_g143_b150_shape1\"/><path d=\"M 225,320 225,315 230,315 230,320 z\" fill=\"#668e96\" fill-opacity=\"1.0\" id=\"x668e96_r102_g142_b150_shape1\"/><path d=\"M 235,320 230,320 230,315 235,315 z\" fill=\"#6a9099\" fill-opacity=\"1.0\" id=\"x6a9099_r106_g144_b153_shape1\"/><path d=\"M 240,315 245,315 245,320 240,320 z\" fill=\"#6d929a\" fill-opacity=\"1.0\" id=\"x6d929a_r109_g146_b154_shape1\"/><path d=\"M 255,315 255,320 250,320 250,315 z\" fill=\"#739499\" fill-opacity=\"1.0\" id=\"x739499_r115_g148_b153_shape1\"/><path d=\"M 264,315 265,315 265,317 265,320 260,320 260,319 260,316 260,315 262,315 z\" fill=\"#799297\" fill-opacity=\"1.0\" id=\"x799297_r121_g146_b151_shape1\"/><path d=\"M 265,317 265,315 266,315 269,315 270,315 270,317 270,319 270,320 268,320 267,320 265,320 265,319 z\" fill=\"#769399\" fill-opacity=\"1.0\" id=\"x769399_r118_g147_b153_shape1\"/><path d=\"M 275,315 280,315 280,320 275,320 z\" fill=\"#779299\" fill-opacity=\"1.0\" id=\"x779299_r119_g146_b153_shape1\"/><path d=\"M 302,320 300,320 300,319 300,316 300,315 302,315 304,315 305,315 305,317 305,318 305,320 304,320 z\" fill=\"#6f919a\" fill-opacity=\"1.0\" id=\"x6f919a_r111_g145_b154_shape1\"/><path d=\"M 305,320 305,315 310,315 310,320 z\" fill=\"#6b9098\" fill-opacity=\"1.0\" id=\"x6b9098_r107_g144_b152_shape1\"/><path d=\"M 315,315 315,320 310,320 310,315 z\" fill=\"#688f96\" fill-opacity=\"1.0\" id=\"x688f96_r104_g143_b150_shape1\"/><path d=\"M 315,316 315,315 317,315 320,315 320,320 319,320 316,320 315,320 315,318 z\" fill=\"#648f95\" fill-opacity=\"1.0\" id=\"x648f95_r100_g143_b149_shape1\"/><path d=\"M 325,319 325,320 323,320 320,320 320,315 321,315 324,315 325,315 325,317 z\" fill=\"#648c94\" fill-opacity=\"1.0\" id=\"x648c94_r100_g140_b148_shape1\"/><path d=\"M 327,320 325,320 325,319 325,316 325,315 327,315 329,315 330,315 330,317 330,318 330,320 329,320 z\" fill=\"#618e93\" fill-opacity=\"1.0\" id=\"x618e93_r97_g142_b147_shape1\"/><path d=\"M 335,320 330,320 330,315 335,315 z\" fill=\"#5f8c91\" fill-opacity=\"1.0\" id=\"x5f8c91_r95_g140_b145_shape1\"/><path d=\"M 350,315 355,315 355,320 350,320 z\" fill=\"#588088\" fill-opacity=\"1.0\" id=\"x588088_r88_g128_b136_shape1\"/><path d=\"M 360,320 355,320 355,315 360,315 z\" fill=\"#567b84\" fill-opacity=\"1.0\" id=\"x567b84_r86_g123_b132_shape1\"/><path d=\"M 362,320 360,320 360,319 360,316 360,315 362,315 364,315 365,315 365,317 365,318 365,320 364,320 z\" fill=\"#30515a\" fill-opacity=\"1.0\" id=\"x30515a_r48_g81_b90_shape1\"/><path d=\"M 365,316 365,315 367,315 370,315 370,320 369,320 366,320 365,320 365,318 z\" fill=\"#2c4a52\" fill-opacity=\"1.0\" id=\"x2c4a52_r44_g74_b82_shape1\"/><path d=\"M 370,315 375,315 375,320 370,320 z\" fill=\"#273a41\" fill-opacity=\"1.0\" id=\"x273a41_r39_g58_b65_shape1\"/><path d=\"M 380,315 380,320 375,320 375,315 z\" fill=\"#202930\" fill-opacity=\"1.0\" id=\"x202930_r32_g41_b48_shape1\"/><path d=\"M 385,320 380,320 380,315 385,315 z\" fill=\"#030106\" fill-opacity=\"1.0\" id=\"x030106_r3_g1_b6_shape1\"/><path d=\"M 125,320 130,320 130,325 125,325 z\" fill=\"#10131a\" fill-opacity=\"1.0\" id=\"x10131a_r16_g19_b26_shape1\"/><path d=\"M 130,320 135,320 135,325 130,325 z\" fill=\"#192227\" fill-opacity=\"1.0\" id=\"x192227_r25_g34_b39_shape1\"/><path d=\"M 140,320 140,325 135,325 135,320 z\" fill=\"#1c2d34\" fill-opacity=\"1.0\" id=\"x1c2d34_r28_g45_b52_shape1\"/><path d=\"M 140,322 140,320 141,320 144,320 145,320 145,322 145,324 145,325 143,325 142,325 140,325 140,324 z\" fill=\"#233742\" fill-opacity=\"1.0\" id=\"x233742_r35_g55_b66_shape1\"/><path d=\"M 145,320 150,320 150,325 145,325 z\" fill=\"#263d4b\" fill-opacity=\"1.0\" id=\"x263d4b_r38_g61_b75_shape1\"/><path d=\"M 155,320 155,325 150,325 150,320 z\" fill=\"#324e5a\" fill-opacity=\"1.0\" id=\"x324e5a_r50_g78_b90_shape1\"/><path d=\"M 160,325 155,325 155,320 160,320 z\" fill=\"#53737e\" fill-opacity=\"1.0\" id=\"x53737e_r83_g115_b126_shape1\"/><path d=\"M 160,320 165,320 165,325 160,325 z\" fill=\"#50767f\" fill-opacity=\"1.0\" id=\"x50767f_r80_g118_b127_shape1\"/><path d=\"M 205,325 205,320 210,320 210,325 z\" fill=\"#5c8c90\" fill-opacity=\"1.0\" id=\"x5c8c90_r92_g140_b144_shape1\"/><path d=\"M 210,325 210,320 215,320 215,325 z\" fill=\"#5e8e92\" fill-opacity=\"1.0\" id=\"x5e8e92_r94_g142_b146_shape1\"/><path d=\"M 216,325 215,325 215,323 215,320 220,320 220,321 220,324 220,325 218,325 z\" fill=\"#628f94\" fill-opacity=\"1.0\" id=\"x628f94_r98_g143_b148_shape1\"/><path d=\"M 221,325 220,325 220,323 220,320 225,320 225,321 225,324 225,325 223,325 z\" fill=\"#638e95\" fill-opacity=\"1.0\" id=\"x638e95_r99_g142_b149_shape1\"/><path d=\"M 230,320 230,325 225,325 225,320 z\" fill=\"#668c95\" fill-opacity=\"1.0\" id=\"x668c95_r102_g140_b149_shape1\"/><path d=\"M 235,325 230,325 230,320 235,320 z\" fill=\"#698e96\" fill-opacity=\"1.0\" id=\"x698e96_r105_g142_b150_shape1\"/><path d=\"M 235,325 235,320 240,320 240,325 z\" fill=\"#6f9296\" fill-opacity=\"1.0\" id=\"x6f9296_r111_g146_b150_shape1\"/><path d=\"M 240,325 240,320 245,320 245,325 z\" fill=\"#709196\" fill-opacity=\"1.0\" id=\"x709196_r112_g145_b150_shape1\"/><path d=\"M 250,320 250,325 245,325 245,320 z\" fill=\"#719297\" fill-opacity=\"1.0\" id=\"x719297_r113_g146_b151_shape1\"/><path d=\"M 251,325 250,325 250,323 250,320 255,320 255,321 255,324 255,325 253,325 z\" fill=\"#749197\" fill-opacity=\"1.0\" id=\"x749197_r116_g145_b151_shape1\"/><path d=\"M 257,325 255,325 255,324 255,321 255,320 257,320 259,320 260,320 260,322 260,323 260,325 259,325 z\" fill=\"#7a9197\" fill-opacity=\"1.0\" id=\"x7a9197_r122_g145_b151_shape1\"/><path d=\"M 260,321 260,320 262,320 265,320 265,325 264,325 261,325 260,325 260,323 z\" fill=\"#7d9297\" fill-opacity=\"1.0\" id=\"x7d9297_r125_g146_b151_shape1\"/><path d=\"M 270,325 265,325 265,320 270,320 z\" fill=\"#7c9196\" fill-opacity=\"1.0\" id=\"x7c9196_r124_g145_b150_shape1\"/><path d=\"M 270,320 275,320 275,325 270,325 z\" fill=\"#799296\" fill-opacity=\"1.0\" id=\"x799296_r121_g146_b150_shape1\"/><path d=\"M 276,325 275,325 275,323 275,320 280,320 280,321 280,324 280,325 278,325 z\" fill=\"#799195\" fill-opacity=\"1.0\" id=\"x799195_r121_g145_b149_shape1\"/><path d=\"M 295,325 290,325 290,320 295,320 z\" fill=\"#779095\" fill-opacity=\"1.0\" id=\"x779095_r119_g144_b149_shape1\"/><path d=\"M 300,322 300,320 301,320 304,320 305,320 305,322 305,324 305,325 303,325 302,325 300,325 300,324 z\" fill=\"#6e8f94\" fill-opacity=\"1.0\" id=\"x6e8f94_r110_g143_b148_shape1\"/><path d=\"M 305,320 310,320 310,325 305,325 z\" fill=\"#6b8e92\" fill-opacity=\"1.0\" id=\"x6b8e92_r107_g142_b146_shape1\"/><path d=\"M 313,320 315,320 315,321 315,324 315,325 313,325 311,325 310,325 310,323 310,322 310,320 311,320 z\" fill=\"#668d92\" fill-opacity=\"1.0\" id=\"x668d92_r102_g141_b146_shape1\"/><path d=\"M 319,320 320,320 320,322 320,325 315,325 315,324 315,321 315,320 317,320 z\" fill=\"#628e91\" fill-opacity=\"1.0\" id=\"x628e91_r98_g142_b145_shape1\"/><path d=\"M 320,320 325,320 325,325 320,325 z\" fill=\"#618d90\" fill-opacity=\"1.0\" id=\"x618d90_r97_g141_b144_shape1\"/><path d=\"M 325,325 325,320 330,320 330,325 z\" fill=\"#5f8b8e\" fill-opacity=\"1.0\" id=\"x5f8b8e_r95_g139_b142_shape1\"/><path d=\"M 330,320 335,320 335,325 330,325 z\" fill=\"#5e878d\" fill-opacity=\"1.0\" id=\"x5e878d_r94_g135_b141_shape1\"/><path d=\"M 340,325 335,325 335,320 340,320 z\" fill=\"#5d858d\" fill-opacity=\"1.0\" id=\"x5d858d_r93_g133_b141_shape1\"/><path d=\"M 345,325 345,320 350,320 350,325 z\" fill=\"#41636c\" fill-opacity=\"1.0\" id=\"x41636c_r65_g99_b108_shape1\"/><path d=\"M 355,320 355,325 350,325 350,320 z\" fill=\"#365760\" fill-opacity=\"1.0\" id=\"x365760_r54_g87_b96_shape1\"/><path d=\"M 355,322 355,320 356,320 359,320 360,320 360,322 360,324 360,325 358,325 357,325 355,325 355,324 z\" fill=\"#35515c\" fill-opacity=\"1.0\" id=\"x35515c_r53_g81_b92_shape1\"/><path d=\"M 361,325 360,325 360,323 360,320 365,320 365,321 365,324 365,325 363,325 z\" fill=\"#304d55\" fill-opacity=\"1.0\" id=\"x304d55_r48_g77_b85_shape1\"/><path d=\"M 365,320 370,320 370,325 365,325 z\" fill=\"#30444d\" fill-opacity=\"1.0\" id=\"x30444d_r48_g68_b77_shape1\"/><path d=\"M 370,320 375,320 375,325 370,325 z\" fill=\"#26343d\" fill-opacity=\"1.0\" id=\"x26343d_r38_g52_b61_shape1\"/><path d=\"M 129,325 130,325 130,327 130,330 125,330 125,329 125,326 125,325 127,325 z\" fill=\"#07080c\" fill-opacity=\"1.0\" id=\"x07080c_r7_g8_b12_shape1\"/><path d=\"M 131,330 130,330 130,328 130,325 135,325 135,326 135,329 135,330 133,330 z\" fill=\"#1a1f23\" fill-opacity=\"1.0\" id=\"x1a1f23_r26_g31_b35_shape1\"/><path d=\"M 145,325 150,325 150,330 145,330 z\" fill=\"#283943\" fill-opacity=\"1.0\" id=\"x283943_r40_g57_b67_shape1\"/><path d=\"M 155,330 150,330 150,325 155,325 z\" fill=\"#2e424d\" fill-opacity=\"1.0\" id=\"x2e424d_r46_g66_b77_shape1\"/><path d=\"M 160,328 160,330 159,330 156,330 155,330 155,328 155,326 155,325 157,325 158,325 160,325 160,326 z\" fill=\"#304654\" fill-opacity=\"1.0\" id=\"x304654_r48_g70_b84_shape1\"/><path d=\"M 162,330 160,330 160,329 160,326 160,325 162,325 164,325 165,325 165,327 165,328 165,330 164,330 z\" fill=\"#2e4c56\" fill-opacity=\"1.0\" id=\"x2e4c56_r46_g76_b86_shape1\"/><path d=\"M 170,330 165,330 165,325 170,325 z\" fill=\"#2d525a\" fill-opacity=\"1.0\" id=\"x2d525a_r45_g82_b90_shape1\"/><path d=\"M 170,325 175,325 175,330 170,330 z\" fill=\"#476d76\" fill-opacity=\"1.0\" id=\"x476d76_r71_g109_b118_shape1\"/><path d=\"M 185,330 180,330 180,325 185,325 z\" fill=\"#5a7f87\" fill-opacity=\"1.0\" id=\"x5a7f87_r90_g127_b135_shape1\"/><path d=\"M 185,330 185,325 190,325 190,330 z\" fill=\"#5a8389\" fill-opacity=\"1.0\" id=\"x5a8389_r90_g131_b137_shape1\"/><path d=\"M 205,330 205,325 210,325 210,330 z\" fill=\"#5c898e\" fill-opacity=\"1.0\" id=\"x5c898e_r92_g137_b142_shape1\"/><path d=\"M 215,330 210,330 210,325 215,325 z\" fill=\"#5e8b90\" fill-opacity=\"1.0\" id=\"x5e8b90_r94_g139_b144_shape1\"/><path d=\"M 215,330 215,325 220,325 220,330 z\" fill=\"#608d92\" fill-opacity=\"1.0\" id=\"x608d92_r96_g141_b146_shape1\"/><path d=\"M 225,330 220,330 220,325 225,325 z\" fill=\"#618c93\" fill-opacity=\"1.0\" id=\"x618c93_r97_g140_b147_shape1\"/><path d=\"M 230,330 225,330 225,325 230,325 z\" fill=\"#658c93\" fill-opacity=\"1.0\" id=\"x658c93_r101_g140_b147_shape1\"/><path d=\"M 233,325 235,325 235,326 235,329 235,330 233,330 231,330 230,330 230,328 230,327 230,325 231,325 z\" fill=\"#6a8d93\" fill-opacity=\"1.0\" id=\"x6a8d93_r106_g141_b147_shape1\"/><path d=\"M 240,330 235,330 235,325 240,325 z\" fill=\"#6e9195\" fill-opacity=\"1.0\" id=\"x6e9195_r110_g145_b149_shape1\"/><path d=\"M 250,325 250,330 245,330 245,325 z\" fill=\"#719095\" fill-opacity=\"1.0\" id=\"x719095_r113_g144_b149_shape1\"/><path d=\"M 255,325 255,330 250,330 250,325 z\" fill=\"#739096\" fill-opacity=\"1.0\" id=\"x739096_r115_g144_b150_shape1\"/><path d=\"M 261,330 260,330 260,328 260,325 265,325 265,326 265,329 265,330 263,330 z\" fill=\"#7d9096\" fill-opacity=\"1.0\" id=\"x7d9096_r125_g144_b150_shape1\"/><path d=\"M 270,329 270,330 268,330 265,330 265,325 266,325 269,325 270,325 270,327 z\" fill=\"#7f9097\" fill-opacity=\"1.0\" id=\"x7f9097_r127_g144_b151_shape1\"/><path d=\"M 290,330 290,325 295,325 295,330 z\" fill=\"#768e92\" fill-opacity=\"1.0\" id=\"x768e92_r118_g142_b146_shape1\"/><path d=\"M 295,325 300,325 300,330 295,330 z\" fill=\"#708d91\" fill-opacity=\"1.0\" id=\"x708d91_r112_g141_b145_shape1\"/><path d=\"M 301,330 300,330 300,328 300,325 305,325 305,326 305,329 305,330 303,330 z\" fill=\"#6e8b8f\" fill-opacity=\"1.0\" id=\"x6e8b8f_r110_g139_b143_shape1\"/><path d=\"M 310,330 305,330 305,325 310,325 z\" fill=\"#6c8b8e\" fill-opacity=\"1.0\" id=\"x6c8b8e_r108_g139_b142_shape1\"/><path d=\"M 313,325 315,325 315,326 315,329 315,330 313,330 311,330 310,330 310,328 310,327 310,325 311,325 z\" fill=\"#668c8f\" fill-opacity=\"1.0\" id=\"x668c8f_r102_g140_b143_shape1\"/><path d=\"M 320,330 315,330 315,325 320,325 z\" fill=\"#638c8e\" fill-opacity=\"1.0\" id=\"x638c8e_r99_g140_b142_shape1\"/><path d=\"M 320,326 320,325 322,325 325,325 325,330 324,330 321,330 320,330 320,328 z\" fill=\"#638a8f\" fill-opacity=\"1.0\" id=\"x638a8f_r99_g138_b143_shape1\"/><path d=\"M 325,325 330,325 330,330 325,330 z\" fill=\"#5b8088\" fill-opacity=\"1.0\" id=\"x5b8088_r91_g128_b136_shape1\"/><path d=\"M 337,330 335,330 335,329 335,326 335,325 337,325 339,325 340,325 340,327 340,328 340,330 339,330 z\" fill=\"#3c5d66\" fill-opacity=\"1.0\" id=\"x3c5d66_r60_g93_b102_shape1\"/><path d=\"M 345,330 340,330 340,325 345,325 z\" fill=\"#3e5c64\" fill-opacity=\"1.0\" id=\"x3e5c64_r62_g92_b100_shape1\"/><path d=\"M 350,330 350,325 355,325 355,330 z\" fill=\"#3a555e\" fill-opacity=\"1.0\" id=\"x3a555e_r58_g85_b94_shape1\"/><path d=\"M 360,330 355,330 355,325 360,325 z\" fill=\"#374d58\" fill-opacity=\"1.0\" id=\"x374d58_r55_g77_b88_shape1\"/><path d=\"M 369,325 370,325 370,327 370,330 365,330 365,329 365,326 365,325 367,325 z\" fill=\"#2b3c46\" fill-opacity=\"1.0\" id=\"x2b3c46_r43_g60_b70_shape1\"/><path d=\"M 375,325 375,330 370,330 370,325 z\" fill=\"#1d262d\" fill-opacity=\"1.0\" id=\"x1d262d_r29_g38_b45_shape1\"/><path d=\"M 135,333 135,335 134,335 131,335 130,335 130,333 130,331 130,330 132,330 133,330 135,330 135,331 z\" fill=\"#121318\" fill-opacity=\"1.0\" id=\"x121318_r18_g19_b24_shape1\"/><path d=\"M 140,330 140,335 135,335 135,330 z\" fill=\"#192028\" fill-opacity=\"1.0\" id=\"x192028_r25_g32_b40_shape1\"/><path d=\"M 140,335 140,330 145,330 145,335 z\" fill=\"#212c32\" fill-opacity=\"1.0\" id=\"x212c32_r33_g44_b50_shape1\"/><path d=\"M 146,335 145,335 145,333 145,330 150,330 150,331 150,334 150,335 148,335 z\" fill=\"#25363d\" fill-opacity=\"1.0\" id=\"x25363d_r37_g54_b61_shape1\"/><path d=\"M 151,335 150,335 150,333 150,330 155,330 155,331 155,334 155,335 153,335 z\" fill=\"#2a3d44\" fill-opacity=\"1.0\" id=\"x2a3d44_r42_g61_b68_shape1\"/><path d=\"M 160,335 155,335 155,330 160,330 z\" fill=\"#2f434a\" fill-opacity=\"1.0\" id=\"x2f434a_r47_g67_b74_shape1\"/><path d=\"M 160,335 160,330 165,330 165,335 z\" fill=\"#304950\" fill-opacity=\"1.0\" id=\"x304950_r48_g73_b80_shape1\"/><path d=\"M 166,335 165,335 165,333 165,330 170,330 170,331 170,334 170,335 168,335 z\" fill=\"#2e4d52\" fill-opacity=\"1.0\" id=\"x2e4d52_r46_g77_b82_shape1\"/><path d=\"M 171,335 170,335 170,333 170,330 175,330 175,331 175,334 175,335 173,335 z\" fill=\"#335159\" fill-opacity=\"1.0\" id=\"x335159_r51_g81_b89_shape1\"/><path d=\"M 195,335 190,335 190,330 195,330 z\" fill=\"#496c70\" fill-opacity=\"1.0\" id=\"x496c70_r73_g108_b112_shape1\"/><path d=\"M 200,334 200,335 198,335 195,335 195,330 196,330 199,330 200,330 200,332 z\" fill=\"#54757c\" fill-opacity=\"1.0\" id=\"x54757c_r84_g117_b124_shape1\"/><path d=\"M 205,335 200,335 200,330 205,330 z\" fill=\"#63848d\" fill-opacity=\"1.0\" id=\"x63848d_r99_g132_b141_shape1\"/><path d=\"M 205,335 205,330 210,330 210,335 z\" fill=\"#668891\" fill-opacity=\"1.0\" id=\"x668891_r102_g136_b145_shape1\"/><path d=\"M 215,332 215,330 216,330 219,330 220,330 220,332 220,334 220,335 218,335 217,335 215,335 215,334 z\" fill=\"#61888f\" fill-opacity=\"1.0\" id=\"x61888f_r97_g136_b143_shape1\"/><path d=\"M 220,330 225,330 225,335 220,335 z\" fill=\"#648a93\" fill-opacity=\"1.0\" id=\"x648a93_r100_g138_b147_shape1\"/><path d=\"M 229,330 230,330 230,332 230,335 225,335 225,334 225,331 225,330 227,330 z\" fill=\"#66898f\" fill-opacity=\"1.0\" id=\"x66898f_r102_g137_b143_shape1\"/><path d=\"M 235,335 230,335 230,330 235,330 z\" fill=\"#6a8c8e\" fill-opacity=\"1.0\" id=\"x6a8c8e_r106_g140_b142_shape1\"/><path d=\"M 235,331 235,330 237,330 240,330 240,335 239,335 236,335 235,335 235,333 z\" fill=\"#6d8e93\" fill-opacity=\"1.0\" id=\"x6d8e93_r109_g142_b147_shape1\"/><path d=\"M 245,334 245,335 243,335 240,335 240,330 241,330 244,330 245,330 245,332 z\" fill=\"#6f8e93\" fill-opacity=\"1.0\" id=\"x6f8e93_r111_g142_b147_shape1\"/><path d=\"M 250,330 250,335 245,335 245,330 z\" fill=\"#708f94\" fill-opacity=\"1.0\" id=\"x708f94_r112_g143_b148_shape1\"/><path d=\"M 253,330 255,330 255,331 255,334 255,335 253,335 251,335 250,335 250,333 250,332 250,330 251,330 z\" fill=\"#728f95\" fill-opacity=\"1.0\" id=\"x728f95_r114_g143_b149_shape1\"/><path d=\"M 260,334 260,335 258,335 255,335 255,330 256,330 259,330 260,330 260,332 z\" fill=\"#748f96\" fill-opacity=\"1.0\" id=\"x748f96_r116_g143_b150_shape1\"/><path d=\"M 265,335 265,330 270,330 270,335 z\" fill=\"#7c8f95\" fill-opacity=\"1.0\" id=\"x7c8f95_r124_g143_b149_shape1\"/><path d=\"M 280,330 285,330 285,335 280,335 z\" fill=\"#778f93\" fill-opacity=\"1.0\" id=\"x778f93_r119_g143_b147_shape1\"/><path d=\"M 290,333 290,335 289,335 286,335 285,335 285,333 285,331 285,330 287,330 288,330 290,330 290,331 z\" fill=\"#758d91\" fill-opacity=\"1.0\" id=\"x758d91_r117_g141_b145_shape1\"/><path d=\"M 290,330 295,330 295,335 290,335 z\" fill=\"#748d92\" fill-opacity=\"1.0\" id=\"x748d92_r116_g141_b146_shape1\"/><path d=\"M 295,330 300,330 300,335 295,335 z\" fill=\"#69888d\" fill-opacity=\"1.0\" id=\"x69888d_r105_g136_b141_shape1\"/><path d=\"M 305,330 305,335 300,335 300,330 z\" fill=\"#5f7e83\" fill-opacity=\"1.0\" id=\"x5f7e83_r95_g126_b131_shape1\"/><path d=\"M 310,335 305,335 305,330 310,330 z\" fill=\"#4f7075\" fill-opacity=\"1.0\" id=\"x4f7075_r79_g112_b117_shape1\"/><path d=\"M 355,335 355,330 360,330 360,335 z\" fill=\"#354952\" fill-opacity=\"1.0\" id=\"x354952_r53_g73_b82_shape1\"/><path d=\"M 360,331 360,330 362,330 365,330 365,335 364,335 361,335 360,335 360,333 z\" fill=\"#2d414a\" fill-opacity=\"1.0\" id=\"x2d414a_r45_g65_b74_shape1\"/><path d=\"M 134,335 135,335 135,337 135,340 130,340 130,339 130,336 130,335 132,335 z\" fill=\"#070709\" fill-opacity=\"1.0\" id=\"x070709_r7_g7_b9_shape1\"/><path d=\"M 139,335 140,335 140,337 140,340 135,340 135,339 135,336 135,335 137,335 z\" fill=\"#181b20\" fill-opacity=\"1.0\" id=\"x181b20_r24_g27_b32_shape1\"/><path d=\"M 145,337 145,335 146,335 149,335 150,335 150,337 150,339 150,340 148,340 147,340 145,340 145,339 z\" fill=\"#232e34\" fill-opacity=\"1.0\" id=\"x232e34_r35_g46_b52_shape1\"/><path d=\"M 155,340 155,335 160,335 160,340 z\" fill=\"#2d4047\" fill-opacity=\"1.0\" id=\"x2d4047_r45_g64_b71_shape1\"/><path d=\"M 160,335 165,335 165,340 160,340 z\" fill=\"#33474e\" fill-opacity=\"1.0\" id=\"x33474e_r51_g71_b78_shape1\"/><path d=\"M 165,335 170,335 170,340 165,340 z\" fill=\"#324b52\" fill-opacity=\"1.0\" id=\"x324b52_r50_g75_b82_shape1\"/><path d=\"M 170,340 170,335 175,335 175,340 z\" fill=\"#335056\" fill-opacity=\"1.0\" id=\"x335056_r51_g80_b86_shape1\"/><path d=\"M 190,339 190,340 188,340 185,340 185,335 186,335 189,335 190,335 190,337 z\" fill=\"#3c5b60\" fill-opacity=\"1.0\" id=\"x3c5b60_r60_g91_b96_shape1\"/><path d=\"M 190,335 195,335 195,340 190,340 z\" fill=\"#3f5c64\" fill-opacity=\"1.0\" id=\"x3f5c64_r63_g92_b100_shape1\"/><path d=\"M 195,340 195,335 200,335 200,340 z\" fill=\"#415f67\" fill-opacity=\"1.0\" id=\"x415f67_r65_g95_b103_shape1\"/><path d=\"M 206,340 205,340 205,338 205,335 210,335 210,336 210,339 210,340 208,340 z\" fill=\"#47656d\" fill-opacity=\"1.0\" id=\"x47656d_r71_g101_b109_shape1\"/><path d=\"M 213,335 215,335 215,336 215,339 215,340 213,340 211,340 210,340 210,338 210,337 210,335 211,335 z\" fill=\"#466770\" fill-opacity=\"1.0\" id=\"x466770_r70_g103_b112_shape1\"/><path d=\"M 216,340 215,340 215,338 215,335 220,335 220,336 220,339 220,340 218,340 z\" fill=\"#486970\" fill-opacity=\"1.0\" id=\"x486970_r72_g105_b112_shape1\"/><path d=\"M 230,336 230,335 232,335 235,335 235,340 234,340 231,340 230,340 230,338 z\" fill=\"#4c6d76\" fill-opacity=\"1.0\" id=\"x4c6d76_r76_g109_b118_shape1\"/><path d=\"M 240,340 235,340 235,335 240,335 z\" fill=\"#50717a\" fill-opacity=\"1.0\" id=\"x50717a_r80_g113_b122_shape1\"/><path d=\"M 255,340 250,340 250,335 255,335 z\" fill=\"#55737b\" fill-opacity=\"1.0\" id=\"x55737b_r85_g115_b123_shape1\"/><path d=\"M 272,340 270,340 270,339 270,336 270,335 272,335 274,335 275,335 275,337 275,338 275,340 274,340 z\" fill=\"#54727c\" fill-opacity=\"1.0\" id=\"x54727c_r84_g114_b124_shape1\"/><path d=\"M 279,335 280,335 280,337 280,340 275,340 275,339 275,336 275,335 277,335 z\" fill=\"#52707a\" fill-opacity=\"1.0\" id=\"x52707a_r82_g112_b122_shape1\"/><path d=\"M 285,338 285,340 284,340 281,340 280,340 280,338 280,336 280,335 282,335 283,335 285,335 285,336 z\" fill=\"#516f79\" fill-opacity=\"1.0\" id=\"x516f79_r81_g111_b121_shape1\"/><path d=\"M 290,335 290,340 285,340 285,335 z\" fill=\"#506e78\" fill-opacity=\"1.0\" id=\"x506e78_r80_g110_b120_shape1\"/><path d=\"M 290,335 295,335 295,340 290,340 z\" fill=\"#4f7079\" fill-opacity=\"1.0\" id=\"x4f7079_r79_g112_b121_shape1\"/><path d=\"M 295,337 295,335 296,335 299,335 300,335 300,337 300,339 300,340 298,340 297,340 295,340 295,339 z\" fill=\"#4e6f78\" fill-opacity=\"1.0\" id=\"x4e6f78_r78_g111_b120_shape1\"/><path d=\"M 300,335 305,335 305,340 300,340 z\" fill=\"#4d6e77\" fill-opacity=\"1.0\" id=\"x4d6e77_r77_g110_b119_shape1\"/><path d=\"M 320,335 320,340 315,340 315,335 z\" fill=\"#476a70\" fill-opacity=\"1.0\" id=\"x476a70_r71_g106_b112_shape1\"/><path d=\"M 330,335 330,340 325,340 325,335 z\" fill=\"#456469\" fill-opacity=\"1.0\" id=\"x456469_r69_g100_b105_shape1\"/><path d=\"M 333,335 335,335 335,336 335,339 335,340 333,340 331,340 330,340 330,338 330,337 330,335 331,335 z\" fill=\"#436267\" fill-opacity=\"1.0\" id=\"x436267_r67_g98_b103_shape1\"/><path d=\"M 350,340 345,340 345,335 350,335 z\" fill=\"#365158\" fill-opacity=\"1.0\" id=\"x365158_r54_g81_b88_shape1\"/><path d=\"M 350,337 350,335 351,335 354,335 355,335 355,337 355,339 355,340 353,340 352,340 350,340 350,339 z\" fill=\"#364852\" fill-opacity=\"1.0\" id=\"x364852_r54_g72_b82_shape1\"/><path d=\"M 355,337 355,335 356,335 359,335 360,335 360,337 360,339 360,340 358,340 357,340 355,340 355,339 z\" fill=\"#2e454d\" fill-opacity=\"1.0\" id=\"x2e454d_r46_g69_b77_shape1\"/><path d=\"M 365,335 365,340 360,340 360,335 z\" fill=\"#27383f\" fill-opacity=\"1.0\" id=\"x27383f_r39_g56_b63_shape1\"/><path d=\"M 370,335 370,340 365,340 365,335 z\" fill=\"#151e25\" fill-opacity=\"1.0\" id=\"x151e25_r21_g30_b37_shape1\"/><path d=\"M 140,345 135,345 135,340 140,340 z\" fill=\"#0f1014\" fill-opacity=\"1.0\" id=\"x0f1014_r15_g16_b20_shape1\"/><path d=\"M 150,345 145,345 145,340 150,340 z\" fill=\"#1d262b\" fill-opacity=\"1.0\" id=\"x1d262b_r29_g38_b43_shape1\"/><path d=\"M 167,345 165,345 165,344 165,341 165,340 167,340 169,340 170,340 170,342 170,343 170,345 169,345 z\" fill=\"#31484e\" fill-opacity=\"1.0\" id=\"x31484e_r49_g72_b78_shape1\"/><path d=\"M 170,340 175,340 175,345 170,345 z\" fill=\"#324951\" fill-opacity=\"1.0\" id=\"x324951_r50_g73_b81_shape1\"/><path d=\"M 189,340 190,340 190,342 190,345 185,345 185,344 185,341 185,340 187,340 z\" fill=\"#3b565f\" fill-opacity=\"1.0\" id=\"x3b565f_r59_g86_b95_shape1\"/><path d=\"M 195,345 195,340 200,340 200,345 z\" fill=\"#3f5d67\" fill-opacity=\"1.0\" id=\"x3f5d67_r63_g93_b103_shape1\"/><path d=\"M 201,345 200,345 200,343 200,340 205,340 205,341 205,344 205,345 203,345 z\" fill=\"#3e5f68\" fill-opacity=\"1.0\" id=\"x3e5f68_r62_g95_b104_shape1\"/><path d=\"M 210,340 210,345 205,345 205,340 z\" fill=\"#42606a\" fill-opacity=\"1.0\" id=\"x42606a_r66_g96_b106_shape1\"/><path d=\"M 210,345 210,340 215,340 215,345 z\" fill=\"#44626c\" fill-opacity=\"1.0\" id=\"x44626c_r68_g98_b108_shape1\"/><path d=\"M 220,344 220,345 218,345 215,345 215,340 216,340 219,340 220,340 220,342 z\" fill=\"#47656f\" fill-opacity=\"1.0\" id=\"x47656f_r71_g101_b111_shape1\"/><path d=\"M 238,340 240,340 240,341 240,344 240,345 238,345 236,345 235,345 235,343 235,342 235,340 236,340 z\" fill=\"#496e74\" fill-opacity=\"1.0\" id=\"x496e74_r73_g110_b116_shape1\"/><path d=\"M 290,345 290,340 295,340 295,345 z\" fill=\"#4c6e77\" fill-opacity=\"1.0\" id=\"x4c6e77_r76_g110_b119_shape1\"/><path d=\"M 300,340 305,340 305,345 300,345 z\" fill=\"#496b74\" fill-opacity=\"1.0\" id=\"x496b74_r73_g107_b116_shape1\"/><path d=\"M 305,341 305,340 307,340 310,340 310,345 309,345 306,345 305,345 305,343 z\" fill=\"#4a6870\" fill-opacity=\"1.0\" id=\"x4a6870_r74_g104_b112_shape1\"/><path d=\"M 321,345 320,345 320,343 320,340 325,340 325,341 325,344 325,345 323,345 z\" fill=\"#3f6067\" fill-opacity=\"1.0\" id=\"x3f6067_r63_g96_b103_shape1\"/><path d=\"M 330,345 325,345 325,340 330,340 z\" fill=\"#405f64\" fill-opacity=\"1.0\" id=\"x405f64_r64_g95_b100_shape1\"/><path d=\"M 345,345 340,345 340,340 345,340 z\" fill=\"#365359\" fill-opacity=\"1.0\" id=\"x365359_r54_g83_b89_shape1\"/><path d=\"M 350,341 350,340 352,340 355,340 355,345 354,345 351,345 350,345 350,343 z\" fill=\"#2f434c\" fill-opacity=\"1.0\" id=\"x2f434c_r47_g67_b76_shape1\"/><path d=\"M 357,345 355,345 355,344 355,341 355,340 357,340 359,340 360,340 360,342 360,343 360,345 359,345 z\" fill=\"#283941\" fill-opacity=\"1.0\" id=\"x283941_r40_g57_b65_shape1\"/><path d=\"M 363,340 365,340 365,341 365,344 365,345 363,345 361,345 360,345 360,343 360,342 360,340 361,340 z\" fill=\"#1d242a\" fill-opacity=\"1.0\" id=\"x1d242a_r29_g36_b42_shape1\"/><path d=\"M 370,344 370,345 368,345 365,345 365,340 366,340 369,340 370,340 370,342 z\" fill=\"#020107\" fill-opacity=\"1.0\" id=\"x020107_r2_g1_b7_shape1\"/><path d=\"M 140,345 145,345 145,350 140,350 z\" fill=\"#0e1116\" fill-opacity=\"1.0\" id=\"x0e1116_r14_g17_b22_shape1\"/><path d=\"M 148,345 150,345 150,346 150,349 150,350 148,350 146,350 145,350 145,348 145,347 145,345 146,345 z\" fill=\"#1b2024\" fill-opacity=\"1.0\" id=\"x1b2024_r27_g32_b36_shape1\"/><path d=\"M 150,350 150,345 155,345 155,350 z\" fill=\"#1f282d\" fill-opacity=\"1.0\" id=\"x1f282d_r31_g40_b45_shape1\"/><path d=\"M 155,345 160,345 160,350 155,350 z\" fill=\"#243137\" fill-opacity=\"1.0\" id=\"x243137_r36_g49_b55_shape1\"/><path d=\"M 165,350 160,350 160,345 165,345 z\" fill=\"#283b3f\" fill-opacity=\"1.0\" id=\"x283b3f_r40_g59_b63_shape1\"/><path d=\"M 175,348 175,350 174,350 171,350 170,350 170,348 170,346 170,345 172,345 173,345 175,345 175,346 z\" fill=\"#30444b\" fill-opacity=\"1.0\" id=\"x30444b_r48_g68_b75_shape1\"/><path d=\"M 177,350 175,350 175,349 175,346 175,345 177,345 179,345 180,345 180,347 180,348 180,350 179,350 z\" fill=\"#334750\" fill-opacity=\"1.0\" id=\"x334750_r51_g71_b80_shape1\"/><path d=\"M 180,347 180,345 181,345 184,345 185,345 185,347 185,349 185,350 183,350 182,350 180,350 180,349 z\" fill=\"#344b51\" fill-opacity=\"1.0\" id=\"x344b51_r52_g75_b81_shape1\"/><path d=\"M 187,350 185,350 185,349 185,346 185,345 187,345 189,345 190,345 190,347 190,348 190,350 189,350 z\" fill=\"#385158\" fill-opacity=\"1.0\" id=\"x385158_r56_g81_b88_shape1\"/><path d=\"M 200,350 195,350 195,345 200,345 z\" fill=\"#3a5860\" fill-opacity=\"1.0\" id=\"x3a5860_r58_g88_b96_shape1\"/><path d=\"M 210,347 210,345 211,345 214,345 215,345 215,347 215,349 215,350 213,350 212,350 210,350 210,349 z\" fill=\"#415f69\" fill-opacity=\"1.0\" id=\"x415f69_r65_g95_b105_shape1\"/><path d=\"M 216,350 215,350 215,348 215,345 220,345 220,346 220,349 220,350 218,350 z\" fill=\"#43616b\" fill-opacity=\"1.0\" id=\"x43616b_r67_g97_b107_shape1\"/><path d=\"M 223,345 225,345 225,346 225,349 225,350 223,350 221,350 220,350 220,348 220,347 220,345 221,345 z\" fill=\"#42636c\" fill-opacity=\"1.0\" id=\"x42636c_r66_g99_b108_shape1\"/><path d=\"M 345,350 340,350 340,345 345,345 z\" fill=\"#334a52\" fill-opacity=\"1.0\" id=\"x334a52_r51_g74_b82_shape1\"/><path d=\"M 347,350 345,350 345,349 345,346 345,345 347,345 349,345 350,345 350,347 350,348 350,350 349,350 z\" fill=\"#32454c\" fill-opacity=\"1.0\" id=\"x32454c_r50_g69_b76_shape1\"/><path d=\"M 144,350 145,350 145,352 145,355 140,355 140,354 140,351 140,350 142,350 z\" fill=\"#040406\" fill-opacity=\"1.0\" id=\"x040406_r4_g4_b6_shape1\"/><path d=\"M 150,350 150,355 145,355 145,350 z\" fill=\"#14171c\" fill-opacity=\"1.0\" id=\"x14171c_r20_g23_b28_shape1\"/><path d=\"M 155,355 150,355 150,350 155,350 z\" fill=\"#1b2026\" fill-opacity=\"1.0\" id=\"x1b2026_r27_g32_b38_shape1\"/><path d=\"M 170,350 170,355 165,355 165,350 z\" fill=\"#283a3e\" fill-opacity=\"1.0\" id=\"x283a3e_r40_g58_b62_shape1\"/><path d=\"M 170,355 170,350 175,350 175,355 z\" fill=\"#2c3f45\" fill-opacity=\"1.0\" id=\"x2c3f45_r44_g63_b69_shape1\"/><path d=\"M 175,352 175,350 176,350 179,350 180,350 180,352 180,354 180,355 178,355 177,355 175,355 175,354 z\" fill=\"#2c4349\" fill-opacity=\"1.0\" id=\"x2c4349_r44_g67_b73_shape1\"/><path d=\"M 185,350 185,355 180,355 180,350 z\" fill=\"#32464d\" fill-opacity=\"1.0\" id=\"x32464d_r50_g70_b77_shape1\"/><path d=\"M 186,355 185,355 185,353 185,350 190,350 190,351 190,354 190,355 188,355 z\" fill=\"#334a50\" fill-opacity=\"1.0\" id=\"x334a50_r51_g74_b80_shape1\"/><path d=\"M 213,350 215,350 215,351 215,354 215,355 213,355 211,355 210,355 210,353 210,352 210,350 211,350 z\" fill=\"#3d5a60\" fill-opacity=\"1.0\" id=\"x3d5a60_r61_g90_b96_shape1\"/><path d=\"M 220,352 220,350 221,350 224,350 225,350 225,352 225,354 225,355 223,355 222,355 220,355 220,354 z\" fill=\"#426166\" fill-opacity=\"1.0\" id=\"x426166_r66_g97_b102_shape1\"/><path d=\"M 226,355 225,355 225,353 225,350 230,350 230,351 230,354 230,355 228,355 z\" fill=\"#416267\" fill-opacity=\"1.0\" id=\"x416267_r65_g98_b103_shape1\"/><path d=\"M 280,355 280,350 285,350 285,355 z\" fill=\"#45666b\" fill-opacity=\"1.0\" id=\"x45666b_r69_g102_b107_shape1\"/><path d=\"M 289,350 290,350 290,352 290,355 285,355 285,354 285,351 285,350 287,350 z\" fill=\"#44656a\" fill-opacity=\"1.0\" id=\"x44656a_r68_g101_b106_shape1\"/><path d=\"M 305,355 300,355 300,350 305,350 z\" fill=\"#426068\" fill-opacity=\"1.0\" id=\"x426068_r66_g96_b104_shape1\"/><path d=\"M 315,350 315,355 310,355 310,350 z\" fill=\"#3f5d65\" fill-opacity=\"1.0\" id=\"x3f5d65_r63_g93_b101_shape1\"/><path d=\"M 320,352 320,350 321,350 324,350 325,350 325,352 325,354 325,355 323,355 322,355 320,355 320,354 z\" fill=\"#3c545e\" fill-opacity=\"1.0\" id=\"x3c545e_r60_g84_b94_shape1\"/><path d=\"M 325,352 325,350 326,350 329,350 330,350 330,352 330,354 330,355 328,355 327,355 325,355 325,354 z\" fill=\"#385156\" fill-opacity=\"1.0\" id=\"x385156_r56_g81_b86_shape1\"/><path d=\"M 330,350 335,350 335,355 330,355 z\" fill=\"#384f55\" fill-opacity=\"1.0\" id=\"x384f55_r56_g79_b85_shape1\"/><path d=\"M 345,354 345,355 343,355 340,355 340,350 341,350 344,350 345,350 345,352 z\" fill=\"#31444b\" fill-opacity=\"1.0\" id=\"x31444b_r49_g68_b75_shape1\"/><path d=\"M 350,355 350,350 355,350 355,355 z\" fill=\"#252f38\" fill-opacity=\"1.0\" id=\"x252f38_r37_g47_b56_shape1\"/><path d=\"M 360,355 355,355 355,350 360,350 z\" fill=\"#0f1015\" fill-opacity=\"1.0\" id=\"x0f1015_r15_g16_b21_shape1\"/><path d=\"M 145,360 145,355 150,355 150,360 z\" fill=\"#0a0b0f\" fill-opacity=\"1.0\" id=\"x0a0b0f_r10_g11_b15_shape1\"/><path d=\"M 155,355 155,360 150,360 150,355 z\" fill=\"#101318\" fill-opacity=\"1.0\" id=\"x101318_r16_g19_b24_shape1\"/><path d=\"M 157,360 155,360 155,359 155,356 155,355 157,355 159,355 160,355 160,357 160,358 160,360 159,360 z\" fill=\"#182128\" fill-opacity=\"1.0\" id=\"x182128_r24_g33_b40_shape1\"/><path d=\"M 165,360 160,360 160,355 165,355 z\" fill=\"#1c292f\" fill-opacity=\"1.0\" id=\"x1c292f_r28_g41_b47_shape1\"/><path d=\"M 178,355 180,355 180,356 180,359 180,360 178,360 176,360 175,360 175,358 175,357 175,355 176,355 z\" fill=\"#2b3f46\" fill-opacity=\"1.0\" id=\"x2b3f46_r43_g63_b70_shape1\"/><path d=\"M 185,355 185,360 180,360 180,355 z\" fill=\"#2e4249\" fill-opacity=\"1.0\" id=\"x2e4249_r46_g66_b73_shape1\"/><path d=\"M 191,360 190,360 190,358 190,355 195,355 195,356 195,359 195,360 193,360 z\" fill=\"#314850\" fill-opacity=\"1.0\" id=\"x314850_r49_g72_b80_shape1\"/><path d=\"M 200,359 200,360 198,360 195,360 195,355 196,355 199,355 200,355 200,357 z\" fill=\"#364d55\" fill-opacity=\"1.0\" id=\"x364d55_r54_g77_b85_shape1\"/><path d=\"M 202,360 200,360 200,359 200,356 200,355 202,355 204,355 205,355 205,357 205,358 205,360 204,360 z\" fill=\"#364f56\" fill-opacity=\"1.0\" id=\"x364f56_r54_g79_b86_shape1\"/><path d=\"M 220,355 220,360 215,360 215,355 z\" fill=\"#3a575d\" fill-opacity=\"1.0\" id=\"x3a575d_r58_g87_b93_shape1\"/><path d=\"M 284,355 285,355 285,357 285,360 280,360 280,359 280,356 280,355 282,355 z\" fill=\"#426368\" fill-opacity=\"1.0\" id=\"x426368_r66_g99_b104_shape1\"/><path d=\"M 300,356 300,355 302,355 305,355 305,360 304,360 301,360 300,360 300,358 z\" fill=\"#3e5d62\" fill-opacity=\"1.0\" id=\"x3e5d62_r62_g93_b98_shape1\"/><path d=\"M 315,360 315,355 320,355 320,360 z\" fill=\"#37525d\" fill-opacity=\"1.0\" id=\"x37525d_r55_g82_b93_shape1\"/><path d=\"M 325,355 325,360 320,360 320,355 z\" fill=\"#364e58\" fill-opacity=\"1.0\" id=\"x364e58_r54_g78_b88_shape1\"/><path d=\"M 329,355 330,355 330,357 330,360 325,360 325,359 325,356 325,355 327,355 z\" fill=\"#324b50\" fill-opacity=\"1.0\" id=\"x324b50_r50_g75_b80_shape1\"/><path d=\"M 340,360 335,360 335,355 340,355 z\" fill=\"#2c4448\" fill-opacity=\"1.0\" id=\"x2c4448_r44_g68_b72_shape1\"/><path d=\"M 350,355 350,360 345,360 345,355 z\" fill=\"#1e2d32\" fill-opacity=\"1.0\" id=\"x1e2d32_r30_g45_b50_shape1\"/><path d=\"M 355,360 350,360 350,355 355,355 z\" fill=\"#141b23\" fill-opacity=\"1.0\" id=\"x141b23_r20_g27_b35_shape1\"/><path d=\"M 360,358 360,360 359,360 356,360 355,360 355,358 355,356 355,355 357,355 358,355 360,355 360,356 z\" fill=\"#010005\" fill-opacity=\"1.0\" id=\"x010005_r1_g0_b5_shape1\"/></g><g/></svg>"
      ],
      "text/plain": [
       "<IPython.core.display.SVG object>"
      ]
     },
     "metadata": {},
     "output_type": "display_data"
    }
   ],
   "source": [
    "from pixels2svg import Drawing, pixels2svg\n",
    "test_output= f\"pixelate{1}.png\"\n",
    "display_img_path(test_output.replace('png', 'svg'))"
   ]
  },
  {
   "cell_type": "code",
   "execution_count": 149,
   "id": "bd6afb64-5dfb-46a0-be86-6af7a65b4339",
   "metadata": {},
   "outputs": [],
   "source": [
    "#paths[10000:15000:100]"
   ]
  },
  {
   "cell_type": "code",
   "execution_count": 124,
   "id": "43cf2397-74e4-4dc0-bfc2-f5f17aa4e5c0",
   "metadata": {},
   "outputs": [],
   "source": [
    "\n",
    "\n",
    "def convert_pixelated_to_svg(SPACESHIPS_PNG_PATH, output_path):\n",
    "    svg_img = pixels2svg(SPACESHIPS_PNG_PATH,\n",
    "                         remove_background=True)\n",
    "    output_path = path.join(output_path)\n",
    "    svg_img.save_to_path(output_path)\n",
    "    return svg_img\n",
    "\n",
    "\n",
    "output = convert_pixelated_to_svg(\"pixelate.png\", \"output.svg\")"
   ]
  },
  {
   "cell_type": "code",
   "execution_count": 111,
   "id": "dc137922-5179-4c35-bd76-b392d8f27499",
   "metadata": {},
   "outputs": [
    {
     "data": {
      "image/png": "[encoded data removed]",
      "text/plain": [
       "<PIL.Image.Image image mode=RGB size=640x360>"
      ]
     },
     "execution_count": 111,
     "metadata": {},
     "output_type": "execute_result"
    }
   ],
   "source": []
  },
  {
   "cell_type": "code",
   "execution_count": 118,
   "id": "04249c14-3573-4263-864c-434699cef3bd",
   "metadata": {},
   "outputs": [
    {
     "ename": "ImportError",
     "evalue": "cannot import name 'export' from 'lottie' (/home/adnan/micromamba/envs/sam/lib/python3.10/site-packages/lottie/__init__.py)",
     "output_type": "error",
     "traceback": [
      "\u001b[0;31m---------------------------------------------------------------------------\u001b[0m",
      "\u001b[0;31mImportError\u001b[0m                               Traceback (most recent call last)",
      "Cell \u001b[0;32mIn[118], line 6\u001b[0m\n\u001b[1;32m      4\u001b[0m \u001b[38;5;28;01mimport\u001b[39;00m \u001b[38;5;21;01mjson\u001b[39;00m\n\u001b[1;32m      5\u001b[0m \u001b[38;5;28;01mfrom\u001b[39;00m \u001b[38;5;21;01msvgpathtools\u001b[39;00m \u001b[38;5;28;01mimport\u001b[39;00m svg2paths\n\u001b[0;32m----> 6\u001b[0m \u001b[38;5;28;01mfrom\u001b[39;00m \u001b[38;5;21;01mlottie\u001b[39;00m \u001b[38;5;28;01mimport\u001b[39;00m objects, export\n",
      "\u001b[0;31mImportError\u001b[0m: cannot import name 'export' from 'lottie' (/home/adnan/micromamba/envs/sam/lib/python3.10/site-packages/lottie/__init__.py)"
     ]
    }
   ],
   "source": [
    "#! pip install lottie svgpathtools\n",
    "\n",
    "import os\n",
    "import json\n",
    "from svgpathtools import svg2paths\n",
    "from lottie import objects, export"
   ]
  },
  {
   "cell_type": "code",
   "execution_count": null,
   "id": "b79caa23-aefb-4ac1-a7cf-c1ad28109ecc",
   "metadata": {},
   "outputs": [],
   "source": []
  },
  {
   "cell_type": "code",
   "execution_count": 114,
   "id": "5480a51f-ead4-41bc-9e47-32d11a64d01e",
   "metadata": {},
   "outputs": [],
   "source": [
    "from os import path\n",
    "import os\n",
    "from pixels2svg import pixels2svg\n",
    "#ass_dir = 'Easy Falling Leaves - Adobe After Effects tutorial/'\n",
    "#base_dir = 'youtube/output_frames/'\n",
    "#source_dir = base_dir + ass_dir\n",
    "#list_img_to_svg = os.listdir(source_dir)\n",
    "#print ('img count ', len(list_img_to_svg))\n",
    "#shit_dir = os.listdir(ass_dir)\n",
    "#i = len(shit_dir)\n",
    "#print(i)\n",
    "def convert_pixelated_to_svg(SPACESHIPS_PNG_PATH, output_path):\n",
    "    svg_img = pixels2svg(SPACESHIPS_PNG_PATH,\n",
    "                         remove_background=True)\n",
    "    output_path = path.join(output_path)\n",
    "    svg_img.save_to_path(output_path)\n",
    "    return output\n"
   ]
  },
  {
   "cell_type": "code",
   "execution_count": 63,
   "id": "2fd226da-b0de-4d01-8ec8-27612bb5c2c5",
   "metadata": {},
   "outputs": [],
   "source": [
    "from IPython.display import display, SVG\n",
    "\n",
    "# Path to your SVG file\n",
    "svg_file_path = './spaceships.svg'\n",
    "svg_file_path = 'output_image_improved.svg'\n",
    "\n",
    "# Display the SVG file\n",
    "#display(SVG(filename=svg_file_path))\n"
   ]
  },
  {
   "cell_type": "code",
   "execution_count": 16,
   "id": "10bdfe67-cb9e-428c-a744-152b76a75170",
   "metadata": {},
   "outputs": [],
   "source": [
    "# process images = \n",
    "\n",
    "# label frames -> dsicard non needed\n",
    "# semantic segemenatiaon -> discard pixels not neded \n",
    "# someconvert from bitmap to svg -> triangulate using earcut \n",
    "\n",
    "\n",
    "\n",
    "# for image in os.listdir('youtube/output_frames/ohshc__Finding_out_Haruhi_is_a_girl/')[:5]:\n",
    "  \n",
    "#     #img = PILImage.open(f\"output_frames/ohshc__Finding_out_Haruhi_is_a_girl/{image}\")\n",
    "#     print(image)\n",
    "#     mask_generate(image)\n",
    "#     #mask_generate(f\"output_frames/ohshc__Finding_out_Haruhi_is_a_girl/{image}\")\n",
    "#     #display(img)\n",
    "#     time.sleep(3)\n",
    "\n",
    "#test_display = 'output_frames/ohshc__Finding_out_Haruhi_is_a_girl/frame_00428.jpg'\n",
    "# Open and display the image\n",
    "#img = PILImage.open(test_display)\n",
    "#display(img)\n",
    "\n"
   ]
  },
  {
   "cell_type": "code",
   "execution_count": 76,
   "id": "c82e0688-dadd-450f-bc74-4281ac543c54",
   "metadata": {},
   "outputs": [
    {
     "data": {
      "text/plain": [
       "['frame_01268.jpg',\n",
       " 'frame_00428.jpg',\n",
       " 'frame_00049.jpg',\n",
       " 'frame_01609.jpg',\n",
       " 'frame_00098.jpg']"
      ]
     },
     "execution_count": 76,
     "metadata": {},
     "output_type": "execute_result"
    }
   ],
   "source": [
    "import cv2\n",
    "import numpy as np\n",
    "import os\n",
    "import svgwrite\n",
    "\n",
    "# Load the image using OpenCV\n",
    "\n",
    "def masks_to_svg(image_path):\n",
    "    #image_path = '/mnt/data/image.png'  # Path to your image\n",
    "    #return \n",
    "    print(image_path)\n",
    "    image = cv2.imread(f\"youtube/semseg/ohshc__Finding_out_Haruhi_is_a_girl/{image_path}\")\n",
    "    \n",
    "    # Convert the image to grayscale\n",
    "    gray = cv2.cvtColor(image, cv2.COLOR_BGR2GRAY)\n",
    "    \n",
    "    # Apply edge detection or thresholding to simplify the image\n",
    "    ret, thresh = cv2.threshold(gray, 128, 255, cv2.THRESH_BINARY)\n",
    "    \n",
    "    # Find contours in the image\n",
    "    contours, hierarchy = cv2.findContours(thresh, cv2.RETR_EXTERNAL, cv2.CHAIN_APPROX_SIMPLE)\n",
    "\n",
    "    # Create an SVG drawing\n",
    "    svg_filename = 'youtube/svg/' + image_path.replace('.jpg', '.svg')\n",
    "    dwg = svgwrite.Drawing(svg_filename, profile='tiny')\n",
    "    \n",
    "    # Define the size of the SVG canvas\n",
    "    height, width = image.shape[:2]\n",
    "    dwg.viewbox(width=width, height=height)\n",
    "    \n",
    "    # Iterate through each contour and convert it to an SVG path\n",
    "    for contour in contours:\n",
    "        # Simplify the contour\n",
    "        approx = cv2.approxPolyDP(contour, 0.01 * cv2.arcLength(contour, True), True)\n",
    "        \n",
    "        # Create SVG path data\n",
    "        path_data = []\n",
    "        for point in approx:\n",
    "            x, y = point[0]\n",
    "            path_data.append(f'L{x},{y}')\n",
    "        \n",
    "        # Start path from the first point\n",
    "        if path_data:\n",
    "            path_data[0] = path_data[0].replace('L', 'M')  # Replace the first 'L' with 'M'\n",
    "        \n",
    "        # Join path data into a single string and close the path\n",
    "        path_str = ' '.join(path_data) + ' Z'\n",
    "        \n",
    "        # Add the path to the SVG\n",
    "        dwg.add(dwg.path(d=path_str, fill='none', stroke='black', stroke_width=1))\n",
    "    \n",
    "    # Save the SVG file\n",
    "    dwg.save()\n",
    "    \n",
    "    print(f\"SVG saved as {svg_filename}\")\n",
    "\n",
    "masks = os.listdir('youtube/semseg/ohshc__Finding_out_Haruhi_is_a_girl/')\n",
    "\n",
    "#os.listdir('youtube/semseg/ohshc__Finding_out_Haruhi_is_a_girl/')\n",
    "# for mask in masks: \n",
    "#     masks_to_svg(mask)\n",
    "masks"
   ]
  },
  {
   "cell_type": "code",
   "execution_count": 75,
   "id": "07e79ea8-4aac-49ed-93c5-90b3bba463d1",
   "metadata": {},
   "outputs": [
    {
     "name": "stdout",
     "output_type": "stream",
     "text": [
      "SVG saved as output_image_improved.svg\n"
     ]
    }
   ],
   "source": [
    "\n",
    "def masks_to_svg(image_path):\n",
    "    # Check if the file exists and can be opened\n",
    "    if not os.path.exists(image_path):\n",
    "        print(f\"Error: File {image_path} not found.\")\n",
    "        return\n",
    "    \n",
    "    # Read the image\n",
    "    image = cv2.imread(image_path)\n",
    "    \n",
    "    # Ensure the image was loaded successfully\n",
    "    if image is None:\n",
    "        print(f\"Error: Could not load image {image_path}.\")\n",
    "        return\n",
    "\n",
    "    # Convert the image to grayscale\n",
    "    gray = cv2.cvtColor(image, cv2.COLOR_BGR2GRAY)\n",
    "\n",
    "    # Apply Gaussian Blur to smooth the image and reduce noise\n",
    "    blurred = cv2.GaussianBlur(gray, (5, 5), 0)\n",
    "\n",
    "    # Adjust thresholding to detect stronger edges\n",
    "    ret, thresh = cv2.threshold(blurred, 100, 255, cv2.THRESH_BINARY)\n",
    "\n",
    "    # Find contours in the image\n",
    "    contours, hierarchy = cv2.findContours(thresh, cv2.RETR_EXTERNAL, cv2.CHAIN_APPROX_SIMPLE)\n",
    "\n",
    "    # Filter out small contours by area\n",
    "    min_contour_area = 100  # You can adjust this value to remove smaller details\n",
    "    contours = [c for c in contours if cv2.contourArea(c) > min_contour_area]\n",
    "\n",
    "    # Create an SVG drawing\n",
    "    svg_filename = 'output_image_improved.svg'\n",
    "    dwg = svgwrite.Drawing(svg_filename, profile='tiny')\n",
    "\n",
    "    # Define the size of the SVG canvas\n",
    "    height, width = image.shape[:2]\n",
    "    dwg.viewbox(width=width, height=height)\n",
    "\n",
    "    # Iterate through each contour and convert it to an SVG path\n",
    "    for contour in contours:\n",
    "        # Simplify the contour\n",
    "        approx = cv2.approxPolyDP(contour, 0.01 * cv2.arcLength(contour, True), True)\n",
    "        \n",
    "        # Create SVG path data\n",
    "        path_data = []\n",
    "        for point in approx:\n",
    "            x, y = point[0]\n",
    "            path_data.append(f'L{x},{y}')\n",
    "        \n",
    "        # Start path from the first point\n",
    "        if path_data:\n",
    "            path_data[0] = path_data[0].replace('L', 'M')  # Replace the first 'L' with 'M'\n",
    "        \n",
    "        # Join path data into a single string and close the path\n",
    "        path_str = ' '.join(path_data) + ' Z'\n",
    "        \n",
    "        # Add the path to the SVG\n",
    "        dwg.add(dwg.path(d=path_str, fill='none', stroke='black', stroke_width=1))\n",
    "\n",
    "    # Save the SVG file\n",
    "    dwg.save()\n",
    "\n",
    "    print(f\"SVG saved as {svg_filename}\")\n",
    "\n",
    "# Example usage\n",
    "test_image = 'youtube/semseg/ohshc__Finding_out_Haruhi_is_a_girl/frame_00049.jpg'\n",
    "#image_path = 'path_to_your_image.png'\n",
    "_ = masks_to_svg(test_image)\n",
    "_"
   ]
  },
  {
   "cell_type": "code",
   "execution_count": 47,
   "id": "4f019e74-8391-45a8-bc01-e79b8b40c5ae",
   "metadata": {},
   "outputs": [],
   "source": [
    "# #! pwd\n",
    "# references at bottom\n",
    "\n",
    "# print(cv2.getBuildInformation())\n",
    "#! pip install watchdog\n",
    "# hard + vlauable + fun (focus so single pointedly - evertything else fades away)\n",
    "# bookish like crodelia - yoga/tech like olvia or abby, \n",
    "# you know what you are now a bit - so you wont have any issues \n",
    "# look dont matter - behavior, leadership, self-ctornol, happy-mind, lifestyle = these are the foundation of a  happy relationship\n",
    "\n",
    "#youtube_86_motiongraphics_playlist  = 'https://www.youtube.com/playlist?list=PL79TBmLa4lTTq9w7AYjaLo9RSXkzrihVY'\n",
    "#xml_pase = 'https://myanimelist.net/rss.php?type=rw&u=rimmjob'\n",
    "\n",
    "# first -> dice ~100 papers, anime, youtube into frames\n",
    "# -> use vision transformer to label them\n",
    "\n",
    "\n",
    "# use 100 blogs -> use flux\n",
    "# get 100 prompts from 100 research papers \n",
    "# get 100 prompts from 100 anime \n",
    "# get 100 prompts from 100 youtube\n",
    "# prompts = label\n",
    "# prompt to gif + lottie\n",
    "\n",
    "\n",
    "# from transformers import ViTFeatureExtractor, ViTForImageClassification\n",
    "# from PIL import Image\n",
    "# import torch\n",
    "\n",
    "# # Load the pre-trained Vision Transformer model and feature extractor\n",
    "# model_name = 'google/vit-base-patch16-224'  # You can choose a different model as well\n",
    "# feature_extractor = ViTFeatureExtractor.from_pretrained(model_name)\n",
    "# model = ViTForImageClassification.from_pretrained(model_name)\n",
    "\n",
    "# # Set model to evaluation mode\n",
    "# model.eval()\n",
    "\n",
    "\n",
    "\n",
    "# def preprocess_frame(frame):\n",
    "#     # Convert the frame to PIL Image\n",
    "#     image = Image.fromarray(frame)\n",
    "    \n",
    "#     # Use the feature extractor to preprocess the image\n",
    "#     inputs = feature_extractor(images=image, return_tensors=\"pt\")\n",
    "    \n",
    "#     return inputs['pixel_values']\n",
    "\n",
    "\n",
    "\n",
    "# def label_frame(frame):\n",
    "#     # Preprocess the frame\n",
    "#     inputs = preprocess_frame(frame)\n",
    "    \n",
    "#     # Forward pass through the model\n",
    "#     with torch.no_grad():\n",
    "#         outputs = model(inputs)\n",
    "    \n",
    "#     # Get the predicted class\n",
    "#     predicted_class_idx = outputs.logits.argmax(-1).item()\n",
    "#     predicted_class_label = model.config.id2label[predicted_class_idx]\n",
    "    \n",
    "#     return predicted_class_label\n",
    "\n",
    "# # Example usage\n",
    "# import cv2\n",
    "# video_path = \"path_to_your_video.mp4\"\n",
    "# cap = cv2.VideoCapture(video_path)\n",
    "\n",
    "# while cap.isOpened():\n",
    "#     ret, frame = cap.read()\n",
    "#     if not ret:\n",
    "#         break\n",
    "\n",
    "#     # Get the label for the current frame\n",
    "#     label = label_frame(frame)\n",
    "#     print(f\"Frame Label: {label}\")\n",
    "\n",
    "# cap.release()\n",
    "\n",
    "\n",
    "# def label_frames_in_batch(frames):\n",
    "#     # Convert list of frames to list of PIL images\n",
    "#     images = [Image.fromarray(frame) for frame in frames]\n",
    "\n",
    "#     # Preprocess the batch of images\n",
    "#     inputs = feature_extractor(images=images, return_tensors=\"pt\")\n",
    "\n",
    "#     # Forward pass through the model\n",
    "#     with torch.no_grad():\n",
    "#         outputs = model(**inputs)\n",
    "    \n",
    "#     # Get the predicted classes\n",
    "#     predicted_classes = outputs.logits.argmax(-1).tolist()\n",
    "#     labels = [model.config.id2label[idx] for idx in predicted_classes]\n",
    "    \n",
    "#     return labels\n",
    "\n",
    "# # Example usage for batch processing\n",
    "# frames = [...]  # List of frames (images)\n",
    "# labels = label_frames_in_batch(frames)\n",
    "# for frame, label in zip(frames, labels):\n",
    "#     print(f\"Frame Label: {label}\")\n",
    "# get jp a prompt to animation api -> 5 animations - 4 hours - end at 6:30\n",
    "# new hashirama.com = animation api  - static caddy hashirama.html\n",
    "#  parse papers -> get summaries  -> sentence -> gif\n",
    "# youtube / audio -> summarizier -> make giffs out of sentences\n",
    "# type blog = asldfkasdlfkasf -> every kepress = new gif -> edit the pile of gifs and share them\n",
    "# use flux + all tricks \n",
    "#image\n",
    "#! wget https://silverfallsseed.com/wp-content/uploads/2015/12/cOSMOS-dAYDREAM-FIELD-20201-PETES-14.jpg\n",
    "\n",
    "#! mv  cOSMOS-dAYDREAM-FIELD-20201-PETES-14.jpg flower\n",
    "\n",
    "#! mv flower flower.jpg\n",
    "\n",
    "# fix for multi-day block - dont get blocked #1 rule -> files were empty -> fix = put files in fiels.hashirama -> look at them \n",
    "#! python -c \"import cv2; print(cv2.getBuildInformation())\" | grep -i ffmpeg\n",
    "#! pip install opencv-contrib-python \n",
    "# semantic seam carving - find arreas of high information entropy  or manual insert keysframs\n",
    "# downlaod video\n",
    "# slice input to frames\n",
    "# use semseg to get objects \n",
    "# img -> svg\n",
    "# squish into a lottie \n",
    "#! pip install pytubefix\n",
    "#https://github.com/pytube/pytube/issues/1894\n",
    "# _default_clients[\"ANDROID\"][\"context\"][\"client\"][\"clientVersion\"] = \"19.08.35\"\n",
    "# _default_clients[\"IOS\"][\"context\"][\"client\"][\"clientVersion\"] = \"19.08.35\"\n",
    "# _default_clients[\"ANDROID_EMBED\"][\"context\"][\"client\"][\"clientVersion\"] = \"19.08.35\"\n",
    "# _default_clients[\"IOS_EMBED\"][\"context\"][\"client\"][\"clientVersion\"] = \"19.08.35\"\n",
    "# _default_clients[\"IOS_MUSIC\"][\"context\"][\"client\"][\"clientVersion\"] = \"6.41\"\n",
    "# _default_clients[\"ANDROID_MUSIC\"] = _default_clients[\"ANDROID_CREATOR\"]\n",
    "# # where to save \n",
    "# can you use similar pipelines for lottie+robot\n",
    "#os.listdir('/home/adnan')\n",
    "#display_img('~/segment-anything-2/output.gif')\n",
    "# link of the video to be downloaded \n",
    "# using a gif - or an svg -> can use calculus to reverse engineer the data\n",
    "# or the function or the scales  - see today and tomororw = slope for ???\n",
    "# instantenous rate of chane\n",
    "# \n",
    "#!micromamba  install yt-dlp\n",
    "#!pip install pytube moviepy\n",
    "#apple = 'https://www.youtube.com/watch?v=cwCMV7LF6S4'\n",
    "#'https://www.youtube.com/watch?v=dQw4w9WgXcQ'\n",
    "#'?si=BvAYyjbT4dkoiM1E'\n",
    "#YouTube URL -> Select object / shapes via segmentanything2 -\n",
    "# > convert filtered video to frames -> for each frame convert to svg \n",
    "#-> svg + lottie transport = good? \n",
    "\n",
    "#deliveraves \n",
    "#1. apple - trust / stripe\n",
    "#2. 10 logos - trust / stripe\n",
    "#3. lgihtbulb - anime\n",
    "#4. flower -  anime\n",
    "#5. kensshin - anime\n",
    "#6. https://youtu.be/WUvTyaaNkzM?si=EXjJZgRb4nO4yOFi - math vis \n",
    "#7. ??? (didactism, \n",
    "# have segment 2 anything working\n",
    "\n",
    "# 1. adding a video\n",
    "\n",
    "# 2. then splitting into frames\n",
    "\n",
    "# 3. Then using segment to extract objects\n",
    "\n",
    "# 4. Then converting the animation to svg\n",
    "\n",
    "# 5. Then animation to lottie. \n",
    "#https://replicate.com/collections/utilities\n",
    "#https://replicate.com/collections/image-editing\n",
    "#https://huggingface.co/docs/diffusers/main/en/api/pipelines/flux\n",
    "#https://huggingface.co/black-forest-labs/FLUX.1-schnell/discussions/5#:~:text=Depends%20how%20fast%20you%20want,%2D%202%20bytes%20%2F%20param)).\n",
    "\n",
    "# Display the SVG\n",
    "#display(SVG(filename=svg_path))\n",
    "#https://jupyterlab.readthedocs.io/en/stable/user/extensions.html\n",
    "#https://github.com/jpmorganchase/python-training\n",
    "# https://github.com/observablehq/framework/blob/main/docs/lib/mosaic.md\n",
    "# https://docs.jupyter.org/en/latest/projects/incubator.html\n",
    "# https://www.ycombinator.com/companies/srcbook\n",
    "# https://www.ycombinator.com/companies/neptyne\n",
    "# https://github.com/dformoso/machine-learning-mindmap\n",
    "# https://www.fast.ai/\n",
    "# https://blog.jupyter.org/generative-ai-in-jupyter-3f7174824862\n",
    "# https://github.com/jupyterlab/jupyter-ai\n",
    "# https://app.lottiefiles.com/\n",
    "# https://news.ycombinator.com/item?id=41234424\n",
    "# https://creator.lottiefiles.com/?fileId=538b752c-2972-457d-9d49-64947206479b\n",
    "# https://github.com/fireship-io/animated-svg-demo\n",
    "# https://svg.io/download/2e62e1ed-b403-4137-b2b3-00221fa2994e\n",
    "# https://www.domoai.app/home?_gl=1*xxzt2g*_gcl_au*MTAzNjg0NTQzOS4xNzI2NjM5Nzg0\n",
    "\n",
    "\n",
    "# hopefully should be done in 2 hours\n",
    "#import pixels2svg\n",
    "#dir(   pixels2svg.__version__)\n",
    "# https://github.com/ValentinFrancois/pixels2svg/blob/main/examples/sword_outline.py\n",
    "# https://potrace.sourceforge.net/\n",
    "# https://github.com/ValentinFrancois/pixels2svg/blob/main/examples/sword_outline.py\n",
    "# https://www.google.com/search?q=sentence+transformers&oq=sentence+transformers&sourceid=chrome&ie=UTF-8\n",
    "# https://catherineh.github.io/programming/2018/04/04/pngs-to-embroidery-patterns\n",
    "# https://threejs.org/examples/?q=webgpu#webgpu_postprocessing_transition\n",
    "\n",
    "#https://replicate.com/explore?latest_models_page=2#latest-models"
   ]
  },
  {
   "cell_type": "code",
   "execution_count": null,
   "id": "772eaade-64f6-4c25-9dd8-92bce32c1066",
   "metadata": {},
   "outputs": [],
   "source": [
    "\"0:06 xubliminal 0:15 orthly  0:19 byter 0:23 reddit 0:30 plane 0:34 ignition 0:38 morrison brewery 0:47 allvit 0:56 upbound 1:03 pigeon post 1:08 bitmoji 1:12 ticket seats 1:18 paperplane games 1:25 sendinblue 1:32 beats\""
   ]
  }
 ],
 "metadata": {
  "kernelspec": {
   "display_name": "Python 3 (ipykernel)",
   "language": "python",
   "name": "python3"
  },
  "language_info": {
   "codemirror_mode": {
    "name": "ipython",
    "version": 3
   },
   "file_extension": ".py",
   "mimetype": "text/x-python",
   "name": "python",
   "nbconvert_exporter": "python",
   "pygments_lexer": "ipython3",
   "version": "3.10.14"
  }
 },
 "nbformat": 4,
 "nbformat_minor": 5
}
