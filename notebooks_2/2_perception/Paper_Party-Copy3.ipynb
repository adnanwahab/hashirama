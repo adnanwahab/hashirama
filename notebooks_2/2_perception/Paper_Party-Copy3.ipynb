{
 "cells": [
  {
   "cell_type": "code",
   "execution_count": 1,
   "id": "40d75b22-909b-445d-9dba-c7bfe9b69a4d",
   "metadata": {},
   "outputs": [
    {
     "name": "stdout",
     "output_type": "stream",
     "text": [
      "config.toml  gomod2nix.toml  Paper_Party.ipynb  \u001b[0m\u001b[01;34mstatic\u001b[0m/         \u001b[01;34mviews\u001b[0m/\n",
      "favicon.ico  go.sum          pyproject.toml     Untitled.ipynb\n",
      "flake.nix    hello.py        README.md          uv.lock\n",
      "go.mod       \u001b[01;32mmyapp\u001b[0m*          \u001b[01;34msrc\u001b[0m/               \u001b[01;34mvendor\u001b[0m/\n"
     ]
    }
   ],
   "source": [
    "ls"
   ]
  },
  {
   "cell_type": "code",
   "execution_count": 1,
   "id": "c193e91e-e5d1-4a0c-b54a-4163fec42de3",
   "metadata": {},
   "outputs": [
    {
     "name": "stdout",
     "output_type": "stream",
     "text": [
      "\u001b[2mAudited \u001b[1m2 packages\u001b[0m \u001b[2min 3ms\u001b[0m\u001b[0m\n"
     ]
    }
   ],
   "source": [
    "lol = 'https://scholar.google.de/citations?user=ZKtYLHwAAAAJ&hl=de'\n",
    "\n",
    "! uv pip install requests beautifulsoup4\n",
    "\n",
    "import requests\n",
    "from bs4 import BeautifulSoup\n",
    "\n",
    "# URL of the Google Scholar profile\n",
    "url = \"https://scholar.google.de/citations?user=ZKtYLHwAAAAJ&hl=de\"\n",
    "\n",
    "# Send a GET request to fetch the raw HTML content\n",
    "\n",
    "\n",
    "# If you want to extract other details, like the year or citation count, you can do so by locating other elements within the table.\n"
   ]
  },
  {
   "cell_type": "code",
   "execution_count": 4,
   "id": "225a1198-6e86-4016-9f03-9169a42e9e51",
   "metadata": {},
   "outputs": [
    {
     "name": "stdout",
     "output_type": "stream",
     "text": [
      "Downloading Chromium 128.0.6613.18 (playwright build v1129)\u001b[2m from https://playwright.azureedge.net/builds/chromium/1129/chromium-linux.zip\u001b[22m\n",
      "\u001b[1G162.8 MiB [                    ] 0% 0.0s\u001b[0K\u001b[1G162.8 MiB [                    ] 0% 13.9s\u001b[0K\u001b[1G162.8 MiB [                    ] 0% 8.3s\u001b[0K\u001b[1G162.8 MiB [                    ] 0% 5.3s\u001b[0K\u001b[1G162.8 MiB [                    ] 2% 2.9s\u001b[0K\u001b[1G162.8 MiB [=                   ] 5% 1.5s\u001b[0K\u001b[1G162.8 MiB [=                   ] 7% 1.3s\u001b[0K\u001b[1G162.8 MiB [==                  ] 8% 1.3s\u001b[0K\u001b[1G162.8 MiB [==                  ] 9% 1.2s\u001b[0K\u001b[1G162.8 MiB [==                  ] 11% 1.1s\u001b[0K\u001b[1G162.8 MiB [===                 ] 13% 1.1s\u001b[0K\u001b[1G162.8 MiB [===                 ] 14% 1.0s\u001b[0K\u001b[1G162.8 MiB [===                 ] 16% 1.0s\u001b[0K\u001b[1G162.8 MiB [====                ] 18% 0.9s\u001b[0K\u001b[1G162.8 MiB [====                ] 19% 0.9s\u001b[0K\u001b[1G162.8 MiB [====                ] 21% 0.9s\u001b[0K\u001b[1G162.8 MiB [=====               ] 22% 0.9s\u001b[0K\u001b[1G162.8 MiB [=====               ] 24% 0.9s\u001b[0K\u001b[1G162.8 MiB [=====               ] 25% 0.8s\u001b[0K\u001b[1G162.8 MiB [=====               ] 27% 0.8s\u001b[0K\u001b[1G162.8 MiB [======              ] 28% 0.8s\u001b[0K\u001b[1G162.8 MiB [======              ] 30% 0.8s\u001b[0K\u001b[1G162.8 MiB [======              ] 31% 0.8s\u001b[0K\u001b[1G162.8 MiB [=======             ] 33% 0.7s\u001b[0K\u001b[1G162.8 MiB [=======             ] 35% 0.7s\u001b[0K\u001b[1G162.8 MiB [=======             ] 37% 0.7s\u001b[0K\u001b[1G162.8 MiB [========            ] 38% 0.7s\u001b[0K\u001b[1G162.8 MiB [========            ] 40% 0.6s\u001b[0K\u001b[1G162.8 MiB [========            ] 42% 0.6s\u001b[0K\u001b[1G162.8 MiB [=========           ] 43% 0.6s\u001b[0K\u001b[1G162.8 MiB [=========           ] 45% 0.6s\u001b[0K\u001b[1G162.8 MiB [=========           ] 47% 0.6s\u001b[0K\u001b[1G162.8 MiB [==========          ] 48% 0.5s\u001b[0K\u001b[1G162.8 MiB [==========          ] 50% 0.5s\u001b[0K\u001b[1G162.8 MiB [==========          ] 52% 0.5s\u001b[0K\u001b[1G162.8 MiB [===========         ] 54% 0.5s\u001b[0K\u001b[1G162.8 MiB [===========         ] 55% 0.5s\u001b[0K\u001b[1G162.8 MiB [============        ] 57% 0.4s\u001b[0K\u001b[1G162.8 MiB [============        ] 59% 0.4s\u001b[0K\u001b[1G162.8 MiB [============        ] 61% 0.4s\u001b[0K\u001b[1G162.8 MiB [=============       ] 63% 0.4s\u001b[0K\u001b[1G162.8 MiB [=============       ] 64% 0.4s\u001b[0K\u001b[1G162.8 MiB [=============       ] 66% 0.3s\u001b[0K\u001b[1G162.8 MiB [==============      ] 68% 0.3s\u001b[0K\u001b[1G162.8 MiB [==============      ] 69% 0.3s\u001b[0K\u001b[1G162.8 MiB [==============      ] 71% 0.3s\u001b[0K\u001b[1G162.8 MiB [===============     ] 73% 0.3s\u001b[0K\u001b[1G162.8 MiB [===============     ] 74% 0.3s\u001b[0K\u001b[1G162.8 MiB [===============     ] 76% 0.2s\u001b[0K\u001b[1G162.8 MiB [================    ] 78% 0.2s\u001b[0K\u001b[1G162.8 MiB [================    ] 80% 0.2s\u001b[0K\u001b[1G162.8 MiB [================    ] 81% 0.2s\u001b[0K\u001b[1G162.8 MiB [=================   ] 83% 0.2s\u001b[0K\u001b[1G162.8 MiB [=================   ] 85% 0.1s\u001b[0K\u001b[1G162.8 MiB [=================   ] 86% 0.1s\u001b[0K\u001b[1G162.8 MiB [==================  ] 88% 0.1s\u001b[0K\u001b[1G162.8 MiB [==================  ] 90% 0.1s\u001b[0K\u001b[1G162.8 MiB [==================  ] 92% 0.1s\u001b[0K\u001b[1G162.8 MiB [=================== ] 93% 0.1s\u001b[0K\u001b[1G162.8 MiB [=================== ] 95% 0.0s\u001b[0K\u001b[1G162.8 MiB [=================== ] 96% 0.0s\u001b[0K\u001b[1G162.8 MiB [====================] 98% 0.0s\u001b[0K\u001b[1G162.8 MiB [====================] 100% 0.0s\u001b[0K\n",
      "Chromium 128.0.6613.18 (playwright build v1129) downloaded to /home/adnan/.cache/ms-playwright/chromium-1129\n",
      "Downloading FFMPEG playwright build v1009\u001b[2m from https://playwright.azureedge.net/builds/ffmpeg/1009/ffmpeg-linux.zip\u001b[22m\n",
      "\u001b[1G2.6 MiB [                    ] 0% 0.0s\u001b[0K\u001b[1G2.6 MiB [=                   ] 4% 0.3s\u001b[0K\u001b[1G2.6 MiB [===                 ] 15% 0.2s\u001b[0K\u001b[1G2.6 MiB [=========           ] 42% 0.1s\u001b[0K\u001b[1G2.6 MiB [====================] 100% 0.0s\u001b[0K\n",
      "FFMPEG playwright build v1009 downloaded to /home/adnan/.cache/ms-playwright/ffmpeg-1009\n",
      "Downloading Firefox 128.0 (playwright build v1458)\u001b[2m from https://playwright.azureedge.net/builds/firefox/1458/firefox-ubuntu-24.04.zip\u001b[22m\n",
      "\u001b[1G85.6 MiB [                    ] 0% 0.0s\u001b[0K\u001b[1G85.6 MiB [                    ] 0% 8.8s\u001b[0K\u001b[1G85.6 MiB [                    ] 0% 6.0s\u001b[0K\u001b[1G85.6 MiB [                    ] 1% 2.6s\u001b[0K\u001b[1G85.6 MiB [=                   ] 3% 1.7s\u001b[0K\u001b[1G85.6 MiB [=                   ] 5% 1.5s\u001b[0K\u001b[1G85.6 MiB [=                   ] 7% 1.3s\u001b[0K\u001b[1G85.6 MiB [==                  ] 9% 1.2s\u001b[0K\u001b[1G85.6 MiB [==                  ] 9% 1.3s\u001b[0K\u001b[1G85.6 MiB [==                  ] 9% 1.4s\u001b[0K\u001b[1G85.6 MiB [==                  ] 10% 1.5s\u001b[0K\u001b[1G85.6 MiB [==                  ] 11% 1.6s\u001b[0K\u001b[1G85.6 MiB [==                  ] 12% 1.7s\u001b[0K\u001b[1G85.6 MiB [===                 ] 12% 1.7s\u001b[0K\u001b[1G85.6 MiB [===                 ] 15% 1.5s\u001b[0K\u001b[1G85.6 MiB [====                ] 17% 1.3s\u001b[0K\u001b[1G85.6 MiB [====                ] 18% 1.4s\u001b[0K\u001b[1G85.6 MiB [====                ] 18% 1.5s\u001b[0K\u001b[1G85.6 MiB [====                ] 19% 1.5s\u001b[0K\u001b[1G85.6 MiB [====                ] 20% 1.5s\u001b[0K\u001b[1G85.6 MiB [=====               ] 23% 1.4s\u001b[0K\u001b[1G85.6 MiB [=====               ] 26% 1.2s\u001b[0K\u001b[1G85.6 MiB [======              ] 28% 2.6s\u001b[0K\u001b[1G85.6 MiB [======              ] 29% 2.5s\u001b[0K\u001b[1G85.6 MiB [======              ] 30% 2.5s\u001b[0K\u001b[1G85.6 MiB [======              ] 31% 2.4s\u001b[0K\u001b[1G85.6 MiB [=======             ] 33% 2.2s\u001b[0K\u001b[1G85.6 MiB [=======             ] 35% 2.0s\u001b[0K\u001b[1G85.6 MiB [=======             ] 37% 2.0s\u001b[0K\u001b[1G85.6 MiB [========            ] 37% 2.0s\u001b[0K\u001b[1G85.6 MiB [========            ] 38% 2.1s\u001b[0K\u001b[1G85.6 MiB [========            ] 39% 2.1s\u001b[0K\u001b[1G85.6 MiB [========            ] 40% 2.1s\u001b[0K\u001b[1G85.6 MiB [========            ] 40% 2.0s\u001b[0K\u001b[1G85.6 MiB [========            ] 41% 2.0s\u001b[0K\u001b[1G85.6 MiB [=========           ] 43% 1.8s\u001b[0K\u001b[1G85.6 MiB [=========           ] 46% 1.7s\u001b[0K\u001b[1G85.6 MiB [=========           ] 47% 1.7s\u001b[0K\u001b[1G85.6 MiB [==========          ] 48% 1.7s\u001b[0K\u001b[1G85.6 MiB [==========          ] 48% 1.6s\u001b[0K\u001b[1G85.6 MiB [==========          ] 49% 1.6s\u001b[0K\u001b[1G85.6 MiB [==========          ] 51% 1.5s\u001b[0K\u001b[1G85.6 MiB [===========         ] 55% 1.3s\u001b[0K\u001b[1G85.6 MiB [===========         ] 56% 1.3s\u001b[0K\u001b[1G85.6 MiB [===========         ] 57% 1.3s\u001b[0K\u001b[1G85.6 MiB [============        ] 57% 1.3s\u001b[0K\u001b[1G85.6 MiB [============        ] 58% 1.3s\u001b[0K\u001b[1G85.6 MiB [============        ] 59% 1.3s\u001b[0K\u001b[1G85.6 MiB [============        ] 60% 1.2s\u001b[0K\u001b[1G85.6 MiB [============        ] 61% 1.2s\u001b[0K\u001b[1G85.6 MiB [============        ] 62% 1.1s\u001b[0K\u001b[1G85.6 MiB [=============       ] 62% 1.1s\u001b[0K\u001b[1G85.6 MiB [=============       ] 63% 1.1s\u001b[0K\u001b[1G85.6 MiB [=============       ] 64% 1.1s\u001b[0K\u001b[1G85.6 MiB [=============       ] 65% 1.0s\u001b[0K\u001b[1G85.6 MiB [=============       ] 65% 1.2s\u001b[0K\u001b[1G85.6 MiB [=============       ] 65% 1.3s\u001b[0K\u001b[1G85.6 MiB [=============       ] 66% 1.3s\u001b[0K\u001b[1G85.6 MiB [=============       ] 66% 1.4s\u001b[0K\u001b[1G85.6 MiB [=============       ] 67% 1.4s\u001b[0K\u001b[1G85.6 MiB [==============      ] 67% 1.4s\u001b[0K\u001b[1G85.6 MiB [==============      ] 68% 1.3s\u001b[0K\u001b[1G85.6 MiB [==============      ] 69% 1.3s\u001b[0K\u001b[1G85.6 MiB [==============      ] 71% 1.2s\u001b[0K\u001b[1G85.6 MiB [===============     ] 74% 1.0s\u001b[0K\u001b[1G85.6 MiB [===============     ] 75% 1.0s\u001b[0K\u001b[1G85.6 MiB [===============     ] 76% 1.0s\u001b[0K\u001b[1G85.6 MiB [===============     ] 76% 0.9s\u001b[0K\u001b[1G85.6 MiB [================    ] 78% 0.9s\u001b[0K\u001b[1G85.6 MiB [================    ] 80% 0.7s\u001b[0K\u001b[1G85.6 MiB [=================   ] 83% 0.6s\u001b[0K\u001b[1G85.6 MiB [=================   ] 84% 0.6s\u001b[0K\u001b[1G85.6 MiB [=================   ] 85% 0.5s\u001b[0K\u001b[1G85.6 MiB [=================   ] 86% 0.5s\u001b[0K\u001b[1G85.6 MiB [==================  ] 87% 0.5s\u001b[0K\u001b[1G85.6 MiB [==================  ] 90% 0.4s\u001b[0K\u001b[1G85.6 MiB [==================  ] 92% 0.3s\u001b[0K\u001b[1G85.6 MiB [=================== ] 93% 0.2s\u001b[0K\u001b[1G85.6 MiB [=================== ] 94% 0.2s\u001b[0K\u001b[1G85.6 MiB [=================== ] 96% 0.1s\u001b[0K\u001b[1G85.6 MiB [====================] 98% 0.1s\u001b[0K\u001b[1G85.6 MiB [====================] 100% 0.0s\u001b[0K\n",
      "Firefox 128.0 (playwright build v1458) downloaded to /home/adnan/.cache/ms-playwright/firefox-1458\n",
      "Downloading Webkit 18.0 (playwright build v2051)\u001b[2m from https://playwright.azureedge.net/builds/webkit/2051/webkit-ubuntu-24.04.zip\u001b[22m\n",
      "\u001b[1G87 MiB [                    ] 0% 0.0s\u001b[0K\u001b[1G87 MiB [                    ] 0% 8.1s\u001b[0K\u001b[1G87 MiB [                    ] 0% 4.5s\u001b[0K\u001b[1G87 MiB [                    ] 1% 3.8s\u001b[0K\u001b[1G87 MiB [                    ] 1% 3.2s\u001b[0K\u001b[1G87 MiB [=                   ] 2% 3.0s\u001b[0K\u001b[1G87 MiB [=                   ] 3% 2.7s\u001b[0K\u001b[1G87 MiB [=                   ] 4% 2.5s\u001b[0K\u001b[1G87 MiB [=                   ] 5% 2.4s\u001b[0K\u001b[1G87 MiB [=                   ] 6% 2.2s\u001b[0K\u001b[1G87 MiB [=                   ] 7% 2.1s\u001b[0K\u001b[1G87 MiB [==                  ] 8% 1.9s\u001b[0K\u001b[1G87 MiB [==                  ] 9% 1.8s\u001b[0K\u001b[1G87 MiB [==                  ] 11% 1.7s\u001b[0K\u001b[1G87 MiB [===                 ] 12% 1.5s\u001b[0K\u001b[1G87 MiB [===                 ] 14% 1.4s\u001b[0K\u001b[1G87 MiB [===                 ] 16% 1.3s\u001b[0K\u001b[1G87 MiB [====                ] 18% 1.2s\u001b[0K\u001b[1G87 MiB [====                ] 21% 1.1s\u001b[0K\u001b[1G87 MiB [=====               ] 23% 1.0s\u001b[0K\u001b[1G87 MiB [=====               ] 26% 0.9s\u001b[0K\u001b[1G87 MiB [======              ] 28% 0.9s\u001b[0K\u001b[1G87 MiB [======              ] 30% 0.8s\u001b[0K\u001b[1G87 MiB [=======             ] 33% 0.7s\u001b[0K\u001b[1G87 MiB [=======             ] 37% 0.7s\u001b[0K\u001b[1G87 MiB [========            ] 37% 0.7s\u001b[0K\u001b[1G87 MiB [========            ] 39% 0.6s\u001b[0K\u001b[1G87 MiB [=========           ] 43% 0.6s\u001b[0K\u001b[1G87 MiB [=========           ] 46% 0.5s\u001b[0K\u001b[1G87 MiB [==========          ] 47% 0.5s\u001b[0K\u001b[1G87 MiB [==========          ] 51% 0.5s\u001b[0K\u001b[1G87 MiB [===========         ] 55% 0.4s\u001b[0K\u001b[1G87 MiB [===========         ] 56% 0.4s\u001b[0K\u001b[1G87 MiB [============        ] 59% 0.4s\u001b[0K\u001b[1G87 MiB [=============       ] 63% 0.3s\u001b[0K\u001b[1G87 MiB [=============       ] 64% 0.3s\u001b[0K\u001b[1G87 MiB [=============       ] 65% 0.3s\u001b[0K\u001b[1G87 MiB [==============      ] 68% 0.3s\u001b[0K\u001b[1G87 MiB [===============     ] 72% 0.2s\u001b[0K\u001b[1G87 MiB [===============     ] 73% 0.2s\u001b[0K\u001b[1G87 MiB [===============     ] 74% 0.2s\u001b[0K\u001b[1G87 MiB [================    ] 77% 0.2s\u001b[0K\u001b[1G87 MiB [================    ] 82% 0.2s\u001b[0K\u001b[1G87 MiB [=================   ] 83% 0.1s\u001b[0K\u001b[1G87 MiB [=================   ] 84% 0.1s\u001b[0K\u001b[1G87 MiB [==================  ] 87% 0.1s\u001b[0K\u001b[1G87 MiB [==================  ] 91% 0.1s\u001b[0K\u001b[1G87 MiB [=================== ] 92% 0.1s\u001b[0K\u001b[1G87 MiB [=================== ] 93% 0.1s\u001b[0K\u001b[1G87 MiB [=================== ] 96% 0.0s\u001b[0K\u001b[1G87 MiB [====================] 99% 0.0s\u001b[0K\u001b[1G87 MiB [====================] 100% 0.0s\u001b[0K\n",
      "Webkit 18.0 (playwright build v2051) downloaded to /home/adnan/.cache/ms-playwright/webkit-2051\n"
     ]
    }
   ],
   "source": [
    "#! uv pip install pytest-playwright\n",
    "\n",
    "! playwright install\n"
   ]
  },
  {
   "cell_type": "code",
   "execution_count": 2,
   "id": "cb675e33-29e1-4d26-986a-df5007c7afae",
   "metadata": {},
   "outputs": [
    {
     "ename": "HTTPError",
     "evalue": "429 Client Error: Too Many Requests for url: https://scholar.google.de/citations?user=ZKtYLHwAAAAJ&hl=de",
     "output_type": "error",
     "traceback": [
      "\u001b[0;31m---------------------------------------------------------------------------\u001b[0m",
      "\u001b[0;31mHTTPError\u001b[0m                                 Traceback (most recent call last)",
      "Cell \u001b[0;32mIn[2], line 2\u001b[0m\n\u001b[1;32m      1\u001b[0m response \u001b[38;5;241m=\u001b[39m requests\u001b[38;5;241m.\u001b[39mget(url)\n\u001b[0;32m----> 2\u001b[0m \u001b[43mresponse\u001b[49m\u001b[38;5;241;43m.\u001b[39;49m\u001b[43mraise_for_status\u001b[49m\u001b[43m(\u001b[49m\u001b[43m)\u001b[49m  \u001b[38;5;66;03m# Check for any HTTP errors\u001b[39;00m\n\u001b[1;32m      4\u001b[0m \u001b[38;5;66;03m# Parse the HTML content with BeautifulSoup\u001b[39;00m\n\u001b[1;32m      5\u001b[0m soup \u001b[38;5;241m=\u001b[39m BeautifulSoup(response\u001b[38;5;241m.\u001b[39mtext, \u001b[38;5;124m'\u001b[39m\u001b[38;5;124mhtml.parser\u001b[39m\u001b[38;5;124m'\u001b[39m)\n",
      "File \u001b[0;32m~/.cache/uv/archive-v0/wXXf71JyZaDrJ0v08m39z/lib/python3.12/site-packages/requests/models.py:1024\u001b[0m, in \u001b[0;36mResponse.raise_for_status\u001b[0;34m(self)\u001b[0m\n\u001b[1;32m   1019\u001b[0m     http_error_msg \u001b[38;5;241m=\u001b[39m (\n\u001b[1;32m   1020\u001b[0m         \u001b[38;5;124mf\u001b[39m\u001b[38;5;124m\"\u001b[39m\u001b[38;5;132;01m{\u001b[39;00m\u001b[38;5;28mself\u001b[39m\u001b[38;5;241m.\u001b[39mstatus_code\u001b[38;5;132;01m}\u001b[39;00m\u001b[38;5;124m Server Error: \u001b[39m\u001b[38;5;132;01m{\u001b[39;00mreason\u001b[38;5;132;01m}\u001b[39;00m\u001b[38;5;124m for url: \u001b[39m\u001b[38;5;132;01m{\u001b[39;00m\u001b[38;5;28mself\u001b[39m\u001b[38;5;241m.\u001b[39murl\u001b[38;5;132;01m}\u001b[39;00m\u001b[38;5;124m\"\u001b[39m\n\u001b[1;32m   1021\u001b[0m     )\n\u001b[1;32m   1023\u001b[0m \u001b[38;5;28;01mif\u001b[39;00m http_error_msg:\n\u001b[0;32m-> 1024\u001b[0m     \u001b[38;5;28;01mraise\u001b[39;00m HTTPError(http_error_msg, response\u001b[38;5;241m=\u001b[39m\u001b[38;5;28mself\u001b[39m)\n",
      "\u001b[0;31mHTTPError\u001b[0m: 429 Client Error: Too Many Requests for url: https://scholar.google.de/citations?user=ZKtYLHwAAAAJ&hl=de"
     ]
    }
   ],
   "source": [
    "response = requests.get(url)\n",
    "response.raise_for_status()  # Check for any HTTP errors\n",
    "\n",
    "# Parse the HTML content with BeautifulSoup\n",
    "soup = BeautifulSoup(response.text, 'html.parser')\n",
    "\n",
    "# Find all paper titles (they are within <a> tags under the class 'gsc_a_at')\n",
    "papers = soup.find_all('a', class_='gsc_a_at')\n",
    "\n",
    "import time\n",
    "\n",
    "# Print out the titles of the papers\n",
    "for paper in papers:\n",
    "    time.sleep(5000)\n",
    "    print(paper.get_text())"
   ]
  },
  {
   "cell_type": "code",
   "execution_count": 2,
   "id": "25892aaf-c82a-485b-b468-d0ce2e1ca4d6",
   "metadata": {},
   "outputs": [
    {
     "ename": "HTTPError",
     "evalue": "429 Client Error: Too Many Requests for url: https://scholar.google.de/citations?user=ZKtYLHwAAAAJ&hl=de",
     "output_type": "error",
     "traceback": [
      "\u001b[0;31m---------------------------------------------------------------------------\u001b[0m",
      "\u001b[0;31mHTTPError\u001b[0m                                 Traceback (most recent call last)",
      "Cell \u001b[0;32mIn[2], line 2\u001b[0m\n\u001b[1;32m      1\u001b[0m response \u001b[38;5;241m=\u001b[39m requests\u001b[38;5;241m.\u001b[39mget(url)\n\u001b[0;32m----> 2\u001b[0m \u001b[43mresponse\u001b[49m\u001b[38;5;241;43m.\u001b[39;49m\u001b[43mraise_for_status\u001b[49m\u001b[43m(\u001b[49m\u001b[43m)\u001b[49m  \u001b[38;5;66;03m# Check for any HTTP errors\u001b[39;00m\n\u001b[1;32m      4\u001b[0m \u001b[38;5;66;03m# Parse the HTML content with BeautifulSoup\u001b[39;00m\n\u001b[1;32m      5\u001b[0m soup \u001b[38;5;241m=\u001b[39m BeautifulSoup(response\u001b[38;5;241m.\u001b[39mtext, \u001b[38;5;124m'\u001b[39m\u001b[38;5;124mhtml.parser\u001b[39m\u001b[38;5;124m'\u001b[39m)\n",
      "File \u001b[0;32m~/.cache/uv/archive-v0/wXXf71JyZaDrJ0v08m39z/lib/python3.12/site-packages/requests/models.py:1024\u001b[0m, in \u001b[0;36mResponse.raise_for_status\u001b[0;34m(self)\u001b[0m\n\u001b[1;32m   1019\u001b[0m     http_error_msg \u001b[38;5;241m=\u001b[39m (\n\u001b[1;32m   1020\u001b[0m         \u001b[38;5;124mf\u001b[39m\u001b[38;5;124m\"\u001b[39m\u001b[38;5;132;01m{\u001b[39;00m\u001b[38;5;28mself\u001b[39m\u001b[38;5;241m.\u001b[39mstatus_code\u001b[38;5;132;01m}\u001b[39;00m\u001b[38;5;124m Server Error: \u001b[39m\u001b[38;5;132;01m{\u001b[39;00mreason\u001b[38;5;132;01m}\u001b[39;00m\u001b[38;5;124m for url: \u001b[39m\u001b[38;5;132;01m{\u001b[39;00m\u001b[38;5;28mself\u001b[39m\u001b[38;5;241m.\u001b[39murl\u001b[38;5;132;01m}\u001b[39;00m\u001b[38;5;124m\"\u001b[39m\n\u001b[1;32m   1021\u001b[0m     )\n\u001b[1;32m   1023\u001b[0m \u001b[38;5;28;01mif\u001b[39;00m http_error_msg:\n\u001b[0;32m-> 1024\u001b[0m     \u001b[38;5;28;01mraise\u001b[39;00m HTTPError(http_error_msg, response\u001b[38;5;241m=\u001b[39m\u001b[38;5;28mself\u001b[39m)\n",
      "\u001b[0;31mHTTPError\u001b[0m: 429 Client Error: Too Many Requests for url: https://scholar.google.de/citations?user=ZKtYLHwAAAAJ&hl=de"
     ]
    }
   ],
   "source": [
    "response = requests.get(url)\n",
    "response.raise_for_status()  # Check for any HTTP errors\n",
    "\n",
    "# Parse the HTML content with BeautifulSoup\n",
    "soup = BeautifulSoup(response.text, 'html.parser')\n",
    "\n",
    "# Find all paper titles (they are within <a> tags under the class 'gsc_a_at')\n",
    "papers = soup.find_all('a', class_='gsc_a_at')\n",
    "\n",
    "import time\n",
    "\n",
    "# Print out the titles of the papers\n",
    "for paper in papers:\n",
    "    time.sleep(5000)\n",
    "    print(paper.get_text())"
   ]
  },
  {
   "cell_type": "code",
   "execution_count": 2,
   "id": "bb7e0008-80c0-47d2-804c-b223e3cb84c5",
   "metadata": {},
   "outputs": [
    {
     "name": "stdout",
     "output_type": "stream",
     "text": [
      "\u001b[2K\u001b[2mResolved \u001b[1m1 package\u001b[0m \u001b[2min 362ms\u001b[0m\u001b[0m                                          \u001b[0m\n",
      "\u001b[2mAudited \u001b[1m1 package\u001b[0m \u001b[2min 0.84ms\u001b[0m\u001b[0m\n",
      "\u001b[2K\u001b[2mResolved \u001b[1m21 packages\u001b[0m \u001b[2min 283ms\u001b[0m\u001b[0m                                        \u001b[0m\n",
      "\u001b[2K\u001b[2mPrepared \u001b[1m7 packages\u001b[0m \u001b[2min 843ms\u001b[0m\u001b[0m                                             \n",
      "\u001b[2K\u001b[2mInstalled \u001b[1m18 packages\u001b[0m \u001b[2min 118ms\u001b[0m\u001b[0m                              \u001b[0m\n",
      " \u001b[32m+\u001b[39m \u001b[1mcoloredlogs\u001b[0m\u001b[2m==15.0.1\u001b[0m\n",
      " \u001b[32m+\u001b[39m \u001b[1mcontourpy\u001b[0m\u001b[2m==1.3.0\u001b[0m\n",
      " \u001b[32m+\u001b[39m \u001b[1mcycler\u001b[0m\u001b[2m==0.12.1\u001b[0m\n",
      " \u001b[32m+\u001b[39m \u001b[1mflatbuffers\u001b[0m\u001b[2m==24.3.25\u001b[0m\n",
      " \u001b[32m+\u001b[39m \u001b[1mfonttools\u001b[0m\u001b[2m==4.53.1\u001b[0m\n",
      " \u001b[32m+\u001b[39m \u001b[1mhumanfriendly\u001b[0m\u001b[2m==10.0\u001b[0m\n",
      " \u001b[32m+\u001b[39m \u001b[1mkiwisolver\u001b[0m\u001b[2m==1.4.5\u001b[0m\n",
      " \u001b[32m+\u001b[39m \u001b[1mmatplotlib\u001b[0m\u001b[2m==3.9.2\u001b[0m\n",
      " \u001b[32m+\u001b[39m \u001b[1mmpmath\u001b[0m\u001b[2m==1.3.0\u001b[0m\n",
      " \u001b[32m+\u001b[39m \u001b[1mnumpy\u001b[0m\u001b[2m==2.1.0\u001b[0m\n",
      " \u001b[32m+\u001b[39m \u001b[1monnx\u001b[0m\u001b[2m==1.16.2\u001b[0m\n",
      " \u001b[32m+\u001b[39m \u001b[1monnxruntime\u001b[0m\u001b[2m==1.19.0\u001b[0m\n",
      " \u001b[32m+\u001b[39m \u001b[1mopencv-python\u001b[0m\u001b[2m==4.10.0.84\u001b[0m\n",
      " \u001b[32m+\u001b[39m \u001b[1mpillow\u001b[0m\u001b[2m==10.4.0\u001b[0m\n",
      " \u001b[32m+\u001b[39m \u001b[1mprotobuf\u001b[0m\u001b[2m==5.28.0\u001b[0m\n",
      " \u001b[32m+\u001b[39m \u001b[1mpycocotools\u001b[0m\u001b[2m==2.0.8\u001b[0m\n",
      " \u001b[32m+\u001b[39m \u001b[1mpyparsing\u001b[0m\u001b[2m==3.1.4\u001b[0m\n",
      " \u001b[32m+\u001b[39m \u001b[1msympy\u001b[0m\u001b[2m==1.13.2\u001b[0m\n"
     ]
    }
   ],
   "source": [
    "#! uv pip install git+https://github.com/facebookresearch/segment-anything.git\n",
    "! uv pip install opencv-python pycocotools matplotlib onnxruntime onnx\n"
   ]
  },
  {
   "cell_type": "code",
   "execution_count": null,
   "id": "479df9ad-9ae5-48a5-9d18-2dd0daa61f9f",
   "metadata": {},
   "outputs": [],
   "source": [
    "from segment_anything import SamPredictor, sam_model_registry\n",
    "sam = sam_model_registry[\"<model_type>\"](checkpoint=\"<path/to/checkpoint>\")\n",
    "predictor = SamPredictor(sam)\n",
    "predictor.set_image(<your_image>)\n",
    "masks, _, _ = predictor.predict(<input_prompts>)"
   ]
  }
 ],
 "metadata": {
  "kernelspec": {
   "display_name": "Python 3 (ipykernel)",
   "language": "python",
   "name": "python3"
  },
  "language_info": {
   "codemirror_mode": {
    "name": "ipython",
    "version": 3
   },
   "file_extension": ".py",
   "mimetype": "text/x-python",
   "name": "python",
   "nbconvert_exporter": "python",
   "pygments_lexer": "ipython3",
   "version": "3.12.3"
  }
 },
 "nbformat": 4,
 "nbformat_minor": 5
}
